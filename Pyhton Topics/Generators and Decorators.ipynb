{
 "cells": [
  {
   "cell_type": "markdown",
   "metadata": {},
   "source": [
    "# Generaors and Decorators\n",
    "\n",
    "Generator functions give you a short cut for supporting the iterator protocol and aviod the verbosity ofj class-based iterators. \n",
    "![](https://dbader.org/static/figures/iterators-syntactic-sweetness.jpg)\n",
    "\n",
    "##### Quick Start (notebook excerpt)"
   ]
  },
  {
   "cell_type": "markdown",
   "metadata": {},
   "source": [
    "###### Parameterizing Decorators\n",
    "\n",
    "Below is an example of decorator that repeats the execution of a decorated funciton a specified numnber of times every time it is called"
   ]
  },
  {
   "cell_type": "code",
   "execution_count": 17,
   "metadata": {},
   "outputs": [],
   "source": [
    "def repeat(number=3): \n",
    "    \"\"\"Cause decorated function to be repeated a number of times. \n",
    "     \n",
    "    Last value of original function call is returned as a result.\n",
    "    \n",
    "    :param number: number of repetitions, 3 if not specified \n",
    "    \"\"\" \n",
    "    def actual_decorator(function): \n",
    "        def wrapper(*args, **kwargs): \n",
    "            result = None \n",
    "            for _ in range(number): \n",
    "                result = function(*args, **kwargs) \n",
    "            return result \n",
    "        return wrapper \n",
    "    return actual_decorator\n",
    "\n",
    "\n",
    "@repeat(2)\n",
    "def print_my_call():\n",
    "    print(\"print_my_call() called!\")"
   ]
  },
  {
   "cell_type": "code",
   "execution_count": 18,
   "metadata": {},
   "outputs": [
    {
     "name": "stdout",
     "output_type": "stream",
     "text": [
      "print_my_call() called!\n",
      "print_my_call() called!\n"
     ]
    }
   ],
   "source": [
    "print_my_call()"
   ]
  },
  {
   "cell_type": "markdown",
   "metadata": {},
   "source": [
    "## Enumeration \n",
    "\n",
    "Symbolic enumerations are similar to dictionaries and named tuples bc they map names/keys to values. The main difference is that the `Enum` defiition is __immutable__ and __global__. It should be used whenever there is a closed set of possible values that _cant change dynamically during program runtime_.\n",
    "\n",
    "Dictionaries and named tuples are data containers - we can create as many as we like. \n",
    "\n",
    "[Expert Py Programming 3e](https://learning.oreilly.com/library/view/expert-python-programming/9781789808896/ee482d50-d26b-46ea-a318-5e974fb5449a.xhtml)\n",
    "\n",
    "#### Symbolic enumeration with the enum module"
   ]
  },
  {
   "cell_type": "code",
   "execution_count": 1,
   "metadata": {},
   "outputs": [],
   "source": [
    "from enum import Enum, auto\n",
    "\n",
    "class Weekday(Enum):\n",
    "    MONDAY = 0\n",
    "    TUESDAY = 1\n",
    "    WEDNESDAY = 2\n",
    "    THURSDAY = 3\n",
    "    FRIDAY = 4\n",
    "    SATURDAY = auto()\n",
    "    SUNDAY = auto()"
   ]
  },
  {
   "cell_type": "code",
   "execution_count": 2,
   "metadata": {},
   "outputs": [
    {
     "data": {
      "text/plain": [
       "' - name is MONDAY - value is 0'"
      ]
     },
     "execution_count": 2,
     "metadata": {},
     "output_type": "execute_result"
    }
   ],
   "source": [
    "f' - name is {Weekday.MONDAY.name} \\\n",
    "- value is {Weekday.MONDAY.value}'"
   ]
  },
  {
   "cell_type": "markdown",
   "metadata": {},
   "source": [
    "use the `enum.auto()` function that cna replace values with automatically generated values. such as below"
   ]
  },
  {
   "cell_type": "code",
   "execution_count": 3,
   "metadata": {},
   "outputs": [
    {
     "data": {
      "text/plain": [
       "<Weekday.SUNDAY: 6>"
      ]
     },
     "execution_count": 3,
     "metadata": {},
     "output_type": "execute_result"
    }
   ],
   "source": [
    "Weekday.SUNDAY"
   ]
  },
  {
   "cell_type": "code",
   "execution_count": null,
   "metadata": {},
   "outputs": [],
   "source": []
  },
  {
   "cell_type": "code",
   "execution_count": 6,
   "metadata": {},
   "outputs": [],
   "source": [
    "from enum import Enum, auto\n",
    "\n",
    "\n",
    "class OrderStatus(Enum):\n",
    "    PENDING = auto()\n",
    "    PROCESSING = auto()\n",
    "    PROCESSED = auto()\n",
    "\n",
    "\n",
    "class Order:\n",
    "    def __init__(self):\n",
    "        self.status = OrderStatus.PENDING\n",
    "\n",
    "    def process(self):\n",
    "        if self.status == OrderStatus.PROCESSED:\n",
    "            raise RuntimeError(\n",
    "                \"Can't process order that has \"\n",
    "                \"been already processed\"\n",
    "            )\n",
    "\n",
    "        self.status = OrderStatus.PROCESSING\n",
    "        ...\n",
    "        self.status = OrderStatus.PROCESSED\n"
   ]
  },
  {
   "cell_type": "code",
   "execution_count": 12,
   "metadata": {},
   "outputs": [
    {
     "data": {
      "text/plain": [
       "{'status': <OrderStatus.PENDING: 1>}"
      ]
     },
     "execution_count": 12,
     "metadata": {},
     "output_type": "execute_result"
    }
   ],
   "source": [
    "k = Order()\n",
    "k.__dict__"
   ]
  },
  {
   "cell_type": "code",
   "execution_count": 13,
   "metadata": {},
   "outputs": [
    {
     "data": {
      "text/plain": [
       "{'status': <OrderStatus.PROCESSED: 3>}"
      ]
     },
     "execution_count": 13,
     "metadata": {},
     "output_type": "execute_result"
    }
   ],
   "source": [
    "k.process()\n",
    "k.__dict__"
   ]
  },
  {
   "cell_type": "code",
   "execution_count": null,
   "metadata": {},
   "outputs": [],
   "source": []
  },
  {
   "cell_type": "code",
   "execution_count": 14,
   "metadata": {},
   "outputs": [],
   "source": [
    "from enum import Flag, auto\n",
    "\n",
    "\n",
    "class Side(Flag):\n",
    "    GUACAMOLE = auto()\n",
    "    TORTILLA = auto()\n",
    "    FRIES = auto()\n",
    "    BEER = auto()\n",
    "    POTATO_SALAD = auto()"
   ]
  },
  {
   "cell_type": "code",
   "execution_count": 15,
   "metadata": {},
   "outputs": [
    {
     "data": {
      "text/plain": [
       "{'_name_': None, '_value_': 11}"
      ]
     },
     "execution_count": 15,
     "metadata": {},
     "output_type": "execute_result"
    }
   ],
   "source": [
    "m = Side.GUACAMOLE | Side.BEER | Side.TORTILLA\n",
    "m.__dict__"
   ]
  },
  {
   "cell_type": "code",
   "execution_count": 19,
   "metadata": {},
   "outputs": [
    {
     "data": {
      "text/plain": [
       "11"
      ]
     },
     "execution_count": 19,
     "metadata": {},
     "output_type": "execute_result"
    }
   ],
   "source": [
    "Side.GUACAMOLE.value + Side.BEER.value + Side.TORTILLA.value"
   ]
  },
  {
   "cell_type": "code",
   "execution_count": 20,
   "metadata": {},
   "outputs": [
    {
     "data": {
      "text/plain": [
       "{'_name_': None, '_value_': 24}"
      ]
     },
     "execution_count": 20,
     "metadata": {},
     "output_type": "execute_result"
    }
   ],
   "source": [
    "b = Side.BEER | Side.POTATO_SALAD\n",
    "b.__dict__"
   ]
  },
  {
   "cell_type": "code",
   "execution_count": 21,
   "metadata": {},
   "outputs": [
    {
     "data": {
      "text/plain": [
       "{'_value_': 8, '_name_': 'BEER', '__objclass__': <enum 'Side'>}"
      ]
     },
     "execution_count": 21,
     "metadata": {},
     "output_type": "execute_result"
    }
   ],
   "source": [
    "common_sides = m & b\n",
    "common_sides.__dict__"
   ]
  },
  {
   "cell_type": "code",
   "execution_count": null,
   "metadata": {},
   "outputs": [],
   "source": []
  },
  {
   "cell_type": "markdown",
   "metadata": {},
   "source": [
    "## Iterators\n",
    "\n",
    "and __Iterator__ is nothing more than a container object that impleents the iterator protocol. The protocols consist of 2 methods:\n",
    "- `__next__` - return the next item of the containers\n",
    "- `__iter__` - returns the iterator itself\n",
    "\n",
    "__Iterators__ can be created from a sequence using the iter built-in function."
   ]
  },
  {
   "cell_type": "code",
   "execution_count": 42,
   "metadata": {},
   "outputs": [
    {
     "name": "stdout",
     "output_type": "stream",
     "text": [
      "a\n",
      "b\n",
      "c\n"
     ]
    },
    {
     "ename": "StopIteration",
     "evalue": "",
     "output_type": "error",
     "traceback": [
      "\u001b[0;31m---------------------------------------------------------------------------\u001b[0m",
      "\u001b[0;31mStopIteration\u001b[0m                             Traceback (most recent call last)",
      "\u001b[0;32m<ipython-input-42-2d100e0bf9f0>\u001b[0m in \u001b[0;36m<module>\u001b[0;34m\u001b[0m\n\u001b[1;32m      3\u001b[0m \u001b[0mprint\u001b[0m\u001b[0;34m(\u001b[0m\u001b[0mnext\u001b[0m\u001b[0;34m(\u001b[0m\u001b[0mi\u001b[0m\u001b[0;34m)\u001b[0m\u001b[0;34m)\u001b[0m\u001b[0;34m\u001b[0m\u001b[0;34m\u001b[0m\u001b[0m\n\u001b[1;32m      4\u001b[0m \u001b[0mprint\u001b[0m\u001b[0;34m(\u001b[0m\u001b[0mnext\u001b[0m\u001b[0;34m(\u001b[0m\u001b[0mi\u001b[0m\u001b[0;34m)\u001b[0m\u001b[0;34m)\u001b[0m\u001b[0;34m\u001b[0m\u001b[0;34m\u001b[0m\u001b[0m\n\u001b[0;32m----> 5\u001b[0;31m \u001b[0mprint\u001b[0m\u001b[0;34m(\u001b[0m\u001b[0mnext\u001b[0m\u001b[0;34m(\u001b[0m\u001b[0mi\u001b[0m\u001b[0;34m)\u001b[0m\u001b[0;34m)\u001b[0m\u001b[0;34m\u001b[0m\u001b[0;34m\u001b[0m\u001b[0m\n\u001b[0m",
      "\u001b[0;31mStopIteration\u001b[0m: "
     ]
    }
   ],
   "source": [
    "i = iter('abc')\n",
    "print(next(i))\n",
    "print(next(i))\n",
    "print(next(i))\n",
    "print(next(i))"
   ]
  },
  {
   "cell_type": "markdown",
   "metadata": {},
   "source": [
    "When the sequence is exhausted, a StopIteration exception is raised.It makes iterators compatible with loops, since they catch this exception as a signal to end the iteration."
   ]
  },
  {
   "cell_type": "code",
   "execution_count": 43,
   "metadata": {},
   "outputs": [],
   "source": [
    "class CountDown:\n",
    "    def __init__(self, step):\n",
    "        self.step = step\n",
    "\n",
    "    def __next__(self):\n",
    "        \"\"\"Return the next element.\"\"\"\n",
    "        if self.step <= 0:\n",
    "            raise StopIteration\n",
    "        self.step -= 1\n",
    "        return self.step\n",
    "\n",
    "    def __iter__(self):\n",
    "        \"\"\"Return the iterator itself.\"\"\"\n",
    "        return self"
   ]
  },
  {
   "cell_type": "code",
   "execution_count": 47,
   "metadata": {},
   "outputs": [
    {
     "name": "stdout",
     "output_type": "stream",
     "text": [
      "3\n",
      "2\n",
      "1\n",
      "0\n"
     ]
    }
   ],
   "source": [
    "count_down = CountDown(4)\n",
    "for element in count_down:\n",
    "    print(element)\n"
   ]
  },
  {
   "cell_type": "markdown",
   "metadata": {},
   "source": [
    "## Generators and yield statements\n",
    "\n",
    "__Generators__ provide an efficient way to write simple code for functions that return a sequence of elements. Based on the `yield` statement, they allow functions to be paused and return an intermediate result. The function saevs its execution context and can be resumed later if necessary. \n",
    "\n",
    "__Details on Generators__\n",
    "- Generators functions contains one or more `yield` statements\n",
    "- When called, it returns an object (iterator) but does not start execution immediately\n",
    "- Methods like `__iter__()` and `__next__()` are implemented automatically. So we can iterate thorugh the items using `next()`\n",
    "- Once the function yields, the funciton is paused and the control is transfered to the _caller_\n",
    "- Local valriables and their states are rememebered between successive calles\n",
    "- Finally, when the funciton terminates, `StopIteration` is raised automatically on futher calls.\n",
    "\n",
    "\n",
    "__Resources__\n",
    "- _https://www.programiz.com/python-programming/generator_\n",
    "- _https://dbader.org/blog/python-generators_\n",
    "- _https://dbader.org/blog/python-generator-expressions_\n",
    "\n",
    "__Below is a imple generator example__"
   ]
  },
  {
   "cell_type": "code",
   "execution_count": 48,
   "metadata": {},
   "outputs": [],
   "source": [
    "# A simple generator function\n",
    "def my_gen():\n",
    "    n = 1\n",
    "    print('This is printed first')\n",
    "    # Generator function contains yield statements\n",
    "    yield n\n",
    "\n",
    "    n += 1\n",
    "    print('This is printed second')\n",
    "    yield n\n",
    "\n",
    "    n += 1\n",
    "    print('This is printed at last')\n",
    "    yield n"
   ]
  },
  {
   "cell_type": "code",
   "execution_count": 50,
   "metadata": {},
   "outputs": [
    {
     "data": {
      "text/plain": [
       "<generator object my_gen at 0x7fc884574de0>"
      ]
     },
     "execution_count": 50,
     "metadata": {},
     "output_type": "execute_result"
    }
   ],
   "source": [
    "# It returns an object but does not start execution immediately.\n",
    "a = my_gen()\n",
    "a"
   ]
  },
  {
   "cell_type": "code",
   "execution_count": 53,
   "metadata": {},
   "outputs": [
    {
     "name": "stdout",
     "output_type": "stream",
     "text": [
      "This is printed first\n"
     ]
    },
    {
     "data": {
      "text/plain": [
       "1"
      ]
     },
     "execution_count": 53,
     "metadata": {},
     "output_type": "execute_result"
    }
   ],
   "source": [
    "# We can iterate through the items using next().\n",
    "next(a)\n",
    "\n",
    "# Once the function yields, the function is paused and the control is transferred to the caller."
   ]
  },
  {
   "cell_type": "code",
   "execution_count": 54,
   "metadata": {},
   "outputs": [
    {
     "name": "stdout",
     "output_type": "stream",
     "text": [
      "This is printed second\n",
      "This is printed at last\n"
     ]
    },
    {
     "data": {
      "text/plain": [
       "3"
      ]
     },
     "execution_count": 54,
     "metadata": {},
     "output_type": "execute_result"
    }
   ],
   "source": [
    "# Local variables and theirs states are remembered between successive calls.\n",
    "next(a)\n",
    "next(a)"
   ]
  },
  {
   "cell_type": "code",
   "execution_count": 55,
   "metadata": {},
   "outputs": [
    {
     "ename": "StopIteration",
     "evalue": "",
     "output_type": "error",
     "traceback": [
      "\u001b[0;31m---------------------------------------------------------------------------\u001b[0m",
      "\u001b[0;31mStopIteration\u001b[0m                             Traceback (most recent call last)",
      "\u001b[0;32m<ipython-input-55-15841f3f11d4>\u001b[0m in \u001b[0;36m<module>\u001b[0;34m\u001b[0m\n\u001b[0;32m----> 1\u001b[0;31m \u001b[0mnext\u001b[0m\u001b[0;34m(\u001b[0m\u001b[0ma\u001b[0m\u001b[0;34m)\u001b[0m\u001b[0;34m\u001b[0m\u001b[0;34m\u001b[0m\u001b[0m\n\u001b[0m",
      "\u001b[0;31mStopIteration\u001b[0m: "
     ]
    }
   ],
   "source": [
    "next(a)"
   ]
  },
  {
   "cell_type": "markdown",
   "metadata": {},
   "source": [
    "Unlike _normal funcitons_ where the __local variables are not destroyed__ when the functinon yields. Here above using the __Generators__ the value of the variable `n` is remember between each call. To restart the process we just have to recreate the generator `a = my_gen()`\n",
    "\n",
    "__Generators are used with Loops__ includinga terminating condition"
   ]
  },
  {
   "cell_type": "code",
   "execution_count": 57,
   "metadata": {},
   "outputs": [
    {
     "name": "stdout",
     "output_type": "stream",
     "text": [
      "This is printed first\n",
      "1\n",
      "This is printed second\n",
      "2\n",
      "This is printed at last\n",
      "3\n"
     ]
    }
   ],
   "source": [
    "# Using for loop\n",
    "for item in my_gen():\n",
    "    print(item)"
   ]
  },
  {
   "cell_type": "code",
   "execution_count": 78,
   "metadata": {},
   "outputs": [
    {
     "name": "stdout",
     "output_type": "stream",
     "text": [
      "[1, 9, 36, 100]\n",
      "<generator object <genexpr> at 0x7fc88c44c048>\n",
      "1\n",
      "9\n",
      "36\n",
      "100\n"
     ]
    }
   ],
   "source": [
    "# Initialize the list\n",
    "my_list = [1, 3, 6, 10]\n",
    "\n",
    "# square each term using list comprehension\n",
    "list_ = [x**2 for x in my_list]\n",
    "\n",
    "# same thing can be done using generator expression\n",
    "generator = (x**2 for x in my_list)\n",
    "\n",
    "print(list_)\n",
    "print(generator)\n",
    "\n",
    "for item in generator:\n",
    "    print(item)"
   ]
  },
  {
   "cell_type": "markdown",
   "metadata": {},
   "source": [
    "We can see above that the generator expression did not produce the required result immediately. Instead, it returned a generator object, which produces items only on demand."
   ]
  },
  {
   "cell_type": "code",
   "execution_count": 75,
   "metadata": {},
   "outputs": [
    {
     "ename": "TypeError",
     "evalue": "'int' object is not an iterator",
     "output_type": "error",
     "traceback": [
      "\u001b[0;31m---------------------------------------------------------------------------\u001b[0m",
      "\u001b[0;31mTypeError\u001b[0m                                 Traceback (most recent call last)",
      "\u001b[0;32m<ipython-input-75-15841f3f11d4>\u001b[0m in \u001b[0;36m<module>\u001b[0;34m\u001b[0m\n\u001b[0;32m----> 1\u001b[0;31m \u001b[0mnext\u001b[0m\u001b[0;34m(\u001b[0m\u001b[0ma\u001b[0m\u001b[0;34m)\u001b[0m\u001b[0;34m\u001b[0m\u001b[0;34m\u001b[0m\u001b[0m\n\u001b[0m",
      "\u001b[0;31mTypeError\u001b[0m: 'int' object is not an iterator"
     ]
    }
   ],
   "source": [
    "next(a)"
   ]
  },
  {
   "cell_type": "markdown",
   "metadata": {},
   "source": [
    "###### Generators Rerpresent Infinite Streams & Memory Efficient\n",
    "\n",
    "__Generators__ are the best at representing an infinite stream of data. Typically infinite streams cannot be stored in memory, which is a great application for generators because __generators produce only one item at a time__ therefore can represent an infiniate stream of data. \n",
    "\n",
    "__Memory Efficient__ - a normal function stors the entire sequence in memory before returning the result. This is not practical if the sequence is large. __Generators__ provides a memory efficient representaiton as __Generators only produce one item at a time__ "
   ]
  },
  {
   "cell_type": "code",
   "execution_count": 79,
   "metadata": {},
   "outputs": [],
   "source": [
    "def all_even():\n",
    "    n = 0\n",
    "    while True:\n",
    "        yield n\n",
    "        n += 2"
   ]
  },
  {
   "cell_type": "code",
   "execution_count": 113,
   "metadata": {},
   "outputs": [
    {
     "data": {
      "text/plain": [
       "[0, 2, 4, 6, 8, 10, 12, 14, 16, 18]"
      ]
     },
     "execution_count": 113,
     "metadata": {},
     "output_type": "execute_result"
    }
   ],
   "source": [
    "e = all_even()\n",
    "[next(e) for i in range(10)]"
   ]
  },
  {
   "cell_type": "code",
   "execution_count": null,
   "metadata": {},
   "outputs": [],
   "source": []
  },
  {
   "cell_type": "code",
   "execution_count": 125,
   "metadata": {},
   "outputs": [
    {
     "name": "stdout",
     "output_type": "stream",
     "text": [
      "1\n",
      "2\n",
      "4\n",
      "8\n",
      "16\n",
      "32\n",
      "64\n",
      "128\n",
      "256\n",
      "final item is:  512\n"
     ]
    }
   ],
   "source": [
    "def PowTwoGen(max=0):\n",
    "    n = 0\n",
    "    while n < max:\n",
    "        yield 2 ** n\n",
    "        n += 1\n",
    "        \n",
    "k = PowTwoGen(10)\n",
    "[print(next(k)) for i in range(9)]\n",
    "print(\"final item is: \", next(k))"
   ]
  },
  {
   "cell_type": "markdown",
   "metadata": {},
   "source": [
    "##### Generators Use Case - Data Streams\n",
    "\n",
    "A common use case is to __stream data buffers with generators__ _(e.g., from files)_. They can be paused, resumed, and stopped whenever necessary at any state of the data processing pipeline without any need to load whole datasets into the program's memory. \n",
    "\n",
    "The `tokenize` module from the standard library, for instance, generates tokens out of a stream of text working on them in a line-by-line fashion:"
   ]
  },
  {
   "cell_type": "code",
   "execution_count": 1,
   "metadata": {},
   "outputs": [],
   "source": [
    "import io\n",
    "import tokenize\n",
    "\n",
    "code = io.StringIO(\"\"\"\n",
    "if __name__ == \"__main__\": \\\n",
    "print(\"hello world!\") \\\n",
    "\"\"\")"
   ]
  },
  {
   "cell_type": "code",
   "execution_count": 2,
   "metadata": {},
   "outputs": [
    {
     "data": {
      "text/plain": [
       "TokenInfo(type=56 (NL), string='\\n', start=(1, 0), end=(1, 1), line='\\n')"
      ]
     },
     "execution_count": 2,
     "metadata": {},
     "output_type": "execute_result"
    }
   ],
   "source": [
    "tokens = tokenize.generate_tokens(code.readline)\n",
    "next(tokens)"
   ]
  },
  {
   "cell_type": "code",
   "execution_count": 3,
   "metadata": {},
   "outputs": [
    {
     "data": {
      "text/plain": [
       "TokenInfo(type=1 (NAME), string='if', start=(2, 0), end=(2, 2), line='if __name__ == \"__main__\": print(\"hello world!\") ')"
      ]
     },
     "execution_count": 3,
     "metadata": {},
     "output_type": "execute_result"
    }
   ],
   "source": [
    "next(tokens)"
   ]
  },
  {
   "cell_type": "code",
   "execution_count": 4,
   "metadata": {},
   "outputs": [
    {
     "data": {
      "text/plain": [
       "TokenInfo(type=1 (NAME), string='__name__', start=(2, 3), end=(2, 11), line='if __name__ == \"__main__\": print(\"hello world!\") ')"
      ]
     },
     "execution_count": 4,
     "metadata": {},
     "output_type": "execute_result"
    }
   ],
   "source": [
    "next(tokens)"
   ]
  },
  {
   "cell_type": "markdown",
   "metadata": {},
   "source": [
    "Here, we can see that open.readline iterates over the lines of the file and generate_tokens iterates over them in a pipeline, doing some additional work. Generators can also help in breaking the complexity of your code, and increasing the efficiency of some data transformation algorithms if they can be divided into separate processing steps"
   ]
  },
  {
   "cell_type": "code",
   "execution_count": 5,
   "metadata": {},
   "outputs": [],
   "source": [
    "def capitalize(values):\n",
    "    for value in values:\n",
    "         yield value.upper()\n",
    "\n",
    "\n",
    "def hyphenate(values):\n",
    "    for value in values:\n",
    "        yield f\"-{value}-\"\n",
    "\n",
    "\n",
    "def leetspeak(values):\n",
    "    for value in values:\n",
    "        if value in {'t', 'T'}:\n",
    "            yield '7'\n",
    "        elif value in {'e', 'E'}:\n",
    "            yield '3'\n",
    "        else:\n",
    "            yield value\n",
    "\n",
    "\n",
    "def join(values):\n",
    "    return \"\".join(values)"
   ]
  },
  {
   "cell_type": "markdown",
   "metadata": {},
   "source": [
    "Abvove we use a set of functions that defines some transformation over the sequenc of data provides. the `join()` is called and chains the called functions values to apply the functions to gether. Howeve,r eahc call processes one lement and returns the result. \n",
    "\n",
    "Now that the data processing pipeline is split into 3 independent steps we can combine them in different ways. "
   ]
  },
  {
   "cell_type": "code",
   "execution_count": 6,
   "metadata": {},
   "outputs": [
    {
     "data": {
      "text/plain": [
       "'THIS WILL BE UPPERCASE TEXT'"
      ]
     },
     "execution_count": 6,
     "metadata": {},
     "output_type": "execute_result"
    }
   ],
   "source": [
    "join(capitalize(\"This will be uppercase text\"))"
   ]
  },
  {
   "cell_type": "code",
   "execution_count": 7,
   "metadata": {},
   "outputs": [
    {
     "data": {
      "text/plain": [
       "\"7his isn'7 a l337sp3ak\""
      ]
     },
     "execution_count": 7,
     "metadata": {},
     "output_type": "execute_result"
    }
   ],
   "source": [
    "join(leetspeak(\"This isn't a leetspeak\"))"
   ]
  },
  {
   "cell_type": "code",
   "execution_count": 8,
   "metadata": {},
   "outputs": [
    {
     "data": {
      "text/plain": [
       "'-Will--be--hyphenated--by--words-'"
      ]
     },
     "execution_count": 8,
     "metadata": {},
     "output_type": "execute_result"
    }
   ],
   "source": [
    "join(hyphenate(\"Will be hyphenated by words\".split()))"
   ]
  },
  {
   "cell_type": "markdown",
   "metadata": {},
   "source": [
    "##### Interaction with Generator with `send()`\n",
    "\n",
    "Now that we ahve the ability to iterate the the generators with `next()` we can interact with the `next()` providing that the `yield` is not an expression to pass a value through to the decorator with a new generator method `send()`."
   ]
  },
  {
   "cell_type": "code",
   "execution_count": 9,
   "metadata": {},
   "outputs": [],
   "source": [
    "def psychologist():\n",
    "    print('Please tell me your problems')\n",
    "    while True:\n",
    "        answer = (yield)\n",
    "        if answer is not None:\n",
    "            if answer.endswith('?'):\n",
    "                print(\"Don't ask yourself too much questions\")\n",
    "            elif 'good' in answer:\n",
    "                print(\"Ahh that's good, go on\")\n",
    "            elif 'bad' in answer:\n",
    "                print(\"Don't be so negative\") "
   ]
  },
  {
   "cell_type": "code",
   "execution_count": 11,
   "metadata": {},
   "outputs": [
    {
     "name": "stdout",
     "output_type": "stream",
     "text": [
      "Please tell me your problems\n"
     ]
    }
   ],
   "source": [
    "free = psychologist()\n",
    "next(free)"
   ]
  },
  {
   "cell_type": "code",
   "execution_count": 12,
   "metadata": {},
   "outputs": [
    {
     "name": "stdout",
     "output_type": "stream",
     "text": [
      "Don't be so negative\n"
     ]
    }
   ],
   "source": [
    "free.send('I feel bad')"
   ]
  },
  {
   "cell_type": "code",
   "execution_count": 13,
   "metadata": {},
   "outputs": [
    {
     "name": "stdout",
     "output_type": "stream",
     "text": [
      "Don't ask yourself too much questions\n"
     ]
    }
   ],
   "source": [
    "free.send('Why  I shouldnt ?')"
   ]
  },
  {
   "cell_type": "code",
   "execution_count": 15,
   "metadata": {},
   "outputs": [
    {
     "name": "stdout",
     "output_type": "stream",
     "text": [
      "Ahh that's good, go on\n"
     ]
    }
   ],
   "source": [
    "free.send(\"fine what is good for me then\")"
   ]
  },
  {
   "cell_type": "markdown",
   "metadata": {},
   "source": [
    "`send()` similar to `next()`, but makes the `yield` statement __return the value passed to it inside the function def__. Additoinally, we can also use \n",
    "- `throw()` - client code can send any kind o fexception to be raised\n",
    "- `close()` - similar to `throw()` but raises the exception: `GeneratorExit` which stops the iteration"
   ]
  },
  {
   "cell_type": "markdown",
   "metadata": {},
   "source": [
    "---\n",
    "\n",
    "## Decorators\n",
    "\n",
    "\n",
    "__Decorators__ take a funciton, adds additional functionality and returns it. This is masically adding a _meta-function_ that is used to modify another part of the function at complie time. \n",
    "\n",
    "Below is a simple example of a basic function that we will later add the Decorators. \n",
    "\n",
    "\n",
    "_https://www.programiz.com/python-programming/decorator_"
   ]
  },
  {
   "cell_type": "code",
   "execution_count": 128,
   "metadata": {},
   "outputs": [
    {
     "name": "stdout",
     "output_type": "stream",
     "text": [
      "Hello\n",
      "Hello\n"
     ]
    }
   ],
   "source": [
    "def first(msg):\n",
    "    print(msg)    \n",
    "\n",
    "first(\"Hello\")\n",
    "\n",
    "second = first\n",
    "second(\"Hello\")"
   ]
  },
  {
   "cell_type": "markdown",
   "metadata": {},
   "source": [
    "Above we ran `first()` and `second()` that returns the same output, and both refer to the same `first()` function object. \n",
    "\n",
    "Now we introduce a concept similar to `decorators` which is __Higher order functions__ this is the technical name for the example below were wewe will use a funciton to be passed as a argument to another function."
   ]
  },
  {
   "cell_type": "code",
   "execution_count": 132,
   "metadata": {},
   "outputs": [
    {
     "name": "stdout",
     "output_type": "stream",
     "text": [
      "4\n",
      "2\n"
     ]
    }
   ],
   "source": [
    "def inc(x):\n",
    "    return x + 1\n",
    "\n",
    "def dec(x):\n",
    "    return x - 1\n",
    "\n",
    "def operate(func, x):\n",
    "    result = func(x)\n",
    "    return result\n",
    "\n",
    "print(operate(inc, 3))\n",
    "print(operate(dec, 3))"
   ]
  },
  {
   "cell_type": "markdown",
   "metadata": {},
   "source": [
    "example of a __funciton return another function__ "
   ]
  },
  {
   "cell_type": "code",
   "execution_count": 133,
   "metadata": {},
   "outputs": [
    {
     "name": "stdout",
     "output_type": "stream",
     "text": [
      "Hello\n"
     ]
    }
   ],
   "source": [
    "def is_called():\n",
    "    def is_returned():\n",
    "        print(\"Hello\")\n",
    "    return is_returned\n",
    "\n",
    "new = is_called()\n",
    "\n",
    "#Outputs \"Hello\"\n",
    "new()"
   ]
  },
  {
   "cell_type": "code",
   "execution_count": 138,
   "metadata": {},
   "outputs": [
    {
     "name": "stdout",
     "output_type": "stream",
     "text": [
      "Hello\n"
     ]
    }
   ],
   "source": [
    "is_called()()"
   ]
  },
  {
   "cell_type": "markdown",
   "metadata": {},
   "source": [
    "Back to __Decorators__ - recall __decorators take a funciton, adds funcitonality and returns it__"
   ]
  },
  {
   "cell_type": "code",
   "execution_count": 174,
   "metadata": {},
   "outputs": [],
   "source": [
    "def make_pretty(func):\n",
    "    def inner():\n",
    "        print(\"I got decorated\")\n",
    "        func()\n",
    "    return inner\n",
    "\n",
    "def ordinary():\n",
    "    print(\"I am ordinary\")"
   ]
  },
  {
   "cell_type": "code",
   "execution_count": 140,
   "metadata": {},
   "outputs": [
    {
     "name": "stdout",
     "output_type": "stream",
     "text": [
      "I am ordinary\n"
     ]
    }
   ],
   "source": [
    "ordinary()"
   ]
  },
  {
   "cell_type": "markdown",
   "metadata": {},
   "source": [
    "Here we add the dectorator `make_pretty` to _\"decorate\"_ the `ordinary()`. The function `ordinary()` got decorated and the returned function was given the name `pretty`."
   ]
  },
  {
   "cell_type": "code",
   "execution_count": 146,
   "metadata": {},
   "outputs": [
    {
     "name": "stdout",
     "output_type": "stream",
     "text": [
      "<function make_pretty.<locals>.inner at 0x7fc8841881e0>\n"
     ]
    }
   ],
   "source": [
    "pretty = make_pretty(ordinary)\n",
    "print(pretty)"
   ]
  },
  {
   "cell_type": "code",
   "execution_count": 147,
   "metadata": {},
   "outputs": [
    {
     "name": "stdout",
     "output_type": "stream",
     "text": [
      "I got decorated\n",
      "I am ordinary\n"
     ]
    }
   ],
   "source": [
    "pretty()"
   ]
  },
  {
   "cell_type": "markdown",
   "metadata": {},
   "source": [
    "_like a Christmas Gift_ the __`decorator`__ acts as a _\"gift wrapper\"_ to decorate the present `original()`. The nature of the object that got decorated (actual gift inside) does not alter. But now, it looks pretty (since it got decorated).\n",
    "\n",
    "Generally, we decorate a function and reassign it as,"
   ]
  },
  {
   "cell_type": "code",
   "execution_count": 176,
   "metadata": {},
   "outputs": [
    {
     "name": "stdout",
     "output_type": "stream",
     "text": [
      "I got decorated\n",
      "I am ordinary\n"
     ]
    }
   ],
   "source": [
    "pretty_ordinary = make_pretty(ordinary)\n",
    "pretty_ordinary()"
   ]
  },
  {
   "cell_type": "markdown",
   "metadata": {},
   "source": [
    "__Formal use of @decorators__\n",
    "\n",
    "The `@` is used with the name of the decorator function placed above the funciton to be decorated, like so:\n",
    "\n",
    "\n",
    "which is equivilent to what we did above:\n",
    "\n",
    "```python\n",
    "def ordinary():\n",
    "    print(\"I am ordinary\")\n",
    "ordinary = make_pretty(ordinary)\n",
    "\n",
    "```"
   ]
  },
  {
   "cell_type": "code",
   "execution_count": 179,
   "metadata": {},
   "outputs": [
    {
     "name": "stdout",
     "output_type": "stream",
     "text": [
      "I got decorated\n",
      "I am ordinary\n"
     ]
    }
   ],
   "source": [
    "@make_pretty\n",
    "def ordinary():\n",
    "    print(\"I am ordinary\")\n",
    "    \n",
    "ordinary()"
   ]
  },
  {
   "cell_type": "code",
   "execution_count": 194,
   "metadata": {},
   "outputs": [],
   "source": [
    "def smart_divide(func):\n",
    "   def inner(*args, **kwargs):\n",
    "      print(\"I am going to divide\",args[0],\"and\",args[1])\n",
    "      if args[1] == 0:\n",
    "         print(\"Whoops! cannot divide\")\n",
    "         return\n",
    "\n",
    "      return func(*args, **kwargs)\n",
    "   return inner\n",
    "\n",
    "@smart_divide\n",
    "def divide(a,b):\n",
    "    return a/b"
   ]
  },
  {
   "cell_type": "code",
   "execution_count": 195,
   "metadata": {},
   "outputs": [
    {
     "name": "stdout",
     "output_type": "stream",
     "text": [
      "I am going to divide 2 and 5\n"
     ]
    },
    {
     "data": {
      "text/plain": [
       "0.4"
      ]
     },
     "execution_count": 195,
     "metadata": {},
     "output_type": "execute_result"
    }
   ],
   "source": [
    "divide(2,5)"
   ]
  },
  {
   "cell_type": "code",
   "execution_count": 196,
   "metadata": {},
   "outputs": [
    {
     "name": "stdout",
     "output_type": "stream",
     "text": [
      "I am going to divide 2 and 0\n",
      "Whoops! cannot divide\n"
     ]
    }
   ],
   "source": [
    "divide(2,0)"
   ]
  },
  {
   "cell_type": "markdown",
   "metadata": {},
   "source": [
    "### Parameterizing Decorators\n",
    "\n",
    "Below is an example of decorator that repeats the execution of a decorated funciton a specified numnber of times every time it is called"
   ]
  },
  {
   "cell_type": "code",
   "execution_count": 17,
   "metadata": {},
   "outputs": [],
   "source": [
    "def repeat(number=3): \n",
    "    \"\"\"Cause decorated function to be repeated a number of times. \n",
    "     \n",
    "    Last value of original function call is returned as a result.\n",
    "    \n",
    "    :param number: number of repetitions, 3 if not specified \n",
    "    \"\"\" \n",
    "    def actual_decorator(function): \n",
    "        def wrapper(*args, **kwargs): \n",
    "            result = None \n",
    "            for _ in range(number): \n",
    "                result = function(*args, **kwargs) \n",
    "            return result \n",
    "        return wrapper \n",
    "    return actual_decorator\n",
    "\n",
    "\n",
    "@repeat(2)\n",
    "def print_my_call():\n",
    "    print(\"print_my_call() called!\")"
   ]
  },
  {
   "cell_type": "code",
   "execution_count": 18,
   "metadata": {},
   "outputs": [
    {
     "name": "stdout",
     "output_type": "stream",
     "text": [
      "print_my_call() called!\n",
      "print_my_call() called!\n"
     ]
    }
   ],
   "source": [
    "print_my_call()"
   ]
  },
  {
   "cell_type": "code",
   "execution_count": null,
   "metadata": {},
   "outputs": [],
   "source": []
  },
  {
   "cell_type": "markdown",
   "metadata": {},
   "source": [
    "##### Introspection preserving decorators"
   ]
  },
  {
   "cell_type": "code",
   "execution_count": 19,
   "metadata": {},
   "outputs": [],
   "source": [
    "def dummy_decorator(function): \n",
    "    def wrapped(*args, **kwargs): \n",
    "        \"\"\"Internal wrapped function documentation.\"\"\" \n",
    "        return function(*args, **kwargs) \n",
    "    return wrapped \n",
    " \n",
    " \n",
    "@dummy_decorator \n",
    "def function_with_important_docstring(): \n",
    "    \"\"\"This is important docstring we do not want to lose.\"\"\" "
   ]
  },
  {
   "cell_type": "code",
   "execution_count": 27,
   "metadata": {},
   "outputs": [
    {
     "name": "stdout",
     "output_type": "stream",
     "text": [
      "wrapped\n",
      "Internal wrapped function documentation.\n"
     ]
    }
   ],
   "source": [
    "print(function_with_important_docstring.__name__)\n",
    "print(function_with_important_docstring.__doc__)"
   ]
  },
  {
   "cell_type": "code",
   "execution_count": 28,
   "metadata": {},
   "outputs": [],
   "source": [
    "from functools import wraps \n",
    " \n",
    " \n",
    "def preserving_decorator(function): \n",
    "    @wraps(function) \n",
    "    def wrapped(*args, **kwargs): \n",
    "        \"\"\"Internal wrapped function documentation.\"\"\" \n",
    "        return function(*args, **kwargs) \n",
    "    return wrapped \n",
    " \n",
    " \n",
    "@preserving_decorator \n",
    "def function_with_important_docstring(): \n",
    "    \"\"\"This is important docstring we do not want to lose.\"\"\""
   ]
  },
  {
   "cell_type": "code",
   "execution_count": 29,
   "metadata": {},
   "outputs": [
    {
     "name": "stdout",
     "output_type": "stream",
     "text": [
      "function_with_important_docstring\n",
      "This is important docstring we do not want to lose.\n"
     ]
    }
   ],
   "source": [
    "print(function_with_important_docstring.__name__)\n",
    "print(function_with_important_docstring.__doc__)"
   ]
  },
  {
   "cell_type": "markdown",
   "metadata": {},
   "source": [
    "With the decorator defined in such a way, all the important function metadata is preserved"
   ]
  },
  {
   "cell_type": "code",
   "execution_count": null,
   "metadata": {},
   "outputs": [],
   "source": []
  },
  {
   "cell_type": "markdown",
   "metadata": {},
   "source": [
    "#### Decorator @Property\n",
    "\n",
    "\n",
    "_https://www.programiz.com/python-programming/property_"
   ]
  },
  {
   "cell_type": "code",
   "execution_count": 37,
   "metadata": {},
   "outputs": [],
   "source": [
    "# Making Getters and Setter methods\n",
    "class Celsius:\n",
    "    def __init__(self, temperature=0):\n",
    "        self.set_temperature(temperature)\n",
    "\n",
    "    def to_fahrenheit(self):\n",
    "        return (self.get_temperature() * 1.8) + 32\n",
    "\n",
    "    # getter method\n",
    "    def get_temperature(self):\n",
    "        return self._temperature\n",
    "\n",
    "    # setter method\n",
    "    def set_temperature(self, value):\n",
    "        if value < -273.15:\n",
    "            raise ValueError(\"Temperature below -273.15 is not possible.\")\n",
    "        self._temperature = value"
   ]
  },
  {
   "cell_type": "code",
   "execution_count": 43,
   "metadata": {},
   "outputs": [
    {
     "name": "stdout",
     "output_type": "stream",
     "text": [
      "{'_temperature': 37}\n",
      "37\n",
      "98.60000000000001\n"
     ]
    },
    {
     "ename": "ValueError",
     "evalue": "Temperature below -273.15 is not possible.",
     "output_type": "error",
     "traceback": [
      "\u001b[0;31m---------------------------------------------------------------------------\u001b[0m",
      "\u001b[0;31mValueError\u001b[0m                                Traceback (most recent call last)",
      "\u001b[0;32m<ipython-input-43-3b40f8edcc34>\u001b[0m in \u001b[0;36m<module>\u001b[0;34m\u001b[0m\n\u001b[1;32m     11\u001b[0m \u001b[0;34m\u001b[0m\u001b[0m\n\u001b[1;32m     12\u001b[0m \u001b[0;31m# new constraint implementation\u001b[0m\u001b[0;34m\u001b[0m\u001b[0;34m\u001b[0m\u001b[0;34m\u001b[0m\u001b[0m\n\u001b[0;32m---> 13\u001b[0;31m \u001b[0mhuman\u001b[0m\u001b[0;34m.\u001b[0m\u001b[0mset_temperature\u001b[0m\u001b[0;34m(\u001b[0m\u001b[0;34m-\u001b[0m\u001b[0;36m300\u001b[0m\u001b[0;34m)\u001b[0m\u001b[0;34m\u001b[0m\u001b[0;34m\u001b[0m\u001b[0m\n\u001b[0m\u001b[1;32m     14\u001b[0m \u001b[0;34m\u001b[0m\u001b[0m\n\u001b[1;32m     15\u001b[0m \u001b[0;31m# Get the to_fahreheit method\u001b[0m\u001b[0;34m\u001b[0m\u001b[0;34m\u001b[0m\u001b[0;34m\u001b[0m\u001b[0m\n",
      "\u001b[0;32m<ipython-input-37-0c7b75919c8d>\u001b[0m in \u001b[0;36mset_temperature\u001b[0;34m(self, value)\u001b[0m\n\u001b[1;32m     14\u001b[0m     \u001b[0;32mdef\u001b[0m \u001b[0mset_temperature\u001b[0m\u001b[0;34m(\u001b[0m\u001b[0mself\u001b[0m\u001b[0;34m,\u001b[0m \u001b[0mvalue\u001b[0m\u001b[0;34m)\u001b[0m\u001b[0;34m:\u001b[0m\u001b[0;34m\u001b[0m\u001b[0;34m\u001b[0m\u001b[0m\n\u001b[1;32m     15\u001b[0m         \u001b[0;32mif\u001b[0m \u001b[0mvalue\u001b[0m \u001b[0;34m<\u001b[0m \u001b[0;34m-\u001b[0m\u001b[0;36m273.15\u001b[0m\u001b[0;34m:\u001b[0m\u001b[0;34m\u001b[0m\u001b[0;34m\u001b[0m\u001b[0m\n\u001b[0;32m---> 16\u001b[0;31m             \u001b[0;32mraise\u001b[0m \u001b[0mValueError\u001b[0m\u001b[0;34m(\u001b[0m\u001b[0;34m\"Temperature below -273.15 is not possible.\"\u001b[0m\u001b[0;34m)\u001b[0m\u001b[0;34m\u001b[0m\u001b[0;34m\u001b[0m\u001b[0m\n\u001b[0m\u001b[1;32m     17\u001b[0m         \u001b[0mself\u001b[0m\u001b[0;34m.\u001b[0m\u001b[0m_temperature\u001b[0m \u001b[0;34m=\u001b[0m \u001b[0mvalue\u001b[0m\u001b[0;34m\u001b[0m\u001b[0;34m\u001b[0m\u001b[0m\n",
      "\u001b[0;31mValueError\u001b[0m: Temperature below -273.15 is not possible."
     ]
    }
   ],
   "source": [
    "# Create a new object, set_temperature() internally called by __init__\n",
    "human = Celsius(37)\n",
    "print(human.__dict__)\n",
    "\n",
    "# Get the temperature attribute via a getter\n",
    "print(human.get_temperature())\n",
    "\n",
    "# Get the to_fahrenheit method, get_temperature() called by the method itself\n",
    "print(human.to_fahrenheit())\n",
    "\n",
    "\n",
    "# new constraint implementation\n",
    "human.set_temperature(-300)\n",
    "\n",
    "# Get the to_fahreheit method\n",
    "print(human.to_fahrenheit())"
   ]
  },
  {
   "cell_type": "markdown",
   "metadata": {},
   "source": [
    "We are no longer allowed to set the temperature below -273.15 degrees Celsius."
   ]
  },
  {
   "cell_type": "code",
   "execution_count": 45,
   "metadata": {},
   "outputs": [
    {
     "data": {
      "text/plain": [
       "37"
      ]
     },
     "execution_count": 45,
     "metadata": {},
     "output_type": "execute_result"
    }
   ],
   "source": [
    "human._temperature"
   ]
  },
  {
   "cell_type": "code",
   "execution_count": null,
   "metadata": {},
   "outputs": [],
   "source": []
  }
 ],
 "metadata": {
  "kernelspec": {
   "display_name": "bril",
   "language": "python",
   "name": "bril"
  },
  "language_info": {
   "codemirror_mode": {
    "name": "ipython",
    "version": 3
   },
   "file_extension": ".py",
   "mimetype": "text/x-python",
   "name": "python",
   "nbconvert_exporter": "python",
   "pygments_lexer": "ipython3",
   "version": "3.7.3"
  }
 },
 "nbformat": 4,
 "nbformat_minor": 4
}
