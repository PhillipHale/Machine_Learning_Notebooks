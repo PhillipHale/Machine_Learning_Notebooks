{
 "cells": [
  {
   "cell_type": "code",
   "execution_count": 1,
   "metadata": {},
   "outputs": [],
   "source": [
    "%load_ext autoreload\n",
    "%autoreload 2"
   ]
  },
  {
   "cell_type": "markdown",
   "metadata": {},
   "source": [
    "## Inheritance and Compositions\n",
    "\n",
    "https://realpython.com/inheritance-composition-python/\n",
    "\n",
    "#### Implementation Inheritance vs Interface Inheritance\n",
    "When you derive one class from another, the derived class inherits both:\n",
    "\n",
    "1. __The base class interface:__ The derived class inherits all the methods, properties, and attributes of the base class.\n",
    "\n",
    "2. __The base class implementation:__ The derived class inherits the code that implements the class interface.\n",
    "\n",
    "Most of the time, you’ll want to inherit the implementation of a class, but you will want to implement multiple interfaces, so your objects can be used in different situations.\n",
    "\n",
    "Modern programming languages are designed with this basic concept in mind. __They allow you to inherit from a single class, but you can implement multiple interfaces__\n",
    "\n",
    "\n",
    "---\n",
    "\n",
    "Since you don’t have to derive from a specific class for your objects to be reusable by the program, you may be asking why you should use inheritance instead of just implementing the desired interface. The following rules may help you:\n",
    "\n",
    "* __Use inheritance to reuse an implementation:__ Your derived classes should leverage most of their base class implementation. They must also model an is a relationship. A Customer class might also have an id and a name, but a Customer is not an Employee, so you should not use inheritance.\n",
    "\n",
    "* __Implement an interface to be reused:__ When you want your class to be reused by a specific part of your application, you implement the required interface in your class, but you don’t need to provide a base class, or inherit from another class."
   ]
  },
  {
   "cell_type": "code",
   "execution_count": 2,
   "metadata": {},
   "outputs": [],
   "source": [
    "from hr import hr"
   ]
  },
  {
   "cell_type": "code",
   "execution_count": 93,
   "metadata": {},
   "outputs": [
    {
     "name": "stdout",
     "output_type": "stream",
     "text": [
      "Calculating Payroll\n",
      "===================\n",
      "Payroll for: 1 - John Smith\n",
      "- Check amount: 1500\n",
      "\n",
      "Payroll for: 2 - Jane Doe\n",
      "- Check amount: 600\n",
      "\n",
      "Payroll for: 3 - Kevin Bacon\n",
      "- Check amount: 1250\n",
      "\n"
     ]
    }
   ],
   "source": [
    "!python hr/program.py"
   ]
  },
  {
   "cell_type": "code",
   "execution_count": 3,
   "metadata": {},
   "outputs": [],
   "source": [
    "from hr import hr\n",
    "from hr import employees\n",
    "from hr import productivity"
   ]
  },
  {
   "cell_type": "code",
   "execution_count": 5,
   "metadata": {},
   "outputs": [
    {
     "name": "stdout",
     "output_type": "stream",
     "text": [
      "Tracking Employee Productivity\n",
      "==============================\n",
      "Mary Poppins: screams and yells for 40 hours.\n",
      "John Smith: expends 40 hours doing office paperwork.\n",
      "Kevin Bacon: expends 40 hours on the phone.\n",
      "Jane Doe: manufactures gadgets for 40 hours.\n",
      "Robin Williams: expends 40 hours doing office paperwork.\n",
      "\n",
      "Calculating Payroll\n",
      "===================\n",
      "Payroll for: 1 - Mary Poppins\n",
      "- Check amount: 3000\n",
      "\n",
      "Payroll for: 2 - John Smith\n",
      "- Check amount: 1500\n",
      "\n",
      "Payroll for: 3 - Kevin Bacon\n",
      "- Check amount: 1250\n",
      "\n",
      "Payroll for: 4 - Jane Doe\n",
      "- Check amount: 600\n",
      "\n",
      "Payroll for: 5 - Robin Williams\n",
      "- Check amount: 360\n",
      "\n"
     ]
    }
   ],
   "source": [
    "manager = employees.Manager(1, 'Mary Poppins', 3000)\n",
    "secretary = employees.Secretary(2, 'John Smith', 1500)\n",
    "sales_guy = employees.SalesPerson(3, 'Kevin Bacon', 1000, 250)\n",
    "factory_worker = employees.FactoryWorker(4, 'Jane Doe', 40, 15)\n",
    "temporary_secretary = employees.TemporarySecretary(5, 'Robin Williams', 40, 9)\n",
    "company_employees = [\n",
    "    manager,\n",
    "    secretary,\n",
    "    sales_guy,\n",
    "    factory_worker,\n",
    "    temporary_secretary,\n",
    "]\n",
    "productivity_system = productivity.ProductivitySystem()\n",
    "productivity_system.track(company_employees, 40)\n",
    "payroll_system = hr.PayrollSystem()\n",
    "payroll_system.calculate_payroll(company_employees)"
   ]
  },
  {
   "cell_type": "code",
   "execution_count": 166,
   "metadata": {},
   "outputs": [
    {
     "data": {
      "text/plain": [
       "(hr.employees.TemporarySecretary,\n",
       " hr.employees.Employee,\n",
       " hr.productivity.SecretaryRole,\n",
       " hr.hr.HourlyPolicy,\n",
       " object)"
      ]
     },
     "execution_count": 166,
     "metadata": {},
     "output_type": "execute_result"
    }
   ],
   "source": [
    "employees.TemporarySecretary.__mro__"
   ]
  },
  {
   "cell_type": "code",
   "execution_count": 10,
   "metadata": {},
   "outputs": [],
   "source": [
    "from hr.contacts import Address"
   ]
  },
  {
   "cell_type": "code",
   "execution_count": 11,
   "metadata": {},
   "outputs": [
    {
     "name": "stdout",
     "output_type": "stream",
     "text": [
      "55 Main St.\n",
      "Concord, NH 03301\n"
     ]
    }
   ],
   "source": [
    "address = Address('55 Main St.', 'Concord', 'NH', '03301')\n",
    "print(address)"
   ]
  },
  {
   "cell_type": "code",
   "execution_count": null,
   "metadata": {},
   "outputs": [],
   "source": []
  },
  {
   "cell_type": "code",
   "execution_count": null,
   "metadata": {},
   "outputs": [],
   "source": []
  },
  {
   "cell_type": "code",
   "execution_count": 13,
   "metadata": {},
   "outputs": [],
   "source": [
    "from hr import hr\n",
    "from hr import employees\n",
    "from hr import productivity\n",
    "from hr import contacts"
   ]
  },
  {
   "cell_type": "code",
   "execution_count": 14,
   "metadata": {},
   "outputs": [
    {
     "name": "stdout",
     "output_type": "stream",
     "text": [
      "Tracking Employee Productivity\n",
      "==============================\n",
      "Mary Poppins: screams and yells for 40 hours.\n",
      "John Smith: expends 40 hours doing office paperwork.\n",
      "Kevin Bacon: expends 40 hours on the phone.\n",
      "Jane Doe: manufactures gadgets for 40 hours.\n",
      "Robin Williams: expends 40 hours doing office paperwork.\n",
      "\n",
      "Calculating Payroll\n",
      "===================\n",
      "Payroll for: 1 - Mary Poppins\n",
      "- Check amount: 3000\n",
      "- Sent to:\n",
      "121 Admin Rd\n",
      "Concord, NH 03301\n",
      "\n",
      "Payroll for: 2 - John Smith\n",
      "- Check amount: 1500\n",
      "- Sent to:\n",
      "67 Paperwork Ave.\n",
      "Manchester, NH 03101\n",
      "\n",
      "Payroll for: 3 - Kevin Bacon\n",
      "- Check amount: 1250\n",
      "\n",
      "Payroll for: 4 - Jane Doe\n",
      "- Check amount: 600\n",
      "\n",
      "Payroll for: 5 - Robin Williams\n",
      "- Check amount: 360\n",
      "\n"
     ]
    }
   ],
   "source": [
    "manager = employees.Manager(1, 'Mary Poppins', 3000)\n",
    "manager.address = contacts.Address(\n",
    "    '121 Admin Rd', \n",
    "    'Concord', \n",
    "    'NH', \n",
    "    '03301'\n",
    ")\n",
    "secretary = employees.Secretary(2, 'John Smith', 1500)\n",
    "secretary.address = contacts.Address(\n",
    "    '67 Paperwork Ave.', \n",
    "    'Manchester', \n",
    "    'NH', \n",
    "    '03101'\n",
    ")\n",
    "sales_guy = employees.SalesPerson(3, 'Kevin Bacon', 1000, 250)\n",
    "factory_worker = employees.FactoryWorker(4, 'Jane Doe', 40, 15)\n",
    "temporary_secretary = employees.TemporarySecretary(5, 'Robin Williams', 40, 9)\n",
    "employees = [\n",
    "    manager,\n",
    "    secretary,\n",
    "    sales_guy,\n",
    "    factory_worker,\n",
    "    temporary_secretary,\n",
    "]\n",
    "productivity_system = productivity.ProductivitySystem()\n",
    "productivity_system.track(employees, 40)\n",
    "payroll_system = hr.PayrollSystem()\n",
    "payroll_system.calculate_payroll(employees)"
   ]
  },
  {
   "cell_type": "code",
   "execution_count": 20,
   "metadata": {},
   "outputs": [
    {
     "data": {
      "text/plain": [
       "{'street': '121 Admin Rd',\n",
       " 'street2': '',\n",
       " 'city': 'Concord',\n",
       " 'state': 'NH',\n",
       " 'zipcode': '03301'}"
      ]
     },
     "execution_count": 20,
     "metadata": {},
     "output_type": "execute_result"
    }
   ],
   "source": [
    "manager.address.__dict__"
   ]
  },
  {
   "cell_type": "code",
   "execution_count": null,
   "metadata": {},
   "outputs": [],
   "source": []
  },
  {
   "cell_type": "code",
   "execution_count": null,
   "metadata": {},
   "outputs": [],
   "source": []
  },
  {
   "cell_type": "code",
   "execution_count": 26,
   "metadata": {},
   "outputs": [
    {
     "name": "stdout",
     "output_type": "stream",
     "text": [
      "Tracking Employee Productivity\n",
      "==============================\n",
      "Employee 1 - Mary Poppins:\n",
      "- screams and yells for 40 hours.\n",
      "\n",
      "Employee 2 - John Smith:\n",
      "- does paperwork for 40 hours.\n",
      "\n",
      "Employee 3 - Kevin Bacon:\n",
      "- expends 40 hours on the phone.\n",
      "\n",
      "Employee 4 - Jane Doe:\n",
      "- manufactures gadgets for 40 hours.\n",
      "\n",
      "Employee 5 - Robin Williams:\n",
      "- does paperwork for 40 hours.\n",
      "\n",
      "\n",
      "Calculating Payroll\n",
      "===================\n",
      "Payroll for: 1 - Mary Poppins\n",
      "- Check amount: 3000\n",
      "- Sent to:\n",
      "121 Admin Rd.\n",
      "Concord, NH 03301\n",
      "\n",
      "Payroll for: 2 - John Smith\n",
      "- Check amount: 1500\n",
      "- Sent to:\n",
      "67 Paperwork Ave\n",
      "Manchester, NH 03101\n",
      "\n",
      "Payroll for: 3 - Kevin Bacon\n",
      "- Check amount: 1800.0\n",
      "- Sent to:\n",
      "15 Rose St\n",
      "Apt. B-1\n",
      "Concord, NH 03301\n",
      "\n",
      "Payroll for: 4 - Jane Doe\n",
      "- Check amount: 600\n",
      "- Sent to:\n",
      "39 Sole St.\n",
      "Concord, NH 03301\n",
      "\n",
      "Payroll for: 5 - Robin Williams\n",
      "- Check amount: 360\n",
      "- Sent to:\n",
      "99 Mountain Rd.\n",
      "Concord, NH 03301\n",
      "\n"
     ]
    }
   ],
   "source": [
    "from hr.hr import PayrollSystem\n",
    "from hr.productivity import ProductivitySystem\n",
    "from hr.employees import EmployeeDatabase\n",
    "\n",
    "productivity_system = ProductivitySystem()\n",
    "payroll_system = PayrollSystem()\n",
    "employee_database = EmployeeDatabase()\n",
    "employees = employee_database.employees\n",
    "productivity_system.track(employees, 40)\n",
    "payroll_system.calculate_payroll(employees)"
   ]
  },
  {
   "cell_type": "code",
   "execution_count": 28,
   "metadata": {},
   "outputs": [],
   "source": [
    "from hr.hr import PayrollSystem, HourlyPolicy\n",
    "from hr.productivity import ProductivitySystem\n",
    "from hr.employees import EmployeeDatabase"
   ]
  },
  {
   "cell_type": "code",
   "execution_count": 29,
   "metadata": {},
   "outputs": [
    {
     "name": "stdout",
     "output_type": "stream",
     "text": [
      "Tracking Employee Productivity\n",
      "==============================\n",
      "Employee 1 - Mary Poppins:\n",
      "- screams and yells for 40 hours.\n",
      "\n",
      "Employee 2 - John Smith:\n",
      "- does paperwork for 40 hours.\n",
      "\n",
      "Employee 3 - Kevin Bacon:\n",
      "- expends 40 hours on the phone.\n",
      "\n",
      "Employee 4 - Jane Doe:\n",
      "- manufactures gadgets for 40 hours.\n",
      "\n",
      "Employee 5 - Robin Williams:\n",
      "- does paperwork for 40 hours.\n",
      "\n",
      "\n",
      "Calculating Payroll\n",
      "===================\n",
      "Payroll for: 1 - Mary Poppins\n",
      "- Check amount: 2200\n",
      "- Sent to:\n",
      "121 Admin Rd.\n",
      "Concord, NH 03301\n",
      "\n",
      "Payroll for: 2 - John Smith\n",
      "- Check amount: 1500\n",
      "- Sent to:\n",
      "67 Paperwork Ave\n",
      "Manchester, NH 03101\n",
      "\n",
      "Payroll for: 3 - Kevin Bacon\n",
      "- Check amount: 1800.0\n",
      "- Sent to:\n",
      "15 Rose St\n",
      "Apt. B-1\n",
      "Concord, NH 03301\n",
      "\n",
      "Payroll for: 4 - Jane Doe\n",
      "- Check amount: 600\n",
      "- Sent to:\n",
      "39 Sole St.\n",
      "Concord, NH 03301\n",
      "\n",
      "Payroll for: 5 - Robin Williams\n",
      "- Check amount: 360\n",
      "- Sent to:\n",
      "99 Mountain Rd.\n",
      "Concord, NH 03301\n",
      "\n"
     ]
    }
   ],
   "source": [
    "productivity_system = ProductivitySystem()\n",
    "payroll_system = PayrollSystem()\n",
    "employee_database = EmployeeDatabase()\n",
    "employees = employee_database.employees\n",
    "manager = employees[0]\n",
    "manager.payroll = HourlyPolicy(55)\n",
    "\n",
    "productivity_system.track(employees, 40)\n",
    "payroll_system.calculate_payroll(employees)"
   ]
  },
  {
   "cell_type": "code",
   "execution_count": null,
   "metadata": {},
   "outputs": [],
   "source": []
  },
  {
   "cell_type": "code",
   "execution_count": null,
   "metadata": {},
   "outputs": [],
   "source": []
  },
  {
   "cell_type": "code",
   "execution_count": 30,
   "metadata": {},
   "outputs": [],
   "source": [
    "from rectangle_square_demo import Rectangle, Square"
   ]
  },
  {
   "cell_type": "code",
   "execution_count": 41,
   "metadata": {},
   "outputs": [],
   "source": [
    "rectangle.resize(3, 5)\n",
    "assert rectangle.area == 15"
   ]
  },
  {
   "cell_type": "code",
   "execution_count": 40,
   "metadata": {},
   "outputs": [
    {
     "ename": "AssertionError",
     "evalue": "",
     "output_type": "error",
     "traceback": [
      "\u001b[0;31m---------------------------------------------------------------------------\u001b[0m",
      "\u001b[0;31mAssertionError\u001b[0m                            Traceback (most recent call last)",
      "\u001b[0;32m<ipython-input-40-8e2484ea167a>\u001b[0m in \u001b[0;36m<module>\u001b[0;34m\u001b[0m\n\u001b[1;32m      1\u001b[0m \u001b[0mrectangle\u001b[0m \u001b[0;34m=\u001b[0m \u001b[0mRectangle\u001b[0m\u001b[0;34m(\u001b[0m\u001b[0;36m2\u001b[0m\u001b[0;34m,\u001b[0m \u001b[0;36m4\u001b[0m\u001b[0;34m)\u001b[0m\u001b[0;34m\u001b[0m\u001b[0;34m\u001b[0m\u001b[0m\n\u001b[0;32m----> 2\u001b[0;31m \u001b[0;32massert\u001b[0m \u001b[0mrectangle\u001b[0m\u001b[0;34m.\u001b[0m\u001b[0marea\u001b[0m \u001b[0;34m==\u001b[0m \u001b[0;36m12\u001b[0m\u001b[0;34m\u001b[0m\u001b[0;34m\u001b[0m\u001b[0m\n\u001b[0m",
      "\u001b[0;31mAssertionError\u001b[0m: "
     ]
    }
   ],
   "source": [
    "rectangle = Rectangle(2, 4)\n",
    "assert rectangle.area == 12"
   ]
  },
  {
   "cell_type": "code",
   "execution_count": 46,
   "metadata": {},
   "outputs": [
    {
     "data": {
      "text/plain": [
       "{'_length': 3, '_height': 5}"
      ]
     },
     "execution_count": 46,
     "metadata": {},
     "output_type": "execute_result"
    }
   ],
   "source": [
    "square.__dict__"
   ]
  },
  {
   "cell_type": "code",
   "execution_count": 43,
   "metadata": {},
   "outputs": [],
   "source": [
    "square = Square(2)\n",
    "assert square.area == 4"
   ]
  },
  {
   "cell_type": "code",
   "execution_count": 44,
   "metadata": {},
   "outputs": [
    {
     "name": "stdout",
     "output_type": "stream",
     "text": [
      "Square area: 15\n"
     ]
    }
   ],
   "source": [
    "square.resize(3, 5)\n",
    "print(f'Square area: {square.area}')"
   ]
  },
  {
   "cell_type": "code",
   "execution_count": 45,
   "metadata": {},
   "outputs": [
    {
     "data": {
      "text/plain": [
       "15"
      ]
     },
     "execution_count": 45,
     "metadata": {},
     "output_type": "execute_result"
    }
   ],
   "source": [
    "square.area"
   ]
  },
  {
   "cell_type": "code",
   "execution_count": null,
   "metadata": {},
   "outputs": [],
   "source": []
  },
  {
   "cell_type": "code",
   "execution_count": null,
   "metadata": {},
   "outputs": [],
   "source": []
  },
  {
   "cell_type": "code",
   "execution_count": 19,
   "metadata": {},
   "outputs": [],
   "source": [
    "from hr.hr import PayrollSystem\n",
    "from hr.productivity import ProductivitySystem\n",
    "from hr.employees import EmployeeDatabase\n"
   ]
  },
  {
   "cell_type": "code",
   "execution_count": 21,
   "metadata": {},
   "outputs": [],
   "source": [
    "employee_database = EmployeeDatabase()"
   ]
  },
  {
   "cell_type": "code",
   "execution_count": 36,
   "metadata": {},
   "outputs": [
    {
     "data": {
      "text/plain": [
       "{'_roles': {'manager': hr.productivity.ManagerRole,\n",
       "  'secretary': hr.productivity.SecretaryRole,\n",
       "  'sales': hr.productivity.SalesRole,\n",
       "  'factory': hr.productivity.FactoryRole}}"
      ]
     },
     "execution_count": 36,
     "metadata": {},
     "output_type": "execute_result"
    }
   ],
   "source": [
    "employee_database.__dict__['productivity'].__dict__"
   ]
  },
  {
   "cell_type": "code",
   "execution_count": 8,
   "metadata": {},
   "outputs": [],
   "source": [
    "productivity_system = ProductivitySystem()\n",
    "payroll_system = PayrollSystem()\n",
    "employee_database = EmployeeDatabase()"
   ]
  },
  {
   "cell_type": "code",
   "execution_count": 24,
   "metadata": {},
   "outputs": [],
   "source": [
    "employees = employee_database.employees"
   ]
  },
  {
   "cell_type": "code",
   "execution_count": 27,
   "metadata": {},
   "outputs": [
    {
     "data": {
      "text/plain": [
       "{'id': 1,\n",
       " 'name': 'Mary Poppins',\n",
       " 'address': <hr.contacts.Address at 0x7f36000dc9e8>,\n",
       " 'role': <hr.productivity.ManagerRole at 0x7f35f27c3860>,\n",
       " 'payroll': <hr.hr.SalaryPolicy at 0x7f36000dcef0>}"
      ]
     },
     "execution_count": 27,
     "metadata": {},
     "output_type": "execute_result"
    }
   ],
   "source": [
    "employees[0].__dict__"
   ]
  },
  {
   "cell_type": "code",
   "execution_count": 15,
   "metadata": {},
   "outputs": [
    {
     "data": {
      "text/plain": [
       "'screams and yells for 5 hours.'"
      ]
     },
     "execution_count": 15,
     "metadata": {},
     "output_type": "execute_result"
    }
   ],
   "source": [
    "productivity_system.get_role('manager').perform_duties(5)"
   ]
  },
  {
   "cell_type": "code",
   "execution_count": 12,
   "metadata": {},
   "outputs": [
    {
     "data": {
      "text/plain": [
       "{'_employee_policies': {1: <hr.hr.SalaryPolicy at 0x7f3600055048>,\n",
       "  2: <hr.hr.SalaryPolicy at 0x7f3600055080>,\n",
       "  3: <hr.hr.CommissionPolicy at 0x7f36000550b8>,\n",
       "  4: <hr.hr.HourlyPolicy at 0x7f36000550f0>,\n",
       "  5: <hr.hr.HourlyPolicy at 0x7f3600055128>}}"
      ]
     },
     "execution_count": 12,
     "metadata": {},
     "output_type": "execute_result"
    }
   ],
   "source": [
    "payroll_system.__dict__"
   ]
  },
  {
   "cell_type": "code",
   "execution_count": 18,
   "metadata": {},
   "outputs": [
    {
     "name": "stdout",
     "output_type": "stream",
     "text": [
      "Tracking Employee Productivity\n",
      "==============================\n",
      "Employee 1 - Mary Poppins:\n",
      "- screams and yells for 5 hours.\n",
      "\n",
      "Employee 2 - John Smith:\n",
      "- does paperwork for 5 hours.\n",
      "\n",
      "Employee 3 - Kevin Bacon:\n",
      "- expends 5 hours on the phone.\n",
      "\n",
      "Employee 4 - Jane Doe:\n",
      "- manufactures gadgets for 5 hours.\n",
      "\n",
      "Employee 5 - Robin Williams:\n",
      "- does paperwork for 5 hours.\n",
      "\n",
      "\n"
     ]
    }
   ],
   "source": [
    "productivity_system.track(employees, 5)"
   ]
  },
  {
   "cell_type": "code",
   "execution_count": 7,
   "metadata": {},
   "outputs": [
    {
     "name": "stdout",
     "output_type": "stream",
     "text": [
      "Calculating Payroll\n",
      "===================\n",
      "Payroll for: 1 - Mary Poppins\n",
      "- Check amount: 3000\n",
      "- Sent to:\n",
      "121 Admin Rd.\n",
      "Concord, NH 03301\n",
      "\n",
      "Payroll for: 2 - John Smith\n",
      "- Check amount: 1500\n",
      "- Sent to:\n",
      "67 Paperwork Ave\n",
      "Manchester, NH 03101\n",
      "\n",
      "Payroll for: 3 - Kevin Bacon\n",
      "- Check amount: 1800.0\n",
      "- Sent to:\n",
      "15 Rose St\n",
      "Apt. B-1\n",
      "Concord, NH 03301\n",
      "\n",
      "Payroll for: 4 - Jane Doe\n",
      "- Check amount: 600\n",
      "- Sent to:\n",
      "39 Sole St.\n",
      "Concord, NH 03301\n",
      "\n",
      "Payroll for: 5 - Robin Williams\n",
      "- Check amount: 360\n",
      "- Sent to:\n",
      "99 Mountain Rd.\n",
      "Concord, NH 03301\n",
      "\n"
     ]
    }
   ],
   "source": [
    "payroll_system.calculate_payroll(employees)"
   ]
  },
  {
   "cell_type": "code",
   "execution_count": null,
   "metadata": {},
   "outputs": [],
   "source": []
  },
  {
   "cell_type": "code",
   "execution_count": null,
   "metadata": {},
   "outputs": [],
   "source": []
  },
  {
   "cell_type": "code",
   "execution_count": 74,
   "metadata": {},
   "outputs": [],
   "source": [
    "import json\n",
    "\n",
    "from hr.hr import calculate_payroll, LTDPolicy\n",
    "from hr.productivity import track\n",
    "from hr.employees import employee_database, Employee\n",
    "\n",
    "\n",
    "def print_dict(d):\n",
    "    print(json.dumps(d, indent=2))"
   ]
  },
  {
   "cell_type": "code",
   "execution_count": 75,
   "metadata": {},
   "outputs": [],
   "source": [
    "employees = employee_database.employees"
   ]
  },
  {
   "cell_type": "code",
   "execution_count": 81,
   "metadata": {},
   "outputs": [
    {
     "data": {
      "text/plain": [
       "{'id': 3,\n",
       " 'name': 'Kevin Bacon',\n",
       " 'address': <hr.contacts.Address at 0x7fa0d4818ac8>,\n",
       " '_role': <hr.productivity.SalesRole at 0x7fa0d47af3c8>,\n",
       " '_payroll': <hr.hr.CommissionPolicy at 0x7fa0d4818be0>}"
      ]
     },
     "execution_count": 81,
     "metadata": {},
     "output_type": "execute_result"
    }
   ],
   "source": [
    "employees[2].__dict__"
   ]
  },
  {
   "cell_type": "code",
   "execution_count": 91,
   "metadata": {},
   "outputs": [
    {
     "name": "stdout",
     "output_type": "stream",
     "text": [
      "Tracking Employee Productivity\n",
      "==============================\n",
      "Employee 1 - Mary Poppins:\n",
      "- screams and yells for 40 hours.\n",
      "\n",
      "Mary Poppins: None\n",
      "Employee 2 - John Smith:\n",
      "- does paperwork for 40 hours.\n",
      "\n",
      "John Smith: None\n",
      "Employee 3 - Kevin Bacon:\n",
      "- expends 40 hours on the phone.\n",
      "\n",
      "Kevin Bacon: None\n",
      "Employee 4 - Jane Doe:\n",
      "- manufactures gadgets for 40 hours\n",
      "\n",
      "Jane Doe: None\n",
      "Employee 5 - Robin Williams:\n",
      "- does paperwork for 40 hours.\n",
      "\n",
      "Robin Williams: None\n",
      "\n"
     ]
    }
   ],
   "source": [
    "track(employees, 40)"
   ]
  },
  {
   "cell_type": "code",
   "execution_count": 101,
   "metadata": {},
   "outputs": [
    {
     "name": "stdout",
     "output_type": "stream",
     "text": [
      "{\n",
      "  \"id\": \"3\",\n",
      "  \"name\": \"Kevin Bacon\",\n",
      "  \"address\": {\n",
      "    \"street\": \"15 Rose St\",\n",
      "    \"street2\": \"Apt. B-1\",\n",
      "    \"city\": \"Concord\",\n",
      "    \"state\": \"NH\",\n",
      "    \"zipcode\": \"03301\"\n",
      "  }\n",
      "}\n"
     ]
    }
   ],
   "source": [
    "print_dict(employees[2].to_dict())"
   ]
  },
  {
   "cell_type": "code",
   "execution_count": null,
   "metadata": {},
   "outputs": [],
   "source": []
  },
  {
   "cell_type": "code",
   "execution_count": null,
   "metadata": {},
   "outputs": [],
   "source": []
  },
  {
   "cell_type": "code",
   "execution_count": null,
   "metadata": {},
   "outputs": [],
   "source": []
  },
  {
   "cell_type": "code",
   "execution_count": null,
   "metadata": {},
   "outputs": [],
   "source": []
  },
  {
   "cell_type": "code",
   "execution_count": null,
   "metadata": {},
   "outputs": [],
   "source": []
  },
  {
   "cell_type": "code",
   "execution_count": null,
   "metadata": {},
   "outputs": [],
   "source": []
  },
  {
   "cell_type": "code",
   "execution_count": null,
   "metadata": {},
   "outputs": [],
   "source": []
  },
  {
   "cell_type": "code",
   "execution_count": null,
   "metadata": {},
   "outputs": [],
   "source": []
  },
  {
   "cell_type": "code",
   "execution_count": null,
   "metadata": {},
   "outputs": [],
   "source": []
  },
  {
   "cell_type": "code",
   "execution_count": null,
   "metadata": {},
   "outputs": [],
   "source": []
  }
 ],
 "metadata": {
  "kernelspec": {
   "display_name": "bril",
   "language": "python",
   "name": "bril"
  },
  "language_info": {
   "codemirror_mode": {
    "name": "ipython",
    "version": 3
   },
   "file_extension": ".py",
   "mimetype": "text/x-python",
   "name": "python",
   "nbconvert_exporter": "python",
   "pygments_lexer": "ipython3",
   "version": "3.7.3"
  }
 },
 "nbformat": 4,
 "nbformat_minor": 4
}
