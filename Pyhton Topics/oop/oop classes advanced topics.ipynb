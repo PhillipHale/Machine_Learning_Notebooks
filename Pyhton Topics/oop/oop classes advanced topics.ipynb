{
 "cells": [
  {
   "cell_type": "markdown",
   "metadata": {},
   "source": [
    "\n",
    "\n",
    "Topics Covered\n",
    "\n",
    "* Protocols of the python language\n",
    "* Reducing boilerplate with data classes\n",
    "* Subclassing built-in types\n",
    "* Accessing methods from superclasses\n",
    "* Slots\n",
    "\n",
    "\n",
    "### Reducing boilerplate with data classes\n",
    "\n",
    "`dataclass` module in py provides a decorator and function that allows you to easily add generated special methods to your own class. "
   ]
  },
  {
   "cell_type": "code",
   "execution_count": null,
   "metadata": {},
   "outputs": [],
   "source": [
    "%load_ext autoreload\n",
    "%autoreload 2"
   ]
  },
  {
   "cell_type": "code",
   "execution_count": 3,
   "metadata": {},
   "outputs": [],
   "source": [
    "class Vector:\n",
    "    def __init__(self, x, y):\n",
    "        self.x = x\n",
    "        self.y = y\n",
    "\n",
    "    def __add__(self, other):\n",
    "        \"\"\"Add two vectors using + operator\"\"\"\n",
    "        return Vector(\n",
    "            self.x + other.x,\n",
    "            self.y + other.y,\n",
    "        )\n",
    "\n",
    "    def __sub__(self, other):\n",
    "        \"\"\"Subtract two vectors using - operator\"\"\"\n",
    "        return Vector(\n",
    "            self.x - other.x,\n",
    "            self.y - other.y,\n",
    "        )\n",
    "\n",
    "    def __repr__(self):\n",
    "        \"\"\"Return textual representation of vector\"\"\"\n",
    "        return f\"<Vector: x={self.x}, y={self.y}>\"\n",
    "\n",
    "    def __eq__(self, other):\n",
    "        \"\"\"Compare two vectors for equality\"\"\"\n",
    "        return self.x == other.x and self.y == other.y"
   ]
  },
  {
   "cell_type": "markdown",
   "metadata": {},
   "source": [
    "Below are the results of using the class based on usage with common operators"
   ]
  },
  {
   "cell_type": "code",
   "execution_count": 6,
   "metadata": {},
   "outputs": [
    {
     "name": "stdout",
     "output_type": "stream",
     "text": [
      "<Vector: x=2, y=3>\n",
      "<Vector: x=6, y=5>\n",
      "<Vector: x=4, y=1>\n",
      "False\n",
      "True\n"
     ]
    }
   ],
   "source": [
    "print(Vector(2,3))\n",
    "print(Vector(5,3) + Vector(1,2))\n",
    "print(Vector(5,3) - Vector(1,2))\n",
    "print(Vector(1,1) == Vector(2,2))\n",
    "print(Vector(2,2) == Vector(2,2))"
   ]
  },
  {
   "cell_type": "markdown",
   "metadata": {},
   "source": [
    "The Vector classes above is very repetivive that can be avoited using the `dataclass` module, like so:"
   ]
  },
  {
   "cell_type": "code",
   "execution_count": 7,
   "metadata": {},
   "outputs": [],
   "source": [
    "from dataclasses import dataclass\n",
    "\n",
    "\n",
    "@dataclass\n",
    "class Vector:\n",
    "    x: int\n",
    "    y: int\n",
    "\n",
    "    def __add__(self, other):\n",
    "        \"\"\"Add two vectors using + operator\"\"\"\n",
    "        return Vector(\n",
    "            self.x + other.x,\n",
    "            self.y + other.y,\n",
    "        )\n",
    "\n",
    "    def __sub__(self, other):\n",
    "        \"\"\"Subtract two vectors using - operator\"\"\"\n",
    "        return Vector(\n",
    "            self.x - other.x,\n",
    "            self.y - other.y,\n",
    "        )"
   ]
  },
  {
   "cell_type": "code",
   "execution_count": 8,
   "metadata": {},
   "outputs": [
    {
     "name": "stdout",
     "output_type": "stream",
     "text": [
      "Vector(x=2, y=3)\n",
      "Vector(x=6, y=5)\n",
      "Vector(x=4, y=1)\n",
      "False\n",
      "True\n"
     ]
    }
   ],
   "source": [
    "print(Vector(2,3))\n",
    "print(Vector(5,3) + Vector(1,2))\n",
    "print(Vector(5,3) - Vector(1,2))\n",
    "print(Vector(1,1) == Vector(2,2))\n",
    "print(Vector(2,2) == Vector(2,2))"
   ]
  },
  {
   "cell_type": "markdown",
   "metadata": {},
   "source": [
    "Above, with the addition of the `@dataclass` decorator, the `@dataclass` reads annotations of the `Vector` class attribute and automatically creates the `__init__()`, `__repr__()` and `__eq__()` methods and the defual equality coparision assums that the 2 instances ar eequal if all their respective attributes are equal to eahc other. \n",
    "\n",
    "Additionally, by adding in the `frozen=True` arugment the `@dataclass` decorator makes the __class instance immutable__ _(cannot modify any of the attributes)_, and therefore, we can use them as dictionary keys and content sets. "
   ]
  },
  {
   "cell_type": "code",
   "execution_count": 23,
   "metadata": {},
   "outputs": [],
   "source": [
    "@dataclass(frozen=True)\n",
    "class FrozenVector:\n",
    "    x: int\n",
    "    y: int"
   ]
  },
  {
   "cell_type": "code",
   "execution_count": 24,
   "metadata": {},
   "outputs": [
    {
     "name": "stdout",
     "output_type": "stream",
     "text": [
      "FrozenVector(x=2, y=5)\n"
     ]
    },
    {
     "ename": "FrozenInstanceError",
     "evalue": "cannot assign to field 'x'",
     "output_type": "error",
     "traceback": [
      "\u001b[0;31m---------------------------------------------------------------------------\u001b[0m",
      "\u001b[0;31mFrozenInstanceError\u001b[0m                       Traceback (most recent call last)",
      "\u001b[0;32m<ipython-input-24-f3fcdc3d14bf>\u001b[0m in \u001b[0;36m<module>\u001b[0;34m\u001b[0m\n\u001b[1;32m      1\u001b[0m \u001b[0mk\u001b[0m \u001b[0;34m=\u001b[0m \u001b[0mFrozenVector\u001b[0m\u001b[0;34m(\u001b[0m\u001b[0;36m2\u001b[0m\u001b[0;34m,\u001b[0m\u001b[0;36m5\u001b[0m\u001b[0;34m)\u001b[0m\u001b[0;34m\u001b[0m\u001b[0;34m\u001b[0m\u001b[0m\n\u001b[1;32m      2\u001b[0m \u001b[0mprint\u001b[0m\u001b[0;34m(\u001b[0m\u001b[0mk\u001b[0m\u001b[0;34m)\u001b[0m\u001b[0;34m\u001b[0m\u001b[0;34m\u001b[0m\u001b[0m\n\u001b[0;32m----> 3\u001b[0;31m \u001b[0mk\u001b[0m\u001b[0;34m.\u001b[0m\u001b[0mx\u001b[0m \u001b[0;34m=\u001b[0m \u001b[0;36m10\u001b[0m\u001b[0;34m\u001b[0m\u001b[0;34m\u001b[0m\u001b[0m\n\u001b[0m",
      "\u001b[0;32m<string>\u001b[0m in \u001b[0;36m__setattr__\u001b[0;34m(self, name, value)\u001b[0m\n",
      "\u001b[0;31mFrozenInstanceError\u001b[0m: cannot assign to field 'x'"
     ]
    }
   ],
   "source": [
    "k = FrozenVector(2,5)\n",
    "print(k)\n",
    "k.x = 10"
   ]
  },
  {
   "cell_type": "code",
   "execution_count": 25,
   "metadata": {},
   "outputs": [
    {
     "name": "stdout",
     "output_type": "stream",
     "text": [
      "Vector(x=2, y=3)\n",
      "Vector(x=4, y=3)\n"
     ]
    }
   ],
   "source": [
    "k1 = Vector(2,3)\n",
    "print(k1)\n",
    "k1.x = 4\n",
    "print(k1)"
   ]
  },
  {
   "cell_type": "markdown",
   "metadata": {},
   "source": [
    "---\n",
    "## MRO and Superclass\n",
    "\n",
    "`super()` is builtin funciton that returns a proxy object _(temporary object of the superclass)_ that allows us to access mehtods of the base class. This enables us to:\n",
    "1. avoid using the base class name explicitly\n",
    "2. working with multiple inheritances\n",
    "\n",
    "\n",
    "```\n",
    ">>> super\n",
    "<class 'super'>\n",
    ">>> isinstance(super, type)\n",
    "```\n",
    "\n",
    "Below is the non-superclass inheritance, where we are accessing a class attribute/method by calling the parent class directly and passing `self` as the first argument. like so:"
   ]
  },
  {
   "cell_type": "code",
   "execution_count": 47,
   "metadata": {},
   "outputs": [],
   "source": [
    "class Mama:  # this is the old way \n",
    "    def says(self): \n",
    "        print('do your homework') \n",
    " \n",
    "          \n",
    "class Sister(Mama): \n",
    "    def says(self): \n",
    "        Mama.says(self) \n",
    "        print('and clean your bedroom')"
   ]
  },
  {
   "cell_type": "code",
   "execution_count": 56,
   "metadata": {},
   "outputs": [
    {
     "name": "stdout",
     "output_type": "stream",
     "text": [
      "do your homework\n",
      "None\n",
      "====\n",
      "do your homework\n",
      "and clean your bedroom\n",
      "None\n"
     ]
    }
   ],
   "source": [
    "print(Mama().says())\n",
    "print(\"====\")\n",
    "print(Sister().says())"
   ]
  },
  {
   "cell_type": "markdown",
   "metadata": {},
   "source": [
    "In the `Sister` class we call the `Mama.says(self)` is the usage of the __parent class__ indicating the funciton `says()` belongs to Mama will be called... however, the instance which its being called is provided as the `self` argument that is the instance of the `Sister` class. This is the perfect scenario we can use the `super()`, \n",
    "\n",
    "like so:"
   ]
  },
  {
   "cell_type": "code",
   "execution_count": 57,
   "metadata": {},
   "outputs": [],
   "source": [
    "class Sister(Mama):\n",
    "    def says(self):\n",
    "        #super(Sister, self).says()\n",
    "        super().says()\n",
    "        print('and clean your bedroom')"
   ]
  },
  {
   "cell_type": "code",
   "execution_count": 58,
   "metadata": {},
   "outputs": [
    {
     "name": "stdout",
     "output_type": "stream",
     "text": [
      "do your homework\n",
      "and clean your bedroom\n"
     ]
    }
   ],
   "source": [
    "Sister().says()"
   ]
  },
  {
   "cell_type": "markdown",
   "metadata": {},
   "source": [
    "We do this and dont even pass any arguments with the addition of `super()`. In face we can use `usper` anywhere the _explicit call to the method of superclass implinentation is required_. "
   ]
  },
  {
   "cell_type": "code",
   "execution_count": 88,
   "metadata": {},
   "outputs": [],
   "source": [
    "class Pizza: \n",
    "    def __init__(self, toppings): \n",
    "        self.toppings = toppings \n",
    " \n",
    "    def __repr__(self): \n",
    "        return \"Pizza with \" + \" and \".join(self.toppings) \n",
    " \n",
    "    @classmethod \n",
    "    def recommend(cls): \n",
    "        \"\"\"Recommend some pizza with arbitrary toppings,\"\"\" \n",
    "        return cls(['spam', 'ham', 'eggs']) \n",
    " \n",
    " \n",
    "class VikingPizza(Pizza): \n",
    "    @classmethod \n",
    "    def recommend(cls): \n",
    "        \"\"\"Use same recommendation as super but add extra spam\"\"\" \n",
    "        recommended = super(VikingPizza).recommend() \n",
    "        recommended.toppings += ['spam'] * 5 \n",
    "        return recommended "
   ]
  },
  {
   "cell_type": "code",
   "execution_count": 83,
   "metadata": {},
   "outputs": [
    {
     "data": {
      "text/plain": [
       "<bound method VikingPizza.recommend of <class '__main__.VikingPizza'>>"
      ]
     },
     "execution_count": 83,
     "metadata": {},
     "output_type": "execute_result"
    }
   ],
   "source": [
    "VikingPizza('ham').recommend"
   ]
  },
  {
   "cell_type": "code",
   "execution_count": 76,
   "metadata": {},
   "outputs": [
    {
     "data": {
      "text/plain": [
       "Pizza with s and p and a and m"
      ]
     },
     "execution_count": 76,
     "metadata": {},
     "output_type": "execute_result"
    }
   ],
   "source": [
    "VikingPizza('spam')"
   ]
  },
  {
   "cell_type": "code",
   "execution_count": 80,
   "metadata": {},
   "outputs": [
    {
     "data": {
      "text/plain": [
       "<bound method VikingPizza.recommend of Pizza with s and p and a and m>"
      ]
     },
     "execution_count": 80,
     "metadata": {},
     "output_type": "execute_result"
    }
   ],
   "source": [
    "VikingPizza('spam').recommend"
   ]
  },
  {
   "cell_type": "code",
   "execution_count": 89,
   "metadata": {},
   "outputs": [
    {
     "data": {
      "text/plain": [
       "<bound method VikingPizza.recommend of <class '__main__.VikingPizza'>>"
      ]
     },
     "execution_count": 89,
     "metadata": {},
     "output_type": "execute_result"
    }
   ],
   "source": [
    "VikingPizza('spam').recommend"
   ]
  },
  {
   "cell_type": "markdown",
   "metadata": {},
   "source": [
    "---\n",
    "### Method Resolution Order (MRO)\n",
    "\n",
    "Since we are going to have class inheritance, the class that is being heherited is called the __Parent class__ or __Superclass__, while the class that inherits is called hte __Child class__ or __Subclass__.\n",
    "\n",
    "__Method Resolution Order (MRO)__  defines the __order__ in which the _base classes_ are searced when executing a method. Generally, the method is searched _within a class_ and the it follows the _order we specified while inheriting_\n"
   ]
  },
  {
   "cell_type": "code",
   "execution_count": 98,
   "metadata": {},
   "outputs": [],
   "source": [
    "class CommonBase: \n",
    "    def method(self): \n",
    "        print('CommonBase') \n",
    " \n",
    " \n",
    "class Base1(CommonBase): \n",
    "    pass \n",
    " \n",
    " \n",
    "class Base2(CommonBase): \n",
    "    def method(self): \n",
    "        print('Base2') \n",
    " \n",
    " \n",
    "class MyClass(Base1, Base2): \n",
    "    pass"
   ]
  },
  {
   "cell_type": "markdown",
   "metadata": {},
   "source": [
    "Above `Base` and `Base2` inherit form the Parent Class `CommonBase`"
   ]
  },
  {
   "cell_type": "code",
   "execution_count": 99,
   "metadata": {},
   "outputs": [
    {
     "name": "stdout",
     "output_type": "stream",
     "text": [
      "Base2\n"
     ]
    }
   ],
   "source": [
    "MyClass().method()"
   ]
  },
  {
   "cell_type": "markdown",
   "metadata": {},
   "source": [
    "---\n",
    "## Advanced attribute access patterns\n",
    "\n",
    "__name mangling__ - every time an attribute is prefixed by __, it is renamed by the interpreter on the fly:\n",
    "\n",
    "\n",
    "- _https://www.geeksforgeeks.org/name-mangling-in-python/_\n",
    "- _https://www.geeksforgeeks.org/private-variables-python/_"
   ]
  },
  {
   "cell_type": "code",
   "execution_count": 125,
   "metadata": {},
   "outputs": [],
   "source": [
    "class MyClass: \n",
    "    __secret_value = 1 \n",
    "    _secret_value = 1 \n",
    "    secret_value = 1"
   ]
  },
  {
   "cell_type": "code",
   "execution_count": 126,
   "metadata": {},
   "outputs": [
    {
     "name": "stdout",
     "output_type": "stream",
     "text": [
      "1\n",
      "1\n"
     ]
    },
    {
     "ename": "AttributeError",
     "evalue": "'MyClass' object has no attribute '__secret_value'",
     "output_type": "error",
     "traceback": [
      "\u001b[0;31m---------------------------------------------------------------------------\u001b[0m",
      "\u001b[0;31mAttributeError\u001b[0m                            Traceback (most recent call last)",
      "\u001b[0;32m<ipython-input-126-72759cfdd632>\u001b[0m in \u001b[0;36m<module>\u001b[0;34m\u001b[0m\n\u001b[1;32m      1\u001b[0m \u001b[0mprint\u001b[0m\u001b[0;34m(\u001b[0m\u001b[0mMyClass\u001b[0m\u001b[0;34m(\u001b[0m\u001b[0;34m)\u001b[0m\u001b[0;34m.\u001b[0m\u001b[0m_secret_value\u001b[0m\u001b[0;34m)\u001b[0m\u001b[0;34m\u001b[0m\u001b[0;34m\u001b[0m\u001b[0m\n\u001b[1;32m      2\u001b[0m \u001b[0mprint\u001b[0m\u001b[0;34m(\u001b[0m\u001b[0mMyClass\u001b[0m\u001b[0;34m(\u001b[0m\u001b[0;34m)\u001b[0m\u001b[0;34m.\u001b[0m\u001b[0msecret_value\u001b[0m\u001b[0;34m)\u001b[0m\u001b[0;34m\u001b[0m\u001b[0;34m\u001b[0m\u001b[0m\n\u001b[0;32m----> 3\u001b[0;31m \u001b[0mprint\u001b[0m\u001b[0;34m(\u001b[0m\u001b[0mMyClass\u001b[0m\u001b[0;34m(\u001b[0m\u001b[0;34m)\u001b[0m\u001b[0;34m.\u001b[0m\u001b[0m__secret_value\u001b[0m\u001b[0;34m)\u001b[0m\u001b[0;34m\u001b[0m\u001b[0;34m\u001b[0m\u001b[0m\n\u001b[0m",
      "\u001b[0;31mAttributeError\u001b[0m: 'MyClass' object has no attribute '__secret_value'"
     ]
    }
   ],
   "source": [
    "print(MyClass()._secret_value)\n",
    "print(MyClass().secret_value)\n",
    "print(MyClass().__secret_value)"
   ]
  },
  {
   "cell_type": "markdown",
   "metadata": {},
   "source": [
    "This feature could be used to protect the access of some attributes, but, in practice, __ should never be used. When an attribute is not public, the convention to use is a _ prefix. This does not invoke any name mangling algorithm, but just documents the attribute as a private element of the class and is the prevailing style.\n",
    "\n"
   ]
  },
  {
   "cell_type": "code",
   "execution_count": null,
   "metadata": {},
   "outputs": [],
   "source": []
  },
  {
   "cell_type": "markdown",
   "metadata": {},
   "source": [
    "### Descriptors\n",
    "\n",
    "## Descriptors\n",
    "\n",
    "__Descriptors__ lets you customize what should be done when you refer to an attribute of an object. They are classes that define how attributes of another class can be accesses. In other words, a class can delegate the management of an attribute to another one. \n",
    "\n",
    "- _https://realpython.com/python-descriptors/_\n",
    "- _https://www.python-course.eu/python3_descriptors.php_\n",
    "\n",
    "The descriptor classes are based on three special methods that form the __dscriptor protocol__:\n",
    "* `__set__(self, obj, value)`: This is called whenever the attribute is set. In the following examples, I will refer to this as a setter.\n",
    "* `__get__(self, obj, owner=None)`: This is called whenever the attribute is read (referred to as a getter).\n",
    "* `__delete__(self, obj)`: This is called when del is invoked on the attribute\n"
   ]
  },
  {
   "cell_type": "code",
   "execution_count": 1,
   "metadata": {},
   "outputs": [
    {
     "name": "stdout",
     "output_type": "stream",
     "text": [
      "accessing the attribute to get the value\n",
      "42\n"
     ]
    }
   ],
   "source": [
    "class Verbose_attribute():\n",
    "    def __get__(self, obj, type=None) -> object:\n",
    "        print(\"accessing the attribute to get the value\")\n",
    "        return 42\n",
    "    def __set__(self, obj, value) -> None:\n",
    "        print(\"accessing the attribute to set the value\")\n",
    "        raise AttributeError(\"Cannot change the value\")\n",
    "\n",
    "class Foo():\n",
    "    attribute1 = Verbose_attribute()\n",
    "\n",
    "my_foo_object = Foo()\n",
    "x = my_foo_object.attribute1\n",
    "print(x)"
   ]
  },
  {
   "cell_type": "code",
   "execution_count": 2,
   "metadata": {},
   "outputs": [],
   "source": [
    "class RevealAccess(object): \n",
    "    \"\"\"A data descriptor that sets and returns values \n",
    "       normally and prints a message logging their access. \n",
    "    \"\"\" \n",
    " \n",
    "    def __init__(self, initval=None, name='var'): \n",
    "        self.val = initval \n",
    "        self.name = name \n",
    " \n",
    "    def __get__(self, obj, objtype): \n",
    "        print('Retrieving', self.name) \n",
    "        return self.val \n",
    " \n",
    "    def __set__(self, obj, val): \n",
    "        print('Updating', self.name) \n",
    "        self.val = val \n",
    " \n",
    " \n",
    "class MyClass(object): \n",
    "    x = RevealAccess(10, 'var \"x\"') \n",
    "    y = 5"
   ]
  },
  {
   "cell_type": "markdown",
   "metadata": {},
   "source": [
    "The preceding example clearly shows that, if a class has the data descriptor for the given attribute, then the descriptor's` __get__()` method is called to return the value every time the instance attribute is retrieved"
   ]
  },
  {
   "cell_type": "code",
   "execution_count": 3,
   "metadata": {},
   "outputs": [
    {
     "name": "stdout",
     "output_type": "stream",
     "text": [
      "Retrieving var \"x\"\n"
     ]
    },
    {
     "data": {
      "text/plain": [
       "10"
      ]
     },
     "execution_count": 3,
     "metadata": {},
     "output_type": "execute_result"
    }
   ],
   "source": [
    "m = MyClass()\n",
    "m.x"
   ]
  },
  {
   "cell_type": "markdown",
   "metadata": {},
   "source": [
    "and __set__() is called whenever a value is assigned to such an attribute"
   ]
  },
  {
   "cell_type": "code",
   "execution_count": 4,
   "metadata": {},
   "outputs": [
    {
     "name": "stdout",
     "output_type": "stream",
     "text": [
      "Updating var \"x\"\n"
     ]
    }
   ],
   "source": [
    "m.x = 20"
   ]
  },
  {
   "cell_type": "code",
   "execution_count": 5,
   "metadata": {},
   "outputs": [
    {
     "name": "stdout",
     "output_type": "stream",
     "text": [
      "Retrieving var \"x\"\n"
     ]
    },
    {
     "data": {
      "text/plain": [
       "20"
      ]
     },
     "execution_count": 5,
     "metadata": {},
     "output_type": "execute_result"
    }
   ],
   "source": [
    "m.x"
   ]
  },
  {
   "cell_type": "code",
   "execution_count": 6,
   "metadata": {},
   "outputs": [
    {
     "data": {
      "text/plain": [
       "5"
      ]
     },
     "execution_count": 6,
     "metadata": {},
     "output_type": "execute_result"
    }
   ],
   "source": [
    "m.y"
   ]
  },
  {
   "cell_type": "markdown",
   "metadata": {},
   "source": [
    "### Properties\n",
    "\n",
    "__Properties__ provide a built-in _descriptor_ type that knows how to __link an attribute to a set of methods__. `property` takes 4 optional arguments: `fget, fset, fdel` and,  `doc`\n",
    "\n",
    "_https://realpython.com/python-descriptors/_"
   ]
  },
  {
   "cell_type": "code",
   "execution_count": 17,
   "metadata": {},
   "outputs": [],
   "source": [
    "class Rectangle:\n",
    "    def __init__(self, x1, y1, x2, y2):\n",
    "        self.x1, self.y1 = x1, y1\n",
    "        self.x2, self.y2 = x2, y2\n",
    "\n",
    "    @property\n",
    "    def width(self):\n",
    "        \"\"\"rectangle width measured from left\"\"\"\n",
    "        return self.x2 - self.x1\n",
    "\n",
    "    @width.setter\n",
    "    def width(self, value):\n",
    "        self.x2 = self.x1 + value\n",
    "\n",
    "    @property\n",
    "    def height(self):\n",
    "        \"\"\"rectangle height measured from top\"\"\"\n",
    "        return self.y2 - self.y1\n",
    "\n",
    "    @height.setter\n",
    "    def height(self, value):\n",
    "        self.y2 = self.y1 + value"
   ]
  },
  {
   "cell_type": "code",
   "execution_count": 27,
   "metadata": {},
   "outputs": [
    {
     "data": {
      "text/plain": [
       "(15, 24)"
      ]
     },
     "execution_count": 27,
     "metadata": {},
     "output_type": "execute_result"
    }
   ],
   "source": [
    "rec = Rectangle(10, 10, 25, 34)\n",
    "rec.width, rec.height"
   ]
  },
  {
   "cell_type": "code",
   "execution_count": 31,
   "metadata": {},
   "outputs": [
    {
     "data": {
      "text/plain": [
       "{'x1': 10, 'y1': 10, 'x2': 110, 'y2': 34}"
      ]
     },
     "execution_count": 31,
     "metadata": {},
     "output_type": "execute_result"
    }
   ],
   "source": [
    "rec.width = 100\n",
    "rec.__dict__"
   ]
  },
  {
   "cell_type": "code",
   "execution_count": null,
   "metadata": {},
   "outputs": [],
   "source": []
  },
  {
   "cell_type": "code",
   "execution_count": null,
   "metadata": {},
   "outputs": [],
   "source": []
  },
  {
   "cell_type": "code",
   "execution_count": null,
   "metadata": {},
   "outputs": [],
   "source": []
  },
  {
   "cell_type": "code",
   "execution_count": null,
   "metadata": {},
   "outputs": [],
   "source": []
  },
  {
   "cell_type": "code",
   "execution_count": null,
   "metadata": {},
   "outputs": [],
   "source": []
  },
  {
   "cell_type": "code",
   "execution_count": null,
   "metadata": {},
   "outputs": [],
   "source": []
  },
  {
   "cell_type": "code",
   "execution_count": null,
   "metadata": {},
   "outputs": [],
   "source": []
  },
  {
   "cell_type": "code",
   "execution_count": null,
   "metadata": {},
   "outputs": [],
   "source": []
  },
  {
   "cell_type": "code",
   "execution_count": null,
   "metadata": {},
   "outputs": [],
   "source": []
  }
 ],
 "metadata": {
  "kernelspec": {
   "display_name": "bril",
   "language": "python",
   "name": "bril"
  },
  "language_info": {
   "codemirror_mode": {
    "name": "ipython",
    "version": 3
   },
   "file_extension": ".py",
   "mimetype": "text/x-python",
   "name": "python",
   "nbconvert_exporter": "python",
   "pygments_lexer": "ipython3",
   "version": "3.7.3"
  }
 },
 "nbformat": 4,
 "nbformat_minor": 4
}
