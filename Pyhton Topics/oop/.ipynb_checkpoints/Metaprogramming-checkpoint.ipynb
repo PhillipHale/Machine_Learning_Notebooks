{
 "cells": [
  {
   "cell_type": "markdown",
   "metadata": {},
   "source": [
    "# Metaprogramming\n",
    "\n",
    "__Program that write programs...__\n",
    "\n",
    "Objects are created by other objects: special objects are called _\"classes\"_ that we can set up to split out objects that are configured to our likings. To modify a class, you perform operations on it like any other class (e.g., add, subtrackt fields). The difference is that any change you make to a class affects all the obects of that class, even hte ones that have been already instantiated. \n",
    "\n",
    "What creates these special _\"class\"_ objectS? Other special objects, called __metaclass__\n",
    "\n",
    "![](https://media.geeksforgeeks.org/wp-content/uploads/metaclass-hierarchy-Page-1-1024x370.jpeg)\n",
    "\n",
    "- _[Expert Python Programming 3e](https://www.packtpub.com/application-development/expert-python-programming-third-edition)_\n",
    "- https://www.geeksforgeeks.org/metaprogramming-metaclasses-python/\n",
    "- https://uwpce-pythoncert.github.io/PythonCertDevel/modules/MetaProgramming.html\n",
    "- https://python-3-patterns-idioms-test.readthedocs.io/en/latest/Metaprogramming.html\n",
    "\n",
    "### Elements of Metaprogramming\n",
    "\n",
    "“Metaprogramming is a programming technique in which computer programs have the ability to treat programs as their data. It means that a program can be designed to read, generate, analyze or transform other programs, and even modify itself while running.”\n",
    "\n",
    "#### Everything is an object\n",
    "\n",
    "Everything is an object in pything: simple types liek numbers and strings, and functions and classes. This means everything:\n",
    "- can be created at runtime\n",
    "- passed a parameter\n",
    "- returned from a function\n",
    "- assigned to a variable\n",
    "\n",
    "This enable __instrospection__ - _the ability of a program to edamine the type or properties of an object at runtime_"
   ]
  },
  {
   "cell_type": "markdown",
   "metadata": {},
   "source": [
    "Topics covered\n",
    "* Decorators\n",
    "* Metaclasses\n",
    "* Code generation\n",
    "\n",
    "\n",
    "#### Dectorators + Metaprogrammign\n",
    "\n",
    "__Decorators__ are a method of _metaprogramming_ as it takes a function object and moifies it at runtime. As a result, a new functions (or anything else) is crated based on the previous funcitno object wiht the same name. Here is an example class decorator that modifies the `__repr__()` method to return the printable object representation, which is shortened to some arbitrary number of characters:\n"
   ]
  },
  {
   "cell_type": "code",
   "execution_count": 5,
   "metadata": {},
   "outputs": [],
   "source": [
    "def short_repr(cls): \n",
    "    cls.__repr__ = lambda self: super(cls, self).__repr__()[:8] \n",
    "    return cls \n",
    " \n",
    "@short_repr \n",
    "class ClassWithRelativelyLongName: \n",
    "    pass "
   ]
  },
  {
   "cell_type": "code",
   "execution_count": 6,
   "metadata": {},
   "outputs": [
    {
     "data": {
      "text/plain": [
       "<__main_"
      ]
     },
     "execution_count": 6,
     "metadata": {},
     "output_type": "execute_result"
    }
   ],
   "source": [
    "ClassWithRelativelyLongName()"
   ]
  },
  {
   "cell_type": "markdown",
   "metadata": {},
   "source": [
    "it shows how multiple language features that are explained in the previous chapter can be used together, for example:\n",
    "\n",
    "- Not only instances but also class objects can be modified at runtime\n",
    "- Functions are descriptors too, so they can be added to the class at runtime because the actual method binding is performed on the attribute lookup as part of the descriptor protocol\n",
    "- The super() call can be used outside of a class definition scope as long as proper arguments are provided\n",
    "- Finally, class decorators can be used on class definitions\n",
    "\n",
    "\n",
    "Decorators is a metaprogramming tool, it manupulates funcitons iwth code.\n",
    "\n",
    "### Introspection and maniputaltion tools\n",
    "\n",
    "Name spaces and dictionaries can be direclty manipulated the names and associated values of many objects directly. \n",
    "\n",
    "You can get the dict of the namespace with `vars()` builtin:\n",
    "> “… It isn’t to be a slightly different version of dir(), instead vars() should return the object’s namespace. Not a copy of the namespace, but the actual namespace used by the object.”"
   ]
  },
  {
   "cell_type": "code",
   "execution_count": 18,
   "metadata": {},
   "outputs": [
    {
     "name": "stdout",
     "output_type": "stream",
     "text": [
      "dict() -> new empty dictionary\n",
      "dict(mapping) -> new dictionary initialized from a mapping object's\n",
      "    (key, value) pairs\n",
      "dict(iterable) -> new dictionary initialized as if via:\n",
      "    d = {}\n",
      "    for k, v in iterable:\n",
      "        d[k] = v\n",
      "dict(**kwargs) -> new dictionary initialized with the name=value pairs\n",
      "    in the keyword argument list.  For example:  dict(one=1, two=2)\n"
     ]
    }
   ],
   "source": [
    "print(vars().__doc__)"
   ]
  },
  {
   "cell_type": "markdown",
   "metadata": {},
   "source": [
    "Below is an exaple of using the `getattr()` and `setattr()` attributes to get and set attraibutes of an oobject by name"
   ]
  },
  {
   "cell_type": "code",
   "execution_count": 8,
   "metadata": {},
   "outputs": [],
   "source": [
    "class Dummy():\n",
    "    \"\"\"A class with nothing in it\"\"\"\n",
    "    pass"
   ]
  },
  {
   "cell_type": "code",
   "execution_count": 11,
   "metadata": {},
   "outputs": [
    {
     "name": "stdout",
     "output_type": "stream",
     "text": [
      "{}\n",
      "{'this': 54}\n",
      "54\n"
     ]
    }
   ],
   "source": [
    "obj = Dummy()\n",
    "print(vars(obj))\n",
    "setattr(obj, 'this', 54)\n",
    "print(vars(obj))\n",
    "print(getattr(obj, 'this'))"
   ]
  },
  {
   "cell_type": "markdown",
   "metadata": {},
   "source": [
    "Using `vars()` we can get class object attributes and more of what is being inhereited from the object. "
   ]
  },
  {
   "cell_type": "code",
   "execution_count": 21,
   "metadata": {},
   "outputs": [
    {
     "data": {
      "text/plain": [
       "mappingproxy({'__module__': '__main__',\n",
       "              '__doc__': 'A class with nothing in it',\n",
       "              '__dict__': <attribute '__dict__' of 'Dummy' objects>,\n",
       "              '__weakref__': <attribute '__weakref__' of 'Dummy' objects>})"
      ]
     },
     "execution_count": 21,
     "metadata": {},
     "output_type": "execute_result"
    }
   ],
   "source": [
    "vars(Dummy)"
   ]
  },
  {
   "cell_type": "markdown",
   "metadata": {},
   "source": [
    "#### `__dict__`\n",
    "\n",
    "An object's `__dict__` is a special attribute used as the namespace of an __updatable object__. It is the dictionary that is used to hold the names in the namespace. \n",
    "\n",
    "`vars()` will retrun the `__dict__` of an object _(like `len()` and `__len__`)_\n",
    "\n",
    "And `dir()` walks the class hierarchy of an object to give you all the attributes available:"
   ]
  },
  {
   "cell_type": "code",
   "execution_count": 13,
   "metadata": {},
   "outputs": [
    {
     "data": {
      "text/plain": [
       "{'this': 54}"
      ]
     },
     "execution_count": 13,
     "metadata": {},
     "output_type": "execute_result"
    }
   ],
   "source": [
    "obj.__dict__"
   ]
  },
  {
   "cell_type": "code",
   "execution_count": 19,
   "metadata": {},
   "outputs": [
    {
     "data": {
      "text/plain": [
       "['__class__',\n",
       " '__delattr__',\n",
       " '__dict__',\n",
       " '__dir__',\n",
       " '__doc__',\n",
       " '__eq__',\n",
       " '__format__',\n",
       " '__ge__',\n",
       " '__getattribute__',\n",
       " '__gt__',\n",
       " '__hash__',\n",
       " '__init__',\n",
       " '__init_subclass__',\n",
       " '__le__',\n",
       " '__lt__',\n",
       " '__module__',\n",
       " '__ne__',\n",
       " '__new__',\n",
       " '__reduce__',\n",
       " '__reduce_ex__',\n",
       " '__repr__',\n",
       " '__setattr__',\n",
       " '__sizeof__',\n",
       " '__str__',\n",
       " '__subclasshook__',\n",
       " '__weakref__',\n",
       " 'this']"
      ]
     },
     "execution_count": 19,
     "metadata": {},
     "output_type": "execute_result"
    }
   ],
   "source": [
    "dir(obj)"
   ]
  },
  {
   "cell_type": "markdown",
   "metadata": {},
   "source": [
    "### Class Objects\n",
    "\n",
    "Create a maniputate class objects. A __class__ (and instance) object stores its attributes in a dicitonary _(dictionary like object)_. __Instancces__ use a regular dict. using `__dict__` attribute or `vars()` function we cna access that dictioary"
   ]
  },
  {
   "cell_type": "code",
   "execution_count": 23,
   "metadata": {},
   "outputs": [
    {
     "data": {
      "text/plain": [
       "mappingproxy({'__module__': '__main__',\n",
       "              'this': 'a class attribute',\n",
       "              '__init__': <function __main__.Simple.__init__(self)>,\n",
       "              '__dict__': <attribute '__dict__' of 'Simple' objects>,\n",
       "              '__weakref__': <attribute '__weakref__' of 'Simple' objects>,\n",
       "              '__doc__': None})"
      ]
     },
     "execution_count": 23,
     "metadata": {},
     "output_type": "execute_result"
    }
   ],
   "source": [
    "class Simple():\n",
    "    this = \"a class attribute\"\n",
    "    def __init__(self):\n",
    "        self.that = \"an instance attribute\"\n",
    "        \n",
    "vars(Simple)"
   ]
  },
  {
   "cell_type": "markdown",
   "metadata": {},
   "source": [
    "and an instanec of that object:"
   ]
  },
  {
   "cell_type": "code",
   "execution_count": 29,
   "metadata": {},
   "outputs": [
    {
     "name": "stdout",
     "output_type": "stream",
     "text": [
      "{'that': 'an instance attribute'}\n",
      "{'that': 'an instance attribute'}\n"
     ]
    }
   ],
   "source": [
    "obj = Simple()\n",
    "print(vars(obj))\n",
    "print(obj.__dict__)"
   ]
  },
  {
   "cell_type": "markdown",
   "metadata": {},
   "source": [
    "Evary object has a `__class__` attribute specifyint what class the object belongs to:"
   ]
  },
  {
   "cell_type": "code",
   "execution_count": 28,
   "metadata": {},
   "outputs": [
    {
     "data": {
      "text/plain": [
       "__main__.Simple"
      ]
     },
     "execution_count": 28,
     "metadata": {},
     "output_type": "execute_result"
    }
   ],
   "source": [
    "obj.__class__"
   ]
  },
  {
   "cell_type": "markdown",
   "metadata": {},
   "source": [
    "---\n",
    "## Metaclasses\n",
    "\n",
    "class of a class = metaclass.. which means metaclass can be used to _dynamically create a class_\n",
    "\n",
    "#### What is a metaclass?\n",
    "\n",
    "* A __class__ is somethign that makes instances\n",
    "* A __metaclass__ is something that makes classes\n",
    "* a mettaclass is most commonly used as a __class factory__\n",
    "- __Metaclasses__ allwo you do do _extra thigns_ when creating a class, like\n",
    "    - registring the new class with some registry\n",
    "    - adding methods dynamically\n",
    "    - replacing the class with something else (e.g., decorators)\n",
    "- every object in python has a metaclss\n",
    "- the default metaclass is `type` - __that is used to make the class__\n",
    "    \n",
    "\n",
    "![](https://learning.oreilly.com/library/view/expert-python-programming/9781789808896/assets/6d749875-b47a-4d69-9393-21bf70dd6df2.png)"
   ]
  },
  {
   "cell_type": "markdown",
   "metadata": {},
   "source": [
    "### Using `type()` to build a class\n",
    "\n",
    "we can build a class object at runtime like so which is equilent ot the typical call definition like so:\n",
    "\n",
    "```python\n",
    "class MyClass:\n",
    "    x = 1\n",
    "```"
   ]
  },
  {
   "cell_type": "code",
   "execution_count": 33,
   "metadata": {},
   "outputs": [
    {
     "data": {
      "text/plain": [
       "__main__.MyClass"
      ]
     },
     "execution_count": 33,
     "metadata": {},
     "output_type": "execute_result"
    }
   ],
   "source": [
    "MyClass = type('MyClass', (), {'x':1})\n",
    "MyClass().__class__"
   ]
  },
  {
   "cell_type": "markdown",
   "metadata": {},
   "source": [
    "Moreover, we can __Add methos to a class with `type()`__ like so:"
   ]
  },
  {
   "cell_type": "code",
   "execution_count": 34,
   "metadata": {},
   "outputs": [
    {
     "name": "stdout",
     "output_type": "stream",
     "text": [
      "called my_method, x = 1\n"
     ]
    }
   ],
   "source": [
    "def my_method(self):\n",
    "    print(\"called my_method, x = %s\" % self.x)\n",
    "    \n",
    "MyClass = type('MyClass', (), {'x': 1, 'my_method': my_method})\n",
    "o = MyClass()\n",
    "o.my_method()"
   ]
  },
  {
   "cell_type": "markdown",
   "metadata": {},
   "source": [
    "#### General Metaclass Syntax\n",
    "\n",
    "The call signature is `type(name, abses, namespace)` and hte meaning of the arguments are as followes:\n",
    "* `name`: this is the name of hte class that will be stored in the `__name__` attribute\n",
    "* `bases`: is the list of parent classes that will become the `__bases__` attribute and iwll be used to __construct the MRO__ of a newly created class\n",
    "* `namespace`: this is a namespace (mapping) with definitions of the class body that will become the `__dict__` attribute\n",
    "\n",
    "\n",
    "The usual approach is settin class metaclasses typically follows this __template for a metaclass__"
   ]
  },
  {
   "cell_type": "code",
   "execution_count": 43,
   "metadata": {},
   "outputs": [],
   "source": [
    "class Metaclass(type):\n",
    "    def __new__(mcs, name, bases, namespace):\n",
    "        return super().__new__(mcs, name, bases, namespace)\n",
    "    \n",
    "    @classmethod\n",
    "    def __prepare__(mcs, name, bases, **kwargs):\n",
    "        return super().__prepare__(name, bases, **kwargs)\n",
    "    \n",
    "    def __init__(cls, name, bases, namespace, **kwargs):\n",
    "        super().__init__(name, bases, namespace)\n",
    "    \n",
    "    def __call__(cls, *args, **kwargs):\n",
    "        return super().__call__(*args, **kwargs)"
   ]
  },
  {
   "cell_type": "markdown",
   "metadata": {},
   "source": [
    "- `__new__(mcs, name, bases, namespace)`: This is responsible for the actual creation of the class object in the same way as it does for ordinary classes. The first positional argument is a metaclass object. In the preceding example, it would simply be a Metaclass. Note that mcs is the popular naming convention for this argument.\n",
    "\n",
    "\n",
    "- `__prepare__(mcs, name, bases, **kwargs)`: This creates an empty namespace object. By default, it returns an empty dict, but it can be overridden to return any other mapping type. Note that it does not accept namespace as an argument because, before calling it, the namespace does not exist. Example usage of that method will be explained later in the New Python 3 syntax for metaclasses section.\n",
    "\n",
    "\n",
    "- `__init__(cls, name, bases, namespace, **kwargs)`: This is not seen popularly in metaclass implementations but has the same meaning as in ordinary classes. It can perform additional class object initialization once it is created with __new__(). The first positional argument is now named cls by convention to mark that this is already a created class object (metaclass instance) and not a metaclass object. When __init__() was called, the class was already constructed and so this method can do less things than the __new__() method. Implementing such a method is very similar to using class decorators, but the main difference is that __init__() will be called for every subclass, while class decorators are not called for subclasses.\n",
    "\n",
    "\n",
    "- `__call__(cls, *args, **kwargs)`: This is called when an instance of a metaclass is called. The instance of a metaclass is a class object (refer to Figure 1); it is invoked when you create new instances of a class. This can be used to override the default way of how class instances are created and initialized.\n",
    "\n",
    "\n",
    "Each of the preceding methods can accept additional extra keyword arguments, all of which are represented by `**kwargs`\n",
    "\n",
    "Here is an example: This amount of information can be overwhelming at the beginning without proper examples, so let's trace the creation of metaclasses, classes, and instances with some print() calls:"
   ]
  },
  {
   "cell_type": "code",
   "execution_count": 47,
   "metadata": {},
   "outputs": [],
   "source": [
    "class RevealingMeta(type): \n",
    "    def __new__(mcs, name, bases, namespace, **kwargs): \n",
    "        print(mcs, \"__new__ called\") \n",
    "        return super().__new__(mcs, name, bases, namespace) \n",
    " \n",
    "    @classmethod \n",
    "    def __prepare__(mcs, name, bases, **kwargs): \n",
    "        print(mcs, \"__prepare__ called\") \n",
    "        return super().__prepare__(name, bases, **kwargs) \n",
    " \n",
    "    def __init__(cls, name, bases, namespace, **kwargs): \n",
    "        print(cls, \"__init__ called\") \n",
    "        super().__init__(name, bases, namespace) \n",
    " \n",
    "    def __call__(cls, *args, **kwargs): \n",
    "        print(cls, \"__call__ called\") \n",
    "        return super().__call__(*args, **kwargs) "
   ]
  },
  {
   "cell_type": "markdown",
   "metadata": {},
   "source": [
    "Using `RevealingMeta` as a metaclass to create a new class definition will give the following output in the Python interactive session:"
   ]
  },
  {
   "cell_type": "code",
   "execution_count": 48,
   "metadata": {},
   "outputs": [
    {
     "name": "stdout",
     "output_type": "stream",
     "text": [
      "<class '__main__.RevealingMeta'> __prepare__ called\n",
      "<class '__main__.RevealingMeta'> __new__ called\n",
      "<class '__main__.RevealingClass'> __init__ called\n"
     ]
    }
   ],
   "source": [
    "class RevealingClass(metaclass=RevealingMeta):\n",
    "    def __new__(cls):\n",
    "        print(cls, \"__new__ called\")\n",
    "        return super().__new__(cls)\n",
    "    \n",
    "    def __init__(self):\n",
    "        print(self, \"__init__ called\")\n",
    "        super().__init__()"
   ]
  },
  {
   "cell_type": "code",
   "execution_count": 49,
   "metadata": {},
   "outputs": [
    {
     "name": "stdout",
     "output_type": "stream",
     "text": [
      "<class '__main__.RevealingClass'> __call__ called\n",
      "<class '__main__.RevealingClass'> __new__ called\n",
      "<__main__.RevealingClass object at 0x7fd8e37086d8> __init__ called\n"
     ]
    }
   ],
   "source": [
    "instance = RevealingClass()"
   ]
  },
  {
   "cell_type": "markdown",
   "metadata": {},
   "source": [
    "\n",
    "\n",
    "\n",
    "#### Using `__new__()` for overriding the instance creation process\n",
    "\n",
    "The special mehtod `__new__()` is a _static_ method that is responsible for __creating class instances__. It is a special-cased so there is no need to declare it as static using the `@staticmethod` decorator. Typically, the implementation of overridden `__new__()` invokes its superclass version using `super().__new__()` with suitable arguments and modifies the instance before returning it.\n",
    "\n",
    "\n",
    "recall, `__init__` is the __initializer__ - it __initializes the instance__ - setting instance attributes \n",
    "\n",
    "```python \n",
    "def __init__(self, *args, **kwargs)\n",
    "```\n",
    "\n",
    "the self is the instanec that is being iniaized - but _it already exist_ it has to __already have been created__. Therefore, most of the time, that's all you need - you want the instance crated in the usual default way, and then you can initialize it. But if you need to do something __before the object is initilized__ - you cna define a `__new__` method."
   ]
  },
  {
   "cell_type": "code",
   "execution_count": 39,
   "metadata": {},
   "outputs": [],
   "source": [
    "class NonZero(int): \n",
    "    def __new__(cls, value): \n",
    "        return super().__new__(cls, value) if value != 0 else None \n",
    " \n",
    "    def __init__(self, skipped_value): \n",
    "        # implementation of __init__ could be skipped in this case \n",
    "        # but it is left to present how it may be not called \n",
    "        print(\"__init__() called\") \n",
    "        super().__init__()"
   ]
  },
  {
   "cell_type": "code",
   "execution_count": 42,
   "metadata": {},
   "outputs": [
    {
     "name": "stdout",
     "output_type": "stream",
     "text": [
      "__init__() called\n",
      "<class '__main__.NonZero'>\n",
      "__init__() called\n"
     ]
    },
    {
     "data": {
      "text/plain": [
       "-12"
      ]
     },
     "execution_count": 42,
     "metadata": {},
     "output_type": "execute_result"
    }
   ],
   "source": [
    "print(type(NonZero(-12)))\n",
    "NonZero(-12)\n"
   ]
  },
  {
   "cell_type": "code",
   "execution_count": null,
   "metadata": {},
   "outputs": [],
   "source": []
  },
  {
   "cell_type": "code",
   "execution_count": null,
   "metadata": {},
   "outputs": [],
   "source": []
  },
  {
   "cell_type": "code",
   "execution_count": null,
   "metadata": {},
   "outputs": [],
   "source": []
  },
  {
   "cell_type": "code",
   "execution_count": null,
   "metadata": {},
   "outputs": [],
   "source": []
  },
  {
   "cell_type": "code",
   "execution_count": 44,
   "metadata": {},
   "outputs": [
    {
     "name": "stdout",
     "output_type": "stream",
     "text": [
      "Creating class CoolClass\n",
      "Initializing class CoolClass\n"
     ]
    }
   ],
   "source": [
    "class CoolMeta(type):\n",
    "    def __new__(meta, name, bases, dct):\n",
    "        print('Creating class', name)\n",
    "        return super(CoolMeta, meta).__new__(meta, name, bases, dct)\n",
    "    def __init__(cls, name, bases, dct):\n",
    "        print('Initializing class', name)\n",
    "        super(CoolMeta, cls).__init__(name, bases, dct)\n",
    "    def __call__(cls, *args, **kw):\n",
    "        print('Meta has been called')\n",
    "        return type(cls, *args, **kw)\n",
    "\n",
    "class CoolClass(metaclass=CoolMeta):\n",
    "    def __init__(self):\n",
    "        print('And now my CoolClass exists')"
   ]
  },
  {
   "cell_type": "code",
   "execution_count": 45,
   "metadata": {},
   "outputs": [
    {
     "name": "stdout",
     "output_type": "stream",
     "text": [
      "Actually instantiating now\n",
      "Meta has been called\n"
     ]
    }
   ],
   "source": [
    "print('Actually instantiating now')\n",
    "foo = CoolClass()"
   ]
  },
  {
   "cell_type": "code",
   "execution_count": null,
   "metadata": {},
   "outputs": [],
   "source": []
  },
  {
   "cell_type": "code",
   "execution_count": null,
   "metadata": {},
   "outputs": [],
   "source": []
  },
  {
   "cell_type": "code",
   "execution_count": null,
   "metadata": {},
   "outputs": [],
   "source": []
  },
  {
   "cell_type": "code",
   "execution_count": null,
   "metadata": {},
   "outputs": [],
   "source": []
  },
  {
   "cell_type": "code",
   "execution_count": null,
   "metadata": {},
   "outputs": [],
   "source": []
  },
  {
   "cell_type": "code",
   "execution_count": null,
   "metadata": {},
   "outputs": [],
   "source": []
  },
  {
   "cell_type": "code",
   "execution_count": null,
   "metadata": {},
   "outputs": [],
   "source": []
  },
  {
   "cell_type": "code",
   "execution_count": null,
   "metadata": {},
   "outputs": [],
   "source": []
  }
 ],
 "metadata": {
  "kernelspec": {
   "display_name": "bril",
   "language": "python",
   "name": "bril"
  },
  "language_info": {
   "codemirror_mode": {
    "name": "ipython",
    "version": 3
   },
   "file_extension": ".py",
   "mimetype": "text/x-python",
   "name": "python",
   "nbconvert_exporter": "python",
   "pygments_lexer": "ipython3",
   "version": "3.7.3"
  }
 },
 "nbformat": 4,
 "nbformat_minor": 4
}
