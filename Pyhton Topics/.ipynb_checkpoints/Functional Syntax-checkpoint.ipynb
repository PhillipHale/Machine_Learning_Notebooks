{
 "cells": [
  {
   "cell_type": "markdown",
   "metadata": {},
   "source": [
    "# Functional Syntax\n",
    "\n",
    "_https://www.packtpub.com/application-development/expert-python-programming-third-edition_"
   ]
  },
  {
   "cell_type": "markdown",
   "metadata": {},
   "source": [
    "#### Lambda Functions\n",
    "\n",
    "```\n",
    "lambda <arguments>: <expression>\n",
    "```"
   ]
  },
  {
   "cell_type": "code",
   "execution_count": 1,
   "metadata": {},
   "outputs": [
    {
     "data": {
      "text/plain": [
       "<function __main__.<lambda>(radius)>"
      ]
     },
     "execution_count": 1,
     "metadata": {},
     "output_type": "execute_result"
    }
   ],
   "source": [
    "import math\n",
    "\n",
    "lambda radius: math.pi * radius ** 2"
   ]
  },
  {
   "cell_type": "code",
   "execution_count": 3,
   "metadata": {},
   "outputs": [
    {
     "name": "stdout",
     "output_type": "stream",
     "text": [
      "5541.769440932395\n",
      "<class 'function'>\n",
      "<lambda>\n"
     ]
    }
   ],
   "source": [
    "# assign lambda function to variables\n",
    "circle_area = lambda radius: math.pi * radius ** 2\n",
    "print(circle_area(42))\n",
    "print(circle_area.__class__)\n",
    "print(circle_area.__name__)"
   ]
  },
  {
   "cell_type": "markdown",
   "metadata": {},
   "source": [
    "##### Lambda + map(), filter() and reduce ()\n",
    "`map()`, `filter()` and `reduce()` are data transformation functions that are built-in functions to py.\n",
    "\n",
    "`map()` applues the function argiment to the item of iterable and consume elements from each iterable simultaneously. By simulaneously, I mean that `map()` odes not evaluate the whole result at once, but returns an iterator so that every result item can be evaluated when it is necessary.\n",
    "\n",
    "Below is an example of map() being used to calculate the squares of the first 10 positive integers, including 0\n"
   ]
  },
  {
   "cell_type": "code",
   "execution_count": 5,
   "metadata": {},
   "outputs": [
    {
     "name": "stdout",
     "output_type": "stream",
     "text": [
      "<map object at 0x7f55707fbb38>\n"
     ]
    },
    {
     "data": {
      "text/plain": [
       "[0, 1, 4, 9, 16, 25, 36, 49, 64, 81]"
      ]
     },
     "execution_count": 5,
     "metadata": {},
     "output_type": "execute_result"
    }
   ],
   "source": [
    "print(map(lambda x: x**2, range(10)))\n",
    "list(map(lambda x: x**2, range(10)))"
   ]
  },
  {
   "cell_type": "code",
   "execution_count": 6,
   "metadata": {},
   "outputs": [
    {
     "name": "stdout",
     "output_type": "stream",
     "text": [
      "0 0 0\n",
      "1 1 1\n",
      "2 2 2\n",
      "3 3 3\n"
     ]
    },
    {
     "data": {
      "text/plain": [
       "[None, None, None, None]"
      ]
     },
     "execution_count": 6,
     "metadata": {},
     "output_type": "execute_result"
    }
   ],
   "source": [
    "list(map(print, range(5), range(4), range(5)))"
   ]
  },
  {
   "cell_type": "markdown",
   "metadata": {},
   "source": [
    "`filter()` worked lime `map()` where it evaluates the input element one by one but does not transform input elements into new values but allows us to filter out those input values that meet the predicate defined by the funciton argiment."
   ]
  },
  {
   "cell_type": "code",
   "execution_count": 7,
   "metadata": {},
   "outputs": [
    {
     "name": "stdout",
     "output_type": "stream",
     "text": [
      "Even numbers in range from 0 to 9 are: [0, 2, 4, 6, 8]\n",
      "Odd numbers in range from 0 to 9 are: [1, 3, 5, 7, 9]\n"
     ]
    }
   ],
   "source": [
    "evens = filter(lambda number: number % 2 == 0, range(10))\n",
    "odds =  filter(lambda number: number % 2 == 1, range(10))\n",
    "\n",
    "print(f\"Even numbers in range from 0 to 9 are: {list(evens)}\")\n",
    "print(f\"Odd numbers in range from 0 to 9 are: {list(odds)}\")"
   ]
  },
  {
   "cell_type": "markdown",
   "metadata": {},
   "source": [
    "The reduce(function, iterable) works completely opposite to map(). Instead of taking items of iterable and mapping them to the function return values in a one-by-one fashion, it cumulatively performs operations specified by function to all iterable items. "
   ]
  },
  {
   "cell_type": "code",
   "execution_count": 16,
   "metadata": {},
   "outputs": [
    {
     "data": {
      "text/plain": [
       "4"
      ]
     },
     "execution_count": 16,
     "metadata": {},
     "output_type": "execute_result"
    }
   ],
   "source": [
    "from functools import reduce\n",
    "reduce(lambda a,b: a + b, [2,2])"
   ]
  },
  {
   "cell_type": "code",
   "execution_count": 19,
   "metadata": {},
   "outputs": [
    {
     "data": {
      "text/plain": [
       "4950"
      ]
     },
     "execution_count": 19,
     "metadata": {},
     "output_type": "execute_result"
    }
   ],
   "source": [
    "reduce(lambda a, b: a + b, range(100)) "
   ]
  },
  {
   "cell_type": "markdown",
   "metadata": {},
   "source": [
    "### Partial Objects `partial()`\n",
    "\n",
    "__Partial objects__ can be used to slice the possible input domain of a given function by setting some of it arguments to a fixed value. "
   ]
  },
  {
   "cell_type": "code",
   "execution_count": 21,
   "metadata": {},
   "outputs": [
    {
     "name": "stdout",
     "output_type": "stream",
     "text": [
      "4\n",
      "32\n",
      "1024\n"
     ]
    }
   ],
   "source": [
    "from functools import partial\n",
    "powers_of_2 = partial(pow, 2)\n",
    "print(powers_of_2(2))\n",
    "print(powers_of_2(5))\n",
    "print(powers_of_2(10))"
   ]
  },
  {
   "cell_type": "code",
   "execution_count": 35,
   "metadata": {},
   "outputs": [
    {
     "name": "stdout",
     "output_type": "stream",
     "text": [
      "1\n",
      "2\n",
      "4\n",
      "8\n"
     ]
    }
   ],
   "source": [
    "from itertools import count\n",
    "infinite_powers_of_2 = map(partial(pow, 2), count())\n",
    "print(next(infinite_powers_of_2))\n",
    "print(next(infinite_powers_of_2))\n",
    "print(next(infinite_powers_of_2))\n",
    "print(next(infinite_powers_of_2))"
   ]
  },
  {
   "cell_type": "markdown",
   "metadata": {},
   "source": [
    "---\n",
    "## Argument key workds\n",
    "\n",
    "__Keyword-only arguments__ is an element of sytax that can be used in any function signature where every keyword argument defined after a sing literal `*` argument will be marked as __keyword-only__. Beking __keyword-only__ means that you cannot pass a values as a positional argument. \n",
    "\n",
    "Here is how we typically write functions and define aguments:"
   ]
  },
  {
   "cell_type": "code",
   "execution_count": 45,
   "metadata": {},
   "outputs": [],
   "source": [
    "def order(order_name, client, alert_notificaiton=False, suppress_payment=True):\n",
    "    pass\n",
    "\n",
    "def order_type(order_name, client):\n",
    "    pass\n",
    "\n",
    "def archive_order(order, client):\n",
    "    pass\n",
    "\n",
    "order_name = list()\n",
    "client = list()\n",
    "\n",
    "# compare this\n",
    "order(order_name, client, alert_notificaiton=False, suppress_payment=True)\n",
    "\n",
    "# with this .. order matters!!!!\n",
    "order(order_name, client, False, True)\n",
    "\n",
    "order_type(order_name, client)\n",
    "archive_order(order_name, client)"
   ]
  },
  {
   "cell_type": "markdown",
   "metadata": {},
   "source": [
    "This is a dangerous patter because all xisint funciton calls werekeyword rument were wrongly passed prositionally. Therefore we should use this so we dont create a large amount o fdebt and protect funciton signatures by explicitly stating which arguments should be used as keyworkds, \n",
    "\n",
    "like so:"
   ]
  },
  {
   "cell_type": "code",
   "execution_count": 46,
   "metadata": {},
   "outputs": [],
   "source": [
    "def order(order_name, client, *, alert_notificaiton=False, suppress_payment=True):\n",
    "    pass\n"
   ]
  },
  {
   "cell_type": "code",
   "execution_count": null,
   "metadata": {},
   "outputs": [],
   "source": []
  },
  {
   "cell_type": "code",
   "execution_count": null,
   "metadata": {},
   "outputs": [],
   "source": []
  },
  {
   "cell_type": "code",
   "execution_count": null,
   "metadata": {},
   "outputs": [],
   "source": []
  },
  {
   "cell_type": "code",
   "execution_count": null,
   "metadata": {},
   "outputs": [],
   "source": []
  },
  {
   "cell_type": "code",
   "execution_count": null,
   "metadata": {},
   "outputs": [],
   "source": []
  },
  {
   "cell_type": "code",
   "execution_count": null,
   "metadata": {},
   "outputs": [],
   "source": []
  },
  {
   "cell_type": "code",
   "execution_count": null,
   "metadata": {},
   "outputs": [],
   "source": []
  },
  {
   "cell_type": "code",
   "execution_count": null,
   "metadata": {},
   "outputs": [],
   "source": []
  },
  {
   "cell_type": "code",
   "execution_count": null,
   "metadata": {},
   "outputs": [],
   "source": []
  }
 ],
 "metadata": {
  "kernelspec": {
   "display_name": "bril",
   "language": "python",
   "name": "bril"
  },
  "language_info": {
   "codemirror_mode": {
    "name": "ipython",
    "version": 3
   },
   "file_extension": ".py",
   "mimetype": "text/x-python",
   "name": "python",
   "nbconvert_exporter": "python",
   "pygments_lexer": "ipython3",
   "version": "3.7.3"
  }
 },
 "nbformat": 4,
 "nbformat_minor": 4
}
