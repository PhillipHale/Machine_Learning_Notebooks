{
 "cells": [
  {
   "cell_type": "markdown",
   "metadata": {},
   "source": [
    "# SQL Made Easy\n",
    "https://pythonspot.com/tag/sql/\n",
    "\n",
    "![](https://pythonspot-9329.kxcdn.com/wp-content/uploads/2016/08/dbms-300x131.png.webp)\n",
    "\n",
    "### SQL Create and Incert"
   ]
  },
  {
   "cell_type": "code",
   "execution_count": 1,
   "metadata": {},
   "outputs": [],
   "source": [
    "#!/usr/bin/python\n",
    "# -*- coding: utf-8 -*-\n",
    "\n",
    "# https://pythonspot.com/tag/sql/\n",
    "\n",
    "import sqlite3 as lite\n",
    "import sys\n",
    "\n",
    "con = lite.connect('user.db')\n",
    "\n",
    "with con:\n",
    "    cur = con.cursor()\n",
    "    cur.execute(\"CREATE TABLE Users(Id INT, Name TEXT)\")\n",
    "    cur.execute(\"INSERT INTO Users VALUES(1, 'Michelle')\")\n",
    "    cur.execute(\"INSERT INTO Users VALUES(2, 'Sonya')\")\n",
    "    cur.execute(\"INSERT INTO Users VALUES(3, 'Greg')\")"
   ]
  },
  {
   "cell_type": "markdown",
   "metadata": {},
   "source": [
    "This will output all data in the Users table from the database:"
   ]
  },
  {
   "cell_type": "code",
   "execution_count": 3,
   "metadata": {},
   "outputs": [
    {
     "name": "stdout",
     "output_type": "stream",
     "text": [
      "(1, 'Michelle')\n",
      "(2, 'Sonya')\n",
      "(3, 'Greg')\n"
     ]
    }
   ],
   "source": [
    "with con:    \n",
    " \n",
    "    cur = con.cursor()    \n",
    "    cur.execute(\"SELECT * FROM Users\")\n",
    " \n",
    "    rows = cur.fetchall()\n",
    " \n",
    "    for row in rows:\n",
    "        print (row)"
   ]
  },
  {
   "cell_type": "markdown",
   "metadata": {},
   "source": [
    "### Common Database Queries"
   ]
  },
  {
   "cell_type": "code",
   "execution_count": 7,
   "metadata": {},
   "outputs": [
    {
     "name": "stdout",
     "output_type": "stream",
     "text": [
      "[('Michelle',), ('Sonya',), ('Greg',)]\n"
     ]
    }
   ],
   "source": [
    "print(cur.execute(\"SELECT name FROM Users\").fetchall())"
   ]
  },
  {
   "cell_type": "code",
   "execution_count": 8,
   "metadata": {},
   "outputs": [
    {
     "name": "stdout",
     "output_type": "stream",
     "text": [
      "[(2, 'Sonya')]\n"
     ]
    }
   ],
   "source": [
    "print(cur.execute(\"SELECT * FROM Users WHERE id = 2\").fetchall())"
   ]
  },
  {
   "cell_type": "code",
   "execution_count": 6,
   "metadata": {},
   "outputs": [
    {
     "name": "stdout",
     "output_type": "stream",
     "text": [
      "[(3,)]\n"
     ]
    }
   ],
   "source": [
    "print(cur.execute(\"SELECT count(*) FROM Users\").fetchall())"
   ]
  }
 ],
 "metadata": {
  "kernelspec": {
   "display_name": "Python 3",
   "language": "python",
   "name": "python3"
  },
  "language_info": {
   "codemirror_mode": {
    "name": "ipython",
    "version": 3
   },
   "file_extension": ".py",
   "mimetype": "text/x-python",
   "name": "python",
   "nbconvert_exporter": "python",
   "pygments_lexer": "ipython3",
   "version": "3.7.0"
  }
 },
 "nbformat": 4,
 "nbformat_minor": 2
}
