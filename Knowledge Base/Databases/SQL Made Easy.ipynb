{
 "cells": [
  {
   "cell_type": "markdown",
   "metadata": {},
   "source": [
    "# SQL Made Easy\n",
    "https://pythonspot.com/tag/sql/\n",
    "\n",
    "![](https://pythonspot-9329.kxcdn.com/wp-content/uploads/2016/08/dbms-300x131.png.webp)\n",
    "\n",
    "### SQL Create and Incert"
   ]
  },
  {
   "cell_type": "code",
   "execution_count": 1,
   "metadata": {},
   "outputs": [],
   "source": [
    "#!/usr/bin/python\n",
    "# -*- coding: utf-8 -*-\n",
    "\n",
    "# https://pythonspot.com/tag/sql/\n",
    "\n",
    "import sqlite3 as lite\n",
    "import sys\n",
    "\n",
    "con = lite.connect('user.db')\n",
    "\n",
    "with con:\n",
    "    cur = con.cursor()\n",
    "    cur.execute(\"CREATE TABLE Users(Id INT, Name TEXT)\")\n",
    "    cur.execute(\"INSERT INTO Users VALUES(1, 'Michelle')\")\n",
    "    cur.execute(\"INSERT INTO Users VALUES(2, 'Sonya')\")\n",
    "    cur.execute(\"INSERT INTO Users VALUES(3, 'Greg')\")"
   ]
  },
  {
   "cell_type": "markdown",
   "metadata": {},
   "source": [
    "This will output all data in the Users table from the database:"
   ]
  },
  {
   "cell_type": "code",
   "execution_count": 2,
   "metadata": {},
   "outputs": [
    {
     "name": "stdout",
     "output_type": "stream",
     "text": [
      "(1, 'Michelle')\n",
      "(2, 'Sonya')\n",
      "(3, 'Greg')\n"
     ]
    }
   ],
   "source": [
    "with con:    \n",
    " \n",
    "    cur = con.cursor()    \n",
    "    cur.execute(\"SELECT * FROM Users\")\n",
    " \n",
    "    rows = cur.fetchall()\n",
    " \n",
    "    for row in rows:\n",
    "        print (row)"
   ]
  },
  {
   "cell_type": "markdown",
   "metadata": {},
   "source": [
    "### Common Database Queries"
   ]
  },
  {
   "cell_type": "code",
   "execution_count": 3,
   "metadata": {},
   "outputs": [
    {
     "name": "stdout",
     "output_type": "stream",
     "text": [
      "[('Michelle',), ('Sonya',), ('Greg',)]\n"
     ]
    }
   ],
   "source": [
    "print(cur.execute(\"SELECT name FROM Users\").fetchall())"
   ]
  },
  {
   "cell_type": "code",
   "execution_count": 4,
   "metadata": {},
   "outputs": [
    {
     "name": "stdout",
     "output_type": "stream",
     "text": [
      "[(2, 'Sonya')]\n"
     ]
    }
   ],
   "source": [
    "print(cur.execute(\"SELECT * FROM Users WHERE id = 2\").fetchall())"
   ]
  },
  {
   "cell_type": "code",
   "execution_count": 5,
   "metadata": {},
   "outputs": [
    {
     "name": "stdout",
     "output_type": "stream",
     "text": [
      "[(3,)]\n"
     ]
    }
   ],
   "source": [
    "print(cur.execute(\"SELECT count(*) FROM Users\").fetchall())"
   ]
  },
  {
   "cell_type": "markdown",
   "metadata": {},
   "source": [
    "We can structure our data across multiple tables. This keeps our data structured, fast and organized.  If we would have a single table to store everything, we would quickly have a big chaotic mess. What we will do is create multiple tables and use them in a combination. We create two tables:\n",
    "1. Users\n",
    "2. Jobs\n",
    "\n",
    "__Create Tables__"
   ]
  },
  {
   "cell_type": "code",
   "execution_count": 7,
   "metadata": {},
   "outputs": [],
   "source": [
    "con = lite.connect('system.db')\n",
    "\n",
    "with con:\n",
    "    cur = con.cursor()\n",
    "    cur.execute(\"CREATE TABLE Users(Id INT, Name TEXT)\")\n",
    "    cur.execute(\"INSERT INTO Users VALUES(1,'Michelle')\")\n",
    "    cur.execute(\"INSERT INTO Users VALUES(2,'Howard')\")\n",
    "    cur.execute(\"INSERT INTO Users VALUES(3,'Greg')\")\n",
    " \n",
    "    cur.execute(\"CREATE TABLE Jobs(Id INT, Uid INT, Profession TEXT)\")\n",
    "    cur.execute(\"INSERT INTO Jobs VALUES(1,1,'Scientist')\")\n",
    "    cur.execute(\"INSERT INTO Jobs VALUES(2,2,'Marketeer')\")\n",
    "    cur.execute(\"INSERT INTO Jobs VALUES(3,3,'Developer')\")"
   ]
  },
  {
   "cell_type": "code",
   "execution_count": 12,
   "metadata": {},
   "outputs": [
    {
     "data": {
      "text/plain": [
       "[('Michelle', 'Scientist'), ('Howard', 'Marketeer'), ('Greg', 'Developer')]"
      ]
     },
     "execution_count": 12,
     "metadata": {},
     "output_type": "execute_result"
    }
   ],
   "source": [
    "cur.execute(\"SELECT users.name, jobs.profession FROM jobs INNER JOIN users ON users.ID = jobs.uid\")\n",
    "cur.fetchall()"
   ]
  },
  {
   "cell_type": "code",
   "execution_count": 13,
   "metadata": {},
   "outputs": [
    {
     "name": "stdout",
     "output_type": "stream",
     "text": [
      "2019-01-28 08:16:28,986 INFO sqlalchemy.engine.base.Engine SELECT CAST('test plain returns' AS VARCHAR(60)) AS anon_1\n",
      "2019-01-28 08:16:28,988 INFO sqlalchemy.engine.base.Engine ()\n",
      "2019-01-28 08:16:28,989 INFO sqlalchemy.engine.base.Engine SELECT CAST('test unicode returns' AS VARCHAR(60)) AS anon_1\n",
      "2019-01-28 08:16:28,990 INFO sqlalchemy.engine.base.Engine ()\n",
      "2019-01-28 08:16:28,992 INFO sqlalchemy.engine.base.Engine PRAGMA table_info(\"student\")\n",
      "2019-01-28 08:16:28,997 INFO sqlalchemy.engine.base.Engine ()\n",
      "2019-01-28 08:16:29,000 INFO sqlalchemy.engine.base.Engine \n",
      "CREATE TABLE student (\n",
      "\tid INTEGER NOT NULL, \n",
      "\tusername VARCHAR, \n",
      "\tfirstname VARCHAR, \n",
      "\tlastname VARCHAR, \n",
      "\tuniversity VARCHAR, \n",
      "\tPRIMARY KEY (id)\n",
      ")\n",
      "\n",
      "\n",
      "2019-01-28 08:16:29,002 INFO sqlalchemy.engine.base.Engine ()\n",
      "2019-01-28 08:16:29,030 INFO sqlalchemy.engine.base.Engine COMMIT\n"
     ]
    }
   ],
   "source": [
    "from sqlalchemy import *\n",
    "from sqlalchemy import create_engine, ForeignKey\n",
    "from sqlalchemy import Column, Date, Integer, String\n",
    "from sqlalchemy.ext.declarative import declarative_base\n",
    "from sqlalchemy.orm import relationship, backref\n",
    " \n",
    "engine = create_engine('sqlite:///student.db', echo=True)\n",
    "Base = declarative_base()\n",
    " \n",
    "########################################################################\n",
    "class Student(Base):\n",
    "    \"\"\"\"\"\"\n",
    "    __tablename__ = \"student\"\n",
    " \n",
    "    id = Column(Integer, primary_key=True)\n",
    "    username = Column(String)\n",
    "    firstname = Column(String)\n",
    "    lastname = Column(String)\n",
    "    university = Column(String)\n",
    " \n",
    "    #----------------------------------------------------------------------\n",
    "    def __init__(self, username, firstname, lastname, university):\n",
    "        \"\"\"\"\"\"\n",
    "        self.username = username\n",
    "        self.firstname = firstname\n",
    "        self.lastname = lastname\n",
    "        self.university = university\n",
    " \n",
    "# create tables\n",
    "Base.metadata.create_all(engine)"
   ]
  },
  {
   "cell_type": "code",
   "execution_count": 15,
   "metadata": {},
   "outputs": [
    {
     "name": "stdout",
     "output_type": "stream",
     "text": [
      "2019-01-28 08:17:21,308 INFO sqlalchemy.engine.base.Engine SELECT CAST('test plain returns' AS VARCHAR(60)) AS anon_1\n",
      "2019-01-28 08:17:21,309 INFO sqlalchemy.engine.base.Engine ()\n",
      "2019-01-28 08:17:21,310 INFO sqlalchemy.engine.base.Engine SELECT CAST('test unicode returns' AS VARCHAR(60)) AS anon_1\n",
      "2019-01-28 08:17:21,311 INFO sqlalchemy.engine.base.Engine ()\n",
      "2019-01-28 08:17:21,312 INFO sqlalchemy.engine.base.Engine BEGIN (implicit)\n",
      "2019-01-28 08:17:21,316 INFO sqlalchemy.engine.base.Engine INSERT INTO student (username, firstname, lastname, university) VALUES (?, ?, ?, ?)\n",
      "2019-01-28 08:17:21,318 INFO sqlalchemy.engine.base.Engine ('james', 'James', 'Boogie', 'MIT')\n",
      "2019-01-28 08:17:21,321 INFO sqlalchemy.engine.base.Engine INSERT INTO student (username, firstname, lastname, university) VALUES (?, ?, ?, ?)\n",
      "2019-01-28 08:17:21,322 INFO sqlalchemy.engine.base.Engine ('lara', 'Lara', 'Miami', 'UU')\n",
      "2019-01-28 08:17:21,323 INFO sqlalchemy.engine.base.Engine INSERT INTO student (username, firstname, lastname, university) VALUES (?, ?, ?, ?)\n",
      "2019-01-28 08:17:21,324 INFO sqlalchemy.engine.base.Engine ('eric', 'Eric', 'York', 'Stanford')\n",
      "2019-01-28 08:17:21,326 INFO sqlalchemy.engine.base.Engine COMMIT\n"
     ]
    }
   ],
   "source": [
    "import datetime\n",
    " \n",
    "engine = create_engine('sqlite:///student.db', echo=True)\n",
    " \n",
    "# create a Session\n",
    "Session = sessionmaker(bind=engine)\n",
    "session = Session()\n",
    " \n",
    "# Create objects  \n",
    "user = Student(\"james\",\"James\",\"Boogie\",\"MIT\")\n",
    "session.add(user)\n",
    " \n",
    "user = Student(\"lara\",\"Lara\",\"Miami\",\"UU\")\n",
    "session.add(user)\n",
    " \n",
    "user = Student(\"eric\",\"Eric\",\"York\",\"Stanford\")\n",
    "session.add(user)\n",
    " \n",
    "# commit the record the database\n",
    "session.commit()"
   ]
  },
  {
   "cell_type": "code",
   "execution_count": 17,
   "metadata": {},
   "outputs": [
    {
     "name": "stdout",
     "output_type": "stream",
     "text": [
      "2019-01-28 08:17:47,563 INFO sqlalchemy.engine.base.Engine SELECT CAST('test plain returns' AS VARCHAR(60)) AS anon_1\n",
      "2019-01-28 08:17:47,564 INFO sqlalchemy.engine.base.Engine ()\n",
      "2019-01-28 08:17:47,565 INFO sqlalchemy.engine.base.Engine SELECT CAST('test unicode returns' AS VARCHAR(60)) AS anon_1\n",
      "2019-01-28 08:17:47,566 INFO sqlalchemy.engine.base.Engine ()\n",
      "2019-01-28 08:17:47,568 INFO sqlalchemy.engine.base.Engine BEGIN (implicit)\n",
      "2019-01-28 08:17:47,570 INFO sqlalchemy.engine.base.Engine SELECT student.id AS student_id, student.username AS student_username, student.firstname AS student_firstname, student.lastname AS student_lastname, student.university AS student_university \n",
      "FROM student ORDER BY student.id\n",
      "2019-01-28 08:17:47,571 INFO sqlalchemy.engine.base.Engine ()\n",
      "James Boogie\n",
      "Lara Miami\n",
      "Eric York\n"
     ]
    }
   ],
   "source": [
    "engine = create_engine('sqlite:///student.db', echo=True)\n",
    " \n",
    "# create a Session\n",
    "Session = sessionmaker(bind=engine)\n",
    "session = Session()\n",
    " \n",
    "# Create objects  \n",
    "for student in session.query(Student).order_by(Student.id):\n",
    "    print (student.firstname, student.lastname)"
   ]
  },
  {
   "cell_type": "code",
   "execution_count": 18,
   "metadata": {},
   "outputs": [
    {
     "name": "stdout",
     "output_type": "stream",
     "text": [
      "2019-01-28 08:18:28,383 INFO sqlalchemy.engine.base.Engine SELECT student.id AS student_id, student.username AS student_username, student.firstname AS student_firstname, student.lastname AS student_lastname, student.university AS student_university \n",
      "FROM student \n",
      "WHERE student.firstname = ?\n",
      "2019-01-28 08:18:28,385 INFO sqlalchemy.engine.base.Engine ('Eric',)\n",
      "Eric York\n"
     ]
    }
   ],
   "source": [
    "# Select objects  \n",
    "for student in session.query(Student).filter(Student.firstname == 'Eric'):\n",
    "    print (student.firstname, student.lastname)"
   ]
  }
 ],
 "metadata": {
  "kernelspec": {
   "display_name": "Python 3",
   "language": "python",
   "name": "python3"
  },
  "language_info": {
   "codemirror_mode": {
    "name": "ipython",
    "version": 3
   },
   "file_extension": ".py",
   "mimetype": "text/x-python",
   "name": "python",
   "nbconvert_exporter": "python",
   "pygments_lexer": "ipython3",
   "version": "3.7.0"
  }
 },
 "nbformat": 4,
 "nbformat_minor": 2
}
