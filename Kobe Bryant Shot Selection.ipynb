{
 "cells": [
  {
   "cell_type": "markdown",
   "metadata": {},
   "source": [
    "# Predicting Kobe Bryant Shot Selection\n",
    "\n",
    "Motivation: [Kaggle's Kobe Bryant Shot Selection](https://www.kaggle.com/c/kobe-bryant-shot-selection)\n",
    "\n",
    "This this notebook we will be analyzing the consistency of Kobe Bryant's Career. We will be using 20 years of data on Kobe's swishes and misses, can you predict which shots will find the bottom of the net? This competition is well suited for practicing classification basics, feature engineering, and time series analysis. Practice got Kobe an eight-figure contract and 5 championship rings. What will it get you?\n",
    "\n",
    "![](https://pbs.twimg.com/media/Dcso-I3V4AA0H2X.jpg)\n",
    "\n",
    "On December 18, 2017, The Los Angeles Lakers retired both the number 8 and number 24. These numbers belong to the one, the only, __Kobe Bean Bryant__. Kobe Bryant successfully conquered his journey in 20 seasons in the NBA. For ten years he wore the number 8 and the other ten he wore the number 24.\n",
    "\n",
    "\n",
    "\n",
    "\n",
    "-----\n",
    "\n",
    "## Import, Data Load and Examination"
   ]
  },
  {
   "cell_type": "code",
   "execution_count": 111,
   "metadata": {},
   "outputs": [],
   "source": [
    "import pandas as pd\n",
    "import numpy as np\n",
    "\n",
    "# Display up to 100 columns of a dataframe\n",
    "pd.set_option('display.max_columns', 100)\n",
    "\n",
    "# visualizations\n",
    "import seaborn as sns\n",
    "sns.set_style(\"darkgrid\", {\"axes.facecolor\": \".9\"})\n",
    "sns.set_context(\"paper\")\n",
    "import matplotlib.pyplot as plt"
   ]
  },
  {
   "cell_type": "code",
   "execution_count": 112,
   "metadata": {},
   "outputs": [
    {
     "data": {
      "text/html": [
       "<div>\n",
       "<style>\n",
       "    .dataframe thead tr:only-child th {\n",
       "        text-align: right;\n",
       "    }\n",
       "\n",
       "    .dataframe thead th {\n",
       "        text-align: left;\n",
       "    }\n",
       "\n",
       "    .dataframe tbody tr th {\n",
       "        vertical-align: top;\n",
       "    }\n",
       "</style>\n",
       "<table border=\"1\" class=\"dataframe\">\n",
       "  <thead>\n",
       "    <tr style=\"text-align: right;\">\n",
       "      <th></th>\n",
       "      <th>action_type</th>\n",
       "      <th>combined_shot_type</th>\n",
       "      <th>game_event_id</th>\n",
       "      <th>game_id</th>\n",
       "      <th>lat</th>\n",
       "      <th>loc_x</th>\n",
       "      <th>loc_y</th>\n",
       "      <th>lon</th>\n",
       "      <th>minutes_remaining</th>\n",
       "      <th>period</th>\n",
       "      <th>playoffs</th>\n",
       "      <th>season</th>\n",
       "      <th>seconds_remaining</th>\n",
       "      <th>shot_distance</th>\n",
       "      <th>shot_made_flag</th>\n",
       "      <th>shot_type</th>\n",
       "      <th>shot_zone_area</th>\n",
       "      <th>shot_zone_basic</th>\n",
       "      <th>shot_zone_range</th>\n",
       "      <th>team_id</th>\n",
       "      <th>team_name</th>\n",
       "      <th>game_date</th>\n",
       "      <th>matchup</th>\n",
       "      <th>opponent</th>\n",
       "      <th>shot_id</th>\n",
       "    </tr>\n",
       "  </thead>\n",
       "  <tbody>\n",
       "    <tr>\n",
       "      <th>0</th>\n",
       "      <td>Jump Shot</td>\n",
       "      <td>Jump Shot</td>\n",
       "      <td>10</td>\n",
       "      <td>20000012</td>\n",
       "      <td>33.9723</td>\n",
       "      <td>167</td>\n",
       "      <td>72</td>\n",
       "      <td>-118.1028</td>\n",
       "      <td>10</td>\n",
       "      <td>1</td>\n",
       "      <td>0</td>\n",
       "      <td>2000-01</td>\n",
       "      <td>27</td>\n",
       "      <td>18</td>\n",
       "      <td>NaN</td>\n",
       "      <td>2PT Field Goal</td>\n",
       "      <td>Right Side(R)</td>\n",
       "      <td>Mid-Range</td>\n",
       "      <td>16-24 ft.</td>\n",
       "      <td>1610612747</td>\n",
       "      <td>Los Angeles Lakers</td>\n",
       "      <td>2000-10-31</td>\n",
       "      <td>LAL @ POR</td>\n",
       "      <td>POR</td>\n",
       "      <td>1</td>\n",
       "    </tr>\n",
       "    <tr>\n",
       "      <th>1</th>\n",
       "      <td>Jump Shot</td>\n",
       "      <td>Jump Shot</td>\n",
       "      <td>12</td>\n",
       "      <td>20000012</td>\n",
       "      <td>34.0443</td>\n",
       "      <td>-157</td>\n",
       "      <td>0</td>\n",
       "      <td>-118.4268</td>\n",
       "      <td>10</td>\n",
       "      <td>1</td>\n",
       "      <td>0</td>\n",
       "      <td>2000-01</td>\n",
       "      <td>22</td>\n",
       "      <td>15</td>\n",
       "      <td>0.0</td>\n",
       "      <td>2PT Field Goal</td>\n",
       "      <td>Left Side(L)</td>\n",
       "      <td>Mid-Range</td>\n",
       "      <td>8-16 ft.</td>\n",
       "      <td>1610612747</td>\n",
       "      <td>Los Angeles Lakers</td>\n",
       "      <td>2000-10-31</td>\n",
       "      <td>LAL @ POR</td>\n",
       "      <td>POR</td>\n",
       "      <td>2</td>\n",
       "    </tr>\n",
       "    <tr>\n",
       "      <th>2</th>\n",
       "      <td>Jump Shot</td>\n",
       "      <td>Jump Shot</td>\n",
       "      <td>35</td>\n",
       "      <td>20000012</td>\n",
       "      <td>33.9093</td>\n",
       "      <td>-101</td>\n",
       "      <td>135</td>\n",
       "      <td>-118.3708</td>\n",
       "      <td>7</td>\n",
       "      <td>1</td>\n",
       "      <td>0</td>\n",
       "      <td>2000-01</td>\n",
       "      <td>45</td>\n",
       "      <td>16</td>\n",
       "      <td>1.0</td>\n",
       "      <td>2PT Field Goal</td>\n",
       "      <td>Left Side Center(LC)</td>\n",
       "      <td>Mid-Range</td>\n",
       "      <td>16-24 ft.</td>\n",
       "      <td>1610612747</td>\n",
       "      <td>Los Angeles Lakers</td>\n",
       "      <td>2000-10-31</td>\n",
       "      <td>LAL @ POR</td>\n",
       "      <td>POR</td>\n",
       "      <td>3</td>\n",
       "    </tr>\n",
       "    <tr>\n",
       "      <th>3</th>\n",
       "      <td>Jump Shot</td>\n",
       "      <td>Jump Shot</td>\n",
       "      <td>43</td>\n",
       "      <td>20000012</td>\n",
       "      <td>33.8693</td>\n",
       "      <td>138</td>\n",
       "      <td>175</td>\n",
       "      <td>-118.1318</td>\n",
       "      <td>6</td>\n",
       "      <td>1</td>\n",
       "      <td>0</td>\n",
       "      <td>2000-01</td>\n",
       "      <td>52</td>\n",
       "      <td>22</td>\n",
       "      <td>0.0</td>\n",
       "      <td>2PT Field Goal</td>\n",
       "      <td>Right Side Center(RC)</td>\n",
       "      <td>Mid-Range</td>\n",
       "      <td>16-24 ft.</td>\n",
       "      <td>1610612747</td>\n",
       "      <td>Los Angeles Lakers</td>\n",
       "      <td>2000-10-31</td>\n",
       "      <td>LAL @ POR</td>\n",
       "      <td>POR</td>\n",
       "      <td>4</td>\n",
       "    </tr>\n",
       "    <tr>\n",
       "      <th>4</th>\n",
       "      <td>Driving Dunk Shot</td>\n",
       "      <td>Dunk</td>\n",
       "      <td>155</td>\n",
       "      <td>20000012</td>\n",
       "      <td>34.0443</td>\n",
       "      <td>0</td>\n",
       "      <td>0</td>\n",
       "      <td>-118.2698</td>\n",
       "      <td>6</td>\n",
       "      <td>2</td>\n",
       "      <td>0</td>\n",
       "      <td>2000-01</td>\n",
       "      <td>19</td>\n",
       "      <td>0</td>\n",
       "      <td>1.0</td>\n",
       "      <td>2PT Field Goal</td>\n",
       "      <td>Center(C)</td>\n",
       "      <td>Restricted Area</td>\n",
       "      <td>Less Than 8 ft.</td>\n",
       "      <td>1610612747</td>\n",
       "      <td>Los Angeles Lakers</td>\n",
       "      <td>2000-10-31</td>\n",
       "      <td>LAL @ POR</td>\n",
       "      <td>POR</td>\n",
       "      <td>5</td>\n",
       "    </tr>\n",
       "  </tbody>\n",
       "</table>\n",
       "</div>"
      ],
      "text/plain": [
       "         action_type combined_shot_type  game_event_id   game_id      lat  \\\n",
       "0          Jump Shot          Jump Shot             10  20000012  33.9723   \n",
       "1          Jump Shot          Jump Shot             12  20000012  34.0443   \n",
       "2          Jump Shot          Jump Shot             35  20000012  33.9093   \n",
       "3          Jump Shot          Jump Shot             43  20000012  33.8693   \n",
       "4  Driving Dunk Shot               Dunk            155  20000012  34.0443   \n",
       "\n",
       "   loc_x  loc_y       lon  minutes_remaining  period  playoffs   season  \\\n",
       "0    167     72 -118.1028                 10       1         0  2000-01   \n",
       "1   -157      0 -118.4268                 10       1         0  2000-01   \n",
       "2   -101    135 -118.3708                  7       1         0  2000-01   \n",
       "3    138    175 -118.1318                  6       1         0  2000-01   \n",
       "4      0      0 -118.2698                  6       2         0  2000-01   \n",
       "\n",
       "   seconds_remaining  shot_distance  shot_made_flag       shot_type  \\\n",
       "0                 27             18             NaN  2PT Field Goal   \n",
       "1                 22             15             0.0  2PT Field Goal   \n",
       "2                 45             16             1.0  2PT Field Goal   \n",
       "3                 52             22             0.0  2PT Field Goal   \n",
       "4                 19              0             1.0  2PT Field Goal   \n",
       "\n",
       "          shot_zone_area  shot_zone_basic  shot_zone_range     team_id  \\\n",
       "0          Right Side(R)        Mid-Range        16-24 ft.  1610612747   \n",
       "1           Left Side(L)        Mid-Range         8-16 ft.  1610612747   \n",
       "2   Left Side Center(LC)        Mid-Range        16-24 ft.  1610612747   \n",
       "3  Right Side Center(RC)        Mid-Range        16-24 ft.  1610612747   \n",
       "4              Center(C)  Restricted Area  Less Than 8 ft.  1610612747   \n",
       "\n",
       "            team_name   game_date    matchup opponent  shot_id  \n",
       "0  Los Angeles Lakers  2000-10-31  LAL @ POR      POR        1  \n",
       "1  Los Angeles Lakers  2000-10-31  LAL @ POR      POR        2  \n",
       "2  Los Angeles Lakers  2000-10-31  LAL @ POR      POR        3  \n",
       "3  Los Angeles Lakers  2000-10-31  LAL @ POR      POR        4  \n",
       "4  Los Angeles Lakers  2000-10-31  LAL @ POR      POR        5  "
      ]
     },
     "execution_count": 112,
     "metadata": {},
     "output_type": "execute_result"
    }
   ],
   "source": [
    "kobe = pd.read_csv('data.csv')\n",
    "kobe.head()"
   ]
  },
  {
   "cell_type": "code",
   "execution_count": 113,
   "metadata": {},
   "outputs": [
    {
     "name": "stdout",
     "output_type": "stream",
     "text": [
      "<class 'pandas.core.frame.DataFrame'>\n",
      "RangeIndex: 30697 entries, 0 to 30696\n",
      "Data columns (total 25 columns):\n",
      "action_type           30697 non-null object\n",
      "combined_shot_type    30697 non-null object\n",
      "game_event_id         30697 non-null int64\n",
      "game_id               30697 non-null int64\n",
      "lat                   30697 non-null float64\n",
      "loc_x                 30697 non-null int64\n",
      "loc_y                 30697 non-null int64\n",
      "lon                   30697 non-null float64\n",
      "minutes_remaining     30697 non-null int64\n",
      "period                30697 non-null int64\n",
      "playoffs              30697 non-null int64\n",
      "season                30697 non-null object\n",
      "seconds_remaining     30697 non-null int64\n",
      "shot_distance         30697 non-null int64\n",
      "shot_made_flag        25697 non-null float64\n",
      "shot_type             30697 non-null object\n",
      "shot_zone_area        30697 non-null object\n",
      "shot_zone_basic       30697 non-null object\n",
      "shot_zone_range       30697 non-null object\n",
      "team_id               30697 non-null int64\n",
      "team_name             30697 non-null object\n",
      "game_date             30697 non-null object\n",
      "matchup               30697 non-null object\n",
      "opponent              30697 non-null object\n",
      "shot_id               30697 non-null int64\n",
      "dtypes: float64(3), int64(11), object(11)\n",
      "memory usage: 5.9+ MB\n"
     ]
    }
   ],
   "source": [
    "kobe.info()"
   ]
  },
  {
   "cell_type": "markdown",
   "metadata": {},
   "source": [
    "Data Quality Check - lets check the columns that contain `NaN` values."
   ]
  },
  {
   "cell_type": "code",
   "execution_count": 114,
   "metadata": {},
   "outputs": [
    {
     "data": {
      "text/plain": [
       "['shot_made_flag']"
      ]
     },
     "execution_count": 114,
     "metadata": {},
     "output_type": "execute_result"
    }
   ],
   "source": [
    "kobe.columns[kobe.isnull().any()].tolist()"
   ]
  },
  {
   "cell_type": "code",
   "execution_count": 115,
   "metadata": {},
   "outputs": [
    {
     "data": {
      "text/plain": [
       "[]"
      ]
     },
     "execution_count": 115,
     "metadata": {},
     "output_type": "execute_result"
    }
   ],
   "source": [
    "kobe = kobe[kobe['shot_made_flag'].notnull()]\n",
    "kobe.columns[kobe.isnull().any()].tolist()"
   ]
  },
  {
   "cell_type": "markdown",
   "metadata": {},
   "source": [
    "--------\n",
    "##  Exploratory Analysis"
   ]
  },
  {
   "cell_type": "code",
   "execution_count": 116,
   "metadata": {},
   "outputs": [
    {
     "data": {
      "text/html": [
       "<div>\n",
       "<style>\n",
       "    .dataframe thead tr:only-child th {\n",
       "        text-align: right;\n",
       "    }\n",
       "\n",
       "    .dataframe thead th {\n",
       "        text-align: left;\n",
       "    }\n",
       "\n",
       "    .dataframe tbody tr th {\n",
       "        vertical-align: top;\n",
       "    }\n",
       "</style>\n",
       "<table border=\"1\" class=\"dataframe\">\n",
       "  <thead>\n",
       "    <tr style=\"text-align: right;\">\n",
       "      <th></th>\n",
       "      <th>game_event_id</th>\n",
       "      <th>game_id</th>\n",
       "      <th>lat</th>\n",
       "      <th>loc_x</th>\n",
       "      <th>loc_y</th>\n",
       "      <th>lon</th>\n",
       "      <th>minutes_remaining</th>\n",
       "      <th>period</th>\n",
       "      <th>playoffs</th>\n",
       "      <th>seconds_remaining</th>\n",
       "      <th>shot_distance</th>\n",
       "      <th>shot_made_flag</th>\n",
       "      <th>team_id</th>\n",
       "      <th>shot_id</th>\n",
       "    </tr>\n",
       "  </thead>\n",
       "  <tbody>\n",
       "    <tr>\n",
       "      <th>count</th>\n",
       "      <td>25697.000000</td>\n",
       "      <td>2.569700e+04</td>\n",
       "      <td>25697.000000</td>\n",
       "      <td>25697.000000</td>\n",
       "      <td>25697.000000</td>\n",
       "      <td>25697.000000</td>\n",
       "      <td>25697.000000</td>\n",
       "      <td>25697.000000</td>\n",
       "      <td>25697.000000</td>\n",
       "      <td>25697.000000</td>\n",
       "      <td>25697.000000</td>\n",
       "      <td>25697.000000</td>\n",
       "      <td>2.569700e+04</td>\n",
       "      <td>25697.000000</td>\n",
       "    </tr>\n",
       "    <tr>\n",
       "      <th>mean</th>\n",
       "      <td>249.348679</td>\n",
       "      <td>2.474109e+07</td>\n",
       "      <td>33.953043</td>\n",
       "      <td>7.148422</td>\n",
       "      <td>91.257345</td>\n",
       "      <td>-118.262652</td>\n",
       "      <td>4.886796</td>\n",
       "      <td>2.520800</td>\n",
       "      <td>0.146243</td>\n",
       "      <td>28.311554</td>\n",
       "      <td>13.457096</td>\n",
       "      <td>0.446161</td>\n",
       "      <td>1.610613e+09</td>\n",
       "      <td>15328.166946</td>\n",
       "    </tr>\n",
       "    <tr>\n",
       "      <th>std</th>\n",
       "      <td>149.778520</td>\n",
       "      <td>7.738108e+06</td>\n",
       "      <td>0.088152</td>\n",
       "      <td>110.073147</td>\n",
       "      <td>88.152106</td>\n",
       "      <td>0.110073</td>\n",
       "      <td>3.452475</td>\n",
       "      <td>1.151626</td>\n",
       "      <td>0.353356</td>\n",
       "      <td>17.523392</td>\n",
       "      <td>9.388725</td>\n",
       "      <td>0.497103</td>\n",
       "      <td>0.000000e+00</td>\n",
       "      <td>8860.462397</td>\n",
       "    </tr>\n",
       "    <tr>\n",
       "      <th>min</th>\n",
       "      <td>2.000000</td>\n",
       "      <td>2.000001e+07</td>\n",
       "      <td>33.253300</td>\n",
       "      <td>-250.000000</td>\n",
       "      <td>-44.000000</td>\n",
       "      <td>-118.519800</td>\n",
       "      <td>0.000000</td>\n",
       "      <td>1.000000</td>\n",
       "      <td>0.000000</td>\n",
       "      <td>0.000000</td>\n",
       "      <td>0.000000</td>\n",
       "      <td>0.000000</td>\n",
       "      <td>1.610613e+09</td>\n",
       "      <td>2.000000</td>\n",
       "    </tr>\n",
       "    <tr>\n",
       "      <th>25%</th>\n",
       "      <td>111.000000</td>\n",
       "      <td>2.050006e+07</td>\n",
       "      <td>33.884300</td>\n",
       "      <td>-67.000000</td>\n",
       "      <td>4.000000</td>\n",
       "      <td>-118.336800</td>\n",
       "      <td>2.000000</td>\n",
       "      <td>1.000000</td>\n",
       "      <td>0.000000</td>\n",
       "      <td>13.000000</td>\n",
       "      <td>5.000000</td>\n",
       "      <td>0.000000</td>\n",
       "      <td>1.610613e+09</td>\n",
       "      <td>7646.000000</td>\n",
       "    </tr>\n",
       "    <tr>\n",
       "      <th>50%</th>\n",
       "      <td>253.000000</td>\n",
       "      <td>2.090034e+07</td>\n",
       "      <td>33.970300</td>\n",
       "      <td>0.000000</td>\n",
       "      <td>74.000000</td>\n",
       "      <td>-118.269800</td>\n",
       "      <td>5.000000</td>\n",
       "      <td>3.000000</td>\n",
       "      <td>0.000000</td>\n",
       "      <td>28.000000</td>\n",
       "      <td>15.000000</td>\n",
       "      <td>0.000000</td>\n",
       "      <td>1.610613e+09</td>\n",
       "      <td>15336.000000</td>\n",
       "    </tr>\n",
       "    <tr>\n",
       "      <th>75%</th>\n",
       "      <td>367.000000</td>\n",
       "      <td>2.960027e+07</td>\n",
       "      <td>34.040300</td>\n",
       "      <td>94.000000</td>\n",
       "      <td>160.000000</td>\n",
       "      <td>-118.175800</td>\n",
       "      <td>8.000000</td>\n",
       "      <td>3.000000</td>\n",
       "      <td>0.000000</td>\n",
       "      <td>43.000000</td>\n",
       "      <td>21.000000</td>\n",
       "      <td>1.000000</td>\n",
       "      <td>1.610613e+09</td>\n",
       "      <td>22976.000000</td>\n",
       "    </tr>\n",
       "    <tr>\n",
       "      <th>max</th>\n",
       "      <td>653.000000</td>\n",
       "      <td>4.990009e+07</td>\n",
       "      <td>34.088300</td>\n",
       "      <td>248.000000</td>\n",
       "      <td>791.000000</td>\n",
       "      <td>-118.021800</td>\n",
       "      <td>11.000000</td>\n",
       "      <td>7.000000</td>\n",
       "      <td>1.000000</td>\n",
       "      <td>59.000000</td>\n",
       "      <td>79.000000</td>\n",
       "      <td>1.000000</td>\n",
       "      <td>1.610613e+09</td>\n",
       "      <td>30697.000000</td>\n",
       "    </tr>\n",
       "  </tbody>\n",
       "</table>\n",
       "</div>"
      ],
      "text/plain": [
       "       game_event_id       game_id           lat         loc_x         loc_y  \\\n",
       "count   25697.000000  2.569700e+04  25697.000000  25697.000000  25697.000000   \n",
       "mean      249.348679  2.474109e+07     33.953043      7.148422     91.257345   \n",
       "std       149.778520  7.738108e+06      0.088152    110.073147     88.152106   \n",
       "min         2.000000  2.000001e+07     33.253300   -250.000000    -44.000000   \n",
       "25%       111.000000  2.050006e+07     33.884300    -67.000000      4.000000   \n",
       "50%       253.000000  2.090034e+07     33.970300      0.000000     74.000000   \n",
       "75%       367.000000  2.960027e+07     34.040300     94.000000    160.000000   \n",
       "max       653.000000  4.990009e+07     34.088300    248.000000    791.000000   \n",
       "\n",
       "                lon  minutes_remaining        period      playoffs  \\\n",
       "count  25697.000000       25697.000000  25697.000000  25697.000000   \n",
       "mean    -118.262652           4.886796      2.520800      0.146243   \n",
       "std        0.110073           3.452475      1.151626      0.353356   \n",
       "min     -118.519800           0.000000      1.000000      0.000000   \n",
       "25%     -118.336800           2.000000      1.000000      0.000000   \n",
       "50%     -118.269800           5.000000      3.000000      0.000000   \n",
       "75%     -118.175800           8.000000      3.000000      0.000000   \n",
       "max     -118.021800          11.000000      7.000000      1.000000   \n",
       "\n",
       "       seconds_remaining  shot_distance  shot_made_flag       team_id  \\\n",
       "count       25697.000000   25697.000000    25697.000000  2.569700e+04   \n",
       "mean           28.311554      13.457096        0.446161  1.610613e+09   \n",
       "std            17.523392       9.388725        0.497103  0.000000e+00   \n",
       "min             0.000000       0.000000        0.000000  1.610613e+09   \n",
       "25%            13.000000       5.000000        0.000000  1.610613e+09   \n",
       "50%            28.000000      15.000000        0.000000  1.610613e+09   \n",
       "75%            43.000000      21.000000        1.000000  1.610613e+09   \n",
       "max            59.000000      79.000000        1.000000  1.610613e+09   \n",
       "\n",
       "            shot_id  \n",
       "count  25697.000000  \n",
       "mean   15328.166946  \n",
       "std     8860.462397  \n",
       "min        2.000000  \n",
       "25%     7646.000000  \n",
       "50%    15336.000000  \n",
       "75%    22976.000000  \n",
       "max    30697.000000  "
      ]
     },
     "execution_count": 116,
     "metadata": {},
     "output_type": "execute_result"
    }
   ],
   "source": [
    "kobe.describe()"
   ]
  },
  {
   "cell_type": "markdown",
   "metadata": {},
   "source": [
    "Starting off let just get a perspective of some basic stats.. the distribution between whether kobe made a shot or missed a shot. below and throughout the rest of the exploritory section we will use `seaborn` as our data visualization library (which is based on `matplotlib`) that, in my perspective, provide a better interface for some really neat graphs for statistical data. "
   ]
  },
  {
   "cell_type": "code",
   "execution_count": 117,
   "metadata": {},
   "outputs": [
    {
     "name": "stdout",
     "output_type": "stream",
     "text": [
      "shot_made_flag\n",
      "0.0    14232\n",
      "1.0    11465\n",
      "dtype: int64\n"
     ]
    },
    {
     "data": {
      "image/png": "[encoded data removed]",
      "text/plain": [
       "<matplotlib.figure.Figure at 0x7f7a0f038d30>"
      ]
     },
     "metadata": {},
     "output_type": "display_data"
    }
   ],
   "source": [
    "sns.countplot(kobe['shot_made_flag'], label=\"Count\")\n",
    "print(kobe.groupby('shot_made_flag').size())"
   ]
  },
  {
   "cell_type": "markdown",
   "metadata": {},
   "source": [
    "Next let see the distirbution of kobe's `shot zone` _(where kobe shot the ball on the court)_ and the number of time he made or missed the shot."
   ]
  },
  {
   "cell_type": "code",
   "execution_count": 118,
   "metadata": {},
   "outputs": [
    {
     "name": "stdout",
     "output_type": "stream",
     "text": [
      "['Mid-Range' 'Restricted Area' 'In The Paint (Non-RA)' 'Above the Break 3'\n",
      " 'Right Corner 3' 'Backcourt' 'Left Corner 3']\n"
     ]
    },
    {
     "data": {
      "text/plain": [
       "<seaborn.axisgrid.FacetGrid at 0x7f7a0e94aa20>"
      ]
     },
     "execution_count": 118,
     "metadata": {},
     "output_type": "execute_result"
    },
    {
     "data": {
      "image/png": "[encoded data removed]",
      "text/plain": [
       "<matplotlib.figure.Figure at 0x7f7a0dbd9898>"
      ]
     },
     "metadata": {},
     "output_type": "display_data"
    }
   ],
   "source": [
    "print(kobe.shot_zone_basic.unique())\n",
    "sns.catplot(x='shot_zone_basic', y='shot_id',\n",
    "            hue='shot_made_flag', kind='bar',\n",
    "           data=kobe.groupby(['shot_zone_basic','shot_made_flag'])['shot_id'].count().reset_index())\\\n"
   ]
  },
  {
   "cell_type": "markdown",
   "metadata": {},
   "source": [
    "#### Distribution of observatios within the shots made category\n",
    "Below we we summarize the distribution of shots made by using a box plot which facilitates easy comparisions across the `combined shot type` category to see the distribution of `shots_made_flag`. "
   ]
  },
  {
   "cell_type": "code",
   "execution_count": 119,
   "metadata": {},
   "outputs": [
    {
     "data": {
      "text/plain": [
       "<seaborn.axisgrid.FacetGrid at 0x7f7a0daa5b38>"
      ]
     },
     "execution_count": 119,
     "metadata": {},
     "output_type": "execute_result"
    },
    {
     "data": {
      "image/png": "[encoded data removed]",
      "text/plain": [
       "<matplotlib.figure.Figure at 0x7f7a0ddc8668>"
      ]
     },
     "metadata": {},
     "output_type": "display_data"
    }
   ],
   "source": [
    "sns.catplot(x='combined_shot_type', y='shot_id', hue='shot_made_flag',kind='box', data=kobe.groupby(['game_date','combined_shot_type','shot_made_flag'])['shot_id'].count().reset_index())"
   ]
  },
  {
   "cell_type": "code",
   "execution_count": 120,
   "metadata": {},
   "outputs": [
    {
     "data": {
      "text/plain": [
       "<seaborn.axisgrid.FacetGrid at 0x7f7a0e20f400>"
      ]
     },
     "execution_count": 120,
     "metadata": {},
     "output_type": "execute_result"
    },
    {
     "data": {
      "image/png": "[encoded data removed]",
      "text/plain": [
       "<matplotlib.figure.Figure at 0x7f7a0e727630>"
      ]
     },
     "metadata": {},
     "output_type": "display_data"
    }
   ],
   "source": [
    "sns.catplot(x='combined_shot_type', y='shot_id', hue='shot_made_flag', data=kobe.groupby(['season','period','combined_shot_type','shot_made_flag'])['shot_id'].count().reset_index())"
   ]
  },
  {
   "cell_type": "markdown",
   "metadata": {},
   "source": [
    "Next we look at the distribution of kobe's shot using `catplot`'s `FacetGrid` which we can used to easily add faceting variables to fisualize higher dimensional relationships. We will use this to show Kobe's shot selection in aggregation by `season` showing the `combined shot category` according to whether he made or missed the shot. "
   ]
  },
  {
   "cell_type": "code",
   "execution_count": 121,
   "metadata": {},
   "outputs": [
    {
     "data": {
      "text/plain": [
       "<seaborn.axisgrid.FacetGrid at 0x7f7a0e688f60>"
      ]
     },
     "execution_count": 121,
     "metadata": {},
     "output_type": "execute_result"
    },
    {
     "data": {
      "image/png": "[encoded data removed]",
      "text/plain": [
       "<matplotlib.figure.Figure at 0x7f7a0e4a9208>"
      ]
     },
     "metadata": {},
     "output_type": "display_data"
    }
   ],
   "source": [
    "sns.catplot(x=\"combined_shot_type\", y=\"shot_id\", hue=\"shot_made_flag\",\n",
    "            col=\"period\", aspect=.6,\n",
    "            kind=\"swarm\", \n",
    "            data=kobe[kobe.period <=5].groupby(['season','period','combined_shot_type','shot_made_flag'])['shot_id'].count().reset_index())"
   ]
  },
  {
   "cell_type": "markdown",
   "metadata": {},
   "source": [
    "Next we will use a `point plot` which is an alternative style for visualizing the same information above but in a way that encodes the value of the `shot made flag` that has a bar to plot point esitmates and confidence intervals. Using the `hue` category, we are able to visualize the `combined_shot_type` category. This makes it easy to see how the main relationship is changin as a functino of the hue semantic.  "
   ]
  },
  {
   "cell_type": "code",
   "execution_count": 122,
   "metadata": {},
   "outputs": [
    {
     "data": {
      "text/plain": [
       "<seaborn.axisgrid.FacetGrid at 0x7f7a0f5a1e80>"
      ]
     },
     "execution_count": 122,
     "metadata": {},
     "output_type": "execute_result"
    },
    {
     "data": {
      "image/png": "[encoded data removed]",
      "text/plain": [
       "<matplotlib.figure.Figure at 0x7f7a0e30f2e8>"
      ]
     },
     "metadata": {},
     "output_type": "display_data"
    }
   ],
   "source": [
    "sns.catplot(x='shot_made_flag', y='shot_id', \n",
    "            hue='combined_shot_type', kind='point',\n",
    "            data=kobe.groupby(['season','combined_shot_type','shot_made_flag'])['shot_id'].count().reset_index())"
   ]
  },
  {
   "cell_type": "markdown",
   "metadata": {},
   "source": [
    "From the chart above we can see that still there is a high distributino of the shots Kobe takes as a jump shot compared to the other types of shots he takes. Howver we can see that in some cases (which is slightly surprising) his `layups` were often more accurate than his `dunks`. "
   ]
  },
  {
   "cell_type": "code",
   "execution_count": 123,
   "metadata": {},
   "outputs": [
    {
     "data": {
      "text/html": [
       "<div>\n",
       "<style>\n",
       "    .dataframe thead tr:only-child th {\n",
       "        text-align: right;\n",
       "    }\n",
       "\n",
       "    .dataframe thead th {\n",
       "        text-align: left;\n",
       "    }\n",
       "\n",
       "    .dataframe tbody tr th {\n",
       "        vertical-align: top;\n",
       "    }\n",
       "</style>\n",
       "<table border=\"1\" class=\"dataframe\">\n",
       "  <thead>\n",
       "    <tr style=\"text-align: right;\">\n",
       "      <th></th>\n",
       "      <th>action_type</th>\n",
       "      <th>combined_shot_type</th>\n",
       "      <th>game_event_id</th>\n",
       "      <th>game_id</th>\n",
       "      <th>lat</th>\n",
       "      <th>loc_x</th>\n",
       "      <th>loc_y</th>\n",
       "      <th>lon</th>\n",
       "      <th>minutes_remaining</th>\n",
       "      <th>period</th>\n",
       "      <th>playoffs</th>\n",
       "      <th>season</th>\n",
       "      <th>seconds_remaining</th>\n",
       "      <th>shot_distance</th>\n",
       "      <th>shot_made_flag</th>\n",
       "      <th>shot_type</th>\n",
       "      <th>shot_zone_area</th>\n",
       "      <th>shot_zone_basic</th>\n",
       "      <th>shot_zone_range</th>\n",
       "      <th>team_id</th>\n",
       "      <th>team_name</th>\n",
       "      <th>game_date</th>\n",
       "      <th>matchup</th>\n",
       "      <th>opponent</th>\n",
       "      <th>shot_id</th>\n",
       "    </tr>\n",
       "  </thead>\n",
       "  <tbody>\n",
       "    <tr>\n",
       "      <th>1</th>\n",
       "      <td>Jump Shot</td>\n",
       "      <td>Jump Shot</td>\n",
       "      <td>12</td>\n",
       "      <td>20000012</td>\n",
       "      <td>34.0443</td>\n",
       "      <td>-157</td>\n",
       "      <td>0</td>\n",
       "      <td>-118.4268</td>\n",
       "      <td>10</td>\n",
       "      <td>1</td>\n",
       "      <td>0</td>\n",
       "      <td>2000-01</td>\n",
       "      <td>22</td>\n",
       "      <td>15</td>\n",
       "      <td>0.0</td>\n",
       "      <td>2PT Field Goal</td>\n",
       "      <td>Left Side(L)</td>\n",
       "      <td>Mid-Range</td>\n",
       "      <td>8-16 ft.</td>\n",
       "      <td>1610612747</td>\n",
       "      <td>Los Angeles Lakers</td>\n",
       "      <td>2000-10-31</td>\n",
       "      <td>LAL @ POR</td>\n",
       "      <td>POR</td>\n",
       "      <td>2</td>\n",
       "    </tr>\n",
       "    <tr>\n",
       "      <th>2</th>\n",
       "      <td>Jump Shot</td>\n",
       "      <td>Jump Shot</td>\n",
       "      <td>35</td>\n",
       "      <td>20000012</td>\n",
       "      <td>33.9093</td>\n",
       "      <td>-101</td>\n",
       "      <td>135</td>\n",
       "      <td>-118.3708</td>\n",
       "      <td>7</td>\n",
       "      <td>1</td>\n",
       "      <td>0</td>\n",
       "      <td>2000-01</td>\n",
       "      <td>45</td>\n",
       "      <td>16</td>\n",
       "      <td>1.0</td>\n",
       "      <td>2PT Field Goal</td>\n",
       "      <td>Left Side Center(LC)</td>\n",
       "      <td>Mid-Range</td>\n",
       "      <td>16-24 ft.</td>\n",
       "      <td>1610612747</td>\n",
       "      <td>Los Angeles Lakers</td>\n",
       "      <td>2000-10-31</td>\n",
       "      <td>LAL @ POR</td>\n",
       "      <td>POR</td>\n",
       "      <td>3</td>\n",
       "    </tr>\n",
       "    <tr>\n",
       "      <th>3</th>\n",
       "      <td>Jump Shot</td>\n",
       "      <td>Jump Shot</td>\n",
       "      <td>43</td>\n",
       "      <td>20000012</td>\n",
       "      <td>33.8693</td>\n",
       "      <td>138</td>\n",
       "      <td>175</td>\n",
       "      <td>-118.1318</td>\n",
       "      <td>6</td>\n",
       "      <td>1</td>\n",
       "      <td>0</td>\n",
       "      <td>2000-01</td>\n",
       "      <td>52</td>\n",
       "      <td>22</td>\n",
       "      <td>0.0</td>\n",
       "      <td>2PT Field Goal</td>\n",
       "      <td>Right Side Center(RC)</td>\n",
       "      <td>Mid-Range</td>\n",
       "      <td>16-24 ft.</td>\n",
       "      <td>1610612747</td>\n",
       "      <td>Los Angeles Lakers</td>\n",
       "      <td>2000-10-31</td>\n",
       "      <td>LAL @ POR</td>\n",
       "      <td>POR</td>\n",
       "      <td>4</td>\n",
       "    </tr>\n",
       "    <tr>\n",
       "      <th>4</th>\n",
       "      <td>Driving Dunk Shot</td>\n",
       "      <td>Dunk</td>\n",
       "      <td>155</td>\n",
       "      <td>20000012</td>\n",
       "      <td>34.0443</td>\n",
       "      <td>0</td>\n",
       "      <td>0</td>\n",
       "      <td>-118.2698</td>\n",
       "      <td>6</td>\n",
       "      <td>2</td>\n",
       "      <td>0</td>\n",
       "      <td>2000-01</td>\n",
       "      <td>19</td>\n",
       "      <td>0</td>\n",
       "      <td>1.0</td>\n",
       "      <td>2PT Field Goal</td>\n",
       "      <td>Center(C)</td>\n",
       "      <td>Restricted Area</td>\n",
       "      <td>Less Than 8 ft.</td>\n",
       "      <td>1610612747</td>\n",
       "      <td>Los Angeles Lakers</td>\n",
       "      <td>2000-10-31</td>\n",
       "      <td>LAL @ POR</td>\n",
       "      <td>POR</td>\n",
       "      <td>5</td>\n",
       "    </tr>\n",
       "    <tr>\n",
       "      <th>5</th>\n",
       "      <td>Jump Shot</td>\n",
       "      <td>Jump Shot</td>\n",
       "      <td>244</td>\n",
       "      <td>20000012</td>\n",
       "      <td>34.0553</td>\n",
       "      <td>-145</td>\n",
       "      <td>-11</td>\n",
       "      <td>-118.4148</td>\n",
       "      <td>9</td>\n",
       "      <td>3</td>\n",
       "      <td>0</td>\n",
       "      <td>2000-01</td>\n",
       "      <td>32</td>\n",
       "      <td>14</td>\n",
       "      <td>0.0</td>\n",
       "      <td>2PT Field Goal</td>\n",
       "      <td>Left Side(L)</td>\n",
       "      <td>Mid-Range</td>\n",
       "      <td>8-16 ft.</td>\n",
       "      <td>1610612747</td>\n",
       "      <td>Los Angeles Lakers</td>\n",
       "      <td>2000-10-31</td>\n",
       "      <td>LAL @ POR</td>\n",
       "      <td>POR</td>\n",
       "      <td>6</td>\n",
       "    </tr>\n",
       "  </tbody>\n",
       "</table>\n",
       "</div>"
      ],
      "text/plain": [
       "         action_type combined_shot_type  game_event_id   game_id      lat  \\\n",
       "1          Jump Shot          Jump Shot             12  20000012  34.0443   \n",
       "2          Jump Shot          Jump Shot             35  20000012  33.9093   \n",
       "3          Jump Shot          Jump Shot             43  20000012  33.8693   \n",
       "4  Driving Dunk Shot               Dunk            155  20000012  34.0443   \n",
       "5          Jump Shot          Jump Shot            244  20000012  34.0553   \n",
       "\n",
       "   loc_x  loc_y       lon  minutes_remaining  period  playoffs   season  \\\n",
       "1   -157      0 -118.4268                 10       1         0  2000-01   \n",
       "2   -101    135 -118.3708                  7       1         0  2000-01   \n",
       "3    138    175 -118.1318                  6       1         0  2000-01   \n",
       "4      0      0 -118.2698                  6       2         0  2000-01   \n",
       "5   -145    -11 -118.4148                  9       3         0  2000-01   \n",
       "\n",
       "   seconds_remaining  shot_distance  shot_made_flag       shot_type  \\\n",
       "1                 22             15             0.0  2PT Field Goal   \n",
       "2                 45             16             1.0  2PT Field Goal   \n",
       "3                 52             22             0.0  2PT Field Goal   \n",
       "4                 19              0             1.0  2PT Field Goal   \n",
       "5                 32             14             0.0  2PT Field Goal   \n",
       "\n",
       "          shot_zone_area  shot_zone_basic  shot_zone_range     team_id  \\\n",
       "1           Left Side(L)        Mid-Range         8-16 ft.  1610612747   \n",
       "2   Left Side Center(LC)        Mid-Range        16-24 ft.  1610612747   \n",
       "3  Right Side Center(RC)        Mid-Range        16-24 ft.  1610612747   \n",
       "4              Center(C)  Restricted Area  Less Than 8 ft.  1610612747   \n",
       "5           Left Side(L)        Mid-Range         8-16 ft.  1610612747   \n",
       "\n",
       "            team_name   game_date    matchup opponent  shot_id  \n",
       "1  Los Angeles Lakers  2000-10-31  LAL @ POR      POR        2  \n",
       "2  Los Angeles Lakers  2000-10-31  LAL @ POR      POR        3  \n",
       "3  Los Angeles Lakers  2000-10-31  LAL @ POR      POR        4  \n",
       "4  Los Angeles Lakers  2000-10-31  LAL @ POR      POR        5  \n",
       "5  Los Angeles Lakers  2000-10-31  LAL @ POR      POR        6  "
      ]
     },
     "execution_count": 123,
     "metadata": {},
     "output_type": "execute_result"
    }
   ],
   "source": [
    "kobe.head()"
   ]
  },
  {
   "cell_type": "markdown",
   "metadata": {},
   "source": [
    "----\n",
    "## Looking for Correlations\n",
    "\n",
    "Next we use several methods to evaluate the corrletions of the kobe bryant shot selection. Just starting off we can already get a glimps of the relathipships of `season`, `combined_shot_type` and `shot_zone_basic`. Next we will calcuate the correlation for a set of features that we think will have an impact in predicting whether Kobe makes or misses a shot. \n",
    "\n",
    "In the past to solve for such correlation, we would have had to bring out the ol' notebook, calculator and pencil. Instead of having to master the original formula _(below)_ for __Pearson Correlation Coefficient__ we can use a couple of functions and in a nic of time we have our results of correlations between different features. \n",
    "\n",
    "![https://www.datascience.com/blog/introduction-to-correlation-learn-data-science-tutorials](https://render.githubusercontent.com/render/math?math=%5Crho_%7BX%2CY%7D%20%3D%20%5Cfrac%7B%5Csum%28X_i%20-%20%5Cbar%7BX%7D%29%28Y_i%20-%20%5Cbar%7BY%7D%29%7D%7B%5Csqrt%7B%5Csum%28X_i%20-%20%5Cbar%7BX%7D%29%5E2%20%5Csum%28Y_i%20-%5Cbar%7BY%7D%29%5E2%7D%20%7D&mode=display)\n",
    "\n",
    "However, life isnt always _that_ easy. We will have to know how to interprete the data. So therefore, we must understand Pearsons `p` Correlation Coefficient in some capacity. So lets gets just get some basic level setting so we can get on with the fun.\n",
    "* __Covariance__ is a statitical measure of associate between two variables `X` and `Y`. Such as given a random defense guarding Kobe, at a random time in the game, at a random location `:X`, if Kobe were to shot the ball, would the result be a make or a miss `:Y` . Essentially the se centered scores are multiplied together to measure twhether the increase in one variable associates with the increase in another. \n",
    "* __Pearson Correlation__ measures the linear association between continuous variables. In other words, the coefficient quantifies the degree to which a relationship between two variables can be described by a line. In the formula listed above, basically its read as the raw observations are centered by subtracting their means and rescaled by a measure of standard deviation. \n",
    "* __Interpreting the Pearson Correlation Result__ when calculating Pearson Correlation the resulting number you get will ALWAYS be between 1 and -1. \n",
    "    * The close the `p` result is to `+1` the more of an `incrase` in one variable associates with an increase in the ovther. \n",
    "    * On the other hand, the closer `p` result is to `-1`, the increase in one variable would result in `decrease` in the other. \n",
    "    * If the `p` result is close to `0` we can say `X` and `Y` are indepenent (but not vice versa). "
   ]
  },
  {
   "cell_type": "code",
   "execution_count": 124,
   "metadata": {},
   "outputs": [
    {
     "data": {
      "text/plain": [
       "shot_made_flag       1.000000\n",
       "lat                  0.148070\n",
       "seconds_remaining    0.030804\n",
       "minutes_remaining    0.028342\n",
       "loc_x               -0.000848\n",
       "lon                 -0.000848\n",
       "playoffs            -0.001257\n",
       "game_id             -0.001612\n",
       "shot_id             -0.013016\n",
       "period              -0.032152\n",
       "game_event_id       -0.037232\n",
       "loc_y               -0.148070\n",
       "shot_distance       -0.198242\n",
       "team_id                   NaN\n",
       "Name: shot_made_flag, dtype: float64"
      ]
     },
     "execution_count": 124,
     "metadata": {},
     "output_type": "execute_result"
    }
   ],
   "source": [
    "kobe_corr = kobe.corr()\n",
    "kobe_corr['shot_made_flag'].sort_values(ascending=False)"
   ]
  },
  {
   "cell_type": "markdown",
   "metadata": {},
   "source": [
    "okay... well we didnt get high indication on correlation just on the dataset which we were given. In cases this this, its best to talk with an individual knowledgeable about the dataset, the area we are evaluating and some awesome feature engineering skills. Good think you came here... lets solve this problem one at a time. \n",
    "\n",
    "...We will return to finding correlations... first we need to take a step back and see if we can improve on the set of features we have now...this next step is called feature engineering. \n",
    "\n",
    "----\n",
    "\n",
    "## Feature Engineering\n",
    "\n",
    "The first feature that come that can assist with predicing kobe's shot is to add a feature _(or column)_ to indicate whether he made or missed his last shot. Make sense right... if we can have prior knowedge if Kobe made or missed his last shot, it can reasonable be an indicator as to whether he will make or miss his current/future shot with some range of standard error. Therefore lets create a column that indicate whether he made or miss his last shot. We also need to account for the current shot and last shot were all in the same period of the same game"
   ]
  },
  {
   "cell_type": "code",
   "execution_count": 125,
   "metadata": {},
   "outputs": [],
   "source": [
    "kobe = kobe.reset_index(drop=True)\n",
    "fullplays = len(kobe)\n",
    "#set first prior shot of Kobe's career to 0\n",
    "kobe.loc[0,'prior_shot_made'] = 0\n",
    "\n",
    "#set first cum shot of Kobe's career to 0\n",
    "kobe.loc[0,'cum_shot_made'] = 0\n",
    "\n",
    "for i in range(1, fullplays):                \n",
    "    if (kobe.loc[i-1, 'game_id'] == kobe.loc[i, 'game_id']) & (kobe.loc[i-1,'period'] == kobe.loc[i,'period']):\n",
    "        \n",
    "        #last shot was a miss\n",
    "        if (kobe.loc[i-1, 'shot_made_flag'] == 0):\n",
    "            kobe.loc[i, 'prior_shot_made'] = 0\n",
    "        else:\n",
    "            kobe.loc[i, 'prior_shot_made'] = 1\n",
    "\n",
    "    # reset hot shot after each quarter\n",
    "    else:\n",
    "        kobe.loc[i, 'prior_shot_made'] = 0\n",
    "\n",
    "        \n",
    "#last shot 2 shots were miss -1 \n",
    "#test.loc[((test.shot_made_flag == 0) & (test.prior_shot_made == 0)), 'prior_shot_made'] = -1\n",
    "        \n",
    "# cumsum made shots\n",
    "kobe['cum_shot_made'] = (kobe.groupby(['game_id','period'])['shot_made_flag'].cumsum())"
   ]
  },
  {
   "cell_type": "markdown",
   "metadata": {},
   "source": [
    "Next an interesting feature would be to get a better timeline of the game, while we have both `minutes_remaining` and `seconds remaining` these would actually be quite arbitrary to the model if we just fed in directly as indicated by the correlation. it would be true that the correlation of time and shots made should be correlated or at least shot type and time but currently they are broken out in an unuseful format for our model to use effectively. So therefore we will create another timeline to get `secFromGameStart`."
   ]
  },
  {
   "cell_type": "code",
   "execution_count": 126,
   "metadata": {
    "scrolled": true
   },
   "outputs": [],
   "source": [
    "# Thanks: https://www.kaggle.com/selfishgene/psychology-of-a-professional-athlete\n",
    "kobe['secondsFromPeriodEnd'] = 60*kobe['minutes_remaining']+kobe['seconds_remaining']\n",
    "kobe['secondsFromPeriodStart'] = 60*(11-kobe['minutes_remaining'])+(60-kobe['seconds_remaining'])\n",
    "kobe['secondsFromGameStart'] = (kobe['period'] <= 4).astype(int)*(kobe['period']-1)*12*60 + (kobe['period'] > 4).astype(int)*((kobe['period']-4)*5*12*60) + kobe['secondsFromPeriodStart']"
   ]
  },
  {
   "cell_type": "markdown",
   "metadata": {},
   "source": [
    "Create a `hothand` function to group kobe shots based on the number consecutive shots "
   ]
  },
  {
   "cell_type": "code",
   "execution_count": 127,
   "metadata": {},
   "outputs": [],
   "source": [
    "def hothand(y):\n",
    "    if y  > 4:\n",
    "        return 'fire'\n",
    "    elif y == 3:\n",
    "        return 'hot hand'\n",
    "    elif y == 2:\n",
    "        return 'heat'\n",
    "    elif y >= 0:\n",
    "        return 'avg'\n",
    "    elif y < 0:\n",
    "        return 'cold'"
   ]
  },
  {
   "cell_type": "code",
   "execution_count": 128,
   "metadata": {},
   "outputs": [],
   "source": [
    "kobe['hot_hand'] = [hothand(k) for k in kobe.cum_shot_made.values]"
   ]
  },
  {
   "cell_type": "markdown",
   "metadata": {},
   "source": [
    "Lets see the distribution of the `hothand` function on Kobe. "
   ]
  },
  {
   "cell_type": "code",
   "execution_count": 129,
   "metadata": {},
   "outputs": [
    {
     "data": {
      "text/plain": [
       "<seaborn.axisgrid.FacetGrid at 0x7f7a0e3ac160>"
      ]
     },
     "execution_count": 129,
     "metadata": {},
     "output_type": "execute_result"
    },
    {
     "data": {
      "image/png": "[encoded data removed]",
      "text/plain": [
       "<matplotlib.figure.Figure at 0x7f7a0dd10588>"
      ]
     },
     "metadata": {},
     "output_type": "display_data"
    }
   ],
   "source": [
    "sns.catplot(x=\"hot_hand\", y=\"shot_id\", hue=\"shot_made_flag\",\n",
    "            col=\"period\", aspect=.6,\n",
    "            kind=\"swarm\", \n",
    "            data=kobe[kobe.period <=5].groupby(['season','period','hot_hand','shot_made_flag'])['shot_id'].count().reset_index())"
   ]
  },
  {
   "cell_type": "markdown",
   "metadata": {},
   "source": [
    "Lets create a feature to keep track of Kobe's current points. Perhaps the more points Kobe has the higher likelihood we can predict whether his next shot will go in. \n",
    "\n",
    "Below is a bar graph showing whether Kobe made or missed by quarter."
   ]
  },
  {
   "cell_type": "code",
   "execution_count": 251,
   "metadata": {},
   "outputs": [
    {
     "data": {
      "text/plain": [
       "<seaborn.axisgrid.FacetGrid at 0x7f79ef091320>"
      ]
     },
     "execution_count": 251,
     "metadata": {},
     "output_type": "execute_result"
    },
    {
     "data": {
      "image/png": "[encoded data removed]",
      "text/plain": [
       "<matplotlib.figure.Figure at 0x7f79ef12a9e8>"
      ]
     },
     "metadata": {},
     "output_type": "display_data"
    }
   ],
   "source": [
    "sns.catplot(x='period', y='shot_id', hue='shot_made_flag', kind='bar',\n",
    "            data=kobe.groupby(['season','period','combined_shot_type','shot_made_flag'])['shot_id'].count().reset_index())"
   ]
  },
  {
   "cell_type": "markdown",
   "metadata": {},
   "source": [
    "below is the indicator we will use to determine wither kobe score was worth 2 or 3 points."
   ]
  },
  {
   "cell_type": "code",
   "execution_count": 252,
   "metadata": {},
   "outputs": [
    {
     "data": {
      "text/plain": [
       "array(['2PT Field Goal', '3PT Field Goal'], dtype=object)"
      ]
     },
     "execution_count": 252,
     "metadata": {},
     "output_type": "execute_result"
    }
   ],
   "source": [
    "kobe.shot_type.unique()"
   ]
  },
  {
   "cell_type": "markdown",
   "metadata": {},
   "source": [
    "2 Pts and 3Pts now we convert each make and miss to a score and then we cumulatively sum it for a running average."
   ]
  },
  {
   "cell_type": "code",
   "execution_count": 254,
   "metadata": {},
   "outputs": [],
   "source": [
    "kobe.loc[(kobe['shot_made_flag']==1) & (kobe['shot_type']=='2PT Field Goal'),'pts'] = 2\n",
    "kobe.loc[(kobe['shot_made_flag']==1) & (kobe['shot_type']=='3PT Field Goal'),'pts'] = 3\n",
    "kobe.loc[kobe['shot_made_flag']==0,'pts'] = 0\n",
    "kobe['pts'] = (kobe.groupby(['game_id','period'])['pts'].cumsum())"
   ]
  },
  {
   "cell_type": "markdown",
   "metadata": {},
   "source": [
    "Next lets create a field goal percentage\n",
    "\n",
    "__Formula__\n",
    "Field goal percentage (FG%) calculates as:\n",
    "![](https://s0.wp.com/latex.php?latex=%5Cfrac%7B%5Ctext%7BField+Goals%7D%7D%7B%5Ctext%7BField+Goal+Attempts%7D%7D&bg=ffffff&fg=000&s=0)"
   ]
  },
  {
   "cell_type": "code",
   "execution_count": 334,
   "metadata": {},
   "outputs": [],
   "source": [
    "# 2 Pointers\n",
    "kobe.loc[kobe['shot_type']=='2PT Field Goal','field_goal_attempts'] = 1\n",
    "kobe.loc[kobe['shot_type']=='3PT Field Goal','field_goal_attempts'] = 0\n",
    "kobe.loc[(kobe['shot_made_flag']==1) & (kobe['shot_type']=='2PT Field Goal'),'field_goal'] = 1\n",
    "kobe.loc[kobe['field_goal'].isnull(),'field_goal'] = 0\n",
    "kobe['field_goal_attempts'] = (kobe.groupby(['game_id'])['field_goal_attempts'].cumsum())\n",
    "kobe['field_goal'] = (kobe.groupby(['game_id'])['field_goal'].cumsum())\n",
    "kobe['fg_pct'] = kobe.field_goal / kobe.field_goal_attempts\n",
    "kobe.loc[kobe['fg_pct'].isnull(),'fg_pct'] = 0\n",
    "\n",
    "\n",
    "# 3 Pointers\n",
    "kobe.loc[kobe['shot_type']=='3PT Field Goal','three_pt_attempts'] = 1\n",
    "kobe.loc[kobe['shot_type']=='2PT Field Goal','three_pt_attempts'] = 0\n",
    "kobe.loc[(kobe['shot_made_flag']==1) & (kobe['shot_type']=='3PT Field Goal'),'three_pt'] = 1\n",
    "kobe.loc[kobe['three_pt'].isnull(),'three_pt'] = 0\n",
    "kobe['three_pt_attempts'] = (kobe.groupby(['game_id'])['three_pt_attempts'].cumsum())\n",
    "kobe['three_pt'] = (kobe.groupby(['game_id'])['three_pt'].cumsum())\n",
    "kobe['three_pct'] = kobe.three_pt / kobe.three_pt_attempts\n",
    "kobe.loc[kobe['three_pct'].isnull(),'three_pct'] = 0"
   ]
  },
  {
   "cell_type": "markdown",
   "metadata": {},
   "source": [
    "below is Kobe's `fg_pct` field goal percentage that is aggregated by season and by quarter. The x axis is the `fg_pct` the further to the right the more accuract (or higher) Kobe's `2PT Field Goal` were. The y axis shows the number of points scored for that quarter. "
   ]
  },
  {
   "cell_type": "code",
   "execution_count": 361,
   "metadata": {
    "scrolled": false
   },
   "outputs": [
    {
     "data": {
      "image/png": "[encoded data removed]",
      "text/plain": [
       "<matplotlib.figure.Figure at 0x7f79ed92d278>"
      ]
     },
     "metadata": {},
     "output_type": "display_data"
    }
   ],
   "source": [
    "g = sns.lmplot('fg_pct', 'pts', col='period', data=kobe[kobe.period <=6].groupby(['season','period','pts','fg_pct'])['shot_id'].count().reset_index(),\n",
    "               markers=\".\", scatter_kws=dict(color='c'),\n",
    "              col_wrap=3, height=3, lowess=True)\n",
    "g.map(plt.axhline, y=1, color=\"k\", ls=\":\");"
   ]
  },
  {
   "cell_type": "code",
   "execution_count": null,
   "metadata": {},
   "outputs": [],
   "source": [
    "sns.catplot(x='period', y='shot_id', hue='shot_made_flag', kind='bar',\n",
    "            data=kobe.groupby(['season','period','combined_shot_type','three_pct','fg_pct'])['shot_id'].count().reset_index())"
   ]
  },
  {
   "cell_type": "markdown",
   "metadata": {},
   "source": [
    "### One Hot Encoding\n",
    "\n",
    "Here is a key learning, if we look back at our inital attempt at correlating the initial features, we can see the list of correlations is quite small.. this is because: ___machine learning algorithms cannot work with categorical data directly___. The solution is to convert the categorical data into numbers. We will be using `one hot encoding` to convert the selected categorical data such as `shot_zone_basic` that tells us if Kobe shot a restricted by another play or if he was shooting a 3 pointer. \n",
    "\n",
    "Basically `one hot encoding` is a way to represent categorical variables as binary vectors. We will first have to mapp the categorical values to integer values and then each integer value will be represented as a binary vector, which basically means that all zero values except the edex of the integer will be marked with a 1. \n",
    "\n",
    "You ask do we have to do this manually? Of course not we can use `scikit learn` `OneHotEncoder` class to convert numerical labels into a one hot encoded representation. This class requires numerical labels as inputs. Because our Color and Make colums contain text, we first need to convert them into numerical labels. We will use `scikit learn` `LabelEncoder` class to help us perform this step. \n",
    "\n",
    "We will start by iniializing 3 label encoders, below are the labels and the current unique categories. \n",
    "\n",
    "* `shot_zone_range`: '8-16 ft.', '16-24 ft.', 'Less Than 8 ft.', '24+ ft.','Back Court Shot'\n",
    "* `shot_type` : '2PT Field Goal', '3PT Field Goal'\n",
    "* `shot_zone_basic`: 'Mid-Range', 'Restricted Area', 'In The Paint (Non-RA)','Above the Break 3', 'Right Corner 3', 'Backcourt', 'Left Corner 3'"
   ]
  },
  {
   "cell_type": "code",
   "execution_count": 132,
   "metadata": {},
   "outputs": [],
   "source": [
    "from sklearn.preprocessing import LabelEncoder\n",
    "\n",
    "le_shot_zone_range = LabelEncoder()\n",
    "le_shot_type = LabelEncoder()\n",
    "le_shot_zone_basic = LabelEncoder()"
   ]
  },
  {
   "cell_type": "markdown",
   "metadata": {},
   "source": [
    "Next we call `fit_transformation` method which will process our data and transform the text into one numerical value for each."
   ]
  },
  {
   "cell_type": "code",
   "execution_count": 133,
   "metadata": {},
   "outputs": [],
   "source": [
    "kobe['range_encoded'] = le_shot_zone_range.fit_transform(kobe.shot_zone_range)\n",
    "kobe['type_encoded'] = le_shot_type.fit_transform(kobe.shot_type)\n",
    "kobe['basic_encoded'] = le_shot_zone_basic.fit_transform(kobe.shot_zone_basic)"
   ]
  },
  {
   "cell_type": "code",
   "execution_count": 134,
   "metadata": {},
   "outputs": [
    {
     "data": {
      "text/html": [
       "<div>\n",
       "<style>\n",
       "    .dataframe thead tr:only-child th {\n",
       "        text-align: right;\n",
       "    }\n",
       "\n",
       "    .dataframe thead th {\n",
       "        text-align: left;\n",
       "    }\n",
       "\n",
       "    .dataframe tbody tr th {\n",
       "        vertical-align: top;\n",
       "    }\n",
       "</style>\n",
       "<table border=\"1\" class=\"dataframe\">\n",
       "  <thead>\n",
       "    <tr style=\"text-align: right;\">\n",
       "      <th></th>\n",
       "      <th>secondsFromGameStart</th>\n",
       "      <th>hot_hand</th>\n",
       "      <th>range_encoded</th>\n",
       "      <th>type_encoded</th>\n",
       "      <th>basic_encoded</th>\n",
       "    </tr>\n",
       "  </thead>\n",
       "  <tbody>\n",
       "    <tr>\n",
       "      <th>0</th>\n",
       "      <td>98</td>\n",
       "      <td>avg</td>\n",
       "      <td>2</td>\n",
       "      <td>0</td>\n",
       "      <td>4</td>\n",
       "    </tr>\n",
       "    <tr>\n",
       "      <th>1</th>\n",
       "      <td>255</td>\n",
       "      <td>avg</td>\n",
       "      <td>0</td>\n",
       "      <td>0</td>\n",
       "      <td>4</td>\n",
       "    </tr>\n",
       "    <tr>\n",
       "      <th>2</th>\n",
       "      <td>308</td>\n",
       "      <td>avg</td>\n",
       "      <td>0</td>\n",
       "      <td>0</td>\n",
       "      <td>4</td>\n",
       "    </tr>\n",
       "    <tr>\n",
       "      <th>3</th>\n",
       "      <td>1061</td>\n",
       "      <td>avg</td>\n",
       "      <td>4</td>\n",
       "      <td>0</td>\n",
       "      <td>5</td>\n",
       "    </tr>\n",
       "    <tr>\n",
       "      <th>4</th>\n",
       "      <td>1588</td>\n",
       "      <td>avg</td>\n",
       "      <td>2</td>\n",
       "      <td>0</td>\n",
       "      <td>4</td>\n",
       "    </tr>\n",
       "  </tbody>\n",
       "</table>\n",
       "</div>"
      ],
      "text/plain": [
       "   secondsFromGameStart hot_hand  range_encoded  type_encoded  basic_encoded\n",
       "0                    98      avg              2             0              4\n",
       "1                   255      avg              0             0              4\n",
       "2                   308      avg              0             0              4\n",
       "3                  1061      avg              4             0              5\n",
       "4                  1588      avg              2             0              4"
      ]
     },
     "execution_count": 134,
     "metadata": {},
     "output_type": "execute_result"
    }
   ],
   "source": [
    "kobe[kobe.columns[-5:]].head()"
   ]
  },
  {
   "cell_type": "markdown",
   "metadata": {},
   "source": [
    "Looking at the `range_encoded` column and compare it to the `shot_zone_range` which is the column we encoded, we can see that labels 8-16 ft.= 2; 16-24 ft. = 0, Less Than 8 ft. = 4 and so on. Great! Now that we have made our own features and can see how each has its own numerical value on the new `range_encoded` column we can go to the last step for `One Hot Encoding`\n",
    "\n",
    "Now that we have encoded the labels to numeric values, we can utilize `scikit learn` `OneHotEncoder` class to perform the one hot encoding."
   ]
  },
  {
   "cell_type": "code",
   "execution_count": 136,
   "metadata": {},
   "outputs": [],
   "source": [
    "from sklearn.preprocessing import OneHotEncoder\n",
    "\n",
    "range_ohe = OneHotEncoder()\n",
    "type_ohe = OneHotEncoder()\n",
    "basic_ohe = OneHotEncoder()"
   ]
  },
  {
   "cell_type": "markdown",
   "metadata": {},
   "source": [
    "First initialize the `OneHotEncoder` class to transform the color feature. The `fit_transform` method expects a 2D array, reshape to transform from 1D to a 2D array.\n",
    "\n",
    "The `fit_transform` method returns a sparse array. Use the toarray() method to return a numpy array and assign this to variable X which has our one hot encoded results."
   ]
  },
  {
   "cell_type": "code",
   "execution_count": 137,
   "metadata": {},
   "outputs": [],
   "source": [
    "Xrange = range_ohe.fit_transform(kobe.range_encoded.values.reshape(-1, 1)).toarray()\n",
    "Xtype = type_ohe.fit_transform(kobe.type_encoded.values.reshape(-1, 1)).toarray()\n",
    "Xbasic = basic_ohe.fit_transform(kobe.basic_encoded.values.reshape(-1, 1)).toarray()"
   ]
  },
  {
   "cell_type": "markdown",
   "metadata": {},
   "source": [
    "Below is an example of a sparse array from the `basic_encoded` values that have been one hot encoded. "
   ]
  },
  {
   "cell_type": "code",
   "execution_count": 138,
   "metadata": {},
   "outputs": [
    {
     "data": {
      "text/plain": [
       "array([[ 0.,  0.,  1.,  0.,  0.],\n",
       "       [ 1.,  0.,  0.,  0.,  0.],\n",
       "       [ 1.,  0.,  0.,  0.,  0.],\n",
       "       ..., \n",
       "       [ 1.,  0.,  0.,  0.,  0.],\n",
       "       [ 0.,  1.,  0.,  0.,  0.],\n",
       "       [ 0.,  0.,  0.,  0.,  1.]])"
      ]
     },
     "execution_count": 138,
     "metadata": {},
     "output_type": "execute_result"
    }
   ],
   "source": [
    "Xrange"
   ]
  },
  {
   "cell_type": "markdown",
   "metadata": {},
   "source": [
    "Finally we add the sparse arrays back to our `Kobe` dataframe. "
   ]
  },
  {
   "cell_type": "code",
   "execution_count": 139,
   "metadata": {},
   "outputs": [],
   "source": [
    "# shot_zone_range\n",
    "dfOneHot = pd.DataFrame(Xrange, columns = ['range_'+str(int(i)) for i in range(Xrange.shape[1])])\n",
    "kobe = pd.concat([kobe, dfOneHot], axis=1)\n",
    "\n",
    "# shot_type\n",
    "dfOneHot = pd.DataFrame(Xtype, columns = ['type_'+str(int(i)) for i in range(Xtype.shape[1])])\n",
    "kobe = pd.concat([kobe, dfOneHot], axis=1)\n",
    "\n",
    "# shot_zone_basic\n",
    "dfOneHot = pd.DataFrame(Xbasic, columns = ['basic_'+str(int(i)) for i in range(Xbasic.shape[1])])\n",
    "kobe = pd.concat([kobe, dfOneHot], axis=1)"
   ]
  },
  {
   "cell_type": "code",
   "execution_count": 140,
   "metadata": {},
   "outputs": [
    {
     "data": {
      "text/html": [
       "<div>\n",
       "<style>\n",
       "    .dataframe thead tr:only-child th {\n",
       "        text-align: right;\n",
       "    }\n",
       "\n",
       "    .dataframe thead th {\n",
       "        text-align: left;\n",
       "    }\n",
       "\n",
       "    .dataframe tbody tr th {\n",
       "        vertical-align: top;\n",
       "    }\n",
       "</style>\n",
       "<table border=\"1\" class=\"dataframe\">\n",
       "  <thead>\n",
       "    <tr style=\"text-align: right;\">\n",
       "      <th></th>\n",
       "      <th>action_type</th>\n",
       "      <th>combined_shot_type</th>\n",
       "      <th>game_event_id</th>\n",
       "      <th>game_id</th>\n",
       "      <th>lat</th>\n",
       "      <th>loc_x</th>\n",
       "      <th>loc_y</th>\n",
       "      <th>lon</th>\n",
       "      <th>minutes_remaining</th>\n",
       "      <th>period</th>\n",
       "      <th>playoffs</th>\n",
       "      <th>season</th>\n",
       "      <th>seconds_remaining</th>\n",
       "      <th>shot_distance</th>\n",
       "      <th>shot_made_flag</th>\n",
       "      <th>shot_type</th>\n",
       "      <th>shot_zone_area</th>\n",
       "      <th>shot_zone_basic</th>\n",
       "      <th>shot_zone_range</th>\n",
       "      <th>team_id</th>\n",
       "      <th>team_name</th>\n",
       "      <th>game_date</th>\n",
       "      <th>matchup</th>\n",
       "      <th>opponent</th>\n",
       "      <th>shot_id</th>\n",
       "      <th>prior_shot_made</th>\n",
       "      <th>cum_shot_made</th>\n",
       "      <th>secondsFromPeriodEnd</th>\n",
       "      <th>secondsFromPeriodStart</th>\n",
       "      <th>secondsFromGameStart</th>\n",
       "      <th>hot_hand</th>\n",
       "      <th>range_encoded</th>\n",
       "      <th>type_encoded</th>\n",
       "      <th>basic_encoded</th>\n",
       "      <th>range_0</th>\n",
       "      <th>range_1</th>\n",
       "      <th>range_2</th>\n",
       "      <th>range_3</th>\n",
       "      <th>range_4</th>\n",
       "      <th>type_0</th>\n",
       "      <th>type_1</th>\n",
       "      <th>basic_0</th>\n",
       "      <th>basic_1</th>\n",
       "      <th>basic_2</th>\n",
       "      <th>basic_3</th>\n",
       "      <th>basic_4</th>\n",
       "      <th>basic_5</th>\n",
       "      <th>basic_6</th>\n",
       "    </tr>\n",
       "  </thead>\n",
       "  <tbody>\n",
       "    <tr>\n",
       "      <th>0</th>\n",
       "      <td>Jump Shot</td>\n",
       "      <td>Jump Shot</td>\n",
       "      <td>12</td>\n",
       "      <td>20000012</td>\n",
       "      <td>34.0443</td>\n",
       "      <td>-157</td>\n",
       "      <td>0</td>\n",
       "      <td>-118.4268</td>\n",
       "      <td>10</td>\n",
       "      <td>1</td>\n",
       "      <td>0</td>\n",
       "      <td>2000-01</td>\n",
       "      <td>22</td>\n",
       "      <td>15</td>\n",
       "      <td>0.0</td>\n",
       "      <td>2PT Field Goal</td>\n",
       "      <td>Left Side(L)</td>\n",
       "      <td>Mid-Range</td>\n",
       "      <td>8-16 ft.</td>\n",
       "      <td>1610612747</td>\n",
       "      <td>Los Angeles Lakers</td>\n",
       "      <td>2000-10-31</td>\n",
       "      <td>LAL @ POR</td>\n",
       "      <td>POR</td>\n",
       "      <td>2</td>\n",
       "      <td>0.0</td>\n",
       "      <td>0.0</td>\n",
       "      <td>622</td>\n",
       "      <td>98</td>\n",
       "      <td>98</td>\n",
       "      <td>avg</td>\n",
       "      <td>2</td>\n",
       "      <td>0</td>\n",
       "      <td>4</td>\n",
       "      <td>0.0</td>\n",
       "      <td>0.0</td>\n",
       "      <td>1.0</td>\n",
       "      <td>0.0</td>\n",
       "      <td>0.0</td>\n",
       "      <td>1.0</td>\n",
       "      <td>0.0</td>\n",
       "      <td>0.0</td>\n",
       "      <td>0.0</td>\n",
       "      <td>0.0</td>\n",
       "      <td>0.0</td>\n",
       "      <td>1.0</td>\n",
       "      <td>0.0</td>\n",
       "      <td>0.0</td>\n",
       "    </tr>\n",
       "    <tr>\n",
       "      <th>1</th>\n",
       "      <td>Jump Shot</td>\n",
       "      <td>Jump Shot</td>\n",
       "      <td>35</td>\n",
       "      <td>20000012</td>\n",
       "      <td>33.9093</td>\n",
       "      <td>-101</td>\n",
       "      <td>135</td>\n",
       "      <td>-118.3708</td>\n",
       "      <td>7</td>\n",
       "      <td>1</td>\n",
       "      <td>0</td>\n",
       "      <td>2000-01</td>\n",
       "      <td>45</td>\n",
       "      <td>16</td>\n",
       "      <td>1.0</td>\n",
       "      <td>2PT Field Goal</td>\n",
       "      <td>Left Side Center(LC)</td>\n",
       "      <td>Mid-Range</td>\n",
       "      <td>16-24 ft.</td>\n",
       "      <td>1610612747</td>\n",
       "      <td>Los Angeles Lakers</td>\n",
       "      <td>2000-10-31</td>\n",
       "      <td>LAL @ POR</td>\n",
       "      <td>POR</td>\n",
       "      <td>3</td>\n",
       "      <td>0.0</td>\n",
       "      <td>1.0</td>\n",
       "      <td>465</td>\n",
       "      <td>255</td>\n",
       "      <td>255</td>\n",
       "      <td>avg</td>\n",
       "      <td>0</td>\n",
       "      <td>0</td>\n",
       "      <td>4</td>\n",
       "      <td>1.0</td>\n",
       "      <td>0.0</td>\n",
       "      <td>0.0</td>\n",
       "      <td>0.0</td>\n",
       "      <td>0.0</td>\n",
       "      <td>1.0</td>\n",
       "      <td>0.0</td>\n",
       "      <td>0.0</td>\n",
       "      <td>0.0</td>\n",
       "      <td>0.0</td>\n",
       "      <td>0.0</td>\n",
       "      <td>1.0</td>\n",
       "      <td>0.0</td>\n",
       "      <td>0.0</td>\n",
       "    </tr>\n",
       "    <tr>\n",
       "      <th>2</th>\n",
       "      <td>Jump Shot</td>\n",
       "      <td>Jump Shot</td>\n",
       "      <td>43</td>\n",
       "      <td>20000012</td>\n",
       "      <td>33.8693</td>\n",
       "      <td>138</td>\n",
       "      <td>175</td>\n",
       "      <td>-118.1318</td>\n",
       "      <td>6</td>\n",
       "      <td>1</td>\n",
       "      <td>0</td>\n",
       "      <td>2000-01</td>\n",
       "      <td>52</td>\n",
       "      <td>22</td>\n",
       "      <td>0.0</td>\n",
       "      <td>2PT Field Goal</td>\n",
       "      <td>Right Side Center(RC)</td>\n",
       "      <td>Mid-Range</td>\n",
       "      <td>16-24 ft.</td>\n",
       "      <td>1610612747</td>\n",
       "      <td>Los Angeles Lakers</td>\n",
       "      <td>2000-10-31</td>\n",
       "      <td>LAL @ POR</td>\n",
       "      <td>POR</td>\n",
       "      <td>4</td>\n",
       "      <td>1.0</td>\n",
       "      <td>1.0</td>\n",
       "      <td>412</td>\n",
       "      <td>308</td>\n",
       "      <td>308</td>\n",
       "      <td>avg</td>\n",
       "      <td>0</td>\n",
       "      <td>0</td>\n",
       "      <td>4</td>\n",
       "      <td>1.0</td>\n",
       "      <td>0.0</td>\n",
       "      <td>0.0</td>\n",
       "      <td>0.0</td>\n",
       "      <td>0.0</td>\n",
       "      <td>1.0</td>\n",
       "      <td>0.0</td>\n",
       "      <td>0.0</td>\n",
       "      <td>0.0</td>\n",
       "      <td>0.0</td>\n",
       "      <td>0.0</td>\n",
       "      <td>1.0</td>\n",
       "      <td>0.0</td>\n",
       "      <td>0.0</td>\n",
       "    </tr>\n",
       "    <tr>\n",
       "      <th>3</th>\n",
       "      <td>Driving Dunk Shot</td>\n",
       "      <td>Dunk</td>\n",
       "      <td>155</td>\n",
       "      <td>20000012</td>\n",
       "      <td>34.0443</td>\n",
       "      <td>0</td>\n",
       "      <td>0</td>\n",
       "      <td>-118.2698</td>\n",
       "      <td>6</td>\n",
       "      <td>2</td>\n",
       "      <td>0</td>\n",
       "      <td>2000-01</td>\n",
       "      <td>19</td>\n",
       "      <td>0</td>\n",
       "      <td>1.0</td>\n",
       "      <td>2PT Field Goal</td>\n",
       "      <td>Center(C)</td>\n",
       "      <td>Restricted Area</td>\n",
       "      <td>Less Than 8 ft.</td>\n",
       "      <td>1610612747</td>\n",
       "      <td>Los Angeles Lakers</td>\n",
       "      <td>2000-10-31</td>\n",
       "      <td>LAL @ POR</td>\n",
       "      <td>POR</td>\n",
       "      <td>5</td>\n",
       "      <td>0.0</td>\n",
       "      <td>1.0</td>\n",
       "      <td>379</td>\n",
       "      <td>341</td>\n",
       "      <td>1061</td>\n",
       "      <td>avg</td>\n",
       "      <td>4</td>\n",
       "      <td>0</td>\n",
       "      <td>5</td>\n",
       "      <td>0.0</td>\n",
       "      <td>0.0</td>\n",
       "      <td>0.0</td>\n",
       "      <td>0.0</td>\n",
       "      <td>1.0</td>\n",
       "      <td>1.0</td>\n",
       "      <td>0.0</td>\n",
       "      <td>0.0</td>\n",
       "      <td>0.0</td>\n",
       "      <td>0.0</td>\n",
       "      <td>0.0</td>\n",
       "      <td>0.0</td>\n",
       "      <td>1.0</td>\n",
       "      <td>0.0</td>\n",
       "    </tr>\n",
       "    <tr>\n",
       "      <th>4</th>\n",
       "      <td>Jump Shot</td>\n",
       "      <td>Jump Shot</td>\n",
       "      <td>244</td>\n",
       "      <td>20000012</td>\n",
       "      <td>34.0553</td>\n",
       "      <td>-145</td>\n",
       "      <td>-11</td>\n",
       "      <td>-118.4148</td>\n",
       "      <td>9</td>\n",
       "      <td>3</td>\n",
       "      <td>0</td>\n",
       "      <td>2000-01</td>\n",
       "      <td>32</td>\n",
       "      <td>14</td>\n",
       "      <td>0.0</td>\n",
       "      <td>2PT Field Goal</td>\n",
       "      <td>Left Side(L)</td>\n",
       "      <td>Mid-Range</td>\n",
       "      <td>8-16 ft.</td>\n",
       "      <td>1610612747</td>\n",
       "      <td>Los Angeles Lakers</td>\n",
       "      <td>2000-10-31</td>\n",
       "      <td>LAL @ POR</td>\n",
       "      <td>POR</td>\n",
       "      <td>6</td>\n",
       "      <td>0.0</td>\n",
       "      <td>0.0</td>\n",
       "      <td>572</td>\n",
       "      <td>148</td>\n",
       "      <td>1588</td>\n",
       "      <td>avg</td>\n",
       "      <td>2</td>\n",
       "      <td>0</td>\n",
       "      <td>4</td>\n",
       "      <td>0.0</td>\n",
       "      <td>0.0</td>\n",
       "      <td>1.0</td>\n",
       "      <td>0.0</td>\n",
       "      <td>0.0</td>\n",
       "      <td>1.0</td>\n",
       "      <td>0.0</td>\n",
       "      <td>0.0</td>\n",
       "      <td>0.0</td>\n",
       "      <td>0.0</td>\n",
       "      <td>0.0</td>\n",
       "      <td>1.0</td>\n",
       "      <td>0.0</td>\n",
       "      <td>0.0</td>\n",
       "    </tr>\n",
       "  </tbody>\n",
       "</table>\n",
       "</div>"
      ],
      "text/plain": [
       "         action_type combined_shot_type  game_event_id   game_id      lat  \\\n",
       "0          Jump Shot          Jump Shot             12  20000012  34.0443   \n",
       "1          Jump Shot          Jump Shot             35  20000012  33.9093   \n",
       "2          Jump Shot          Jump Shot             43  20000012  33.8693   \n",
       "3  Driving Dunk Shot               Dunk            155  20000012  34.0443   \n",
       "4          Jump Shot          Jump Shot            244  20000012  34.0553   \n",
       "\n",
       "   loc_x  loc_y       lon  minutes_remaining  period  playoffs   season  \\\n",
       "0   -157      0 -118.4268                 10       1         0  2000-01   \n",
       "1   -101    135 -118.3708                  7       1         0  2000-01   \n",
       "2    138    175 -118.1318                  6       1         0  2000-01   \n",
       "3      0      0 -118.2698                  6       2         0  2000-01   \n",
       "4   -145    -11 -118.4148                  9       3         0  2000-01   \n",
       "\n",
       "   seconds_remaining  shot_distance  shot_made_flag       shot_type  \\\n",
       "0                 22             15             0.0  2PT Field Goal   \n",
       "1                 45             16             1.0  2PT Field Goal   \n",
       "2                 52             22             0.0  2PT Field Goal   \n",
       "3                 19              0             1.0  2PT Field Goal   \n",
       "4                 32             14             0.0  2PT Field Goal   \n",
       "\n",
       "          shot_zone_area  shot_zone_basic  shot_zone_range     team_id  \\\n",
       "0           Left Side(L)        Mid-Range         8-16 ft.  1610612747   \n",
       "1   Left Side Center(LC)        Mid-Range        16-24 ft.  1610612747   \n",
       "2  Right Side Center(RC)        Mid-Range        16-24 ft.  1610612747   \n",
       "3              Center(C)  Restricted Area  Less Than 8 ft.  1610612747   \n",
       "4           Left Side(L)        Mid-Range         8-16 ft.  1610612747   \n",
       "\n",
       "            team_name   game_date    matchup opponent  shot_id  \\\n",
       "0  Los Angeles Lakers  2000-10-31  LAL @ POR      POR        2   \n",
       "1  Los Angeles Lakers  2000-10-31  LAL @ POR      POR        3   \n",
       "2  Los Angeles Lakers  2000-10-31  LAL @ POR      POR        4   \n",
       "3  Los Angeles Lakers  2000-10-31  LAL @ POR      POR        5   \n",
       "4  Los Angeles Lakers  2000-10-31  LAL @ POR      POR        6   \n",
       "\n",
       "   prior_shot_made  cum_shot_made  secondsFromPeriodEnd  \\\n",
       "0              0.0            0.0                   622   \n",
       "1              0.0            1.0                   465   \n",
       "2              1.0            1.0                   412   \n",
       "3              0.0            1.0                   379   \n",
       "4              0.0            0.0                   572   \n",
       "\n",
       "   secondsFromPeriodStart  secondsFromGameStart hot_hand  range_encoded  \\\n",
       "0                      98                    98      avg              2   \n",
       "1                     255                   255      avg              0   \n",
       "2                     308                   308      avg              0   \n",
       "3                     341                  1061      avg              4   \n",
       "4                     148                  1588      avg              2   \n",
       "\n",
       "   type_encoded  basic_encoded  range_0  range_1  range_2  range_3  range_4  \\\n",
       "0             0              4      0.0      0.0      1.0      0.0      0.0   \n",
       "1             0              4      1.0      0.0      0.0      0.0      0.0   \n",
       "2             0              4      1.0      0.0      0.0      0.0      0.0   \n",
       "3             0              5      0.0      0.0      0.0      0.0      1.0   \n",
       "4             0              4      0.0      0.0      1.0      0.0      0.0   \n",
       "\n",
       "   type_0  type_1  basic_0  basic_1  basic_2  basic_3  basic_4  basic_5  \\\n",
       "0     1.0     0.0      0.0      0.0      0.0      0.0      1.0      0.0   \n",
       "1     1.0     0.0      0.0      0.0      0.0      0.0      1.0      0.0   \n",
       "2     1.0     0.0      0.0      0.0      0.0      0.0      1.0      0.0   \n",
       "3     1.0     0.0      0.0      0.0      0.0      0.0      0.0      1.0   \n",
       "4     1.0     0.0      0.0      0.0      0.0      0.0      1.0      0.0   \n",
       "\n",
       "   basic_6  \n",
       "0      0.0  \n",
       "1      0.0  \n",
       "2      0.0  \n",
       "3      0.0  \n",
       "4      0.0  "
      ]
     },
     "execution_count": 140,
     "metadata": {},
     "output_type": "execute_result"
    }
   ],
   "source": [
    "kobe.head()"
   ]
  },
  {
   "cell_type": "markdown",
   "metadata": {},
   "source": [
    "#### Label Binarizer\n",
    "\n",
    "I wanted to show you exactly how `One Hot Encoding` works, however, `SciKit Lear` provides a class classed `LabelBinarizer` that performs the one hot encoding in a single step. Below we will use `LabelBinarizer` for our `hot_hand` feature.\n",
    "\n",
    "`hot_hand` values: 'avg', 'heat', 'hot hand', 'fire'"
   ]
  },
  {
   "cell_type": "code",
   "execution_count": 141,
   "metadata": {},
   "outputs": [],
   "source": [
    "from sklearn.preprocessing import LabelBinarizer\n",
    "\n",
    "hot_lb = LabelBinarizer()\n",
    "Xhot = hot_lb.fit_transform(kobe.hot_hand.values)"
   ]
  },
  {
   "cell_type": "code",
   "execution_count": 157,
   "metadata": {},
   "outputs": [],
   "source": [
    "le_hot = LabelEncoder()\n",
    "kobe['hot_hand_encoded'] = le_hot.fit_transform(kobe.hot_hand)"
   ]
  },
  {
   "cell_type": "code",
   "execution_count": 142,
   "metadata": {},
   "outputs": [
    {
     "data": {
      "text/html": [
       "<div>\n",
       "<style>\n",
       "    .dataframe thead tr:only-child th {\n",
       "        text-align: right;\n",
       "    }\n",
       "\n",
       "    .dataframe thead th {\n",
       "        text-align: left;\n",
       "    }\n",
       "\n",
       "    .dataframe tbody tr th {\n",
       "        vertical-align: top;\n",
       "    }\n",
       "</style>\n",
       "<table border=\"1\" class=\"dataframe\">\n",
       "  <thead>\n",
       "    <tr style=\"text-align: right;\">\n",
       "      <th></th>\n",
       "      <th>action_type</th>\n",
       "      <th>combined_shot_type</th>\n",
       "      <th>game_event_id</th>\n",
       "      <th>game_id</th>\n",
       "      <th>lat</th>\n",
       "      <th>loc_x</th>\n",
       "      <th>loc_y</th>\n",
       "      <th>lon</th>\n",
       "      <th>minutes_remaining</th>\n",
       "      <th>period</th>\n",
       "      <th>playoffs</th>\n",
       "      <th>season</th>\n",
       "      <th>seconds_remaining</th>\n",
       "      <th>shot_distance</th>\n",
       "      <th>shot_made_flag</th>\n",
       "      <th>shot_type</th>\n",
       "      <th>shot_zone_area</th>\n",
       "      <th>shot_zone_basic</th>\n",
       "      <th>shot_zone_range</th>\n",
       "      <th>team_id</th>\n",
       "      <th>team_name</th>\n",
       "      <th>game_date</th>\n",
       "      <th>matchup</th>\n",
       "      <th>opponent</th>\n",
       "      <th>shot_id</th>\n",
       "      <th>prior_shot_made</th>\n",
       "      <th>cum_shot_made</th>\n",
       "      <th>secondsFromPeriodEnd</th>\n",
       "      <th>secondsFromPeriodStart</th>\n",
       "      <th>secondsFromGameStart</th>\n",
       "      <th>hot_hand</th>\n",
       "      <th>range_encoded</th>\n",
       "      <th>type_encoded</th>\n",
       "      <th>basic_encoded</th>\n",
       "      <th>range_0</th>\n",
       "      <th>range_1</th>\n",
       "      <th>range_2</th>\n",
       "      <th>range_3</th>\n",
       "      <th>range_4</th>\n",
       "      <th>type_0</th>\n",
       "      <th>type_1</th>\n",
       "      <th>basic_0</th>\n",
       "      <th>basic_1</th>\n",
       "      <th>basic_2</th>\n",
       "      <th>basic_3</th>\n",
       "      <th>basic_4</th>\n",
       "      <th>basic_5</th>\n",
       "      <th>basic_6</th>\n",
       "    </tr>\n",
       "  </thead>\n",
       "  <tbody>\n",
       "    <tr>\n",
       "      <th>0</th>\n",
       "      <td>Jump Shot</td>\n",
       "      <td>Jump Shot</td>\n",
       "      <td>12</td>\n",
       "      <td>20000012</td>\n",
       "      <td>34.0443</td>\n",
       "      <td>-157</td>\n",
       "      <td>0</td>\n",
       "      <td>-118.4268</td>\n",
       "      <td>10</td>\n",
       "      <td>1</td>\n",
       "      <td>0</td>\n",
       "      <td>2000-01</td>\n",
       "      <td>22</td>\n",
       "      <td>15</td>\n",
       "      <td>0.0</td>\n",
       "      <td>2PT Field Goal</td>\n",
       "      <td>Left Side(L)</td>\n",
       "      <td>Mid-Range</td>\n",
       "      <td>8-16 ft.</td>\n",
       "      <td>1610612747</td>\n",
       "      <td>Los Angeles Lakers</td>\n",
       "      <td>2000-10-31</td>\n",
       "      <td>LAL @ POR</td>\n",
       "      <td>POR</td>\n",
       "      <td>2</td>\n",
       "      <td>0.0</td>\n",
       "      <td>0.0</td>\n",
       "      <td>622</td>\n",
       "      <td>98</td>\n",
       "      <td>98</td>\n",
       "      <td>avg</td>\n",
       "      <td>2</td>\n",
       "      <td>0</td>\n",
       "      <td>4</td>\n",
       "      <td>0.0</td>\n",
       "      <td>0.0</td>\n",
       "      <td>1.0</td>\n",
       "      <td>0.0</td>\n",
       "      <td>0.0</td>\n",
       "      <td>1.0</td>\n",
       "      <td>0.0</td>\n",
       "      <td>0.0</td>\n",
       "      <td>0.0</td>\n",
       "      <td>0.0</td>\n",
       "      <td>0.0</td>\n",
       "      <td>1.0</td>\n",
       "      <td>0.0</td>\n",
       "      <td>0.0</td>\n",
       "    </tr>\n",
       "    <tr>\n",
       "      <th>1</th>\n",
       "      <td>Jump Shot</td>\n",
       "      <td>Jump Shot</td>\n",
       "      <td>35</td>\n",
       "      <td>20000012</td>\n",
       "      <td>33.9093</td>\n",
       "      <td>-101</td>\n",
       "      <td>135</td>\n",
       "      <td>-118.3708</td>\n",
       "      <td>7</td>\n",
       "      <td>1</td>\n",
       "      <td>0</td>\n",
       "      <td>2000-01</td>\n",
       "      <td>45</td>\n",
       "      <td>16</td>\n",
       "      <td>1.0</td>\n",
       "      <td>2PT Field Goal</td>\n",
       "      <td>Left Side Center(LC)</td>\n",
       "      <td>Mid-Range</td>\n",
       "      <td>16-24 ft.</td>\n",
       "      <td>1610612747</td>\n",
       "      <td>Los Angeles Lakers</td>\n",
       "      <td>2000-10-31</td>\n",
       "      <td>LAL @ POR</td>\n",
       "      <td>POR</td>\n",
       "      <td>3</td>\n",
       "      <td>0.0</td>\n",
       "      <td>1.0</td>\n",
       "      <td>465</td>\n",
       "      <td>255</td>\n",
       "      <td>255</td>\n",
       "      <td>avg</td>\n",
       "      <td>0</td>\n",
       "      <td>0</td>\n",
       "      <td>4</td>\n",
       "      <td>1.0</td>\n",
       "      <td>0.0</td>\n",
       "      <td>0.0</td>\n",
       "      <td>0.0</td>\n",
       "      <td>0.0</td>\n",
       "      <td>1.0</td>\n",
       "      <td>0.0</td>\n",
       "      <td>0.0</td>\n",
       "      <td>0.0</td>\n",
       "      <td>0.0</td>\n",
       "      <td>0.0</td>\n",
       "      <td>1.0</td>\n",
       "      <td>0.0</td>\n",
       "      <td>0.0</td>\n",
       "    </tr>\n",
       "    <tr>\n",
       "      <th>2</th>\n",
       "      <td>Jump Shot</td>\n",
       "      <td>Jump Shot</td>\n",
       "      <td>43</td>\n",
       "      <td>20000012</td>\n",
       "      <td>33.8693</td>\n",
       "      <td>138</td>\n",
       "      <td>175</td>\n",
       "      <td>-118.1318</td>\n",
       "      <td>6</td>\n",
       "      <td>1</td>\n",
       "      <td>0</td>\n",
       "      <td>2000-01</td>\n",
       "      <td>52</td>\n",
       "      <td>22</td>\n",
       "      <td>0.0</td>\n",
       "      <td>2PT Field Goal</td>\n",
       "      <td>Right Side Center(RC)</td>\n",
       "      <td>Mid-Range</td>\n",
       "      <td>16-24 ft.</td>\n",
       "      <td>1610612747</td>\n",
       "      <td>Los Angeles Lakers</td>\n",
       "      <td>2000-10-31</td>\n",
       "      <td>LAL @ POR</td>\n",
       "      <td>POR</td>\n",
       "      <td>4</td>\n",
       "      <td>1.0</td>\n",
       "      <td>1.0</td>\n",
       "      <td>412</td>\n",
       "      <td>308</td>\n",
       "      <td>308</td>\n",
       "      <td>avg</td>\n",
       "      <td>0</td>\n",
       "      <td>0</td>\n",
       "      <td>4</td>\n",
       "      <td>1.0</td>\n",
       "      <td>0.0</td>\n",
       "      <td>0.0</td>\n",
       "      <td>0.0</td>\n",
       "      <td>0.0</td>\n",
       "      <td>1.0</td>\n",
       "      <td>0.0</td>\n",
       "      <td>0.0</td>\n",
       "      <td>0.0</td>\n",
       "      <td>0.0</td>\n",
       "      <td>0.0</td>\n",
       "      <td>1.0</td>\n",
       "      <td>0.0</td>\n",
       "      <td>0.0</td>\n",
       "    </tr>\n",
       "    <tr>\n",
       "      <th>3</th>\n",
       "      <td>Driving Dunk Shot</td>\n",
       "      <td>Dunk</td>\n",
       "      <td>155</td>\n",
       "      <td>20000012</td>\n",
       "      <td>34.0443</td>\n",
       "      <td>0</td>\n",
       "      <td>0</td>\n",
       "      <td>-118.2698</td>\n",
       "      <td>6</td>\n",
       "      <td>2</td>\n",
       "      <td>0</td>\n",
       "      <td>2000-01</td>\n",
       "      <td>19</td>\n",
       "      <td>0</td>\n",
       "      <td>1.0</td>\n",
       "      <td>2PT Field Goal</td>\n",
       "      <td>Center(C)</td>\n",
       "      <td>Restricted Area</td>\n",
       "      <td>Less Than 8 ft.</td>\n",
       "      <td>1610612747</td>\n",
       "      <td>Los Angeles Lakers</td>\n",
       "      <td>2000-10-31</td>\n",
       "      <td>LAL @ POR</td>\n",
       "      <td>POR</td>\n",
       "      <td>5</td>\n",
       "      <td>0.0</td>\n",
       "      <td>1.0</td>\n",
       "      <td>379</td>\n",
       "      <td>341</td>\n",
       "      <td>1061</td>\n",
       "      <td>avg</td>\n",
       "      <td>4</td>\n",
       "      <td>0</td>\n",
       "      <td>5</td>\n",
       "      <td>0.0</td>\n",
       "      <td>0.0</td>\n",
       "      <td>0.0</td>\n",
       "      <td>0.0</td>\n",
       "      <td>1.0</td>\n",
       "      <td>1.0</td>\n",
       "      <td>0.0</td>\n",
       "      <td>0.0</td>\n",
       "      <td>0.0</td>\n",
       "      <td>0.0</td>\n",
       "      <td>0.0</td>\n",
       "      <td>0.0</td>\n",
       "      <td>1.0</td>\n",
       "      <td>0.0</td>\n",
       "    </tr>\n",
       "    <tr>\n",
       "      <th>4</th>\n",
       "      <td>Jump Shot</td>\n",
       "      <td>Jump Shot</td>\n",
       "      <td>244</td>\n",
       "      <td>20000012</td>\n",
       "      <td>34.0553</td>\n",
       "      <td>-145</td>\n",
       "      <td>-11</td>\n",
       "      <td>-118.4148</td>\n",
       "      <td>9</td>\n",
       "      <td>3</td>\n",
       "      <td>0</td>\n",
       "      <td>2000-01</td>\n",
       "      <td>32</td>\n",
       "      <td>14</td>\n",
       "      <td>0.0</td>\n",
       "      <td>2PT Field Goal</td>\n",
       "      <td>Left Side(L)</td>\n",
       "      <td>Mid-Range</td>\n",
       "      <td>8-16 ft.</td>\n",
       "      <td>1610612747</td>\n",
       "      <td>Los Angeles Lakers</td>\n",
       "      <td>2000-10-31</td>\n",
       "      <td>LAL @ POR</td>\n",
       "      <td>POR</td>\n",
       "      <td>6</td>\n",
       "      <td>0.0</td>\n",
       "      <td>0.0</td>\n",
       "      <td>572</td>\n",
       "      <td>148</td>\n",
       "      <td>1588</td>\n",
       "      <td>avg</td>\n",
       "      <td>2</td>\n",
       "      <td>0</td>\n",
       "      <td>4</td>\n",
       "      <td>0.0</td>\n",
       "      <td>0.0</td>\n",
       "      <td>1.0</td>\n",
       "      <td>0.0</td>\n",
       "      <td>0.0</td>\n",
       "      <td>1.0</td>\n",
       "      <td>0.0</td>\n",
       "      <td>0.0</td>\n",
       "      <td>0.0</td>\n",
       "      <td>0.0</td>\n",
       "      <td>0.0</td>\n",
       "      <td>1.0</td>\n",
       "      <td>0.0</td>\n",
       "      <td>0.0</td>\n",
       "    </tr>\n",
       "  </tbody>\n",
       "</table>\n",
       "</div>"
      ],
      "text/plain": [
       "         action_type combined_shot_type  game_event_id   game_id      lat  \\\n",
       "0          Jump Shot          Jump Shot             12  20000012  34.0443   \n",
       "1          Jump Shot          Jump Shot             35  20000012  33.9093   \n",
       "2          Jump Shot          Jump Shot             43  20000012  33.8693   \n",
       "3  Driving Dunk Shot               Dunk            155  20000012  34.0443   \n",
       "4          Jump Shot          Jump Shot            244  20000012  34.0553   \n",
       "\n",
       "   loc_x  loc_y       lon  minutes_remaining  period  playoffs   season  \\\n",
       "0   -157      0 -118.4268                 10       1         0  2000-01   \n",
       "1   -101    135 -118.3708                  7       1         0  2000-01   \n",
       "2    138    175 -118.1318                  6       1         0  2000-01   \n",
       "3      0      0 -118.2698                  6       2         0  2000-01   \n",
       "4   -145    -11 -118.4148                  9       3         0  2000-01   \n",
       "\n",
       "   seconds_remaining  shot_distance  shot_made_flag       shot_type  \\\n",
       "0                 22             15             0.0  2PT Field Goal   \n",
       "1                 45             16             1.0  2PT Field Goal   \n",
       "2                 52             22             0.0  2PT Field Goal   \n",
       "3                 19              0             1.0  2PT Field Goal   \n",
       "4                 32             14             0.0  2PT Field Goal   \n",
       "\n",
       "          shot_zone_area  shot_zone_basic  shot_zone_range     team_id  \\\n",
       "0           Left Side(L)        Mid-Range         8-16 ft.  1610612747   \n",
       "1   Left Side Center(LC)        Mid-Range        16-24 ft.  1610612747   \n",
       "2  Right Side Center(RC)        Mid-Range        16-24 ft.  1610612747   \n",
       "3              Center(C)  Restricted Area  Less Than 8 ft.  1610612747   \n",
       "4           Left Side(L)        Mid-Range         8-16 ft.  1610612747   \n",
       "\n",
       "            team_name   game_date    matchup opponent  shot_id  \\\n",
       "0  Los Angeles Lakers  2000-10-31  LAL @ POR      POR        2   \n",
       "1  Los Angeles Lakers  2000-10-31  LAL @ POR      POR        3   \n",
       "2  Los Angeles Lakers  2000-10-31  LAL @ POR      POR        4   \n",
       "3  Los Angeles Lakers  2000-10-31  LAL @ POR      POR        5   \n",
       "4  Los Angeles Lakers  2000-10-31  LAL @ POR      POR        6   \n",
       "\n",
       "   prior_shot_made  cum_shot_made  secondsFromPeriodEnd  \\\n",
       "0              0.0            0.0                   622   \n",
       "1              0.0            1.0                   465   \n",
       "2              1.0            1.0                   412   \n",
       "3              0.0            1.0                   379   \n",
       "4              0.0            0.0                   572   \n",
       "\n",
       "   secondsFromPeriodStart  secondsFromGameStart hot_hand  range_encoded  \\\n",
       "0                      98                    98      avg              2   \n",
       "1                     255                   255      avg              0   \n",
       "2                     308                   308      avg              0   \n",
       "3                     341                  1061      avg              4   \n",
       "4                     148                  1588      avg              2   \n",
       "\n",
       "   type_encoded  basic_encoded  range_0  range_1  range_2  range_3  range_4  \\\n",
       "0             0              4      0.0      0.0      1.0      0.0      0.0   \n",
       "1             0              4      1.0      0.0      0.0      0.0      0.0   \n",
       "2             0              4      1.0      0.0      0.0      0.0      0.0   \n",
       "3             0              5      0.0      0.0      0.0      0.0      1.0   \n",
       "4             0              4      0.0      0.0      1.0      0.0      0.0   \n",
       "\n",
       "   type_0  type_1  basic_0  basic_1  basic_2  basic_3  basic_4  basic_5  \\\n",
       "0     1.0     0.0      0.0      0.0      0.0      0.0      1.0      0.0   \n",
       "1     1.0     0.0      0.0      0.0      0.0      0.0      1.0      0.0   \n",
       "2     1.0     0.0      0.0      0.0      0.0      0.0      1.0      0.0   \n",
       "3     1.0     0.0      0.0      0.0      0.0      0.0      0.0      1.0   \n",
       "4     1.0     0.0      0.0      0.0      0.0      0.0      1.0      0.0   \n",
       "\n",
       "   basic_6  \n",
       "0      0.0  \n",
       "1      0.0  \n",
       "2      0.0  \n",
       "3      0.0  \n",
       "4      0.0  "
      ]
     },
     "execution_count": 142,
     "metadata": {},
     "output_type": "execute_result"
    }
   ],
   "source": [
    "kobe.head()"
   ]
  },
  {
   "cell_type": "code",
   "execution_count": 143,
   "metadata": {},
   "outputs": [
    {
     "data": {
      "text/plain": [
       "array(['avg'],\n",
       "      dtype='<U8')"
      ]
     },
     "execution_count": 143,
     "metadata": {},
     "output_type": "execute_result"
    }
   ],
   "source": [
    "hot_ohe = Xhot[[0]]\n",
    "hot_lb.inverse_transform(hot_ohe)"
   ]
  },
  {
   "cell_type": "code",
   "execution_count": 144,
   "metadata": {},
   "outputs": [],
   "source": [
    "# hot_hand\n",
    "dfOneHot = pd.DataFrame(Xhot, columns = ['hot_'+str(int(i)) for i in range(Xhot.shape[1])])\n",
    "kobe = pd.concat([kobe, dfOneHot], axis=1)"
   ]
  },
  {
   "cell_type": "markdown",
   "metadata": {},
   "source": [
    "Creating function to for `OneHotEncoding`"
   ]
  },
  {
   "cell_type": "code",
   "execution_count": 145,
   "metadata": {},
   "outputs": [],
   "source": [
    "def _oneHotEncoding(df, x, encoded_name):\n",
    "    \"\"\"\n",
    "    Function using Scikit Learn's label binarizer class to perform one hot encoding.\n",
    "    \"\"\"\n",
    "    label = LabelBinarizer()\n",
    "    variable = label.fit_transform(df[x].values)\n",
    "    \n",
    "    dfOneHot = pd.DataFrame(variable, columns = [encoded_name+\"_\"+str(int(i)) for i in range(variable.shape[1])])\n",
    "    df = pd.concat([df, dfOneHot], axis=1)\n",
    "    \n",
    "    return df\n",
    "    "
   ]
  },
  {
   "cell_type": "markdown",
   "metadata": {},
   "source": [
    "One hot encode `combined_shot_type`"
   ]
  },
  {
   "cell_type": "code",
   "execution_count": 146,
   "metadata": {},
   "outputs": [],
   "source": [
    "kobe = _oneHotEncoding(kobe, 'combined_shot_type', 'combined_shot')\n",
    "le_combined_shot = LabelEncoder()\n",
    "kobe['combined_shot_encoded'] = le_combined_shot.fit_transform(kobe.combined_shot_type)"
   ]
  },
  {
   "cell_type": "markdown",
   "metadata": {},
   "source": [
    "Kobe imporved over seasons, however, seasons currently is a string. Lets remove the last 3 characters of the `season` value that currently indicates the 2000-01 season as simply 2000. The `one hot encode` `seasons`"
   ]
  },
  {
   "cell_type": "code",
   "execution_count": 147,
   "metadata": {},
   "outputs": [],
   "source": [
    "kobe['season'] = kobe['season'].apply(lambda x: x[:-3])\n",
    "kobe['season'] = kobe['season'].astype(int)\n",
    "kobe = _oneHotEncoding(kobe, 'season', 'season_en')"
   ]
  },
  {
   "cell_type": "markdown",
   "metadata": {},
   "source": [
    "One hot encode `shot_zone_area`"
   ]
  },
  {
   "cell_type": "code",
   "execution_count": 148,
   "metadata": {},
   "outputs": [],
   "source": [
    "kobe = _oneHotEncoding(kobe, 'shot_zone_area', 'zone')\n",
    "le_zone = LabelEncoder()\n",
    "kobe['shot_zone_encoded'] = le_zone.fit_transform(kobe.shot_zone_area)"
   ]
  },
  {
   "cell_type": "markdown",
   "metadata": {},
   "source": [
    "shots made distribution by season"
   ]
  },
  {
   "cell_type": "code",
   "execution_count": 152,
   "metadata": {
    "scrolled": false
   },
   "outputs": [
    {
     "data": {
      "text/plain": [
       "season\n",
       "1996    162.0\n",
       "1997    349.0\n",
       "1998    351.0\n",
       "1999    604.0\n",
       "2000    735.0\n",
       "2001    783.0\n",
       "2002    808.0\n",
       "2003    594.0\n",
       "2004    492.0\n",
       "2005    873.0\n",
       "2006    723.0\n",
       "2007    852.0\n",
       "2008    866.0\n",
       "2009    804.0\n",
       "2010    679.0\n",
       "2011    603.0\n",
       "2012    608.0\n",
       "2013     24.0\n",
       "2014    223.0\n",
       "2015    332.0\n",
       "Name: shot_made_flag, dtype: float64"
      ]
     },
     "execution_count": 152,
     "metadata": {},
     "output_type": "execute_result"
    }
   ],
   "source": [
    "kobe.groupby(['season'])['shot_made_flag'].sum()"
   ]
  },
  {
   "cell_type": "code",
   "execution_count": 162,
   "metadata": {},
   "outputs": [
    {
     "data": {
      "image/png": "[encoded data removed]",
      "text/plain": [
       "<matplotlib.figure.Figure at 0x7f7a0c8862b0>"
      ]
     },
     "metadata": {},
     "output_type": "display_data"
    }
   ],
   "source": [
    "num_bins = 10\n",
    "\n",
    "kobe[['shot_distance','cum_shot_made','range_encoded','type_encoded',\n",
    "      'basic_encoded','hot_hand_encoded', 'combined_shot_encoded',\n",
    "      'shot_zone_encoded']].hist(bins=num_bins, figsize=(20,15))\n",
    "plt.show()"
   ]
  },
  {
   "cell_type": "markdown",
   "metadata": {},
   "source": [
    "Declaring the columns we want to use as features"
   ]
  },
  {
   "cell_type": "markdown",
   "metadata": {},
   "source": [
    "------\n",
    "## Correlations (part 2)"
   ]
  },
  {
   "cell_type": "code",
   "execution_count": 164,
   "metadata": {
    "scrolled": true
   },
   "outputs": [
    {
     "data": {
      "text/plain": [
       "shot_made_flag            1.000000\n",
       "cum_shot_made             0.353142\n",
       "hot_hand_encoded          0.220103\n",
       "combined_shot_1           0.200676\n",
       "basic_5                   0.189385\n",
       "range_4                   0.169494\n",
       "range_encoded             0.157635\n",
       "lat                       0.148070\n",
       "hot_2                     0.146856\n",
       "zone_1                    0.141378\n",
       "basic_encoded             0.139015\n",
       "type_0                    0.121462\n",
       "hot_3                     0.118225\n",
       "combined_shot_4           0.110712\n",
       "hot_1                     0.081902\n",
       "combined_shot_0           0.047608\n",
       "seconds_remaining         0.030804\n",
       "secondsFromPeriodEnd      0.030775\n",
       "minutes_remaining         0.028342\n",
       "combined_shot_2           0.012657\n",
       "season_en_11              0.012342\n",
       "season_en_12              0.012159\n",
       "season_en_4               0.010541\n",
       "basic_2                   0.006974\n",
       "season_en_3               0.006628\n",
       "season_en_5               0.006586\n",
       "season_en_10              0.006035\n",
       "season_en_16              0.005481\n",
       "season_en_2               0.004462\n",
       "season_en_9               0.004339\n",
       "                            ...   \n",
       "basic_3                  -0.014714\n",
       "combined_shot_5          -0.015126\n",
       "season                   -0.018777\n",
       "season_en_18             -0.021676\n",
       "basic_6                  -0.024623\n",
       "secondsFromPeriodStart   -0.030775\n",
       "period                   -0.032152\n",
       "season_en_19             -0.035099\n",
       "secondsFromGameStart     -0.035915\n",
       "zone_3                   -0.036942\n",
       "game_event_id            -0.037232\n",
       "zone_5                   -0.037634\n",
       "basic_1                  -0.041799\n",
       "zone_0                   -0.046095\n",
       "range_3                  -0.046095\n",
       "range_0                  -0.054147\n",
       "zone_4                   -0.054775\n",
       "zone_2                   -0.066352\n",
       "basic_4                  -0.066850\n",
       "combined_shot_encoded    -0.079347\n",
       "shot_zone_encoded        -0.102592\n",
       "basic_0                  -0.111574\n",
       "range_1                  -0.116278\n",
       "type_encoded             -0.121462\n",
       "type_1                   -0.121462\n",
       "loc_y                    -0.148070\n",
       "shot_distance            -0.198242\n",
       "combined_shot_3          -0.201084\n",
       "hot_0                    -0.234654\n",
       "team_id                        NaN\n",
       "Name: shot_made_flag, Length: 76, dtype: float64"
      ]
     },
     "execution_count": 164,
     "metadata": {},
     "output_type": "execute_result"
    }
   ],
   "source": [
    "kobe_corr = kobe.corr()\n",
    "kobe_corr['shot_made_flag'].sort_values(ascending=False)"
   ]
  },
  {
   "cell_type": "code",
   "execution_count": null,
   "metadata": {},
   "outputs": [],
   "source": []
  },
  {
   "cell_type": "code",
   "execution_count": null,
   "metadata": {},
   "outputs": [],
   "source": []
  },
  {
   "cell_type": "markdown",
   "metadata": {},
   "source": [
    "## Machine LEarning\n",
    "\n",
    "We finally made it to the modeling stage. Lets see how well our __data preparation__ _(data processing/wragling, Feature Engineering, Feature Scaling and Selection)_ has done. First we will select our potential features"
   ]
  },
  {
   "cell_type": "code",
   "execution_count": 238,
   "metadata": {},
   "outputs": [],
   "source": [
    "# 'season',\n",
    "potentialFeatures = [\n",
    "    'shot_distance','prior_shot_made','cum_shot_made','secondsFromPeriodEnd','secondsFromPeriodStart',\n",
    "    'secondsFromGameStart','range_0','range_1','range_2','range_3','range_4','type_0','type_1',\n",
    "    'basic_0','basic_1','basic_2','basic_3','basic_4','basic_5','basic_6',\n",
    "    'hot_0','hot_1','hot_2','hot_3','combined_shot_0','combined_shot_1','combined_shot_2','combined_shot_3',\n",
    "    'combined_shot_4','combined_shot_5','season_en_0','season_en_1','season_en_2','season_en_3','season_en_4','season_en_5',\n",
    "    'season_en_6','season_en_7','season_en_8','season_en_9','season_en_10','season_en_11','season_en_12','season_en_13',\n",
    "    'season_en_14','season_en_15','season_en_16','season_en_17','season_en_18','season_en_19',\n",
    "    'zone_0','zone_1','zone_2','zone_3','zone_4','zone_5'\n",
    "]"
   ]
  },
  {
   "cell_type": "markdown",
   "metadata": {},
   "source": [
    "Create a graph to plot top features to show importance"
   ]
  },
  {
   "cell_type": "code",
   "execution_count": 239,
   "metadata": {},
   "outputs": [],
   "source": [
    "def plot_feature_importances_playoffs(model):\n",
    "    plt.figure(figsize=(10,5))\n",
    "    importance = model.feature_importances_\n",
    "    importance = -np.sort(-importance)\n",
    "    n_features = len(importance[:20])\n",
    "    plt.barh(range(n_features), importance[:20], align='center')\n",
    "    plt.yticks(np.arange(n_features), X)\n",
    "    plt.xlabel(\"Feature importance\")\n",
    "    plt.ylabel(\"Feature\")\n",
    "    plt.ylim(-1, n_features)"
   ]
  },
  {
   "cell_type": "code",
   "execution_count": 240,
   "metadata": {},
   "outputs": [],
   "source": [
    "# y includes our labels (wins and losses) and x includes our features\n",
    "\n",
    "y = kobe.shot_made_flag\n",
    "X = kobe[potentialFeatures]"
   ]
  },
  {
   "cell_type": "code",
   "execution_count": 241,
   "metadata": {},
   "outputs": [],
   "source": [
    "from sklearn.model_selection import train_test_split\n",
    "\n",
    "# split data train 70% and test 30%\n",
    "X_train, X_test, y_train, y_test = train_test_split(X, y, test_size = 0.3, random_state = 42)"
   ]
  },
  {
   "cell_type": "markdown",
   "metadata": {},
   "source": [
    "### Logistic Regression Model"
   ]
  },
  {
   "cell_type": "code",
   "execution_count": 243,
   "metadata": {},
   "outputs": [
    {
     "name": "stdout",
     "output_type": "stream",
     "text": [
      "Accuracy on training set: 0.753\n",
      "Accuracy on test set: 0.749\n"
     ]
    }
   ],
   "source": [
    "from sklearn.linear_model import LogisticRegression\n",
    "from sklearn.metrics import accuracy_score\n",
    "#from sklearn import metrics\n",
    "\n",
    "logreg = LogisticRegression()\n",
    "logreg.fit(X_train, y_train)\n",
    "\n",
    "Y_pred = logreg.predict(X_test)\n",
    "\n",
    "print(\"Accuracy on training set: {:.3f}\".format(accuracy_score(y_train,logreg.predict(X_train))))\n",
    "print(\"Accuracy on test set: {:.3f}\".format(accuracy_score(y_test,logreg.predict(X_test))))"
   ]
  },
  {
   "cell_type": "markdown",
   "metadata": {},
   "source": [
    "### Support Vector Machine"
   ]
  },
  {
   "cell_type": "code",
   "execution_count": 244,
   "metadata": {},
   "outputs": [
    {
     "name": "stdout",
     "output_type": "stream",
     "text": [
      "Accuracy on training set: 0.756\n",
      "Accuracy on test set: 0.601\n"
     ]
    }
   ],
   "source": [
    "from sklearn.svm import SVC\n",
    "svc = SVC()\n",
    "svc.fit(X_train, y_train)\n",
    "print(\"Accuracy on training set: {:.3f}\".format(accuracy_score(y_train, svc.predict(X_train))))\n",
    "print(\"Accuracy on test set: {:.3f}\".format(accuracy_score(y_test, svc.predict(X_test))))"
   ]
  },
  {
   "cell_type": "markdown",
   "metadata": {},
   "source": [
    "We can tell that scalling made a pretty bit difference on both the training set and the test set.  From here, lets try increasing either `C` or `gamma` to fit a more complex model."
   ]
  },
  {
   "cell_type": "code",
   "execution_count": 222,
   "metadata": {},
   "outputs": [
    {
     "name": "stdout",
     "output_type": "stream",
     "text": [
      "Accuracy on training set: 0.824\n",
      "Accuracy on test set: 0.791\n"
     ]
    }
   ],
   "source": [
    "svc = SVC(C=1000)\n",
    "svc.fit(X_train_scaled, y_train)\n",
    "\n",
    "print(\"Accuracy on training set: {:.3f}\".format(svc.score(X_train_scaled, y_train)))\n",
    "print(\"Accuracy on test set: {:.3f}\".format(svc.score(X_test_scaled, y_test)))"
   ]
  },
  {
   "cell_type": "markdown",
   "metadata": {},
   "source": [
    "## Random Forest"
   ]
  },
  {
   "cell_type": "code",
   "execution_count": 245,
   "metadata": {},
   "outputs": [
    {
     "name": "stdout",
     "output_type": "stream",
     "text": [
      "Accuracy on training set: 0.989\n",
      "Accuracy on test set: 0.760\n"
     ]
    },
    {
     "data": {
      "image/png": "[encoded data removed]",
      "text/plain": [
       "<matplotlib.figure.Figure at 0x7f7a0c7dadd8>"
      ]
     },
     "metadata": {},
     "output_type": "display_data"
    }
   ],
   "source": [
    "from sklearn.ensemble import RandomForestClassifier\n",
    "\n",
    "#random forest classifier with n_estimators=10 (default)\n",
    "clf_rf = RandomForestClassifier(random_state=43)      \n",
    "clr_rf = clf_rf.fit(X_train,y_train)\n",
    "\n",
    "print(\"Accuracy on training set: {:.3f}\".format(accuracy_score(y_train,clf_rf.predict(X_train))))\n",
    "print(\"Accuracy on test set: {:.3f}\".format(accuracy_score(y_test,clf_rf.predict(X_test))))\n",
    "plot_feature_importances_playoffs(clr_rf)"
   ]
  },
  {
   "cell_type": "markdown",
   "metadata": {},
   "source": [
    "### Gradient Boosting"
   ]
  },
  {
   "cell_type": "code",
   "execution_count": 246,
   "metadata": {},
   "outputs": [
    {
     "name": "stdout",
     "output_type": "stream",
     "text": [
      "Accuracy on training set: 0.810\n",
      "Accuracy on test set: 0.800\n",
      "Feature Importance: \n",
      " None\n"
     ]
    },
    {
     "data": {
      "image/png": "[encoded data removed]",
      "text/plain": [
       "<matplotlib.figure.Figure at 0x7f79eef3bba8>"
      ]
     },
     "metadata": {},
     "output_type": "display_data"
    }
   ],
   "source": [
    "from sklearn.ensemble import GradientBoostingClassifier\n",
    "\n",
    "gb = GradientBoostingClassifier(random_state=0)\n",
    "gb.fit(X_train, y_train)\n",
    "\n",
    "print(\"Accuracy on training set: {:.3f}\".format(gb.score(X_train, y_train)))\n",
    "print(\"Accuracy on test set: {:.3f}\".format(gb.score(X_test, y_test)))\n",
    "print(\"Feature Importance: \\n\",plot_feature_importances_playoffs(gb))"
   ]
  },
  {
   "cell_type": "markdown",
   "metadata": {},
   "source": [
    "### Neural Network"
   ]
  },
  {
   "cell_type": "code",
   "execution_count": 219,
   "metadata": {},
   "outputs": [
    {
     "name": "stdout",
     "output_type": "stream",
     "text": [
      "Accuracy on training set: 0.67\n",
      "Accuracy on test set: 0.66\n"
     ]
    }
   ],
   "source": [
    "from sklearn.neural_network import MLPClassifier\n",
    "\n",
    "mlp = MLPClassifier(random_state=42)\n",
    "mlp.fit(X_train, y_train)\n",
    "\n",
    "print(\"Accuracy on training set: {:.2f}\".format(mlp.score(X_train, y_train)))\n",
    "print(\"Accuracy on test set: {:.2f}\".format(mlp.score(X_test, y_test)))"
   ]
  },
  {
   "cell_type": "markdown",
   "metadata": {},
   "source": [
    "This is likely due to scaling of the data. Neural networks also expect all input features to vary in a similar way, and ideally to have a mean of 0, and a variance of 1. We must rescale our data so that it fulfills these requirements."
   ]
  },
  {
   "cell_type": "code",
   "execution_count": 221,
   "metadata": {},
   "outputs": [
    {
     "name": "stdout",
     "output_type": "stream",
     "text": [
      "Accuracy on training set: 0.824\n",
      "Accuracy on test set: 0.789\n"
     ]
    }
   ],
   "source": [
    "from sklearn.preprocessing import MinMaxScaler\n",
    "\n",
    "scaler = MinMaxScaler()\n",
    "X_train_scaled = scaler.fit_transform(X_train)\n",
    "X_test_scaled = scaler.fit_transform(X_test)\n",
    "\n",
    "mlp = MLPClassifier(random_state=0)\n",
    "mlp.fit(X_train_scaled, y_train)\n",
    "\n",
    "print(\"Accuracy on training set: {:.3f}\".format(mlp.score(X_train_scaled, y_train)))\n",
    "print(\"Accuracy on test set: {:.3f}\".format(mlp.score(X_test_scaled, y_test)))"
   ]
  },
  {
   "cell_type": "code",
   "execution_count": 225,
   "metadata": {},
   "outputs": [
    {
     "name": "stdout",
     "output_type": "stream",
     "text": [
      "Accuracy on training set: 0.710\n",
      "Accuracy on test set: 0.703\n"
     ]
    }
   ],
   "source": [
    "mlp = MLPClassifier(max_iter=4000, alpha=1, random_state=0)\n",
    "mlp.fit(X_train, y_train)\n",
    "\n",
    "print(\"Accuracy on training set: {:.3f}\".format(mlp.score(X_train, y_train)))\n",
    "print(\"Accuracy on test set: {:.3f}\".format(mlp.score(X_test, y_test)))"
   ]
  },
  {
   "cell_type": "code",
   "execution_count": null,
   "metadata": {},
   "outputs": [],
   "source": []
  },
  {
   "cell_type": "code",
   "execution_count": null,
   "metadata": {},
   "outputs": [],
   "source": []
  },
  {
   "cell_type": "markdown",
   "metadata": {},
   "source": [
    "### References\n",
    "\n",
    "* [dataset and motivation] [Kaggle's Kobe Bryant Shot Selection](https://www.kaggle.com/c/kobe-bryant-shot-selection)\n",
    "* [Visualization] [seaborn.pydata categorical documention](https://seaborn.pydata.org/tutorial/categorical.html?highlight=color%20bar)\n",
    "* [Pearson Correlation] [datascience - intro to correlation](https://www.datascience.com/blog/introduction-to-correlation-learn-data-science-tutorials)\n",
    "* [One Hot Encoding] [Python One Hot Encoding with Scikit Learn](http://www.handsonmachinelearning.com/blog/McTKK/python-one-hot-encoding-with-scikit-learn)\n",
    "    * [One Hot Encoding] [Hot to One Hot Encoding: machinelearningmastery](https://machinelearningmastery.com/how-to-one-hot-encode-sequence-data-in-python/)\n",
    "\n",
    "\n",
    "* [Article] [Momentum Isn’t Magic—Vindicating the Hot Hand with the Mathematics of Streaks](https://www.scientificamerican.com/article/momentum-isnt-magic-vindicating-the-hot-hand-with-the-mathematics-of-streaks/)\n",
    "* [Research Paper] [Surprised by the Gambler's and Hot Hand Fallacies? A Truth in the Law of Small Numbers](https://papers.ssrn.com/sol3/papers.cfm?abstract_id=2627354)\n",
    "* [Research Paper] [The Hot Hand Fallacy: Cognitive Mistakes or Equilibrium Adjustments? Evidence from Baseball](https://www.gsb.stanford.edu/faculty-research/working-papers/hot-hand-fallacy-cognitive-mistakes-or-equilibrium-adjustments)"
   ]
  },
  {
   "cell_type": "code",
   "execution_count": null,
   "metadata": {},
   "outputs": [],
   "source": []
  }
 ],
 "metadata": {
  "kernelspec": {
   "display_name": "Python 3",
   "language": "python",
   "name": "python3"
  },
  "language_info": {
   "codemirror_mode": {
    "name": "ipython",
    "version": 3
   },
   "file_extension": ".py",
   "mimetype": "text/x-python",
   "name": "python",
   "nbconvert_exporter": "python",
   "pygments_lexer": "ipython3",
   "version": "3.6.4"
  }
 },
 "nbformat": 4,
 "nbformat_minor": 2
}
