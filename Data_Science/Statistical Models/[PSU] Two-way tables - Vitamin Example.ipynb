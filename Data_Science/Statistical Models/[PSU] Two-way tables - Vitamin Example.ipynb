{
 "cells": [
  {
   "cell_type": "markdown",
   "metadata": {},
   "source": [
    "# Vitamin Example\n",
    "\n",
    "![](http://slideplayer.com/3006727/11/images/56/Vitamin+C+for+colds+Vitamin+C+is+necessary+for+making+collagen%2C+and+for+many+body+functions..jpg)\n",
    "\n",
    "https://newonlinecourses.science.psu.edu/stat504/node/74/\n",
    "\n",
    "https://newonlinecourses.science.psu.edu/stat504/sites/onlinecourses.science.psu.edu.stat504/files/lesson03/VitaminC/index.R"
   ]
  },
  {
   "cell_type": "code",
   "execution_count": 1,
   "metadata": {},
   "outputs": [],
   "source": [
    "import pandas as pd\n",
    "import numpy as np\n",
    "\n",
    "# import plotting libraries\n",
    "import matplotlib.pyplot as plt\n",
    "import seaborn as sns\n",
    "\n",
    "%matplotlib inline\n",
    "plt.style.use('seaborn-white')\n",
    "\n",
    "# Statistical Packages\n",
    "import scipy.stats as stats\n",
    "import statsmodels.api as sm\n",
    "import statsmodels.formula.api as smf\n"
   ]
  },
  {
   "cell_type": "code",
   "execution_count": 2,
   "metadata": {},
   "outputs": [
    {
     "name": "stdout",
     "output_type": "stream",
     "text": [
      "          Cold  No Cold\n",
      "Placebo     31      109\n",
      "Vitamins    17      122\n"
     ]
    }
   ],
   "source": [
    "vitamin = pd.DataFrame(columns=['Cold', \"No Cold\"], index=['Placebo', 'Vitamins'])\n",
    "vitamin.loc['Placebo'] = [31, 109]\n",
    "vitamin.loc['Vitamins'] = [17, 122]\n",
    "table = sm.stats.Table(vitamin)\n",
    "print(table.table_orig)"
   ]
  },
  {
   "cell_type": "markdown",
   "metadata": {},
   "source": [
    "### Chi-square Test of Independence\n",
    "https://www.statsmodels.org/stable/contingency_tables.html\n",
    "\n",
    "Independence is the property that the row and column factors occur independently. Association is the lack of independence. If the joint distribution is independent, it can be written as the outer product of the row and column marginal distributions:\n",
    "\n",
    "$P_{ij} = \\sum_k P_{ij} \\cdot \\sum_k P_{kj} \\quad \\text{for all} \\quad  i, j$\n",
    "\n",
    "This function computes the chi-square statistic and p-value for the hypothesis test of independence of the observed frequencies in the contingency table observed. \n",
    "\n"
   ]
  },
  {
   "cell_type": "markdown",
   "metadata": {},
   "source": [
    "#### Pearson Residuals\n",
    "\n",
    "__How large is the discrepancy between the two proposed models.__ The residuals provide an indication on where the diffreneces are and potentially which leads to a rejection in the null hyptoehsioes. \n",
    "\n",
    "$r_j=\\dfrac{X_j-n\\hat{\\pi}_j}{\\sqrt{n\\hat{\\pi}_j}}=\\dfrac{O_j-E_j}{\\sqrt{E_j}}$\n",
    "\n",
    "\n",
    "The __Pearson residual__ compares the observed with the expected counts. The sign (+/-) indicates whether the observed requency in cell _j_ is higher or lower than the value fitted under the model, and the magnitude indicates the degree of departure. "
   ]
  },
  {
   "cell_type": "code",
   "execution_count": 3,
   "metadata": {},
   "outputs": [
    {
     "name": "stdout",
     "output_type": "stream",
     "text": [
      "\n",
      "Expected: \n",
      "               Cold     No Cold\n",
      "Placebo   24.086022  115.913978\n",
      "Vitamins  23.913978  115.086022\n",
      "\n",
      "Residuals: \n",
      "              Cold   No Cold\n",
      "Placebo   1.408787 -0.642185\n",
      "Vitamins -1.413846  0.644491\n",
      "\n",
      "marginal_probabilities: \n",
      "(Placebo     0.501792\n",
      "Vitamins    0.498208\n",
      "dtype: float64, Cold       0.172043\n",
      "No Cold    0.827957\n",
      "dtype: float64)\n"
     ]
    }
   ],
   "source": [
    "print(\"\\nExpected: \")\n",
    "print(table.fittedvalues)\n",
    "\n",
    "print(\"\\nResiduals: \")\n",
    "print(table.resid_pearson)\n",
    "\n",
    "print(\"\\nmarginal_probabilities: \")\n",
    "print(table.marginal_probabilities)"
   ]
  },
  {
   "cell_type": "markdown",
   "metadata": {},
   "source": [
    "When reviewing the absolute value, |$r_{j}$| is much larger than $\\sqrt{(k-1)/k}$ ~ 2 or more, then the model __does not appear to fit well for cell__ _j_. Above we can reveiw the pearson residuals to __identify those cells that do not fit the expected model as closely as we might have assumed__. \n",
    "\n",
    "[STAT504 notes](https://newonlinecourses.science.psu.edu/stat504/node/62/)\n",
    "\n",
    "#### Peasron Chi-squared test WITHOUT Yates' continuity correction\n",
    "\n",
    "Above are the tables for the expected values and the residuals."
   ]
  },
  {
   "cell_type": "code",
   "execution_count": 4,
   "metadata": {},
   "outputs": [
    {
     "name": "stdout",
     "output_type": "stream",
     "text": [
      "Chi-Square Statistic:  4.811412646320789\n",
      "Chi-Square Probability (p-value):  0.0282718602468226\n"
     ]
    }
   ],
   "source": [
    "rslt = table.test_nominal_association()\n",
    "print(\"Chi-Square Statistic: \", rslt.statistic)\n",
    "print(\"Chi-Square Probability (p-value): \", rslt.pvalue)"
   ]
  },
  {
   "cell_type": "markdown",
   "metadata": {},
   "source": [
    "__The test for independence yields χ2 = 4.814 and the p-value=0.0283. The conclusion here would be that there is strong evidence against the null hypothesis of independence. The statistic χ2 = 4.814 means that the evidence against the null is strong.__ \n",
    " \n",
    "Yates' continuity correction. This correction subtracts 0.5 from a difference between the observed and the expected counts in the formula for the χ2 statistic, e.g., {oij-nij}-0.5. It is used in situations when there are cells with small expected counts (e.g., less than 5) in order to better approximate exact inference tests. "
   ]
  },
  {
   "cell_type": "markdown",
   "metadata": {},
   "source": [
    "__Fisher Exact Test__"
   ]
  },
  {
   "cell_type": "code",
   "execution_count": 5,
   "metadata": {},
   "outputs": [
    {
     "name": "stdout",
     "output_type": "stream",
     "text": [
      "Odds Ratio:  2.0410145709660013\n",
      "p-value   :  0.03849249137522522\n",
      "\n",
      "Left Tail prob:  0.020522715992754487\n",
      "\n",
      "Right Tail prob:  0.9910066932152484\n"
     ]
    }
   ],
   "source": [
    "oddsratio, pvalue = stats.fisher_exact(vitamin, alternative='two-sided')\n",
    "print(\"Odds Ratio: \", oddsratio)\n",
    "print(\"p-value   : \", pvalue)\n",
    "\n",
    "oddsratio, pvalue = stats.fisher_exact(vitamin, alternative='greater')\n",
    "print(\"\\nLeft Tail prob: \",pvalue)\n",
    "oddsratio, pvalue = stats.fisher_exact(vitamin, alternative='less')\n",
    "print(\"\\nRight Tail prob: \",pvalue)"
   ]
  },
  {
   "cell_type": "markdown",
   "metadata": {},
   "source": [
    "* __Left tail probability__ is the probability of all tables such that the (1,1) cell value is less than or equal to the one observed; _i.e., left tail p-value_\n",
    "* __Right rail p-value__ probability of all tables iwht (1,1) cell value grater than or equal to the observed. "
   ]
  },
  {
   "cell_type": "code",
   "execution_count": 6,
   "metadata": {
    "scrolled": false
   },
   "outputs": [
    {
     "name": "stdout",
     "output_type": "stream",
     "text": [
      "[[ 31 109]\n",
      " [ 17 122]]\n",
      "               Estimate   SE   LCB   UCB  p-value\n",
      "-------------------------------------------------\n",
      "Odds ratio        2.041       1.070 3.892   0.030\n",
      "Log odds ratio    0.713 0.329 0.068 1.359   0.030\n",
      "Risk ratio        1.811       1.052 3.116   0.032\n",
      "Log risk ratio    0.594 0.277 0.051 1.137   0.032\n",
      "-------------------------------------------------\n"
     ]
    }
   ],
   "source": [
    "table = np.array(vitamin)\n",
    "t22 = sm.stats.Table2x2(table)\n",
    "print(t22.table_orig)\n",
    "print(t22.summary())"
   ]
  },
  {
   "cell_type": "markdown",
   "metadata": {},
   "source": [
    "### Interpretation \n",
    "\n",
    "Therefore, odds ratio = 2.041.... $\\hat{\\theta}=0.49$ _(1/.49)_ means that:\n",
    "* the odds of getting a cold given `vitamin C` are __.49 time the odds of getting cold given the placebo__\n",
    "* the odds of getting a cold given a placebo are 1/.49 = __2.04 time greater than the odds given vitamin C__\n",
    "* getting cold is less likely given vitamin C than given a placebo"
   ]
  },
  {
   "cell_type": "markdown",
   "metadata": {},
   "source": [
    "Row Percentage"
   ]
  },
  {
   "cell_type": "code",
   "execution_count": 7,
   "metadata": {},
   "outputs": [
    {
     "data": {
      "text/plain": [
       "array([[0.22142857, 0.78417266],\n",
       "       [0.12142857, 0.87769784]])"
      ]
     },
     "execution_count": 7,
     "metadata": {},
     "output_type": "execute_result"
    }
   ],
   "source": [
    "table / table.sum(axis=1)\n",
    "\n",
    "# table / table.sum(axis=0) # column percentages\n",
    "# table / table.sum() # overall percentage"
   ]
  },
  {
   "cell_type": "markdown",
   "metadata": {},
   "source": [
    "With the row percentages, we can conclude:\n",
    "* odds of \"success\" _(i.e., getting a cold)_ given that the skier took vitamin C, 0.12 / 0.88 = 0.14\n",
    "* odds of \"success\" _(i.e., getting a cold)_ given that a skier took a placebo pill, 0.22 / 0.78 = 0.28\n",
    "\n",
    "The odds ratio is 0.14/0.28 = 0.48\n"
   ]
  },
  {
   "cell_type": "markdown",
   "metadata": {},
   "source": [
    "### Point Estimates, CI and HT\n",
    "\n",
    "__Testing H0 : θ = 1 is equivalent to testing independence in 2 × 2 tables.__\n",
    "\n",
    "Odds of getting a cold vs not getting a cold given that a person took a `placebo`\n",
    "\n",
    "$odds_1=\\dfrac{P(Z=1|Y=1)}{P(Z=2|Y=1)}=\\dfrac{\\pi_{1|1}}{\\pi_{2|1}}=\\dfrac{\\pi_{1|1}}{1-\\pi_{1|1}}$\n",
    "\n",
    "__Column 1 Risk Estmates__"
   ]
  },
  {
   "cell_type": "code",
   "execution_count": 8,
   "metadata": {},
   "outputs": [
    {
     "name": "stdout",
     "output_type": "stream",
     "text": [
      "Placebo:\n",
      "Risk estimate row 1:  0.22142857142857142\n",
      "Risk estimate row 2:  0.1223021582733813\n",
      "Col 1 Risk Total:  0.17204301075268819\n",
      "Difference row 1-row2:  -0.09912641315519012\n"
     ]
    }
   ],
   "source": [
    "ColSum_1 = table[:2,0].sum()\n",
    "ColSum_2 = table[:2,1].sum()\n",
    "row_sum = table.sum()\n",
    "row_sum1 =table[:1].sum()\n",
    "row_sum2 = table[1:].sum()\n",
    "risk1_col1 = table[0,0] / row_sum1\n",
    "risk2_col1 = table[1,0] / row_sum2\n",
    "rho1 = risk1_col1 / risk2_col1\n",
    "total1 = ColSum_1 / row_sum\n",
    "diff1 = risk2_col1 - risk1_col1\n",
    "\n",
    "print(\"Placebo:\")\n",
    "print(\"Risk estimate row 1: \", risk1_col1)\n",
    "print(\"Risk estimate row 2: \", risk2_col1)\n",
    "print(\"Col 1 Risk Total: \", total1)\n",
    "print(\"Difference row 1-row2: \", diff1)"
   ]
  },
  {
   "cell_type": "markdown",
   "metadata": {},
   "source": [
    "__Test the odds of \"success\"__ in other words _getting a cold_ given that the skier took vitamin C:\n",
    "\n",
    "__The confidence interval for the difference in proportions for column 1__\n",
    "\n",
    "\n",
    "$\\text{log}\\hat{\\theta} \\pm 1.96\\sqrt{\\dfrac{1}{n_{11}}+\\dfrac{1}{n_{12}}+\\dfrac{1}{n_{21}}+\\dfrac{1}{n_{22}}}$"
   ]
  },
  {
   "cell_type": "code",
   "execution_count": 9,
   "metadata": {},
   "outputs": [
    {
     "name": "stdout",
     "output_type": "stream",
     "text": [
      "Placebo SE diff:  0.04476243330709762\n",
      "CI diff : -0.18685917029747762 -0.01139365601290264\n"
     ]
    }
   ],
   "source": [
    "CI_significance = stats.norm.ppf(.975)\n",
    "se_diff1 = np.sqrt(risk1_col1*(1-risk1_col1)/row_sum1+ risk2_col1*(1-risk2_col1)/row_sum2)\n",
    "ci_diff1_low = diff1 - CI_significance * se_diff1\n",
    "ci_diff1_hi = diff1 + CI_significance * se_diff1\n",
    "\n",
    "print(\"Placebo SE diff: \", se_diff1)\n",
    "print(\"CI diff :\", ci_diff1_low, ci_diff1_hi )\n"
   ]
  },
  {
   "cell_type": "markdown",
   "metadata": {},
   "source": [
    "__Column 2 Risk Estmates__\n",
    "\n",
    "The second odds given that Vitamin C was taken:\n",
    "\n",
    "$odds_2=\\dfrac{P(Z=1|Y=2)}{P(Z=2|Y=2)}=\\dfrac{\\pi_{1|2}}{\\pi_{2|2}}=\\dfrac{\\pi_{1|2}}{1-\\pi_{1|2}}$"
   ]
  },
  {
   "cell_type": "code",
   "execution_count": 10,
   "metadata": {},
   "outputs": [
    {
     "name": "stdout",
     "output_type": "stream",
     "text": [
      "Placebo:\n",
      "Risk estimate row 1:  0.7785714285714286\n",
      "Risk estimate row 2:  0.8776978417266187\n",
      "Col 1 Risk Total:  0.8279569892473119\n",
      "Difference row 1-row2:  0.09912641315519011\n"
     ]
    }
   ],
   "source": [
    "ColSum_2 = table[:2,1].sum()\n",
    "row_sum = table.sum()\n",
    "risk1_col2 = table[0,1] / row_sum1\n",
    "risk2_col2 = table[1,1] / row_sum2\n",
    "rho2 = risk1_col2 / risk2_col2\n",
    "total2 = ColSum_2 / row_sum\n",
    "diff2 = risk2_col2 - risk1_col2\n",
    "\n",
    "print(\"Placebo:\")\n",
    "print(\"Risk estimate row 1: \", risk1_col2)\n",
    "print(\"Risk estimate row 2: \", risk2_col2)\n",
    "print(\"Col 1 Risk Total: \", total2)\n",
    "print(\"Difference row 1-row2: \", diff2)"
   ]
  },
  {
   "cell_type": "markdown",
   "metadata": {},
   "source": [
    "__The confidence interval for the difference in proportions for column 2__"
   ]
  },
  {
   "cell_type": "code",
   "execution_count": 11,
   "metadata": {},
   "outputs": [
    {
     "name": "stdout",
     "output_type": "stream",
     "text": [
      "Placebo SE diff:  0.04476243330709762\n",
      "CI diff : 0.011393656012902625 0.1868591702974776\n"
     ]
    }
   ],
   "source": [
    "CI_significance = stats.norm.ppf(.975)\n",
    "se_diff2 = np.sqrt(risk1_col2*(1-risk1_col2)/row_sum1+ risk2_col2*(1-risk2_col2)/row_sum2)\n",
    "ci_diff2_low = diff2 - CI_significance * se_diff2\n",
    "ci_diff2_hi = diff2 + CI_significance * se_diff2\n",
    "\n",
    "print(\"Placebo SE diff: \", se_diff2)\n",
    "print(\"CI diff :\", ci_diff2_low, ci_diff2_hi )"
   ]
  },
  {
   "cell_type": "markdown",
   "metadata": {},
   "source": [
    "__Estimate of the Odds of the two rows__"
   ]
  },
  {
   "cell_type": "code",
   "execution_count": 12,
   "metadata": {},
   "outputs": [
    {
     "name": "stdout",
     "output_type": "stream",
     "text": [
      "Odds Ratio:  0.4899524061343205\n",
      "Odds1:  0.5523323276862382\n",
      "Odds2:  1.12731832882318\n"
     ]
    }
   ],
   "source": [
    "odds1 = (table[1,0] / row_sum2) / (table[0,0] / row_sum1)\n",
    "odds2 = (table[1,1] / row_sum2) / (table[0,1] / row_sum1)\n",
    "\n",
    "odds_ratio = odds1 / odds2\n",
    "print(\"Odds Ratio: \", odds_ratio)\n",
    "print(\"Odds1: \", odds1)\n",
    "print(\"Odds2: \", odds2)"
   ]
  },
  {
   "cell_type": "markdown",
   "metadata": {},
   "source": [
    "__Odds ratio:__\n",
    "\n",
    "$\\text{log}(0.490)\\pm 1.96 \\sqrt{1/17+1/109+1/122+1/31}$"
   ]
  },
  {
   "cell_type": "code",
   "execution_count": 13,
   "metadata": {},
   "outputs": [
    {
     "name": "stdout",
     "output_type": "stream",
     "text": [
      "Odds Ratio:  0.4899524061343205\n",
      "CI low 0.2569419145023999\n",
      "CI high 0.9342709255580329\n"
     ]
    }
   ],
   "source": [
    "CI_odds_ratio_low = np.exp(np.log(odds_ratio) - CI_significance * np.sqrt((1/table).sum()))\n",
    "CI_odds_ratio_hi = np.exp(np.log(odds_ratio) + CI_significance * np.sqrt((1/table).sum()))\n",
    "\n",
    "\n",
    "\n",
    "print(\"Odds Ratio: \", odds_ratio)\n",
    "print(\"CI low\", CI_odds_ratio_low)\n",
    "print(\"CI high\", CI_odds_ratio_hi)"
   ]
  },
  {
   "cell_type": "markdown",
   "metadata": {},
   "source": [
    "### Interpretation \n",
    "\n",
    "Therefore, $\\hat{\\theta}=0.49$ means that:\n",
    "* the odds of getting a cold given `vitamin C` are __.49 time the odds of getting cold given the placebo__\n",
    "* the odds of getting a cold given a placebo are 1/.49 = __2.04 time greater than the odds given vitamin C__\n",
    "* getting cold is less likely given vitamin C than given a placebo"
   ]
  },
  {
   "cell_type": "code",
   "execution_count": null,
   "metadata": {},
   "outputs": [],
   "source": []
  }
 ],
 "metadata": {
  "kernelspec": {
   "display_name": "bril",
   "language": "python",
   "name": "bril"
  },
  "language_info": {
   "codemirror_mode": {
    "name": "ipython",
    "version": 3
   },
   "file_extension": ".py",
   "mimetype": "text/x-python",
   "name": "python",
   "nbconvert_exporter": "python",
   "pygments_lexer": "ipython3",
   "version": "3.7.3"
  }
 },
 "nbformat": 4,
 "nbformat_minor": 2
}
