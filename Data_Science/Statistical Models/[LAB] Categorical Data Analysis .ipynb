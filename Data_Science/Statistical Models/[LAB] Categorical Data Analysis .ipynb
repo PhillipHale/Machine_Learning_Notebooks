{
 "cells": [
  {
   "cell_type": "markdown",
   "metadata": {},
   "source": [
    "# Lab work for STATS: Advanced Statistical Methodlogy\n",
    "\n",
    "\n",
    "http://www.stat.purdue.edu/~tlzhang/stat526/homework.html"
   ]
  },
  {
   "cell_type": "code",
   "execution_count": 1,
   "metadata": {},
   "outputs": [],
   "source": [
    "import pandas as pd\n",
    "import numpy as np\n",
    "\n",
    "# import plotting libraries\n",
    "import matplotlib.pyplot as plt\n",
    "import seaborn as sns\n",
    "\n",
    "%matplotlib inline\n",
    "plt.style.use('seaborn-white')\n",
    "\n",
    "# Statistical Packages\n",
    "import scipy.stats as stats\n",
    "import statsmodels.api as sm\n",
    "import statsmodels.formula.api as smf"
   ]
  },
  {
   "cell_type": "markdown",
   "metadata": {},
   "source": [
    "## LAB 2\n",
    "\n",
    "> following table was reported\n",
    "* a. Test independence by two sample binomial method and odds ratio respectively\n",
    "* b. Derive a 95% confidence interval for the odds ratio\n",
    "* c. Interpret odds ratio results\n",
    "\n",
    "http://www.stat.purdue.edu/~tlzhang/stat526/hw2_526.pdf"
   ]
  },
  {
   "cell_type": "code",
   "execution_count": 5,
   "metadata": {},
   "outputs": [
    {
     "name": "stdout",
     "output_type": "stream",
     "text": [
      "[[784 236]\n",
      " [311  66]]\n",
      "\n",
      "Victim = Black:\n",
      "Pearson's Chi-squared test with Yates' continuity correction\n",
      "X-squared:  5.15\n",
      "p-value  :  0.023\n",
      "degree of f:  1\n",
      "Odds Ratio CI:  (0.521, 0.954)\n",
      "\n",
      "2x2 Summary:\n",
      "               Estimate   SE   LCB    UCB   p-value\n",
      "---------------------------------------------------\n",
      "Odds ratio        0.705        0.521  0.954   0.024\n",
      "Log odds ratio   -0.350 0.155 -0.652 -0.047   0.024\n",
      "Risk ratio        0.932        0.880  0.987   0.016\n",
      "Log risk ratio   -0.071 0.029 -0.128 -0.013   0.016\n",
      "---------------------------------------------------\n"
     ]
    }
   ],
   "source": [
    "gun = pd.DataFrame(columns=['favor', \"oppose\"], index=['favor', 'oppose'])\n",
    "gun.loc['favor'] = [784, 236]\n",
    "gun.loc['oppose'] = [311, 66]\n",
    "#gun_t = sm.stats.Table(gun)\n",
    "tab = sm.stats.Table2x2(gun.values)\n",
    "print(tab.table_orig)\n",
    "\n",
    "chi2, p, dof, ex = stats.chi2_contingency(gun, correction=False)\n",
    "\n",
    "print(\"\\nVictim = Black:\")\n",
    "print(\"Pearson's Chi-squared test with Yates' continuity correction\")\n",
    "print(\"X-squared: \", round(chi2, 3))\n",
    "print(\"p-value  : \", round(p, 3))\n",
    "print(\"degree of f: \", dof)\n",
    "\n",
    "hi, low = tab.oddsratio_confint()\n",
    "print(\"Odds Ratio CI: \", (round(hi, 3), round(low, 3)))\n",
    "print(\"\\n2x2 Summary:\")\n",
    "print(tab.summary())"
   ]
  },
  {
   "cell_type": "markdown",
   "metadata": {},
   "source": [
    "1. __Test of independence__, with a $\\chi^2$ p-value = 0.023, this is less than 0.05, providing significant evidence to reject the null hypothesis that a relationship exist between `gun_registration` and the `death+penalty`.\n",
    "2. __Odds Ratio:__, with $\\hat\\theta=0.705$ on the odds ratio, we can conclude that favors in gun registration is about 71% least likely than than those who favor the death penalty.\n",
    "3. __Odds Ratio Interpretation:__ The 95% confidence interval for the __odds ratio__ of those that favor gun registration in comparision to opposing gun resitration is $\\hat\\theta=0.705$, which is between (0.521 and 0.954). Since the interval is not between 1, indicating this the relationship is similar and not significant (FTR). \n",
    "\n",
    "\n",
    "__People who favor Gun Registration\n",
    "faver less on Death Penalty. Of those who favor Gun Registration, they were 30% less favor the Death \n",
    "Penalty than those who oppose Gun Registration.__"
   ]
  },
  {
   "cell_type": "code",
   "execution_count": 36,
   "metadata": {},
   "outputs": [
    {
     "data": {
      "text/html": [
       "<div>\n",
       "<style scoped>\n",
       "    .dataframe tbody tr th:only-of-type {\n",
       "        vertical-align: middle;\n",
       "    }\n",
       "\n",
       "    .dataframe tbody tr th {\n",
       "        vertical-align: top;\n",
       "    }\n",
       "\n",
       "    .dataframe thead th {\n",
       "        text-align: right;\n",
       "    }\n",
       "</style>\n",
       "<table border=\"1\" class=\"dataframe\">\n",
       "  <thead>\n",
       "    <tr style=\"text-align: right;\">\n",
       "      <th></th>\n",
       "      <th>breathing</th>\n",
       "      <th>normal</th>\n",
       "      <th>not_normal</th>\n",
       "    </tr>\n",
       "    <tr>\n",
       "      <th>age</th>\n",
       "      <th>smoking</th>\n",
       "      <th></th>\n",
       "      <th></th>\n",
       "    </tr>\n",
       "  </thead>\n",
       "  <tbody>\n",
       "    <tr>\n",
       "      <th rowspan=\"2\" valign=\"top\">old</th>\n",
       "      <th>nonsmoker</th>\n",
       "      <td>164</td>\n",
       "      <td>4</td>\n",
       "    </tr>\n",
       "    <tr>\n",
       "      <th>smoker</th>\n",
       "      <td>245</td>\n",
       "      <td>74</td>\n",
       "    </tr>\n",
       "    <tr>\n",
       "      <th rowspan=\"2\" valign=\"top\">young</th>\n",
       "      <th>nonsmoker</th>\n",
       "      <td>577</td>\n",
       "      <td>34</td>\n",
       "    </tr>\n",
       "    <tr>\n",
       "      <th>smoker</th>\n",
       "      <td>682</td>\n",
       "      <td>57</td>\n",
       "    </tr>\n",
       "  </tbody>\n",
       "</table>\n",
       "</div>"
      ],
      "text/plain": [
       "breathing        normal  not_normal\n",
       "age   smoking                      \n",
       "old   nonsmoker     164           4\n",
       "      smoker        245          74\n",
       "young nonsmoker     577          34\n",
       "      smoker        682          57"
      ]
     },
     "execution_count": 36,
     "metadata": {},
     "output_type": "execute_result"
    }
   ],
   "source": [
    "result = [577,34,682,57,164,4,245,74]\n",
    "d = {\n",
    "    'age': np.repeat(('young','young','young','young',\n",
    "                     'old','old','old','old',), (result)),\n",
    "    'smoking' : np.repeat(('nonsmoker', 'nonsmoker', 'smoker', 'smoker',\n",
    "                          'nonsmoker', 'nonsmoker', 'smoker', 'smoker',), (result)),\n",
    "    'breathing': np.repeat(('normal', 'not_normal', 'normal', 'not_normal',\n",
    "                           'normal', 'not_normal', 'normal', 'not_normal',), (result))\n",
    "}\n",
    "\n",
    "breath = pd.DataFrame(d, columns=['age', 'smoking','breathing'])\n",
    "breath_tb = pd.crosstab([breath.age, breath.smoking], breath.breathing)\n",
    "breath_tb"
   ]
  },
  {
   "cell_type": "code",
   "execution_count": 37,
   "metadata": {},
   "outputs": [],
   "source": [
    "def odds_ratio_test(table):\n",
    "    print(table, \"\\n\")\n",
    "\n",
    "    chi2, p, dof, ex = stats.chi2_contingency(table, correction=False)\n",
    "\n",
    "    print(\"Pearson's Chi-squared test with Yates' continuity correction\")\n",
    "    print(\"X-squared: \", chi2)\n",
    "    print(\"p-value  : \", p)\n",
    "    print(\"degree of f: \", dof)\n",
    "\n",
    "    oddsratio, pvalue = stats.fisher_exact(table, alternative='two-sided')\n",
    "    print(\"Odds Ratio: \", round(oddsratio, 3))\n",
    "\n",
    "    tab = sm.stats.Table2x2(table.values)\n",
    "    print(\"Odds Ratio CI: \", tab.oddsratio_confint())\n",
    "\n",
    "    print(\"\\n2x2 Summary \\n:\", tab.summary())"
   ]
  },
  {
   "cell_type": "markdown",
   "metadata": {},
   "source": [
    "> estimate the odds ratio, give 95% CI and test indedpendece for age less than 40 and age between 40 adn 59, respevtively."
   ]
  },
  {
   "cell_type": "code",
   "execution_count": 38,
   "metadata": {
    "scrolled": true
   },
   "outputs": [
    {
     "name": "stdout",
     "output_type": "stream",
     "text": [
      "breathing  normal  not_normal\n",
      "smoking                      \n",
      "nonsmoker     577          34\n",
      "smoker        682          57 \n",
      "\n",
      "Pearson's Chi-squared test with Yates' continuity correction\n",
      "X-squared:  2.455918816761549\n",
      "p-value  :  0.11708263954444463\n",
      "degree of f:  1\n",
      "Odds Ratio:  1.418\n",
      "Odds Ratio CI:  (0.914446140736943, 2.1999693125303468)\n",
      "\n",
      "2x2 Summary \n",
      ":                Estimate   SE   LCB    UCB  p-value\n",
      "--------------------------------------------------\n",
      "Odds ratio        1.418        0.914 2.200   0.119\n",
      "Log odds ratio    0.350 0.224 -0.089 0.788   0.119\n",
      "Risk ratio        1.023        0.995 1.053   0.112\n",
      "Log risk ratio    0.023 0.014 -0.005 0.051   0.112\n",
      "--------------------------------------------------\n"
     ]
    }
   ],
   "source": [
    "young =pd.crosstab([breath[breath.age==\"young\"].smoking], breath.breathing)\n",
    "odds_ratio_test(young)"
   ]
  },
  {
   "cell_type": "markdown",
   "metadata": {},
   "source": [
    "__interpretation__ \n",
    "* __Independence:__ with a $\\chi^2=2.455$ and the p-value = 0.117, there is overwelming evidence that the smokering for ages < 40 are __NOT independent, in fact they are dependent (related).__ We probabily can say that smoking will cause abnormal breaking test results in a long period of time. \n",
    "* __Odds Ratio:__ we can conclude with a $\\hat\\theta=1.418$, the odds of non-smoker having normal breaking retest results are 42% higher as they are for smokers, given a young participant. We are 95% confidence the true population based on the odds ratio is between 0.883 and 2.124."
   ]
  },
  {
   "cell_type": "code",
   "execution_count": 39,
   "metadata": {},
   "outputs": [
    {
     "name": "stdout",
     "output_type": "stream",
     "text": [
      "breathing  normal  not_normal\n",
      "smoking                      \n",
      "nonsmoker     164           4\n",
      "smoker        245          74 \n",
      "\n",
      "Pearson's Chi-squared test with Yates' continuity correction\n",
      "X-squared:  35.45096789317344\n",
      "p-value  :  2.6155238327504702e-09\n",
      "degree of f:  1\n",
      "Odds Ratio:  12.384\n",
      "Odds Ratio CI:  (4.441584053896396, 34.52717920803201)\n",
      "\n",
      "2x2 Summary \n",
      ":                Estimate   SE   LCB   UCB   p-value\n",
      "--------------------------------------------------\n",
      "Odds ratio       12.384       4.442 34.527   0.000\n",
      "Log odds ratio    2.516 0.523 1.491  3.542   0.000\n",
      "Risk ratio        1.271       1.191  1.356   0.000\n",
      "Log risk ratio    0.240 0.033 0.175  0.305   0.000\n",
      "--------------------------------------------------\n"
     ]
    }
   ],
   "source": [
    "old =pd.crosstab([breath[breath.age==\"old\"].smoking], breath.breathing)\n",
    "odds_ratio_test(old)"
   ]
  },
  {
   "cell_type": "markdown",
   "metadata": {},
   "source": [
    "__interpretation__ \n",
    "* __Independence:__ with a $\\chi^2=35.45$ and the p-value = <0.001, there is overwelming evidence that the smokering for ages > 40 are independent. \n",
    "* __Odds Ratio:__ we can conclude with a $\\hat\\theta=12.384$, the odds of non-smoker having normal breaking retest results are __over 12 time higher__ as they are for smokers, given a young participant. We are 95% confidence the true population based on the odds ratio is between 4.442 and 34.527."
   ]
  },
  {
   "cell_type": "code",
   "execution_count": 40,
   "metadata": {},
   "outputs": [
    {
     "name": "stdout",
     "output_type": "stream",
     "text": [
      "breathing  normal  not_normal\n",
      "smoking                      \n",
      "nonsmoker     741          38\n",
      "smoker        927         131 \n",
      "\n",
      "Pearson's Chi-squared test with Yates' continuity correction\n",
      "X-squared:  30.242136392093776\n",
      "p-value  :  3.813341838310365e-08\n",
      "degree of f:  1\n",
      "Odds Ratio:  2.756\n",
      "Odds Ratio CI:  (1.896169365455782, 4.004748246701448)\n",
      "\n",
      "2x2 Summary \n",
      ":                Estimate   SE   LCB   UCB  p-value\n",
      "-------------------------------------------------\n",
      "Odds ratio        2.756       1.896 4.005   0.000\n",
      "Log odds ratio    1.014 0.191 0.640 1.387   0.000\n",
      "Risk ratio        1.086       1.056 1.116   0.000\n",
      "Log risk ratio    0.082 0.014 0.054 0.110   0.000\n",
      "-------------------------------------------------\n"
     ]
    }
   ],
   "source": [
    "both =pd.crosstab([breath.smoking], breath.breathing)\n",
    "odds_ratio_test(both)"
   ]
  },
  {
   "cell_type": "markdown",
   "metadata": {},
   "source": [
    "__interpretation__ \n",
    "* __Independence:__ with a $\\chi^2=28.49$ and the p-value = <0.001, there is overwelming evidence that the smokering are independent from non-smokers. \n",
    "* __Odds Ratio:__ we can conclude with a $\\hat\\theta=2.681$, the odds of non-smoker having normal breathing test results are __2.7 time higher__ as they are for smokers, given a young participant. We are 95% confidence the true population based on the odds ratio is between 1.845 and 3.897."
   ]
  },
  {
   "cell_type": "code",
   "execution_count": 35,
   "metadata": {},
   "outputs": [
    {
     "data": {
      "text/plain": [
       "9.386105969429338e-08"
      ]
     },
     "execution_count": 35,
     "metadata": {},
     "output_type": "execute_result"
    }
   ],
   "source": [
    "9.386105969429338e-08"
   ]
  },
  {
   "cell_type": "code",
   "execution_count": null,
   "metadata": {},
   "outputs": [],
   "source": []
  },
  {
   "cell_type": "code",
   "execution_count": null,
   "metadata": {},
   "outputs": [],
   "source": []
  },
  {
   "cell_type": "code",
   "execution_count": null,
   "metadata": {},
   "outputs": [],
   "source": []
  },
  {
   "cell_type": "code",
   "execution_count": null,
   "metadata": {},
   "outputs": [],
   "source": []
  },
  {
   "cell_type": "code",
   "execution_count": null,
   "metadata": {},
   "outputs": [],
   "source": []
  },
  {
   "cell_type": "code",
   "execution_count": null,
   "metadata": {},
   "outputs": [],
   "source": []
  },
  {
   "cell_type": "code",
   "execution_count": null,
   "metadata": {},
   "outputs": [],
   "source": []
  },
  {
   "cell_type": "code",
   "execution_count": null,
   "metadata": {},
   "outputs": [],
   "source": []
  },
  {
   "cell_type": "code",
   "execution_count": null,
   "metadata": {},
   "outputs": [],
   "source": []
  },
  {
   "cell_type": "code",
   "execution_count": null,
   "metadata": {},
   "outputs": [],
   "source": []
  },
  {
   "cell_type": "code",
   "execution_count": null,
   "metadata": {},
   "outputs": [],
   "source": []
  },
  {
   "cell_type": "code",
   "execution_count": null,
   "metadata": {},
   "outputs": [],
   "source": []
  },
  {
   "cell_type": "code",
   "execution_count": null,
   "metadata": {},
   "outputs": [],
   "source": []
  },
  {
   "cell_type": "code",
   "execution_count": null,
   "metadata": {},
   "outputs": [],
   "source": []
  },
  {
   "cell_type": "code",
   "execution_count": null,
   "metadata": {},
   "outputs": [],
   "source": []
  },
  {
   "cell_type": "code",
   "execution_count": null,
   "metadata": {},
   "outputs": [],
   "source": []
  },
  {
   "cell_type": "markdown",
   "metadata": {},
   "source": []
  }
 ],
 "metadata": {
  "kernelspec": {
   "display_name": "bril",
   "language": "python",
   "name": "bril"
  },
  "language_info": {
   "codemirror_mode": {
    "name": "ipython",
    "version": 3
   },
   "file_extension": ".py",
   "mimetype": "text/x-python",
   "name": "python",
   "nbconvert_exporter": "python",
   "pygments_lexer": "ipython3",
   "version": "3.7.3"
  }
 },
 "nbformat": 4,
 "nbformat_minor": 2
}
