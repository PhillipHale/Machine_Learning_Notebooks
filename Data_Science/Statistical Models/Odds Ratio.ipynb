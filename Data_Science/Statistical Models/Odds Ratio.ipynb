{
 "cells": [
  {
   "cell_type": "markdown",
   "metadata": {},
   "source": [
    "# Odds Ratios\n",
    "\n",
    "![](https://i.ytimg.com/vi/wJXaroDs9oo/maxresdefault.jpg)\n",
    "\n",
    "http://dept.stat.lsa.umich.edu/~kshedden/Python-Workshop/stats_calculations.html\n",
    "\n",
    "The odds ratio is a measure of dependence bvetween two binary values. Suppose X and Y are tow binary data values, jointly observed on each observe dunit. For example X could be a person's gender (coded 0/1) and Y could be the person's political affiliation (coded 0/1).\n",
    "\n",
    "If nij is the number of units observed with X=i and Y=j (for i,j=0,1), then the odds ratio is\n",
    "\n",
    "(n00n11) / (n10n01)."
   ]
  },
  {
   "cell_type": "code",
   "execution_count": 1,
   "metadata": {},
   "outputs": [],
   "source": [
    "import numpy as np\n",
    "from scipy.stats.distributions import norm"
   ]
  },
  {
   "cell_type": "code",
   "execution_count": 6,
   "metadata": {},
   "outputs": [
    {
     "data": {
      "text/plain": [
       "2.7841248116271244"
      ]
     },
     "execution_count": 6,
     "metadata": {},
     "output_type": "execute_result"
    }
   ],
   "source": [
    "N = np.array([[35,23], [20,29]]) \n",
    "LOR = np.log(N[0,0]) + np.log(N[1,1]) - np.log(np.log(N[0,1])) - np.log(N[1,0])\n",
    "LOR"
   ]
  },
  {
   "cell_type": "markdown",
   "metadata": {},
   "source": [
    "sqrt(1/n00 + 1/n01 + 1/n10 + 1/n11),\n",
    "\n"
   ]
  },
  {
   "cell_type": "code",
   "execution_count": 7,
   "metadata": {},
   "outputs": [
    {
     "data": {
      "text/plain": [
       "0.39564181788795205"
      ]
     },
     "execution_count": 7,
     "metadata": {},
     "output_type": "execute_result"
    }
   ],
   "source": [
    "SE = np.sqrt(np.sum(1/N.astype(np.float64)))\n",
    "SE"
   ]
  },
  {
   "cell_type": "markdown",
   "metadata": {},
   "source": [
    "Here is a simulation study assessing the performance of the 95% confidence interval based on this standard error. We also look at the bias of the estimated log odds ratio."
   ]
  },
  {
   "cell_type": "code",
   "execution_count": 12,
   "metadata": {},
   "outputs": [
    {
     "data": {
      "text/plain": [
       "array([[0, 1, 1, ..., 1, 2, 3],\n",
       "       [3, 0, 1, ..., 3, 0, 3],\n",
       "       [0, 3, 1, ..., 3, 1, 2],\n",
       "       ...,\n",
       "       [3, 3, 1, ..., 3, 3, 3],\n",
       "       [3, 3, 3, ..., 0, 3, 1],\n",
       "       [3, 1, 0, ..., 0, 3, 0]])"
      ]
     },
     "execution_count": 12,
     "metadata": {},
     "output_type": "execute_result"
    }
   ],
   "source": [
    "## Simulation study for the log odds ratio\n",
    "\n",
    "from scipy.stats import rv_discrete\n",
    "\n",
    "## Cell probabilities\n",
    "P = np.array([[0.3,0.2],[0.1,0.4]])\n",
    "\n",
    "## The population log odds ratio\n",
    "PLOR = np.log(P[0,0]) + np.log(P[1,1]) - np.log(P[0,1]) - np.log(P[1,0])\n",
    "\n",
    "## Sample size\n",
    "n = 100\n",
    "\n",
    "## Number of simulated data sets\n",
    "nrep = 1000\n",
    "\n",
    "## ravel vectorizes by row\n",
    "m = rv_discrete(values=((0,1,2,3), P.ravel()))\n",
    "\n",
    "## Generate the data\n",
    "D = m.rvs(size=(nrep,n))\n",
    "D"
   ]
  },
  {
   "cell_type": "code",
   "execution_count": 15,
   "metadata": {},
   "outputs": [
    {
     "data": {
      "text/plain": [
       "array([[25., 18., 11., 46.],\n",
       "       [34., 15., 10., 41.],\n",
       "       [29., 14., 12., 45.],\n",
       "       ...,\n",
       "       [26., 17., 13., 44.],\n",
       "       [29., 21.,  7., 43.],\n",
       "       [34., 20.,  6., 40.]])"
      ]
     },
     "execution_count": 15,
     "metadata": {},
     "output_type": "execute_result"
    }
   ],
   "source": [
    "## Convert to cell counts\n",
    "Q = np.zeros((nrep,4))\n",
    "for j in range(4):\n",
    "    Q[:,j] = (D == j).sum(1)\n",
    "Q"
   ]
  },
  {
   "cell_type": "code",
   "execution_count": 16,
   "metadata": {},
   "outputs": [
    {
     "name": "stdout",
     "output_type": "stream",
     "text": [
      "The mean estimated standard error is 0.473\n",
      "The standard deviation of the estimates is 0.504\n"
     ]
    }
   ],
   "source": [
    "## Calculate the log odds ratio\n",
    "LOR = np.log(Q[:,0]) + np.log(Q[:,3]) - np.log(Q[:,1]) - np.log(Q[:,2])\n",
    "\n",
    "## The standard error\n",
    "SE = np.sqrt((1/Q.astype(np.float64)).sum(1))\n",
    "\n",
    "print( \"The mean estimated standard error is %.3f\" % SE.mean())\n",
    "print( \"The standard deviation of the estimates is %.3f\" % LOR.std())\n"
   ]
  },
  {
   "cell_type": "code",
   "execution_count": 17,
   "metadata": {},
   "outputs": [
    {
     "name": "stdout",
     "output_type": "stream",
     "text": [
      "The population LOR is 1.79\n",
      "The expected value of the estimated LOR is 1.86\n",
      "The coverage probability of the 95% CI is 0.950\n"
     ]
    }
   ],
   "source": [
    "## 95% confidence intervals\n",
    "LCL = LOR - 2*SE\n",
    "UCL = LOR + 2*SE\n",
    "\n",
    "## Coverage probability\n",
    "CP = np.mean((PLOR > LCL) & (PLOR < UCL))\n",
    "\n",
    "print( \"The population LOR is %.2f\" % PLOR)\n",
    "print( \"The expected value of the estimated LOR is %.2f\" % LOR[np.isfinite(LOR)].mean())\n",
    "print( \"The coverage probability of the 95%% CI is %.3f\" % CP)"
   ]
  }
 ],
 "metadata": {
  "kernelspec": {
   "display_name": "bril",
   "language": "python",
   "name": "bril"
  },
  "language_info": {
   "codemirror_mode": {
    "name": "ipython",
    "version": 3
   },
   "file_extension": ".py",
   "mimetype": "text/x-python",
   "name": "python",
   "nbconvert_exporter": "python",
   "pygments_lexer": "ipython3",
   "version": "3.7.3"
  }
 },
 "nbformat": 4,
 "nbformat_minor": 2
}
