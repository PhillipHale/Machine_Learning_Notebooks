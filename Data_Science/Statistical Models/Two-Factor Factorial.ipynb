{
 "cells": [
  {
   "cell_type": "markdown",
   "metadata": {},
   "source": [
    "# Two Factor ANOVA\n",
    "\n",
    "\n",
    "### Green House Gasses\n",
    "![](https://image.slidesharecdn.com/greenhouseeffect-140109053434-phpapp02/95/greenhouse-effect-1-638.jpg?cb=1389245852)\n",
    "\n",
    "\n",
    "Considering the __Fertilizer Treatment__ with the addition of the plant specieis impacting the plant height\n",
    "\n",
    "source: [PSU Stats 502 Factorial Treatment Designs](https://newonlinecourses.science.psu.edu/stat502/node/154/)"
   ]
  },
  {
   "cell_type": "code",
   "execution_count": 6,
   "metadata": {},
   "outputs": [],
   "source": [
    "# http://www.pybloggers.com/2016/03/three-ways-to-do-a-two-way-anova-with-python/\n",
    "import pandas as pd\n",
    "from statsmodels.formula.api import ols\n",
    "from statsmodels.stats.anova import anova_lm\n",
    "from statsmodels.graphics.factorplots import interaction_plot\n",
    "import matplotlib.pyplot as plt\n",
    "from scipy import stats"
   ]
  },
  {
   "cell_type": "code",
   "execution_count": 22,
   "metadata": {},
   "outputs": [
    {
     "data": {
      "text/html": [
       "<div>\n",
       "<style scoped>\n",
       "    .dataframe tbody tr th:only-of-type {\n",
       "        vertical-align: middle;\n",
       "    }\n",
       "\n",
       "    .dataframe tbody tr th {\n",
       "        vertical-align: top;\n",
       "    }\n",
       "\n",
       "    .dataframe thead th {\n",
       "        text-align: right;\n",
       "    }\n",
       "</style>\n",
       "<table border=\"1\" class=\"dataframe\">\n",
       "  <thead>\n",
       "    <tr style=\"text-align: right;\">\n",
       "      <th></th>\n",
       "      <th>fert</th>\n",
       "      <th>species</th>\n",
       "      <th>height</th>\n",
       "    </tr>\n",
       "  </thead>\n",
       "  <tbody>\n",
       "    <tr>\n",
       "      <th>0</th>\n",
       "      <td>control</td>\n",
       "      <td>SppA</td>\n",
       "      <td>21.0</td>\n",
       "    </tr>\n",
       "    <tr>\n",
       "      <th>1</th>\n",
       "      <td>control</td>\n",
       "      <td>SppA</td>\n",
       "      <td>19.5</td>\n",
       "    </tr>\n",
       "    <tr>\n",
       "      <th>2</th>\n",
       "      <td>control</td>\n",
       "      <td>SppA</td>\n",
       "      <td>22.5</td>\n",
       "    </tr>\n",
       "    <tr>\n",
       "      <th>3</th>\n",
       "      <td>control</td>\n",
       "      <td>SppA</td>\n",
       "      <td>21.5</td>\n",
       "    </tr>\n",
       "    <tr>\n",
       "      <th>4</th>\n",
       "      <td>control</td>\n",
       "      <td>SppA</td>\n",
       "      <td>20.5</td>\n",
       "    </tr>\n",
       "  </tbody>\n",
       "</table>\n",
       "</div>"
      ],
      "text/plain": [
       "      fert species  height\n",
       "0  control    SppA    21.0\n",
       "1  control    SppA    19.5\n",
       "2  control    SppA    22.5\n",
       "3  control    SppA    21.5\n",
       "4  control    SppA    20.5"
      ]
     },
     "execution_count": 22,
     "metadata": {},
     "output_type": "execute_result"
    }
   ],
   "source": [
    "df = pd.read_csv(\"./data/greenhouse.csv\")\n",
    "df.head()"
   ]
  },
  {
   "cell_type": "markdown",
   "metadata": {},
   "source": [
    "Graph the ferterlizer data to preview/visualize the factoral data. We are using `statsmodels interaction_plot`."
   ]
  },
  {
   "cell_type": "code",
   "execution_count": 12,
   "metadata": {},
   "outputs": [
    {
     "data": {
      "image/png": "[encoded data removed]",
      "text/plain": [
       "<Figure size 432x288 with 1 Axes>"
      ]
     },
     "metadata": {
      "needs_background": "light"
     },
     "output_type": "display_data"
    }
   ],
   "source": [
    "fig = interaction_plot(df.fert, df.species, df.height,\n",
    "             colors=['red','blue'], markers=['D','^'], ms=10)"
   ]
  },
  {
   "cell_type": "markdown",
   "metadata": {},
   "source": [
    "In the above interaction graph, the `species` appear to be parallel indicating a __small effact__ in the `control` and as you go from `f1` to `f3` the effect become larger and larger, __with no interaction__\n",
    "\n",
    "### Two Factor Factorial Model\n",
    "use the method `type = 3` that provide us the `F test` calculation. "
   ]
  },
  {
   "cell_type": "code",
   "execution_count": 40,
   "metadata": {},
   "outputs": [
    {
     "data": {
      "text/html": [
       "<div>\n",
       "<style scoped>\n",
       "    .dataframe tbody tr th:only-of-type {\n",
       "        vertical-align: middle;\n",
       "    }\n",
       "\n",
       "    .dataframe tbody tr th {\n",
       "        vertical-align: top;\n",
       "    }\n",
       "\n",
       "    .dataframe thead th {\n",
       "        text-align: right;\n",
       "    }\n",
       "</style>\n",
       "<table border=\"1\" class=\"dataframe\">\n",
       "  <thead>\n",
       "    <tr style=\"text-align: right;\">\n",
       "      <th></th>\n",
       "      <th>sum_sq</th>\n",
       "      <th>df</th>\n",
       "      <th>F</th>\n",
       "      <th>PR(&gt;F)</th>\n",
       "    </tr>\n",
       "  </thead>\n",
       "  <tbody>\n",
       "    <tr>\n",
       "      <th>C(fert)</th>\n",
       "      <td>745.437500</td>\n",
       "      <td>3.0</td>\n",
       "      <td>73.098232</td>\n",
       "      <td>2.765659e-16</td>\n",
       "    </tr>\n",
       "    <tr>\n",
       "      <th>C(species)</th>\n",
       "      <td>236.740833</td>\n",
       "      <td>1.0</td>\n",
       "      <td>69.645020</td>\n",
       "      <td>2.706508e-10</td>\n",
       "    </tr>\n",
       "    <tr>\n",
       "      <th>C(fert):C(species)</th>\n",
       "      <td>50.584167</td>\n",
       "      <td>3.0</td>\n",
       "      <td>4.960326</td>\n",
       "      <td>5.080577e-03</td>\n",
       "    </tr>\n",
       "    <tr>\n",
       "      <th>Residual</th>\n",
       "      <td>135.970000</td>\n",
       "      <td>40.0</td>\n",
       "      <td>NaN</td>\n",
       "      <td>NaN</td>\n",
       "    </tr>\n",
       "  </tbody>\n",
       "</table>\n",
       "</div>"
      ],
      "text/plain": [
       "                        sum_sq    df          F        PR(>F)\n",
       "C(fert)             745.437500   3.0  73.098232  2.765659e-16\n",
       "C(species)          236.740833   1.0  69.645020  2.706508e-10\n",
       "C(fert):C(species)   50.584167   3.0   4.960326  5.080577e-03\n",
       "Residual            135.970000  40.0        NaN           NaN"
      ]
     },
     "execution_count": 40,
     "metadata": {},
     "output_type": "execute_result"
    }
   ],
   "source": [
    "#formula = 'height ~ C(fert) + C(species) + C(fert):C(species)'\n",
    "#model = ols(formula, df).fit()\n",
    "model = ols('height ~ C(fert) + C(species) + C(fert):C(species)', data=df).fit()\n",
    "aov_table = anova_lm(model, typ=2)\n",
    "aov_table"
   ]
  },
  {
   "cell_type": "code",
   "execution_count": 27,
   "metadata": {},
   "outputs": [
    {
     "data": {
      "text/html": [
       "<table class=\"simpletable\">\n",
       "<caption>OLS Regression Results</caption>\n",
       "<tr>\n",
       "  <th>Dep. Variable:</th>         <td>height</td>      <th>  R-squared:         </th> <td>   0.884</td>\n",
       "</tr>\n",
       "<tr>\n",
       "  <th>Model:</th>                   <td>OLS</td>       <th>  Adj. R-squared:    </th> <td>   0.863</td>\n",
       "</tr>\n",
       "<tr>\n",
       "  <th>Method:</th>             <td>Least Squares</td>  <th>  F-statistic:       </th> <td>   43.40</td>\n",
       "</tr>\n",
       "<tr>\n",
       "  <th>Date:</th>             <td>Fri, 24 May 2019</td> <th>  Prob (F-statistic):</th> <td>1.02e-16</td>\n",
       "</tr>\n",
       "<tr>\n",
       "  <th>Time:</th>                 <td>06:43:38</td>     <th>  Log-Likelihood:    </th> <td> -93.099</td>\n",
       "</tr>\n",
       "<tr>\n",
       "  <th>No. Observations:</th>      <td>    48</td>      <th>  AIC:               </th> <td>   202.2</td>\n",
       "</tr>\n",
       "<tr>\n",
       "  <th>Df Residuals:</th>          <td>    40</td>      <th>  BIC:               </th> <td>   217.2</td>\n",
       "</tr>\n",
       "<tr>\n",
       "  <th>Df Model:</th>              <td>     7</td>      <th>                     </th>     <td> </td>   \n",
       "</tr>\n",
       "<tr>\n",
       "  <th>Covariance Type:</th>      <td>nonrobust</td>    <th>                     </th>     <td> </td>   \n",
       "</tr>\n",
       "</table>\n",
       "<table class=\"simpletable\">\n",
       "<tr>\n",
       "                  <td></td>                    <th>coef</th>     <th>std err</th>      <th>t</th>      <th>P>|t|</th>  <th>[0.025</th>    <th>0.975]</th>  \n",
       "</tr>\n",
       "<tr>\n",
       "  <th>Intercept</th>                        <td>   21.0000</td> <td>    0.753</td> <td>   27.900</td> <td> 0.000</td> <td>   19.479</td> <td>   22.521</td>\n",
       "</tr>\n",
       "<tr>\n",
       "  <th>C(fert)[T.f1]</th>                    <td>    7.6000</td> <td>    1.064</td> <td>    7.140</td> <td> 0.000</td> <td>    5.449</td> <td>    9.751</td>\n",
       "</tr>\n",
       "<tr>\n",
       "  <th>C(fert)[T.f2]</th>                    <td>    4.8667</td> <td>    1.064</td> <td>    4.572</td> <td> 0.000</td> <td>    2.715</td> <td>    7.018</td>\n",
       "</tr>\n",
       "<tr>\n",
       "  <th>C(fert)[T.f3]</th>                    <td>    8.2000</td> <td>    1.064</td> <td>    7.703</td> <td> 0.000</td> <td>    6.049</td> <td>   10.351</td>\n",
       "</tr>\n",
       "<tr>\n",
       "  <th>C(species)[T.SppB]</th>               <td>    2.7000</td> <td>    1.064</td> <td>    2.536</td> <td> 0.015</td> <td>    0.549</td> <td>    4.851</td>\n",
       "</tr>\n",
       "<tr>\n",
       "  <th>C(fert)[T.f1]:C(species)[T.SppB]</th> <td>    0.3167</td> <td>    1.505</td> <td>    0.210</td> <td> 0.834</td> <td>   -2.726</td> <td>    3.359</td>\n",
       "</tr>\n",
       "<tr>\n",
       "  <th>C(fert)[T.f2]:C(species)[T.SppB]</th> <td>    1.4833</td> <td>    1.505</td> <td>    0.985</td> <td> 0.330</td> <td>   -1.559</td> <td>    4.526</td>\n",
       "</tr>\n",
       "<tr>\n",
       "  <th>C(fert)[T.f3]:C(species)[T.SppB]</th> <td>    5.1667</td> <td>    1.505</td> <td>    3.432</td> <td> 0.001</td> <td>    2.124</td> <td>    8.209</td>\n",
       "</tr>\n",
       "</table>\n",
       "<table class=\"simpletable\">\n",
       "<tr>\n",
       "  <th>Omnibus:</th>       <td> 3.397</td> <th>  Durbin-Watson:     </th> <td>   1.925</td>\n",
       "</tr>\n",
       "<tr>\n",
       "  <th>Prob(Omnibus):</th> <td> 0.183</td> <th>  Jarque-Bera (JB):  </th> <td>   3.039</td>\n",
       "</tr>\n",
       "<tr>\n",
       "  <th>Skew:</th>          <td>-0.054</td> <th>  Prob(JB):          </th> <td>   0.219</td>\n",
       "</tr>\n",
       "<tr>\n",
       "  <th>Kurtosis:</th>      <td> 4.228</td> <th>  Cond. No.          </th> <td>    12.5</td>\n",
       "</tr>\n",
       "</table><br/><br/>Warnings:<br/>[1] Standard Errors assume that the covariance matrix of the errors is correctly specified."
      ],
      "text/plain": [
       "<class 'statsmodels.iolib.summary.Summary'>\n",
       "\"\"\"\n",
       "                            OLS Regression Results                            \n",
       "==============================================================================\n",
       "Dep. Variable:                 height   R-squared:                       0.884\n",
       "Model:                            OLS   Adj. R-squared:                  0.863\n",
       "Method:                 Least Squares   F-statistic:                     43.40\n",
       "Date:                Fri, 24 May 2019   Prob (F-statistic):           1.02e-16\n",
       "Time:                        06:43:38   Log-Likelihood:                -93.099\n",
       "No. Observations:                  48   AIC:                             202.2\n",
       "Df Residuals:                      40   BIC:                             217.2\n",
       "Df Model:                           7                                         \n",
       "Covariance Type:            nonrobust                                         \n",
       "====================================================================================================\n",
       "                                       coef    std err          t      P>|t|      [0.025      0.975]\n",
       "----------------------------------------------------------------------------------------------------\n",
       "Intercept                           21.0000      0.753     27.900      0.000      19.479      22.521\n",
       "C(fert)[T.f1]                        7.6000      1.064      7.140      0.000       5.449       9.751\n",
       "C(fert)[T.f2]                        4.8667      1.064      4.572      0.000       2.715       7.018\n",
       "C(fert)[T.f3]                        8.2000      1.064      7.703      0.000       6.049      10.351\n",
       "C(species)[T.SppB]                   2.7000      1.064      2.536      0.015       0.549       4.851\n",
       "C(fert)[T.f1]:C(species)[T.SppB]     0.3167      1.505      0.210      0.834      -2.726       3.359\n",
       "C(fert)[T.f2]:C(species)[T.SppB]     1.4833      1.505      0.985      0.330      -1.559       4.526\n",
       "C(fert)[T.f3]:C(species)[T.SppB]     5.1667      1.505      3.432      0.001       2.124       8.209\n",
       "==============================================================================\n",
       "Omnibus:                        3.397   Durbin-Watson:                   1.925\n",
       "Prob(Omnibus):                  0.183   Jarque-Bera (JB):                3.039\n",
       "Skew:                          -0.054   Prob(JB):                        0.219\n",
       "Kurtosis:                       4.228   Cond. No.                         12.5\n",
       "==============================================================================\n",
       "\n",
       "Warnings:\n",
       "[1] Standard Errors assume that the covariance matrix of the errors is correctly specified.\n",
       "\"\"\""
      ]
     },
     "execution_count": 27,
     "metadata": {},
     "output_type": "execute_result"
    }
   ],
   "source": [
    "model.summary()"
   ]
  },
  {
   "cell_type": "markdown",
   "metadata": {},
   "source": [
    "QQ PLot using statsmodels"
   ]
  },
  {
   "cell_type": "code",
   "execution_count": 29,
   "metadata": {},
   "outputs": [
    {
     "data": {
      "image/png": "[encoded data removed]",
      "text/plain": [
       "<Figure size 432x288 with 1 Axes>"
      ]
     },
     "metadata": {
      "needs_background": "light"
     },
     "output_type": "display_data"
    }
   ],
   "source": [
    "res = model.resid \n",
    "fig = sm.qqplot(res, line='s')\n",
    "plt.show()"
   ]
  },
  {
   "cell_type": "code",
   "execution_count": null,
   "metadata": {},
   "outputs": [],
   "source": []
  }
 ],
 "metadata": {
  "kernelspec": {
   "display_name": "Python 3",
   "language": "python",
   "name": "python3"
  },
  "language_info": {
   "codemirror_mode": {
    "name": "ipython",
    "version": 3
   },
   "file_extension": ".py",
   "mimetype": "text/x-python",
   "name": "python",
   "nbconvert_exporter": "python",
   "pygments_lexer": "ipython3",
   "version": "3.7.3"
  }
 },
 "nbformat": 4,
 "nbformat_minor": 2
}
