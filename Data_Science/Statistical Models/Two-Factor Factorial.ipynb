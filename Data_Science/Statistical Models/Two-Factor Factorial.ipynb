{
 "cells": [
  {
   "cell_type": "markdown",
   "metadata": {},
   "source": [
    "# Two Factor ANOVA\n",
    "\n",
    "\n",
    "### Green House Gasses\n",
    "![](https://image.slidesharecdn.com/greenhouseeffect-140109053434-phpapp02/95/greenhouse-effect-1-638.jpg?cb=1389245852)\n",
    "\n",
    "\n",
    "Considering the __Fertilizer Treatment__ with the addition of the plant specieis impacting the plant height\n",
    "\n",
    "Basically, we are performing __Two-way (two factor) ANOVA__ wher we can simultaneously evaluate how type of `plant species` and `fert` affect the plant `height`. \n",
    "\n",
    "source: [PSU Stats 502 Factorial Treatment Designs](https://newonlinecourses.science.psu.edu/stat502/node/154/)"
   ]
  },
  {
   "cell_type": "code",
   "execution_count": 51,
   "metadata": {},
   "outputs": [],
   "source": [
    "# http://www.pybloggers.com/2016/03/three-ways-to-do-a-two-way-anova-with-python/\n",
    "import pandas as pd\n",
    "import seaborn as sns\n",
    "from statsmodels.formula.api import ols\n",
    "from statsmodels.stats.anova import anova_lm\n",
    "from statsmodels.graphics.factorplots import interaction_plot\n",
    "import matplotlib.pyplot as plt\n",
    "from scipy import stats"
   ]
  },
  {
   "cell_type": "code",
   "execution_count": 22,
   "metadata": {},
   "outputs": [
    {
     "data": {
      "text/html": [
       "<div>\n",
       "<style scoped>\n",
       "    .dataframe tbody tr th:only-of-type {\n",
       "        vertical-align: middle;\n",
       "    }\n",
       "\n",
       "    .dataframe tbody tr th {\n",
       "        vertical-align: top;\n",
       "    }\n",
       "\n",
       "    .dataframe thead th {\n",
       "        text-align: right;\n",
       "    }\n",
       "</style>\n",
       "<table border=\"1\" class=\"dataframe\">\n",
       "  <thead>\n",
       "    <tr style=\"text-align: right;\">\n",
       "      <th></th>\n",
       "      <th>fert</th>\n",
       "      <th>species</th>\n",
       "      <th>height</th>\n",
       "    </tr>\n",
       "  </thead>\n",
       "  <tbody>\n",
       "    <tr>\n",
       "      <th>0</th>\n",
       "      <td>control</td>\n",
       "      <td>SppA</td>\n",
       "      <td>21.0</td>\n",
       "    </tr>\n",
       "    <tr>\n",
       "      <th>1</th>\n",
       "      <td>control</td>\n",
       "      <td>SppA</td>\n",
       "      <td>19.5</td>\n",
       "    </tr>\n",
       "    <tr>\n",
       "      <th>2</th>\n",
       "      <td>control</td>\n",
       "      <td>SppA</td>\n",
       "      <td>22.5</td>\n",
       "    </tr>\n",
       "    <tr>\n",
       "      <th>3</th>\n",
       "      <td>control</td>\n",
       "      <td>SppA</td>\n",
       "      <td>21.5</td>\n",
       "    </tr>\n",
       "    <tr>\n",
       "      <th>4</th>\n",
       "      <td>control</td>\n",
       "      <td>SppA</td>\n",
       "      <td>20.5</td>\n",
       "    </tr>\n",
       "  </tbody>\n",
       "</table>\n",
       "</div>"
      ],
      "text/plain": [
       "      fert species  height\n",
       "0  control    SppA    21.0\n",
       "1  control    SppA    19.5\n",
       "2  control    SppA    22.5\n",
       "3  control    SppA    21.5\n",
       "4  control    SppA    20.5"
      ]
     },
     "execution_count": 22,
     "metadata": {},
     "output_type": "execute_result"
    }
   ],
   "source": [
    "df = pd.read_csv(\"./data/greenhouse.csv\")\n",
    "df.head()"
   ]
  },
  {
   "cell_type": "markdown",
   "metadata": {},
   "source": [
    "Graph the ferterlizer data to preview/visualize the factoral data. We are using `statsmodels interaction_plot`."
   ]
  },
  {
   "cell_type": "code",
   "execution_count": 12,
   "metadata": {},
   "outputs": [
    {
     "data": {
      "image/png": "[encoded data removed]",
      "text/plain": [
       "<Figure size 432x288 with 1 Axes>"
      ]
     },
     "metadata": {
      "needs_background": "light"
     },
     "output_type": "display_data"
    }
   ],
   "source": [
    "fig = interaction_plot(df.fert, df.species, df.height,\n",
    "             colors=['red','blue'], markers=['D','^'], ms=10)"
   ]
  },
  {
   "cell_type": "markdown",
   "metadata": {},
   "source": [
    "In the above interaction graph, the `species` appear to be parallel indicating a __small effact__ in the `control` and as you go from `f1` to `f3` the effect become larger and larger, __with no interaction__\n",
    "\n"
   ]
  },
  {
   "cell_type": "markdown",
   "metadata": {},
   "source": [
    "Generate box plot to assess data distribution to assess difference between differnt groups"
   ]
  },
  {
   "cell_type": "code",
   "execution_count": 57,
   "metadata": {},
   "outputs": [
    {
     "data": {
      "text/plain": [
       "<matplotlib.axes._subplots.AxesSubplot at 0x7f66b77c1e80>"
      ]
     },
     "execution_count": 57,
     "metadata": {},
     "output_type": "execute_result"
    },
    {
     "data": {
      "image/png": "[encoded data removed]",
      "text/plain": [
       "<Figure size 432x288 with 1 Axes>"
      ]
     },
     "metadata": {
      "needs_background": "light"
     },
     "output_type": "display_data"
    }
   ],
   "source": [
    "sns.boxplot('fert', 'height', hue='species', data = df)"
   ]
  },
  {
   "cell_type": "markdown",
   "metadata": {},
   "source": [
    "### Two Factor Factorial Model\n",
    "use the method `type = 3` that provide us the `F test` calculation. And we specify two factors as class variables because they are categorical. "
   ]
  },
  {
   "cell_type": "code",
   "execution_count": 42,
   "metadata": {},
   "outputs": [
    {
     "data": {
      "text/html": [
       "<div>\n",
       "<style scoped>\n",
       "    .dataframe tbody tr th:only-of-type {\n",
       "        vertical-align: middle;\n",
       "    }\n",
       "\n",
       "    .dataframe tbody tr th {\n",
       "        vertical-align: top;\n",
       "    }\n",
       "\n",
       "    .dataframe thead th {\n",
       "        text-align: right;\n",
       "    }\n",
       "</style>\n",
       "<table border=\"1\" class=\"dataframe\">\n",
       "  <thead>\n",
       "    <tr style=\"text-align: right;\">\n",
       "      <th></th>\n",
       "      <th>sum_sq</th>\n",
       "      <th>df</th>\n",
       "      <th>F</th>\n",
       "      <th>PR(&gt;F)</th>\n",
       "    </tr>\n",
       "  </thead>\n",
       "  <tbody>\n",
       "    <tr>\n",
       "      <th>fert</th>\n",
       "      <td>745.437500</td>\n",
       "      <td>3.0</td>\n",
       "      <td>73.098232</td>\n",
       "      <td>2.765659e-16</td>\n",
       "    </tr>\n",
       "    <tr>\n",
       "      <th>species</th>\n",
       "      <td>236.740833</td>\n",
       "      <td>1.0</td>\n",
       "      <td>69.645020</td>\n",
       "      <td>2.706508e-10</td>\n",
       "    </tr>\n",
       "    <tr>\n",
       "      <th>fert:species</th>\n",
       "      <td>50.584167</td>\n",
       "      <td>3.0</td>\n",
       "      <td>4.960326</td>\n",
       "      <td>5.080577e-03</td>\n",
       "    </tr>\n",
       "    <tr>\n",
       "      <th>Residual</th>\n",
       "      <td>135.970000</td>\n",
       "      <td>40.0</td>\n",
       "      <td>NaN</td>\n",
       "      <td>NaN</td>\n",
       "    </tr>\n",
       "  </tbody>\n",
       "</table>\n",
       "</div>"
      ],
      "text/plain": [
       "                  sum_sq    df          F        PR(>F)\n",
       "fert          745.437500   3.0  73.098232  2.765659e-16\n",
       "species       236.740833   1.0  69.645020  2.706508e-10\n",
       "fert:species   50.584167   3.0   4.960326  5.080577e-03\n",
       "Residual      135.970000  40.0        NaN           NaN"
      ]
     },
     "execution_count": 42,
     "metadata": {},
     "output_type": "execute_result"
    }
   ],
   "source": [
    "model = ols('height ~ fert + species + fert*species', data=df).fit()\n",
    "aov_table = anova_lm(model, typ=2)\n",
    "aov_table"
   ]
  },
  {
   "cell_type": "markdown",
   "metadata": {},
   "source": [
    "## Conclusion\n",
    "we see that the __interaction term__ `fert*species` __is significant__. As a rule we __interprept the first interaction term__. We dont have to assess `fert` or `species` since the interaction term is significant because, the interaction term tells us that the effect of the levels of `fert` depends on what level `specieis` is being considered (and vice-versa)"
   ]
  },
  {
   "cell_type": "markdown",
   "metadata": {},
   "source": [
    "QQ PLot using statsmodels"
   ]
  },
  {
   "cell_type": "code",
   "execution_count": 29,
   "metadata": {
    "scrolled": true
   },
   "outputs": [
    {
     "data": {
      "image/png": "[encoded data removed]",
      "text/plain": [
       "<Figure size 432x288 with 1 Axes>"
      ]
     },
     "metadata": {
      "needs_background": "light"
     },
     "output_type": "display_data"
    }
   ],
   "source": [
    "res = model.resid \n",
    "fig = sm.qqplot(res, line='s')\n",
    "plt.show()"
   ]
  },
  {
   "cell_type": "markdown",
   "metadata": {},
   "source": [
    "### Ad-hoc Testing\n",
    "Since there was a significnat interaction from the ANOVA model, we can now perform adhoc tesing to assess whether the factor level of `fert` and `specieis` have a role on height. "
   ]
  },
  {
   "cell_type": "code",
   "execution_count": 44,
   "metadata": {},
   "outputs": [],
   "source": [
    "from statsmodels.stats.multicomp import pairwise_tukeyhsd"
   ]
  },
  {
   "cell_type": "code",
   "execution_count": 50,
   "metadata": {},
   "outputs": [
    {
     "data": {
      "text/html": [
       "<div>\n",
       "<style scoped>\n",
       "    .dataframe tbody tr th:only-of-type {\n",
       "        vertical-align: middle;\n",
       "    }\n",
       "\n",
       "    .dataframe tbody tr th {\n",
       "        vertical-align: top;\n",
       "    }\n",
       "\n",
       "    .dataframe thead th {\n",
       "        text-align: right;\n",
       "    }\n",
       "</style>\n",
       "<table border=\"1\" class=\"dataframe\">\n",
       "  <thead>\n",
       "    <tr style=\"text-align: right;\">\n",
       "      <th></th>\n",
       "      <th>height</th>\n",
       "      <th>variable</th>\n",
       "      <th>value</th>\n",
       "    </tr>\n",
       "  </thead>\n",
       "  <tbody>\n",
       "    <tr>\n",
       "      <th>0</th>\n",
       "      <td>21.0</td>\n",
       "      <td>fert</td>\n",
       "      <td>control</td>\n",
       "    </tr>\n",
       "    <tr>\n",
       "      <th>1</th>\n",
       "      <td>19.5</td>\n",
       "      <td>fert</td>\n",
       "      <td>control</td>\n",
       "    </tr>\n",
       "    <tr>\n",
       "      <th>2</th>\n",
       "      <td>22.5</td>\n",
       "      <td>fert</td>\n",
       "      <td>control</td>\n",
       "    </tr>\n",
       "    <tr>\n",
       "      <th>3</th>\n",
       "      <td>21.5</td>\n",
       "      <td>fert</td>\n",
       "      <td>control</td>\n",
       "    </tr>\n",
       "    <tr>\n",
       "      <th>4</th>\n",
       "      <td>20.5</td>\n",
       "      <td>fert</td>\n",
       "      <td>control</td>\n",
       "    </tr>\n",
       "  </tbody>\n",
       "</table>\n",
       "</div>"
      ],
      "text/plain": [
       "   height variable    value\n",
       "0    21.0     fert  control\n",
       "1    19.5     fert  control\n",
       "2    22.5     fert  control\n",
       "3    21.5     fert  control\n",
       "4    20.5     fert  control"
      ]
     },
     "execution_count": 50,
     "metadata": {},
     "output_type": "execute_result"
    }
   ],
   "source": [
    "df_melt = pd.melt(df.reset_index(), id_vars = ['height'], value_vars=['fert', 'species'])\n",
    "df_melt.head()"
   ]
  },
  {
   "cell_type": "code",
   "execution_count": 66,
   "metadata": {},
   "outputs": [
    {
     "data": {
      "text/html": [
       "<table class=\"simpletable\">\n",
       "<caption>Multiple Comparison of Means - Tukey HSD,FWER=0.05</caption>\n",
       "<tr>\n",
       "  <th>group1</th>  <th>group2</th>  <th>meandiff</th>   <th>lower</th>   <th>upper</th>  <th>reject</th>\n",
       "</tr>\n",
       "<tr>\n",
       "   <td>SppA</td>    <td>SppB</td>    <td>4.4417</td>   <td>1.1796</td>  <td>7.7037</td>   <td>True</td> \n",
       "</tr>\n",
       "<tr>\n",
       "   <td>SppA</td>   <td>control</td>  <td>-3.8167</td>  <td>-7.8118</td> <td>0.1785</td>   <td>False</td>\n",
       "</tr>\n",
       "<tr>\n",
       "   <td>SppA</td>     <td>f1</td>     <td>3.9417</td>   <td>-0.0535</td> <td>7.9368</td>   <td>False</td>\n",
       "</tr>\n",
       "<tr>\n",
       "   <td>SppA</td>     <td>f2</td>     <td>1.7917</td>   <td>-2.2035</td> <td>5.7868</td>   <td>False</td>\n",
       "</tr>\n",
       "<tr>\n",
       "   <td>SppA</td>     <td>f3</td>     <td>6.9667</td>   <td>2.9715</td>  <td>10.9618</td>  <td>True</td> \n",
       "</tr>\n",
       "<tr>\n",
       "   <td>SppB</td>   <td>control</td>  <td>-8.2583</td> <td>-12.2535</td> <td>-4.2632</td>  <td>True</td> \n",
       "</tr>\n",
       "<tr>\n",
       "   <td>SppB</td>     <td>f1</td>      <td>-0.5</td>    <td>-4.4952</td> <td>3.4952</td>   <td>False</td>\n",
       "</tr>\n",
       "<tr>\n",
       "   <td>SppB</td>     <td>f2</td>      <td>-2.65</td>   <td>-6.6452</td> <td>1.3452</td>   <td>False</td>\n",
       "</tr>\n",
       "<tr>\n",
       "   <td>SppB</td>     <td>f3</td>      <td>2.525</td>   <td>-1.4702</td> <td>6.5202</td>   <td>False</td>\n",
       "</tr>\n",
       "<tr>\n",
       "  <td>control</td>   <td>f1</td>     <td>7.7583</td>   <td>3.1451</td>  <td>12.3716</td>  <td>True</td> \n",
       "</tr>\n",
       "<tr>\n",
       "  <td>control</td>   <td>f2</td>     <td>5.6083</td>   <td>0.9951</td>  <td>10.2216</td>  <td>True</td> \n",
       "</tr>\n",
       "<tr>\n",
       "  <td>control</td>   <td>f3</td>     <td>10.7833</td>  <td>6.1701</td>  <td>15.3966</td>  <td>True</td> \n",
       "</tr>\n",
       "<tr>\n",
       "    <td>f1</td>      <td>f2</td>      <td>-2.15</td>   <td>-6.7632</td> <td>2.4632</td>   <td>False</td>\n",
       "</tr>\n",
       "<tr>\n",
       "    <td>f1</td>      <td>f3</td>      <td>3.025</td>   <td>-1.5882</td> <td>7.6382</td>   <td>False</td>\n",
       "</tr>\n",
       "<tr>\n",
       "    <td>f2</td>      <td>f3</td>      <td>5.175</td>   <td>0.5618</td>  <td>9.7882</td>   <td>True</td> \n",
       "</tr>\n",
       "</table>"
      ],
      "text/plain": [
       "<class 'statsmodels.iolib.table.SimpleTable'>"
      ]
     },
     "execution_count": 66,
     "metadata": {},
     "output_type": "execute_result"
    },
    {
     "data": {
      "image/png": "[encoded data removed]",
      "text/plain": [
       "<Figure size 720x432 with 1 Axes>"
      ]
     },
     "metadata": {
      "needs_background": "light"
     },
     "output_type": "display_data"
    }
   ],
   "source": [
    "tukey = pairwise_tukeyhsd(endog=df_melt['height'],     # Data\n",
    "                          groups=df_melt['value'],   # Groups\n",
    "                          alpha=0.05)          # Significance level\n",
    "\n",
    "tukey.plot_simultaneous()    # Plot group confidence intervals\n",
    "plt.vlines(x=6.7,ymin=-0.5,ymax=4.5, color=\"red\")\n",
    "\n",
    "tukey.summary()              # See test summary"
   ]
  },
  {
   "cell_type": "code",
   "execution_count": null,
   "metadata": {},
   "outputs": [],
   "source": []
  }
 ],
 "metadata": {
  "kernelspec": {
   "display_name": "Python 3",
   "language": "python",
   "name": "python3"
  },
  "language_info": {
   "codemirror_mode": {
    "name": "ipython",
    "version": 3
   },
   "file_extension": ".py",
   "mimetype": "text/x-python",
   "name": "python",
   "nbconvert_exporter": "python",
   "pygments_lexer": "ipython3",
   "version": "3.7.3"
  }
 },
 "nbformat": 4,
 "nbformat_minor": 2
}
