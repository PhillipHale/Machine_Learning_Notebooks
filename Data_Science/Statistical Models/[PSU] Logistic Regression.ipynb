{
 "cells": [
  {
   "cell_type": "code",
   "execution_count": 1,
   "metadata": {},
   "outputs": [],
   "source": [
    "import pandas as pd\n",
    "import numpy as np\n",
    "\n",
    "# import plotting libraries\n",
    "import matplotlib.pyplot as plt\n",
    "import seaborn as sns\n",
    "\n",
    "%matplotlib inline\n",
    "plt.style.use('seaborn-white')\n",
    "\n",
    "# Statistical Packages\n",
    "import scipy.stats as stats\n",
    "import statsmodels.api as sm\n",
    "import statsmodels.formula.api as smf\n"
   ]
  },
  {
   "cell_type": "markdown",
   "metadata": {},
   "source": [
    "### Leukemia Case Study\n",
    "\n",
    "https://newonlinecourses.science.psu.edu/stat501/node/374/\n",
    "\n",
    "To illustrate, consider data published on n = 27 leukemia patients. The data (leukemia_remission.txt) has a response variable of whether leukemia remission occurred (REMISS), which is given by a 1."
   ]
  },
  {
   "cell_type": "code",
   "execution_count": 2,
   "metadata": {},
   "outputs": [
    {
     "data": {
      "text/html": [
       "<div>\n",
       "<style scoped>\n",
       "    .dataframe tbody tr th:only-of-type {\n",
       "        vertical-align: middle;\n",
       "    }\n",
       "\n",
       "    .dataframe tbody tr th {\n",
       "        vertical-align: top;\n",
       "    }\n",
       "\n",
       "    .dataframe thead th {\n",
       "        text-align: right;\n",
       "    }\n",
       "</style>\n",
       "<table border=\"1\" class=\"dataframe\">\n",
       "  <thead>\n",
       "    <tr style=\"text-align: right;\">\n",
       "      <th></th>\n",
       "      <th>REMISS</th>\n",
       "      <th>CELL</th>\n",
       "      <th>SMEAR</th>\n",
       "      <th>INFIL</th>\n",
       "      <th>LI</th>\n",
       "      <th>BLAST</th>\n",
       "      <th>TEMP</th>\n",
       "    </tr>\n",
       "  </thead>\n",
       "  <tbody>\n",
       "    <tr>\n",
       "      <th>0</th>\n",
       "      <td>1</td>\n",
       "      <td>0.8</td>\n",
       "      <td>0.83</td>\n",
       "      <td>0.66</td>\n",
       "      <td>1.9</td>\n",
       "      <td>1.10</td>\n",
       "      <td>1.00</td>\n",
       "    </tr>\n",
       "    <tr>\n",
       "      <th>1</th>\n",
       "      <td>1</td>\n",
       "      <td>0.9</td>\n",
       "      <td>0.36</td>\n",
       "      <td>0.32</td>\n",
       "      <td>1.4</td>\n",
       "      <td>0.74</td>\n",
       "      <td>0.99</td>\n",
       "    </tr>\n",
       "    <tr>\n",
       "      <th>2</th>\n",
       "      <td>0</td>\n",
       "      <td>0.8</td>\n",
       "      <td>0.88</td>\n",
       "      <td>0.70</td>\n",
       "      <td>0.8</td>\n",
       "      <td>0.18</td>\n",
       "      <td>0.98</td>\n",
       "    </tr>\n",
       "    <tr>\n",
       "      <th>3</th>\n",
       "      <td>0</td>\n",
       "      <td>1.0</td>\n",
       "      <td>0.87</td>\n",
       "      <td>0.87</td>\n",
       "      <td>0.7</td>\n",
       "      <td>1.05</td>\n",
       "      <td>0.99</td>\n",
       "    </tr>\n",
       "    <tr>\n",
       "      <th>4</th>\n",
       "      <td>1</td>\n",
       "      <td>0.9</td>\n",
       "      <td>0.75</td>\n",
       "      <td>0.68</td>\n",
       "      <td>1.3</td>\n",
       "      <td>0.52</td>\n",
       "      <td>0.98</td>\n",
       "    </tr>\n",
       "  </tbody>\n",
       "</table>\n",
       "</div>"
      ],
      "text/plain": [
       "   REMISS  CELL  SMEAR  INFIL   LI  BLAST  TEMP\n",
       "0       1   0.8   0.83   0.66  1.9   1.10  1.00\n",
       "1       1   0.9   0.36   0.32  1.4   0.74  0.99\n",
       "2       0   0.8   0.88   0.70  0.8   0.18  0.98\n",
       "3       0   1.0   0.87   0.87  0.7   1.05  0.99\n",
       "4       1   0.9   0.75   0.68  1.3   0.52  0.98"
      ]
     },
     "execution_count": 2,
     "metadata": {},
     "output_type": "execute_result"
    }
   ],
   "source": [
    "ex = pd.read_csv(\"./data/leukemia_remission.txt\", sep='\\t')\n",
    "ex.head()"
   ]
  },
  {
   "cell_type": "code",
   "execution_count": 3,
   "metadata": {},
   "outputs": [
    {
     "data": {
      "text/plain": [
       "['CELL', 'SMEAR', 'INFIL', 'LI', 'BLAST', 'TEMP']"
      ]
     },
     "execution_count": 3,
     "metadata": {},
     "output_type": "execute_result"
    }
   ],
   "source": [
    "features_ = ex.columns.values.tolist()\n",
    "features_ = [i for i in features_ if i not in ['REMISS']]\n",
    "features_"
   ]
  },
  {
   "cell_type": "code",
   "execution_count": 4,
   "metadata": {},
   "outputs": [
    {
     "name": "stderr",
     "output_type": "stream",
     "text": [
      "C:\\Users\\phhale\\AppData\\Local\\Continuum\\anaconda3\\envs\\bril\\lib\\site-packages\\numpy\\core\\fromnumeric.py:2389: FutureWarning: Method .ptp is deprecated and will be removed in a future version. Use numpy.ptp instead.\n",
      "  return ptp(axis=axis, out=out, **kwargs)\n"
     ]
    }
   ],
   "source": [
    "y=ex['REMISS']\n",
    "X= sm.add_constant(ex[features_])"
   ]
  },
  {
   "cell_type": "markdown",
   "metadata": {},
   "source": [
    "#### Logistic Regression Model Fitting"
   ]
  },
  {
   "cell_type": "code",
   "execution_count": 5,
   "metadata": {},
   "outputs": [
    {
     "name": "stdout",
     "output_type": "stream",
     "text": [
      "Optimization terminated successfully.\n",
      "         Current function value: 0.399886\n",
      "         Iterations 10\n",
      "                           Logit Regression Results                           \n",
      "==============================================================================\n",
      "Dep. Variable:                 REMISS   No. Observations:                   27\n",
      "Model:                          Logit   Df Residuals:                       20\n",
      "Method:                           MLE   Df Model:                            6\n",
      "Date:                Wed, 31 Jul 2019   Pseudo R-squ.:                  0.3718\n",
      "Time:                        16:02:37   Log-Likelihood:                -10.797\n",
      "converged:                       True   LL-Null:                       -17.186\n",
      "                                        LLR p-value:                   0.04670\n",
      "==============================================================================\n",
      "                 coef    std err          z      P>|z|      [0.025      0.975]\n",
      "------------------------------------------------------------------------------\n",
      "const         64.2581     74.965      0.857      0.391     -82.670     211.187\n",
      "CELL          30.8301     52.135      0.591      0.554     -71.353     133.013\n",
      "SMEAR         24.6863     61.526      0.401      0.688     -95.903     145.275\n",
      "INFIL        -24.9745     65.281     -0.383      0.702    -152.923     102.974\n",
      "LI             4.3605      2.658      1.641      0.101      -0.849       9.570\n",
      "BLAST         -0.0115      2.266     -0.005      0.996      -4.453       4.430\n",
      "TEMP        -100.1734     77.753     -1.288      0.198    -252.567      52.220\n",
      "==============================================================================\n",
      "\n",
      "Possibly complete quasi-separation: A fraction 0.11 of observations can be\n",
      "perfectly predicted. This might indicate that there is complete\n",
      "quasi-separation. In this case some parameters will not be identified.\n"
     ]
    }
   ],
   "source": [
    "logit_model=sm.Logit(y,X)\n",
    "result=logit_model.fit()\n",
    "print(result.summary())"
   ]
  },
  {
   "cell_type": "markdown",
   "metadata": {},
   "source": [
    "Above are the estimates from the regression coefficent with the p-values based on the __Wald test__:\n",
    "$\\begin{equation*} Z=\\frac{\\hat{\\beta}_{i}}{\\textrm{s.e.}(\\hat{\\beta}_{i})} \\end{equation*}$ that indicates the __test of significance for individual coefficient in a logistic regression__. \n",
    "\n",
    "The _bone marrow leukemia cells_ `LI` has the __smallest p-value__ and so appears to be the __closest to a significant predictor of remission occuring__. \n",
    "\n",
    "After looking at various subsets of the data, we find that a good model is one which only includes the labeling index as a predictor:\n"
   ]
  },
  {
   "cell_type": "code",
   "execution_count": 6,
   "metadata": {},
   "outputs": [
    {
     "name": "stdout",
     "output_type": "stream",
     "text": [
      "Optimization terminated successfully.\n",
      "         Current function value: 0.482833\n",
      "         Iterations 6\n",
      "                           Logit Regression Results                           \n",
      "==============================================================================\n",
      "Dep. Variable:                 REMISS   No. Observations:                   27\n",
      "Model:                          Logit   Df Residuals:                       25\n",
      "Method:                           MLE   Df Model:                            1\n",
      "Date:                Wed, 31 Jul 2019   Pseudo R-squ.:                  0.2414\n",
      "Time:                        16:02:37   Log-Likelihood:                -13.036\n",
      "converged:                       True   LL-Null:                       -17.186\n",
      "                                        LLR p-value:                  0.003967\n",
      "==============================================================================\n",
      "                 coef    std err          z      P>|z|      [0.025      0.975]\n",
      "------------------------------------------------------------------------------\n",
      "const         -3.7771      1.379     -2.740      0.006      -6.479      -1.075\n",
      "LI             2.8973      1.187      2.441      0.015       0.571       5.223\n",
      "==============================================================================\n"
     ]
    }
   ],
   "source": [
    "y_data =ex['REMISS']\n",
    "x_data= sm.add_constant(ex['LI'])\n",
    "\n",
    "model = sm.Logit(y_data, x_data)\n",
    "model_fit = model.fit()\n",
    "\n",
    "print(model_fit.summary())\n",
    "\n",
    "cov = model_fit.cov_params()\n",
    "std_err = np.sqrt(np.diag(cov))\n",
    "z_values = model_fit.params / std_err"
   ]
  },
  {
   "cell_type": "markdown",
   "metadata": {},
   "source": [
    "Regression Equation\n",
    "\n",
    "P(1)  =  exp(Y')/(1 + exp(Y'))\n",
    "\n",
    "\n",
    "Y' = -3.78 + 2.90 LI"
   ]
  },
  {
   "cell_type": "markdown",
   "metadata": {},
   "source": [
    "used seaborn to plot a regression:"
   ]
  },
  {
   "cell_type": "code",
   "execution_count": 7,
   "metadata": {},
   "outputs": [
    {
     "name": "stderr",
     "output_type": "stream",
     "text": [
      "C:\\Users\\phhale\\AppData\\Local\\Continuum\\anaconda3\\envs\\bril\\lib\\site-packages\\statsmodels\\genmod\\families\\family.py:880: RuntimeWarning: invalid value encountered in true_divide\n",
      "  n_endog_mu = self._clean((1. - endog) / (1. - mu))\n"
     ]
    },
    {
     "data": {
      "image/png": "[encoded data removed]",
      "text/plain": [
       "<Figure size 360x360 with 1 Axes>"
      ]
     },
     "metadata": {
      "needs_background": "light"
     },
     "output_type": "display_data"
    }
   ],
   "source": [
    "sns.lmplot(x=\"LI\", logistic=True, y=\"REMISS\", data=ex)\n",
    "plt.show()"
   ]
  },
  {
   "cell_type": "markdown",
   "metadata": {},
   "source": [
    "#### Odds Ratio\n",
    "The odds ratio for LI of 18.1245 is calculated as \n",
    "exp\n",
    "(\n",
    "2.89726\n",
    ")\n"
   ]
  },
  {
   "cell_type": "code",
   "execution_count": 8,
   "metadata": {},
   "outputs": [
    {
     "data": {
      "text/plain": [
       "const     0.022888\n",
       "LI       18.124486\n",
       "dtype: float64"
      ]
     },
     "execution_count": 8,
     "metadata": {},
     "output_type": "execute_result"
    }
   ],
   "source": [
    "np.exp(model_fit.params)"
   ]
  },
  {
   "cell_type": "markdown",
   "metadata": {},
   "source": [
    "The odds ratio for LI of 18.1245 is calculated as exp(2.89726).\n",
    "\n",
    "* At LI=0.9, the estimated odds of leukemia remission is exp{−3.77714+2.89726∗0.9}=0.310.\n",
    "* At LI=0.8, the estimated odds of leukemia remission is exp{−3.77714+2.89726∗0.8}=0.232."
   ]
  },
  {
   "cell_type": "code",
   "execution_count": 9,
   "metadata": {},
   "outputs": [
    {
     "data": {
      "text/plain": [
       "<bound method LikelihoodModelResults.conf_int of <statsmodels.discrete.discrete_model.BinaryResultsWrapper object at 0x000001C6259CEE10>>"
      ]
     },
     "execution_count": 9,
     "metadata": {},
     "output_type": "execute_result"
    }
   ],
   "source": [
    "model_fit.conf_int"
   ]
  },
  {
   "cell_type": "code",
   "execution_count": 10,
   "metadata": {},
   "outputs": [
    {
     "name": "stdout",
     "output_type": "stream",
     "text": [
      "            df    sum_sq   mean_sq          F    PR(>F)\n",
      "LI         1.0  1.762466  1.762466  10.397945  0.003498\n",
      "Residual  25.0  4.237534  0.169501        NaN       NaN\n"
     ]
    }
   ],
   "source": [
    "model2 = smf.ols(formula='REMISS~ LI ', data = ex).fit()\n",
    "print(sm.stats.anova_lm(model2))"
   ]
  },
  {
   "cell_type": "code",
   "execution_count": null,
   "metadata": {},
   "outputs": [],
   "source": []
  },
  {
   "cell_type": "markdown",
   "metadata": {},
   "source": [
    "## Poisson Sampling\n",
    "\n",
    "https://newonlinecourses.science.psu.edu/stat504/node/57/\n",
    "\n",
    "> QUESTION: What is the most likely mean number of goals scored; that is, what is the most likely value of the unknown parameter λ given the data x?"
   ]
  },
  {
   "cell_type": "code",
   "execution_count": 11,
   "metadata": {},
   "outputs": [
    {
     "data": {
      "text/html": [
       "<div>\n",
       "<style scoped>\n",
       "    .dataframe tbody tr th:only-of-type {\n",
       "        vertical-align: middle;\n",
       "    }\n",
       "\n",
       "    .dataframe tbody tr th {\n",
       "        vertical-align: top;\n",
       "    }\n",
       "\n",
       "    .dataframe thead th {\n",
       "        text-align: right;\n",
       "    }\n",
       "</style>\n",
       "<table border=\"1\" class=\"dataframe\">\n",
       "  <thead>\n",
       "    <tr style=\"text-align: right;\">\n",
       "      <th></th>\n",
       "      <th>Goals</th>\n",
       "      <th>Freq</th>\n",
       "    </tr>\n",
       "  </thead>\n",
       "  <tbody>\n",
       "    <tr>\n",
       "      <th>0</th>\n",
       "      <td>0</td>\n",
       "      <td>23</td>\n",
       "    </tr>\n",
       "    <tr>\n",
       "      <th>1</th>\n",
       "      <td>1</td>\n",
       "      <td>37</td>\n",
       "    </tr>\n",
       "    <tr>\n",
       "      <th>2</th>\n",
       "      <td>2</td>\n",
       "      <td>20</td>\n",
       "    </tr>\n",
       "    <tr>\n",
       "      <th>3</th>\n",
       "      <td>3</td>\n",
       "      <td>11</td>\n",
       "    </tr>\n",
       "    <tr>\n",
       "      <th>4</th>\n",
       "      <td>4</td>\n",
       "      <td>2</td>\n",
       "    </tr>\n",
       "  </tbody>\n",
       "</table>\n",
       "</div>"
      ],
      "text/plain": [
       "   Goals  Freq\n",
       "0      0    23\n",
       "1      1    37\n",
       "2      2    20\n",
       "3      3    11\n",
       "4      4     2"
      ]
     },
     "execution_count": 11,
     "metadata": {},
     "output_type": "execute_result"
    }
   ],
   "source": [
    "soccer = pd.read_csv(\"./data/world_cup.txt\",sep='\\t')\n",
    "#soccer.Freq = soccer.Freq.astype(int)\n",
    "soccer.head()"
   ]
  },
  {
   "cell_type": "markdown",
   "metadata": {},
   "source": [
    "$\\begin{align} \\bar{x} &= \\dfrac{1}{95}\\sum\\limits_{i=1} x_i\\\\ &= \\dfrac{1}{95} (0\\times 23+1\\times 37+2\\times 20+3\\times 11+4\\times 2+5\\times 1+6\\times 0+ 7\\times 0+ 8 \\times 1)\\\\ &= \\dfrac{131}{95}\\\\ &= 1.38\\\\ \\end{align}$\n",
    "\n",
    "__Thus, $\\hat{\\lambda}=1.38$  goals per first round matches.__"
   ]
  },
  {
   "cell_type": "code",
   "execution_count": 12,
   "metadata": {},
   "outputs": [
    {
     "data": {
      "text/plain": [
       "1.3789473684210527"
      ]
     },
     "execution_count": 12,
     "metadata": {},
     "output_type": "execute_result"
    }
   ],
   "source": [
    "# compute the sample size\n",
    "n = soccer.Freq.sum()\n",
    "\n",
    "# compute the same mean\n",
    "smean = (1/n) * (soccer.Goals * soccer.Freq).sum()\n",
    "smean"
   ]
  },
  {
   "cell_type": "markdown",
   "metadata": {},
   "source": [
    "$[1.38-1.96\\sqrt{1.38/95},1.38+1.96\\sqrt{1.38/95}]=[1.14,1.62]$\n",
    "\n",
    "and we are 95% confident that the mean number of goals scored by a team during the first round match-ups will be somewhere between 1.14 and 1.62. \n",
    "\n",
    "\n",
    "under this Poisson model with $\\hat{\\lambda}=1.38$ , the expected probability of scoring 2 goals is"
   ]
  },
  {
   "cell_type": "code",
   "execution_count": 13,
   "metadata": {
    "scrolled": true
   },
   "outputs": [
    {
     "data": {
      "text/plain": [
       "0.23943969582948485"
      ]
     },
     "execution_count": 13,
     "metadata": {},
     "output_type": "execute_result"
    }
   ],
   "source": [
    "## compute the Poisson probability for X=1, P(X=1) \n",
    "poisson = stats.distributions.poisson\n",
    "poisson.pmf(2, smean)"
   ]
  },
  {
   "cell_type": "code",
   "execution_count": 14,
   "metadata": {},
   "outputs": [
    {
     "data": {
      "text/plain": [
       "array([23.92513364, 32.99150007, 22.7467711 , 22.7467711 , 10.45553338,\n",
       "        3.60440756,  0.99405766,  0.22845887,  0.04500468])"
      ]
     },
     "execution_count": 14,
     "metadata": {},
     "output_type": "execute_result"
    }
   ],
   "source": [
    "## Poisson probabilities for X=0, 1, ..., 8 with LAMBDA=smean \n",
    "## these are estimates of cell probabilities \n",
    "\n",
    "pihat = poisson.pmf([0,1,2,2,3,4,5,6,7], smean)\n",
    "\n",
    "## compute expected frequencies for each cell j, E(Xj)=n pi_j\n",
    "efreq = n*pihat\n",
    "soccer['Expected Counts'] = efreq\n",
    "efreq"
   ]
  },
  {
   "cell_type": "markdown",
   "metadata": {},
   "source": [
    "Here is a summary of these probabilities:"
   ]
  },
  {
   "cell_type": "code",
   "execution_count": 15,
   "metadata": {},
   "outputs": [
    {
     "data": {
      "text/html": [
       "<div>\n",
       "<style scoped>\n",
       "    .dataframe tbody tr th:only-of-type {\n",
       "        vertical-align: middle;\n",
       "    }\n",
       "\n",
       "    .dataframe tbody tr th {\n",
       "        vertical-align: top;\n",
       "    }\n",
       "\n",
       "    .dataframe thead th {\n",
       "        text-align: right;\n",
       "    }\n",
       "</style>\n",
       "<table border=\"1\" class=\"dataframe\">\n",
       "  <thead>\n",
       "    <tr style=\"text-align: right;\">\n",
       "      <th></th>\n",
       "      <th>Goals</th>\n",
       "      <th>Freq</th>\n",
       "      <th>Expected Counts</th>\n",
       "    </tr>\n",
       "  </thead>\n",
       "  <tbody>\n",
       "    <tr>\n",
       "      <th>0</th>\n",
       "      <td>0</td>\n",
       "      <td>23</td>\n",
       "      <td>23.925134</td>\n",
       "    </tr>\n",
       "    <tr>\n",
       "      <th>1</th>\n",
       "      <td>1</td>\n",
       "      <td>37</td>\n",
       "      <td>32.991500</td>\n",
       "    </tr>\n",
       "    <tr>\n",
       "      <th>2</th>\n",
       "      <td>2</td>\n",
       "      <td>20</td>\n",
       "      <td>22.746771</td>\n",
       "    </tr>\n",
       "    <tr>\n",
       "      <th>3</th>\n",
       "      <td>3</td>\n",
       "      <td>11</td>\n",
       "      <td>22.746771</td>\n",
       "    </tr>\n",
       "    <tr>\n",
       "      <th>4</th>\n",
       "      <td>4</td>\n",
       "      <td>2</td>\n",
       "      <td>10.455533</td>\n",
       "    </tr>\n",
       "    <tr>\n",
       "      <th>5</th>\n",
       "      <td>5</td>\n",
       "      <td>1</td>\n",
       "      <td>3.604408</td>\n",
       "    </tr>\n",
       "    <tr>\n",
       "      <th>6</th>\n",
       "      <td>6</td>\n",
       "      <td>0</td>\n",
       "      <td>0.994058</td>\n",
       "    </tr>\n",
       "    <tr>\n",
       "      <th>7</th>\n",
       "      <td>7</td>\n",
       "      <td>0</td>\n",
       "      <td>0.228459</td>\n",
       "    </tr>\n",
       "    <tr>\n",
       "      <th>8</th>\n",
       "      <td>8</td>\n",
       "      <td>1</td>\n",
       "      <td>0.045005</td>\n",
       "    </tr>\n",
       "  </tbody>\n",
       "</table>\n",
       "</div>"
      ],
      "text/plain": [
       "   Goals  Freq  Expected Counts\n",
       "0      0    23        23.925134\n",
       "1      1    37        32.991500\n",
       "2      2    20        22.746771\n",
       "3      3    11        22.746771\n",
       "4      4     2        10.455533\n",
       "5      5     1         3.604408\n",
       "6      6     0         0.994058\n",
       "7      7     0         0.228459\n",
       "8      8     1         0.045005"
      ]
     },
     "execution_count": 15,
     "metadata": {},
     "output_type": "execute_result"
    }
   ],
   "source": [
    "soccer"
   ]
  },
  {
   "cell_type": "markdown",
   "metadata": {},
   "source": [
    "## Binomial Likelihood\n",
    "\n",
    "https://newonlinecourses.science.psu.edu/stat504/node/58/\n",
    "\n",
    "### PSU  High Risk Drinking Example \n",
    "\n",
    "![](https://newonlinecourses.science.psu.edu/stat504/sites/onlinecourses.science.psu.edu.stat504/files/lesson02/high_risk_drinking/index.png)"
   ]
  },
  {
   "cell_type": "markdown",
   "metadata": {},
   "source": [
    "First define the likehihood function for binomial sample with:\n",
    "* N = 1315\n",
    "* X = 630\n",
    "* p = unknown parameter\n",
    "\n",
    ">QUESTION: What is the true population proportion of students who are high-risk drinkers at Penn State?\n",
    "\n",
    "Thus for our example, assuming the Binomial distribution, our \"best\" guess estimate of the true proportion of students who are high-risk drinkers is"
   ]
  },
  {
   "cell_type": "code",
   "execution_count": 16,
   "metadata": {},
   "outputs": [
    {
     "data": {
      "text/plain": [
       "0.4790874524714829"
      ]
     },
     "execution_count": 16,
     "metadata": {},
     "output_type": "execute_result"
    }
   ],
   "source": [
    "630/1315"
   ]
  },
  {
   "cell_type": "markdown",
   "metadata": {},
   "source": [
    "Here are also the likelihood and loglikelihood graphs for our example. We can see that the peak of the likelihood is at the proportion value equal to 0.48"
   ]
  },
  {
   "cell_type": "code",
   "execution_count": 17,
   "metadata": {},
   "outputs": [],
   "source": [
    "dbinom = stats.distributions.binom\n",
    "\n",
    "def likelhd(p):\n",
    "    return dbinom(630, 1315, p)"
   ]
  },
  {
   "cell_type": "markdown",
   "metadata": {},
   "source": [
    "1-proportion Hypothesis test, Approximate 95% confidence interval, and MLE\n",
    "\n",
    "H0: p=0.5 vs. Ha: p is not equal 0.5 "
   ]
  },
  {
   "cell_type": "code",
   "execution_count": 18,
   "metadata": {},
   "outputs": [
    {
     "data": {
      "text/plain": [
       "0.4790874524714829"
      ]
     },
     "execution_count": 18,
     "metadata": {},
     "output_type": "execute_result"
    }
   ],
   "source": [
    "630/1315"
   ]
  },
  {
   "cell_type": "markdown",
   "metadata": {},
   "source": [
    "__when the sample size is small, we can do an exact test via:__"
   ]
  },
  {
   "cell_type": "code",
   "execution_count": 19,
   "metadata": {},
   "outputs": [
    {
     "data": {
      "text/plain": [
       "0.13642445794149205"
      ]
     },
     "execution_count": 19,
     "metadata": {},
     "output_type": "execute_result"
    }
   ],
   "source": [
    "sm.stats.binom_test(630, 1315, 0.5)"
   ]
  },
  {
   "cell_type": "markdown",
   "metadata": {},
   "source": [
    "The statistic z = -1.45 with two sided p-value of 0.136. __Thus we do not have a very strong evidence that the proportion of high-risk drinkers is different from 50%; i.e., do not reject the null hypothesis.__"
   ]
  },
  {
   "cell_type": "code",
   "execution_count": 20,
   "metadata": {},
   "outputs": [
    {
     "data": {
      "text/plain": [
       "(0.45208675254889413, 0.5060881523940716)"
      ]
     },
     "execution_count": 20,
     "metadata": {},
     "output_type": "execute_result"
    }
   ],
   "source": [
    "sm.stats.proportion_confint(630, 1315)"
   ]
  },
  {
   "cell_type": "markdown",
   "metadata": {},
   "source": [
    "This interval is known as the Wald confidence interval.\n",
    "\n",
    "For our example, the 95% CI is 0.48 ± 1.96 × 0.014 = (0.453, 0.507). We can be 95% confident that the true population proportion of students high-risk drinkers is between 0.454 and 0.506."
   ]
  },
  {
   "cell_type": "markdown",
   "metadata": {},
   "source": [
    "### Lesson 2: One-Way Tables and Goodness-of-Fit Test\n",
    "https://newonlinecourses.science.psu.edu/stat504/node/61/"
   ]
  },
  {
   "cell_type": "code",
   "execution_count": 21,
   "metadata": {},
   "outputs": [
    {
     "data": {
      "text/plain": [
       "Power_divergenceResult(statistic=9.200000000000001, pvalue=0.1013478563301067)"
      ]
     },
     "execution_count": 21,
     "metadata": {},
     "output_type": "execute_result"
    }
   ],
   "source": [
    "x = [3,7,5,10,2,3] \n",
    "stats.chisquare(x)"
   ]
  },
  {
   "cell_type": "markdown",
   "metadata": {},
   "source": [
    "The p-values are P(χ25 ≥ 9.2) = .10. Given these p-values, __with the critical value or Type I error of α=0.05, we fail to reject the null hypothesis__. ___there is a moderate evidence that the dice is fair.___\n",
    "\n",
    " "
   ]
  },
  {
   "cell_type": "markdown",
   "metadata": {},
   "source": [
    "### Heart Disease Example\n",
    "\n",
    "Example description: https://newonlinecourses.science.psu.edu/stat504/node/71/#heart\n",
    "\n",
    "This is an example of a 2 × 4 table. The data below are taken from the Framingham longitudinal study of coronary heart disease (Cornfield, 1962). In this study, n = 1329 patients were classified by serum cholesterol level (mg/100 cc) and whether they had been diagnosed with coronary heart disease (CHD).\n",
    "\n",
    "https://newonlinecourses.science.psu.edu/stat504/node/85/"
   ]
  },
  {
   "cell_type": "code",
   "execution_count": 456,
   "metadata": {},
   "outputs": [
    {
     "name": "stdout",
     "output_type": "stream",
     "text": [
      "       0-199  200-219  220-259  260+\n",
      "CHD       12        8       31    41\n",
      "noCHD    307      246      439   245\n"
     ]
    }
   ],
   "source": [
    "heart = pd.DataFrame(columns=['0-199', \"200-219\", \"220-259\", \"260+\"], index=['CHD', 'noCHD'])\n",
    "heart.loc['CHD'] = [12, 8, 31, 41]\n",
    "heart.loc['noCHD'] = [307, 246, 439, 245]\n",
    "heart_t = sm.stats.Table(heart)\n",
    "print(heart_t.table_orig)\n",
    "\n",
    "# enter data\n",
    "#heart = np.array(((12,8,31,41),(307,246,439,245)))\n",
    "#heart"
   ]
  },
  {
   "cell_type": "code",
   "execution_count": 457,
   "metadata": {},
   "outputs": [
    {
     "name": "stdout",
     "output_type": "stream",
     "text": [
      "Chi-Square Statistic:  35.02845147656801\n",
      "Chi-Square Probability (p-value):  1.2015041994661857e-07\n"
     ]
    }
   ],
   "source": [
    "heart_t = sm.stats.Table(heart)\n",
    "#print(heart_t.table_orig)\n",
    "rslt = heart_t.test_nominal_association()\n",
    "print(\"Chi-Square Statistic: \", rslt.statistic)\n",
    "print(\"Chi-Square Probability (p-value): \", rslt.pvalue)"
   ]
  },
  {
   "cell_type": "code",
   "execution_count": 458,
   "metadata": {},
   "outputs": [
    {
     "name": "stdout",
     "output_type": "stream",
     "text": [
      "Pearson's Chi-squared test with Yates' continuity correction\n",
      "X-squared:  35.02845147656801\n",
      "p-value  :  1.2015041992784588e-07\n",
      "degree of f:  3\n",
      "\n",
      "Observed: \n",
      "       0-199  200-219  220-259  260+\n",
      "CHD       12        8       31    41\n",
      "noCHD    307      246      439   245\n",
      "\n",
      "Expected: \n",
      "[[ 22.082769    17.58314522  32.53574116  19.79834462]\n",
      " [296.917231   236.41685478 437.46425884 266.20165538]]\n"
     ]
    }
   ],
   "source": [
    "chi2, p, dof, ex = stats.chi2_contingency(heart)\n",
    "\n",
    "print(\"Pearson's Chi-squared test with Yates' continuity correction\")\n",
    "print(\"X-squared: \", chi2)\n",
    "print(\"p-value  : \", p)\n",
    "print(\"degree of f: \", dof)\n",
    "\n",
    "print(\"\\nObserved: \")\n",
    "print(heart)\n",
    "\n",
    "print(\"\\nExpected: \")\n",
    "print(ex)"
   ]
  },
  {
   "cell_type": "code",
   "execution_count": 459,
   "metadata": {},
   "outputs": [
    {
     "name": "stdout",
     "output_type": "stream",
     "text": [
      "Likelihood ratio test\n",
      "G2 - Likelihood-ratio stat:  31.921237504606403\n",
      "p-value  :  5.437359872822451e-07\n",
      "degree of f:  3\n"
     ]
    }
   ],
   "source": [
    "chi2, p, dof, ex = stats.chi2_contingency(heart, lambda_=\"log-likelihood\", correction=False)\n",
    "print(\"Likelihood ratio test\")\n",
    "print(\"G2 - Likelihood-ratio stat: \", chi2)\n",
    "print(\"p-value  : \", p)\n",
    "print(\"degree of f: \", dof)\n",
    "\n",
    "#print(\"\\nObserved: \")\n",
    "#print(heart)\n",
    "\n",
    "#print(\"\\nExpected: \")\n",
    "#print(ex)"
   ]
  },
  {
   "cell_type": "markdown",
   "metadata": {},
   "source": [
    "__Conclusion: we rejecect the null hypothesis of independence because of the big values of the chi-square statistics__ Notice the dof are equal to 3 = (4-1)(2-1) thefefore the p-value is low. Therefore, through the X2 test for independence, __we have demonstrated beyond a reasonable doubt that a relationship exists between cholesterol and CHD__\n",
    "\n",
    "\n",
    "#### Pearson Residuals\n",
    "\n",
    "__How large is the discrepancy between the two proposed models.__ The residuals provide an indication on where the diffreneces are and potentially which leads to a rejection in the null hyptoehsioes. \n",
    "\n",
    "$r_j=\\dfrac{X_j-n\\hat{\\pi}_j}{\\sqrt{n\\hat{\\pi}_j}}=\\dfrac{O_j-E_j}{\\sqrt{E_j}}$\n",
    "\n",
    "\n",
    "The __Pearson residual__ compares the observed with the expected counts. The sign (+/-) indicates whether the observed requency in cell _j_ is higher or lower than the value fitted under the model, and the magnitude indicates the degree of departure. "
   ]
  },
  {
   "cell_type": "code",
   "execution_count": 460,
   "metadata": {},
   "outputs": [
    {
     "data": {
      "text/html": [
       "<div>\n",
       "<style scoped>\n",
       "    .dataframe tbody tr th:only-of-type {\n",
       "        vertical-align: middle;\n",
       "    }\n",
       "\n",
       "    .dataframe tbody tr th {\n",
       "        vertical-align: top;\n",
       "    }\n",
       "\n",
       "    .dataframe thead th {\n",
       "        text-align: right;\n",
       "    }\n",
       "</style>\n",
       "<table border=\"1\" class=\"dataframe\">\n",
       "  <thead>\n",
       "    <tr style=\"text-align: right;\">\n",
       "      <th></th>\n",
       "      <th>0-199</th>\n",
       "      <th>200-219</th>\n",
       "      <th>220-259</th>\n",
       "      <th>260+</th>\n",
       "    </tr>\n",
       "  </thead>\n",
       "  <tbody>\n",
       "    <tr>\n",
       "      <th>CHD</th>\n",
       "      <td>-2.145621</td>\n",
       "      <td>-2.285387</td>\n",
       "      <td>-0.269239</td>\n",
       "      <td>4.764917</td>\n",
       "    </tr>\n",
       "    <tr>\n",
       "      <th>noCHD</th>\n",
       "      <td>0.585143</td>\n",
       "      <td>0.623259</td>\n",
       "      <td>0.073425</td>\n",
       "      <td>-1.299464</td>\n",
       "    </tr>\n",
       "  </tbody>\n",
       "</table>\n",
       "</div>"
      ],
      "text/plain": [
       "          0-199   200-219   220-259      260+\n",
       "CHD   -2.145621 -2.285387 -0.269239  4.764917\n",
       "noCHD  0.585143  0.623259  0.073425 -1.299464"
      ]
     },
     "execution_count": 460,
     "metadata": {},
     "output_type": "execute_result"
    }
   ],
   "source": [
    "heart_t.resid_pearson"
   ]
  },
  {
   "cell_type": "markdown",
   "metadata": {},
   "source": [
    "__Pearson Standardized (adjusted) residuals__\n",
    "\n",
    "Comparision with normal distribution percentage points also indicates lack of fit. \n",
    "\n",
    "$\\dfrac{O_{ij}-E_{ij}}{\\sqrt{[E_{ij}(1-p_{i+})(1-p_{+j})]}}$\n"
   ]
  },
  {
   "cell_type": "code",
   "execution_count": 461,
   "metadata": {},
   "outputs": [
    {
     "data": {
      "text/html": [
       "<div>\n",
       "<style scoped>\n",
       "    .dataframe tbody tr th:only-of-type {\n",
       "        vertical-align: middle;\n",
       "    }\n",
       "\n",
       "    .dataframe tbody tr th {\n",
       "        vertical-align: top;\n",
       "    }\n",
       "\n",
       "    .dataframe thead th {\n",
       "        text-align: right;\n",
       "    }\n",
       "</style>\n",
       "<table border=\"1\" class=\"dataframe\">\n",
       "  <thead>\n",
       "    <tr style=\"text-align: right;\">\n",
       "      <th></th>\n",
       "      <th>0-199</th>\n",
       "      <th>200-219</th>\n",
       "      <th>220-259</th>\n",
       "      <th>260+</th>\n",
       "    </tr>\n",
       "  </thead>\n",
       "  <tbody>\n",
       "    <tr>\n",
       "      <th>CHD</th>\n",
       "      <td>-2.551129</td>\n",
       "      <td>-2.633878</td>\n",
       "      <td>-0.347121</td>\n",
       "      <td>5.575108</td>\n",
       "    </tr>\n",
       "    <tr>\n",
       "      <th>noCHD</th>\n",
       "      <td>2.551129</td>\n",
       "      <td>2.633878</td>\n",
       "      <td>0.347121</td>\n",
       "      <td>-5.575108</td>\n",
       "    </tr>\n",
       "  </tbody>\n",
       "</table>\n",
       "</div>"
      ],
      "text/plain": [
       "          0-199   200-219   220-259      260+\n",
       "CHD   -2.551129 -2.633878 -0.347121  5.575108\n",
       "noCHD  2.551129  2.633878  0.347121 -5.575108"
      ]
     },
     "execution_count": 461,
     "metadata": {},
     "output_type": "execute_result"
    }
   ],
   "source": [
    "heart_t.standardized_resids"
   ]
  },
  {
   "cell_type": "markdown",
   "metadata": {},
   "source": [
    "Cell Chi-square"
   ]
  },
  {
   "cell_type": "code",
   "execution_count": 462,
   "metadata": {},
   "outputs": [
    {
     "data": {
      "text/html": [
       "<div>\n",
       "<style scoped>\n",
       "    .dataframe tbody tr th:only-of-type {\n",
       "        vertical-align: middle;\n",
       "    }\n",
       "\n",
       "    .dataframe tbody tr th {\n",
       "        vertical-align: top;\n",
       "    }\n",
       "\n",
       "    .dataframe thead th {\n",
       "        text-align: right;\n",
       "    }\n",
       "</style>\n",
       "<table border=\"1\" class=\"dataframe\">\n",
       "  <thead>\n",
       "    <tr style=\"text-align: right;\">\n",
       "      <th></th>\n",
       "      <th>0-199</th>\n",
       "      <th>200-219</th>\n",
       "      <th>220-259</th>\n",
       "      <th>260+</th>\n",
       "    </tr>\n",
       "  </thead>\n",
       "  <tbody>\n",
       "    <tr>\n",
       "      <th>CHD</th>\n",
       "      <td>4.603690</td>\n",
       "      <td>5.222995</td>\n",
       "      <td>0.072490</td>\n",
       "      <td>22.704433</td>\n",
       "    </tr>\n",
       "    <tr>\n",
       "      <th>noCHD</th>\n",
       "      <td>0.342392</td>\n",
       "      <td>0.388452</td>\n",
       "      <td>0.005391</td>\n",
       "      <td>1.688608</td>\n",
       "    </tr>\n",
       "  </tbody>\n",
       "</table>\n",
       "</div>"
      ],
      "text/plain": [
       "          0-199   200-219   220-259       260+\n",
       "CHD    4.603690  5.222995  0.072490  22.704433\n",
       "noCHD  0.342392  0.388452  0.005391   1.688608"
      ]
     },
     "execution_count": 462,
     "metadata": {},
     "output_type": "execute_result"
    }
   ],
   "source": [
    "heart_t.chi2_contribs"
   ]
  },
  {
   "cell_type": "markdown",
   "metadata": {},
   "source": [
    "__Conclusion:__ note the values 4.60, 5.22, 22.70. Those are the Perason residuals and much larger than 3.84, and they seem to be driving the lack of independence ."
   ]
  },
  {
   "cell_type": "markdown",
   "metadata": {},
   "source": [
    "#### Measure of Association \n",
    "https://newonlinecourses.science.psu.edu/stat504/node/84/\n",
    "\n",
    "In the heart example, it is sensible to think of serum cholesterol as an explanatory variable and CHD as a response. Therefore, it would make sense to estimate the conditional probabilities of CHD within the four cholesterol groups.\n",
    "\n",
    "__Conditional Probability__ looks at these two events in relationship with one another. \n",
    "\n",
    "The results is shown below"
   ]
  },
  {
   "cell_type": "code",
   "execution_count": 463,
   "metadata": {},
   "outputs": [
    {
     "data": {
      "text/html": [
       "<div>\n",
       "<style scoped>\n",
       "    .dataframe tbody tr th:only-of-type {\n",
       "        vertical-align: middle;\n",
       "    }\n",
       "\n",
       "    .dataframe tbody tr th {\n",
       "        vertical-align: top;\n",
       "    }\n",
       "\n",
       "    .dataframe thead th {\n",
       "        text-align: right;\n",
       "    }\n",
       "</style>\n",
       "<table border=\"1\" class=\"dataframe\">\n",
       "  <thead>\n",
       "    <tr style=\"text-align: right;\">\n",
       "      <th></th>\n",
       "      <th>0-199</th>\n",
       "      <th>200-219</th>\n",
       "      <th>220-259</th>\n",
       "      <th>260+</th>\n",
       "    </tr>\n",
       "  </thead>\n",
       "  <tbody>\n",
       "    <tr>\n",
       "      <th>CHD</th>\n",
       "      <td>0.037618</td>\n",
       "      <td>0.031496</td>\n",
       "      <td>0.065957</td>\n",
       "      <td>0.143357</td>\n",
       "    </tr>\n",
       "    <tr>\n",
       "      <th>noCHD</th>\n",
       "      <td>0.962382</td>\n",
       "      <td>0.968504</td>\n",
       "      <td>0.934043</td>\n",
       "      <td>0.856643</td>\n",
       "    </tr>\n",
       "  </tbody>\n",
       "</table>\n",
       "</div>"
      ],
      "text/plain": [
       "          0-199   200-219   220-259      260+\n",
       "CHD    0.037618  0.031496  0.065957  0.143357\n",
       "noCHD  0.962382  0.968504  0.934043  0.856643"
      ]
     },
     "execution_count": 463,
     "metadata": {},
     "output_type": "execute_result"
    }
   ],
   "source": [
    "heart / heart.sum(axis=0)"
   ]
  },
  {
   "cell_type": "markdown",
   "metadata": {},
   "source": [
    "__Interpretation__ the risk of CHD appears to be essentially constant for the groups with cholesterol levels between 0-199 and 200-219. The __estimated probability drops from .038 to .031, this drop is not statistically signficant__ which is confired by estimating delta for the idfference in propotations:\n",
    "\n",
    "$\\hat{\\delta}=d=\\dfrac{n_{11}}{n_{1+}}-\\dfrac{n_{21}}{n_{2+}}=p_{1|1}-p_{1|2}$\n"
   ]
  },
  {
   "cell_type": "code",
   "execution_count": 467,
   "metadata": {},
   "outputs": [
    {
     "data": {
      "text/html": [
       "<div>\n",
       "<style scoped>\n",
       "    .dataframe tbody tr th:only-of-type {\n",
       "        vertical-align: middle;\n",
       "    }\n",
       "\n",
       "    .dataframe tbody tr th {\n",
       "        vertical-align: top;\n",
       "    }\n",
       "\n",
       "    .dataframe thead th {\n",
       "        text-align: right;\n",
       "    }\n",
       "</style>\n",
       "<table border=\"1\" class=\"dataframe\">\n",
       "  <thead>\n",
       "    <tr style=\"text-align: right;\">\n",
       "      <th></th>\n",
       "      <th>0-199</th>\n",
       "      <th>200-219</th>\n",
       "    </tr>\n",
       "  </thead>\n",
       "  <tbody>\n",
       "    <tr>\n",
       "      <th>CHD</th>\n",
       "      <td>12</td>\n",
       "      <td>8</td>\n",
       "    </tr>\n",
       "    <tr>\n",
       "      <th>noCHD</th>\n",
       "      <td>307</td>\n",
       "      <td>246</td>\n",
       "    </tr>\n",
       "  </tbody>\n",
       "</table>\n",
       "</div>"
      ],
      "text/plain": [
       "       0-199  200-219\n",
       "CHD       12        8\n",
       "noCHD    307      246"
      ]
     },
     "execution_count": 467,
     "metadata": {},
     "output_type": "execute_result"
    }
   ],
   "source": []
  },
  {
   "cell_type": "code",
   "execution_count": 469,
   "metadata": {},
   "outputs": [
    {
     "name": "stdout",
     "output_type": "stream",
     "text": [
      "Pearson's Chi-squared test with Yates' continuity correction\n",
      "X-squared:  0.15730352264754285\n",
      "p-value  :  0.6916513296148726\n",
      "degree of f:  1\n"
     ]
    }
   ],
   "source": [
    "chi2, p, dof, ex = stats.chi2_contingency(heart[['0-199', \"200-219\"]], correction=False)\n",
    "\n",
    "print(\"Pearson's Chi-squared test with Yates' continuity correction\")\n",
    "print(\"X-squared: \", chi2)\n",
    "print(\"p-value  : \", p)\n",
    "print(\"degree of f: \", dof)"
   ]
  },
  {
   "cell_type": "markdown",
   "metadata": {},
   "source": [
    "This test yields a chi-square=0.157 with df=1 and p-value=0.69, for the two other groups however, the risk the results are shown below:"
   ]
  },
  {
   "cell_type": "code",
   "execution_count": 471,
   "metadata": {},
   "outputs": [
    {
     "name": "stdout",
     "output_type": "stream",
     "text": [
      "Pearson's Chi-squared test with Yates' continuity correction\n",
      "X-squared:  12.36146641712151\n",
      "p-value  :  0.00043828630400296573\n",
      "degree of f:  1\n"
     ]
    }
   ],
   "source": [
    "chi2, p, dof, ex = stats.chi2_contingency(heart[['220-259', \"260+\"]], correction=False)\n",
    "\n",
    "print(\"Pearson's Chi-squared test with Yates' continuity correction\")\n",
    "print(\"X-squared: \", chi2)\n",
    "print(\"p-value  : \", p)\n",
    "print(\"degree of f: \", dof)"
   ]
  },
  {
   "cell_type": "markdown",
   "metadata": {},
   "source": [
    "The chi-squared value is much higher with a chi-squ=12.36 and p-value of 0.004"
   ]
  },
  {
   "cell_type": "markdown",
   "metadata": {},
   "source": [
    "## Smoking Example"
   ]
  },
  {
   "cell_type": "code",
   "execution_count": 472,
   "metadata": {},
   "outputs": [
    {
     "name": "stdout",
     "output_type": "stream",
     "text": [
      "         yes    no\n",
      "both     400  1380\n",
      "one      416  1823\n",
      "neither  188  1168\n"
     ]
    }
   ],
   "source": [
    "smoke = pd.DataFrame(columns=['yes', \"no\"], index=['both', 'one', 'neither'])\n",
    "smoke.loc['both'] = [400, 1380]\n",
    "smoke.loc['one'] = [416, 1823]\n",
    "smoke.loc['neither'] = [188, 1168]\n",
    "smoke_t = sm.stats.Table(smoke)\n",
    "print(smoke_t.table_orig)"
   ]
  },
  {
   "cell_type": "code",
   "execution_count": 473,
   "metadata": {},
   "outputs": [
    {
     "name": "stdout",
     "output_type": "stream",
     "text": [
      "Chi-Square Statistic:  37.566341777317575\n",
      "Chi-Square Probability (p-value):  6.959411713580721e-09\n"
     ]
    }
   ],
   "source": [
    "rslt = smoke_t.test_nominal_association()\n",
    "print(\"Chi-Square Statistic: \", rslt.statistic)\n",
    "print(\"Chi-Square Probability (p-value): \", rslt.pvalue)"
   ]
  },
  {
   "cell_type": "code",
   "execution_count": 490,
   "metadata": {},
   "outputs": [
    {
     "data": {
      "text/plain": [
       "both       1780\n",
       "one        2239\n",
       "neither    1356\n",
       "dtype: int64"
      ]
     },
     "execution_count": 490,
     "metadata": {},
     "output_type": "execute_result"
    }
   ],
   "source": [
    "smoke.sum(axis=1)"
   ]
  },
  {
   "cell_type": "code",
   "execution_count": 488,
   "metadata": {},
   "outputs": [
    {
     "data": {
      "text/plain": [
       "(both       0.331163\n",
       " one        0.416558\n",
       " neither    0.252279\n",
       " dtype: float64, yes    0.186791\n",
       " no     0.813209\n",
       " dtype: float64)"
      ]
     },
     "execution_count": 488,
     "metadata": {},
     "output_type": "execute_result"
    }
   ],
   "source": [
    "smoke_t.marginal_probabilities"
   ]
  },
  {
   "cell_type": "markdown",
   "metadata": {},
   "source": [
    "__The etimates of these probabilities are:__\n",
    "\n",
    "Yes is the response and `Both, One, Neither` are the predictors. "
   ]
  },
  {
   "cell_type": "code",
   "execution_count": 509,
   "metadata": {},
   "outputs": [
    {
     "data": {
      "text/plain": [
       "both       0.224719\n",
       "one        0.185797\n",
       "neither    0.138643\n",
       "dtype: float64"
      ]
     },
     "execution_count": 509,
     "metadata": {},
     "output_type": "execute_result"
    }
   ],
   "source": [
    "est_prob = smoke.values[:,0] / smoke.sum(axis=1)\n",
    "est_prob"
   ]
  },
  {
   "cell_type": "markdown",
   "metadata": {},
   "source": [
    "You can then compare these as risks associated with the parameters. The effect of Y on Z can be summarized with two differences.m, For example, we can calculate the increase in the probability of Z = 1 as Y goes from 3 to 2, and as Y goes from 2 to 1:"
   ]
  },
  {
   "cell_type": "code",
   "execution_count": 515,
   "metadata": {},
   "outputs": [
    {
     "name": "stdout",
     "output_type": "stream",
     "text": [
      "prob:`one` - prob:`neither`:  0.04715416306004708\n",
      "prob:`both` - prob:`one`:  0.03892187021694074\n"
     ]
    }
   ],
   "source": [
    "print(\"prob:`one` - prob:`neither`: \", est_prob[1] - est_prob[2])\n",
    "print(\"prob:`both` - prob:`one`: \", est_prob[0] - est_prob[1])"
   ]
  },
  {
   "cell_type": "code",
   "execution_count": 531,
   "metadata": {},
   "outputs": [
    {
     "name": "stdout",
     "output_type": "stream",
     "text": [
      "Effect prob one vs neither:  1.4177238827744774\n"
     ]
    }
   ],
   "source": [
    "print(\"Effect prob one vs neither: \", (smoke.values[1,0]*smoke.values[2,1]) / (smoke.values[2,0]*smoke.values[1,1]))\n"
   ]
  },
  {
   "cell_type": "markdown",
   "metadata": {},
   "source": [
    "This estimated value of 1.42 means that __students with one smoking parent are estimated to be 42% more likely (one the odds scale) to smoke than students whos parents do not smoke__"
   ]
  },
  {
   "cell_type": "code",
   "execution_count": 532,
   "metadata": {},
   "outputs": [
    {
     "name": "stdout",
     "output_type": "stream",
     "text": [
      "Effect prob both vs neither:  1.8008017267961764\n"
     ]
    }
   ],
   "source": [
    "print(\"Effect prob both vs neither: \", (smoke.values[0,0]*smoke.values[2,1]) / (smoke.values[2,0]*smoke.values[0,1]))"
   ]
  },
  {
   "cell_type": "markdown",
   "metadata": {},
   "source": [
    "The value 1.80 means that __studens with 2 smoking parents are 80% more likely to smoke than students whos parents do not smoke__"
   ]
  },
  {
   "cell_type": "code",
   "execution_count": 546,
   "metadata": {},
   "outputs": [
    {
     "data": {
      "text/html": [
       "<div>\n",
       "<style scoped>\n",
       "    .dataframe tbody tr th:only-of-type {\n",
       "        vertical-align: middle;\n",
       "    }\n",
       "\n",
       "    .dataframe tbody tr th {\n",
       "        vertical-align: top;\n",
       "    }\n",
       "\n",
       "    .dataframe thead th {\n",
       "        text-align: right;\n",
       "    }\n",
       "</style>\n",
       "<table border=\"1\" class=\"dataframe\">\n",
       "  <thead>\n",
       "    <tr style=\"text-align: right;\">\n",
       "      <th></th>\n",
       "      <th>yes</th>\n",
       "      <th>no</th>\n",
       "    </tr>\n",
       "  </thead>\n",
       "  <tbody>\n",
       "    <tr>\n",
       "      <th>neither</th>\n",
       "      <td>188</td>\n",
       "      <td>1168</td>\n",
       "    </tr>\n",
       "    <tr>\n",
       "      <th>1-2 parents smoke</th>\n",
       "      <td>816</td>\n",
       "      <td>3203</td>\n",
       "    </tr>\n",
       "  </tbody>\n",
       "</table>\n",
       "</div>"
      ],
      "text/plain": [
       "                   yes    no\n",
       "neither            188  1168\n",
       "1-2 parents smoke  816  3203"
      ]
     },
     "execution_count": 546,
     "metadata": {},
     "output_type": "execute_result"
    }
   ],
   "source": [
    "smoke.loc['1-2 parents smoke'] = smoke.values[:2].sum(axis=0)\n",
    "smoke[2:]"
   ]
  },
  {
   "cell_type": "code",
   "execution_count": 553,
   "metadata": {},
   "outputs": [
    {
     "name": "stdout",
     "output_type": "stream",
     "text": [
      "Pearson's Chi-squared test with Yates' continuity correction\n",
      "X-squared:  27.67657823706137\n",
      "p-value  :  1.433883449213492e-07\n",
      "degree of f:  1\n",
      "Odds Ratio:  1.582771470894972\n"
     ]
    }
   ],
   "source": [
    "chi2, p, dof, ex = stats.chi2_contingency(smoke[2:], correction=False)\n",
    "\n",
    "print(\"Pearson's Chi-squared test with Yates' continuity correction\")\n",
    "print(\"X-squared: \", chi2)\n",
    "print(\"p-value  : \", p)\n",
    "print(\"degree of f: \", dof)\n",
    "\n",
    "oddsratio, pvalue = stats.fisher_exact(smoke[2:], alternative='two-sided')\n",
    "print(\"Odds Ratio: \", 1/oddsratio)"
   ]
  },
  {
   "cell_type": "markdown",
   "metadata": {},
   "source": [
    "This table has X2 = 27.7, G2 = 29.1, p-value ≈ 0, and $\\hat\\theta=1.58$. Therefore, __we estimate that a student is 58% more likely, on the odds scale, to smoke if he or she has at least one smoking parent__\n",
    "\n",
    "Now we ask, _\"Amon those students with at least one smoking parent,_ is there any difference between those with one smoking parent and those with 2 smoking parents, _Given that at least one parent smokes_, is there any evidence that the other parent's smoking affects the chances that the student will smoke?"
   ]
  },
  {
   "cell_type": "code",
   "execution_count": 557,
   "metadata": {},
   "outputs": [
    {
     "name": "stdout",
     "output_type": "stream",
     "text": [
      "Pearson's Chi-squared test with Yates' continuity correction\n",
      "X-squared:  9.283941709771309\n",
      "p-value  :  0.0023117143947693234\n",
      "degree of f:  1\n",
      "Odds Ratio:  1.27020624303233\n"
     ]
    }
   ],
   "source": [
    "chi2, p, dof, ex = stats.chi2_contingency(smoke[:2], correction=False)\n",
    "\n",
    "print(\"Pearson's Chi-squared test with Yates' continuity correction\")\n",
    "print(\"X-squared: \", chi2)\n",
    "print(\"p-value  : \", p)\n",
    "print(\"degree of f: \", dof)\n",
    "\n",
    "oddsratio, pvalue = stats.fisher_exact(smoke[:2], alternative='two-sided')\n",
    "print(\"Odds Ratio: \", oddsratio)"
   ]
  },
  {
   "cell_type": "markdown",
   "metadata": {},
   "source": [
    "__Conclusion__: with $\\chi^2=9.3$, pvalue ~ 0.002 and $\\hat\\theta=1.27$, given that at least one parent smokes, the fact that the other parent smokes __does indeed raise the student's probability of smoking; the effect, however is not large $\\hat\\theta=1.27$__ and tht was in going from neither parent smoking to at least one parent smoking $\\hat\\theta=1.58$. "
   ]
  },
  {
   "cell_type": "code",
   "execution_count": null,
   "metadata": {},
   "outputs": [],
   "source": []
  },
  {
   "cell_type": "code",
   "execution_count": null,
   "metadata": {},
   "outputs": [],
   "source": []
  },
  {
   "cell_type": "code",
   "execution_count": null,
   "metadata": {},
   "outputs": [],
   "source": []
  },
  {
   "cell_type": "code",
   "execution_count": null,
   "metadata": {},
   "outputs": [],
   "source": []
  }
 ],
 "metadata": {
  "kernelspec": {
   "display_name": "bril",
   "language": "python",
   "name": "bril"
  },
  "language_info": {
   "codemirror_mode": {
    "name": "ipython",
    "version": 3
   },
   "file_extension": ".py",
   "mimetype": "text/x-python",
   "name": "python",
   "nbconvert_exporter": "python",
   "pygments_lexer": "ipython3",
   "version": "3.7.3"
  }
 },
 "nbformat": 4,
 "nbformat_minor": 2
}
