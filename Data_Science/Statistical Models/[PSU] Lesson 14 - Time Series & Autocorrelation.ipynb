{
 "cells": [
  {
   "cell_type": "markdown",
   "metadata": {},
   "source": [
    "# PSU STAT 501\n",
    "https://newonlinecourses.science.psu.edu/stat501/node/358/\n",
    "\n",
    "\n",
    "## Autocorrelation\n",
    "\n",
    "![](http://slideplayer.com/slide/9416552/28/images/44/Autocorrelation+Autocorrelation+is+correlation+of+the+errors+(residuals)+over+time.+Here,+residuals+suggest+a+cyclic+pattern,+not+random..jpg)\n"
   ]
  },
  {
   "cell_type": "code",
   "execution_count": 1,
   "metadata": {},
   "outputs": [],
   "source": [
    "import pandas as pd\n",
    "import numpy as np\n",
    "\n",
    "# import plotting libraries\n",
    "\n",
    "import matplotlib.pyplot as plt\n",
    "import seaborn as sns\n",
    "\n",
    "%matplotlib inline\n",
    "plt.style.use('seaborn-white')\n",
    "\n",
    "# Statistical Packages\n",
    "import scipy.stats as stats\n",
    "import statsmodels.api as sm\n",
    "import statsmodels.formula.api as smf"
   ]
  },
  {
   "cell_type": "markdown",
   "metadata": {},
   "source": [
    "### Autocorrelation with Google Stock"
   ]
  },
  {
   "cell_type": "code",
   "execution_count": 3,
   "metadata": {},
   "outputs": [
    {
     "data": {
      "text/html": [
       "<div>\n",
       "<style scoped>\n",
       "    .dataframe tbody tr th:only-of-type {\n",
       "        vertical-align: middle;\n",
       "    }\n",
       "\n",
       "    .dataframe tbody tr th {\n",
       "        vertical-align: top;\n",
       "    }\n",
       "\n",
       "    .dataframe thead th {\n",
       "        text-align: right;\n",
       "    }\n",
       "</style>\n",
       "<table border=\"1\" class=\"dataframe\">\n",
       "  <thead>\n",
       "    <tr style=\"text-align: right;\">\n",
       "      <th></th>\n",
       "      <th>date</th>\n",
       "      <th>price</th>\n",
       "    </tr>\n",
       "  </thead>\n",
       "  <tbody>\n",
       "    <tr>\n",
       "      <th>0</th>\n",
       "      <td>2/7/2005</td>\n",
       "      <td>196.03</td>\n",
       "    </tr>\n",
       "    <tr>\n",
       "      <th>1</th>\n",
       "      <td>2/8/2005</td>\n",
       "      <td>198.64</td>\n",
       "    </tr>\n",
       "    <tr>\n",
       "      <th>2</th>\n",
       "      <td>2/9/2005</td>\n",
       "      <td>191.58</td>\n",
       "    </tr>\n",
       "    <tr>\n",
       "      <th>3</th>\n",
       "      <td>2/10/2005</td>\n",
       "      <td>187.98</td>\n",
       "    </tr>\n",
       "    <tr>\n",
       "      <th>4</th>\n",
       "      <td>2/11/2005</td>\n",
       "      <td>187.40</td>\n",
       "    </tr>\n",
       "  </tbody>\n",
       "</table>\n",
       "</div>"
      ],
      "text/plain": [
       "             date   price\n",
       "0        2/7/2005  196.03\n",
       "1  2/8/2005        198.64\n",
       "2  2/9/2005        191.58\n",
       "3      2/10/2005   187.98\n",
       "4      2/11/2005   187.40"
      ]
     },
     "execution_count": 3,
     "metadata": {},
     "output_type": "execute_result"
    }
   ],
   "source": [
    "stock = pd.read_csv(\"data/google_stock.txt\", sep='\\t')\n",
    "stock.head()"
   ]
  },
  {
   "cell_type": "code",
   "execution_count": 5,
   "metadata": {},
   "outputs": [
    {
     "data": {
      "text/plain": [
       "<matplotlib.axes._subplots.AxesSubplot at 0x7f42bb186320>"
      ]
     },
     "execution_count": 5,
     "metadata": {},
     "output_type": "execute_result"
    },
    {
     "data": {
      "image/png": "[encoded data removed]",
      "text/plain": [
       "<Figure size 432x288 with 1 Axes>"
      ]
     },
     "metadata": {
      "needs_background": "light"
     },
     "output_type": "display_data"
    }
   ],
   "source": [
    "sns.scatterplot(x=stock.date, y=stock.price)"
   ]
  },
  {
   "cell_type": "markdown",
   "metadata": {},
   "source": [
    "The consecutive values appear to follow one another fairly closely, suggesting an autogregression model could be appropriate. \n",
    "\n",
    "__Partial autocorrelation__\n",
    "Next we will plit the __Partial Autocorrelation__ will will provide us insitght into the order the model might be in. "
   ]
  },
  {
   "cell_type": "code",
   "execution_count": 10,
   "metadata": {},
   "outputs": [
    {
     "data": {
      "image/png": "[encoded data removed]",
      "text/plain": [
       "<Figure size 432x288 with 1 Axes>"
      ]
     },
     "metadata": {
      "needs_background": "light"
     },
     "output_type": "display_data"
    }
   ],
   "source": [
    "from statsmodels.graphics.tsaplots import plot_pacf\n",
    "plot_pacf(stock.price, lags=30);"
   ]
  },
  {
   "cell_type": "markdown",
   "metadata": {},
   "source": [
    "we see thtere is a __significant spike__ at `lag of 1` and much lower spikes for the subsequent lags. Thus an `AR(1)` model would likely be feasible for this data set. The _blue shadded region_  in the __Partial Autocorrelation__ tells us the area that is statistically, these __autoo-correlations are 0__. Is provide the approximate bounds that can be consutrcuted in determining __large values__ where the significance bounds are given by $\\pm z_{1-\\alpha/2}/\\sqrt{n}$ And therefore, _values lyting outside of these bounds are _indicative of an autoregressive process.__\n",
    "\n",
    "In other words, even thought we do hav eosme autocorrelation, there is reason to believe its not really correlated, or more specifically, its close enough to 0 that we cannot consider it in the model. \n",
    "\n",
    "__Lag-1 Price__\n",
    "\n",
    "Next we will created a new column `price_lag1` variable to consider a scatterplot of price vers this lag1 variable. "
   ]
  },
  {
   "cell_type": "code",
   "execution_count": 12,
   "metadata": {},
   "outputs": [
    {
     "data": {
      "text/plain": [
       "<matplotlib.axes._subplots.AxesSubplot at 0x7f42ba0b0550>"
      ]
     },
     "execution_count": 12,
     "metadata": {},
     "output_type": "execute_result"
    },
    {
     "data": {
      "image/png": "[encoded data removed]",
      "text/plain": [
       "<Figure size 432x288 with 1 Axes>"
      ]
     },
     "metadata": {
      "needs_background": "light"
     },
     "output_type": "display_data"
    }
   ],
   "source": [
    "stock['price_lag1'] = stock.price.shift(1)\n",
    "sns.regplot(x = stock.price_lag1, y=stock.price)"
   ]
  },
  {
   "cell_type": "markdown",
   "metadata": {},
   "source": [
    "The regression plot above for `AR(1)` provide a linear pattern that follow this model:\n",
    "\n",
    "    $\\begin{equation*}     y_{t}=\\beta_{0}+\\beta_{1}y_{t-1}+\\epsilon_{t}    \\end{equation*}$"
   ]
  },
  {
   "cell_type": "markdown",
   "metadata": {},
   "source": [
    "## Eearthquakes"
   ]
  },
  {
   "cell_type": "code",
   "execution_count": 13,
   "metadata": {},
   "outputs": [
    {
     "data": {
      "text/html": [
       "<div>\n",
       "<style scoped>\n",
       "    .dataframe tbody tr th:only-of-type {\n",
       "        vertical-align: middle;\n",
       "    }\n",
       "\n",
       "    .dataframe tbody tr th {\n",
       "        vertical-align: top;\n",
       "    }\n",
       "\n",
       "    .dataframe thead th {\n",
       "        text-align: right;\n",
       "    }\n",
       "</style>\n",
       "<table border=\"1\" class=\"dataframe\">\n",
       "  <thead>\n",
       "    <tr style=\"text-align: right;\">\n",
       "      <th></th>\n",
       "      <th>Year</th>\n",
       "      <th>Quakes</th>\n",
       "    </tr>\n",
       "  </thead>\n",
       "  <tbody>\n",
       "    <tr>\n",
       "      <th>0</th>\n",
       "      <td>1916</td>\n",
       "      <td>2</td>\n",
       "    </tr>\n",
       "    <tr>\n",
       "      <th>1</th>\n",
       "      <td>1917</td>\n",
       "      <td>5</td>\n",
       "    </tr>\n",
       "    <tr>\n",
       "      <th>2</th>\n",
       "      <td>1918</td>\n",
       "      <td>12</td>\n",
       "    </tr>\n",
       "    <tr>\n",
       "      <th>3</th>\n",
       "      <td>1919</td>\n",
       "      <td>8</td>\n",
       "    </tr>\n",
       "    <tr>\n",
       "      <th>4</th>\n",
       "      <td>1920</td>\n",
       "      <td>7</td>\n",
       "    </tr>\n",
       "  </tbody>\n",
       "</table>\n",
       "</div>"
      ],
      "text/plain": [
       "   Year  Quakes\n",
       "0  1916       2\n",
       "1  1917       5\n",
       "2  1918      12\n",
       "3  1919       8\n",
       "4  1920       7"
      ]
     },
     "execution_count": 13,
     "metadata": {},
     "output_type": "execute_result"
    }
   ],
   "source": [
    "quake = pd.read_csv(\"https://newonlinecourses.science.psu.edu/stat501/sites/onlinecourses.science.psu.edu.stat501/files/data/earthquakes/index.txt\", sep='\\t')\n",
    "quake.head()"
   ]
  },
  {
   "cell_type": "markdown",
   "metadata": {},
   "source": [
    "plot below give a time series plot fhr the number of worldwide earthquakes with magnitude greater htat 7 on ricter scale"
   ]
  },
  {
   "cell_type": "code",
   "execution_count": 15,
   "metadata": {},
   "outputs": [
    {
     "data": {
      "text/plain": [
       "<matplotlib.axes._subplots.AxesSubplot at 0x7f42b774be80>"
      ]
     },
     "execution_count": 15,
     "metadata": {},
     "output_type": "execute_result"
    },
    {
     "data": {
      "image/png": "[encoded data removed]",
      "text/plain": [
       "<Figure size 432x288 with 1 Axes>"
      ]
     },
     "metadata": {
      "needs_background": "light"
     },
     "output_type": "display_data"
    }
   ],
   "source": [
    "sns.scatterplot(x=quake.Year, y=quake.Quakes)"
   ]
  },
  {
   "cell_type": "markdown",
   "metadata": {},
   "source": [
    "__partial autocorrelation function for earthquakes__"
   ]
  },
  {
   "cell_type": "code",
   "execution_count": 21,
   "metadata": {},
   "outputs": [
    {
     "data": {
      "image/png": "[encoded data removed]",
      "text/plain": [
       "<Figure size 432x288 with 1 Axes>"
      ]
     },
     "metadata": {
      "needs_background": "light"
     },
     "output_type": "display_data"
    }
   ],
   "source": [
    "from statsmodels.graphics.tsaplots import plot_pacf\n",
    "plot_pacf(quake.Quakes, lags=20);"
   ]
  },
  {
   "cell_type": "markdown",
   "metadata": {},
   "source": [
    "__Interpretation:__ the PACF (partical autocorrelation funciton) can be interpreted to mean that a third-order autoregression may be warnted sine there are notable partial autocorrelations for lages 1 and 3.\n",
    "\n",
    "__MLR__\n",
    "Therefore, enxt we will do a Multiple Linear Regression with the number of quakes as the response variable witht eh follwing lags in the modeol:\n",
    "\n",
    "        $Quakes = \\beta_lag1Quake + \\beta_lag2Quake + \\beta_lag3Quake$\n",
    "   \n",
    "Below is the OLS results:"
   ]
  },
  {
   "cell_type": "code",
   "execution_count": 23,
   "metadata": {},
   "outputs": [],
   "source": [
    "quake['lag1_quake'] = quake.Quakes.shift(1)\n",
    "quake['lag2_quake'] = quake.Quakes.shift(2)\n",
    "quake['lag3_quake'] = quake.Quakes.shift(3)"
   ]
  },
  {
   "cell_type": "code",
   "execution_count": 26,
   "metadata": {},
   "outputs": [
    {
     "name": "stdout",
     "output_type": "stream",
     "text": [
      "                            OLS Regression Results                            \n",
      "==============================================================================\n",
      "Dep. Variable:                 Quakes   R-squared:                       0.139\n",
      "Model:                            OLS   Adj. R-squared:                  0.111\n",
      "Method:                 Least Squares   F-statistic:                     4.997\n",
      "Date:                Thu, 30 May 2019   Prob (F-statistic):            0.00294\n",
      "Time:                        22:41:51   Log-Likelihood:                -266.37\n",
      "No. Observations:                  97   AIC:                             540.7\n",
      "Df Residuals:                      93   BIC:                             551.0\n",
      "Df Model:                           3                                         \n",
      "Covariance Type:            nonrobust                                         \n",
      "==============================================================================\n",
      "                 coef    std err          t      P>|t|      [0.025      0.975]\n",
      "------------------------------------------------------------------------------\n",
      "Intercept      6.4492      1.786      3.610      0.000       2.902       9.997\n",
      "lag1_quake     0.1642      0.101      1.632      0.106      -0.036       0.364\n",
      "lag2_quake     0.0713      0.101      0.703      0.484      -0.130       0.272\n",
      "lag3_quake     0.2693      0.098      2.753      0.007       0.075       0.464\n",
      "==============================================================================\n",
      "Omnibus:                        4.969   Durbin-Watson:                   2.031\n",
      "Prob(Omnibus):                  0.083   Jarque-Bera (JB):                4.879\n",
      "Skew:                           0.548   Prob(JB):                       0.0872\n",
      "Kurtosis:                       2.915   Cond. No.                         103.\n",
      "==============================================================================\n",
      "\n",
      "Warnings:\n",
      "[1] Standard Errors assume that the covariance matrix of the errors is correctly specified.\n"
     ]
    }
   ],
   "source": [
    "quake_model = smf.ols(formula='Quakes~ lag1_quake + lag2_quake +lag3_quake', data = quake).fit()\n",
    "\n",
    "print(quake_model.summary())"
   ]
  },
  {
   "cell_type": "markdown",
   "metadata": {},
   "source": [
    "The results show that `lag3_quake`predictor is __significant__ at 0.05 level (and lag-1 predictor p-value is also relatively small). "
   ]
  },
  {
   "cell_type": "code",
   "execution_count": null,
   "metadata": {},
   "outputs": [],
   "source": []
  },
  {
   "cell_type": "code",
   "execution_count": null,
   "metadata": {},
   "outputs": [],
   "source": []
  },
  {
   "cell_type": "code",
   "execution_count": null,
   "metadata": {},
   "outputs": [],
   "source": []
  },
  {
   "cell_type": "code",
   "execution_count": null,
   "metadata": {},
   "outputs": [],
   "source": []
  },
  {
   "cell_type": "code",
   "execution_count": null,
   "metadata": {},
   "outputs": [],
   "source": []
  }
 ],
 "metadata": {
  "kernelspec": {
   "display_name": "Python 3",
   "language": "python",
   "name": "python3"
  },
  "language_info": {
   "codemirror_mode": {
    "name": "ipython",
    "version": 3
   },
   "file_extension": ".py",
   "mimetype": "text/x-python",
   "name": "python",
   "nbconvert_exporter": "python",
   "pygments_lexer": "ipython3",
   "version": "3.7.3"
  }
 },
 "nbformat": 4,
 "nbformat_minor": 2
}
