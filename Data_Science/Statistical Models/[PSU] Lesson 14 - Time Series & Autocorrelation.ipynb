{
 "cells": [
  {
   "cell_type": "markdown",
   "metadata": {},
   "source": [
    "# PSU STAT 501\n",
    "https://newonlinecourses.science.psu.edu/stat501/node/358/\n",
    "\n",
    "\n",
    "__SEE: Employee Example for Durbin Watson FOR COMPLETE EXAMPLE__\n",
    "\n",
    "## Autocorrelation\n",
    "\n",
    "![](http://slideplayer.com/slide/9416552/28/images/44/Autocorrelation+Autocorrelation+is+correlation+of+the+errors+(residuals)+over+time.+Here,+residuals+suggest+a+cyclic+pattern,+not+random..jpg)\n"
   ]
  },
  {
   "cell_type": "code",
   "execution_count": 21,
   "metadata": {},
   "outputs": [],
   "source": [
    "import pandas as pd\n",
    "import numpy as np\n",
    "\n",
    "# import plotting libraries\n",
    "\n",
    "import matplotlib.pyplot as plt\n",
    "import seaborn as sns\n",
    "\n",
    "%matplotlib inline\n",
    "plt.style.use('seaborn-white')\n",
    "\n",
    "# Statistical Packages\n",
    "import scipy.stats as stats\n",
    "import statsmodels.api as sm\n",
    "import statsmodels.stats.stattools as stools\n",
    "import statsmodels.formula.api as smf"
   ]
  },
  {
   "cell_type": "markdown",
   "metadata": {},
   "source": [
    "### Autocorrelation with Google Stock"
   ]
  },
  {
   "cell_type": "code",
   "execution_count": 2,
   "metadata": {},
   "outputs": [
    {
     "data": {
      "text/html": [
       "<div>\n",
       "<style scoped>\n",
       "    .dataframe tbody tr th:only-of-type {\n",
       "        vertical-align: middle;\n",
       "    }\n",
       "\n",
       "    .dataframe tbody tr th {\n",
       "        vertical-align: top;\n",
       "    }\n",
       "\n",
       "    .dataframe thead th {\n",
       "        text-align: right;\n",
       "    }\n",
       "</style>\n",
       "<table border=\"1\" class=\"dataframe\">\n",
       "  <thead>\n",
       "    <tr style=\"text-align: right;\">\n",
       "      <th></th>\n",
       "      <th>date</th>\n",
       "      <th>price</th>\n",
       "    </tr>\n",
       "  </thead>\n",
       "  <tbody>\n",
       "    <tr>\n",
       "      <th>0</th>\n",
       "      <td>2/7/2005</td>\n",
       "      <td>196.03</td>\n",
       "    </tr>\n",
       "    <tr>\n",
       "      <th>1</th>\n",
       "      <td>2/8/2005</td>\n",
       "      <td>198.64</td>\n",
       "    </tr>\n",
       "    <tr>\n",
       "      <th>2</th>\n",
       "      <td>2/9/2005</td>\n",
       "      <td>191.58</td>\n",
       "    </tr>\n",
       "    <tr>\n",
       "      <th>3</th>\n",
       "      <td>2/10/2005</td>\n",
       "      <td>187.98</td>\n",
       "    </tr>\n",
       "    <tr>\n",
       "      <th>4</th>\n",
       "      <td>2/11/2005</td>\n",
       "      <td>187.40</td>\n",
       "    </tr>\n",
       "  </tbody>\n",
       "</table>\n",
       "</div>"
      ],
      "text/plain": [
       "             date   price\n",
       "0        2/7/2005  196.03\n",
       "1  2/8/2005        198.64\n",
       "2  2/9/2005        191.58\n",
       "3      2/10/2005   187.98\n",
       "4      2/11/2005   187.40"
      ]
     },
     "execution_count": 2,
     "metadata": {},
     "output_type": "execute_result"
    }
   ],
   "source": [
    "stock = pd.read_csv(\"data/google_stock.txt\", sep='\\t')\n",
    "stock.head()"
   ]
  },
  {
   "cell_type": "code",
   "execution_count": 3,
   "metadata": {},
   "outputs": [
    {
     "data": {
      "text/plain": [
       "<matplotlib.axes._subplots.AxesSubplot at 0x7f81ff81dcc0>"
      ]
     },
     "execution_count": 3,
     "metadata": {},
     "output_type": "execute_result"
    },
    {
     "data": {
      "image/png": "[encoded data removed]",
      "text/plain": [
       "<Figure size 432x288 with 1 Axes>"
      ]
     },
     "metadata": {
      "needs_background": "light"
     },
     "output_type": "display_data"
    }
   ],
   "source": [
    "sns.scatterplot(x=stock.date, y=stock.price)"
   ]
  },
  {
   "cell_type": "markdown",
   "metadata": {},
   "source": [
    "The consecutive values appear to follow one another fairly closely, suggesting an autogregression model could be appropriate. \n",
    "\n",
    "__Partial autocorrelation__\n",
    "Next we will plit the __Partial Autocorrelation__ will will provide us insitght into the order the model might be in. "
   ]
  },
  {
   "cell_type": "code",
   "execution_count": 4,
   "metadata": {},
   "outputs": [
    {
     "data": {
      "image/png": "[encoded data removed]",
      "text/plain": [
       "<Figure size 432x288 with 1 Axes>"
      ]
     },
     "metadata": {
      "needs_background": "light"
     },
     "output_type": "display_data"
    }
   ],
   "source": [
    "from statsmodels.graphics.tsaplots import plot_pacf\n",
    "plot_pacf(stock.price, lags=30);"
   ]
  },
  {
   "cell_type": "markdown",
   "metadata": {},
   "source": [
    "we see thtere is a __significant spike__ at `lag of 1` and much lower spikes for the subsequent lags. Thus an `AR(1)` model would likely be feasible for this data set. The _blue shadded region_  in the __Partial Autocorrelation__ tells us the area that is statistically, these __autoo-correlations are 0__. Is provide the approximate bounds that can be consutrcuted in determining __large values__ where the significance bounds are given by $\\pm z_{1-\\alpha/2}/\\sqrt{n}$ And therefore, _values lyting outside of these bounds are _indicative of an autoregressive process.__\n",
    "\n",
    "In other words, even thought we do hav eosme autocorrelation, there is reason to believe its not really correlated, or more specifically, its close enough to 0 that we cannot consider it in the model. \n",
    "\n",
    "__Lag-1 Price__\n",
    "\n",
    "Next we will created a new column `price_lag1` variable to consider a scatterplot of price vers this lag1 variable. "
   ]
  },
  {
   "cell_type": "code",
   "execution_count": 5,
   "metadata": {},
   "outputs": [
    {
     "data": {
      "text/plain": [
       "<matplotlib.axes._subplots.AxesSubplot at 0x7f81e4aa4c88>"
      ]
     },
     "execution_count": 5,
     "metadata": {},
     "output_type": "execute_result"
    },
    {
     "data": {
      "image/png": "[encoded data removed]",
      "text/plain": [
       "<Figure size 432x288 with 1 Axes>"
      ]
     },
     "metadata": {
      "needs_background": "light"
     },
     "output_type": "display_data"
    }
   ],
   "source": [
    "stock['price_lag1'] = stock.price.shift(1)\n",
    "sns.regplot(x = stock.price_lag1, y=stock.price)"
   ]
  },
  {
   "cell_type": "markdown",
   "metadata": {},
   "source": [
    "The regression plot above for `AR(1)` provide a linear pattern that follow this model:\n",
    "\n",
    "    $\\begin{equation*}     y_{t}=\\beta_{0}+\\beta_{1}y_{t-1}+\\epsilon_{t}    \\end{equation*}$"
   ]
  },
  {
   "cell_type": "markdown",
   "metadata": {},
   "source": [
    "## Eearthquakes"
   ]
  },
  {
   "cell_type": "code",
   "execution_count": 6,
   "metadata": {},
   "outputs": [
    {
     "data": {
      "text/html": [
       "<div>\n",
       "<style scoped>\n",
       "    .dataframe tbody tr th:only-of-type {\n",
       "        vertical-align: middle;\n",
       "    }\n",
       "\n",
       "    .dataframe tbody tr th {\n",
       "        vertical-align: top;\n",
       "    }\n",
       "\n",
       "    .dataframe thead th {\n",
       "        text-align: right;\n",
       "    }\n",
       "</style>\n",
       "<table border=\"1\" class=\"dataframe\">\n",
       "  <thead>\n",
       "    <tr style=\"text-align: right;\">\n",
       "      <th></th>\n",
       "      <th>Year</th>\n",
       "      <th>Quakes</th>\n",
       "    </tr>\n",
       "  </thead>\n",
       "  <tbody>\n",
       "    <tr>\n",
       "      <th>0</th>\n",
       "      <td>1916</td>\n",
       "      <td>2</td>\n",
       "    </tr>\n",
       "    <tr>\n",
       "      <th>1</th>\n",
       "      <td>1917</td>\n",
       "      <td>5</td>\n",
       "    </tr>\n",
       "    <tr>\n",
       "      <th>2</th>\n",
       "      <td>1918</td>\n",
       "      <td>12</td>\n",
       "    </tr>\n",
       "    <tr>\n",
       "      <th>3</th>\n",
       "      <td>1919</td>\n",
       "      <td>8</td>\n",
       "    </tr>\n",
       "    <tr>\n",
       "      <th>4</th>\n",
       "      <td>1920</td>\n",
       "      <td>7</td>\n",
       "    </tr>\n",
       "  </tbody>\n",
       "</table>\n",
       "</div>"
      ],
      "text/plain": [
       "   Year  Quakes\n",
       "0  1916       2\n",
       "1  1917       5\n",
       "2  1918      12\n",
       "3  1919       8\n",
       "4  1920       7"
      ]
     },
     "execution_count": 6,
     "metadata": {},
     "output_type": "execute_result"
    }
   ],
   "source": [
    "quake = pd.read_csv(\"https://newonlinecourses.science.psu.edu/stat501/sites/onlinecourses.science.psu.edu.stat501/files/data/earthquakes/index.txt\", sep='\\t')\n",
    "quake.head()"
   ]
  },
  {
   "cell_type": "markdown",
   "metadata": {},
   "source": [
    "plot below give a time series plot fhr the number of worldwide earthquakes with magnitude greater htat 7 on ricter scale"
   ]
  },
  {
   "cell_type": "code",
   "execution_count": 7,
   "metadata": {},
   "outputs": [
    {
     "data": {
      "text/plain": [
       "<matplotlib.axes._subplots.AxesSubplot at 0x7f81e4a915c0>"
      ]
     },
     "execution_count": 7,
     "metadata": {},
     "output_type": "execute_result"
    },
    {
     "data": {
      "image/png": "[encoded data removed]",
      "text/plain": [
       "<Figure size 432x288 with 1 Axes>"
      ]
     },
     "metadata": {
      "needs_background": "light"
     },
     "output_type": "display_data"
    }
   ],
   "source": [
    "sns.scatterplot(x=quake.Year, y=quake.Quakes)"
   ]
  },
  {
   "cell_type": "markdown",
   "metadata": {},
   "source": [
    "__partial autocorrelation function for earthquakes__"
   ]
  },
  {
   "cell_type": "code",
   "execution_count": 8,
   "metadata": {},
   "outputs": [
    {
     "data": {
      "image/png": "[encoded data removed]",
      "text/plain": [
       "<Figure size 432x288 with 1 Axes>"
      ]
     },
     "metadata": {
      "needs_background": "light"
     },
     "output_type": "display_data"
    }
   ],
   "source": [
    "from statsmodels.graphics.tsaplots import plot_pacf\n",
    "plot_pacf(quake.Quakes, lags=20);"
   ]
  },
  {
   "cell_type": "markdown",
   "metadata": {},
   "source": [
    "__Interpretation:__ the PACF (partical autocorrelation funciton) can be interpreted to mean that a third-order autoregression may be warnted sine there are notable partial autocorrelations for lages 1 and 3.\n",
    "\n",
    "__MLR__\n",
    "Therefore, enxt we will do a Multiple Linear Regression with the number of quakes as the response variable witht eh follwing lags in the modeol:\n",
    "\n",
    "        $Quakes = \\beta_lag1Quake + \\beta_lag2Quake + \\beta_lag3Quake$\n",
    "   \n",
    "Below is the OLS results:"
   ]
  },
  {
   "cell_type": "code",
   "execution_count": 9,
   "metadata": {},
   "outputs": [],
   "source": [
    "quake['lag1_quake'] = quake.Quakes.shift(1)\n",
    "quake['lag2_quake'] = quake.Quakes.shift(2)\n",
    "quake['lag3_quake'] = quake.Quakes.shift(3)"
   ]
  },
  {
   "cell_type": "code",
   "execution_count": 10,
   "metadata": {},
   "outputs": [
    {
     "name": "stdout",
     "output_type": "stream",
     "text": [
      "                            OLS Regression Results                            \n",
      "==============================================================================\n",
      "Dep. Variable:                 Quakes   R-squared:                       0.139\n",
      "Model:                            OLS   Adj. R-squared:                  0.111\n",
      "Method:                 Least Squares   F-statistic:                     4.997\n",
      "Date:                Sat, 01 Jun 2019   Prob (F-statistic):            0.00294\n",
      "Time:                        06:23:07   Log-Likelihood:                -266.37\n",
      "No. Observations:                  97   AIC:                             540.7\n",
      "Df Residuals:                      93   BIC:                             551.0\n",
      "Df Model:                           3                                         \n",
      "Covariance Type:            nonrobust                                         \n",
      "==============================================================================\n",
      "                 coef    std err          t      P>|t|      [0.025      0.975]\n",
      "------------------------------------------------------------------------------\n",
      "Intercept      6.4492      1.786      3.610      0.000       2.902       9.997\n",
      "lag1_quake     0.1642      0.101      1.632      0.106      -0.036       0.364\n",
      "lag2_quake     0.0713      0.101      0.703      0.484      -0.130       0.272\n",
      "lag3_quake     0.2693      0.098      2.753      0.007       0.075       0.464\n",
      "==============================================================================\n",
      "Omnibus:                        4.969   Durbin-Watson:                   2.031\n",
      "Prob(Omnibus):                  0.083   Jarque-Bera (JB):                4.879\n",
      "Skew:                           0.548   Prob(JB):                       0.0872\n",
      "Kurtosis:                       2.915   Cond. No.                         103.\n",
      "==============================================================================\n",
      "\n",
      "Warnings:\n",
      "[1] Standard Errors assume that the covariance matrix of the errors is correctly specified.\n"
     ]
    }
   ],
   "source": [
    "quake_model = smf.ols(formula='Quakes~ lag1_quake + lag2_quake +lag3_quake', data = quake).fit()\n",
    "\n",
    "print(quake_model.summary())"
   ]
  },
  {
   "cell_type": "markdown",
   "metadata": {},
   "source": [
    "The results show that `lag3_quake`predictor is __significant__ at 0.05 level (and lag-1 predictor p-value is also relatively small). "
   ]
  },
  {
   "cell_type": "markdown",
   "metadata": {},
   "source": [
    "# Durbin Watson Test\n",
    "\n",
    "Test statistic for Durbin Watson Test\n",
    "\n",
    "$D=\\frac{\\sum_{t=2}^{n}(e_{t}-e_{t-1})^{2}}{\\sum_{t=1}^{n}e_{t}^{2}}$\n",
    "\n",
    "Where: $e_t = y_t - \\hat{y_t}$ are __residuals__ from the OLS regression. \n",
    "\n",
    "Hythoesis for the Durbin Watson test are \n",
    "\n",
    "Hypthesis | Interpretation \n",
    "--- | ---\n",
    "$H_{0}: \\rho=0$ | $\\rho=0$ means that $\\epsilon_{t}=\\omega_{t}$, or that the error term in one period is not correlated with the error term in the previous period\n",
    "$H_{A}: \\rho\\neq 0$ | $\\rho\\neq 0.$ mean the error term in one period is either positively or negatively correlated with the error term in the previous period.\n",
    "\n",
    "\n",
    "DW test statistic varies from 0 to 4. __Rule of thumb__ stat around 2 indicates __no Serial Correlation__\n",
    "\n",
    "### Example with ComSales data"
   ]
  },
  {
   "cell_type": "code",
   "execution_count": 18,
   "metadata": {},
   "outputs": [
    {
     "data": {
      "text/html": [
       "<div>\n",
       "<style scoped>\n",
       "    .dataframe tbody tr th:only-of-type {\n",
       "        vertical-align: middle;\n",
       "    }\n",
       "\n",
       "    .dataframe tbody tr th {\n",
       "        vertical-align: top;\n",
       "    }\n",
       "\n",
       "    .dataframe thead th {\n",
       "        text-align: right;\n",
       "    }\n",
       "</style>\n",
       "<table border=\"1\" class=\"dataframe\">\n",
       "  <thead>\n",
       "    <tr style=\"text-align: right;\">\n",
       "      <th></th>\n",
       "      <th>time</th>\n",
       "      <th>comsales</th>\n",
       "      <th>indsales</th>\n",
       "    </tr>\n",
       "  </thead>\n",
       "  <tbody>\n",
       "    <tr>\n",
       "      <th>0</th>\n",
       "      <td>1</td>\n",
       "      <td>20.96</td>\n",
       "      <td>127.3</td>\n",
       "    </tr>\n",
       "    <tr>\n",
       "      <th>1</th>\n",
       "      <td>2</td>\n",
       "      <td>21.40</td>\n",
       "      <td>130.0</td>\n",
       "    </tr>\n",
       "    <tr>\n",
       "      <th>2</th>\n",
       "      <td>3</td>\n",
       "      <td>21.96</td>\n",
       "      <td>132.7</td>\n",
       "    </tr>\n",
       "    <tr>\n",
       "      <th>3</th>\n",
       "      <td>4</td>\n",
       "      <td>21.52</td>\n",
       "      <td>129.4</td>\n",
       "    </tr>\n",
       "    <tr>\n",
       "      <th>4</th>\n",
       "      <td>5</td>\n",
       "      <td>22.39</td>\n",
       "      <td>135.0</td>\n",
       "    </tr>\n",
       "  </tbody>\n",
       "</table>\n",
       "</div>"
      ],
      "text/plain": [
       "   time  comsales  indsales\n",
       "0     1     20.96     127.3\n",
       "1     2     21.40     130.0\n",
       "2     3     21.96     132.7\n",
       "3     4     21.52     129.4\n",
       "4     5     22.39     135.0"
      ]
     },
     "execution_count": 18,
     "metadata": {},
     "output_type": "execute_result"
    }
   ],
   "source": [
    "comsales = pd.read_csv(\"./data/blaisdell.txt\", sep='\\t')\n",
    "comsales.head()"
   ]
  },
  {
   "cell_type": "code",
   "execution_count": 19,
   "metadata": {},
   "outputs": [
    {
     "name": "stdout",
     "output_type": "stream",
     "text": [
      "                            OLS Regression Results                            \n",
      "==============================================================================\n",
      "Dep. Variable:               comsales   R-squared:                       0.999\n",
      "Model:                            OLS   Adj. R-squared:                  0.999\n",
      "Method:                 Least Squares   F-statistic:                 1.489e+04\n",
      "Date:                Sat, 01 Jun 2019   Prob (F-statistic):           1.01e-27\n",
      "Time:                        06:26:45   Log-Likelihood:                 21.730\n",
      "No. Observations:                  20   AIC:                            -39.46\n",
      "Df Residuals:                      18   BIC:                            -37.47\n",
      "Df Model:                           1                                         \n",
      "Covariance Type:            nonrobust                                         \n",
      "==============================================================================\n",
      "                 coef    std err          t      P>|t|      [0.025      0.975]\n",
      "------------------------------------------------------------------------------\n",
      "Intercept     -1.4548      0.214     -6.793      0.000      -1.905      -1.005\n",
      "indsales       0.1763      0.001    122.017      0.000       0.173       0.179\n",
      "==============================================================================\n",
      "Omnibus:                        0.074   Durbin-Watson:                   0.735\n",
      "Prob(Omnibus):                  0.964   Jarque-Bera (JB):                0.300\n",
      "Skew:                          -0.032   Prob(JB):                        0.861\n",
      "Kurtosis:                       2.404   Cond. No.                     1.65e+03\n",
      "==============================================================================\n",
      "\n",
      "Warnings:\n",
      "[1] Standard Errors assume that the covariance matrix of the errors is correctly specified.\n",
      "[2] The condition number is large, 1.65e+03. This might indicate that there are\n",
      "strong multicollinearity or other numerical problems.\n"
     ]
    }
   ],
   "source": [
    "comsales_model = smf.ols(formula='comsales~ indsales', data = comsales).fit()\n",
    "\n",
    "print(comsales_model.summary())"
   ]
  },
  {
   "cell_type": "code",
   "execution_count": 23,
   "metadata": {},
   "outputs": [
    {
     "name": "stdout",
     "output_type": "stream",
     "text": [
      "Durbin-Watson test statistics is 0.7347256335186707\n"
     ]
    },
    {
     "data": {
      "image/png": "[encoded data removed]",
      "text/plain": [
       "<Figure size 432x288 with 1 Axes>"
      ]
     },
     "metadata": {},
     "output_type": "display_data"
    }
   ],
   "source": [
    "print( \"Durbin-Watson test statistics is \" + str(stools.durbin_watson(comsales_model.resid)))\n",
    "\n",
    "plt.scatter(comsales.time, comsales_model.resid)\n",
    "plt.show()"
   ]
  },
  {
   "attachments": {
    "image.png": {
     "image/png": "[encoded data removed]"
    }
   },
   "cell_type": "markdown",
   "metadata": {},
   "source": [
    "Sience the values of the DW stat falls below the lower bound at 0.01 significant level _(from table DW test bounds)_, __`DW: 0.73 <` $d_L$ `= .95` we reject $H_0$ and conclude that the errors are positively autocorrelated, in other words, there is strong evidence the error terms are positively correlated__. \n",
    "\n",
    "\n",
    "![image.png](attachment:image.png)"
   ]
  },
  {
   "cell_type": "markdown",
   "metadata": {},
   "source": [
    "----\n",
    "# Employee Example for Durbin Watson\n",
    "\n",
    "ata set gives the number of employees (in thousands) for a metal fabricator and one of their primary vendors for each month over a 5-year period, so n = 60 \n",
    "\n",
    "![](https://newonlinecourses.science.psu.edu/stat501/sites/onlinecourses.science.psu.edu.stat501/files/ch15/metal_fabrication_image/index.jpg)"
   ]
  },
  {
   "cell_type": "code",
   "execution_count": 36,
   "metadata": {},
   "outputs": [
    {
     "data": {
      "text/html": [
       "<div>\n",
       "<style scoped>\n",
       "    .dataframe tbody tr th:only-of-type {\n",
       "        vertical-align: middle;\n",
       "    }\n",
       "\n",
       "    .dataframe tbody tr th {\n",
       "        vertical-align: top;\n",
       "    }\n",
       "\n",
       "    .dataframe thead th {\n",
       "        text-align: right;\n",
       "    }\n",
       "</style>\n",
       "<table border=\"1\" class=\"dataframe\">\n",
       "  <thead>\n",
       "    <tr style=\"text-align: right;\">\n",
       "      <th></th>\n",
       "      <th>time</th>\n",
       "      <th>vendor</th>\n",
       "      <th>metal</th>\n",
       "    </tr>\n",
       "  </thead>\n",
       "  <tbody>\n",
       "    <tr>\n",
       "      <th>0</th>\n",
       "      <td>1</td>\n",
       "      <td>322</td>\n",
       "      <td>44.2</td>\n",
       "    </tr>\n",
       "    <tr>\n",
       "      <th>1</th>\n",
       "      <td>2</td>\n",
       "      <td>317</td>\n",
       "      <td>44.3</td>\n",
       "    </tr>\n",
       "    <tr>\n",
       "      <th>2</th>\n",
       "      <td>3</td>\n",
       "      <td>319</td>\n",
       "      <td>44.4</td>\n",
       "    </tr>\n",
       "    <tr>\n",
       "      <th>3</th>\n",
       "      <td>4</td>\n",
       "      <td>323</td>\n",
       "      <td>43.4</td>\n",
       "    </tr>\n",
       "    <tr>\n",
       "      <th>4</th>\n",
       "      <td>5</td>\n",
       "      <td>327</td>\n",
       "      <td>42.8</td>\n",
       "    </tr>\n",
       "  </tbody>\n",
       "</table>\n",
       "</div>"
      ],
      "text/plain": [
       "   time  vendor  metal\n",
       "0     1     322   44.2\n",
       "1     2     317   44.3\n",
       "2     3     319   44.4\n",
       "3     4     323   43.4\n",
       "4     5     327   42.8"
      ]
     },
     "execution_count": 36,
     "metadata": {},
     "output_type": "execute_result"
    }
   ],
   "source": [
    "employee = pd.read_csv(\"./data/employee.txt\", sep=\"\\t\")\n",
    "employee.head()"
   ]
  },
  {
   "cell_type": "markdown",
   "metadata": {},
   "source": [
    "Regression model:\n",
    "\n",
    "$y_{t}=\\beta_{0}+\\beta_{1}x_{t}+\\epsilon_{t}$\n",
    "\n",
    "\n",
    "__OLS and OLS plot__"
   ]
  },
  {
   "cell_type": "code",
   "execution_count": 81,
   "metadata": {},
   "outputs": [
    {
     "name": "stdout",
     "output_type": "stream",
     "text": [
      "                            OLS Regression Results                            \n",
      "==============================================================================\n",
      "Dep. Variable:                  metal   R-squared:                       0.744\n",
      "Model:                            OLS   Adj. R-squared:                  0.740\n",
      "Method:                 Least Squares   F-statistic:                     168.8\n",
      "Date:                Sat, 01 Jun 2019   Prob (F-statistic):           8.01e-19\n",
      "Time:                        07:30:25   Log-Likelihood:                -111.94\n",
      "No. Observations:                  60   AIC:                             227.9\n",
      "Df Residuals:                      58   BIC:                             232.1\n",
      "Df Model:                           1                                         \n",
      "Covariance Type:            nonrobust                                         \n",
      "==============================================================================\n",
      "                 coef    std err          t      P>|t|      [0.025      0.975]\n",
      "------------------------------------------------------------------------------\n",
      "Intercept      2.8479      3.300      0.863      0.392      -3.758       9.454\n",
      "vendor         0.1224      0.009     12.994      0.000       0.104       0.141\n",
      "==============================================================================\n",
      "Omnibus:                        1.548   Durbin-Watson:                   0.359\n",
      "Prob(Omnibus):                  0.461   Jarque-Bera (JB):                1.417\n",
      "Skew:                           0.245   Prob(JB):                        0.492\n",
      "Kurtosis:                       2.429   Cond. No.                     5.63e+03\n",
      "==============================================================================\n",
      "\n",
      "Warnings:\n",
      "[1] Standard Errors assume that the covariance matrix of the errors is correctly specified.\n",
      "[2] The condition number is large, 5.63e+03. This might indicate that there are\n",
      "strong multicollinearity or other numerical problems.\n"
     ]
    }
   ],
   "source": [
    "employee_model = smf.ols(formula='metal~ vendor', data = employee).fit()\n",
    "print(employee_model.summary())"
   ]
  },
  {
   "cell_type": "markdown",
   "metadata": {},
   "source": [
    "The stimated equation is $y_{t}=2.85+0.12244x_{t}+e_{t}$"
   ]
  },
  {
   "cell_type": "code",
   "execution_count": 58,
   "metadata": {},
   "outputs": [
    {
     "data": {
      "image/png": "[encoded data removed]",
      "text/plain": [
       "<Figure size 432x288 with 1 Axes>"
      ]
     },
     "metadata": {},
     "output_type": "display_data"
    }
   ],
   "source": [
    "sns.regplot(x = employee.vendor, y=employee.metal);"
   ]
  },
  {
   "cell_type": "markdown",
   "metadata": {},
   "source": [
    "Notice the __non-random__ trend suggesting __autocorrelated errors in the scatter plot__\n",
    "\n",
    "__Scatter plot of the residuals vs `t` (the time ordering)__"
   ]
  },
  {
   "cell_type": "code",
   "execution_count": 56,
   "metadata": {},
   "outputs": [
    {
     "data": {
      "image/png": "[encoded data removed]",
      "text/plain": [
       "<Figure size 432x288 with 1 Axes>"
      ]
     },
     "metadata": {},
     "output_type": "display_data"
    }
   ],
   "source": [
    "sns.residplot(x = employee_model.fittedvalues, y = employee_model.resid);"
   ]
  },
  {
   "cell_type": "markdown",
   "metadata": {},
   "source": [
    "__PACF plot of the residuals__\n",
    "\n",
    "this helps us decide the lag values"
   ]
  },
  {
   "cell_type": "code",
   "execution_count": 72,
   "metadata": {},
   "outputs": [
    {
     "data": {
      "image/png": "[encoded data removed]",
      "text/plain": [
       "<Figure size 432x288 with 1 Axes>"
      ]
     },
     "metadata": {},
     "output_type": "display_data"
    }
   ],
   "source": [
    "plot_pacf(employee_model.resid, lags=15,\n",
    "         title='Partial Autocorrelation Function for RESI (with 5% signif)',\n",
    "         alpha=0.05);"
   ]
  },
  {
   "cell_type": "markdown",
   "metadata": {},
   "source": [
    "The __Partial Autocorrlation Function__ graph above looks like there is a __lag of 1__ since the __`lag-1` partial autocorrlation is so large and way beyond the \"5% significance limits\"__ indicated by the blue box. We can see that there are partial autocorrelations at:\n",
    "* lag 8\n",
    "* lag 11\n",
    "* lag 13\n",
    "\n",
    "Which are __slighly beyond the limits__ \n",
    "\n",
    "Additionally, the DW statistics is:"
   ]
  },
  {
   "cell_type": "code",
   "execution_count": 79,
   "metadata": {},
   "outputs": [
    {
     "name": "stdout",
     "output_type": "stream",
     "text": [
      "Durbin-Watson test statistics is 0.35923959882840384\n"
     ]
    }
   ],
   "source": [
    "print( \"Durbin-Watson test statistics is \" + str(stools.durbin_watson(employee_model.resid)))"
   ]
  },
  {
   "cell_type": "markdown",
   "metadata": {},
   "source": [
    "To find the p-value for this test, we have to look up the Durbin-Watson critical value from this table:\n",
    "https://support.minitab.com/en-us/minitab/18/help-and-how-to/modeling-statistics/regression/supporting-topics/model-assumptions/test-for-autocorrelation-by-using-the-durbin-watson-statistic/\n",
    "\n",
    "sample size | number of terms (including intercept) | $D_L$ | $D_U$ \n",
    "--- | --- | --- | ---\n",
    "60 | 2 | 1.54853 | 1.61617"
   ]
  },
  {
   "cell_type": "markdown",
   "metadata": {},
   "source": [
    "Since DW: 0.35 < 1.54, which indicates __a highly significant p-value__ approximately 0, we can __reject $H_0$__ that there is __significant evidence that there is a positive correlation__ a lag of 1 appears appropriate. \n",
    "\n",
    "### Employee Example - AR(1) Method - Cochrane-Orcutt procedure\n",
    "per: https://newonlinecourses.science.psu.edu/stat501/node/365/\n",
    "\n",
    "We start by fitting a simple linar regression model with \n",
    "* the _response variable_ equal to the residuals from the `employee_model` _(above)_; and,\n",
    "* the _predictor variable_ equal to the `lag-1 residual`\n",
    "\n",
    "with no intercept, we obtain the __slope estimate__, $\\hat{\\rho}$`= 0.8313` (also seen as `r`)\n",
    "\n",
    "because we let $\\hat{\\rho}$ = estimated lag 1 autocorrlation in the residuals from the OLS"
   ]
  },
  {
   "cell_type": "code",
   "execution_count": 87,
   "metadata": {},
   "outputs": [],
   "source": [
    "employee['model1_resid'] = employee_model.resid\n",
    "employee['model1_resid_lag'] = employee.model1_resid.shift(1)"
   ]
  },
  {
   "cell_type": "code",
   "execution_count": 114,
   "metadata": {},
   "outputs": [
    {
     "data": {
      "text/plain": [
       "Intercept          -0.078327\n",
       "model1_resid_lag    0.833246\n",
       "dtype: float64"
      ]
     },
     "execution_count": 114,
     "metadata": {},
     "output_type": "execute_result"
    }
   ],
   "source": [
    "employee_lag_model = smf.ols(formula='model1_resid~ model1_resid_lag', data = employee).fit()\n",
    "employee_lag_model.params"
   ]
  },
  {
   "cell_type": "code",
   "execution_count": 116,
   "metadata": {},
   "outputs": [
    {
     "name": "stdout",
     "output_type": "stream",
     "text": [
      "rho or r: 0.8332462820760463\n"
     ]
    }
   ],
   "source": [
    "r_slope_est = employee_lag_model.params[1]\n",
    "print(\"rho or r:\", r_slope_est)"
   ]
  },
  {
   "cell_type": "markdown",
   "metadata": {},
   "source": [
    "Now we transform to the following:\n",
    "    \n",
    "$y_{t}^{*}=y_{t}-ry_{t-1}$ - this will be used as a response variable\n",
    "\n",
    "$x_{t}^{*}=x_{t}-rx_{t-1}$ - predictor variable\n"
   ]
  },
  {
   "cell_type": "code",
   "execution_count": 97,
   "metadata": {},
   "outputs": [],
   "source": [
    "\n",
    "employee['vendor_lag'] = employee.vendor.shift(1)\n",
    "employee['metal_lag'] = employee.metal.shift(1)\n",
    "\n",
    "employee['y_star'] = employee.metal - (r_slope_est * employee.metal_lag)\n",
    "employee['x_star'] = employee.vendor - (r_slope_est * employee.vendor_lag)"
   ]
  },
  {
   "cell_type": "markdown",
   "metadata": {},
   "source": [
    "Now with the value of $\\hat{\\rho} = 0.833$ and the modified vaariables are $y_{new_star} = y_t - 0.833y_{t-1}$ and $x_{new_star} = x_t - 0.833x_{t-1}$ the regression results are provided below:"
   ]
  },
  {
   "cell_type": "code",
   "execution_count": 99,
   "metadata": {},
   "outputs": [
    {
     "name": "stdout",
     "output_type": "stream",
     "text": [
      "                            OLS Regression Results                            \n",
      "==============================================================================\n",
      "Dep. Variable:                 y_star   R-squared:                       0.190\n",
      "Model:                            OLS   Adj. R-squared:                  0.176\n",
      "Method:                 Least Squares   F-statistic:                     13.35\n",
      "Date:                Sat, 01 Jun 2019   Prob (F-statistic):           0.000565\n",
      "Time:                        07:40:25   Log-Likelihood:                -64.338\n",
      "No. Observations:                  59   AIC:                             132.7\n",
      "Df Residuals:                      57   BIC:                             136.8\n",
      "Df Model:                           1                                         \n",
      "Covariance Type:            nonrobust                                         \n",
      "==============================================================================\n",
      "                 coef    std err          t      P>|t|      [0.025      0.975]\n",
      "------------------------------------------------------------------------------\n",
      "Intercept      4.8493      0.778      6.232      0.000       3.291       6.407\n",
      "x_star         0.0475      0.013      3.653      0.001       0.021       0.074\n",
      "==============================================================================\n",
      "Omnibus:                        3.261   Durbin-Watson:                   1.387\n",
      "Prob(Omnibus):                  0.196   Jarque-Bera (JB):                2.592\n",
      "Skew:                          -0.507   Prob(JB):                        0.274\n",
      "Kurtosis:                       3.163   Cond. No.                         488.\n",
      "==============================================================================\n",
      "\n",
      "Warnings:\n",
      "[1] Standard Errors assume that the covariance matrix of the errors is correctly specified.\n"
     ]
    }
   ],
   "source": [
    "employee_lag1_model = smf.ols(formula='y_star~ x_star', data = employee).fit()\n",
    "print(employee_lag1_model.summary())"
   ]
  },
  {
   "cell_type": "markdown",
   "metadata": {},
   "source": [
    "we can see form above we __perform simple linear regression of $y_{t}^{*}$ on $x_{t}^{*}$__ - This model should have __Time independent residuals__ we now have:\n",
    "\n",
    "$\\hat{\\beta}_{1}^{*}=0.0479=\\hat{\\beta}_{1}$\n",
    "\n",
    "\n",
    "$\\hat{\\beta}_{0}^{*}=4.8493\\Rightarrow\\hat{\\beta}_{0}=\\frac{4.8493}{1-0.833}=29.037$\n",
    "\n",
    "__The correct standard error for the slope is taken directly from the regression with the modified variables.__"
   ]
  },
  {
   "cell_type": "code",
   "execution_count": 117,
   "metadata": {},
   "outputs": [
    {
     "data": {
      "text/plain": [
       "29.0377245508982"
      ]
     },
     "execution_count": 117,
     "metadata": {},
     "output_type": "execute_result"
    }
   ],
   "source": [
    "4.8493/(1-0.833)"
   ]
  },
  {
   "cell_type": "markdown",
   "metadata": {},
   "source": [
    "Corresponding standard erros are \n",
    "\n",
    "$\\mbox{s.e.}(\\hat{\\beta}_{1}^{*})=0.0130=\\mbox{s.e.}(\\hat{\\beta}_{1})$\n",
    "\n",
    "$\\mbox{s.e.}(\\hat{\\beta}_{0}^{*})=0.787\\Rightarrow\\mbox{s.e.}(\\hat{\\beta}_{0})=\\frac{0.787}{1-0.833}=4.667$\n"
   ]
  }
 ],
 "metadata": {
  "kernelspec": {
   "display_name": "Python 3",
   "language": "python",
   "name": "python3"
  },
  "language_info": {
   "codemirror_mode": {
    "name": "ipython",
    "version": 3
   },
   "file_extension": ".py",
   "mimetype": "text/x-python",
   "name": "python",
   "nbconvert_exporter": "python",
   "pygments_lexer": "ipython3",
   "version": "3.7.3"
  }
 },
 "nbformat": 4,
 "nbformat_minor": 2
}
