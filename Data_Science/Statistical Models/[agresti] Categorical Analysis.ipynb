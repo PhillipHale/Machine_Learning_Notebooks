{
 "cells": [
  {
   "cell_type": "markdown",
   "metadata": {},
   "source": [
    "https://onlinelibrary.wiley.com/doi/book/10.1002/0471249688"
   ]
  },
  {
   "cell_type": "code",
   "execution_count": 1,
   "metadata": {},
   "outputs": [],
   "source": [
    "import pandas as pd\n",
    "import numpy as np\n",
    "\n",
    "# import plotting libraries\n",
    "import matplotlib.pyplot as plt\n",
    "import seaborn as sns\n",
    "\n",
    "%matplotlib inline\n",
    "plt.style.use('seaborn-white')\n",
    "\n",
    "# Statistical Packages\n",
    "import scipy.stats as stats\n",
    "import statsmodels.api as sm\n",
    "import statsmodels.formula.api as smf"
   ]
  },
  {
   "cell_type": "markdown",
   "metadata": {},
   "source": [
    "____\n",
    "# Asprin v Placemo\n"
   ]
  },
  {
   "cell_type": "code",
   "execution_count": 2,
   "metadata": {},
   "outputs": [
    {
     "data": {
      "text/html": [
       "<div>\n",
       "<style scoped>\n",
       "    .dataframe tbody tr th:only-of-type {\n",
       "        vertical-align: middle;\n",
       "    }\n",
       "\n",
       "    .dataframe tbody tr th {\n",
       "        vertical-align: top;\n",
       "    }\n",
       "\n",
       "    .dataframe thead th {\n",
       "        text-align: right;\n",
       "    }\n",
       "</style>\n",
       "<table border=\"1\" class=\"dataframe\">\n",
       "  <thead>\n",
       "    <tr style=\"text-align: right;\">\n",
       "      <th></th>\n",
       "      <th>group</th>\n",
       "      <th>heart_attack</th>\n",
       "      <th>group_aspirn</th>\n",
       "      <th>group_placebo</th>\n",
       "      <th>attack_</th>\n",
       "    </tr>\n",
       "  </thead>\n",
       "  <tbody>\n",
       "    <tr>\n",
       "      <th>0</th>\n",
       "      <td>placebo</td>\n",
       "      <td>yes</td>\n",
       "      <td>0</td>\n",
       "      <td>1</td>\n",
       "      <td>1</td>\n",
       "    </tr>\n",
       "    <tr>\n",
       "      <th>1</th>\n",
       "      <td>placebo</td>\n",
       "      <td>yes</td>\n",
       "      <td>0</td>\n",
       "      <td>1</td>\n",
       "      <td>1</td>\n",
       "    </tr>\n",
       "    <tr>\n",
       "      <th>2</th>\n",
       "      <td>placebo</td>\n",
       "      <td>yes</td>\n",
       "      <td>0</td>\n",
       "      <td>1</td>\n",
       "      <td>1</td>\n",
       "    </tr>\n",
       "    <tr>\n",
       "      <th>3</th>\n",
       "      <td>placebo</td>\n",
       "      <td>yes</td>\n",
       "      <td>0</td>\n",
       "      <td>1</td>\n",
       "      <td>1</td>\n",
       "    </tr>\n",
       "    <tr>\n",
       "      <th>4</th>\n",
       "      <td>placebo</td>\n",
       "      <td>yes</td>\n",
       "      <td>0</td>\n",
       "      <td>1</td>\n",
       "      <td>1</td>\n",
       "    </tr>\n",
       "  </tbody>\n",
       "</table>\n",
       "</div>"
      ],
      "text/plain": [
       "     group heart_attack  group_aspirn  group_placebo  attack_\n",
       "0  placebo          yes             0              1        1\n",
       "1  placebo          yes             0              1        1\n",
       "2  placebo          yes             0              1        1\n",
       "3  placebo          yes             0              1        1\n",
       "4  placebo          yes             0              1        1"
      ]
     },
     "execution_count": 2,
     "metadata": {},
     "output_type": "execute_result"
    }
   ],
   "source": [
    "result = [189, 10845, 104, 10933]\n",
    "d = {\n",
    "    'group': np.repeat(('placebo','placebo','aspirn','aspirn'), (result)),\n",
    "    'heart_attack' : np.repeat(('yes','no', 'yes','no'), (result)),\n",
    "    \n",
    "}\n",
    "\n",
    "drug = pd.DataFrame(d, columns=['group', 'heart_attack'])\n",
    "dummy_ = pd.get_dummies(drug[['group']])\n",
    "drug = pd.concat([drug, dummy_], axis=1)\n",
    "\n",
    "# one hot encoding\n",
    "heart_attack = {\"no\":0, \"yes\":1}\n",
    "drug['attack_'] = drug.heart_attack.map(heart_attack)\n",
    "\n",
    "drug.head()"
   ]
  },
  {
   "cell_type": "code",
   "execution_count": 3,
   "metadata": {},
   "outputs": [
    {
     "name": "stdout",
     "output_type": "stream",
     "text": [
      "heart_attack  yes     no\n",
      "group                   \n",
      "placebo       189  10845\n",
      "aspirn        104  10933\n",
      "Pearson's Chi-squared test with Yates' continuity correction\n",
      "X-squared:  25.014\n",
      "p-value  :  0.0\n",
      "degree of f:  1\n",
      "Odds Ratio CI:  (1.44, 2.331)\n",
      "\n",
      "2x2 Summary:\n",
      "               Estimate   SE   LCB   UCB  p-value\n",
      "-------------------------------------------------\n",
      "Odds ratio        1.832       1.440 2.331   0.000\n",
      "Log odds ratio    0.605 0.123 0.365 0.846   0.000\n",
      "Risk ratio        1.818       1.433 2.306   0.000\n",
      "Log risk ratio    0.598 0.121 0.360 0.835   0.000\n",
      "-------------------------------------------------\n"
     ]
    }
   ],
   "source": [
    "tb = pd.crosstab([drug.group], drug.heart_attack).T.sort_values('heart_attack', ascending=False).T.sort_values('group', ascending=False)\n",
    "\n",
    "print(tb)\n",
    "\n",
    "tab = sm.stats.Table2x2(tb.values)\n",
    "chi2, p, dof, ex = stats.chi2_contingency(tb, correction=False)\n",
    "\n",
    "print(\"Pearson's Chi-squared test with Yates' continuity correction\")\n",
    "print(\"X-squared: \", round(chi2, 3))\n",
    "print(\"p-value  : \", round(p, 3))\n",
    "print(\"degree of f: \", dof)\n",
    "\n",
    "hi, low = tab.oddsratio_confint()\n",
    "print(\"Odds Ratio CI: \", (round(hi, 3), round(low, 3)))\n",
    "print(\"\\n2x2 Summary:\")\n",
    "print(tab.summary())"
   ]
  },
  {
   "cell_type": "markdown",
   "metadata": {},
   "source": [
    "__the sample relative risk is p1/p2 =0.0171/0.0094=1.82. The sample proportionof MI cases was 82% higher for the group taking placebo.The sample difference of proportions of 0.008 makes it seem as if the two groups differ by a trivial amount__\n",
    "\n",
    "__We can be 95% conﬁdent that, after 5 years, the proportion of MI cases for male physicians taking placebo is between 1.43 and 2.30 times the proportion of MI cases for male physicians taking aspirin. This indicates that the risk of MI is at least 43% higher for the placebo group.__"
   ]
  },
  {
   "cell_type": "code",
   "execution_count": null,
   "metadata": {},
   "outputs": [],
   "source": []
  },
  {
   "cell_type": "markdown",
   "metadata": {},
   "source": [
    "___\n",
    "# Dealth Penalty Example"
   ]
  },
  {
   "cell_type": "code",
   "execution_count": 4,
   "metadata": {},
   "outputs": [
    {
     "data": {
      "text/html": [
       "<div>\n",
       "<style scoped>\n",
       "    .dataframe tbody tr th:only-of-type {\n",
       "        vertical-align: middle;\n",
       "    }\n",
       "\n",
       "    .dataframe tbody tr th {\n",
       "        vertical-align: top;\n",
       "    }\n",
       "\n",
       "    .dataframe thead th {\n",
       "        text-align: right;\n",
       "    }\n",
       "</style>\n",
       "<table border=\"1\" class=\"dataframe\">\n",
       "  <thead>\n",
       "    <tr style=\"text-align: right;\">\n",
       "      <th></th>\n",
       "      <th>death_penalty</th>\n",
       "      <th>no</th>\n",
       "      <th>yes</th>\n",
       "    </tr>\n",
       "    <tr>\n",
       "      <th>defendent_race</th>\n",
       "      <th>victim_race</th>\n",
       "      <th></th>\n",
       "      <th></th>\n",
       "    </tr>\n",
       "  </thead>\n",
       "  <tbody>\n",
       "    <tr>\n",
       "      <th rowspan=\"2\" valign=\"top\">black</th>\n",
       "      <th>black</th>\n",
       "      <td>139</td>\n",
       "      <td>4</td>\n",
       "    </tr>\n",
       "    <tr>\n",
       "      <th>white</th>\n",
       "      <td>16</td>\n",
       "      <td>0</td>\n",
       "    </tr>\n",
       "    <tr>\n",
       "      <th rowspan=\"2\" valign=\"top\">white</th>\n",
       "      <th>black</th>\n",
       "      <td>37</td>\n",
       "      <td>11</td>\n",
       "    </tr>\n",
       "    <tr>\n",
       "      <th>white</th>\n",
       "      <td>414</td>\n",
       "      <td>53</td>\n",
       "    </tr>\n",
       "  </tbody>\n",
       "</table>\n",
       "</div>"
      ],
      "text/plain": [
       "death_penalty                no  yes\n",
       "defendent_race victim_race          \n",
       "black          black        139    4\n",
       "               white         16    0\n",
       "white          black         37   11\n",
       "               white        414   53"
      ]
     },
     "execution_count": 4,
     "metadata": {},
     "output_type": "execute_result"
    }
   ],
   "source": [
    "result = [53, 414, 11, 37, 0, 16, 4, 139]\n",
    "d = {\n",
    "    'defendent_race': np.repeat(('white','white','white','white','black','black','black','black'), (result)),\n",
    "    'victim_race' : np.repeat(('white', 'white', 'black', 'black', 'white', 'white', 'black', 'black'), (result)),\n",
    "    'death_penalty': np.repeat(('yes', 'no', 'yes', 'no', 'yes', 'no', 'yes', 'no'), (result))\n",
    "}\n",
    "\n",
    "death = pd.DataFrame(d, columns=['defendent_race', 'victim_race','death_penalty'])\n",
    "death_tb = pd.crosstab([death.defendent_race, death.victim_race], death.death_penalty)\n",
    "death_tb"
   ]
  },
  {
   "cell_type": "code",
   "execution_count": 5,
   "metadata": {},
   "outputs": [
    {
     "name": "stdout",
     "output_type": "stream",
     "text": [
      "Pearson's Chi-squared test with Yates' continuity correction\n",
      "X-squared:  391.2388311215385\n",
      "p-value  :  1.7491785031397792e-84\n",
      "degree of f:  3\n"
     ]
    }
   ],
   "source": [
    "death_tb2 = pd.crosstab([death.defendent_race, death.death_penalty], death.victim_race)\n",
    "\n",
    "chi2, p, dof, ex = stats.chi2_contingency(death_tb2, correction=False)\n",
    "\n",
    "print(\"Pearson's Chi-squared test with Yates' continuity correction\")\n",
    "print(\"X-squared: \", chi2)\n",
    "print(\"p-value  : \", p)\n",
    "print(\"degree of f: \", dof)"
   ]
  },
  {
   "cell_type": "code",
   "execution_count": 6,
   "metadata": {},
   "outputs": [
    {
     "name": "stdout",
     "output_type": "stream",
     "text": [
      "Victim = White:\n",
      "Pearson's Chi-squared test with Yates' continuity correction\n",
      "X-squared:  2.04\n",
      "p-value  :  0.153\n",
      "degree of f:  1\n",
      "Odds Ratio CI:  (0.252, 72.022)\n",
      "\n",
      "2x2 Summary:\n",
      "               Estimate   SE   LCB    UCB   p-value\n",
      "---------------------------------------------------\n",
      "Odds ratio        4.259        0.252 72.022   0.315\n",
      "Log odds ratio    1.449 1.443 -1.379  4.277   0.315\n",
      "Risk ratio        1.096        1.003  1.198   0.044\n",
      "Log risk ratio    0.092 0.045  0.003  0.180   0.044\n",
      "---------------------------------------------------\n"
     ]
    }
   ],
   "source": [
    "death_vW = pd.crosstab([death[death.victim_race=='white'].defendent_race], death.death_penalty)\n",
    "\n",
    "tab = sm.stats.Table2x2(death_vW.values)\n",
    "chi2, p, dof, ex = stats.chi2_contingency(death_vW, correction=False)\n",
    "print(\"Victim = White:\")\n",
    "print(\"Pearson's Chi-squared test with Yates' continuity correction\")\n",
    "print(\"X-squared: \", round(chi2, 3))\n",
    "print(\"p-value  : \", round(p, 3))\n",
    "print(\"degree of f: \", dof)\n",
    "\n",
    "\n",
    "hi, low = tab.oddsratio_confint()\n",
    "print(\"Odds Ratio CI: \", (round(hi, 3), round(low, 3)))\n",
    "print(\"\\n2x2 Summary:\")\n",
    "print(tab.summary())\n"
   ]
  },
  {
   "cell_type": "code",
   "execution_count": 7,
   "metadata": {},
   "outputs": [
    {
     "name": "stdout",
     "output_type": "stream",
     "text": [
      "\n",
      "Victim = Black:\n",
      "Pearson's Chi-squared test with Yates' continuity correction\n",
      "X-squared:  20.102\n",
      "p-value  :  0.0\n",
      "degree of f:  1\n",
      "Odds Ratio CI:  (3.11, 34.315)\n",
      "\n",
      "2x2 Summary:\n",
      "               Estimate   SE   LCB   UCB   p-value\n",
      "--------------------------------------------------\n",
      "Odds ratio       10.331       3.110 34.315   0.000\n",
      "Log odds ratio    2.335 0.612 1.135  3.536   0.000\n",
      "Risk ratio        1.261       1.078  1.475   0.004\n",
      "Log risk ratio    0.232 0.080 0.075  0.389   0.004\n",
      "--------------------------------------------------\n"
     ]
    }
   ],
   "source": [
    "death_vB = pd.crosstab([death[death.victim_race=='black'].defendent_race], death.death_penalty)\n",
    "tab = sm.stats.Table2x2(death_vB.values)\n",
    "chi2, p, dof, ex = stats.chi2_contingency(death_vB, correction=False)\n",
    "\n",
    "print(\"\\nVictim = Black:\")\n",
    "print(\"Pearson's Chi-squared test with Yates' continuity correction\")\n",
    "print(\"X-squared: \", round(chi2, 3))\n",
    "print(\"p-value  : \", round(p, 3))\n",
    "print(\"degree of f: \", dof)\n",
    "\n",
    "hi, low = tab.oddsratio_confint()\n",
    "print(\"Odds Ratio CI: \", (round(hi, 3), round(low, 3)))\n",
    "print(\"\\n2x2 Summary:\")\n",
    "print(tab.summary())\n"
   ]
  },
  {
   "cell_type": "code",
   "execution_count": null,
   "metadata": {},
   "outputs": [],
   "source": []
  },
  {
   "cell_type": "code",
   "execution_count": 11,
   "metadata": {},
   "outputs": [],
   "source": [
    "## load the iris dataset and set up variables\n",
    "from sklearn import datasets\n",
    "iris = datasets.load_iris()\n",
    "iris_features = iris.data\n",
    "iris_target = iris.target\n",
    "target_values=sorted(list(set(iris_target)))\t# output: [0,1,2]\n",
    "target_names = iris.target_names\t# output: [\"setosa\",\"versicolor\",\"virginica\"]\n",
    "del iris\n",
    "\n",
    "# load up preprocessing\n",
    "from sklearn.preprocessing import StandardScaler\n",
    "sc = StandardScaler()\n",
    "iris_features = sc.fit_transform(iris_features)\n",
    "\n",
    "\n",
    "## perform PCA of 2 dimensions on the data\n",
    "from sklearn.decomposition import PCA\n",
    "pca = PCA(n_components=2)\n",
    "pca_object = pca.fit(iris_features) # creates a PCA object for (input)\n",
    "# Returns a new basis*data matrix, X_pca which is reduced to 2 dimensions instead of 4\n",
    "X_pca = pca_object.transform(iris_features)\n",
    "del pca_object"
   ]
  },
  {
   "cell_type": "code",
   "execution_count": 12,
   "metadata": {},
   "outputs": [
    {
     "data": {
      "text/plain": [
       "PCA(copy=True, iterated_power='auto', n_components=2, random_state=None,\n",
       "  svd_solver='auto', tol=0.0, whiten=False)"
      ]
     },
     "execution_count": 12,
     "metadata": {},
     "output_type": "execute_result"
    }
   ],
   "source": [
    "pca"
   ]
  },
  {
   "cell_type": "code",
   "execution_count": 16,
   "metadata": {},
   "outputs": [],
   "source": [
    "## perform LDA of 2 dimensions on the data\n",
    "from sklearn.discriminant_analysis import LinearDiscriminantAnalysis\n",
    "lda = LinearDiscriminantAnalysis(n_components=2)\n",
    "lda_object = lda.fit(iris_features, iris_target) # creates an LDA object for (inputs, targets)\n",
    "# Returns a new basis*data matrix, like PCA does\n",
    "X_lda = lda_object.transform(iris_features)\n",
    "lda_object\n",
    "del lda_object"
   ]
  },
  {
   "cell_type": "code",
   "execution_count": 18,
   "metadata": {},
   "outputs": [],
   "source": [
    "# for comparison against LDA, also perform PCA before doing LDA, then comparison of plots 1 and 3 is possible\n",
    "lda_object = lda.fit(X_pca, iris_target)\n",
    "X_pca_lda = lda_object.transform(X_pca)\n",
    "del lda_object"
   ]
  },
  {
   "cell_type": "code",
   "execution_count": 32,
   "metadata": {},
   "outputs": [
    {
     "data": {
      "image/png": "[encoded data removed]",
      "text/plain": [
       "<Figure size 432x288 with 3 Axes>"
      ]
     },
     "metadata": {
      "needs_background": "light"
     },
     "output_type": "display_data"
    }
   ],
   "source": [
    "## Create a plot figure and compare PCA/LDA\n",
    "import matplotlib.pyplot as plt\n",
    "fig=plt.figure()\n",
    "fig.suptitle(\"Comparison: PCA and LDA\") # title of plot\n",
    " \n",
    "# define a reusable plotting function for plotting data matrices\n",
    "def subplot_scatter_iris(subplot_location=None, input_matrix=None, title=None, set_legend=True):\n",
    "    ax = fig.add_subplot(subplot_location) # add a subplot\n",
    "    \n",
    "    # create a scatter plot parsing through data points of the matrix, and their corresponding labeled outputs\n",
    "    for i, target in zip(target_values, target_names):\n",
    "        ax.scatter(input_matrix[iris_target == i, 0], input_matrix[iris_target == i, 1], label=target)\n",
    "\n",
    "    if set_legend == True:  # add a legend if set_legend is True\n",
    "        ax.legend(loc='best',scatterpoints=1)\n",
    "\n",
    "    if title: # add a title if not null\n",
    "        ax.set_title(title)\n",
    " \n",
    "# Plot the PCA in location 1, then LDA in 2, then PCA+LDA in 3\n",
    "subplot_scatter_iris(131, X_pca, \"PCA of IRIS dataset\", True)\n",
    "subplot_scatter_iris(132, X_lda, \"LDA of IRIS dataset\", True)\n",
    "subplot_scatter_iris(133, X_pca_lda, \"LDA applied to PCA of IRIS dataset\", True)"
   ]
  },
  {
   "cell_type": "code",
   "execution_count": 34,
   "metadata": {},
   "outputs": [],
   "source": [
    "## CLASSIFIER - Evaluation of the techniques via confusion matrix\n",
    "from sklearn.model_selection import train_test_split\n",
    "from sklearn.ensemble import RandomForestClassifier\n",
    "from sklearn.metrics import confusion_matrix  \n",
    "from sklearn.metrics import accuracy_score\n",
    "\n",
    "classifier = RandomForestClassifier(max_depth=2, random_state=0)"
   ]
  },
  {
   "cell_type": "code",
   "execution_count": 36,
   "metadata": {},
   "outputs": [
    {
     "name": "stdout",
     "output_type": "stream",
     "text": [
      "Evaluation for: iris_features\n",
      "Accuracy:  0.9333333333333333\n",
      "[[10  0  0]\n",
      " [ 0  9  1]\n",
      " [ 0  1  9]]\n",
      "Evaluation for: X_pca\n",
      "Accuracy:  0.8333333333333334\n",
      "[[10  0  0]\n",
      " [ 0  7  3]\n",
      " [ 0  2  8]]\n",
      "Evaluation for: X_lda\n",
      "Accuracy:  0.8666666666666667\n",
      "[[10  0  0]\n",
      " [ 0 10  0]\n",
      " [ 0  4  6]]\n",
      "Evaluation for: X_pca_lda\n",
      "Accuracy:  0.8\n",
      "[[10  0  0]\n",
      " [ 0  7  3]\n",
      " [ 0  3  7]]\n"
     ]
    },
    {
     "name": "stderr",
     "output_type": "stream",
     "text": [
      "C:\\Users\\phhale\\AppData\\Local\\Continuum\\anaconda3\\envs\\bril\\lib\\site-packages\\sklearn\\ensemble\\forest.py:246: FutureWarning: The default value of n_estimators will change from 10 in version 0.20 to 100 in 0.22.\n",
      "  \"10 in version 0.20 to 100 in 0.22.\", FutureWarning)\n"
     ]
    }
   ],
   "source": [
    "def perform_evaluation(feature_set,target_set):\n",
    "    def namestr(obj, namespace):\n",
    "    \t    return [name for name in namespace if namespace[name] is obj]\n",
    "    print(\"Evaluation for:\",namestr(feature_set,globals())[0])\n",
    "\n",
    "    feat_train, feat_test, target_train, target_test = train_test_split(feature_set, target_set, test_size=0.2, random_state=3)\n",
    "    \n",
    "    classifier.fit(feat_train, target_train)\n",
    "    predicted = classifier.predict(feat_test)\n",
    "    print(\"Accuracy: \",accuracy_score(target_test, predicted))\n",
    "    print(confusion_matrix(target_test, predicted))\n",
    "\n",
    "perform_evaluation(iris_features, iris_target)\n",
    "perform_evaluation(X_pca, iris_target)\n",
    "perform_evaluation(X_lda, iris_target)\n",
    "perform_evaluation(X_pca_lda, iris_target)\n",
    "# print evaluation, before drawing the plot\n",
    "plt.show()"
   ]
  },
  {
   "cell_type": "code",
   "execution_count": 40,
   "metadata": {},
   "outputs": [
    {
     "ename": "SyntaxError",
     "evalue": "invalid character in identifier (<ipython-input-40-8a7c63630adf>, line 11)",
     "output_type": "error",
     "traceback": [
      "\u001b[1;36m  File \u001b[1;32m\"<ipython-input-40-8a7c63630adf>\"\u001b[1;36m, line \u001b[1;32m11\u001b[0m\n\u001b[1;33m    y=X[:,1][y == label]*–1, # flip the figure\u001b[0m\n\u001b[1;37m                          ^\u001b[0m\n\u001b[1;31mSyntaxError\u001b[0m\u001b[1;31m:\u001b[0m invalid character in identifier\n"
     ]
    }
   ],
   "source": [
    "# LDA\n",
    "sklearn_lda = LDA(n_components=2)\n",
    "X_lda_sklearn = sklearn_lda.fit_transform(X, y)\n",
    "\n",
    "def plot_scikit_lda(X, title):\n",
    "\n",
    "   ax = plt.subplot(111)\n",
    "   for label,marker,color in zip(range(1,4),('^', 's', 'o'),('blue', 'red', 'green')):\n",
    "\n",
    "       plt.scatter(x=X[:,0][y == label],\n",
    "                   y=X[:,1][y == label]*–1, # flip the figure\n",
    "                   marker=marker,\n",
    "                   color=color,\n",
    "                   alpha=0.5,\n",
    "                   label=label_dict[label])\n",
    "\n",
    "   plt.xlabel('LD1')\n",
    "   plt.ylabel('LD2')\n",
    "\n",
    "   leg = plt.legend(loc='upper right', fancybox=True)\n",
    "   leg.get_frame().set_alpha(0.5)\n",
    "   plt.title(title)\n",
    "\n",
    "   # hide axis ticks\n",
    "   plt.tick_params(axis='both', which='both', bottom='off', top='off',  \n",
    "           labelbottom='on', left='off', right='off', labelleft='on')\n",
    "\n",
    "   # remove axis spines\n",
    "   ax.spines['top'].set_visible(False)  \n",
    "   ax.spines['right'].set_visible(False)\n",
    "   ax.spines['bottom'].set_visible(False)\n",
    "   ax.spines['left'].set_visible(False)    \n",
    "\n",
    "   plt.grid()\n",
    "   plt.tight_layout\n",
    "   plt.show()\n",
    "\n",
    "plot_step_lda()\n",
    "plot_scikit_lda(X_lda_sklearn, title='Default LDA via scikit-learn')"
   ]
  },
  {
   "cell_type": "code",
   "execution_count": 42,
   "metadata": {},
   "outputs": [
    {
     "ename": "NameError",
     "evalue": "name 'X' is not defined",
     "output_type": "error",
     "traceback": [
      "\u001b[1;31m---------------------------------------------------------------------------\u001b[0m",
      "\u001b[1;31mNameError\u001b[0m                                 Traceback (most recent call last)",
      "\u001b[1;32m<ipython-input-42-874651a453e3>\u001b[0m in \u001b[0;36m<module>\u001b[1;34m\u001b[0m\n\u001b[1;32m----> 1\u001b[1;33m \u001b[0mX\u001b[0m\u001b[1;33m[\u001b[0m\u001b[1;33m:\u001b[0m\u001b[1;33m,\u001b[0m\u001b[1;36m1\u001b[0m\u001b[1;33m]\u001b[0m\u001b[1;33m[\u001b[0m\u001b[0my\u001b[0m \u001b[1;33m==\u001b[0m \u001b[0mlabel\u001b[0m\u001b[1;33m]\u001b[0m\u001b[1;33m\u001b[0m\u001b[1;33m\u001b[0m\u001b[0m\n\u001b[0m",
      "\u001b[1;31mNameError\u001b[0m: name 'X' is not defined"
     ]
    }
   ],
   "source": [
    "X[:,1][y == label]"
   ]
  },
  {
   "cell_type": "code",
   "execution_count": null,
   "metadata": {},
   "outputs": [],
   "source": []
  },
  {
   "cell_type": "code",
   "execution_count": null,
   "metadata": {},
   "outputs": [],
   "source": []
  }
 ],
 "metadata": {
  "kernelspec": {
   "display_name": "bril",
   "language": "python",
   "name": "bril"
  },
  "language_info": {
   "codemirror_mode": {
    "name": "ipython",
    "version": 3
   },
   "file_extension": ".py",
   "mimetype": "text/x-python",
   "name": "python",
   "nbconvert_exporter": "python",
   "pygments_lexer": "ipython3",
   "version": "3.7.3"
  }
 },
 "nbformat": 4,
 "nbformat_minor": 2
}
