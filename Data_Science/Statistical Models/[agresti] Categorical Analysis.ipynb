{
 "cells": [
  {
   "cell_type": "markdown",
   "metadata": {},
   "source": [
    "https://onlinelibrary.wiley.com/doi/book/10.1002/0471249688"
   ]
  },
  {
   "cell_type": "code",
   "execution_count": 1,
   "metadata": {},
   "outputs": [],
   "source": [
    "import pandas as pd\n",
    "import numpy as np\n",
    "\n",
    "# import plotting libraries\n",
    "import matplotlib.pyplot as plt\n",
    "import seaborn as sns\n",
    "\n",
    "%matplotlib inline\n",
    "plt.style.use('seaborn-white')\n",
    "\n",
    "# Statistical Packages\n",
    "import scipy.stats as stats\n",
    "import statsmodels.api as sm\n",
    "import statsmodels.formula.api as smf"
   ]
  },
  {
   "cell_type": "markdown",
   "metadata": {},
   "source": [
    "____\n",
    "# Asprin v Placemo\n"
   ]
  },
  {
   "cell_type": "code",
   "execution_count": 2,
   "metadata": {},
   "outputs": [
    {
     "data": {
      "text/html": [
       "<div>\n",
       "<style scoped>\n",
       "    .dataframe tbody tr th:only-of-type {\n",
       "        vertical-align: middle;\n",
       "    }\n",
       "\n",
       "    .dataframe tbody tr th {\n",
       "        vertical-align: top;\n",
       "    }\n",
       "\n",
       "    .dataframe thead th {\n",
       "        text-align: right;\n",
       "    }\n",
       "</style>\n",
       "<table border=\"1\" class=\"dataframe\">\n",
       "  <thead>\n",
       "    <tr style=\"text-align: right;\">\n",
       "      <th></th>\n",
       "      <th>group</th>\n",
       "      <th>heart_attack</th>\n",
       "      <th>group_aspirn</th>\n",
       "      <th>group_placebo</th>\n",
       "      <th>attack_</th>\n",
       "    </tr>\n",
       "  </thead>\n",
       "  <tbody>\n",
       "    <tr>\n",
       "      <th>0</th>\n",
       "      <td>placebo</td>\n",
       "      <td>yes</td>\n",
       "      <td>0</td>\n",
       "      <td>1</td>\n",
       "      <td>1</td>\n",
       "    </tr>\n",
       "    <tr>\n",
       "      <th>1</th>\n",
       "      <td>placebo</td>\n",
       "      <td>yes</td>\n",
       "      <td>0</td>\n",
       "      <td>1</td>\n",
       "      <td>1</td>\n",
       "    </tr>\n",
       "    <tr>\n",
       "      <th>2</th>\n",
       "      <td>placebo</td>\n",
       "      <td>yes</td>\n",
       "      <td>0</td>\n",
       "      <td>1</td>\n",
       "      <td>1</td>\n",
       "    </tr>\n",
       "    <tr>\n",
       "      <th>3</th>\n",
       "      <td>placebo</td>\n",
       "      <td>yes</td>\n",
       "      <td>0</td>\n",
       "      <td>1</td>\n",
       "      <td>1</td>\n",
       "    </tr>\n",
       "    <tr>\n",
       "      <th>4</th>\n",
       "      <td>placebo</td>\n",
       "      <td>yes</td>\n",
       "      <td>0</td>\n",
       "      <td>1</td>\n",
       "      <td>1</td>\n",
       "    </tr>\n",
       "  </tbody>\n",
       "</table>\n",
       "</div>"
      ],
      "text/plain": [
       "     group heart_attack  group_aspirn  group_placebo  attack_\n",
       "0  placebo          yes             0              1        1\n",
       "1  placebo          yes             0              1        1\n",
       "2  placebo          yes             0              1        1\n",
       "3  placebo          yes             0              1        1\n",
       "4  placebo          yes             0              1        1"
      ]
     },
     "execution_count": 2,
     "metadata": {},
     "output_type": "execute_result"
    }
   ],
   "source": [
    "result = [189, 10845, 104, 10933]\n",
    "d = {\n",
    "    'group': np.repeat(('placebo','placebo','aspirn','aspirn'), (result)),\n",
    "    'heart_attack' : np.repeat(('yes','no', 'yes','no'), (result)),\n",
    "    \n",
    "}\n",
    "\n",
    "drug = pd.DataFrame(d, columns=['group', 'heart_attack'])\n",
    "dummy_ = pd.get_dummies(drug[['group']])\n",
    "drug = pd.concat([drug, dummy_], axis=1)\n",
    "\n",
    "# one hot encoding\n",
    "heart_attack = {\"no\":0, \"yes\":1}\n",
    "drug['attack_'] = drug.heart_attack.map(heart_attack)\n",
    "\n",
    "drug.head()"
   ]
  },
  {
   "cell_type": "code",
   "execution_count": 3,
   "metadata": {},
   "outputs": [
    {
     "name": "stdout",
     "output_type": "stream",
     "text": [
      "heart_attack  yes     no\n",
      "group                   \n",
      "placebo       189  10845\n",
      "aspirn        104  10933\n",
      "Pearson's Chi-squared test with Yates' continuity correction\n",
      "X-squared:  25.014\n",
      "p-value  :  0.0\n",
      "degree of f:  1\n",
      "Odds Ratio CI:  (1.44, 2.331)\n",
      "\n",
      "2x2 Summary:\n",
      "               Estimate   SE   LCB   UCB  p-value\n",
      "-------------------------------------------------\n",
      "Odds ratio        1.832       1.440 2.331   0.000\n",
      "Log odds ratio    0.605 0.123 0.365 0.846   0.000\n",
      "Risk ratio        1.818       1.433 2.306   0.000\n",
      "Log risk ratio    0.598 0.121 0.360 0.835   0.000\n",
      "-------------------------------------------------\n"
     ]
    }
   ],
   "source": [
    "tb = pd.crosstab([drug.group], drug.heart_attack).T.sort_values('heart_attack', ascending=False).T.sort_values('group', ascending=False)\n",
    "\n",
    "print(tb)\n",
    "\n",
    "tab = sm.stats.Table2x2(tb.values)\n",
    "chi2, p, dof, ex = stats.chi2_contingency(tb, correction=False)\n",
    "\n",
    "print(\"Pearson's Chi-squared test with Yates' continuity correction\")\n",
    "print(\"X-squared: \", round(chi2, 3))\n",
    "print(\"p-value  : \", round(p, 3))\n",
    "print(\"degree of f: \", dof)\n",
    "\n",
    "hi, low = tab.oddsratio_confint()\n",
    "print(\"Odds Ratio CI: \", (round(hi, 3), round(low, 3)))\n",
    "print(\"\\n2x2 Summary:\")\n",
    "print(tab.summary())"
   ]
  },
  {
   "cell_type": "markdown",
   "metadata": {},
   "source": [
    "__the sample relative risk is p1/p2 =0.0171/0.0094=1.82. The sample proportionof MI cases was 82% higher for the group taking placebo.The sample difference of proportions of 0.008 makes it seem as if the two groups differ by a trivial amount__\n",
    "\n",
    "__We can be 95% conﬁdent that, after 5 years, the proportion of MI cases for male physicians taking placebo is between 1.43 and 2.30 times the proportion of MI cases for male physicians taking aspirin. This indicates that the risk of MI is at least 43% higher for the placebo group.__"
   ]
  },
  {
   "cell_type": "code",
   "execution_count": null,
   "metadata": {},
   "outputs": [],
   "source": []
  },
  {
   "cell_type": "code",
   "execution_count": null,
   "metadata": {},
   "outputs": [],
   "source": []
  },
  {
   "cell_type": "code",
   "execution_count": null,
   "metadata": {},
   "outputs": [],
   "source": []
  }
 ],
 "metadata": {
  "kernelspec": {
   "display_name": "bril",
   "language": "python",
   "name": "bril"
  },
  "language_info": {
   "codemirror_mode": {
    "name": "ipython",
    "version": 3
   },
   "file_extension": ".py",
   "mimetype": "text/x-python",
   "name": "python",
   "nbconvert_exporter": "python",
   "pygments_lexer": "ipython3",
   "version": "3.7.3"
  }
 },
 "nbformat": 4,
 "nbformat_minor": 2
}
