{
 "cells": [
  {
   "cell_type": "markdown",
   "metadata": {},
   "source": [
    "# Hotelling $T^2$"
   ]
  },
  {
   "cell_type": "code",
   "execution_count": 98,
   "metadata": {},
   "outputs": [],
   "source": [
    "import pandas as pd\n",
    "import numpy as np\n",
    "\n",
    "# import plotting libraries\n",
    "import matplotlib.pyplot as plt\n",
    "import seaborn as sns\n",
    "\n",
    "%matplotlib inline\n",
    "plt.style.use('seaborn-white')\n",
    "\n",
    "# Statistical Packages\n",
    "import scipy.stats as stats\n",
    "import statsmodels.api as sm\n",
    "from statsmodels.formula.api import ols\n",
    "from statsmodels.stats.anova import AnovaRM"
   ]
  },
  {
   "cell_type": "markdown",
   "metadata": {},
   "source": [
    "## Using Hotelling $T^2$ to test Two Mean Differnece using data with repeated measures\n",
    "\n",
    "Consider that case where the research uestion is comparing `Drug2` to `Drug4` and `Drug5`.\n",
    "\n",
    "$H_0 = \\mu2 - \\mu4 = 0$ and $\\mu2 - \\mu5 = 0$\n",
    "\n",
    "$H_a$ = at least one difference is not different from zero\n",
    "\n",
    "Hotelling $T^2$ evaluates whether we can reject at least one of the null hypothesis $H_0$"
   ]
  },
  {
   "cell_type": "code",
   "execution_count": 58,
   "metadata": {},
   "outputs": [
    {
     "data": {
      "text/html": [
       "<div>\n",
       "<style scoped>\n",
       "    .dataframe tbody tr th:only-of-type {\n",
       "        vertical-align: middle;\n",
       "    }\n",
       "\n",
       "    .dataframe tbody tr th {\n",
       "        vertical-align: top;\n",
       "    }\n",
       "\n",
       "    .dataframe thead th {\n",
       "        text-align: right;\n",
       "    }\n",
       "</style>\n",
       "<table border=\"1\" class=\"dataframe\">\n",
       "  <thead>\n",
       "    <tr style=\"text-align: right;\">\n",
       "      <th></th>\n",
       "      <th>subj</th>\n",
       "      <th>drug1</th>\n",
       "      <th>drug2</th>\n",
       "      <th>drug3</th>\n",
       "      <th>drug4</th>\n",
       "      <th>drug5</th>\n",
       "    </tr>\n",
       "  </thead>\n",
       "  <tbody>\n",
       "    <tr>\n",
       "      <th>0</th>\n",
       "      <td>1</td>\n",
       "      <td>31</td>\n",
       "      <td>29</td>\n",
       "      <td>17</td>\n",
       "      <td>32</td>\n",
       "      <td>25</td>\n",
       "    </tr>\n",
       "    <tr>\n",
       "      <th>1</th>\n",
       "      <td>2</td>\n",
       "      <td>15</td>\n",
       "      <td>17</td>\n",
       "      <td>11</td>\n",
       "      <td>20</td>\n",
       "      <td>24</td>\n",
       "    </tr>\n",
       "    <tr>\n",
       "      <th>2</th>\n",
       "      <td>3</td>\n",
       "      <td>25</td>\n",
       "      <td>21</td>\n",
       "      <td>19</td>\n",
       "      <td>28</td>\n",
       "      <td>35</td>\n",
       "    </tr>\n",
       "    <tr>\n",
       "      <th>3</th>\n",
       "      <td>4</td>\n",
       "      <td>35</td>\n",
       "      <td>35</td>\n",
       "      <td>21</td>\n",
       "      <td>42</td>\n",
       "      <td>30</td>\n",
       "    </tr>\n",
       "    <tr>\n",
       "      <th>4</th>\n",
       "      <td>5</td>\n",
       "      <td>27</td>\n",
       "      <td>27</td>\n",
       "      <td>15</td>\n",
       "      <td>28</td>\n",
       "      <td>25</td>\n",
       "    </tr>\n",
       "  </tbody>\n",
       "</table>\n",
       "</div>"
      ],
      "text/plain": [
       "   subj  drug1  drug2  drug3  drug4  drug5\n",
       "0     1     31     29     17     32     25\n",
       "1     2     15     17     11     20     24\n",
       "2     3     25     21     19     28     35\n",
       "3     4     35     35     21     42     30\n",
       "4     5     27     27     15     28     25"
      ]
     },
     "execution_count": 58,
     "metadata": {},
     "output_type": "execute_result"
    }
   ],
   "source": [
    "drug = pd.read_csv(\"./drug.txt\", sep='\\t')\n",
    "drug"
   ]
  },
  {
   "cell_type": "code",
   "execution_count": 59,
   "metadata": {},
   "outputs": [],
   "source": [
    "drug['diff1'] = drug.drug2 - drug.drug4\n",
    "drug['diff2'] = drug.drug2 - drug.drug5"
   ]
  },
  {
   "cell_type": "code",
   "execution_count": 60,
   "metadata": {},
   "outputs": [
    {
     "data": {
      "text/html": [
       "<div>\n",
       "<style scoped>\n",
       "    .dataframe tbody tr th:only-of-type {\n",
       "        vertical-align: middle;\n",
       "    }\n",
       "\n",
       "    .dataframe tbody tr th {\n",
       "        vertical-align: top;\n",
       "    }\n",
       "\n",
       "    .dataframe thead th {\n",
       "        text-align: right;\n",
       "    }\n",
       "</style>\n",
       "<table border=\"1\" class=\"dataframe\">\n",
       "  <thead>\n",
       "    <tr style=\"text-align: right;\">\n",
       "      <th></th>\n",
       "      <th>count</th>\n",
       "      <th>mean</th>\n",
       "      <th>std</th>\n",
       "      <th>min</th>\n",
       "      <th>25%</th>\n",
       "      <th>50%</th>\n",
       "      <th>75%</th>\n",
       "      <th>max</th>\n",
       "    </tr>\n",
       "  </thead>\n",
       "  <tbody>\n",
       "    <tr>\n",
       "      <th>diff1</th>\n",
       "      <td>5.0</td>\n",
       "      <td>-4.2</td>\n",
       "      <td>2.683282</td>\n",
       "      <td>-7.0</td>\n",
       "      <td>-7.0</td>\n",
       "      <td>-3.0</td>\n",
       "      <td>-3.0</td>\n",
       "      <td>-1.0</td>\n",
       "    </tr>\n",
       "    <tr>\n",
       "      <th>diff2</th>\n",
       "      <td>5.0</td>\n",
       "      <td>-2.0</td>\n",
       "      <td>8.215838</td>\n",
       "      <td>-14.0</td>\n",
       "      <td>-7.0</td>\n",
       "      <td>2.0</td>\n",
       "      <td>4.0</td>\n",
       "      <td>5.0</td>\n",
       "    </tr>\n",
       "  </tbody>\n",
       "</table>\n",
       "</div>"
      ],
      "text/plain": [
       "       count  mean       std   min  25%  50%  75%  max\n",
       "diff1    5.0  -4.2  2.683282  -7.0 -7.0 -3.0 -3.0 -1.0\n",
       "diff2    5.0  -2.0  8.215838 -14.0 -7.0  2.0  4.0  5.0"
      ]
     },
     "execution_count": 60,
     "metadata": {},
     "output_type": "execute_result"
    }
   ],
   "source": [
    "drug[['diff1','diff2']].describe().T"
   ]
  },
  {
   "cell_type": "markdown",
   "metadata": {},
   "source": [
    "__Correlation between two sets fo differences__"
   ]
  },
  {
   "cell_type": "code",
   "execution_count": 61,
   "metadata": {},
   "outputs": [
    {
     "data": {
      "text/html": [
       "<div>\n",
       "<style scoped>\n",
       "    .dataframe tbody tr th:only-of-type {\n",
       "        vertical-align: middle;\n",
       "    }\n",
       "\n",
       "    .dataframe tbody tr th {\n",
       "        vertical-align: top;\n",
       "    }\n",
       "\n",
       "    .dataframe thead th {\n",
       "        text-align: right;\n",
       "    }\n",
       "</style>\n",
       "<table border=\"1\" class=\"dataframe\">\n",
       "  <thead>\n",
       "    <tr style=\"text-align: right;\">\n",
       "      <th></th>\n",
       "      <th>diff1</th>\n",
       "      <th>diff2</th>\n",
       "    </tr>\n",
       "  </thead>\n",
       "  <tbody>\n",
       "    <tr>\n",
       "      <th>diff1</th>\n",
       "      <td>1.000000</td>\n",
       "      <td>0.317526</td>\n",
       "    </tr>\n",
       "    <tr>\n",
       "      <th>diff2</th>\n",
       "      <td>0.317526</td>\n",
       "      <td>1.000000</td>\n",
       "    </tr>\n",
       "  </tbody>\n",
       "</table>\n",
       "</div>"
      ],
      "text/plain": [
       "          diff1     diff2\n",
       "diff1  1.000000  0.317526\n",
       "diff2  0.317526  1.000000"
      ]
     },
     "execution_count": 61,
     "metadata": {},
     "output_type": "execute_result"
    }
   ],
   "source": [
    "drug[['diff1','diff2']].corr()"
   ]
  },
  {
   "cell_type": "code",
   "execution_count": 62,
   "metadata": {},
   "outputs": [
    {
     "name": "stdout",
     "output_type": "stream",
     "text": [
      "---------DIFF 1 ----------\n",
      "Average  in Diff 1:        -4.2\n",
      "Variance in Diff 1:        2.68\n",
      "SE (s/sqrt(5)) in Diff 1:  1.2\n",
      "t_1 Avg delta/SE:          -3.5\n",
      "\n",
      "---------DIFF 3 ----------\n",
      "Average  in Diff 2:        -2.0\n",
      "Variance in Diff 2:        8.22\n",
      "SE (s/sqrt(5)) in Diff 2:  3.67\n",
      "t_1 Avg delta/SE:          -0.54\n",
      "\n",
      "correlation r :  0.3175264481385601\n"
     ]
    }
   ],
   "source": [
    "# diff 1\n",
    "diff1_mu = drug.diff1.mean()\n",
    "diff1_std = drug.diff1.std()\n",
    "diff1_SE = diff1_std/np.sqrt(len(drug))\n",
    "t1 = diff1_mu / diff1_SE\n",
    "\n",
    "print(\"---------DIFF 1 ----------\")\n",
    "print(\"Average  in Diff 1:       \", diff1_mu)\n",
    "print(\"Variance in Diff 1:       \", round(diff1_std, 2))\n",
    "print(\"SE (s/sqrt(5)) in Diff 1: \", diff1_SE)\n",
    "print(\"t_1 Avg delta/SE:         \", round(t1, 2))\n",
    "\n",
    "# diff 2\n",
    "diff2_mu = drug.diff2.mean()\n",
    "diff2_std = drug.diff2.std()\n",
    "diff2_SE = diff2_std/np.sqrt(len(drug))\n",
    "t2 = diff2_mu / diff2_SE\n",
    "\n",
    "print(\"\")\n",
    "print(\"---------DIFF 3 ----------\")\n",
    "print(\"Average  in Diff 2:       \", diff2_mu)\n",
    "print(\"Variance in Diff 2:       \", round(diff2_std, 2))\n",
    "print(\"SE (s/sqrt(5)) in Diff 2: \", round(diff2_SE, 2))\n",
    "print(\"t_1 Avg delta/SE:         \", round(t2, 2))\n",
    "\n",
    "coor_r = drug[['diff1','diff2']].corr()['diff2'][0]\n",
    "coor_r\n",
    "\n",
    "print(\"\")\n",
    "print(\"correlation r : \", coor_r)"
   ]
  },
  {
   "cell_type": "markdown",
   "metadata": {},
   "source": [
    "### Hotellings $T^2$\n",
    "\n",
    "$T^2 = \\frac{t_1^2 + t_2^2 - 2rt_1t_2}{1 - r^2}$\n",
    "\n",
    "F statistics\n",
    "\n",
    "$f = \\frac{n-2}{2(n-1)}T^2$\n",
    "\n",
    "where:\n",
    "$df 2, n-2$"
   ]
  },
  {
   "cell_type": "code",
   "execution_count": 63,
   "metadata": {},
   "outputs": [
    {
     "name": "stdout",
     "output_type": "stream",
     "text": [
      "Hotelling T2:  13.247\n",
      "F-statistic:  4.968\n"
     ]
    }
   ],
   "source": [
    "t = (t1**2+t2**2 - 2*coor_r)/(1-coor_r**2)\n",
    "print(\"Hotelling T2: \", round(t,3))\n",
    "\n",
    "f = t*3/(2*4)\n",
    "print(\"F-statistic: \", round(f,3))"
   ]
  },
  {
   "cell_type": "markdown",
   "metadata": {},
   "source": [
    "---"
   ]
  },
  {
   "cell_type": "code",
   "execution_count": null,
   "metadata": {},
   "outputs": [],
   "source": [
    "\n",
    "\n",
    "drug = pd.read_csv(\"./drug.txt\", sep='\\t')\n",
    "drug_ = drug[['drug1','drug2','drug3','drug4','drug5']]\n",
    "drug_"
   ]
  },
  {
   "attachments": {},
   "cell_type": "markdown",
   "metadata": {},
   "source": [
    "___Graph of Repeated Measure Data With One Group!___"
   ]
  },
  {
   "cell_type": "code",
   "execution_count": 89,
   "metadata": {},
   "outputs": [
    {
     "name": "stderr",
     "output_type": "stream",
     "text": [
      "C:\\Users\\phhale\\AppData\\Local\\Continuum\\anaconda3\\envs\\bril\\lib\\site-packages\\seaborn\\categorical.py:3666: UserWarning: The `factorplot` function has been renamed to `catplot`. The original name will be removed in a future release. Please update your code. Note that the default `kind` in `factorplot` (`'point'`) has changed `'strip'` in `catplot`.\n",
      "  warnings.warn(msg)\n"
     ]
    },
    {
     "data": {
      "text/plain": [
       "<seaborn.axisgrid.FacetGrid at 0x2d3abae6518>"
      ]
     },
     "execution_count": 89,
     "metadata": {},
     "output_type": "execute_result"
    },
    {
     "data": {
      "image/png": "[encoded data removed]",
      "text/plain": [
       "<Figure size 360x360 with 1 Axes>"
      ]
     },
     "metadata": {
      "needs_background": "light"
     },
     "output_type": "display_data"
    }
   ],
   "source": [
    "df_ = pd.melt(drug_.T.reset_index(), id_vars=['index'], var_name='subj')\n",
    "df_.head()\n",
    "sns.factorplot(x='index', y='value',data=df_, )"
   ]
  },
  {
   "cell_type": "code",
   "execution_count": 90,
   "metadata": {},
   "outputs": [
    {
     "data": {
      "text/html": [
       "<div>\n",
       "<style scoped>\n",
       "    .dataframe tbody tr th:only-of-type {\n",
       "        vertical-align: middle;\n",
       "    }\n",
       "\n",
       "    .dataframe tbody tr th {\n",
       "        vertical-align: top;\n",
       "    }\n",
       "\n",
       "    .dataframe thead th {\n",
       "        text-align: right;\n",
       "    }\n",
       "</style>\n",
       "<table border=\"1\" class=\"dataframe\">\n",
       "  <thead>\n",
       "    <tr style=\"text-align: right;\">\n",
       "      <th></th>\n",
       "      <th>index</th>\n",
       "      <th>subj</th>\n",
       "      <th>value</th>\n",
       "    </tr>\n",
       "  </thead>\n",
       "  <tbody>\n",
       "    <tr>\n",
       "      <th>0</th>\n",
       "      <td>drug1</td>\n",
       "      <td>0</td>\n",
       "      <td>31</td>\n",
       "    </tr>\n",
       "    <tr>\n",
       "      <th>1</th>\n",
       "      <td>drug2</td>\n",
       "      <td>0</td>\n",
       "      <td>29</td>\n",
       "    </tr>\n",
       "    <tr>\n",
       "      <th>2</th>\n",
       "      <td>drug3</td>\n",
       "      <td>0</td>\n",
       "      <td>17</td>\n",
       "    </tr>\n",
       "    <tr>\n",
       "      <th>3</th>\n",
       "      <td>drug4</td>\n",
       "      <td>0</td>\n",
       "      <td>32</td>\n",
       "    </tr>\n",
       "    <tr>\n",
       "      <th>4</th>\n",
       "      <td>drug5</td>\n",
       "      <td>0</td>\n",
       "      <td>25</td>\n",
       "    </tr>\n",
       "  </tbody>\n",
       "</table>\n",
       "</div>"
      ],
      "text/plain": [
       "   index subj  value\n",
       "0  drug1    0     31\n",
       "1  drug2    0     29\n",
       "2  drug3    0     17\n",
       "3  drug4    0     32\n",
       "4  drug5    0     25"
      ]
     },
     "execution_count": 90,
     "metadata": {},
     "output_type": "execute_result"
    }
   ],
   "source": [
    "df_.head()"
   ]
  },
  {
   "cell_type": "markdown",
   "metadata": {},
   "source": [
    "__THIS IS INCORRECT IF YOU HAVE REPEATED MEASURES__\n",
    "\n",
    "One way anova ignoring repeated measure:"
   ]
  },
  {
   "cell_type": "code",
   "execution_count": 96,
   "metadata": {},
   "outputs": [
    {
     "data": {
      "text/html": [
       "<div>\n",
       "<style scoped>\n",
       "    .dataframe tbody tr th:only-of-type {\n",
       "        vertical-align: middle;\n",
       "    }\n",
       "\n",
       "    .dataframe tbody tr th {\n",
       "        vertical-align: top;\n",
       "    }\n",
       "\n",
       "    .dataframe thead th {\n",
       "        text-align: right;\n",
       "    }\n",
       "</style>\n",
       "<table border=\"1\" class=\"dataframe\">\n",
       "  <thead>\n",
       "    <tr style=\"text-align: right;\">\n",
       "      <th></th>\n",
       "      <th>sum_sq</th>\n",
       "      <th>df</th>\n",
       "      <th>F</th>\n",
       "      <th>PR(&gt;F)</th>\n",
       "    </tr>\n",
       "  </thead>\n",
       "  <tbody>\n",
       "    <tr>\n",
       "      <th>index</th>\n",
       "      <td>529.76</td>\n",
       "      <td>4.0</td>\n",
       "      <td>3.20678</td>\n",
       "      <td>0.03458</td>\n",
       "    </tr>\n",
       "    <tr>\n",
       "      <th>Residual</th>\n",
       "      <td>826.00</td>\n",
       "      <td>20.0</td>\n",
       "      <td>NaN</td>\n",
       "      <td>NaN</td>\n",
       "    </tr>\n",
       "  </tbody>\n",
       "</table>\n",
       "</div>"
      ],
      "text/plain": [
       "          sum_sq    df        F   PR(>F)\n",
       "index     529.76   4.0  3.20678  0.03458\n",
       "Residual  826.00  20.0      NaN      NaN"
      ]
     },
     "execution_count": 96,
     "metadata": {},
     "output_type": "execute_result"
    }
   ],
   "source": [
    "model = ols('value ~ index', data=df_).fit()\n",
    "aov_table = anova_lm(model, typ=2)\n",
    "aov_table"
   ]
  },
  {
   "cell_type": "markdown",
   "metadata": {},
   "source": [
    "### One Way ANOVA Condiering Repeated Measures\n",
    "\n",
    "using `statsmodels`, the arguments are:\n",
    "- `df_` is the dataset\n",
    "- `value` is the independent variable\n",
    "- `subj` is the subject identifier\n",
    "- `within=index` is the list od dependend variables\n",
    "\n",
    "Then we print the ANOVA Table."
   ]
  },
  {
   "cell_type": "code",
   "execution_count": 107,
   "metadata": {},
   "outputs": [
    {
     "name": "stdout",
     "output_type": "stream",
     "text": [
      "               Anova\n",
      "===================================\n",
      "      Num DF  Den DF F Value Pr > F\n",
      "-----------------------------------\n",
      "index 4.0000 16.0000  9.1401 0.0005\n",
      "===================================\n",
      "\n"
     ]
    }
   ],
   "source": [
    "aovrm = AnovaRM(df_, 'value', 'subj', within=['index'])\n",
    "res = aovrm.fit()\n",
    "\n",
    "print(res)"
   ]
  },
  {
   "cell_type": "markdown",
   "metadata": {},
   "source": [
    "Above is the __Repeated measures ANOVA for unitivatei test for within each drug__"
   ]
  },
  {
   "cell_type": "code",
   "execution_count": null,
   "metadata": {},
   "outputs": [],
   "source": []
  }
 ],
 "metadata": {
  "kernelspec": {
   "display_name": "bril",
   "language": "python",
   "name": "bril"
  },
  "language_info": {
   "codemirror_mode": {
    "name": "ipython",
    "version": 3
   },
   "file_extension": ".py",
   "mimetype": "text/x-python",
   "name": "python",
   "nbconvert_exporter": "python",
   "pygments_lexer": "ipython3",
   "version": "3.7.3"
  }
 },
 "nbformat": 4,
 "nbformat_minor": 2
}
