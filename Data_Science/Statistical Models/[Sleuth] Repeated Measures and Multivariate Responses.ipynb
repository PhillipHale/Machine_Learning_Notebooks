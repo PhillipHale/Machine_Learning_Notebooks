{
 "cells": [
  {
   "cell_type": "markdown",
   "metadata": {},
   "source": [
    "\n",
    "### Chapter 16 - Repeated Measures and Other Multivariate Responses\n",
    "\n",
    "\n",
    "#### Terms\n",
    "- __Multivariate Response__ - responses with several components \n",
    "- __Repeated Measure__ - a special kind of multivariate response obtained by measuring the same variable on eahc subject several times _(possibly under different conditions)_\n",
    "\n",
    "\n",
    "\n",
    "# Case 1601 - Short and Long Term Memory\n",
    "\n",
    "![](https://bayhouselrc.files.wordpress.com/2016/01/monkey.png?w=712)\n",
    "\n",
    "__Hypothesis:__ The hippocampal formation is not a repository of permanent memory. \n",
    "\n",
    "> To test the hypothesis, they trained 18 monkeys to discriminate 100 pairs of objects, 20 pairs each at 16, 12, 8, 4, and 2 weeks prior to a treatment. The objects were toys, cans, odd pieces of wood, etc., randomly selected from a population of such objects used for behavioral studies. After learning to distinguish each of the 100 pairs of objects, 11 monkeys were treated by blocking access to their hippocampal formations. The remaining 7 monkeys were untreated controls.\n",
    "\n",
    "__Response: % of objects learned during each of the weeks prior correctly identified__\n",
    "\n",
    "If the hypothesis is correct, then treated monkeys should have similar long term memory to contorl monkeys, but worse short term memory\n",
    "\n",
    "source: http://stat512.cwick.co.nz/lectures/23-multivariate.pdf"
   ]
  },
  {
   "cell_type": "code",
   "execution_count": 1,
   "metadata": {},
   "outputs": [],
   "source": [
    "import pandas as pd\n",
    "import numpy as np\n",
    "\n",
    "# import plotting libraries\n",
    "import matplotlib.pyplot as plt\n",
    "import seaborn as sns\n",
    "\n",
    "%matplotlib inline\n",
    "plt.style.use('seaborn-white')\n",
    "\n",
    "# Statistical Packages\n",
    "import scipy.stats as stats\n",
    "import statsmodels.api as sm\n",
    "import statsmodels.formula.api as smf"
   ]
  },
  {
   "cell_type": "code",
   "execution_count": 3,
   "metadata": {},
   "outputs": [
    {
     "data": {
      "text/html": [
       "<div>\n",
       "<style scoped>\n",
       "    .dataframe tbody tr th:only-of-type {\n",
       "        vertical-align: middle;\n",
       "    }\n",
       "\n",
       "    .dataframe tbody tr th {\n",
       "        vertical-align: top;\n",
       "    }\n",
       "\n",
       "    .dataframe thead th {\n",
       "        text-align: right;\n",
       "    }\n",
       "</style>\n",
       "<table border=\"1\" class=\"dataframe\">\n",
       "  <thead>\n",
       "    <tr style=\"text-align: right;\">\n",
       "      <th></th>\n",
       "      <th>Monkey</th>\n",
       "      <th>Treatment</th>\n",
       "      <th>Week2</th>\n",
       "      <th>Week4</th>\n",
       "      <th>Week8</th>\n",
       "      <th>Week12</th>\n",
       "      <th>Week16</th>\n",
       "    </tr>\n",
       "  </thead>\n",
       "  <tbody>\n",
       "    <tr>\n",
       "      <th>0</th>\n",
       "      <td>Spank</td>\n",
       "      <td>Control</td>\n",
       "      <td>95</td>\n",
       "      <td>75</td>\n",
       "      <td>80</td>\n",
       "      <td>65</td>\n",
       "      <td>70</td>\n",
       "    </tr>\n",
       "    <tr>\n",
       "      <th>1</th>\n",
       "      <td>Chim</td>\n",
       "      <td>Control</td>\n",
       "      <td>85</td>\n",
       "      <td>75</td>\n",
       "      <td>55</td>\n",
       "      <td>75</td>\n",
       "      <td>85</td>\n",
       "    </tr>\n",
       "    <tr>\n",
       "      <th>2</th>\n",
       "      <td>Chak</td>\n",
       "      <td>Control</td>\n",
       "      <td>75</td>\n",
       "      <td>95</td>\n",
       "      <td>60</td>\n",
       "      <td>40</td>\n",
       "      <td>45</td>\n",
       "    </tr>\n",
       "    <tr>\n",
       "      <th>3</th>\n",
       "      <td>Alf</td>\n",
       "      <td>Control</td>\n",
       "      <td>85</td>\n",
       "      <td>80</td>\n",
       "      <td>70</td>\n",
       "      <td>45</td>\n",
       "      <td>80</td>\n",
       "    </tr>\n",
       "    <tr>\n",
       "      <th>4</th>\n",
       "      <td>Poet</td>\n",
       "      <td>Control</td>\n",
       "      <td>65</td>\n",
       "      <td>80</td>\n",
       "      <td>75</td>\n",
       "      <td>65</td>\n",
       "      <td>65</td>\n",
       "    </tr>\n",
       "  </tbody>\n",
       "</table>\n",
       "</div>"
      ],
      "text/plain": [
       "  Monkey Treatment  Week2  Week4  Week8  Week12  Week16\n",
       "0  Spank   Control     95     75     80      65      70\n",
       "1   Chim   Control     85     75     55      75      85\n",
       "2   Chak   Control     75     95     60      40      45\n",
       "3    Alf   Control     85     80     70      45      80\n",
       "4   Poet   Control     65     80     75      65      65"
      ]
     },
     "execution_count": 3,
     "metadata": {},
     "output_type": "execute_result"
    }
   ],
   "source": [
    "memory = pd.read_csv(\"./data/case1601.csv\")\n",
    "memory.head()"
   ]
  },
  {
   "cell_type": "code",
   "execution_count": 130,
   "metadata": {},
   "outputs": [
    {
     "data": {
      "text/html": [
       "<div>\n",
       "<style scoped>\n",
       "    .dataframe tbody tr th:only-of-type {\n",
       "        vertical-align: middle;\n",
       "    }\n",
       "\n",
       "    .dataframe tbody tr th {\n",
       "        vertical-align: top;\n",
       "    }\n",
       "\n",
       "    .dataframe thead th {\n",
       "        text-align: right;\n",
       "    }\n",
       "</style>\n",
       "<table border=\"1\" class=\"dataframe\">\n",
       "  <thead>\n",
       "    <tr style=\"text-align: right;\">\n",
       "      <th>Treatment</th>\n",
       "      <th>index</th>\n",
       "      <th>Control</th>\n",
       "      <th>Treated</th>\n",
       "    </tr>\n",
       "  </thead>\n",
       "  <tbody>\n",
       "    <tr>\n",
       "      <th>0</th>\n",
       "      <td>Week2</td>\n",
       "      <td>78.571429</td>\n",
       "      <td>62.272727</td>\n",
       "    </tr>\n",
       "    <tr>\n",
       "      <th>1</th>\n",
       "      <td>Week4</td>\n",
       "      <td>82.142857</td>\n",
       "      <td>64.090909</td>\n",
       "    </tr>\n",
       "    <tr>\n",
       "      <th>2</th>\n",
       "      <td>Week8</td>\n",
       "      <td>70.714286</td>\n",
       "      <td>65.454545</td>\n",
       "    </tr>\n",
       "    <tr>\n",
       "      <th>3</th>\n",
       "      <td>Week12</td>\n",
       "      <td>62.142857</td>\n",
       "      <td>72.272727</td>\n",
       "    </tr>\n",
       "    <tr>\n",
       "      <th>4</th>\n",
       "      <td>Week16</td>\n",
       "      <td>70.000000</td>\n",
       "      <td>67.272727</td>\n",
       "    </tr>\n",
       "  </tbody>\n",
       "</table>\n",
       "</div>"
      ],
      "text/plain": [
       "Treatment   index    Control    Treated\n",
       "0           Week2  78.571429  62.272727\n",
       "1           Week4  82.142857  64.090909\n",
       "2           Week8  70.714286  65.454545\n",
       "3          Week12  62.142857  72.272727\n",
       "4          Week16  70.000000  67.272727"
      ]
     },
     "execution_count": 130,
     "metadata": {},
     "output_type": "execute_result"
    }
   ],
   "source": [
    "memory_ = memory.groupby('Treatment').agg({'Week2':'mean',\n",
    "                                'Week4':'mean',\n",
    "                                'Week8':'mean',\n",
    "                                'Week12':'mean',\n",
    "                                'Week16':'mean'}).T.reset_index()\n",
    "memory_"
   ]
  },
  {
   "cell_type": "code",
   "execution_count": 132,
   "metadata": {},
   "outputs": [
    {
     "data": {
      "text/html": [
       "<div>\n",
       "<style scoped>\n",
       "    .dataframe tbody tr th:only-of-type {\n",
       "        vertical-align: middle;\n",
       "    }\n",
       "\n",
       "    .dataframe tbody tr th {\n",
       "        vertical-align: top;\n",
       "    }\n",
       "\n",
       "    .dataframe thead th {\n",
       "        text-align: right;\n",
       "    }\n",
       "</style>\n",
       "<table border=\"1\" class=\"dataframe\">\n",
       "  <thead>\n",
       "    <tr style=\"text-align: right;\">\n",
       "      <th></th>\n",
       "      <th>level_0</th>\n",
       "      <th>Treatment</th>\n",
       "      <th>0</th>\n",
       "    </tr>\n",
       "  </thead>\n",
       "  <tbody>\n",
       "    <tr>\n",
       "      <th>0</th>\n",
       "      <td>0</td>\n",
       "      <td>Control</td>\n",
       "      <td>78.571429</td>\n",
       "    </tr>\n",
       "    <tr>\n",
       "      <th>1</th>\n",
       "      <td>0</td>\n",
       "      <td>Treated</td>\n",
       "      <td>62.272727</td>\n",
       "    </tr>\n",
       "    <tr>\n",
       "      <th>2</th>\n",
       "      <td>1</td>\n",
       "      <td>Control</td>\n",
       "      <td>82.142857</td>\n",
       "    </tr>\n",
       "    <tr>\n",
       "      <th>3</th>\n",
       "      <td>1</td>\n",
       "      <td>Treated</td>\n",
       "      <td>64.090909</td>\n",
       "    </tr>\n",
       "    <tr>\n",
       "      <th>4</th>\n",
       "      <td>2</td>\n",
       "      <td>Control</td>\n",
       "      <td>70.714286</td>\n",
       "    </tr>\n",
       "  </tbody>\n",
       "</table>\n",
       "</div>"
      ],
      "text/plain": [
       "   level_0 Treatment          0\n",
       "0        0   Control  78.571429\n",
       "1        0   Treated  62.272727\n",
       "2        1   Control  82.142857\n",
       "3        1   Treated  64.090909\n",
       "4        2   Control  70.714286"
      ]
     },
     "execution_count": 132,
     "metadata": {},
     "output_type": "execute_result"
    }
   ],
   "source": [
    "memory_2 = memory_[['Control','Treated']].stack().reset_index()\n",
    "memory_2.head()"
   ]
  },
  {
   "cell_type": "markdown",
   "metadata": {},
   "source": [
    "Remap using a dictoray for the `Weeks`"
   ]
  },
  {
   "cell_type": "code",
   "execution_count": 133,
   "metadata": {},
   "outputs": [],
   "source": [
    "d = {0: 'Week2',\n",
    "     1: 'Week4',\n",
    "     2: 'Week8',\n",
    "     3: 'Week12',\n",
    "     4: 'Week16'}"
   ]
  },
  {
   "cell_type": "code",
   "execution_count": 134,
   "metadata": {},
   "outputs": [
    {
     "data": {
      "text/html": [
       "<div>\n",
       "<style scoped>\n",
       "    .dataframe tbody tr th:only-of-type {\n",
       "        vertical-align: middle;\n",
       "    }\n",
       "\n",
       "    .dataframe tbody tr th {\n",
       "        vertical-align: top;\n",
       "    }\n",
       "\n",
       "    .dataframe thead th {\n",
       "        text-align: right;\n",
       "    }\n",
       "</style>\n",
       "<table border=\"1\" class=\"dataframe\">\n",
       "  <thead>\n",
       "    <tr style=\"text-align: right;\">\n",
       "      <th></th>\n",
       "      <th>Weeks</th>\n",
       "      <th>Treatment</th>\n",
       "      <th>PercCorrect</th>\n",
       "    </tr>\n",
       "  </thead>\n",
       "  <tbody>\n",
       "    <tr>\n",
       "      <th>0</th>\n",
       "      <td>Week2</td>\n",
       "      <td>Control</td>\n",
       "      <td>78.571429</td>\n",
       "    </tr>\n",
       "    <tr>\n",
       "      <th>1</th>\n",
       "      <td>Week2</td>\n",
       "      <td>Treated</td>\n",
       "      <td>62.272727</td>\n",
       "    </tr>\n",
       "    <tr>\n",
       "      <th>2</th>\n",
       "      <td>Week4</td>\n",
       "      <td>Control</td>\n",
       "      <td>82.142857</td>\n",
       "    </tr>\n",
       "    <tr>\n",
       "      <th>3</th>\n",
       "      <td>Week4</td>\n",
       "      <td>Treated</td>\n",
       "      <td>64.090909</td>\n",
       "    </tr>\n",
       "    <tr>\n",
       "      <th>4</th>\n",
       "      <td>Week8</td>\n",
       "      <td>Control</td>\n",
       "      <td>70.714286</td>\n",
       "    </tr>\n",
       "  </tbody>\n",
       "</table>\n",
       "</div>"
      ],
      "text/plain": [
       "   Weeks Treatment  PercCorrect\n",
       "0  Week2   Control    78.571429\n",
       "1  Week2   Treated    62.272727\n",
       "2  Week4   Control    82.142857\n",
       "3  Week4   Treated    64.090909\n",
       "4  Week8   Control    70.714286"
      ]
     },
     "execution_count": 134,
     "metadata": {},
     "output_type": "execute_result"
    }
   ],
   "source": [
    "# weeks = ['Week2','Week2', 'Week4','Week4', 'Week8', 'Week8','Week12', 'Week12','Week16','Week16']\n",
    "#memory_2['Weeks'] = weeks\n",
    "#memory_2['Weeks'] = memory_2['Weeks'].astype('category')\n",
    "memory_2['level_0'] = memory_2.level_0.map(d)\n",
    "\n",
    "memory_2.columns = ['Weeks', 'Treatment', 'PercCorrect']\n",
    "memory_2.head()"
   ]
  },
  {
   "cell_type": "markdown",
   "metadata": {},
   "source": [
    "Below is a plot of the __Averaged correct scores over each measured week__. "
   ]
  },
  {
   "cell_type": "code",
   "execution_count": 135,
   "metadata": {},
   "outputs": [
    {
     "name": "stderr",
     "output_type": "stream",
     "text": [
      "C:\\Users\\phhale\\AppData\\Local\\Continuum\\anaconda3\\envs\\bril\\lib\\site-packages\\seaborn\\categorical.py:3666: UserWarning: The `factorplot` function has been renamed to `catplot`. The original name will be removed in a future release. Please update your code. Note that the default `kind` in `factorplot` (`'point'`) has changed `'strip'` in `catplot`.\n",
      "  warnings.warn(msg)\n"
     ]
    },
    {
     "data": {
      "text/plain": [
       "<seaborn.axisgrid.FacetGrid at 0x202a73e70f0>"
      ]
     },
     "execution_count": 135,
     "metadata": {},
     "output_type": "execute_result"
    },
    {
     "data": {
      "image/png": "[encoded data removed]",
      "text/plain": [
       "<Figure size 430.625x360 with 1 Axes>"
      ]
     },
     "metadata": {
      "needs_background": "light"
     },
     "output_type": "display_data"
    }
   ],
   "source": [
    "sns.factorplot(x='Weeks', y='PercCorrect', hue='Treatment',\n",
    "            data=memory_2)"
   ]
  },
  {
   "cell_type": "code",
   "execution_count": 247,
   "metadata": {},
   "outputs": [
    {
     "name": "stderr",
     "output_type": "stream",
     "text": [
      "C:\\Users\\phhale\\AppData\\Local\\Continuum\\anaconda3\\envs\\bril\\lib\\site-packages\\seaborn\\categorical.py:3666: UserWarning: The `factorplot` function has been renamed to `catplot`. The original name will be removed in a future release. Please update your code. Note that the default `kind` in `factorplot` (`'point'`) has changed `'strip'` in `catplot`.\n",
      "  warnings.warn(msg)\n"
     ]
    },
    {
     "data": {
      "text/plain": [
       "<seaborn.axisgrid.FacetGrid at 0x202a5bb7080>"
      ]
     },
     "execution_count": 247,
     "metadata": {},
     "output_type": "execute_result"
    },
    {
     "data": {
      "image/png": "[encoded data removed]",
      "text/plain": [
       "<Figure size 430.625x360 with 1 Axes>"
      ]
     },
     "metadata": {
      "needs_background": "light"
     },
     "output_type": "display_data"
    }
   ],
   "source": [
    "df_ = pd.melt(memory, id_vars=['Treatment','Monkey'], var_name='Weeks')\n",
    "df_.head()\n",
    "sns.factorplot(x='Weeks', y='value', hue='Treatment',data=df_, )\n"
   ]
  },
  {
   "cell_type": "markdown",
   "metadata": {},
   "source": [
    "When looking at the plot above, based off the experimental design, looking at the graph left to right, incrasing in weeks we would expect shorter term memory to correspond to shorter weeks and long term memory correspond with more week passed. \n",
    "\n",
    "`Week 2` shows a big difference for recall but as we progress to `Week 18` the long term memory is about the same. "
   ]
  },
  {
   "cell_type": "code",
   "execution_count": 244,
   "metadata": {},
   "outputs": [
    {
     "data": {
      "text/html": [
       "<div>\n",
       "<style scoped>\n",
       "    .dataframe tbody tr th:only-of-type {\n",
       "        vertical-align: middle;\n",
       "    }\n",
       "\n",
       "    .dataframe tbody tr th {\n",
       "        vertical-align: top;\n",
       "    }\n",
       "\n",
       "    .dataframe thead th {\n",
       "        text-align: right;\n",
       "    }\n",
       "</style>\n",
       "<table border=\"1\" class=\"dataframe\">\n",
       "  <thead>\n",
       "    <tr style=\"text-align: right;\">\n",
       "      <th></th>\n",
       "      <th>Weeks</th>\n",
       "      <th>Alf</th>\n",
       "      <th>Allen</th>\n",
       "      <th>Andy</th>\n",
       "      <th>Chak</th>\n",
       "      <th>Chim</th>\n",
       "      <th>Cornelius</th>\n",
       "      <th>Duncan</th>\n",
       "      <th>Edy</th>\n",
       "      <th>Irv</th>\n",
       "      <th>Jessie</th>\n",
       "      <th>Joey</th>\n",
       "      <th>Junior</th>\n",
       "      <th>Just</th>\n",
       "      <th>Phil</th>\n",
       "      <th>Poe</th>\n",
       "      <th>Poet</th>\n",
       "      <th>Spank</th>\n",
       "      <th>Sport</th>\n",
       "    </tr>\n",
       "  </thead>\n",
       "  <tbody>\n",
       "    <tr>\n",
       "      <th>0</th>\n",
       "      <td>Week2</td>\n",
       "      <td>85</td>\n",
       "      <td>60</td>\n",
       "      <td>55</td>\n",
       "      <td>75</td>\n",
       "      <td>85</td>\n",
       "      <td>45</td>\n",
       "      <td>65</td>\n",
       "      <td>85</td>\n",
       "      <td>75</td>\n",
       "      <td>70</td>\n",
       "      <td>65</td>\n",
       "      <td>60</td>\n",
       "      <td>55</td>\n",
       "      <td>75</td>\n",
       "      <td>60</td>\n",
       "      <td>65</td>\n",
       "      <td>95</td>\n",
       "      <td>60</td>\n",
       "    </tr>\n",
       "    <tr>\n",
       "      <th>1</th>\n",
       "      <td>Week4</td>\n",
       "      <td>80</td>\n",
       "      <td>70</td>\n",
       "      <td>65</td>\n",
       "      <td>95</td>\n",
       "      <td>75</td>\n",
       "      <td>60</td>\n",
       "      <td>55</td>\n",
       "      <td>85</td>\n",
       "      <td>50</td>\n",
       "      <td>90</td>\n",
       "      <td>60</td>\n",
       "      <td>55</td>\n",
       "      <td>70</td>\n",
       "      <td>80</td>\n",
       "      <td>65</td>\n",
       "      <td>80</td>\n",
       "      <td>75</td>\n",
       "      <td>70</td>\n",
       "    </tr>\n",
       "    <tr>\n",
       "      <th>2</th>\n",
       "      <td>Week8</td>\n",
       "      <td>70</td>\n",
       "      <td>70</td>\n",
       "      <td>45</td>\n",
       "      <td>60</td>\n",
       "      <td>55</td>\n",
       "      <td>65</td>\n",
       "      <td>55</td>\n",
       "      <td>60</td>\n",
       "      <td>70</td>\n",
       "      <td>85</td>\n",
       "      <td>80</td>\n",
       "      <td>75</td>\n",
       "      <td>60</td>\n",
       "      <td>70</td>\n",
       "      <td>70</td>\n",
       "      <td>75</td>\n",
       "      <td>80</td>\n",
       "      <td>70</td>\n",
       "    </tr>\n",
       "    <tr>\n",
       "      <th>3</th>\n",
       "      <td>Week12</td>\n",
       "      <td>45</td>\n",
       "      <td>75</td>\n",
       "      <td>70</td>\n",
       "      <td>40</td>\n",
       "      <td>75</td>\n",
       "      <td>65</td>\n",
       "      <td>80</td>\n",
       "      <td>70</td>\n",
       "      <td>75</td>\n",
       "      <td>75</td>\n",
       "      <td>70</td>\n",
       "      <td>70</td>\n",
       "      <td>65</td>\n",
       "      <td>70</td>\n",
       "      <td>70</td>\n",
       "      <td>65</td>\n",
       "      <td>65</td>\n",
       "      <td>85</td>\n",
       "    </tr>\n",
       "    <tr>\n",
       "      <th>4</th>\n",
       "      <td>Week16</td>\n",
       "      <td>80</td>\n",
       "      <td>70</td>\n",
       "      <td>65</td>\n",
       "      <td>45</td>\n",
       "      <td>85</td>\n",
       "      <td>70</td>\n",
       "      <td>75</td>\n",
       "      <td>70</td>\n",
       "      <td>75</td>\n",
       "      <td>75</td>\n",
       "      <td>60</td>\n",
       "      <td>50</td>\n",
       "      <td>75</td>\n",
       "      <td>70</td>\n",
       "      <td>60</td>\n",
       "      <td>65</td>\n",
       "      <td>70</td>\n",
       "      <td>70</td>\n",
       "    </tr>\n",
       "  </tbody>\n",
       "</table>\n",
       "</div>"
      ],
      "text/plain": [
       "    Weeks  Alf  Allen  Andy  Chak  Chim  Cornelius  Duncan  Edy  Irv  Jessie  \\\n",
       "0   Week2   85     60    55    75    85         45      65   85   75      70   \n",
       "1   Week4   80     70    65    95    75         60      55   85   50      90   \n",
       "2   Week8   70     70    45    60    55         65      55   60   70      85   \n",
       "3  Week12   45     75    70    40    75         65      80   70   75      75   \n",
       "4  Week16   80     70    65    45    85         70      75   70   75      75   \n",
       "\n",
       "   Joey  Junior  Just  Phil  Poe  Poet  Spank  Sport  \n",
       "0    65      60    55    75   60    65     95     60  \n",
       "1    60      55    70    80   65    80     75     70  \n",
       "2    80      75    60    70   70    75     80     70  \n",
       "3    70      70    65    70   70    65     65     85  \n",
       "4    60      50    75    70   60    65     70     70  "
      ]
     },
     "execution_count": 244,
     "metadata": {},
     "output_type": "execute_result"
    }
   ],
   "source": [
    "monkey = memory.groupby('Monkey').agg({'Week2':'mean',\n",
    "                                'Week4':'mean',\n",
    "                                'Week8':'mean',\n",
    "                                'Week12':'mean',\n",
    "                                'Week16':'mean'}).reset_index()\n",
    "c = monkey[['Week2','Week4','Week8','Week12','Week16']].T.reset_index()\n",
    "ls = list(monkey.Monkey)\n",
    "ls.insert(0, 'Weeks')\n",
    "c.columns = ls\n",
    "c"
   ]
  },
  {
   "cell_type": "code",
   "execution_count": 222,
   "metadata": {
    "collapsed": true
   },
   "outputs": [
    {
     "name": "stderr",
     "output_type": "stream",
     "text": [
      "C:\\Users\\phhale\\AppData\\Local\\Continuum\\anaconda3\\envs\\bril\\lib\\site-packages\\ipykernel_launcher.py:1: SettingWithCopyWarning: \n",
      "A value is trying to be set on a copy of a slice from a DataFrame\n",
      "\n",
      "See the caveats in the documentation: http://pandas.pydata.org/pandas-docs/stable/indexing.html#indexing-view-versus-copy\n",
      "  \"\"\"Entry point for launching an IPython kernel.\n",
      "C:\\Users\\phhale\\AppData\\Local\\Continuum\\anaconda3\\envs\\bril\\lib\\site-packages\\ipykernel_launcher.py:2: SettingWithCopyWarning: \n",
      "A value is trying to be set on a copy of a slice from a DataFrame\n",
      "\n",
      "See the caveats in the documentation: http://pandas.pydata.org/pandas-docs/stable/indexing.html#indexing-view-versus-copy\n",
      "  \n",
      "C:\\Users\\phhale\\AppData\\Local\\Continuum\\anaconda3\\envs\\bril\\lib\\site-packages\\ipykernel_launcher.py:3: SettingWithCopyWarning: \n",
      "A value is trying to be set on a copy of a slice from a DataFrame\n",
      "\n",
      "See the caveats in the documentation: http://pandas.pydata.org/pandas-docs/stable/indexing.html#indexing-view-versus-copy\n",
      "  This is separate from the ipykernel package so we can avoid doing imports until\n",
      "C:\\Users\\phhale\\AppData\\Local\\Continuum\\anaconda3\\envs\\bril\\lib\\site-packages\\ipykernel_launcher.py:4: SettingWithCopyWarning: \n",
      "A value is trying to be set on a copy of a slice from a DataFrame\n",
      "\n",
      "See the caveats in the documentation: http://pandas.pydata.org/pandas-docs/stable/indexing.html#indexing-view-versus-copy\n",
      "  after removing the cwd from sys.path.\n",
      "C:\\Users\\phhale\\AppData\\Local\\Continuum\\anaconda3\\envs\\bril\\lib\\site-packages\\ipykernel_launcher.py:5: SettingWithCopyWarning: \n",
      "A value is trying to be set on a copy of a slice from a DataFrame\n",
      "\n",
      "See the caveats in the documentation: http://pandas.pydata.org/pandas-docs/stable/indexing.html#indexing-view-versus-copy\n",
      "  \"\"\"\n"
     ]
    }
   ],
   "source": [
    "c.Weeks[0] = 2\n",
    "c.Weeks[1] = 4\n",
    "c.Weeks[2] = 8\n",
    "c.Weeks[3] = 12\n",
    "c.Weeks[4] = 16"
   ]
  },
  {
   "cell_type": "markdown",
   "metadata": {},
   "source": [
    "Repeated measures for each monkey.\n",
    "\n",
    "#### Control Monkeys"
   ]
  },
  {
   "cell_type": "code",
   "execution_count": 229,
   "metadata": {},
   "outputs": [
    {
     "data": {
      "image/png": "[encoded data removed]",
      "text/plain": [
       "<Figure size 432x288 with 1 Axes>"
      ]
     },
     "metadata": {
      "needs_background": "light"
     },
     "output_type": "display_data"
    }
   ],
   "source": [
    "sns.lineplot(x='Weeks', y=c.columns[17], data=c, label=\"Spank\");\n",
    "sns.lineplot(x='Weeks', y=c.columns[5], data=c, label=\"Chim\");\n",
    "sns.lineplot(x='Weeks', y=c.columns[4], data=c, label=\"Chak\");\n",
    "sns.lineplot(x='Weeks', y=c.columns[1], data=c, label=\"Alf\");\n",
    "sns.lineplot(x='Weeks', y=c.columns[14], data=c, label=\"Phil\");"
   ]
  },
  {
   "cell_type": "markdown",
   "metadata": {},
   "source": [
    "we can see for:\n",
    "- `Spank` had god short term memory and got worse over time\n",
    "- `Chim` is able to remember more short term and long temr. \n",
    "- `Chak` appears to remember almost nothing after 12 weks\n",
    "- `Alf` apparently went flat at week 12\n",
    "- `Phil` was not really affected, and remember about the same. "
   ]
  },
  {
   "cell_type": "markdown",
   "metadata": {},
   "source": [
    "#### Treated Monkeys"
   ]
  },
  {
   "cell_type": "code",
   "execution_count": 234,
   "metadata": {},
   "outputs": [
    {
     "data": {
      "image/png": "[encoded data removed]",
      "text/plain": [
       "<Figure size 432x288 with 1 Axes>"
      ]
     },
     "metadata": {
      "needs_background": "light"
     },
     "output_type": "display_data"
    }
   ],
   "source": [
    "sns.lineplot(x='Weeks', y=c.columns[8], data=c, label=\"Edy\");\n",
    "sns.lineplot(x='Weeks', y=c.columns[9], data=c, label=\"Irv\");\n",
    "sns.lineplot(x='Weeks', y=c.columns[2], data=c, label=\"Alan\");\n",
    "sns.lineplot(x='Weeks', y=c.columns[15], data=c, label=\"Poe\");"
   ]
  },
  {
   "cell_type": "markdown",
   "metadata": {},
   "source": [
    "Seems that Treated monkeys are doing _as well_ long term than control monkeys however, possible worse short term. \n",
    "\n",
    "__Causal Inference__ since we reandomly selected the monkey treatment, we can attribute any variance to the experimental treatment to these monkeys that would stop access to hipoccmpus variability. "
   ]
  },
  {
   "cell_type": "markdown",
   "metadata": {},
   "source": [
    "## Testing hypothesis\n",
    "\n",
    "- __long term__ 8, 12, 16 weeeks\n",
    "- __Short term__ 2 & 4 weeks"
   ]
  },
  {
   "cell_type": "code",
   "execution_count": 264,
   "metadata": {},
   "outputs": [],
   "source": [
    "week_term = {'Week2':'short_term',\n",
    "     'Week4':'short_term',\n",
    "     'Week8':'long_term',\n",
    "     'Week12':'long_term',\n",
    "     'Week16':'long_term'}\n",
    "df_['term'] = df_.Weeks.map(week_term)"
   ]
  },
  {
   "cell_type": "markdown",
   "metadata": {},
   "source": [
    "Below we plotted the measures for the response for short term and long term memory reponse. \n",
    "\n",
    "__Do treated monkeys have similar short term memory to contorl monkeys?__"
   ]
  },
  {
   "cell_type": "code",
   "execution_count": 261,
   "metadata": {},
   "outputs": [
    {
     "data": {
      "text/plain": [
       "<matplotlib.axes._subplots.AxesSubplot at 0x202a972f160>"
      ]
     },
     "execution_count": 261,
     "metadata": {},
     "output_type": "execute_result"
    },
    {
     "data": {
      "image/png": "[encoded data removed]",
      "text/plain": [
       "<Figure size 432x288 with 1 Axes>"
      ]
     },
     "metadata": {
      "needs_background": "light"
     },
     "output_type": "display_data"
    }
   ],
   "source": [
    "sns.scatterplot(x=\"Treatment\", y='value', hue='Treatment',\n",
    "                data=df_[df_.term=='short_term'])"
   ]
  },
  {
   "cell_type": "markdown",
   "metadata": {},
   "source": [
    "We can solve this with 2 sample t-test by tesing the differnece in \"sample\" means. We would expect logs of difference in means. "
   ]
  },
  {
   "cell_type": "markdown",
   "metadata": {},
   "source": [
    "__Do treated monkeys have similar _long term_ memory to control monkeys?__"
   ]
  },
  {
   "cell_type": "code",
   "execution_count": 263,
   "metadata": {},
   "outputs": [
    {
     "data": {
      "text/plain": [
       "<matplotlib.axes._subplots.AxesSubplot at 0x202a97c16a0>"
      ]
     },
     "execution_count": 263,
     "metadata": {},
     "output_type": "execute_result"
    },
    {
     "data": {
      "image/png": "[encoded data removed]",
      "text/plain": [
       "<Figure size 432x288 with 1 Axes>"
      ]
     },
     "metadata": {
      "needs_background": "light"
     },
     "output_type": "display_data"
    }
   ],
   "source": [
    "sns.scatterplot(x=\"Treatment\", y='value', hue='Treatment',\n",
    "                data=df_[df_.term=='long_term'])"
   ]
  },
  {
   "cell_type": "markdown",
   "metadata": {},
   "source": [
    "Also a t-test, hoping there was no differnece to suppor the hyposthese.\n",
    "\n",
    "__We could only peform the t-test if the two responses are correlated e.g. independent.__ "
   ]
  },
  {
   "cell_type": "code",
   "execution_count": 295,
   "metadata": {},
   "outputs": [],
   "source": [
    "response_1 = list(df_[df_.term=='short_term'].value)\n",
    "response_2 = list(df_[df_.term=='long_term'].value)"
   ]
  },
  {
   "cell_type": "code",
   "execution_count": 289,
   "metadata": {},
   "outputs": [
    {
     "name": "stdout",
     "output_type": "stream",
     "text": [
      "Statistics=0.716, p=0.4766\n",
      "Same distribution (fail to reject H0)\n",
      "Confidence Interval from: -3.232 to 6.844\n",
      "Confidence Interval does not contain 0. (reject H0)\n"
     ]
    }
   ],
   "source": [
    "def interpret(p_value, alpha_level=0.05):\n",
    "    if p_value > alpha_level:\n",
    "        print('Same distribution (fail to reject H0)')\n",
    "    else:\n",
    "        print('Different distribution (reject H0)')\n",
    "\n",
    "def interpret_ci(ci_low, ci_high):\n",
    "    if (ci_low >= 0) & (ci_high >= 0):\n",
    "        print('Confidence Interval contains 0. (fail to reject H0)')\n",
    "    else:\n",
    "        print('Confidence Interval does not contain 0. (reject H0)')\n",
    "\n",
    "alpha = 0.05\n",
    "\n",
    "\n",
    "# compare samples \n",
    "stat, p = stats.ttest_ind(response_1, response_2, equal_var=False)\n",
    "print('Statistics=%.3f, p=%.4f' % (stat, p))\n",
    "interpret(p, alpha_level= alpha)\n",
    "\n",
    "# Confidence Interval\n",
    "import statsmodels.stats.api as sms\n",
    "cm = sms.CompareMeans(sms.DescrStatsW(response_1, ddof=22 ), sms.DescrStatsW(response_2, ddof=13))\n",
    "ci_low, ci_high =  cm.tconfint_diff(alpha=alpha, alternative=\"two-sided\", usevar='unequal')\n",
    "print(\"Confidence Interval from: %.3f to %.3f\" % (ci_low, ci_high))\n",
    "interpret_ci(ci_low, ci_high)"
   ]
  }
 ],
 "metadata": {
  "kernelspec": {
   "display_name": "bril",
   "language": "python",
   "name": "bril"
  },
  "language_info": {
   "codemirror_mode": {
    "name": "ipython",
    "version": 3
   },
   "file_extension": ".py",
   "mimetype": "text/x-python",
   "name": "python",
   "nbconvert_exporter": "python",
   "pygments_lexer": "ipython3",
   "version": "3.7.3"
  }
 },
 "nbformat": 4,
 "nbformat_minor": 2
}
