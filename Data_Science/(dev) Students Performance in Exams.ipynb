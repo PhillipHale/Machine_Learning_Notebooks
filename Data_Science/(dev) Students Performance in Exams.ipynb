{
 "cells": [
  {
   "cell_type": "markdown",
   "metadata": {},
   "source": [
    "# Students Performance in Exams\n",
    "\n",
    "\n",
    "![](https://cms.qz.com/wp-content/uploads/2016/04/qz_education.jpg?quality=75&strip=all&w=1600&h=900)\n",
    "\n",
    "This dataset comes from [Kaggle's Dataset - Students PErformance in Exams](https://www.kaggle.com/spscientist/students-performance-in-exams). This data set consists of the marks secured by the students in various subjects.\n",
    "\n",
    "Data source: http://roycekimmons.com/tools/generated_data/exams"
   ]
  },
  {
   "cell_type": "code",
   "execution_count": 2,
   "metadata": {},
   "outputs": [],
   "source": [
    "# Python Data Analysis Imports\n",
    "import numpy as np\n",
    "import pandas as pd\n",
    "\n",
    "# Data Visualization\n",
    "import matplotlib.pyplot as plt\n",
    "import seaborn as sns\n",
    "sns.set_style('darkgrid')\n",
    "%matplotlib inline\n",
    "\n",
    "# statistical methods\n",
    "from scipy import stats"
   ]
  },
  {
   "cell_type": "code",
   "execution_count": 3,
   "metadata": {},
   "outputs": [
    {
     "data": {
      "text/html": [
       "<div>\n",
       "<style scoped>\n",
       "    .dataframe tbody tr th:only-of-type {\n",
       "        vertical-align: middle;\n",
       "    }\n",
       "\n",
       "    .dataframe tbody tr th {\n",
       "        vertical-align: top;\n",
       "    }\n",
       "\n",
       "    .dataframe thead th {\n",
       "        text-align: right;\n",
       "    }\n",
       "</style>\n",
       "<table border=\"1\" class=\"dataframe\">\n",
       "  <thead>\n",
       "    <tr style=\"text-align: right;\">\n",
       "      <th></th>\n",
       "      <th>gender</th>\n",
       "      <th>race/ethnicity</th>\n",
       "      <th>parental level of education</th>\n",
       "      <th>lunch</th>\n",
       "      <th>test preparation course</th>\n",
       "      <th>math score</th>\n",
       "      <th>reading score</th>\n",
       "      <th>writing score</th>\n",
       "    </tr>\n",
       "  </thead>\n",
       "  <tbody>\n",
       "    <tr>\n",
       "      <th>0</th>\n",
       "      <td>female</td>\n",
       "      <td>group B</td>\n",
       "      <td>bachelor's degree</td>\n",
       "      <td>standard</td>\n",
       "      <td>none</td>\n",
       "      <td>72</td>\n",
       "      <td>72</td>\n",
       "      <td>74</td>\n",
       "    </tr>\n",
       "    <tr>\n",
       "      <th>1</th>\n",
       "      <td>female</td>\n",
       "      <td>group C</td>\n",
       "      <td>some college</td>\n",
       "      <td>standard</td>\n",
       "      <td>completed</td>\n",
       "      <td>69</td>\n",
       "      <td>90</td>\n",
       "      <td>88</td>\n",
       "    </tr>\n",
       "    <tr>\n",
       "      <th>2</th>\n",
       "      <td>female</td>\n",
       "      <td>group B</td>\n",
       "      <td>master's degree</td>\n",
       "      <td>standard</td>\n",
       "      <td>none</td>\n",
       "      <td>90</td>\n",
       "      <td>95</td>\n",
       "      <td>93</td>\n",
       "    </tr>\n",
       "    <tr>\n",
       "      <th>3</th>\n",
       "      <td>male</td>\n",
       "      <td>group A</td>\n",
       "      <td>associate's degree</td>\n",
       "      <td>free/reduced</td>\n",
       "      <td>none</td>\n",
       "      <td>47</td>\n",
       "      <td>57</td>\n",
       "      <td>44</td>\n",
       "    </tr>\n",
       "    <tr>\n",
       "      <th>4</th>\n",
       "      <td>male</td>\n",
       "      <td>group C</td>\n",
       "      <td>some college</td>\n",
       "      <td>standard</td>\n",
       "      <td>none</td>\n",
       "      <td>76</td>\n",
       "      <td>78</td>\n",
       "      <td>75</td>\n",
       "    </tr>\n",
       "  </tbody>\n",
       "</table>\n",
       "</div>"
      ],
      "text/plain": [
       "   gender race/ethnicity parental level of education         lunch  \\\n",
       "0  female        group B           bachelor's degree      standard   \n",
       "1  female        group C                some college      standard   \n",
       "2  female        group B             master's degree      standard   \n",
       "3    male        group A          associate's degree  free/reduced   \n",
       "4    male        group C                some college      standard   \n",
       "\n",
       "  test preparation course  math score  reading score  writing score  \n",
       "0                    none          72             72             74  \n",
       "1               completed          69             90             88  \n",
       "2                    none          90             95             93  \n",
       "3                    none          47             57             44  \n",
       "4                    none          76             78             75  "
      ]
     },
     "execution_count": 3,
     "metadata": {},
     "output_type": "execute_result"
    }
   ],
   "source": [
    "education = pd.read_csv(\"./StudentsPerformance.csv\")\n",
    "education.head()"
   ]
  },
  {
   "cell_type": "code",
   "execution_count": 4,
   "metadata": {},
   "outputs": [
    {
     "data": {
      "text/html": [
       "<div>\n",
       "<style scoped>\n",
       "    .dataframe tbody tr th:only-of-type {\n",
       "        vertical-align: middle;\n",
       "    }\n",
       "\n",
       "    .dataframe tbody tr th {\n",
       "        vertical-align: top;\n",
       "    }\n",
       "\n",
       "    .dataframe thead th {\n",
       "        text-align: right;\n",
       "    }\n",
       "</style>\n",
       "<table border=\"1\" class=\"dataframe\">\n",
       "  <thead>\n",
       "    <tr style=\"text-align: right;\">\n",
       "      <th></th>\n",
       "      <th>math score</th>\n",
       "      <th>reading score</th>\n",
       "      <th>writing score</th>\n",
       "    </tr>\n",
       "  </thead>\n",
       "  <tbody>\n",
       "    <tr>\n",
       "      <th>count</th>\n",
       "      <td>1000.00000</td>\n",
       "      <td>1000.000000</td>\n",
       "      <td>1000.000000</td>\n",
       "    </tr>\n",
       "    <tr>\n",
       "      <th>mean</th>\n",
       "      <td>66.08900</td>\n",
       "      <td>69.169000</td>\n",
       "      <td>68.054000</td>\n",
       "    </tr>\n",
       "    <tr>\n",
       "      <th>std</th>\n",
       "      <td>15.16308</td>\n",
       "      <td>14.600192</td>\n",
       "      <td>15.195657</td>\n",
       "    </tr>\n",
       "    <tr>\n",
       "      <th>min</th>\n",
       "      <td>0.00000</td>\n",
       "      <td>17.000000</td>\n",
       "      <td>10.000000</td>\n",
       "    </tr>\n",
       "    <tr>\n",
       "      <th>25%</th>\n",
       "      <td>57.00000</td>\n",
       "      <td>59.000000</td>\n",
       "      <td>57.750000</td>\n",
       "    </tr>\n",
       "    <tr>\n",
       "      <th>50%</th>\n",
       "      <td>66.00000</td>\n",
       "      <td>70.000000</td>\n",
       "      <td>69.000000</td>\n",
       "    </tr>\n",
       "    <tr>\n",
       "      <th>75%</th>\n",
       "      <td>77.00000</td>\n",
       "      <td>79.000000</td>\n",
       "      <td>79.000000</td>\n",
       "    </tr>\n",
       "    <tr>\n",
       "      <th>max</th>\n",
       "      <td>100.00000</td>\n",
       "      <td>100.000000</td>\n",
       "      <td>100.000000</td>\n",
       "    </tr>\n",
       "  </tbody>\n",
       "</table>\n",
       "</div>"
      ],
      "text/plain": [
       "       math score  reading score  writing score\n",
       "count  1000.00000    1000.000000    1000.000000\n",
       "mean     66.08900      69.169000      68.054000\n",
       "std      15.16308      14.600192      15.195657\n",
       "min       0.00000      17.000000      10.000000\n",
       "25%      57.00000      59.000000      57.750000\n",
       "50%      66.00000      70.000000      69.000000\n",
       "75%      77.00000      79.000000      79.000000\n",
       "max     100.00000     100.000000     100.000000"
      ]
     },
     "execution_count": 4,
     "metadata": {},
     "output_type": "execute_result"
    }
   ],
   "source": [
    "education.describe()"
   ]
  },
  {
   "cell_type": "code",
   "execution_count": 5,
   "metadata": {},
   "outputs": [
    {
     "name": "stderr",
     "output_type": "stream",
     "text": [
      "C:\\Program Files (x86)\\Microsoft Visual Studio\\Shared\\Anaconda3_64\\lib\\site-packages\\scipy\\stats\\stats.py:1713: FutureWarning: Using a non-tuple sequence for multidimensional indexing is deprecated; use `arr[tuple(seq)]` instead of `arr[seq]`. In the future this will be interpreted as an array index, `arr[np.array(seq)]`, which will result either in an error or a different result.\n",
      "  return np.add.reduce(sorted[indexer] * weights, axis=axis) / sumval\n"
     ]
    },
    {
     "data": {
      "image/png": "[encoded data removed]",
      "text/plain": [
       "<Figure size 864x432 with 1 Axes>"
      ]
     },
     "metadata": {
      "needs_background": "light"
     },
     "output_type": "display_data"
    }
   ],
   "source": [
    "fig1, ax = plt.subplots(figsize=[12,6])  #Defines the graph window size\n",
    "fig1.subplots_adjust(top=0.92)\n",
    "plt.suptitle('Sample distributions for Stroop Effect experiment', fontsize=14, fontweight='bold')\n",
    "sns.distplot(education['math score'], label = 'math scores', ax = ax)\n",
    "sns.distplot(education['reading score'], label = 'reading scores', ax = ax)\n",
    "sns.distplot(education['writing score'], label = 'writing scores', ax = ax)\n",
    "\n",
    "ax.legend(ncol=2, loc=\"upper right\", frameon=True)\n",
    "\n",
    "ax.set_xlabel('Score on the test', fontsize=12)\n",
    "plt.show()"
   ]
  },
  {
   "cell_type": "markdown",
   "metadata": {},
   "source": [
    "create new column in the education deataframe that shows the mean of all the other columns related to the test scores"
   ]
  },
  {
   "cell_type": "markdown",
   "metadata": {},
   "source": [
    "## Testing Types\n",
    "\n",
    "Our objective is to test and validate a set of statistica type test. There are several techniques that we will use to perform this test, which include the following:\n",
    "- __One Sample:__ Z-test or t-test\n",
    "- __Two Samples:__ T-test (independent or paired)\n",
    "- __ Three Samples:__ One-way ANOVA F-Test\n",
    "- __Factorial design:__ Two-way ANOVA F-test"
   ]
  },
  {
   "cell_type": "code",
   "execution_count": 6,
   "metadata": {},
   "outputs": [],
   "source": [
    "education['average_score'] = education[['math score', \n",
    "                                        'reading score', 'writing score']].mean(axis=1)"
   ]
  },
  {
   "cell_type": "markdown",
   "metadata": {},
   "source": [
    "#### Significance Level (95%)\n",
    "Throughout all of the following statistical inference test, we will use a a significance threashold of the standard 5% (0.05) that provides us a 95% confidence level in our result. "
   ]
  },
  {
   "cell_type": "code",
   "execution_count": 7,
   "metadata": {},
   "outputs": [],
   "source": [
    "def interpret(p_value, alpha_level=0.05):\n",
    "    if p_value > alpha_level:\n",
    "        print('Same distribution (fail to reject H0)')\n",
    "    else:\n",
    "        print('Different distribution (reject H0)')"
   ]
  },
  {
   "cell_type": "markdown",
   "metadata": {},
   "source": [
    "### Hypthesis 1 - Preparation is Key\n",
    "\n",
    "For preparation we will the `test preparation course` column in the education data set and there are two variable that we will test upon as our independent variables: `none` and `completed`. We are testing to see for those students whom `completed` the test preparation course did they on average perform better than those students whom did not `none` complete the preparation. \n",
    "\n",
    "__Problem Statement:__ For the first test, we would like to know if kids that prepared on average performed better on the exam. \n",
    "\n",
    "__Stated Hypothesis:__\n",
    "$Ho = μ_1 = μ_2$\n",
    "\n",
    "$H_a:μ_1 ≠ μ_2$\n"
   ]
  },
  {
   "cell_type": "code",
   "execution_count": 9,
   "metadata": {
    "scrolled": true
   },
   "outputs": [
    {
     "name": "stdout",
     "output_type": "stream",
     "text": [
      "types of preparation values:  ['none' 'completed']\n",
      "prepared students: mean=72.669 stdv=13.019\n",
      "not prepared students: mean=65.039 stdv=14.176\n"
     ]
    }
   ],
   "source": [
    "print(\"types of preparation values: \",education['test preparation course'].unique())\n",
    "prepared_ = education[education['test preparation course'] == 'completed']['average_score']\n",
    "not_prepared_ = education[education['test preparation course'] == 'none']['average_score']\n",
    "\n",
    "# summarize\n",
    "print('prepared students: mean=%.3f stdv=%.3f' % (np.mean(prepared_), np.std(prepared_)))\n",
    "print('not prepared students: mean=%.3f stdv=%.3f' % (np.mean(not_prepared_), np.std(not_prepared_)))"
   ]
  },
  {
   "cell_type": "markdown",
   "metadata": {},
   "source": [
    "### Check Assumptions\n",
    "To ensure that the t test can be conducted, we have to first validate the t-test assumptions, which include:\n",
    "1. Normality - samples are normally distributed\n",
    "2. Equal Variances _(Homogeneity of variance)_ - there is equal variance in the population\n",
    "3. Independent Observations - the observations are independent from each other\n",
    "\n",
    "Just want to give a quick shoutout and thank [machine learning mastery](https://machinelearningmastery.com/a-gentle-introduction-to-normality-tests-in-python/) for pointing me in the right direction to assist with the python analysis. \n",
    "\n",
    "#### Normality\n",
    "When we are looking at normality we are mainly focused on looking at the distribution of the dependent variables _(in this case are the average test scores)_ for each group and checking for indication of non-normallity or any indicatino of thick tails, heavy skews that may lead us to believe that there are violations in the data that may yield fiarly accurate p-values. \n",
    "\n",
    "The easies tway to check normality is visually. We will use two key visualiations the histogram and the QQ plot to check for normality. \n",
    "\n",
    "##### Normality Check: Histogram\n",
    "For the histogram plot we want to evaluate the relationship of the data  to see if it falls in the Gaussian distribution. We will use the `hist()` function from matplotlib, which automatically determins the appropriate bins to apply the plots in."
   ]
  },
  {
   "cell_type": "code",
   "execution_count": 16,
   "metadata": {
    "scrolled": false
   },
   "outputs": [
    {
     "name": "stderr",
     "output_type": "stream",
     "text": [
      "C:\\Program Files (x86)\\Microsoft Visual Studio\\Shared\\Anaconda3_64\\lib\\site-packages\\scipy\\stats\\stats.py:1713: FutureWarning: Using a non-tuple sequence for multidimensional indexing is deprecated; use `arr[tuple(seq)]` instead of `arr[seq]`. In the future this will be interpreted as an array index, `arr[np.array(seq)]`, which will result either in an error or a different result.\n",
      "  return np.add.reduce(sorted[indexer] * weights, axis=axis) / sumval\n"
     ]
    },
    {
     "data": {
      "image/png": "[encoded data removed]",
      "text/plain": [
       "<Figure size 1080x576 with 2 Axes>"
      ]
     },
     "metadata": {
      "needs_background": "light"
     },
     "output_type": "display_data"
    }
   ],
   "source": [
    "f, (ax1, ax2) = plt.subplots(2, figsize=(15,8))\n",
    "sns.distplot(prepared_, kde=True, fit=stats.norm, ax = ax1);\n",
    "sns.distplot(not_prepared_, kde=True, fit=stats.norm, ax = ax2);\n",
    "\n",
    "#sns.distplot(prepared_)\n",
    "#sns.distplot(not_prepared_)"
   ]
  },
  {
   "cell_type": "markdown",
   "metadata": {},
   "source": [
    "As we can see from the plot, it does not look completely normal, as there appears to be a slight tail to the left indicating a negative skew or skewed left. "
   ]
  },
  {
   "cell_type": "markdown",
   "metadata": {},
   "source": [
    "#### QQ Plot Normality Check\n",
    "\n",
    "Next we will use the second method of visualizing the data for evaluations of normality with the quantile-quantile plot, Q-Q plot. The QQ plot generates an idealized distributino with a linear line indicating the Gaussian distribtion. The resulting observations are plotted on a scatter plot with the `theoretical qualtiles` or idealiezed values on the x-axis and the `sample qualtiles` or the sample data on the y-axis. \n",
    "\n",
    "To evaluate the plot for normality, the best case scenario will be all observations plotted would be on the linear line. We will note deviations from the distribution of normality when the observations are not on the linear line. \n",
    "\n",
    "To perfomre the QQ plot, we will use the `qqplot()` function from `statemodels API`"
   ]
  },
  {
   "cell_type": "markdown",
   "metadata": {},
   "source": [
    "https://machinelearningmastery.com/a-gentle-introduction-to-normality-tests-in-python/\n",
    "\n",
    "https://pythonfordatascience.org/independent-t-test-python/\n",
    "\n",
    "https://github.com/naivelogic/Machine_Learning_Notebooks/blob/master/Data_Science/Stats%20Foundation/Nonparametric%20Statistical%20Significance%20Tests.ipynb"
   ]
  },
  {
   "cell_type": "code",
   "execution_count": 38,
   "metadata": {},
   "outputs": [
    {
     "data": {
      "image/png": "[encoded data removed]",
      "text/plain": [
       "<Figure size 1080x360 with 1 Axes>"
      ]
     },
     "metadata": {
      "needs_background": "light"
     },
     "output_type": "display_data"
    },
    {
     "data": {
      "image/png": "[encoded data removed]",
      "text/plain": [
       "<Figure size 1080x360 with 1 Axes>"
      ]
     },
     "metadata": {
      "needs_background": "light"
     },
     "output_type": "display_data"
    }
   ],
   "source": [
    "import scipy.stats as stats\n",
    "fig = plt.figure(figsize=(15,5))\n",
    "plt.subplot(2, 2, 1)\n",
    "plt.title('QQ plot prepared')\n",
    "stats.probplot(prepared_, plot=plt, dist=\"norm\")\n",
    "plt.show()\n",
    "\n",
    "fig = plt.figure(figsize=(15,5))\n",
    "plt.subplot(2, 2, 2)\n",
    "plt.title('QQ plot not_prepared')\n",
    "stats.probplot(not_prepared_, plot=plt, dist=\"norm\")\n",
    "plt.show()\n"
   ]
  },
  {
   "cell_type": "markdown",
   "metadata": {},
   "source": [
    "Observations in plot appear to follow the linear line indicating normality. "
   ]
  },
  {
   "cell_type": "markdown",
   "metadata": {},
   "source": [
    "##### Shapiro Test\n",
    "\n",
    "To suppliment the analysis of normality, we can use the __Shapiro Test__ to calculate whether a randome sample of data comes from a normal distribution. When the p-value is less than or equal to 0.05 (assuming a 95% confidence level) the data is not normal. If this test fails you can state with 95% confidence that your data does not fit in the normal distribution.\n",
    "\n",
    "For additional details on the Shapiro Test you can find the documentation here: https://docs.scipy.org/doc/scipy-0.19.0/reference/generated/scipy.stats.shapiro.html\n",
    "\n",
    "Once we run the test, if the p-value is less than our level of significance (0.05 for a 95% confidence interva), we can suggest that the data is normally distributed, and therefore reject the null hypotehisis. In other words if the p-value is < (less) than 0.05 we can assume the data is not normally distributed and if the p-value is > 0.05, the data is normally distributed. "
   ]
  },
  {
   "cell_type": "code",
   "execution_count": 10,
   "metadata": {},
   "outputs": [
    {
     "name": "stdout",
     "output_type": "stream",
     "text": [
      "Statistics=0.991, p=0.024\n",
      "Different distribution (reject H0)\n"
     ]
    }
   ],
   "source": [
    "# normality test using the Shapiro Test\n",
    "stat, p = stats.shapiro(prepared_)\n",
    "print('Statistics=%.3f, p=%.3f' % (stat, p))\n",
    "\n",
    "interpret(p)"
   ]
  },
  {
   "cell_type": "code",
   "execution_count": 11,
   "metadata": {},
   "outputs": [
    {
     "name": "stdout",
     "output_type": "stream",
     "text": [
      "Statistics=0.994, p=0.009\n",
      "Different distribution (reject H0)\n"
     ]
    }
   ],
   "source": [
    "# normality test using the Shapiro Test\n",
    "stat, p = stats.shapiro(not_prepared_)\n",
    "print('Statistics=%.3f, p=%.3f' % (stat, p))\n",
    "\n",
    "interpret(p)"
   ]
  },
  {
   "cell_type": "markdown",
   "metadata": {},
   "source": [
    "The first value of the Shapiro test result is the shapiro test statistics and the second value is the corresponding p-value. Since the p-value is <.0001, we can __reject the null hypothesis__ incicating we may have to perform a data transformaiton or use a non-parametric tool."
   ]
  },
  {
   "cell_type": "markdown",
   "metadata": {},
   "source": [
    "### Homogeneity of Variances\n",
    "For certain test such as t-test and ANOVA, there is a requirement that the variances of different populations to be equal. We will utilize several methods to determine this assumption, including:\n",
    "- visualization with a boxplot\n",
    "- comparision of variance, standard devation and IQR statistics\n",
    "- statistical test (e.g., Levene test)\n",
    "\n",
    "Next we need to check if the variance of the dataset are consistent or equal."
   ]
  },
  {
   "cell_type": "code",
   "execution_count": 12,
   "metadata": {},
   "outputs": [
    {
     "data": {
      "text/plain": [
       "<matplotlib.axes._subplots.AxesSubplot at 0x18cd81bc438>"
      ]
     },
     "execution_count": 12,
     "metadata": {},
     "output_type": "execute_result"
    },
    {
     "data": {
      "image/png": "[encoded data removed]",
      "text/plain": [
       "<Figure size 432x288 with 1 Axes>"
      ]
     },
     "metadata": {
      "needs_background": "light"
     },
     "output_type": "display_data"
    }
   ],
   "source": [
    "sns.boxplot(x=\"test preparation course\", y=\"average_score\",\n",
    "            data = education)"
   ]
  },
  {
   "cell_type": "markdown",
   "metadata": {},
   "source": [
    "From the dataset it appears there are some outliers from those students that did not prepare for the test, as well as for some that complated, whowever, the spread out outliers is more apparent for those that were not prepared. \n",
    "\n",
    "However, the spread for each appears to be equal. \n",
    "\n",
    "We will perform one additiona plot with a linear regression for homoscedasity, using a `scatter plot`. "
   ]
  },
  {
   "cell_type": "code",
   "execution_count": null,
   "metadata": {},
   "outputs": [],
   "source": [
    "[TODO RESIDUAL VS FITTED VALUES]"
   ]
  },
  {
   "cell_type": "markdown",
   "metadata": {},
   "source": [
    "Unequal sample sizes:"
   ]
  },
  {
   "cell_type": "code",
   "execution_count": 14,
   "metadata": {},
   "outputs": [
    {
     "data": {
      "text/plain": [
       "(358, 642)"
      ]
     },
     "execution_count": 14,
     "metadata": {},
     "output_type": "execute_result"
    }
   ],
   "source": [
    "len(prepared_), len(not_prepared_)"
   ]
  },
  {
   "cell_type": "markdown",
   "metadata": {},
   "source": [
    "#### Levene's Test of Homogeneity\n",
    "\n",
    "Next we will be using the `levene()` function to perform the __Levene's test of homogeneity of variance__ from `scipy.stats` library. Utilizing this test we will check to see if the variance between `prepared_` students and `not_prepared` students are equal (consistant) or if our data set comes from a non-normal distribution. \n",
    "\n",
    "##### Stated Hypothesis\n",
    "$H_o: \\sigma^2_{prepared} = \\sigma^2_{non_prepared}$\n",
    "\n",
    "$H_a: \\sigma^2_{prepared} \\neq \\sigma^2_{non_prepared}$\n",
    "\n",
    "For details on the levene's test see documentation here: https://docs.scipy.org/doc/scipy-0.14.0/reference/generated/scipy.stats.levene.html"
   ]
  },
  {
   "cell_type": "code",
   "execution_count": 15,
   "metadata": {},
   "outputs": [
    {
     "name": "stdout",
     "output_type": "stream",
     "text": [
      "Statistics=2.885, p=0.090\n",
      "Same distribution (fail to reject H0)\n"
     ]
    }
   ],
   "source": [
    "# Lavene test for homogeneity of variance\n",
    "stat, p = stats.levene(prepared_, not_prepared_)\n",
    "print('Statistics=%.3f, p=%.3f' % (stat, p))\n",
    "interpret(p)"
   ]
  },
  {
   "cell_type": "markdown",
   "metadata": {},
   "source": [
    "The test found that when comparing the two distribtuion together, the reported p-value (`p > 0.090`) was to be greater than the significance level of 0.05, therefore the null hypothesis of $H_o: \\sigma^2_{prepared} = \\sigma^2_{non_prepared}$ stands indicating the variances are equal."
   ]
  },
  {
   "cell_type": "markdown",
   "metadata": {},
   "source": [
    "### T-test\n",
    "\n",
    "##### Stated Hypothesis\n",
    "$H_o: \\mu_{prepared} <= \\mu_{not-prepared}$\n",
    "\n",
    "$H_a: \\mu_{prepared} > \\mu_{not-prepared}$\n",
    "\n",
    "idealy we would like to reject $H_o: \\mu_{prepared} <= \\mu_{non_prepared}$ in favor for our alternative hypothesis indicating that the prepared students had better test scores than the students that did not prepare. \n",
    "\n",
    "To perform this test we will use the `ttest_ind()` function from `stats` that will run out hypothesis test ont the value `not_prepared.mean() -prepared.mean()`.\n"
   ]
  },
  {
   "cell_type": "code",
   "execution_count": 16,
   "metadata": {},
   "outputs": [
    {
     "name": "stdout",
     "output_type": "stream",
     "text": [
      "t-value = -8.391 \n",
      "p-value = 0.000\n",
      "Different distribution (reject H0)\n"
     ]
    }
   ],
   "source": [
    "stat, p = stats.ttest_ind(not_prepared_, prepared_)\n",
    "print('t-value = %.3f \\np-value = %.3f' % (stat, p))\n",
    "interpret(p)"
   ]
  },
  {
   "cell_type": "markdown",
   "metadata": {},
   "source": [
    "Note, within the [documentation for stats.ttest_ind](https://docs.scipy.org/doc/scipy/reference/generated/scipy.stats.ttest_ind.html) the output for the p-value is defaulted as a two tail test, since we are only interested in the right tail test, we must divide the `p-value` by 2 to complete the one-tail test.\n",
    "\n",
    "Recall out alpha (significnace level = 0.05)"
   ]
  },
  {
   "cell_type": "code",
   "execution_count": 17,
   "metadata": {},
   "outputs": [
    {
     "data": {
      "text/plain": [
       "True"
      ]
     },
     "execution_count": 17,
     "metadata": {},
     "output_type": "execute_result"
    }
   ],
   "source": [
    "alpha = 0.05\n",
    "p/2 < alpha"
   ]
  },
  {
   "cell_type": "markdown",
   "metadata": {},
   "source": [
    "Therefore, we can reject the null hypothesis indicating that students who prepared for the exam did significantly better than those who did not prepare. "
   ]
  },
  {
   "cell_type": "markdown",
   "metadata": {},
   "source": [
    "### Nonparametric: Mann-Whitney U Test \n",
    "\n",
    "Since we failed normality, we will performa nonparametric test to test whether `prepared` students perform better than students that are `not_prepared`.\n",
    "\n",
    "$H_o: \\mu_{prepared} <= \\mu_{not-prepared}$\n",
    "\n",
    "$H_a: \\mu_{prepared} > \\mu_{not-prepared}$"
   ]
  },
  {
   "cell_type": "code",
   "execution_count": 18,
   "metadata": {},
   "outputs": [
    {
     "name": "stdout",
     "output_type": "stream",
     "text": [
      "t-value = 79516.500 \n",
      "p-value = 0.000\n",
      "Different distribution (reject H0)\n"
     ]
    }
   ],
   "source": [
    "# Mann-Whitney U Test\n",
    "from scipy.stats import mannwhitneyu\n",
    "\n",
    "# compare samples\n",
    "stat, p = mannwhitneyu(not_prepared_, prepared_)\n",
    "print('t-value = %.3f \\np-value = %.3f' % (stat, p))\n",
    "interpret(p)"
   ]
  },
  {
   "cell_type": "markdown",
   "metadata": {},
   "source": [
    "# Test 2: Parental Educaiton (ANOVA)\n",
    "\n",
    "Suppose if the level of education the parent has has a positive effect on a students test scores.\n",
    "\n",
    "$H_o: \\mu_{1} = \\mu_{2}.....= \\mu_{k} = 0$\n",
    "\n",
    "$H_a:$ At least one $\\mu_{i}$ is different"
   ]
  },
  {
   "cell_type": "code",
   "execution_count": 39,
   "metadata": {},
   "outputs": [
    {
     "data": {
      "text/plain": [
       "<matplotlib.axes._subplots.AxesSubplot at 0x1f3c7f98390>"
      ]
     },
     "execution_count": 39,
     "metadata": {},
     "output_type": "execute_result"
    },
    {
     "data": {
      "image/png": "[encoded data removed]",
      "text/plain": [
       "<Figure size 432x288 with 1 Axes>"
      ]
     },
     "metadata": {
      "needs_background": "light"
     },
     "output_type": "display_data"
    }
   ],
   "source": [
    "sns.boxplot(x=\"parental level of education\", y=\"average_score\",\n",
    "            data = education)"
   ]
  },
  {
   "cell_type": "markdown",
   "metadata": {},
   "source": [
    "### Interactions\n",
    "\n",
    "Since we have applied more dependent variable in this analyis evaluatig the effect that parents level of education has on a students scores, we can ask additional questions to which we were not able to ask before. Suppose we wanted to know whether student that have a given parents level of education (e.g., associates degree, high school, masters degree) differ in their average scores. In this example, the `average_score` is our _dependent_variable_ and `gender` and `parential level of educaiton` is our _independent variable_, therefore we have a 2 (gender) x 4 (parents education) factorial analysis.\n",
    "\n",
    "Formally, we can state: _\" I conducted a 2 (gender) x 4 (parential level) factorial ANOVA._\n",
    "\n",
    "##### Details on Factorial ANOVA AND Main / Ineraction Effects\n",
    "\n",
    "Now that we have established the basis for our analysis we can start evaulating the two core results when performing a factorial ANOVA, which are:\n",
    "- main effect\n",
    "- interaction effect\n",
    "\n"
   ]
  },
  {
   "cell_type": "markdown",
   "metadata": {},
   "source": [
    "##### Random Sample\n",
    "Because we have unequal samples in our population, we will randomly select  boys and 100 girls from "
   ]
  },
  {
   "cell_type": "markdown",
   "metadata": {},
   "source": [
    "sample size distribution from each parental level of education"
   ]
  },
  {
   "cell_type": "code",
   "execution_count": 40,
   "metadata": {},
   "outputs": [
    {
     "data": {
      "text/html": [
       "<div>\n",
       "<style scoped>\n",
       "    .dataframe tbody tr th:only-of-type {\n",
       "        vertical-align: middle;\n",
       "    }\n",
       "\n",
       "    .dataframe tbody tr th {\n",
       "        vertical-align: top;\n",
       "    }\n",
       "\n",
       "    .dataframe thead th {\n",
       "        text-align: right;\n",
       "    }\n",
       "</style>\n",
       "<table border=\"1\" class=\"dataframe\">\n",
       "  <thead>\n",
       "    <tr style=\"text-align: right;\">\n",
       "      <th>parental level of education</th>\n",
       "      <th>associate's degree</th>\n",
       "      <th>bachelor's degree</th>\n",
       "      <th>high school</th>\n",
       "      <th>master's degree</th>\n",
       "      <th>some college</th>\n",
       "      <th>some high school</th>\n",
       "      <th>All</th>\n",
       "    </tr>\n",
       "    <tr>\n",
       "      <th>gender</th>\n",
       "      <th></th>\n",
       "      <th></th>\n",
       "      <th></th>\n",
       "      <th></th>\n",
       "      <th></th>\n",
       "      <th></th>\n",
       "      <th></th>\n",
       "    </tr>\n",
       "  </thead>\n",
       "  <tbody>\n",
       "    <tr>\n",
       "      <th>female</th>\n",
       "      <td>116</td>\n",
       "      <td>63</td>\n",
       "      <td>94</td>\n",
       "      <td>36</td>\n",
       "      <td>118</td>\n",
       "      <td>91</td>\n",
       "      <td>518</td>\n",
       "    </tr>\n",
       "    <tr>\n",
       "      <th>male</th>\n",
       "      <td>106</td>\n",
       "      <td>55</td>\n",
       "      <td>102</td>\n",
       "      <td>23</td>\n",
       "      <td>108</td>\n",
       "      <td>88</td>\n",
       "      <td>482</td>\n",
       "    </tr>\n",
       "    <tr>\n",
       "      <th>All</th>\n",
       "      <td>222</td>\n",
       "      <td>118</td>\n",
       "      <td>196</td>\n",
       "      <td>59</td>\n",
       "      <td>226</td>\n",
       "      <td>179</td>\n",
       "      <td>1000</td>\n",
       "    </tr>\n",
       "  </tbody>\n",
       "</table>\n",
       "</div>"
      ],
      "text/plain": [
       "parental level of education  associate's degree  bachelor's degree  \\\n",
       "gender                                                               \n",
       "female                                      116                 63   \n",
       "male                                        106                 55   \n",
       "All                                         222                118   \n",
       "\n",
       "parental level of education  high school  master's degree  some college  \\\n",
       "gender                                                                    \n",
       "female                                94               36           118   \n",
       "male                                 102               23           108   \n",
       "All                                  196               59           226   \n",
       "\n",
       "parental level of education  some high school   All  \n",
       "gender                                               \n",
       "female                                     91   518  \n",
       "male                                       88   482  \n",
       "All                                       179  1000  "
      ]
     },
     "execution_count": 40,
     "metadata": {},
     "output_type": "execute_result"
    }
   ],
   "source": [
    "pd.crosstab(education.gender, education['parental level of education'], margins= True,\n",
    "                                  values=education.average_score, aggfunc='count')"
   ]
  },
  {
   "cell_type": "markdown",
   "metadata": {},
   "source": [
    "Generate a list of genders and parent education categories"
   ]
  },
  {
   "cell_type": "code",
   "execution_count": 41,
   "metadata": {},
   "outputs": [],
   "source": [
    "gender_list = education.gender.unique()\n",
    "parents_ed_list = education['parental level of education'].unique()"
   ]
  },
  {
   "cell_type": "markdown",
   "metadata": {},
   "source": [
    "Randomly sample 20 students from the education data set"
   ]
  },
  {
   "cell_type": "code",
   "execution_count": 42,
   "metadata": {},
   "outputs": [],
   "source": [
    "parents_df = pd.DataFrame()\n",
    "for parents_ed_ in parents_ed_list:\n",
    "    for gender_ in gender_list:\n",
    "        samples_ = education[(education.gender == gender_) & (education[\"parental level of education\"] == parents_ed_)]\n",
    "        samples_ = samples_.sample(n=20, random_state=0)\n",
    "        parents_df= parents_df.append(samples_, ignore_index=True)"
   ]
  },
  {
   "cell_type": "markdown",
   "metadata": {},
   "source": [
    "Now that we have 20 randomly selected boys and girls from each parental level of education, we can measure the average scores each student performed on the test. Now that we have an equal distribution of sample, our probability distribution/proportions should be less effected. \n",
    "\n",
    "Below is the table of these averages:"
   ]
  },
  {
   "cell_type": "code",
   "execution_count": 43,
   "metadata": {},
   "outputs": [
    {
     "data": {
      "text/html": [
       "<div>\n",
       "<style scoped>\n",
       "    .dataframe tbody tr th:only-of-type {\n",
       "        vertical-align: middle;\n",
       "    }\n",
       "\n",
       "    .dataframe tbody tr th {\n",
       "        vertical-align: top;\n",
       "    }\n",
       "\n",
       "    .dataframe thead th {\n",
       "        text-align: right;\n",
       "    }\n",
       "</style>\n",
       "<table border=\"1\" class=\"dataframe\">\n",
       "  <thead>\n",
       "    <tr style=\"text-align: right;\">\n",
       "      <th>parental level of education</th>\n",
       "      <th>associate's degree</th>\n",
       "      <th>bachelor's degree</th>\n",
       "      <th>high school</th>\n",
       "      <th>master's degree</th>\n",
       "      <th>some college</th>\n",
       "      <th>some high school</th>\n",
       "      <th>All</th>\n",
       "    </tr>\n",
       "    <tr>\n",
       "      <th>gender</th>\n",
       "      <th></th>\n",
       "      <th></th>\n",
       "      <th></th>\n",
       "      <th></th>\n",
       "      <th></th>\n",
       "      <th></th>\n",
       "      <th></th>\n",
       "    </tr>\n",
       "  </thead>\n",
       "  <tbody>\n",
       "    <tr>\n",
       "      <th>female</th>\n",
       "      <td>71.300000</td>\n",
       "      <td>76.900000</td>\n",
       "      <td>65.750000</td>\n",
       "      <td>76.000000</td>\n",
       "      <td>73.683333</td>\n",
       "      <td>65.500000</td>\n",
       "      <td>71.522222</td>\n",
       "    </tr>\n",
       "    <tr>\n",
       "      <th>male</th>\n",
       "      <td>61.133333</td>\n",
       "      <td>69.683333</td>\n",
       "      <td>60.033333</td>\n",
       "      <td>74.983333</td>\n",
       "      <td>66.616667</td>\n",
       "      <td>63.333333</td>\n",
       "      <td>65.963889</td>\n",
       "    </tr>\n",
       "    <tr>\n",
       "      <th>All</th>\n",
       "      <td>66.216667</td>\n",
       "      <td>73.291667</td>\n",
       "      <td>62.891667</td>\n",
       "      <td>75.491667</td>\n",
       "      <td>70.150000</td>\n",
       "      <td>64.416667</td>\n",
       "      <td>68.743056</td>\n",
       "    </tr>\n",
       "  </tbody>\n",
       "</table>\n",
       "</div>"
      ],
      "text/plain": [
       "parental level of education  associate's degree  bachelor's degree  \\\n",
       "gender                                                               \n",
       "female                                71.300000          76.900000   \n",
       "male                                  61.133333          69.683333   \n",
       "All                                   66.216667          73.291667   \n",
       "\n",
       "parental level of education  high school  master's degree  some college  \\\n",
       "gender                                                                    \n",
       "female                         65.750000        76.000000     73.683333   \n",
       "male                           60.033333        74.983333     66.616667   \n",
       "All                            62.891667        75.491667     70.150000   \n",
       "\n",
       "parental level of education  some high school        All  \n",
       "gender                                                    \n",
       "female                              65.500000  71.522222  \n",
       "male                                63.333333  65.963889  \n",
       "All                                 64.416667  68.743056  "
      ]
     },
     "execution_count": 43,
     "metadata": {},
     "output_type": "execute_result"
    }
   ],
   "source": [
    "pd.crosstab(parents_df.gender, parents_df['parental level of education'], margins= True,\n",
    "                                  values=parents_df.average_score, aggfunc='mean')"
   ]
  },
  {
   "cell_type": "markdown",
   "metadata": {},
   "source": [
    "In the crosstable above hows the averages by parental level of education that students score on a test, for the respective gender. On the far right column, we can see that females score on average higher than the males overall. When we look at the overall averages presented by the `parental level of education` we can see that children's whom's paretns only have an associate's degree perform better on the exam that the other levels of parents education. Thereforem we can tell that there appears to be a __main effect__ for gender and parental level of education on how students perform on exams. \n",
    "\n",
    "To determe whether these main effect are statistically significant, we will have perform a test on probability, specifically, on the probability of obtaining difference of this size between randomly selected groups of this size. "
   ]
  },
  {
   "cell_type": "markdown",
   "metadata": {},
   "source": [
    "#### Interaction Effect\n",
    "\n",
    "After the evaluation of the main effect, we cna then compound our anlaysis on understanding what interaction affects ther are. Evaluating the table above for average scores, we can see that for all of the parental education levels females on average had higher scores, than boys. Therefore, it apperas that the differences in test scores are not constistnt and depends of the `parential level of educaiton` and `gender`.  \n",
    "\n",
    "one of the best ways to quickly examine interaction effect is to create a line graph. "
   ]
  },
  {
   "cell_type": "code",
   "execution_count": 44,
   "metadata": {
    "scrolled": false
   },
   "outputs": [
    {
     "data": {
      "text/plain": [
       "<seaborn.axisgrid.FacetGrid at 0x1f3c80029b0>"
      ]
     },
     "execution_count": 44,
     "metadata": {},
     "output_type": "execute_result"
    },
    {
     "data": {
      "image/png": "[encoded data removed]",
      "text/plain": [
       "<Figure size 642.125x576 with 1 Axes>"
      ]
     },
     "metadata": {
      "needs_background": "light"
     },
     "output_type": "display_data"
    }
   ],
   "source": [
    "sns.catplot(x =\"parental level of education\", y = \"average_score\",\n",
    "           hue=\"gender\",linestyles=[\"-\", \"--\"],\n",
    "            kind=\"point\", data = parents_df, height = 8, ci=None)"
   ]
  },
  {
   "cell_type": "markdown",
   "metadata": {},
   "source": [
    "The line graph above provides us how `gender` and `parental level of education` relates to the combined performance on corresponding test scores. As we can see, there is a relative pattern on how this interaction effect, most notably:\n",
    "- females clearly have higher scores than males in all six parental level of education. This indicated an the main effect that gender has on test scores. \n",
    "\n",
    "\n",
    "- The mens for males and femals on the dependent variable are futher apart in in one educational level than in the other, but the lines never corss. This is an indicaiton that there is no educational level in which males have a higher test score on average than females on the dependent variable. \n",
    "\n",
    "\n",
    "- There also appears to be a main effect for parental levels where the average tes scores is higher for master degree paretns than other regions.\n",
    "\n",
    "\n",
    "- We can also see an interaction effect where where the mean effect for bachelor's degree is lower for girls than the girl's paretns maters degree scores, which supports our main effect for parental level of education, whereas, both master's degree and bachelors's degree for boys are relatively equally high. \n"
   ]
  },
  {
   "cell_type": "markdown",
   "metadata": {},
   "source": [
    "Resoueces: Statistics in Plain English by Timothy C. Urdan"
   ]
  },
  {
   "cell_type": "markdown",
   "metadata": {},
   "source": [
    "### ANOVA With Random Sample"
   ]
  },
  {
   "cell_type": "code",
   "execution_count": 45,
   "metadata": {},
   "outputs": [],
   "source": [
    "from statsmodels.formula.api import ols\n",
    "import statsmodels.api as sm"
   ]
  },
  {
   "cell_type": "code",
   "execution_count": 55,
   "metadata": {},
   "outputs": [],
   "source": [
    "# rename column name\n",
    "parents_df[\"parents_edu_lvl\"] = parents_df[\"parental level of education\"]"
   ]
  },
  {
   "cell_type": "code",
   "execution_count": 58,
   "metadata": {},
   "outputs": [
    {
     "data": {
      "text/html": [
       "<div>\n",
       "<style scoped>\n",
       "    .dataframe tbody tr th:only-of-type {\n",
       "        vertical-align: middle;\n",
       "    }\n",
       "\n",
       "    .dataframe tbody tr th {\n",
       "        vertical-align: top;\n",
       "    }\n",
       "\n",
       "    .dataframe thead th {\n",
       "        text-align: right;\n",
       "    }\n",
       "</style>\n",
       "<table border=\"1\" class=\"dataframe\">\n",
       "  <thead>\n",
       "    <tr style=\"text-align: right;\">\n",
       "      <th></th>\n",
       "      <th>gender</th>\n",
       "      <th>race/ethnicity</th>\n",
       "      <th>parental level of education</th>\n",
       "      <th>lunch</th>\n",
       "      <th>test preparation course</th>\n",
       "      <th>math score</th>\n",
       "      <th>reading score</th>\n",
       "      <th>writing score</th>\n",
       "      <th>average_score</th>\n",
       "      <th>parents_edu_lvl</th>\n",
       "    </tr>\n",
       "  </thead>\n",
       "  <tbody>\n",
       "    <tr>\n",
       "      <th>0</th>\n",
       "      <td>female</td>\n",
       "      <td>group B</td>\n",
       "      <td>bachelor's degree</td>\n",
       "      <td>free/reduced</td>\n",
       "      <td>none</td>\n",
       "      <td>77</td>\n",
       "      <td>85</td>\n",
       "      <td>87</td>\n",
       "      <td>83.000000</td>\n",
       "      <td>bachelor's degree</td>\n",
       "    </tr>\n",
       "    <tr>\n",
       "      <th>1</th>\n",
       "      <td>female</td>\n",
       "      <td>group A</td>\n",
       "      <td>bachelor's degree</td>\n",
       "      <td>standard</td>\n",
       "      <td>none</td>\n",
       "      <td>45</td>\n",
       "      <td>59</td>\n",
       "      <td>64</td>\n",
       "      <td>56.000000</td>\n",
       "      <td>bachelor's degree</td>\n",
       "    </tr>\n",
       "    <tr>\n",
       "      <th>2</th>\n",
       "      <td>female</td>\n",
       "      <td>group D</td>\n",
       "      <td>bachelor's degree</td>\n",
       "      <td>free/reduced</td>\n",
       "      <td>none</td>\n",
       "      <td>62</td>\n",
       "      <td>72</td>\n",
       "      <td>74</td>\n",
       "      <td>69.333333</td>\n",
       "      <td>bachelor's degree</td>\n",
       "    </tr>\n",
       "    <tr>\n",
       "      <th>3</th>\n",
       "      <td>female</td>\n",
       "      <td>group C</td>\n",
       "      <td>bachelor's degree</td>\n",
       "      <td>free/reduced</td>\n",
       "      <td>completed</td>\n",
       "      <td>74</td>\n",
       "      <td>86</td>\n",
       "      <td>89</td>\n",
       "      <td>83.000000</td>\n",
       "      <td>bachelor's degree</td>\n",
       "    </tr>\n",
       "    <tr>\n",
       "      <th>4</th>\n",
       "      <td>female</td>\n",
       "      <td>group D</td>\n",
       "      <td>bachelor's degree</td>\n",
       "      <td>free/reduced</td>\n",
       "      <td>none</td>\n",
       "      <td>29</td>\n",
       "      <td>41</td>\n",
       "      <td>47</td>\n",
       "      <td>39.000000</td>\n",
       "      <td>bachelor's degree</td>\n",
       "    </tr>\n",
       "  </tbody>\n",
       "</table>\n",
       "</div>"
      ],
      "text/plain": [
       "   gender race/ethnicity parental level of education         lunch  \\\n",
       "0  female        group B           bachelor's degree  free/reduced   \n",
       "1  female        group A           bachelor's degree      standard   \n",
       "2  female        group D           bachelor's degree  free/reduced   \n",
       "3  female        group C           bachelor's degree  free/reduced   \n",
       "4  female        group D           bachelor's degree  free/reduced   \n",
       "\n",
       "  test preparation course  math score  reading score  writing score  \\\n",
       "0                    none          77             85             87   \n",
       "1                    none          45             59             64   \n",
       "2                    none          62             72             74   \n",
       "3               completed          74             86             89   \n",
       "4                    none          29             41             47   \n",
       "\n",
       "   average_score    parents_edu_lvl  \n",
       "0      83.000000  bachelor's degree  \n",
       "1      56.000000  bachelor's degree  \n",
       "2      69.333333  bachelor's degree  \n",
       "3      83.000000  bachelor's degree  \n",
       "4      39.000000  bachelor's degree  "
      ]
     },
     "execution_count": 58,
     "metadata": {},
     "output_type": "execute_result"
    }
   ],
   "source": [
    "parents_df.head()"
   ]
  },
  {
   "cell_type": "code",
   "execution_count": 59,
   "metadata": {},
   "outputs": [
    {
     "name": "stdout",
     "output_type": "stream",
     "text": [
      "                            OLS Regression Results                            \n",
      "==============================================================================\n",
      "Dep. Variable:          average_score   R-squared:                       0.107\n",
      "Model:                            OLS   Adj. R-squared:                  0.088\n",
      "Method:                 Least Squares   F-statistic:                     5.611\n",
      "Date:                Tue, 18 Dec 2018   Prob (F-statistic):           6.63e-05\n",
      "Time:                        07:53:41   Log-Likelihood:                -961.89\n",
      "No. Observations:                 240   AIC:                             1936.\n",
      "Df Residuals:                     234   BIC:                             1957.\n",
      "Df Model:                           5                                         \n",
      "Covariance Type:            nonrobust                                         \n",
      "========================================================================================================\n",
      "                                           coef    std err          t      P>|t|      [0.025      0.975]\n",
      "--------------------------------------------------------------------------------------------------------\n",
      "Intercept                               66.2167      2.132     31.056      0.000      62.016      70.417\n",
      "parents_edu_lvl[T.bachelor's degree]     7.0750      3.015      2.346      0.020       1.134      13.016\n",
      "parents_edu_lvl[T.high school]          -3.3250      3.015     -1.103      0.271      -9.266       2.616\n",
      "parents_edu_lvl[T.master's degree]       9.2750      3.015      3.076      0.002       3.334      15.216\n",
      "parents_edu_lvl[T.some college]          3.9333      3.015      1.304      0.193      -2.007       9.874\n",
      "parents_edu_lvl[T.some high school]     -1.8000      3.015     -0.597      0.551      -7.741       4.141\n",
      "==============================================================================\n",
      "Omnibus:                        3.563   Durbin-Watson:                   2.173\n",
      "Prob(Omnibus):                  0.168   Jarque-Bera (JB):                3.139\n",
      "Skew:                          -0.196   Prob(JB):                        0.208\n",
      "Kurtosis:                       2.599   Cond. No.                         6.85\n",
      "==============================================================================\n",
      "\n",
      "Warnings:\n",
      "[1] Standard Errors assume that the covariance matrix of the errors is correctly specified.\n",
      "                       sum_sq     df         F    PR(>F)\n",
      "parents_edu_lvl   5102.085648    5.0  5.611261  0.000066\n",
      "Residual         42553.291667  234.0       NaN       NaN\n"
     ]
    }
   ],
   "source": [
    "# with random sample\n",
    "fit = ols('average_score ~ parents_edu_lvl', data = parents_df).fit()\n",
    "print(fit.summary())\n",
    "\n",
    "aov = sm.stats.anova_lm(fit, typ=2) #type 2 ANOVA Dataframe\n",
    "print(aov)"
   ]
  },
  {
   "cell_type": "markdown",
   "metadata": {},
   "source": [
    "If `PR (>F)` which is the p-value is less than our alpha value (0.05) we can consider there is an effect on parants have on test socres. \n",
    "\n",
    "Now that we know there is an effect, we now need to perform some _post host analysis_ for the classes that passed the test, in this example there were't any that were > 0.05 (so we dont have to consider not-not doing post hoc test for some of the test scores)."
   ]
  },
  {
   "cell_type": "markdown",
   "metadata": {},
   "source": [
    "### Post Hoc Analysis"
   ]
  },
  {
   "cell_type": "markdown",
   "metadata": {},
   "source": [
    "#### Tukey Post Hoc Test Comparison\n",
    "Next we will run the tukey post hoc test comparision to compare `math_scores` for each level of `parents_education`."
   ]
  },
  {
   "cell_type": "code",
   "execution_count": 63,
   "metadata": {},
   "outputs": [
    {
     "name": "stdout",
     "output_type": "stream",
     "text": [
      "Figure(720x432)\n"
     ]
    },
    {
     "data": {
      "text/html": [
       "<table class=\"simpletable\">\n",
       "<caption>Multiple Comparison of Means - Tukey HSD,FWER=0.05</caption>\n",
       "<tr>\n",
       "        <th>group1</th>            <th>group2</th>       <th>meandiff</th>   <th>lower</th>   <th>upper</th>  <th>reject</th>\n",
       "</tr>\n",
       "<tr>\n",
       "  <td>associate's degree</td> <td>bachelor's degree</td>   <td>7.075</td>   <td>-1.5897</td> <td>15.7397</td>  <td>False</td>\n",
       "</tr>\n",
       "<tr>\n",
       "  <td>associate's degree</td>    <td>high school</td>     <td>-3.325</td>  <td>-11.9897</td> <td>5.3397</td>   <td>False</td>\n",
       "</tr>\n",
       "<tr>\n",
       "  <td>associate's degree</td>  <td>master's degree</td>    <td>9.275</td>   <td>0.6103</td>  <td>17.9397</td>  <td>True</td> \n",
       "</tr>\n",
       "<tr>\n",
       "  <td>associate's degree</td>   <td>some college</td>     <td>3.9333</td>   <td>-4.7313</td> <td>12.598</td>   <td>False</td>\n",
       "</tr>\n",
       "<tr>\n",
       "  <td>associate's degree</td> <td>some high school</td>    <td>-1.8</td>   <td>-10.4647</td> <td>6.8647</td>   <td>False</td>\n",
       "</tr>\n",
       "<tr>\n",
       "   <td>bachelor's degree</td>    <td>high school</td>      <td>-10.4</td>  <td>-19.0647</td> <td>-1.7353</td>  <td>True</td> \n",
       "</tr>\n",
       "<tr>\n",
       "   <td>bachelor's degree</td>  <td>master's degree</td>     <td>2.2</td>    <td>-6.4647</td> <td>10.8647</td>  <td>False</td>\n",
       "</tr>\n",
       "<tr>\n",
       "   <td>bachelor's degree</td>   <td>some college</td>     <td>-3.1417</td> <td>-11.8063</td>  <td>5.523</td>   <td>False</td>\n",
       "</tr>\n",
       "<tr>\n",
       "   <td>bachelor's degree</td> <td>some high school</td>   <td>-8.875</td>  <td>-17.5397</td> <td>-0.2103</td>  <td>True</td> \n",
       "</tr>\n",
       "<tr>\n",
       "      <td>high school</td>     <td>master's degree</td>    <td>12.6</td>    <td>3.9353</td>  <td>21.2647</td>  <td>True</td> \n",
       "</tr>\n",
       "<tr>\n",
       "      <td>high school</td>      <td>some college</td>     <td>7.2583</td>   <td>-1.4063</td> <td>15.923</td>   <td>False</td>\n",
       "</tr>\n",
       "<tr>\n",
       "      <td>high school</td>    <td>some high school</td>    <td>1.525</td>   <td>-7.1397</td> <td>10.1897</td>  <td>False</td>\n",
       "</tr>\n",
       "<tr>\n",
       "    <td>master's degree</td>    <td>some college</td>     <td>-5.3417</td> <td>-14.0063</td>  <td>3.323</td>   <td>False</td>\n",
       "</tr>\n",
       "<tr>\n",
       "    <td>master's degree</td>  <td>some high school</td>   <td>-11.075</td> <td>-19.7397</td> <td>-2.4103</td>  <td>True</td> \n",
       "</tr>\n",
       "<tr>\n",
       "     <td>some college</td>    <td>some high school</td>   <td>-5.7333</td>  <td>-14.398</td> <td>2.9313</td>   <td>False</td>\n",
       "</tr>\n",
       "</table>"
      ],
      "text/plain": [
       "<class 'statsmodels.iolib.table.SimpleTable'>"
      ]
     },
     "execution_count": 63,
     "metadata": {},
     "output_type": "execute_result"
    },
    {
     "data": {
      "image/png": "[encoded data removed]",
      "text/plain": [
       "<Figure size 720x432 with 1 Axes>"
      ]
     },
     "metadata": {
      "needs_background": "light"
     },
     "output_type": "display_data"
    }
   ],
   "source": [
    "# https://www.coursera.org/lecture/data-analysis-tools/python-lesson-9-post-hoc-tests-for-anova-uMNjz\n",
    "import statsmodels.stats.multicomp as multi\n",
    "mc1 = multi.MultiComparison(parents_df.average_score, parents_df.parents_edu_lvl)\n",
    "res1 = mc1.tukeyhsd()\n",
    "print(res1.plot_simultaneous())\n",
    "res1.summary()"
   ]
  },
  {
   "cell_type": "markdown",
   "metadata": {},
   "source": [
    "___Interpretation:___ Above is the Tukey HSD multiple comparisions output. To read this table, in the first row of the output we see the comparision of the first group and the second group. These are pararents with a `bachelors degree` verse parents with `some college` education. The output also shows the mean differences in test scores between these parents level of education.\n",
    "\n",
    "In the last column we can see that python calculated a p-value _(probabililty value for obtaining a sample statistic at least as extreme as the one observed given our null hypothesis is true)_. We can see that those in the rejected column that have a `reject = True` we can infer that there was a significant difference between those two compared groups. __In other words, in the last column we can use the `True` p-value result to indicate which parential education level group's kids had significantly different mean test scores than the others.__ In this way we can use the rejection of the null hypothesis in this test where p-value reject result = True to indicante score differences are significant. Therefore we can see that education level groups 5 and 6 are significantely different than groupd 1, 2, 3 and 4. However 5 and 6 educational level groups are not significantely different among each other. \n",
    "\n",
    "Therefore, we can say when examining the mean difference, parents with educational levels in groups 5 and 6 child's test scores were significantly higher than parents with educaitonal levels 1, 2, 3 and 4. "
   ]
  },
  {
   "cell_type": "markdown",
   "metadata": {},
   "source": [
    "### ANOVA with full population"
   ]
  },
  {
   "cell_type": "code",
   "execution_count": 64,
   "metadata": {},
   "outputs": [],
   "source": [
    "# rename column name\n",
    "education[\"parents_edu_lvl\"] = education[\"parental level of education\"]"
   ]
  },
  {
   "cell_type": "code",
   "execution_count": 65,
   "metadata": {},
   "outputs": [
    {
     "name": "stdout",
     "output_type": "stream",
     "text": [
      "                            OLS Regression Results                            \n",
      "==============================================================================\n",
      "Dep. Variable:          average_score   R-squared:                       0.051\n",
      "Model:                            OLS   Adj. R-squared:                  0.047\n",
      "Method:                 Least Squares   F-statistic:                     10.75\n",
      "Date:                Tue, 18 Dec 2018   Prob (F-statistic):           4.38e-10\n",
      "Time:                        07:59:41   Log-Likelihood:                -4049.4\n",
      "No. Observations:                1000   AIC:                             8111.\n",
      "Df Residuals:                     994   BIC:                             8140.\n",
      "Df Model:                           5                                         \n",
      "Covariance Type:            nonrobust                                         \n",
      "========================================================================================================\n",
      "                                           coef    std err          t      P>|t|      [0.025      0.975]\n",
      "--------------------------------------------------------------------------------------------------------\n",
      "Intercept                               69.5691      0.934     74.457      0.000      67.736      71.403\n",
      "parents_edu_lvl[T.bachelor's degree]     2.3547      1.586      1.485      0.138      -0.758       5.467\n",
      "parents_edu_lvl[T.high school]          -6.4721      1.364     -4.743      0.000      -9.150      -3.795\n",
      "parents_edu_lvl[T.master's degree]       4.0298      2.039      1.976      0.048       0.028       8.031\n",
      "parents_edu_lvl[T.some college]         -1.0927      1.316     -0.831      0.406      -3.674       1.489\n",
      "parents_edu_lvl[T.some high school]     -4.4611      1.398     -3.190      0.001      -7.205      -1.717\n",
      "==============================================================================\n",
      "Omnibus:                       15.494   Durbin-Watson:                   2.010\n",
      "Prob(Omnibus):                  0.000   Jarque-Bera (JB):               15.961\n",
      "Skew:                          -0.309   Prob(JB):                     0.000342\n",
      "Kurtosis:                       2.993   Cond. No.                         6.33\n",
      "==============================================================================\n",
      "\n",
      "Warnings:\n",
      "[1] Standard Errors assume that the covariance matrix of the errors is correctly specified.\n",
      "                        sum_sq     df          F        PR(>F)\n",
      "parents_edu_lvl   10420.367638    5.0  10.753147  4.381046e-10\n",
      "Residual         192647.705250  994.0        NaN           NaN\n"
     ]
    }
   ],
   "source": [
    "# with full sample data\n",
    "fit = ols('average_score ~ parents_edu_lvl', data = education).fit()\n",
    "print(fit.summary())\n",
    "\n",
    "aov = sm.stats.anova_lm(fit, typ=2) #type 2 ANOVA Dataframe\n",
    "print(aov)"
   ]
  },
  {
   "cell_type": "code",
   "execution_count": 66,
   "metadata": {},
   "outputs": [
    {
     "name": "stdout",
     "output_type": "stream",
     "text": [
      "Figure(720x432)\n"
     ]
    },
    {
     "data": {
      "text/html": [
       "<table class=\"simpletable\">\n",
       "<caption>Multiple Comparison of Means - Tukey HSD,FWER=0.05</caption>\n",
       "<tr>\n",
       "        <th>group1</th>            <th>group2</th>       <th>meandiff</th>   <th>lower</th>   <th>upper</th>  <th>reject</th>\n",
       "</tr>\n",
       "<tr>\n",
       "  <td>associate's degree</td> <td>bachelor's degree</td>  <td>2.3547</td>   <td>-2.1739</td> <td>6.8832</td>   <td>False</td>\n",
       "</tr>\n",
       "<tr>\n",
       "  <td>associate's degree</td>    <td>high school</td>     <td>-6.4721</td> <td>-10.3681</td> <td>-2.5761</td>  <td>True</td> \n",
       "</tr>\n",
       "<tr>\n",
       "  <td>associate's degree</td>  <td>master's degree</td>   <td>4.0298</td>   <td>-1.7924</td>  <td>9.852</td>   <td>False</td>\n",
       "</tr>\n",
       "<tr>\n",
       "  <td>associate's degree</td>   <td>some college</td>     <td>-1.0927</td>  <td>-4.8488</td> <td>2.6635</td>   <td>False</td>\n",
       "</tr>\n",
       "<tr>\n",
       "  <td>associate's degree</td> <td>some high school</td>   <td>-4.4611</td>  <td>-8.4541</td> <td>-0.468</td>   <td>True</td> \n",
       "</tr>\n",
       "<tr>\n",
       "   <td>bachelor's degree</td>    <td>high school</td>     <td>-8.8268</td> <td>-13.4584</td> <td>-4.1952</td>  <td>True</td> \n",
       "</tr>\n",
       "<tr>\n",
       "   <td>bachelor's degree</td>  <td>master's degree</td>   <td>1.6751</td>   <td>-4.6629</td> <td>8.0132</td>   <td>False</td>\n",
       "</tr>\n",
       "<tr>\n",
       "   <td>bachelor's degree</td>   <td>some college</td>     <td>-3.4473</td>  <td>-7.9619</td> <td>1.0673</td>   <td>False</td>\n",
       "</tr>\n",
       "<tr>\n",
       "   <td>bachelor's degree</td> <td>some high school</td>   <td>-6.8157</td> <td>-11.5292</td> <td>-2.1022</td>  <td>True</td> \n",
       "</tr>\n",
       "<tr>\n",
       "      <td>high school</td>     <td>master's degree</td>   <td>10.5019</td>  <td>4.5992</td>  <td>16.4046</td>  <td>True</td> \n",
       "</tr>\n",
       "<tr>\n",
       "      <td>high school</td>      <td>some college</td>     <td>5.3795</td>   <td>1.4997</td>  <td>9.2592</td>   <td>True</td> \n",
       "</tr>\n",
       "<tr>\n",
       "      <td>high school</td>    <td>some high school</td>   <td>2.0111</td>   <td>-2.0985</td> <td>6.1206</td>   <td>False</td>\n",
       "</tr>\n",
       "<tr>\n",
       "    <td>master's degree</td>    <td>some college</td>     <td>-5.1225</td> <td>-10.9338</td> <td>0.6889</td>   <td>False</td>\n",
       "</tr>\n",
       "<tr>\n",
       "    <td>master's degree</td>  <td>some high school</td>   <td>-8.4909</td>  <td>-14.458</td> <td>-2.5237</td>  <td>True</td> \n",
       "</tr>\n",
       "<tr>\n",
       "     <td>some college</td>    <td>some high school</td>   <td>-3.3684</td>  <td>-7.3456</td> <td>0.6088</td>   <td>False</td>\n",
       "</tr>\n",
       "</table>"
      ],
      "text/plain": [
       "<class 'statsmodels.iolib.table.SimpleTable'>"
      ]
     },
     "execution_count": 66,
     "metadata": {},
     "output_type": "execute_result"
    },
    {
     "data": {
      "image/png": "[encoded data removed]",
      "text/plain": [
       "<Figure size 720x432 with 1 Axes>"
      ]
     },
     "metadata": {
      "needs_background": "light"
     },
     "output_type": "display_data"
    }
   ],
   "source": [
    "# https://www.coursera.org/lecture/data-analysis-tools/python-lesson-9-post-hoc-tests-for-anova-uMNjz\n",
    "import statsmodels.stats.multicomp as multi\n",
    "mc1 = multi.MultiComparison(education.average_score, education.parents_edu_lvl)\n",
    "res1 = mc1.tukeyhsd()\n",
    "print(res1.plot_simultaneous())\n",
    "res1.summary()"
   ]
  },
  {
   "cell_type": "code",
   "execution_count": null,
   "metadata": {},
   "outputs": [],
   "source": []
  }
 ],
 "metadata": {
  "kernelspec": {
   "display_name": "Python 3",
   "language": "python",
   "name": "python3"
  },
  "language_info": {
   "codemirror_mode": {
    "name": "ipython",
    "version": 3
   },
   "file_extension": ".py",
   "mimetype": "text/x-python",
   "name": "python",
   "nbconvert_exporter": "python",
   "pygments_lexer": "ipython3",
   "version": "3.7.0"
  }
 },
 "nbformat": 4,
 "nbformat_minor": 2
}
