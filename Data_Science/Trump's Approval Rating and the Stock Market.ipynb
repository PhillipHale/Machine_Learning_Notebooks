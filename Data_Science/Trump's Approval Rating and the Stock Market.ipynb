{
 "cells": [
  {
   "cell_type": "markdown",
   "metadata": {},
   "source": [
    "# Trump's Approval Rating and The Stock Market \n",
    "\n",
    "![](https://forex-images.mt5.com/humor/source/mt5/img5a4cb01055031.png)\n",
    "*www.mt5.com*"
   ]
  },
  {
   "cell_type": "code",
   "execution_count": 21,
   "metadata": {},
   "outputs": [],
   "source": [
    "import numpy as np\n",
    "import pandas as pd\n",
    "pd.set_option('display.max_columns', 200) # Display up to 120 columns of a dataframe\n",
    "\n",
    "# Data Visualization\n",
    "import seaborn as sns\n",
    "import matplotlib.pyplot as plt \n",
    "%matplotlib inline\n",
    "from matplotlib import style\n",
    "sns.set_style('darkgrid')"
   ]
  },
  {
   "cell_type": "markdown",
   "metadata": {},
   "source": [
    "import trumps approval ratings. We used the [fivethirtyeight github repo for trump-approval-ratings](https://github.com/fivethirtyeight/data/tree/master/trump-approval-ratings). You can also find a great dashboard here on https://projects.fivethirtyeight.com/trump-approval-ratings/"
   ]
  },
  {
   "cell_type": "code",
   "execution_count": 2,
   "metadata": {},
   "outputs": [
    {
     "data": {
      "text/html": [
       "<div>\n",
       "<style scoped>\n",
       "    .dataframe tbody tr th:only-of-type {\n",
       "        vertical-align: middle;\n",
       "    }\n",
       "\n",
       "    .dataframe tbody tr th {\n",
       "        vertical-align: top;\n",
       "    }\n",
       "\n",
       "    .dataframe thead th {\n",
       "        text-align: right;\n",
       "    }\n",
       "</style>\n",
       "<table border=\"1\" class=\"dataframe\">\n",
       "  <thead>\n",
       "    <tr style=\"text-align: right;\">\n",
       "      <th></th>\n",
       "      <th>president</th>\n",
       "      <th>subgroup</th>\n",
       "      <th>modeldate</th>\n",
       "      <th>startdate</th>\n",
       "      <th>enddate</th>\n",
       "      <th>pollster</th>\n",
       "      <th>grade</th>\n",
       "      <th>samplesize</th>\n",
       "      <th>population</th>\n",
       "      <th>weight</th>\n",
       "      <th>influence</th>\n",
       "      <th>approve</th>\n",
       "      <th>disapprove</th>\n",
       "      <th>adjusted_approve</th>\n",
       "      <th>adjusted_disapprove</th>\n",
       "      <th>multiversions</th>\n",
       "      <th>tracking</th>\n",
       "      <th>url</th>\n",
       "      <th>poll_id</th>\n",
       "      <th>question_id</th>\n",
       "      <th>createddate</th>\n",
       "      <th>timestamp</th>\n",
       "    </tr>\n",
       "  </thead>\n",
       "  <tbody>\n",
       "    <tr>\n",
       "      <th>0</th>\n",
       "      <td>Donald Trump</td>\n",
       "      <td>All polls</td>\n",
       "      <td>11/16/2018</td>\n",
       "      <td>1/20/2017</td>\n",
       "      <td>1/22/2017</td>\n",
       "      <td>Morning Consult</td>\n",
       "      <td>B-</td>\n",
       "      <td>1992.0</td>\n",
       "      <td>rv</td>\n",
       "      <td>0.946437</td>\n",
       "      <td>0.0</td>\n",
       "      <td>46.0</td>\n",
       "      <td>37.0</td>\n",
       "      <td>42.95969</td>\n",
       "      <td>39.20849</td>\n",
       "      <td>NaN</td>\n",
       "      <td>NaN</td>\n",
       "      <td>http://www.politico.com/story/2017/01/poll-vot...</td>\n",
       "      <td>49249</td>\n",
       "      <td>77261</td>\n",
       "      <td>1/23/2017</td>\n",
       "      <td>17:44:57 16 Nov 2018</td>\n",
       "    </tr>\n",
       "    <tr>\n",
       "      <th>1</th>\n",
       "      <td>Donald Trump</td>\n",
       "      <td>All polls</td>\n",
       "      <td>11/16/2018</td>\n",
       "      <td>1/20/2017</td>\n",
       "      <td>1/22/2017</td>\n",
       "      <td>Gallup</td>\n",
       "      <td>B</td>\n",
       "      <td>1500.0</td>\n",
       "      <td>a</td>\n",
       "      <td>0.245429</td>\n",
       "      <td>0.0</td>\n",
       "      <td>45.0</td>\n",
       "      <td>45.0</td>\n",
       "      <td>46.08260</td>\n",
       "      <td>43.28871</td>\n",
       "      <td>NaN</td>\n",
       "      <td>T</td>\n",
       "      <td>http://www.gallup.com/poll/201617/gallup-daily...</td>\n",
       "      <td>49253</td>\n",
       "      <td>77265</td>\n",
       "      <td>1/23/2017</td>\n",
       "      <td>17:44:57 16 Nov 2018</td>\n",
       "    </tr>\n",
       "    <tr>\n",
       "      <th>2</th>\n",
       "      <td>Donald Trump</td>\n",
       "      <td>All polls</td>\n",
       "      <td>11/16/2018</td>\n",
       "      <td>1/20/2017</td>\n",
       "      <td>1/24/2017</td>\n",
       "      <td>Ipsos</td>\n",
       "      <td>B+</td>\n",
       "      <td>1632.0</td>\n",
       "      <td>a</td>\n",
       "      <td>0.224456</td>\n",
       "      <td>0.0</td>\n",
       "      <td>42.1</td>\n",
       "      <td>45.2</td>\n",
       "      <td>42.52667</td>\n",
       "      <td>44.05646</td>\n",
       "      <td>NaN</td>\n",
       "      <td>T</td>\n",
       "      <td>http://polling.reuters.com/#poll/CP3_2/</td>\n",
       "      <td>49426</td>\n",
       "      <td>77599</td>\n",
       "      <td>3/1/2017</td>\n",
       "      <td>17:44:57 16 Nov 2018</td>\n",
       "    </tr>\n",
       "    <tr>\n",
       "      <th>3</th>\n",
       "      <td>Donald Trump</td>\n",
       "      <td>All polls</td>\n",
       "      <td>11/16/2018</td>\n",
       "      <td>1/21/2017</td>\n",
       "      <td>1/23/2017</td>\n",
       "      <td>Gallup</td>\n",
       "      <td>B</td>\n",
       "      <td>1500.0</td>\n",
       "      <td>a</td>\n",
       "      <td>0.226788</td>\n",
       "      <td>0.0</td>\n",
       "      <td>45.0</td>\n",
       "      <td>46.0</td>\n",
       "      <td>46.08260</td>\n",
       "      <td>44.28871</td>\n",
       "      <td>NaN</td>\n",
       "      <td>T</td>\n",
       "      <td>http://www.gallup.com/poll/201617/gallup-daily...</td>\n",
       "      <td>49262</td>\n",
       "      <td>77274</td>\n",
       "      <td>1/24/2017</td>\n",
       "      <td>17:44:57 16 Nov 2018</td>\n",
       "    </tr>\n",
       "    <tr>\n",
       "      <th>4</th>\n",
       "      <td>Donald Trump</td>\n",
       "      <td>All polls</td>\n",
       "      <td>11/16/2018</td>\n",
       "      <td>1/20/2017</td>\n",
       "      <td>1/25/2017</td>\n",
       "      <td>Quinnipiac University</td>\n",
       "      <td>A-</td>\n",
       "      <td>1190.0</td>\n",
       "      <td>rv</td>\n",
       "      <td>1.644662</td>\n",
       "      <td>0.0</td>\n",
       "      <td>36.0</td>\n",
       "      <td>44.0</td>\n",
       "      <td>37.71518</td>\n",
       "      <td>42.59451</td>\n",
       "      <td>NaN</td>\n",
       "      <td>NaN</td>\n",
       "      <td>https://poll.qu.edu/national/release-detail?Re...</td>\n",
       "      <td>49260</td>\n",
       "      <td>77272</td>\n",
       "      <td>1/26/2017</td>\n",
       "      <td>17:44:57 16 Nov 2018</td>\n",
       "    </tr>\n",
       "  </tbody>\n",
       "</table>\n",
       "</div>"
      ],
      "text/plain": [
       "      president   subgroup   modeldate  startdate    enddate  \\\n",
       "0  Donald Trump  All polls  11/16/2018  1/20/2017  1/22/2017   \n",
       "1  Donald Trump  All polls  11/16/2018  1/20/2017  1/22/2017   \n",
       "2  Donald Trump  All polls  11/16/2018  1/20/2017  1/24/2017   \n",
       "3  Donald Trump  All polls  11/16/2018  1/21/2017  1/23/2017   \n",
       "4  Donald Trump  All polls  11/16/2018  1/20/2017  1/25/2017   \n",
       "\n",
       "                pollster grade  samplesize population    weight  influence  \\\n",
       "0        Morning Consult    B-      1992.0         rv  0.946437        0.0   \n",
       "1                 Gallup     B      1500.0          a  0.245429        0.0   \n",
       "2                  Ipsos    B+      1632.0          a  0.224456        0.0   \n",
       "3                 Gallup     B      1500.0          a  0.226788        0.0   \n",
       "4  Quinnipiac University    A-      1190.0         rv  1.644662        0.0   \n",
       "\n",
       "   approve  disapprove  adjusted_approve  adjusted_disapprove multiversions  \\\n",
       "0     46.0        37.0          42.95969             39.20849           NaN   \n",
       "1     45.0        45.0          46.08260             43.28871           NaN   \n",
       "2     42.1        45.2          42.52667             44.05646           NaN   \n",
       "3     45.0        46.0          46.08260             44.28871           NaN   \n",
       "4     36.0        44.0          37.71518             42.59451           NaN   \n",
       "\n",
       "  tracking                                                url  poll_id  \\\n",
       "0      NaN  http://www.politico.com/story/2017/01/poll-vot...    49249   \n",
       "1        T  http://www.gallup.com/poll/201617/gallup-daily...    49253   \n",
       "2        T            http://polling.reuters.com/#poll/CP3_2/    49426   \n",
       "3        T  http://www.gallup.com/poll/201617/gallup-daily...    49262   \n",
       "4      NaN  https://poll.qu.edu/national/release-detail?Re...    49260   \n",
       "\n",
       "   question_id createddate             timestamp  \n",
       "0        77261   1/23/2017  17:44:57 16 Nov 2018  \n",
       "1        77265   1/23/2017  17:44:57 16 Nov 2018  \n",
       "2        77599    3/1/2017  17:44:57 16 Nov 2018  \n",
       "3        77274   1/24/2017  17:44:57 16 Nov 2018  \n",
       "4        77272   1/26/2017  17:44:57 16 Nov 2018  "
      ]
     },
     "execution_count": 2,
     "metadata": {},
     "output_type": "execute_result"
    }
   ],
   "source": [
    "rating = pd.read_csv(\"./approval_polllist.csv\")\n",
    "rating.head()"
   ]
  },
  {
   "cell_type": "code",
   "execution_count": 22,
   "metadata": {},
   "outputs": [
    {
     "data": {
      "text/plain": [
       "<matplotlib.axes._subplots.AxesSubplot at 0x7f5904bef940>"
      ]
     },
     "execution_count": 22,
     "metadata": {},
     "output_type": "execute_result"
    },
    {
     "data": {
      "image/png": "[encoded data removed]",
      "text/plain": [
       "<Figure size 432x288 with 1 Axes>"
      ]
     },
     "metadata": {},
     "output_type": "display_data"
    }
   ],
   "source": [
    "sns.countplot(x = 'grade', \n",
    "              data = rating, \n",
    "              order = rating['grade'].value_counts().index)"
   ]
  },
  {
   "cell_type": "code",
   "execution_count": 4,
   "metadata": {},
   "outputs": [
    {
     "data": {
      "text/html": [
       "<div>\n",
       "<style scoped>\n",
       "    .dataframe tbody tr th:only-of-type {\n",
       "        vertical-align: middle;\n",
       "    }\n",
       "\n",
       "    .dataframe tbody tr th {\n",
       "        vertical-align: top;\n",
       "    }\n",
       "\n",
       "    .dataframe thead th {\n",
       "        text-align: right;\n",
       "    }\n",
       "</style>\n",
       "<table border=\"1\" class=\"dataframe\">\n",
       "  <thead>\n",
       "    <tr style=\"text-align: right;\">\n",
       "      <th></th>\n",
       "      <th>president</th>\n",
       "      <th>subgroup</th>\n",
       "      <th>modeldate</th>\n",
       "      <th>approve_estimate</th>\n",
       "      <th>approve_hi</th>\n",
       "      <th>approve_lo</th>\n",
       "      <th>disapprove_estimate</th>\n",
       "      <th>disapprove_hi</th>\n",
       "      <th>disapprove_lo</th>\n",
       "      <th>timestamp</th>\n",
       "      <th>date</th>\n",
       "    </tr>\n",
       "  </thead>\n",
       "  <tbody>\n",
       "    <tr>\n",
       "      <th>0</th>\n",
       "      <td>Donald Trump</td>\n",
       "      <td>Voters</td>\n",
       "      <td>11/16/2018</td>\n",
       "      <td>43.56310</td>\n",
       "      <td>47.53812</td>\n",
       "      <td>39.58807</td>\n",
       "      <td>52.51929</td>\n",
       "      <td>56.58352</td>\n",
       "      <td>48.45506</td>\n",
       "      <td>17:45:56 16 Nov 2018</td>\n",
       "      <td>2018-11-16</td>\n",
       "    </tr>\n",
       "    <tr>\n",
       "      <th>1</th>\n",
       "      <td>Donald Trump</td>\n",
       "      <td>Adults</td>\n",
       "      <td>11/16/2018</td>\n",
       "      <td>41.73164</td>\n",
       "      <td>45.02438</td>\n",
       "      <td>38.43890</td>\n",
       "      <td>53.75866</td>\n",
       "      <td>58.26497</td>\n",
       "      <td>49.25236</td>\n",
       "      <td>17:45:23 16 Nov 2018</td>\n",
       "      <td>2018-11-16</td>\n",
       "    </tr>\n",
       "    <tr>\n",
       "      <th>2</th>\n",
       "      <td>Donald Trump</td>\n",
       "      <td>All polls</td>\n",
       "      <td>11/16/2018</td>\n",
       "      <td>42.45884</td>\n",
       "      <td>46.88390</td>\n",
       "      <td>38.03379</td>\n",
       "      <td>53.04454</td>\n",
       "      <td>57.37421</td>\n",
       "      <td>48.71488</td>\n",
       "      <td>17:44:57 16 Nov 2018</td>\n",
       "      <td>2018-11-16</td>\n",
       "    </tr>\n",
       "    <tr>\n",
       "      <th>3</th>\n",
       "      <td>Donald Trump</td>\n",
       "      <td>All polls</td>\n",
       "      <td>11/15/2018</td>\n",
       "      <td>42.42001</td>\n",
       "      <td>46.76006</td>\n",
       "      <td>38.07996</td>\n",
       "      <td>53.02117</td>\n",
       "      <td>57.32919</td>\n",
       "      <td>48.71315</td>\n",
       "      <td>16:01:02 15 Nov 2018</td>\n",
       "      <td>2018-11-15</td>\n",
       "    </tr>\n",
       "    <tr>\n",
       "      <th>4</th>\n",
       "      <td>Donald Trump</td>\n",
       "      <td>Adults</td>\n",
       "      <td>11/15/2018</td>\n",
       "      <td>41.75514</td>\n",
       "      <td>45.04311</td>\n",
       "      <td>38.46717</td>\n",
       "      <td>53.69690</td>\n",
       "      <td>58.17951</td>\n",
       "      <td>49.21428</td>\n",
       "      <td>16:01:26 15 Nov 2018</td>\n",
       "      <td>2018-11-15</td>\n",
       "    </tr>\n",
       "  </tbody>\n",
       "</table>\n",
       "</div>"
      ],
      "text/plain": [
       "      president   subgroup   modeldate  approve_estimate  approve_hi  \\\n",
       "0  Donald Trump     Voters  11/16/2018          43.56310    47.53812   \n",
       "1  Donald Trump     Adults  11/16/2018          41.73164    45.02438   \n",
       "2  Donald Trump  All polls  11/16/2018          42.45884    46.88390   \n",
       "3  Donald Trump  All polls  11/15/2018          42.42001    46.76006   \n",
       "4  Donald Trump     Adults  11/15/2018          41.75514    45.04311   \n",
       "\n",
       "   approve_lo  disapprove_estimate  disapprove_hi  disapprove_lo  \\\n",
       "0    39.58807             52.51929       56.58352       48.45506   \n",
       "1    38.43890             53.75866       58.26497       49.25236   \n",
       "2    38.03379             53.04454       57.37421       48.71488   \n",
       "3    38.07996             53.02117       57.32919       48.71315   \n",
       "4    38.46717             53.69690       58.17951       49.21428   \n",
       "\n",
       "              timestamp        date  \n",
       "0  17:45:56 16 Nov 2018  2018-11-16  \n",
       "1  17:45:23 16 Nov 2018  2018-11-16  \n",
       "2  17:44:57 16 Nov 2018  2018-11-16  \n",
       "3  16:01:02 15 Nov 2018  2018-11-15  \n",
       "4  16:01:26 15 Nov 2018  2018-11-15  "
      ]
     },
     "execution_count": 4,
     "metadata": {},
     "output_type": "execute_result"
    }
   ],
   "source": [
    "topline = pd.read_csv(\"./approval_topline.csv\")\n",
    "topline['date'] = pd.to_datetime(topline.modeldate)   # convert modeldate into a data time \n",
    "topline['date'] = topline.date.apply(lambda x: x.date())\n",
    "topline.head()"
   ]
  },
  {
   "cell_type": "code",
   "execution_count": null,
   "metadata": {},
   "outputs": [
    {
     "data": {
      "text/plain": [
       "<seaborn.axisgrid.FacetGrid at 0x7f3c35145e48>"
      ]
     },
     "execution_count": 95,
     "metadata": {},
     "output_type": "execute_result"
    }
   ],
   "source": [
    "sns.lmplot(x = \"timestamp\", y = \"approve_lo\", data = topline,\n",
    "          fit_reg = False, \n",
    "          hue= 'subgroup')"
   ]
  },
  {
   "cell_type": "code",
   "execution_count": 5,
   "metadata": {},
   "outputs": [
    {
     "data": {
      "text/plain": [
       "count           1986\n",
       "unique           662\n",
       "top       2018-01-24\n",
       "freq               3\n",
       "Name: date, dtype: object"
      ]
     },
     "execution_count": 5,
     "metadata": {},
     "output_type": "execute_result"
    }
   ],
   "source": [
    "topline.date.describe()"
   ]
  },
  {
   "cell_type": "markdown",
   "metadata": {},
   "source": [
    "Trumps inauguration date was January 20, 2017, however the earliest poll that fivethirtyeight was able to gether was 1/23/2017. We work with what we can work with"
   ]
  },
  {
   "cell_type": "code",
   "execution_count": 11,
   "metadata": {},
   "outputs": [
    {
     "data": {
      "text/plain": [
       "datetime.date(2017, 1, 23)"
      ]
     },
     "execution_count": 11,
     "metadata": {},
     "output_type": "execute_result"
    }
   ],
   "source": [
    "topline.date.min()"
   ]
  },
  {
   "cell_type": "markdown",
   "metadata": {},
   "source": [
    "## S&P500\n",
    "\n",
    "Using S&P500 data from [Yahoo Finance](https://finance.yahoo.com/quote/%5EGSPC/history/)"
   ]
  },
  {
   "cell_type": "code",
   "execution_count": 47,
   "metadata": {},
   "outputs": [
    {
     "name": "stderr",
     "output_type": "stream",
     "text": [
      "/home/redne/anaconda3/lib/python3.6/site-packages/ipykernel_launcher.py:2: FutureWarning: convert_objects is deprecated.  To re-infer data dtypes for object columns, use Series.infer_objects()\n",
      "For all other conversions use the data-type specific converters pd.to_datetime, pd.to_timedelta and pd.to_numeric.\n",
      "  \n",
      "/home/redne/anaconda3/lib/python3.6/site-packages/ipykernel_launcher.py:3: FutureWarning: by argument to sort_index is deprecated, please use .sort_values(by=...)\n",
      "  This is separate from the ipykernel package so we can avoid doing imports until\n"
     ]
    },
    {
     "data": {
      "text/html": [
       "<div>\n",
       "<style scoped>\n",
       "    .dataframe tbody tr th:only-of-type {\n",
       "        vertical-align: middle;\n",
       "    }\n",
       "\n",
       "    .dataframe tbody tr th {\n",
       "        vertical-align: top;\n",
       "    }\n",
       "\n",
       "    .dataframe thead th {\n",
       "        text-align: right;\n",
       "    }\n",
       "</style>\n",
       "<table border=\"1\" class=\"dataframe\">\n",
       "  <thead>\n",
       "    <tr style=\"text-align: right;\">\n",
       "      <th></th>\n",
       "      <th>Open</th>\n",
       "      <th>High</th>\n",
       "      <th>Low</th>\n",
       "      <th>Close</th>\n",
       "      <th>Adj Close</th>\n",
       "      <th>Volume</th>\n",
       "    </tr>\n",
       "    <tr>\n",
       "      <th>Date</th>\n",
       "      <th></th>\n",
       "      <th></th>\n",
       "      <th></th>\n",
       "      <th></th>\n",
       "      <th></th>\n",
       "      <th></th>\n",
       "    </tr>\n",
       "  </thead>\n",
       "  <tbody>\n",
       "    <tr>\n",
       "      <th>2017-01-23</th>\n",
       "      <td>2267.780029</td>\n",
       "      <td>2271.780029</td>\n",
       "      <td>2257.020020</td>\n",
       "      <td>2265.199951</td>\n",
       "      <td>2265.199951</td>\n",
       "      <td>3152710000</td>\n",
       "    </tr>\n",
       "    <tr>\n",
       "      <th>2017-01-24</th>\n",
       "      <td>2267.879883</td>\n",
       "      <td>2284.629883</td>\n",
       "      <td>2266.679932</td>\n",
       "      <td>2280.070068</td>\n",
       "      <td>2280.070068</td>\n",
       "      <td>3810960000</td>\n",
       "    </tr>\n",
       "    <tr>\n",
       "      <th>2017-01-25</th>\n",
       "      <td>2288.879883</td>\n",
       "      <td>2299.550049</td>\n",
       "      <td>2288.879883</td>\n",
       "      <td>2298.370117</td>\n",
       "      <td>2298.370117</td>\n",
       "      <td>3846020000</td>\n",
       "    </tr>\n",
       "    <tr>\n",
       "      <th>2017-01-26</th>\n",
       "      <td>2298.629883</td>\n",
       "      <td>2300.989990</td>\n",
       "      <td>2294.080078</td>\n",
       "      <td>2296.679932</td>\n",
       "      <td>2296.679932</td>\n",
       "      <td>3610360000</td>\n",
       "    </tr>\n",
       "    <tr>\n",
       "      <th>2017-01-27</th>\n",
       "      <td>2299.020020</td>\n",
       "      <td>2299.020020</td>\n",
       "      <td>2291.620117</td>\n",
       "      <td>2294.689941</td>\n",
       "      <td>2294.689941</td>\n",
       "      <td>3135890000</td>\n",
       "    </tr>\n",
       "  </tbody>\n",
       "</table>\n",
       "</div>"
      ],
      "text/plain": [
       "                   Open         High          Low        Close    Adj Close  \\\n",
       "Date                                                                          \n",
       "2017-01-23  2267.780029  2271.780029  2257.020020  2265.199951  2265.199951   \n",
       "2017-01-24  2267.879883  2284.629883  2266.679932  2280.070068  2280.070068   \n",
       "2017-01-25  2288.879883  2299.550049  2288.879883  2298.370117  2298.370117   \n",
       "2017-01-26  2298.629883  2300.989990  2294.080078  2296.679932  2296.679932   \n",
       "2017-01-27  2299.020020  2299.020020  2291.620117  2294.689941  2294.689941   \n",
       "\n",
       "                Volume  \n",
       "Date                    \n",
       "2017-01-23  3152710000  \n",
       "2017-01-24  3810960000  \n",
       "2017-01-25  3846020000  \n",
       "2017-01-26  3610360000  \n",
       "2017-01-27  3135890000  "
      ]
     },
     "execution_count": 47,
     "metadata": {},
     "output_type": "execute_result"
    }
   ],
   "source": [
    "stocks = pd.read_csv(\"./sp500_11172018.csv\")\n",
    "\n",
    "# order and srot the date and then set the index to the date column\n",
    "stocks['Date'] = stocks.Date.convert_objects(convert_dates='coerce')\n",
    "stocks = stocks.sort_index(by=\"Date\")\n",
    "stocks = stocks.set_index(\"Date\")\n",
    "stocks.head()"
   ]
  },
  {
   "cell_type": "code",
   "execution_count": 49,
   "metadata": {},
   "outputs": [
    {
     "data": {
      "text/plain": [
       "<matplotlib.axes._subplots.AxesSubplot at 0x7f5904cc66a0>"
      ]
     },
     "execution_count": 49,
     "metadata": {},
     "output_type": "execute_result"
    },
    {
     "data": {
      "image/png": "[encoded data removed]",
      "text/plain": [
       "<Figure size 1080x720 with 1 Axes>"
      ]
     },
     "metadata": {},
     "output_type": "display_data"
    }
   ],
   "source": [
    "stocks.Close.plot(figsize = (15,10))"
   ]
  },
  {
   "cell_type": "markdown",
   "metadata": {},
   "source": [
    "Some of the initally obvious things to note this the apparent volidility. Its difficult to pinpoint exactly what causes the volidility, however we are going to analysis trumps activity in accordance to the stock market. Typically the volitility in stock market is due to human emotion. For the most part we all have the same market information, however, it can make one to purchase and the other to see. "
   ]
  },
  {
   "cell_type": "code",
   "execution_count": 46,
   "metadata": {},
   "outputs": [
    {
     "data": {
      "text/plain": [
       "'2017-01-23'"
      ]
     },
     "execution_count": 46,
     "metadata": {},
     "output_type": "execute_result"
    }
   ],
   "source": [
    "stocks.index.min()"
   ]
  },
  {
   "cell_type": "markdown",
   "metadata": {},
   "source": [
    "## Sentiment Analysis @realdonaldtrump\n",
    "\n",
    "Data Source: [Trump Twitter Archive](http://www.trumptwitterarchive.com/archive)"
   ]
  },
  {
   "cell_type": "code",
   "execution_count": null,
   "metadata": {},
   "outputs": [],
   "source": [
    "tweets = pd.read_csv(\"./trump_tweets.csv\")\n",
    "tweets.head()"
   ]
  },
  {
   "cell_type": "code",
   "execution_count": null,
   "metadata": {},
   "outputs": [],
   "source": []
  }
 ],
 "metadata": {
  "kernelspec": {
   "display_name": "Python 3",
   "language": "python",
   "name": "python3"
  },
  "language_info": {
   "codemirror_mode": {
    "name": "ipython",
    "version": 3
   },
   "file_extension": ".py",
   "mimetype": "text/x-python",
   "name": "python",
   "nbconvert_exporter": "python",
   "pygments_lexer": "ipython3",
   "version": "3.6.6"
  }
 },
 "nbformat": 4,
 "nbformat_minor": 2
}
