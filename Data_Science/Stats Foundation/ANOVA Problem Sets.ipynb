{
 "cells": [
  {
   "cell_type": "markdown",
   "metadata": {},
   "source": [
    "# Ex 1: One-way ANOVA\n",
    "\n",
    "Usually with anova we assume that he data sets are samples of the same distribution _(i.e., the nully hypothesis is that their means are equal)_. If we reject the $H_0$ then this implies that at least one of the means are different.\n",
    "\n",
    "![](https://i.chzbgr.com/full/8396848896/hF2368E27/)\n",
    "\n",
    "For this example we will use a one-way ANOVA: Senario - there are three archers participating in an archery contest. They are shooting at targets with 10 evenly spaced concentric rings. The rigs have values 1-10 (10 highest). Each participates shoots 6 arrows. \n",
    "\n",
    "[Source for Walkthrough](http://cleverowl.uk/2015/07/01/using-one-way-anova-and-tukeys-test-to-compare-data-sets/)"
   ]
  },
  {
   "cell_type": "code",
   "execution_count": 28,
   "metadata": {},
   "outputs": [],
   "source": [
    "import numpy as np\n",
    "import pandas as pd\n",
    "from scipy import stats\n",
    "\n",
    "# Archery Results\n",
    "pat = [5, 4, 4, 3, 9, 4]\n",
    "jack = [4, 8, 7, 5, 1, 5]\n",
    "alex = [9,9,8,10,4,10]"
   ]
  },
  {
   "cell_type": "markdown",
   "metadata": {},
   "source": [
    "### Hypothesis\n",
    "\n",
    "Based on the results above for each players, we would like to find out __who is the best archer__. Therefore our a$H_0$ is that all means are equal:\n",
    "\n",
    "$H_0:μ_1=μ_2=μ_3$\n",
    "\n",
    "Therefore rejecthing the $H_0$ means that there is a significant difference between at least two of the archer, therefore we define our alternative hypothsis as:\n",
    "\n",
    "$H_A$: at least two means are significantly different\n",
    "\n",
    "Before we continue to test this hypothesis we need to define our __significance level__ which will be our basis of making the decision wiether to reject or fail to reject the $H_0$. For this example we will define the significance level of our test to be α=0.05 which corresponds to a 95% confidence. \n",
    "\n",
    "### One-Way ANOVA\n",
    "\n",
    "We will use the `SciPy` function `f_oneway()` to perform a oneway ANOVA which will return us the `F` favlue and `p` p-value from the test, whcih we can then used to make a conclusion on whether to reject or fail to reject the null hypothesis"
   ]
  },
  {
   "cell_type": "code",
   "execution_count": 30,
   "metadata": {},
   "outputs": [
    {
     "name": "stdout",
     "output_type": "stream",
     "text": [
      "One-way ANOVA\n",
      "=============\n",
      "F value: 4.4882729211087415\n",
      "P value: 0.029667763955533364 \n",
      "\n"
     ]
    }
   ],
   "source": [
    "f, p = stats.f_oneway(pat, jack, alex)\n",
    "print ('One-way ANOVA')\n",
    "print ('=============')\n",
    " \n",
    "print ('F value:', f)\n",
    "print ('P value:', p, '\\n')"
   ]
  },
  {
   "cell_type": "markdown",
   "metadata": {},
   "source": [
    "As we can see the F-value = 4.48 and p-value = 0.0297. With a __p-value = 0.03 ≤ 0.05 we reject the null hypotehsis__ and conclude that at least one of the means is different from at least one of the other populations _(e.g., not all archers perform equally)_. However, this is not a statifying result. We can not simply stop here and conclude yes, one of these archers we know are better than the other. To find out which archer has the differing performance we must conduct a __Post Hoc Test__.\n",
    "\n",
    "### Post Hoc Test (Tukey Test)\n",
    "\n",
    "The __Tukey range test__ is commonly used after reject the null hypothesis during an ANOVA test to additionally test and compare all possible pairs. We can use the Tukey test to percisely identify differences between two means that's greater than the expected standard error. \n",
    "\n",
    "To perform the Tukey test we will use the `statsmodels` library. "
   ]
  },
  {
   "cell_type": "code",
   "execution_count": 32,
   "metadata": {},
   "outputs": [],
   "source": [
    "## import library\n",
    "from statsmodels.stats.multicomp import pairwise_tukeyhsd\n",
    "from statsmodels.stats.multicomp import MultiComparison"
   ]
  },
  {
   "cell_type": "markdown",
   "metadata": {},
   "source": [
    "we will use the `pairwise_tukeyhsd` to calculate all the pairwise comparisions using the `MultiComparision` \n",
    "\n",
    "Now that we have loaded the required library we can run the test"
   ]
  },
  {
   "cell_type": "code",
   "execution_count": 82,
   "metadata": {},
   "outputs": [],
   "source": [
    "data = pd.DataFrame(np.array([('Pat', 5),('Pat', 4),('Pat', 4),('Pat', 3),\n",
    "                       ('Pat', 9),('Pat', 4),('Jack', 4),('Jack', 8),\n",
    "                       ('Jack', 7),('Jack', 5),('Jack', 1),('Jack', 5),\n",
    "                       ('Alex', 9),('Alex', 8),('Alex', 8),('Alex', 10),\n",
    "                       ('Alex', 5),('Alex', 10)],\n",
    "                        dtype = [('Archer','|U5'),('Score', '<i8')]))"
   ]
  },
  {
   "cell_type": "code",
   "execution_count": 85,
   "metadata": {},
   "outputs": [
    {
     "name": "stdout",
     "output_type": "stream",
     "text": [
      "Multiple Comparison of Means - Tukey HSD,FWER=0.05\n",
      "=============================================\n",
      "group1 group2 meandiff  lower   upper  reject\n",
      "---------------------------------------------\n",
      " Alex   Jack  -3.3333  -6.5755 -0.0911  True \n",
      " Alex   Pat     -3.5   -6.7422 -0.2578  True \n",
      " Jack   Pat   -0.1667  -3.4089  3.0755 False \n",
      "---------------------------------------------\n",
      "['Alex' 'Jack' 'Pat']\n"
     ]
    }
   ],
   "source": [
    "mc = MultiComparison(data['Score'], data['Archer'])\n",
    "result = mc.tukeyhsd()\n",
    " \n",
    "print(result)\n",
    "print(mc.groupsunique)"
   ]
  },
  {
   "cell_type": "markdown",
   "metadata": {},
   "source": [
    "The output of the Tukey test shows the average difference, a confidence interval as well as whether you should reject the null hypothesis for each pair of groups at the given significance level. \n",
    "\n",
    "We can see from the Tukey test that `Alex` significantly differs from the other two archers, by looking at the `meandiff` column that evidences there is a significant evidence to reject Ho for the groups `Alex-Jack` and `Alex-Pat`.\n",
    "\n",
    "The test also shows the difference between the group means (the meandiff column).\n",
    "\n",
    "$μ_jack − μ_alex=−3.3333$\n",
    "\n",
    "$μ_pat − μ_alex=−3.5$ \n",
    "\n",
    "This leads to the conclusion that Alex is the best archer in the group."
   ]
  },
  {
   "cell_type": "code",
   "execution_count": 95,
   "metadata": {},
   "outputs": [
    {
     "data": {
      "text/html": [
       "<table class=\"simpletable\">\n",
       "<caption>Multiple Comparison of Means - Tukey HSD,FWER=0.05</caption>\n",
       "<tr>\n",
       "  <th>group1</th> <th>group2</th> <th>meandiff</th>  <th>lower</th>   <th>upper</th>  <th>reject</th>\n",
       "</tr>\n",
       "<tr>\n",
       "   <td>Alex</td>   <td>Jack</td>   <td>-3.3333</td> <td>-6.5755</td> <td>-0.0911</td>  <td>True</td> \n",
       "</tr>\n",
       "<tr>\n",
       "   <td>Alex</td>    <td>Pat</td>    <td>-3.5</td>   <td>-6.7422</td> <td>-0.2578</td>  <td>True</td> \n",
       "</tr>\n",
       "<tr>\n",
       "   <td>Jack</td>    <td>Pat</td>   <td>-0.1667</td> <td>-3.4089</td> <td>3.0755</td>   <td>False</td>\n",
       "</tr>\n",
       "</table>"
      ],
      "text/plain": [
       "<class 'statsmodels.iolib.table.SimpleTable'>"
      ]
     },
     "execution_count": 95,
     "metadata": {},
     "output_type": "execute_result"
    },
    {
     "data": {
      "image/png": "[encoded data removed]",
      "text/plain": [
       "<matplotlib.figure.Figure at 0x1e7d6eeecc0>"
      ]
     },
     "metadata": {},
     "output_type": "display_data"
    }
   ],
   "source": [
    "tukey = pairwise_tukeyhsd(endog=data['Score'],     # Data\n",
    "                          groups=data['Archer'],   # Groups\n",
    "                          alpha=0.05)          # Significance level\n",
    "\n",
    "tukey.plot_simultaneous()    # Plot group confidence intervals\n",
    "plt.vlines(x=6.7,ymin=-0.5,ymax=4.5, color=\"red\")\n",
    "\n",
    "tukey.summary()              # See test summary"
   ]
  },
  {
   "cell_type": "markdown",
   "metadata": {},
   "source": [
    "The 95% confidence interval plot reinforces the result visually: only 1 other group is likely to overlap with Alex which is Jac. "
   ]
  },
  {
   "cell_type": "markdown",
   "metadata": {},
   "source": [
    "## Ex 2: \n",
    "\n",
    "[walkthrough source](http://www.randalolson.com/2012/08/06/statistical-analysis-made-easy-in-python/)"
   ]
  },
  {
   "cell_type": "code",
   "execution_count": null,
   "metadata": {},
   "outputs": [],
   "source": []
  }
 ],
 "metadata": {
  "kernelspec": {
   "display_name": "Python 3",
   "language": "python",
   "name": "python3"
  },
  "language_info": {
   "codemirror_mode": {
    "name": "ipython",
    "version": 3
   },
   "file_extension": ".py",
   "mimetype": "text/x-python",
   "name": "python",
   "nbconvert_exporter": "python",
   "pygments_lexer": "ipython3",
   "version": "3.6.4"
  }
 },
 "nbformat": 4,
 "nbformat_minor": 2
}
