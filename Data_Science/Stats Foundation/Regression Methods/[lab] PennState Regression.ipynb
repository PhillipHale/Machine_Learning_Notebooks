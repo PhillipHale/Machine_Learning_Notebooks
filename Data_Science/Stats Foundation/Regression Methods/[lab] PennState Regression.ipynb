{
 "cells": [
  {
   "cell_type": "markdown",
   "metadata": {},
   "source": [
    "# Penn State STAT501 - Applied Regression Models\n",
    "\n",
    "![](https://www.engr.psu.edu/ae/thesis/portfolios/2014/gvl5037/penn%20state%20logo.png)\n",
    "\n",
    "source: [Penn State Statistics 501](https://newonlinecourses.science.psu.edu/stat501/node/251/)"
   ]
  },
  {
   "cell_type": "code",
   "execution_count": 1,
   "metadata": {},
   "outputs": [],
   "source": [
    "import pandas as pd\n",
    "import numpy as np\n",
    "\n",
    "# import plotting libraries\n",
    "\n",
    "import matplotlib.pyplot as plt\n",
    "import seaborn as sns\n",
    "\n",
    "%matplotlib inline\n",
    "plt.style.use('seaborn-white')\n",
    "\n",
    "# Statistical Packages\n",
    "import scipy.stats as stats\n",
    "import statsmodels.api as sm\n",
    "import statsmodels.formula.api as smf"
   ]
  },
  {
   "cell_type": "markdown",
   "metadata": {},
   "source": [
    "---\n",
    "# Lesson 1: Simple Linear Regression\n",
    "\n",
    "\n",
    "\n",
    "## Example 1: Teen Birth Rate and Poverty Level \n",
    "\n",
    "source: [1.10 Further Example PSU STAT501](https://newonlinecourses.science.psu.edu/stat501/node/288/)\n",
    "\n",
    "![](https://psmag.com/.image/c_limit%2Ccs_srgb%2Cq_auto:good%2Cw_600/MTI3NTgxOTc4Mjk0ODA4NTQ2/sad-piggy-bank.webp)\n",
    "\n",
    "_(PHOTO: DOODER/[SHUTTERSTOCK](http://www.shutterstock.com/))_\n",
    "\n",
    "\n",
    "The variables are y = year 2002 birth rate per 1000 females 15 to 17 years old and x = poverty rate, which is the percent of the state’s population living in households with incomes below the federally defined poverty level. _(Data source: Mind On Statistics, 3rd edition, Utts and Heckard)._"
   ]
  },
  {
   "cell_type": "code",
   "execution_count": 2,
   "metadata": {},
   "outputs": [
    {
     "data": {
      "text/html": [
       "<div>\n",
       "<style scoped>\n",
       "    .dataframe tbody tr th:only-of-type {\n",
       "        vertical-align: middle;\n",
       "    }\n",
       "\n",
       "    .dataframe tbody tr th {\n",
       "        vertical-align: top;\n",
       "    }\n",
       "\n",
       "    .dataframe thead th {\n",
       "        text-align: right;\n",
       "    }\n",
       "</style>\n",
       "<table border=\"1\" class=\"dataframe\">\n",
       "  <thead>\n",
       "    <tr style=\"text-align: right;\">\n",
       "      <th></th>\n",
       "      <th>Location</th>\n",
       "      <th>PovPct</th>\n",
       "      <th>Brth15to17</th>\n",
       "      <th>Brth18to19</th>\n",
       "      <th>ViolCrime</th>\n",
       "      <th>TeenBrth</th>\n",
       "    </tr>\n",
       "  </thead>\n",
       "  <tbody>\n",
       "    <tr>\n",
       "      <th>0</th>\n",
       "      <td>Alabama</td>\n",
       "      <td>20.1</td>\n",
       "      <td>31.5</td>\n",
       "      <td>88.7</td>\n",
       "      <td>11.2</td>\n",
       "      <td>54.5</td>\n",
       "    </tr>\n",
       "    <tr>\n",
       "      <th>1</th>\n",
       "      <td>Alaska</td>\n",
       "      <td>7.1</td>\n",
       "      <td>18.9</td>\n",
       "      <td>73.7</td>\n",
       "      <td>9.1</td>\n",
       "      <td>39.5</td>\n",
       "    </tr>\n",
       "    <tr>\n",
       "      <th>2</th>\n",
       "      <td>Arizona</td>\n",
       "      <td>16.1</td>\n",
       "      <td>35.0</td>\n",
       "      <td>102.5</td>\n",
       "      <td>10.4</td>\n",
       "      <td>61.2</td>\n",
       "    </tr>\n",
       "    <tr>\n",
       "      <th>3</th>\n",
       "      <td>Arkansas</td>\n",
       "      <td>14.9</td>\n",
       "      <td>31.6</td>\n",
       "      <td>101.7</td>\n",
       "      <td>10.4</td>\n",
       "      <td>59.9</td>\n",
       "    </tr>\n",
       "    <tr>\n",
       "      <th>4</th>\n",
       "      <td>California</td>\n",
       "      <td>16.7</td>\n",
       "      <td>22.6</td>\n",
       "      <td>69.1</td>\n",
       "      <td>11.2</td>\n",
       "      <td>41.1</td>\n",
       "    </tr>\n",
       "  </tbody>\n",
       "</table>\n",
       "</div>"
      ],
      "text/plain": [
       "     Location  PovPct  Brth15to17  Brth18to19  ViolCrime  TeenBrth\n",
       "0     Alabama    20.1        31.5        88.7       11.2      54.5\n",
       "1      Alaska     7.1        18.9        73.7        9.1      39.5\n",
       "2     Arizona    16.1        35.0       102.5       10.4      61.2\n",
       "3    Arkansas    14.9        31.6       101.7       10.4      59.9\n",
       "4  California    16.7        22.6        69.1       11.2      41.1"
      ]
     },
     "execution_count": 2,
     "metadata": {},
     "output_type": "execute_result"
    }
   ],
   "source": [
    "poverty = pd.read_table(\"https://newonlinecourses.science.psu.edu/stat501/sites/onlinecourses.science.psu.edu.stat501/files/examples/poverty/index.txt\")\n",
    "poverty.head()"
   ]
  },
  {
   "cell_type": "markdown",
   "metadata": {},
   "source": [
    "The plot of the data below (birth rate on the vertical) shows a generally linear relationship, on average, with a positive slope. As the poverty level increases, the birth rate for 15 to 17 year old females tends to increase as well."
   ]
  },
  {
   "cell_type": "code",
   "execution_count": 3,
   "metadata": {},
   "outputs": [
    {
     "data": {
      "text/plain": [
       "<matplotlib.axes._subplots.AxesSubplot at 0x2b85930be80>"
      ]
     },
     "execution_count": 3,
     "metadata": {},
     "output_type": "execute_result"
    },
    {
     "data": {
      "image/png": "[encoded data removed]",
      "text/plain": [
       "<Figure size 432x288 with 1 Axes>"
      ]
     },
     "metadata": {
      "needs_background": "light"
     },
     "output_type": "display_data"
    }
   ],
   "source": [
    "# Scatter plot least swares regression line added\n",
    "sns.regplot(poverty.PovPct, poverty.Brth15to17, order = 1,\n",
    "           ci = None, scatter_kws={'color':'r', 's':9})"
   ]
  },
  {
   "cell_type": "code",
   "execution_count": 4,
   "metadata": {},
   "outputs": [
    {
     "name": "stdout",
     "output_type": "stream",
     "text": [
      "Intercept    4.267293\n",
      "PovPct       1.373345\n",
      "dtype: float64 \n",
      "\n"
     ]
    }
   ],
   "source": [
    "#create fitted model\n",
    "lm = smf.ols(formula='Brth15to17 ~ PovPct', data = poverty).fit()\n",
    "\n",
    "print(lm.params,'\\n')"
   ]
  },
  {
   "cell_type": "markdown",
   "metadata": {},
   "source": [
    "#### Interpretation of the coefficients\n",
    "With the _fitted line_ for regression superimposed on the data, the above output is the intercept and slope. \n",
    "- __Slope__ = 1.373 which means that 15 to 17 year old birth rate increate 1.973 units, on average, for each one unit (one percent) increate in the poverty rate\n",
    "\n",
    "\n",
    "- __Intercept__ = 4.267 means that if there were states with pvoerty rate = 0, the predicted average for the 15 to 17 year old birth rate would be 4.267 for those states. _since there are no states with poverty rate = 0 this incerpretation of the incercept is not practiceally meaningul for this example. \n",
    "\n"
   ]
  },
  {
   "cell_type": "code",
   "execution_count": 5,
   "metadata": {},
   "outputs": [
    {
     "name": "stdout",
     "output_type": "stream",
     "text": [
      "r-squared =  0.5333279627871969\n"
     ]
    }
   ],
   "source": [
    "# r-squared\n",
    "print(\"r-squared = \", lm.rsquared)"
   ]
  },
  {
   "cell_type": "markdown",
   "metadata": {},
   "source": [
    "#### Interpretation of the R-Squared\n",
    "The value of r2 can be interpreted to mean that poverty rates \"explain\" 53.3% of the observed variation in the 15 to 17 year old average birth rates of the states."
   ]
  },
  {
   "cell_type": "raw",
   "metadata": {},
   "source": [
    "To be continued..."
   ]
  },
  {
   "cell_type": "markdown",
   "metadata": {},
   "source": [
    "--- \n",
    "# Skin Cancer\n",
    "\n",
    "__Objective:__ this example is concerning the relationship between __skin cancer__ `mortaility` and `state latitude`. The __(y) response__ is the `mortality rate` _(number of deaths per 10 million people)_ or white males due to malignant skin melanoma from 1950-1959. The __(x) predictor__ is the `latitude` at the center of each of the 49 states in the United States.  \n",
    "\n",
    "data source: https://newonlinecourses.science.psu.edu/stat501/sites/onlinecourses.science.psu.edu.stat501/files/data/skincancer/index.txt\n",
    "\n",
    "A subset of the data looks as such:"
   ]
  },
  {
   "cell_type": "code",
   "execution_count": 9,
   "metadata": {},
   "outputs": [
    {
     "data": {
      "text/html": [
       "<div>\n",
       "<style scoped>\n",
       "    .dataframe tbody tr th:only-of-type {\n",
       "        vertical-align: middle;\n",
       "    }\n",
       "\n",
       "    .dataframe tbody tr th {\n",
       "        vertical-align: top;\n",
       "    }\n",
       "\n",
       "    .dataframe thead th {\n",
       "        text-align: right;\n",
       "    }\n",
       "</style>\n",
       "<table border=\"1\" class=\"dataframe\">\n",
       "  <thead>\n",
       "    <tr style=\"text-align: right;\">\n",
       "      <th></th>\n",
       "      <th>State</th>\n",
       "      <th>Lat</th>\n",
       "      <th>Mort</th>\n",
       "      <th>Ocean</th>\n",
       "      <th>Long</th>\n",
       "    </tr>\n",
       "  </thead>\n",
       "  <tbody>\n",
       "    <tr>\n",
       "      <th>0</th>\n",
       "      <td>Alabama</td>\n",
       "      <td>33.0</td>\n",
       "      <td>219</td>\n",
       "      <td>1</td>\n",
       "      <td>87.0</td>\n",
       "    </tr>\n",
       "    <tr>\n",
       "      <th>1</th>\n",
       "      <td>Arizona</td>\n",
       "      <td>34.5</td>\n",
       "      <td>160</td>\n",
       "      <td>0</td>\n",
       "      <td>112.0</td>\n",
       "    </tr>\n",
       "    <tr>\n",
       "      <th>2</th>\n",
       "      <td>Arkansas</td>\n",
       "      <td>35.0</td>\n",
       "      <td>170</td>\n",
       "      <td>0</td>\n",
       "      <td>92.5</td>\n",
       "    </tr>\n",
       "    <tr>\n",
       "      <th>3</th>\n",
       "      <td>California</td>\n",
       "      <td>37.5</td>\n",
       "      <td>182</td>\n",
       "      <td>1</td>\n",
       "      <td>119.5</td>\n",
       "    </tr>\n",
       "    <tr>\n",
       "      <th>4</th>\n",
       "      <td>Colorado</td>\n",
       "      <td>39.0</td>\n",
       "      <td>149</td>\n",
       "      <td>0</td>\n",
       "      <td>105.5</td>\n",
       "    </tr>\n",
       "  </tbody>\n",
       "</table>\n",
       "</div>"
      ],
      "text/plain": [
       "        State   Lat  Mort  Ocean   Long\n",
       "0     Alabama  33.0   219      1   87.0\n",
       "1     Arizona  34.5   160      0  112.0\n",
       "2    Arkansas  35.0   170      0   92.5\n",
       "3  California  37.5   182      1  119.5\n",
       "4    Colorado  39.0   149      0  105.5"
      ]
     },
     "execution_count": 9,
     "metadata": {},
     "output_type": "execute_result"
    }
   ],
   "source": [
    "cancer = pd.read_csv(\"./data/skincancer.csv\")\n",
    "cancer.head()"
   ]
  },
  {
   "cell_type": "markdown",
   "metadata": {},
   "source": [
    "### Is there a relationship between state latitude and skin cancer mortality?\n",
    "\n",
    "Below is a scatterplot of the statistical relationship of the response variable y is the mortality due to skin cancer (number of deaths per 10 million people) and the predictor variable x is the latitude (degrees North) at the center of each of 49 states in the U.S."
   ]
  },
  {
   "cell_type": "code",
   "execution_count": 10,
   "metadata": {},
   "outputs": [
    {
     "name": "stdout",
     "output_type": "stream",
     "text": [
      "beta = [ 389.189 , -5.978 ]\n",
      "R=-0.825, \n",
      "p_value=0.000, \n",
      "stderr=0.598\n"
     ]
    },
    {
     "data": {
      "image/png": "[encoded data removed]",
      "text/plain": [
       "<Figure size 576x432 with 1 Axes>"
      ]
     },
     "metadata": {
      "needs_background": "light"
     },
     "output_type": "display_data"
    }
   ],
   "source": [
    "# https://nbviewer.jupyter.org/github/mscaudill/IntroStatLearn/blob/master/notebooks/Ch3_Linear_Regression/Lab_Linear_Regression.ipynb\n",
    "# create a figure to plot our data and OLS estimate\n",
    "fig, ax = plt.subplots(figsize=(8,6))\n",
    "\n",
    "ax.scatter(cancer.Lat.values, cancer.Mort.values, facecolors='none',\n",
    "          edgecolors='b', label='data')\n",
    "ax.set_xlabel('Lat')\n",
    "ax.set_ylabel('Mort')\n",
    "\n",
    "# call scipy linregress returning fit coefficients and simple statistics\n",
    "beta1, beta0, r_value, p_value, stderr = stats.linregress(cancer.Lat.values,\n",
    "                                                         cancer.Mort.values)\n",
    "\n",
    "# add the estimation to the data plot\n",
    "ax.plot(cancer.Lat.values, beta0 + beta1 * cancer.Lat.values,\n",
    "       color = 'r', label = 'OLS')\n",
    "ax.legend(loc='best')\n",
    "\n",
    "# print the regression estimates and returned from scipy\n",
    "print('beta = [', round(beta0,3), ',', round(beta1,3),']')\n",
    "print('R={0:.3f}, \\np_value={1:.3f}, \\nstderr={2:.3f}'.format(r_value, p_value, stderr))"
   ]
  },
  {
   "cell_type": "markdown",
   "metadata": {},
   "source": [
    "There appears to be a negative linear relationship between latitude and mortality due to skin cancer, but the relationship is not perfect.\n",
    "\n",
    "To answer the question _Is there a relationship between state latitude and skin cancer mortality?_ \n",
    "\n",
    "Certainly, since the estimated slope of the line, b1, is -5.98, not 0, there is a relationship between state latitude and skin cancer mortality in the sample of 49 data points. _But, we want to know if there is a relationship between the population of all of the latitudes and skin cancer mortality rates._"
   ]
  },
  {
   "cell_type": "code",
   "execution_count": 11,
   "metadata": {},
   "outputs": [
    {
     "name": "stdout",
     "output_type": "stream",
     "text": [
      "r-squared =  0.6798295922599593\n"
     ]
    }
   ],
   "source": [
    "# Ordinary Least Squares (ols) \n",
    "\n",
    "#create fitted model\n",
    "cancer_model = smf.ols(formula='Mort ~ Lat', data = cancer).fit()\n",
    "\n",
    "print(\"r-squared = \", cancer_model.rsquared)"
   ]
  },
  {
   "cell_type": "markdown",
   "metadata": {},
   "source": [
    "#### interpreting r-squared\n",
    "we can say that 68% of the variation in the skin cancer mortality rate is reduced by taking into account latitude. \n",
    "\n",
    "Or we can say - with knownledge of what it really means - __that 68% of the variation in skin cancer mortality is _due to_ or is _explained by_ latitude__"
   ]
  },
  {
   "cell_type": "markdown",
   "metadata": {},
   "source": [
    "### Perasons R"
   ]
  },
  {
   "cell_type": "code",
   "execution_count": 12,
   "metadata": {},
   "outputs": [
    {
     "name": "stdout",
     "output_type": "stream",
     "text": [
      "Pearson correlaiton of Lat and Mort =  0.8245177937800732\n"
     ]
    }
   ],
   "source": [
    "print(\"Pearson correlaiton of Lat and Mort = \", np.sqrt(cancer_model.rsquared))"
   ]
  },
  {
   "cell_type": "markdown",
   "metadata": {},
   "source": [
    "#### INterpreting Pearson's R\n",
    "\n",
    "The output tells us that the correlation between skin cancer mortality and latitude is still -0.825."
   ]
  },
  {
   "cell_type": "markdown",
   "metadata": {},
   "source": [
    "## Hypothesis Test and Confidence Internval \n",
    "\n",
    "Null hypothesis H0 : β1 = some number β _(in other words, we  can test whether or not the population slope takes on any value)_\n",
    "\n",
    "Alternative hypothesis HA : β1 ≠ some number β\n",
    "\n",
    "By default, the thest conducts the hypothesis test with null hypothesis, β1 is equal to 0, and alternative hypothesis, β1 is not equal to 0.\n",
    "\n",
    "Then we calculate the value of the test statistic using the t-distribution:\n",
    "\n",
    "$$t^*=\\frac{b_1-\\beta}{\\left(\\frac{\\sqrt{MSE}}{\\sqrt{\\sum(x_i-\\bar{x})^2}} \\right)}=\\frac{b_1-\\beta}{se(b_1)}$$\n",
    "\n",
    "we use the resulting test statistic to calculate the `P-value`. As always, the P-value is the answer to the question __\"how likely is it that we’d get a test statistic t* as extreme as we did if the null hypothesis were true?\"__\n",
    "\n",
    "\n",
    "\n",
    "#### Confidence internval\n",
    "\n",
    "$$b_1 \\pm t_{(\\alpha/2, n-2)}\\times \\left( \\frac{\\sqrt{MSE}}{\\sqrt{\\sum(x_i-\\bar{x})^2}} \\right)$$\n",
    "\n",
    "The results of the __confidence internval__ gives us:\n",
    "1. a range of values that is likely to contain the true unknown value β1\n",
    "2. allows us to answer the question: _\"is the predictor x linearly related to the response y?\"_\n",
    "\n",
    "If the confidence internval for β1 contains 0, then we __conclude that there is no evidence of a linear relationship between the predictor x and the response y in the population__\n",
    "\n",
    "On the other hand, if the confidence internval for β1 does not contain 0, then we __conclude that there is evidence of a linear relationship between the predictor x and the response y in the population__\n"
   ]
  },
  {
   "cell_type": "code",
   "execution_count": 18,
   "metadata": {},
   "outputs": [
    {
     "name": "stdout",
     "output_type": "stream",
     "text": [
      "                            OLS Regression Results                            \n",
      "==============================================================================\n",
      "Dep. Variable:                   Mort   R-squared:                       0.680\n",
      "Model:                            OLS   Adj. R-squared:                  0.673\n",
      "Method:                 Least Squares   F-statistic:                     99.80\n",
      "Date:                Thu, 17 Jan 2019   Prob (F-statistic):           3.31e-13\n",
      "Time:                        13:58:05   Log-Likelihood:                -213.08\n",
      "No. Observations:                  49   AIC:                             430.2\n",
      "Df Residuals:                      47   BIC:                             433.9\n",
      "Df Model:                           1                                         \n",
      "Covariance Type:            nonrobust                                         \n",
      "==============================================================================\n",
      "                 coef    std err          t      P>|t|      [0.025      0.975]\n",
      "------------------------------------------------------------------------------\n",
      "Intercept    389.1894     23.812     16.344      0.000     341.285     437.094\n",
      "Lat           -5.9776      0.598     -9.990      0.000      -7.181      -4.774\n",
      "==============================================================================\n",
      "Omnibus:                        0.740   Durbin-Watson:                   2.131\n",
      "Prob(Omnibus):                  0.691   Jarque-Bera (JB):                0.773\n",
      "Skew:                           0.094   Prob(JB):                        0.679\n",
      "Kurtosis:                       2.414   Cond. No.                         347.\n",
      "==============================================================================\n",
      "\n",
      "Warnings:\n",
      "[1] Standard Errors assume that the covariance matrix of the errors is correctly specified.\n"
     ]
    }
   ],
   "source": [
    "print(cancer_model.summary())"
   ]
  },
  {
   "cell_type": "markdown",
   "metadata": {},
   "source": [
    "### Drawing Conclusions\n",
    "After we calculated the hypothesis test and the confidence interval for the slope β1, we can see on the line pertaining to the `latitude` preidctor a summary of statistics including:\n",
    "- `coef` = -5.9776\n",
    "- `std err` = 0.598 _(standard effeor of the coefficient)_\n",
    "- `t statistic` = -9.99 _(output from deviding coef by the estimated standard error; assuming that the slope is 0)_\n",
    "\n",
    "##### Interpreting Hypothesis Test and  P-value\n",
    "Because the P-value is so small (less than 0.001), we can __reject the null hypothesis and conclude that β1 does not equal 0__. There is sufficient evidence, at the α = 0.05 level, to conclude that __there is a linear relationship in the population between skin cancer mortality and latitude.__\n",
    "\n",
    "##### Interpreting the Confidence interaval\n",
    "We can be 95% confident that the population slope is between -7.2 and -4.8. That is, we can be 95% confident that for every additional one-degree increase in latitude, the mean skin cancer mortality rate decreases between 4.8 and 7.2 deaths per 10 million people"
   ]
  },
  {
   "cell_type": "code",
   "execution_count": null,
   "metadata": {},
   "outputs": [],
   "source": []
  },
  {
   "cell_type": "markdown",
   "metadata": {},
   "source": [
    "#### Running a prediction\n",
    "we can just run the `summary_frame()` [function](https://github.com/statsmodels/statsmodels/issues/987#issuecomment-133575422) and the `get_prediction()` [function](http://www.statsmodels.org/dev/generated/statsmodels.regression.linear_model.OLSResults.get_prediction.html) to get the confidenc interval and the prediction interval."
   ]
  },
  {
   "cell_type": "code",
   "execution_count": 16,
   "metadata": {},
   "outputs": [
    {
     "data": {
      "text/html": [
       "<div>\n",
       "<style scoped>\n",
       "    .dataframe tbody tr th:only-of-type {\n",
       "        vertical-align: middle;\n",
       "    }\n",
       "\n",
       "    .dataframe tbody tr th {\n",
       "        vertical-align: top;\n",
       "    }\n",
       "\n",
       "    .dataframe thead th {\n",
       "        text-align: right;\n",
       "    }\n",
       "</style>\n",
       "<table border=\"1\" class=\"dataframe\">\n",
       "  <thead>\n",
       "    <tr style=\"text-align: right;\">\n",
       "      <th></th>\n",
       "      <th>mean</th>\n",
       "      <th>mean_se</th>\n",
       "      <th>mean_ci_lower</th>\n",
       "      <th>mean_ci_upper</th>\n",
       "      <th>obs_ci_lower</th>\n",
       "      <th>obs_ci_upper</th>\n",
       "    </tr>\n",
       "  </thead>\n",
       "  <tbody>\n",
       "    <tr>\n",
       "      <th>0</th>\n",
       "      <td>389.189351</td>\n",
       "      <td>23.812316</td>\n",
       "      <td>341.285151</td>\n",
       "      <td>437.093551</td>\n",
       "      <td>327.760047</td>\n",
       "      <td>450.618655</td>\n",
       "    </tr>\n",
       "  </tbody>\n",
       "</table>\n",
       "</div>"
      ],
      "text/plain": [
       "         mean    mean_se  mean_ci_lower  mean_ci_upper  obs_ci_lower  \\\n",
       "0  389.189351  23.812316     341.285151     437.093551    327.760047   \n",
       "\n",
       "   obs_ci_upper  \n",
       "0    450.618655  "
      ]
     },
     "execution_count": 16,
     "metadata": {},
     "output_type": "execute_result"
    }
   ],
   "source": [
    "#Statsmodel - prediction for new observation\n",
    "\n",
    "cancer_model.get_prediction(pd.DataFrame({'Lat':[0]})).summary_frame(alpha=0.05)"
   ]
  },
  {
   "cell_type": "code",
   "execution_count": null,
   "metadata": {},
   "outputs": [],
   "source": []
  },
  {
   "cell_type": "code",
   "execution_count": null,
   "metadata": {},
   "outputs": [],
   "source": []
  },
  {
   "cell_type": "markdown",
   "metadata": {},
   "source": [
    "---"
   ]
  },
  {
   "cell_type": "code",
   "execution_count": 7,
   "metadata": {},
   "outputs": [
    {
     "data": {
      "text/html": [
       "<div>\n",
       "<style scoped>\n",
       "    .dataframe tbody tr th:only-of-type {\n",
       "        vertical-align: middle;\n",
       "    }\n",
       "\n",
       "    .dataframe tbody tr th {\n",
       "        vertical-align: top;\n",
       "    }\n",
       "\n",
       "    .dataframe thead th {\n",
       "        text-align: right;\n",
       "    }\n",
       "</style>\n",
       "<table border=\"1\" class=\"dataframe\">\n",
       "  <thead>\n",
       "    <tr style=\"text-align: right;\">\n",
       "      <th></th>\n",
       "      <th>ht</th>\n",
       "      <th>wt</th>\n",
       "    </tr>\n",
       "  </thead>\n",
       "  <tbody>\n",
       "    <tr>\n",
       "      <th>0</th>\n",
       "      <td>63</td>\n",
       "      <td>127</td>\n",
       "    </tr>\n",
       "    <tr>\n",
       "      <th>1</th>\n",
       "      <td>64</td>\n",
       "      <td>121</td>\n",
       "    </tr>\n",
       "    <tr>\n",
       "      <th>2</th>\n",
       "      <td>66</td>\n",
       "      <td>142</td>\n",
       "    </tr>\n",
       "    <tr>\n",
       "      <th>3</th>\n",
       "      <td>69</td>\n",
       "      <td>157</td>\n",
       "    </tr>\n",
       "    <tr>\n",
       "      <th>4</th>\n",
       "      <td>69</td>\n",
       "      <td>162</td>\n",
       "    </tr>\n",
       "  </tbody>\n",
       "</table>\n",
       "</div>"
      ],
      "text/plain": [
       "   ht   wt\n",
       "0  63  127\n",
       "1  64  121\n",
       "2  66  142\n",
       "3  69  157\n",
       "4  69  162"
      ]
     },
     "execution_count": 7,
     "metadata": {},
     "output_type": "execute_result"
    }
   ],
   "source": [
    "hw = pd.read_table(\"./data/height_weight.txt\")\n",
    "hw.head()"
   ]
  },
  {
   "cell_type": "code",
   "execution_count": 8,
   "metadata": {},
   "outputs": [
    {
     "data": {
      "text/plain": [
       "<matplotlib.axes._subplots.AxesSubplot at 0x15a8b2ea6d8>"
      ]
     },
     "execution_count": 8,
     "metadata": {},
     "output_type": "execute_result"
    },
    {
     "data": {
      "image/png": "[encoded data removed]",
      "text/plain": [
       "<Figure size 432x288 with 1 Axes>"
      ]
     },
     "metadata": {
      "needs_background": "light"
     },
     "output_type": "display_data"
    }
   ],
   "source": [
    "\n",
    "# Scatter plot of expense vs income with least swares regression line added\n",
    "\n",
    "sns.regplot(hw.ht, hw.wt, order = 1,\n",
    "           ci = None, scatter_kws={'color':'r', 's':9})"
   ]
  },
  {
   "cell_type": "code",
   "execution_count": 9,
   "metadata": {},
   "outputs": [
    {
     "name": "stdout",
     "output_type": "stream",
     "text": [
      "Intercept   -266.534395\n",
      "ht             6.137581\n",
      "dtype: float64 \n",
      "\n",
      "                            OLS Regression Results                            \n",
      "==============================================================================\n",
      "Dep. Variable:                     wt   R-squared:                       0.897\n",
      "Model:                            OLS   Adj. R-squared:                  0.884\n",
      "Method:                 Least Squares   F-statistic:                     69.67\n",
      "Date:                Wed, 16 Jan 2019   Prob (F-statistic):           3.21e-05\n",
      "Time:                        11:23:50   Log-Likelihood:                -34.639\n",
      "No. Observations:                  10   AIC:                             73.28\n",
      "Df Residuals:                       8   BIC:                             73.88\n",
      "Df Model:                           1                                         \n",
      "Covariance Type:            nonrobust                                         \n",
      "==============================================================================\n",
      "                 coef    std err          t      P>|t|      [0.025      0.975]\n",
      "------------------------------------------------------------------------------\n",
      "Intercept   -266.5344     51.032     -5.223      0.001    -384.214    -148.854\n",
      "ht             6.1376      0.735      8.347      0.000       4.442       7.833\n",
      "==============================================================================\n",
      "Omnibus:                        0.036   Durbin-Watson:                   1.975\n",
      "Prob(Omnibus):                  0.982   Jarque-Bera (JB):                0.137\n",
      "Skew:                          -0.046   Prob(JB):                        0.934\n",
      "Kurtosis:                       2.434   Cond. No.                     1.30e+03\n",
      "==============================================================================\n",
      "\n",
      "Warnings:\n",
      "[1] Standard Errors assume that the covariance matrix of the errors is correctly specified.\n",
      "[2] The condition number is large, 1.3e+03. This might indicate that there are\n",
      "strong multicollinearity or other numerical problems.\n"
     ]
    },
    {
     "name": "stderr",
     "output_type": "stream",
     "text": [
      "C:\\Program Files (x86)\\Microsoft Visual Studio\\Shared\\Anaconda3_64\\lib\\site-packages\\scipy\\stats\\stats.py:1394: UserWarning: kurtosistest only valid for n>=20 ... continuing anyway, n=10\n",
      "  \"anyway, n=%i\" % int(n))\n"
     ]
    }
   ],
   "source": [
    "# Ordinary Least Squares (ols) \n",
    "\n",
    "#create fitted model\n",
    "lm = smf.ols(formula='wt ~ ht', data = hw).fit()\n",
    "\n",
    "print(lm.params,'\\n')\n",
    "\n",
    "# summary of the regression coefficents\n",
    "print(lm.summary())"
   ]
  },
  {
   "cell_type": "code",
   "execution_count": 10,
   "metadata": {},
   "outputs": [
    {
     "name": "stdout",
     "output_type": "stream",
     "text": [
      "           df       sum_sq      mean_sq          F    PR(>F)\n",
      "ht        1.0  5202.214048  5202.214048  69.666373  0.000032\n",
      "Residual  8.0   597.385952    74.673244        NaN       NaN\n"
     ]
    }
   ],
   "source": [
    "# ANOVA\n",
    "anova_results = sm.stats.anova_lm(lm)\n",
    "print(anova_results)"
   ]
  },
  {
   "cell_type": "code",
   "execution_count": null,
   "metadata": {},
   "outputs": [],
   "source": []
  },
  {
   "cell_type": "markdown",
   "metadata": {},
   "source": [
    "---\n",
    "# Lesson 2: SLR Model Evaluation"
   ]
  },
  {
   "cell_type": "code",
   "execution_count": null,
   "metadata": {},
   "outputs": [],
   "source": []
  },
  {
   "cell_type": "code",
   "execution_count": null,
   "metadata": {},
   "outputs": [],
   "source": []
  },
  {
   "cell_type": "code",
   "execution_count": null,
   "metadata": {},
   "outputs": [],
   "source": []
  },
  {
   "cell_type": "code",
   "execution_count": null,
   "metadata": {},
   "outputs": [],
   "source": []
  },
  {
   "cell_type": "code",
   "execution_count": null,
   "metadata": {},
   "outputs": [],
   "source": []
  },
  {
   "cell_type": "code",
   "execution_count": null,
   "metadata": {},
   "outputs": [],
   "source": []
  },
  {
   "cell_type": "code",
   "execution_count": null,
   "metadata": {},
   "outputs": [],
   "source": []
  },
  {
   "cell_type": "code",
   "execution_count": null,
   "metadata": {},
   "outputs": [],
   "source": []
  },
  {
   "cell_type": "code",
   "execution_count": null,
   "metadata": {},
   "outputs": [],
   "source": []
  },
  {
   "cell_type": "code",
   "execution_count": null,
   "metadata": {},
   "outputs": [],
   "source": []
  },
  {
   "cell_type": "code",
   "execution_count": null,
   "metadata": {},
   "outputs": [],
   "source": []
  },
  {
   "cell_type": "code",
   "execution_count": null,
   "metadata": {},
   "outputs": [],
   "source": []
  },
  {
   "cell_type": "code",
   "execution_count": null,
   "metadata": {},
   "outputs": [],
   "source": []
  },
  {
   "cell_type": "code",
   "execution_count": null,
   "metadata": {},
   "outputs": [],
   "source": []
  },
  {
   "cell_type": "code",
   "execution_count": null,
   "metadata": {},
   "outputs": [],
   "source": []
  },
  {
   "cell_type": "code",
   "execution_count": null,
   "metadata": {},
   "outputs": [],
   "source": []
  },
  {
   "cell_type": "code",
   "execution_count": null,
   "metadata": {},
   "outputs": [],
   "source": []
  }
 ],
 "metadata": {
  "kernelspec": {
   "display_name": "Python 3",
   "language": "python",
   "name": "python3"
  },
  "language_info": {
   "codemirror_mode": {
    "name": "ipython",
    "version": 3
   },
   "file_extension": ".py",
   "mimetype": "text/x-python",
   "name": "python",
   "nbconvert_exporter": "python",
   "pygments_lexer": "ipython3",
   "version": "3.7.0"
  }
 },
 "nbformat": 4,
 "nbformat_minor": 2
}
