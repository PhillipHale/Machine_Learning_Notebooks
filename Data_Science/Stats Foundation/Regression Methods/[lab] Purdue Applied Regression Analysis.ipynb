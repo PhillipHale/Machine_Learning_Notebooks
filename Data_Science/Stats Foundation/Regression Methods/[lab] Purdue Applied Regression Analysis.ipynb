{
 "cells": [
  {
   "cell_type": "markdown",
   "metadata": {},
   "source": [
    "# Lab Work - Purdue 512 - Applied Regression Analysis\n",
    "\n",
    "![](https://engineering.purdue.edu/Wraps/ECO/wrap7/images/logo.png)\n",
    "\n",
    "\n",
    "Here is a set of lab work from minzhang's 2015 [Purdue - 512 Applied Regression](http://www.stat.purdue.edu/~minzhang/512-Spring2015/)\n"
   ]
  },
  {
   "cell_type": "code",
   "execution_count": 7,
   "metadata": {},
   "outputs": [],
   "source": [
    "import pandas as pd\n",
    "import numpy as np\n",
    "\n",
    "# import plotting libraries\n",
    "\n",
    "import matplotlib.pyplot as plt\n",
    "import seaborn as sns\n",
    "\n",
    "%matplotlib inline\n",
    "plt.style.use('seaborn-white')\n",
    "\n",
    "# Statistical Packages\n",
    "import scipy.stats as stats\n",
    "import statsmodels.api as sm\n",
    "import statsmodels.formula.api as smf"
   ]
  },
  {
   "cell_type": "code",
   "execution_count": 77,
   "metadata": {},
   "outputs": [],
   "source": [
    "def ols_plot(x, x_name,y, y_name):\n",
    "    # https://nbviewer.jupyter.org/github/mscaudill/IntroStatLearn/blob/master/notebooks/Ch3_Linear_Regression/Lab_Linear_Regression.ipynb\n",
    "    # create a figure to plot our data and OLS estimate\n",
    "    fig, ax = plt.subplots(figsize=(8,6))\n",
    "\n",
    "    ax.scatter(x.values, y.values, facecolors='none',\n",
    "              edgecolors='b', label='data')\n",
    "    ax.set_xlabel(x_name)\n",
    "    ax.set_ylabel(y_name)\n",
    "\n",
    "    # call scipy linregress returning fit coefficients and simple statistics\n",
    "    beta1, beta0, r_value, p_value, stderr = stats.linregress(x.values, y.values)\n",
    "\n",
    "    # add the estimation to the data plot\n",
    "    ax.plot(x.values, beta0 + beta1 * x.values,\n",
    "           color = 'r', label = 'OLS')\n",
    "    ax.legend(loc='best')\n",
    "\n",
    "    # print the regression estimates and returned from scipy\n",
    "    print('beta = [', round(beta0,3), ',', round(beta1,3),']')\n",
    "    print('R={0:.3f}, \\np_value={1:.3f}, \\nstderr={2:.3f}'.format(r_value, p_value, stderr))\n",
    "\n",
    "def confident_bands_plot(model, x, y, alpha=0.05):\n",
    "    # https://www.learndatasci.com/tutorials/predicting-housing-prices-linear-regression-using-python-pandas-statsmodels/\n",
    "    from statsmodels.sandbox.regression.predstd import wls_prediction_std\n",
    "\n",
    "    # predictor variable (x) and dependent variable (y)\n",
    "\n",
    "    # Retrieve our confidence interval values\n",
    "    # _ is a dummy variable since we don't actually use it for plotting but need it as a placeholder\n",
    "    # since wls_prediction_std(housing_model) returns 3 values\n",
    "    _, confidence_interval_lower, confidence_interval_upper = wls_prediction_std(model, alpha=alpha)\n",
    "\n",
    "    fig, ax = plt.subplots(figsize=(10,7))\n",
    "\n",
    "    # plot the dots\n",
    "    # 'o' specifies the shape (circle), we can also use 'd' (diamonds), 's' (squares)\n",
    "    ax.plot(x, y, 'o', label=\"data\")\n",
    "\n",
    "    # plot the trend line\n",
    "    # g-- and r-- specify the color to use\n",
    "    ax.plot(x, model.fittedvalues, 'g--.', label=\"OLS\")\n",
    "\n",
    "    # plot upper and lower ci values\n",
    "    ax.plot(x, confidence_interval_upper, 'r--')\n",
    "    ax.plot(x, confidence_interval_lower, 'r--')\n",
    "\n",
    "    # plot legend\n",
    "    ax.legend(loc='best');"
   ]
  },
  {
   "cell_type": "markdown",
   "metadata": {},
   "source": [
    "## HW1 Problem 3\n",
    "\n",
    "Grade point average. The director of admissions of a small college selected 120 students at\n",
    "random from the new freshman class in a study to determine whether a student's grade point\n",
    "average (OPA) at the end of the freshman year (Y) can be predicted from the ACT test score (X).\n",
    "The results of the study follow. Assume that first-order regression model (1.1) is appropriate. "
   ]
  },
  {
   "cell_type": "code",
   "execution_count": 102,
   "metadata": {},
   "outputs": [
    {
     "data": {
      "text/html": [
       "<div>\n",
       "<style scoped>\n",
       "    .dataframe tbody tr th:only-of-type {\n",
       "        vertical-align: middle;\n",
       "    }\n",
       "\n",
       "    .dataframe tbody tr th {\n",
       "        vertical-align: top;\n",
       "    }\n",
       "\n",
       "    .dataframe thead th {\n",
       "        text-align: right;\n",
       "    }\n",
       "</style>\n",
       "<table border=\"1\" class=\"dataframe\">\n",
       "  <thead>\n",
       "    <tr style=\"text-align: right;\">\n",
       "      <th></th>\n",
       "      <th>GPA</th>\n",
       "      <th>ACT_test_scores</th>\n",
       "    </tr>\n",
       "  </thead>\n",
       "  <tbody>\n",
       "    <tr>\n",
       "      <th>0</th>\n",
       "      <td>3.897</td>\n",
       "      <td>21</td>\n",
       "    </tr>\n",
       "    <tr>\n",
       "      <th>1</th>\n",
       "      <td>3.885</td>\n",
       "      <td>14</td>\n",
       "    </tr>\n",
       "    <tr>\n",
       "      <th>2</th>\n",
       "      <td>3.778</td>\n",
       "      <td>28</td>\n",
       "    </tr>\n",
       "    <tr>\n",
       "      <th>3</th>\n",
       "      <td>2.540</td>\n",
       "      <td>22</td>\n",
       "    </tr>\n",
       "    <tr>\n",
       "      <th>4</th>\n",
       "      <td>3.028</td>\n",
       "      <td>21</td>\n",
       "    </tr>\n",
       "  </tbody>\n",
       "</table>\n",
       "</div>"
      ],
      "text/plain": [
       "     GPA  ACT_test_scores\n",
       "0  3.897               21\n",
       "1  3.885               14\n",
       "2  3.778               28\n",
       "3  2.540               22\n",
       "4  3.028               21"
      ]
     },
     "execution_count": 102,
     "metadata": {},
     "output_type": "execute_result"
    }
   ],
   "source": [
    "gpa = pd.read_table(\"http://www.stat.purdue.edu/~minzhang/512-Spring2015/Datasets_files/CH01PR19.DAT\",\n",
    "                     header=None, names=['GPA','ACT_test_scores'],delim_whitespace=True)\n",
    "gpa.head()"
   ]
  },
  {
   "cell_type": "code",
   "execution_count": 103,
   "metadata": {},
   "outputs": [
    {
     "name": "stdout",
     "output_type": "stream",
     "text": [
      "beta = [ 2.114 , 0.039 ]\n",
      "R=0.269, \n",
      "p_value=0.003, \n",
      "stderr=0.013\n"
     ]
    },
    {
     "data": {
      "image/png": "[encoded data removed]",
      "text/plain": [
       "<Figure size 576x432 with 1 Axes>"
      ]
     },
     "metadata": {
      "needs_background": "light"
     },
     "output_type": "display_data"
    }
   ],
   "source": [
    "ols_plot(gpa.ACT_test_scores, 'ACT Scores', gpa.GPA, 'GPA')"
   ]
  },
  {
   "cell_type": "code",
   "execution_count": 104,
   "metadata": {},
   "outputs": [
    {
     "data": {
      "text/plain": [
       "<matplotlib.axes._subplots.AxesSubplot at 0x157e1f5b588>"
      ]
     },
     "execution_count": 104,
     "metadata": {},
     "output_type": "execute_result"
    },
    {
     "data": {
      "image/png": "[encoded data removed]",
      "text/plain": [
       "<Figure size 432x288 with 1 Axes>"
      ]
     },
     "metadata": {
      "needs_background": "light"
     },
     "output_type": "display_data"
    }
   ],
   "source": [
    "x =gpa.ACT_test_scores\n",
    "y = gpa.GPA\n",
    "\n",
    "sns.regplot(x, y, lowess=True, line_kws={\"color\":\"magenta\", \"linewidth\":1}, \n",
    "            scatter_kws={'color':'r', 's':9})"
   ]
  },
  {
   "cell_type": "markdown",
   "metadata": {},
   "source": [
    ">Run a linear regression to predict GPA based on the entrance exam. Give the complete\n",
    "ANOVA table for this regression."
   ]
  },
  {
   "cell_type": "code",
   "execution_count": 105,
   "metadata": {},
   "outputs": [
    {
     "name": "stdout",
     "output_type": "stream",
     "text": [
      "estimated slope coefficient:  0.038827126905259586\n",
      "SSR:  3.5878458993130025\n",
      "                    df     sum_sq   mean_sq         F    PR(>F)\n",
      "ACT_test_scores    1.0   3.587846  3.587846  9.240243  0.002917\n",
      "Residual         118.0  45.817608  0.388285       NaN       NaN\n"
     ]
    }
   ],
   "source": [
    "model = smf.ols(formula='GPA~ACT_test_scores', data = gpa).fit()\n",
    "print(\"estimated slope coefficient: \", model.params.ACT_test_scores)\n",
    "print(\"SSR: \", model.mse_model)\n",
    "print(sm.stats.anova_lm(model))"
   ]
  },
  {
   "cell_type": "markdown",
   "metadata": {},
   "source": [
    "> Give a point estimate and a 94% confidence interval for the slope and intercept and\n",
    "interpret each of these in words. (Point estimate is another word for parameter estimate.)"
   ]
  },
  {
   "cell_type": "code",
   "execution_count": 106,
   "metadata": {},
   "outputs": [
    {
     "name": "stdout",
     "output_type": "stream",
     "text": [
      "                            OLS Regression Results                            \n",
      "==============================================================================\n",
      "Dep. Variable:                    GPA   R-squared:                       0.073\n",
      "Model:                            OLS   Adj. R-squared:                  0.065\n",
      "Method:                 Least Squares   F-statistic:                     9.240\n",
      "Date:                Mon, 18 Feb 2019   Prob (F-statistic):            0.00292\n",
      "Time:                        09:24:07   Log-Likelihood:                -112.50\n",
      "No. Observations:                 120   AIC:                             229.0\n",
      "Df Residuals:                     118   BIC:                             234.6\n",
      "Df Model:                           1                                         \n",
      "Covariance Type:            nonrobust                                         \n",
      "===================================================================================\n",
      "                      coef    std err          t      P>|t|       [0.03       0.97]\n",
      "-----------------------------------------------------------------------------------\n",
      "Intercept           2.1140      0.321      6.588      0.000       1.505       2.723\n",
      "ACT_test_scores     0.0388      0.013      3.040      0.003       0.015       0.063\n",
      "==============================================================================\n",
      "Omnibus:                       26.969   Durbin-Watson:                   1.831\n",
      "Prob(Omnibus):                  0.000   Jarque-Bera (JB):               47.360\n",
      "Skew:                          -0.994   Prob(JB):                     5.20e-11\n",
      "Kurtosis:                       5.349   Cond. No.                         142.\n",
      "==============================================================================\n",
      "\n",
      "Warnings:\n",
      "[1] Standard Errors assume that the covariance matrix of the errors is correctly specified.\n"
     ]
    }
   ],
   "source": [
    "print(model.summary(alpha = 0.06))"
   ]
  },
  {
   "cell_type": "markdown",
   "metadata": {},
   "source": [
    "#### Analysis:\n",
    "The regression equation for this problem is:\n",
    "__GPA = 2.11 + 0.039 ACT_test_scores__\n",
    "\n",
    "\n",
    "- __R-squared = 7%__ which indicates only 7% of the __varation in `GPA scores` is reducted by  taking into account ACT scores__\n",
    "- __Slope__  = 0.0388 which means that `GPA` score rate increases 0.0388 units, on average, for each one unit incease in `ACT Test Scores`\n",
    "- __Intercept__ = 2.11 which mean sthat if there were a student had a zero on the ACT test score the GPA would be 2.11. Since there were no students that had 0 on the ACT this intercept of the intercept is not practically meaniningful.\n",
    "\n",
    "__Confidence Interval__ We can be 94% confident that the GPA scores is between 0.015 and 0.063. that is, ew can be 94% confident that for every additional one unit increase in ACT Test score, the mean GPA score rate increase between 0.015 and 0.063."
   ]
  },
  {
   "cell_type": "markdown",
   "metadata": {},
   "source": [
    "### ...HW4 Probm 2-5\n",
    "\n",
    "> 2. Describe the distribution of the explanatory variable. Show the plots and output that were\n",
    "helpful in learning about this variable.\n",
    "\n",
    "we can see from the above regression plot that as `GPA` score rate increases the `ACT Test Scores` also increase. \n",
    "\n",
    ">3. Run the linear regression to predict GPA from the entrance test score, and obtain the residuals\n",
    "(do not include a list of the residuals in your solution)."
   ]
  },
  {
   "cell_type": "code",
   "execution_count": 107,
   "metadata": {},
   "outputs": [
    {
     "data": {
      "text/plain": [
       "<matplotlib.axes._subplots.AxesSubplot at 0x157e1f0ec88>"
      ]
     },
     "execution_count": 107,
     "metadata": {},
     "output_type": "execute_result"
    },
    {
     "data": {
      "image/png": "[encoded data removed]",
      "text/plain": [
       "<Figure size 432x288 with 1 Axes>"
      ]
     },
     "metadata": {
      "needs_background": "light"
     },
     "output_type": "display_data"
    }
   ],
   "source": [
    "sns.residplot(x = model.fittedvalues, y = model.resid)"
   ]
  },
  {
   "cell_type": "markdown",
   "metadata": {},
   "source": [
    "Above is the residual vs fitts plot form the GPA model. WE can see that there is a random pattern of observations around the 0 line. The observations appear to be spread equally this meeting the normal and varirance assumptions. There doesnot appear to be an outlier. \n",
    "\n",
    "> (d) Examine the distribution of the residuals by getting a histogram and a normal probability plot of the residuals by using the histogram and qqplot statements in proc\n",
    "univariate. What do you conclude?\n"
   ]
  },
  {
   "cell_type": "code",
   "execution_count": 108,
   "metadata": {},
   "outputs": [
    {
     "data": {
      "image/png": "[encoded data removed]",
      "text/plain": [
       "<Figure size 432x288 with 1 Axes>"
      ]
     },
     "metadata": {
      "needs_background": "light"
     },
     "output_type": "display_data"
    }
   ],
   "source": [
    "sm.qqplot(model.resid, line='r');"
   ]
  },
  {
   "cell_type": "markdown",
   "metadata": {},
   "source": [
    "Using the QQ plot, we can see that the does appear to be an outlier however, the majority of the observations follow the linear line, therefore normality assumption is met. \n",
    "\n",
    "__The residuals appear reasonably normal if somewhat asymmetric, since the histogram appears fairly normal, and the qqplot is fairly linear. There is some suggestion of a concave down shape to the qq-plot, but it is\n",
    "not too bad__\n",
    "\n",
    "> 4. Change the data set by changing the value of the GPA for the last observation from 2.948\n",
    "to 29.48 (e.g., a typo). Y"
   ]
  },
  {
   "cell_type": "code",
   "execution_count": 111,
   "metadata": {},
   "outputs": [
    {
     "name": "stderr",
     "output_type": "stream",
     "text": [
      "C:\\Program Files (x86)\\Microsoft Visual Studio\\Shared\\Anaconda3_64\\lib\\site-packages\\ipykernel_launcher.py:1: SettingWithCopyWarning: \n",
      "A value is trying to be set on a copy of a slice from a DataFrame\n",
      "\n",
      "See the caveats in the documentation: http://pandas.pydata.org/pandas-docs/stable/indexing.html#indexing-view-versus-copy\n",
      "  \"\"\"Entry point for launching an IPython kernel.\n"
     ]
    }
   ],
   "source": [
    "gpa.GPA[119] = 29.48"
   ]
  },
  {
   "cell_type": "code",
   "execution_count": 115,
   "metadata": {},
   "outputs": [
    {
     "name": "stdout",
     "output_type": "stream",
     "text": [
      "beta = [ 1.432 , 0.075 ]\n",
      "R=0.135, \n",
      "p_value=0.141, \n",
      "stderr=0.051\n",
      "                            OLS Regression Results                            \n",
      "==============================================================================\n",
      "Dep. Variable:                    GPA   R-squared:                       0.018\n",
      "Model:                            OLS   Adj. R-squared:                  0.010\n",
      "Method:                 Least Squares   F-statistic:                     2.192\n",
      "Date:                Mon, 18 Feb 2019   Prob (F-statistic):              0.141\n",
      "Time:                        09:33:04   Log-Likelihood:                -278.38\n",
      "No. Observations:                 120   AIC:                             560.8\n",
      "Df Residuals:                     118   BIC:                             566.3\n",
      "Df Model:                           1                                         \n",
      "Covariance Type:            nonrobust                                         \n",
      "===================================================================================\n",
      "                      coef    std err          t      P>|t|       [0.03       0.97]\n",
      "-----------------------------------------------------------------------------------\n",
      "Intercept           1.4324      1.278      1.120      0.265      -0.996       3.860\n",
      "ACT_test_scores     0.0753      0.051      1.480      0.141      -0.021       0.172\n",
      "==============================================================================\n",
      "Omnibus:                      245.312   Durbin-Watson:                   1.108\n",
      "Prob(Omnibus):                  0.000   Jarque-Bera (JB):            51611.970\n",
      "Skew:                           9.711   Prob(JB):                         0.00\n",
      "Kurtosis:                     102.726   Cond. No.                         142.\n",
      "==============================================================================\n",
      "\n",
      "Warnings:\n",
      "[1] Standard Errors assume that the covariance matrix of the errors is correctly specified.\n"
     ]
    },
    {
     "data": {
      "image/png": "[encoded data removed]",
      "text/plain": [
       "<Figure size 576x432 with 1 Axes>"
      ]
     },
     "metadata": {
      "needs_background": "light"
     },
     "output_type": "display_data"
    }
   ],
   "source": [
    "ols_plot(gpa.ACT_test_scores, 'ACT Scores', gpa.GPA, 'GPA');\n",
    "model = smf.ols(formula='GPA~ACT_test_scores', data = gpa).fit()\n",
    "print(model.summary(alpha = 0.06))"
   ]
  },
  {
   "cell_type": "markdown",
   "metadata": {},
   "source": [
    "Clearly there is an outlier affecting the entire regression line with __High Leverage and High Influence__\n",
    "\n",
    "Additionally the variables no long have a relationship as 0 is a value in the confidence interval when performing the t-test.\n",
    "\n",
    "__The outlier has a huge impact on these results. The slope becomes nearly double its original value and is no longer significantly different from zero. The changes in R2 and s2 are also very extreme. The outlier greatly inflates the estimated variance and makes the R2 almost zero.__"
   ]
  },
  {
   "cell_type": "code",
   "execution_count": 117,
   "metadata": {},
   "outputs": [
    {
     "data": {
      "image/png": "[encoded data removed]",
      "text/plain": [
       "<Figure size 432x288 with 1 Axes>"
      ]
     },
     "metadata": {
      "needs_background": "light"
     },
     "output_type": "display_data"
    },
    {
     "data": {
      "image/png": "[encoded data removed]",
      "text/plain": [
       "<Figure size 432x288 with 1 Axes>"
      ]
     },
     "metadata": {
      "needs_background": "light"
     },
     "output_type": "display_data"
    }
   ],
   "source": [
    "sns.residplot(x = model.fittedvalues, y = model.resid);\n",
    "sm.qqplot(model.resid, line='r');"
   ]
  },
  {
   "cell_type": "markdown",
   "metadata": {},
   "source": [
    "- The __outlier__ is quite noticeable on the residual plots as a point far away from all the others\n",
    "- The __qqplot__ shows that the data do not fit on the straight line with the estimated mean and standard deviation, and the outlier again appears quite separate from all the others\n",
    "\n",
    "__All together, these plots clearly show there is one outlying point which should\n",
    "be investigated.__"
   ]
  },
  {
   "cell_type": "markdown",
   "metadata": {},
   "source": [
    "## HW1 Problem 4\n",
    ">Plastic hardness. Refer to Problems 1.3 and 1.14. Sixteen batches of the plastic were made,\n",
    "and from each batch one test item was molded. Each test item was randomly assigned to one of\n",
    "the four predetermined time levels, and the hardness was measured after the assigned elapsed\n",
    "time. The results are shown below; X is the elapsed time in hours? and Y is hardness in Brinell\n",
    "units. Assume that first-order regression model (1.1) is appropria'te. "
   ]
  },
  {
   "cell_type": "code",
   "execution_count": 64,
   "metadata": {},
   "outputs": [
    {
     "data": {
      "text/html": [
       "<div>\n",
       "<style scoped>\n",
       "    .dataframe tbody tr th:only-of-type {\n",
       "        vertical-align: middle;\n",
       "    }\n",
       "\n",
       "    .dataframe tbody tr th {\n",
       "        vertical-align: top;\n",
       "    }\n",
       "\n",
       "    .dataframe thead th {\n",
       "        text-align: right;\n",
       "    }\n",
       "</style>\n",
       "<table border=\"1\" class=\"dataframe\">\n",
       "  <thead>\n",
       "    <tr style=\"text-align: right;\">\n",
       "      <th></th>\n",
       "      <th>hardness</th>\n",
       "      <th>hours</th>\n",
       "    </tr>\n",
       "  </thead>\n",
       "  <tbody>\n",
       "    <tr>\n",
       "      <th>0</th>\n",
       "      <td>199.0</td>\n",
       "      <td>16.0</td>\n",
       "    </tr>\n",
       "    <tr>\n",
       "      <th>1</th>\n",
       "      <td>205.0</td>\n",
       "      <td>16.0</td>\n",
       "    </tr>\n",
       "    <tr>\n",
       "      <th>2</th>\n",
       "      <td>196.0</td>\n",
       "      <td>16.0</td>\n",
       "    </tr>\n",
       "    <tr>\n",
       "      <th>3</th>\n",
       "      <td>200.0</td>\n",
       "      <td>16.0</td>\n",
       "    </tr>\n",
       "    <tr>\n",
       "      <th>4</th>\n",
       "      <td>218.0</td>\n",
       "      <td>24.0</td>\n",
       "    </tr>\n",
       "  </tbody>\n",
       "</table>\n",
       "</div>"
      ],
      "text/plain": [
       "   hardness  hours\n",
       "0     199.0   16.0\n",
       "1     205.0   16.0\n",
       "2     196.0   16.0\n",
       "3     200.0   16.0\n",
       "4     218.0   24.0"
      ]
     },
     "execution_count": 64,
     "metadata": {},
     "output_type": "execute_result"
    }
   ],
   "source": [
    "plastic = pd.read_table(\"http://www.stat.purdue.edu/~minzhang/512_Spring2014/Datasets_files/CH01PR22.DAT\",\n",
    "                       header=None, names=['hardness','hours'],delim_whitespace=True)\n",
    "plastic.head()"
   ]
  },
  {
   "cell_type": "code",
   "execution_count": 65,
   "metadata": {},
   "outputs": [
    {
     "name": "stdout",
     "output_type": "stream",
     "text": [
      "beta = [ 168.6 , 2.034 ]\n",
      "R=0.986, \n",
      "p_value=0.000, \n",
      "stderr=0.090\n"
     ]
    },
    {
     "data": {
      "image/png": "[encoded data removed]",
      "text/plain": [
       "<Figure size 576x432 with 1 Axes>"
      ]
     },
     "metadata": {
      "needs_background": "light"
     },
     "output_type": "display_data"
    }
   ],
   "source": [
    "ols_plot(plastic.hours, 'hours', plastic.hardness, 'hardness')"
   ]
  },
  {
   "cell_type": "markdown",
   "metadata": {},
   "source": [
    "This appears to be a (positive) linear relationship as observations are on the linear line. and the pvalue from the t-test for Beta = 0 is <0.001\n",
    "\n",
    "> Run the linear regression to predict hardness from time. Give\n",
    "i. the linear model used in this problem\n",
    "ii. the estimated regression equation."
   ]
  },
  {
   "cell_type": "code",
   "execution_count": 66,
   "metadata": {},
   "outputs": [
    {
     "name": "stdout",
     "output_type": "stream",
     "text": [
      "                            OLS Regression Results                            \n",
      "==============================================================================\n",
      "Dep. Variable:               hardness   R-squared:                       0.973\n",
      "Model:                            OLS   Adj. R-squared:                  0.971\n",
      "Method:                 Least Squares   F-statistic:                     506.5\n",
      "Date:                Sun, 17 Feb 2019   Prob (F-statistic):           2.16e-12\n",
      "Time:                        07:09:18   Log-Likelihood:                -40.414\n",
      "No. Observations:                  16   AIC:                             84.83\n",
      "Df Residuals:                      14   BIC:                             86.37\n",
      "Df Model:                           1                                         \n",
      "Covariance Type:            nonrobust                                         \n",
      "==============================================================================\n",
      "                 coef    std err          t      P>|t|      [0.025      0.975]\n",
      "------------------------------------------------------------------------------\n",
      "Intercept    168.6000      2.657     63.454      0.000     162.901     174.299\n",
      "hours          2.0344      0.090     22.506      0.000       1.840       2.228\n",
      "==============================================================================\n",
      "Omnibus:                        0.955   Durbin-Watson:                   2.466\n",
      "Prob(Omnibus):                  0.620   Jarque-Bera (JB):                0.711\n",
      "Skew:                           0.068   Prob(JB):                        0.701\n",
      "Kurtosis:                       1.976   Cond. No.                         96.7\n",
      "==============================================================================\n",
      "\n",
      "Warnings:\n",
      "[1] Standard Errors assume that the covariance matrix of the errors is correctly specified.\n"
     ]
    },
    {
     "name": "stderr",
     "output_type": "stream",
     "text": [
      "C:\\Program Files (x86)\\Microsoft Visual Studio\\Shared\\Anaconda3_64\\lib\\site-packages\\scipy\\stats\\stats.py:1394: UserWarning: kurtosistest only valid for n>=20 ... continuing anyway, n=16\n",
      "  \"anyway, n=%i\" % int(n))\n"
     ]
    }
   ],
   "source": [
    "model = smf.ols(formula='hardness~hours', data = plastic).fit()\n",
    "print(model.summary())"
   ]
  },
  {
   "cell_type": "markdown",
   "metadata": {},
   "source": [
    "Regression equation: __y-hat(hardness | hours) = 168.6 + 2.0344 hours__\n",
    "\n",
    "_To answer the question Is there a relationship between x and y?_\n",
    "- The null hypothesis is H0 : β1 = 0, and the alternative is HA : β1 6= 0.\n",
    "- The observed test statistics is t = 22.51\n",
    "\n",
    "Since the estimated slope of the line, b1  is 2.0344 and not 0 and there is a p-value <0.001, we can __reject the null hypothesis__ and conlcude there is sufficent evidence there is  __relationship between hours and hardness for plastic__ in the sample of 16 (14 degreees of freedom). We are 95% confident that for ever additional hour increase increment, the mean hardness rate increases between 1.84 and 2.228.\n",
    "\n",
    "We could also say: __We reject H0 and conclude that the slope is non-zero. So there is a significant linear relationship between hardness and time.__\n",
    "\n",
    "__R-squared = 97%__ this mean that 97% of the variation in plastic hardnes is due to or is explained by hours\n",
    "\n",
    "\n"
   ]
  },
  {
   "cell_type": "markdown",
   "metadata": {},
   "source": [
    "### ... Plastic Continuation HW2 Problem 5-10\n",
    ">Plot the data using proc gplot. Include a smoothed function on the plot by using the i =\n",
    "smnn option on the symbol1 statement, where nn is a number between 1 and 99. Please use\n",
    "the number 70. Is the relationship approximately linear?"
   ]
  },
  {
   "cell_type": "code",
   "execution_count": 81,
   "metadata": {},
   "outputs": [
    {
     "name": "stderr",
     "output_type": "stream",
     "text": [
      "C:\\Program Files (x86)\\Microsoft Visual Studio\\Shared\\Anaconda3_64\\lib\\site-packages\\scipy\\stats\\stats.py:1713: FutureWarning: Using a non-tuple sequence for multidimensional indexing is deprecated; use `arr[tuple(seq)]` instead of `arr[seq]`. In the future this will be interpreted as an array index, `arr[np.array(seq)]`, which will result either in an error or a different result.\n",
      "  return np.add.reduce(sorted[indexer] * weights, axis=axis) / sumval\n"
     ]
    },
    {
     "data": {
      "text/plain": [
       "<matplotlib.axes._subplots.AxesSubplot at 0x157e069e358>"
      ]
     },
     "execution_count": 81,
     "metadata": {},
     "output_type": "execute_result"
    },
    {
     "data": {
      "image/png": "[encoded data removed]",
      "text/plain": [
       "<Figure size 432x288 with 1 Axes>"
      ]
     },
     "metadata": {
      "needs_background": "light"
     },
     "output_type": "display_data"
    }
   ],
   "source": [
    "sns.regplot(x = 'hours', y= 'hardness', data = plastic, lowess=False, \n",
    "            line_kws={\"color\":\"magenta\", \"linewidth\":2}, \n",
    "            scatter_kws={'color':'r', 's':9})\n",
    "\n"
   ]
  },
  {
   "cell_type": "markdown",
   "metadata": {},
   "source": [
    "Yes, the relationship is reasonably linear. There is some slight curvature at lower values of time but nothing substantial.\n"
   ]
  },
  {
   "cell_type": "markdown",
   "metadata": {},
   "source": [
    ">6. Plot the 94% bounds (confidence band) for the mean (use i=rlclm on the symbol1 statement)."
   ]
  },
  {
   "cell_type": "code",
   "execution_count": 79,
   "metadata": {
    "scrolled": false
   },
   "outputs": [
    {
     "name": "stderr",
     "output_type": "stream",
     "text": [
      "C:\\Program Files (x86)\\Microsoft Visual Studio\\Shared\\Anaconda3_64\\lib\\site-packages\\scipy\\stats\\stats.py:1713: FutureWarning: Using a non-tuple sequence for multidimensional indexing is deprecated; use `arr[tuple(seq)]` instead of `arr[seq]`. In the future this will be interpreted as an array index, `arr[np.array(seq)]`, which will result either in an error or a different result.\n",
      "  return np.add.reduce(sorted[indexer] * weights, axis=axis) / sumval\n"
     ]
    },
    {
     "data": {
      "text/plain": [
       "<matplotlib.axes._subplots.AxesSubplot at 0x157e01c4390>"
      ]
     },
     "execution_count": 79,
     "metadata": {},
     "output_type": "execute_result"
    },
    {
     "data": {
      "image/png": "[encoded data removed]",
      "text/plain": [
       "<Figure size 432x288 with 1 Axes>"
      ]
     },
     "metadata": {
      "needs_background": "light"
     },
     "output_type": "display_data"
    }
   ],
   "source": [
    "sns.regplot(x=plastic.hours, y=plastic.hardness, ci=94, scatter_kws={'color':'r', 's':9})"
   ]
  },
  {
   "cell_type": "markdown",
   "metadata": {},
   "source": [
    ">7. Plot the 94% bounds for individual observations (using i=rlcli)."
   ]
  },
  {
   "cell_type": "code",
   "execution_count": 78,
   "metadata": {
    "scrolled": false
   },
   "outputs": [
    {
     "data": {
      "image/png": "[encoded data removed]",
      "text/plain": [
       "<Figure size 720x504 with 1 Axes>"
      ]
     },
     "metadata": {
      "needs_background": "light"
     },
     "output_type": "display_data"
    }
   ],
   "source": [
    "confident_bands_plot(model=model, x=plastic.hours, y=plastic.hardness, alpha=0.04)"
   ]
  },
  {
   "cell_type": "markdown",
   "metadata": {},
   "source": [
    ">8. Give an estimate of the mean hardness that you would expect after 36 and 43 hours; and a\n",
    "94% confidence interval for each estimate. Which confidence interval is wider and why is it\n",
    "wider?\n"
   ]
  },
  {
   "cell_type": "code",
   "execution_count": 87,
   "metadata": {},
   "outputs": [
    {
     "data": {
      "text/html": [
       "<div>\n",
       "<style scoped>\n",
       "    .dataframe tbody tr th:only-of-type {\n",
       "        vertical-align: middle;\n",
       "    }\n",
       "\n",
       "    .dataframe tbody tr th {\n",
       "        vertical-align: top;\n",
       "    }\n",
       "\n",
       "    .dataframe thead th {\n",
       "        text-align: right;\n",
       "    }\n",
       "</style>\n",
       "<table border=\"1\" class=\"dataframe\">\n",
       "  <thead>\n",
       "    <tr style=\"text-align: right;\">\n",
       "      <th></th>\n",
       "      <th>mean</th>\n",
       "      <th>mean_se</th>\n",
       "      <th>mean_ci_lower</th>\n",
       "      <th>mean_ci_upper</th>\n",
       "      <th>obs_ci_lower</th>\n",
       "      <th>obs_ci_upper</th>\n",
       "    </tr>\n",
       "  </thead>\n",
       "  <tbody>\n",
       "    <tr>\n",
       "      <th>0</th>\n",
       "      <td>241.837500</td>\n",
       "      <td>1.084726</td>\n",
       "      <td>239.617968</td>\n",
       "      <td>244.057032</td>\n",
       "      <td>234.857826</td>\n",
       "      <td>248.817174</td>\n",
       "    </tr>\n",
       "    <tr>\n",
       "      <th>1</th>\n",
       "      <td>256.078125</td>\n",
       "      <td>1.578660</td>\n",
       "      <td>252.847920</td>\n",
       "      <td>259.308330</td>\n",
       "      <td>248.714447</td>\n",
       "      <td>263.441803</td>\n",
       "    </tr>\n",
       "  </tbody>\n",
       "</table>\n",
       "</div>"
      ],
      "text/plain": [
       "         mean   mean_se  mean_ci_lower  mean_ci_upper  obs_ci_lower  \\\n",
       "0  241.837500  1.084726     239.617968     244.057032    234.857826   \n",
       "1  256.078125  1.578660     252.847920     259.308330    248.714447   \n",
       "\n",
       "   obs_ci_upper  \n",
       "0    248.817174  \n",
       "1    263.441803  "
      ]
     },
     "execution_count": 87,
     "metadata": {},
     "output_type": "execute_result"
    }
   ],
   "source": [
    "#Statsmodel - prediction for new observation\n",
    "\n",
    "model.get_prediction(pd.DataFrame({'hours':[36, 43]})).summary_frame(alpha=0.06)"
   ]
  },
  {
   "cell_type": "markdown",
   "metadata": {},
   "source": [
    "__Based on the output, the predicted value of `hardness` at 36 hours is 241.84 and at 94% confidence interval for the mean hardness is between 239.62 and 244.06.__\n",
    "\n",
    "__The output also give that at 43 hours, the _predicted hardness_ is 256.08 and at 94% ci for the mean hardness is between 252.85 and 259.31.__\n",
    "\n",
    "__The confidence interval for X = 43 is wider because the value 43 is farther away from the sample mean x-bar than 36. As a result the standard error for the prediciton is larger.__\n",
    "\n",
    "\n",
    "> 9. Give a prediction for the hardness that you would expect for an individual piece of plastic\n",
    "after 43 hours; give a 94% prediction interval for this quantity"
   ]
  },
  {
   "cell_type": "code",
   "execution_count": 91,
   "metadata": {},
   "outputs": [
    {
     "data": {
      "text/html": [
       "<div>\n",
       "<style scoped>\n",
       "    .dataframe tbody tr th:only-of-type {\n",
       "        vertical-align: middle;\n",
       "    }\n",
       "\n",
       "    .dataframe tbody tr th {\n",
       "        vertical-align: top;\n",
       "    }\n",
       "\n",
       "    .dataframe thead th {\n",
       "        text-align: right;\n",
       "    }\n",
       "</style>\n",
       "<table border=\"1\" class=\"dataframe\">\n",
       "  <thead>\n",
       "    <tr style=\"text-align: right;\">\n",
       "      <th></th>\n",
       "      <th>mean</th>\n",
       "      <th>mean_se</th>\n",
       "      <th>mean_ci_lower</th>\n",
       "      <th>mean_ci_upper</th>\n",
       "      <th>obs_ci_lower</th>\n",
       "      <th>obs_ci_upper</th>\n",
       "    </tr>\n",
       "  </thead>\n",
       "  <tbody>\n",
       "    <tr>\n",
       "      <th>0</th>\n",
       "      <td>256.078125</td>\n",
       "      <td>1.57866</td>\n",
       "      <td>252.84792</td>\n",
       "      <td>259.30833</td>\n",
       "      <td>248.714447</td>\n",
       "      <td>263.441803</td>\n",
       "    </tr>\n",
       "  </tbody>\n",
       "</table>\n",
       "</div>"
      ],
      "text/plain": [
       "         mean  mean_se  mean_ci_lower  mean_ci_upper  obs_ci_lower  \\\n",
       "0  256.078125  1.57866      252.84792      259.30833    248.714447   \n",
       "\n",
       "   obs_ci_upper  \n",
       "0    263.441803  "
      ]
     },
     "execution_count": 91,
     "metadata": {},
     "output_type": "execute_result"
    }
   ],
   "source": [
    "model.get_prediction(pd.DataFrame({'hours':[43]})).summary_frame(alpha=0.06)"
   ]
  },
  {
   "cell_type": "markdown",
   "metadata": {},
   "source": [
    "__The _predicted hardness_ is 256.08 after 43 hours; we are 94% confident that the hardness value will fall in the interval 248.71 to 263.44__"
   ]
  },
  {
   "cell_type": "markdown",
   "metadata": {},
   "source": [
    "---\n",
    "## HW 3 - Problem 1\n",
    ">(a) Generate a scatterplot of V vs C. Comment on the shape.\n"
   ]
  },
  {
   "cell_type": "code",
   "execution_count": 93,
   "metadata": {},
   "outputs": [
    {
     "data": {
      "text/html": [
       "<div>\n",
       "<style scoped>\n",
       "    .dataframe tbody tr th:only-of-type {\n",
       "        vertical-align: middle;\n",
       "    }\n",
       "\n",
       "    .dataframe tbody tr th {\n",
       "        vertical-align: top;\n",
       "    }\n",
       "\n",
       "    .dataframe thead th {\n",
       "        text-align: right;\n",
       "    }\n",
       "</style>\n",
       "<table border=\"1\" class=\"dataframe\">\n",
       "  <thead>\n",
       "    <tr style=\"text-align: right;\">\n",
       "      <th></th>\n",
       "      <th>Concentration</th>\n",
       "      <th>Rate</th>\n",
       "    </tr>\n",
       "  </thead>\n",
       "  <tbody>\n",
       "    <tr>\n",
       "      <th>0</th>\n",
       "      <td>0.02</td>\n",
       "      <td>76</td>\n",
       "    </tr>\n",
       "    <tr>\n",
       "      <th>1</th>\n",
       "      <td>0.02</td>\n",
       "      <td>47</td>\n",
       "    </tr>\n",
       "    <tr>\n",
       "      <th>2</th>\n",
       "      <td>0.06</td>\n",
       "      <td>97</td>\n",
       "    </tr>\n",
       "    <tr>\n",
       "      <th>3</th>\n",
       "      <td>0.06</td>\n",
       "      <td>107</td>\n",
       "    </tr>\n",
       "    <tr>\n",
       "      <th>4</th>\n",
       "      <td>0.11</td>\n",
       "      <td>123</td>\n",
       "    </tr>\n",
       "  </tbody>\n",
       "</table>\n",
       "</div>"
      ],
      "text/plain": [
       "   Concentration  Rate\n",
       "0           0.02    76\n",
       "1           0.02    47\n",
       "2           0.06    97\n",
       "3           0.06   107\n",
       "4           0.11   123"
      ]
     },
     "execution_count": 93,
     "metadata": {},
     "output_type": "execute_result"
    }
   ],
   "source": [
    "reaction = pd.read_table(\"./data/reaction.txt\",delim_whitespace=True)\n",
    "reaction.head()"
   ]
  },
  {
   "cell_type": "code",
   "execution_count": 118,
   "metadata": {},
   "outputs": [
    {
     "name": "stdout",
     "output_type": "stream",
     "text": [
      "beta = [ 103.488 , 110.421 ]\n",
      "R=0.831, \n",
      "p_value=0.001, \n",
      "stderr=23.371\n"
     ]
    },
    {
     "data": {
      "image/png": "[encoded data removed]",
      "text/plain": [
       "<Figure size 576x432 with 1 Axes>"
      ]
     },
     "metadata": {
      "needs_background": "light"
     },
     "output_type": "display_data"
    }
   ],
   "source": [
    "ols_plot(reaction.Concentration, 'Concentration', reaction.Rate, 'Rate')"
   ]
  },
  {
   "cell_type": "markdown",
   "metadata": {},
   "source": [
    "Appears to be curved. not linear. needs transformations.__The relationship between V and C does not apper to be linear. V increases rapidly for small values of C but tends to level off as C approaches 1.__\n",
    "\n",
    ">(b) Define new variables for 1\n",
    "V\n",
    "and 1\n",
    "C\n",
    "in SAS, and generate a scatterplot of the new variables.\n",
    "Does the fit appear linear? Do any assumptions appear to be violated? The new variables\n",
    "can be defined as follows (if the dataset original contains the raw data):\n"
   ]
  },
  {
   "cell_type": "code",
   "execution_count": 97,
   "metadata": {},
   "outputs": [],
   "source": [
    "reaction['vinv'] = 1/reaction.Rate\n",
    "reaction['cinv'] = 1/reaction.Concentration"
   ]
  },
  {
   "cell_type": "code",
   "execution_count": 98,
   "metadata": {},
   "outputs": [
    {
     "name": "stdout",
     "output_type": "stream",
     "text": [
      "beta = [ -15.681 , 3461.255 ]\n",
      "R=0.925, \n",
      "p_value=0.000, \n",
      "stderr=449.485\n"
     ]
    },
    {
     "data": {
      "image/png": "[encoded data removed]",
      "text/plain": [
       "<Figure size 576x432 with 1 Axes>"
      ]
     },
     "metadata": {
      "needs_background": "light"
     },
     "output_type": "display_data"
    }
   ],
   "source": [
    "ols_plot(reaction.vinv, 'Rate', reaction.cinv, 'Concentration')"
   ]
  },
  {
   "cell_type": "markdown",
   "metadata": {},
   "source": [
    "Linearity has a better fit, howevr there can be some concern abour __equal variance vilation__ since the observations with 1/C appear must larger residuals than do the over observations. \n",
    "\n",
    "> How is the distribution of 1\n",
    "C\n",
    "different from the distribution of C? Are there any points\n",
    "that may be more influential in determining the fit?\n",
    "\n",
    "\n",
    "\n",
    "the distribution is definitely different, there fit is better wth the 1/x transformation. I would say observations > 0.013 rate have __some leverage and some influence__ but not anything extreme. \n",
    "\n",
    ">(d) Determine the least squares regression line for 1\n",
    "V\n",
    "vs 1\n",
    "C\n",
    ". Save the residuals and predicted\n",
    "values. Does the residual plot suggest any problems?\n"
   ]
  },
  {
   "cell_type": "code",
   "execution_count": 119,
   "metadata": {},
   "outputs": [
    {
     "name": "stdout",
     "output_type": "stream",
     "text": [
      "                            OLS Regression Results                            \n",
      "==============================================================================\n",
      "Dep. Variable:                   vinv   R-squared:                       0.856\n",
      "Model:                            OLS   Adj. R-squared:                  0.841\n",
      "Method:                 Least Squares   F-statistic:                     59.30\n",
      "Date:                Mon, 18 Feb 2019   Prob (F-statistic):           1.64e-05\n",
      "Time:                        09:39:19   Log-Likelihood:                 59.306\n",
      "No. Observations:                  12   AIC:                            -114.6\n",
      "Df Residuals:                      10   BIC:                            -113.6\n",
      "Df Model:                           1                                         \n",
      "Covariance Type:            nonrobust                                         \n",
      "==============================================================================\n",
      "                 coef    std err          t      P>|t|      [0.025      0.975]\n",
      "------------------------------------------------------------------------------\n",
      "Intercept      0.0051      0.001      7.255      0.000       0.004       0.007\n",
      "cinv           0.0002   3.21e-05      7.700      0.000       0.000       0.000\n",
      "==============================================================================\n",
      "Omnibus:                        6.149   Durbin-Watson:                   2.130\n",
      "Prob(Omnibus):                  0.046   Jarque-Bera (JB):                2.747\n",
      "Skew:                          -0.379   Prob(JB):                        0.253\n",
      "Kurtosis:                       5.218   Cond. No.                         28.3\n",
      "==============================================================================\n",
      "\n",
      "Warnings:\n",
      "[1] Standard Errors assume that the covariance matrix of the errors is correctly specified.\n"
     ]
    },
    {
     "name": "stderr",
     "output_type": "stream",
     "text": [
      "C:\\Program Files (x86)\\Microsoft Visual Studio\\Shared\\Anaconda3_64\\lib\\site-packages\\scipy\\stats\\stats.py:1394: UserWarning: kurtosistest only valid for n>=20 ... continuing anyway, n=12\n",
      "  \"anyway, n=%i\" % int(n))\n"
     ]
    },
    {
     "data": {
      "text/plain": [
       "<matplotlib.axes._subplots.AxesSubplot at 0x157e1f36cf8>"
      ]
     },
     "execution_count": 119,
     "metadata": {},
     "output_type": "execute_result"
    },
    {
     "data": {
      "image/png": "[encoded data removed]",
      "text/plain": [
       "<Figure size 432x288 with 1 Axes>"
      ]
     },
     "metadata": {
      "needs_background": "light"
     },
     "output_type": "display_data"
    }
   ],
   "source": [
    "reaction_model = smf.ols(formula='vinv~cinv', data = reaction).fit()\n",
    "print(reaction_model.summary())\n",
    "sns.residplot(x = reaction_model.fittedvalues, y = reaction_model.resid)"
   ]
  },
  {
   "cell_type": "markdown",
   "metadata": {},
   "source": [
    "There is definitely violation in equal variance. some transformaion needs to occur.\n",
    "\n",
    "Least Squares equation = _y = 0.0051 + 0.0002 cinv_\n",
    "\n",
    ">(e) Convert this regression line back into the original nonlinear model and plot the predicted\n",
    "curve on a scatterplot of V vs C. Comment on the fit. To generate the predicted curve,\n",
    "simply take the predicted values from the regression model and “re-invert” them. For\n",
    "example, suppose results is the data set containing the residuals and predicted values\n",
    "(variable pred)"
   ]
  },
  {
   "cell_type": "code",
   "execution_count": 122,
   "metadata": {},
   "outputs": [
    {
     "data": {
      "text/plain": [
       "<matplotlib.axes._subplots.AxesSubplot at 0x157e32ca550>"
      ]
     },
     "execution_count": 122,
     "metadata": {},
     "output_type": "execute_result"
    },
    {
     "data": {
      "image/png": "[encoded data removed]",
      "text/plain": [
       "<Figure size 432x288 with 1 Axes>"
      ]
     },
     "metadata": {
      "needs_background": "light"
     },
     "output_type": "display_data"
    }
   ],
   "source": [
    "reaction_model = smf.ols(formula='Concentration~Rate', data = reaction).fit()\n",
    "sns.residplot(x = reaction_model.fittedvalues, y = reaction_model.resid)"
   ]
  },
  {
   "cell_type": "markdown",
   "metadata": {},
   "source": [
    "using the original residual fits plot confirms our initial theory that data was non-linear as the above regression plot show a non-random patten around the 0 line. "
   ]
  },
  {
   "cell_type": "markdown",
   "metadata": {},
   "source": [
    "---\n",
    "## HW 4 Problem 5 - Assumption and Diagonstics\n",
    "\n",
    "> For the following 5 problems, consider the data given in the file CH06PR18.DAT,\n",
    "which describes a data set (n = 24) used to evaluate the relation between intermediate and senior level annual salaries of bachelor’s and master’s level mathematicians (Y , in thousand dollars) and an index of work quality (X1), number of\n",
    "years of experience (X2), and an index of publication success (X3).\n"
   ]
  },
  {
   "cell_type": "code",
   "execution_count": 124,
   "metadata": {},
   "outputs": [
    {
     "data": {
      "text/html": [
       "<div>\n",
       "<style scoped>\n",
       "    .dataframe tbody tr th:only-of-type {\n",
       "        vertical-align: middle;\n",
       "    }\n",
       "\n",
       "    .dataframe tbody tr th {\n",
       "        vertical-align: top;\n",
       "    }\n",
       "\n",
       "    .dataframe thead th {\n",
       "        text-align: right;\n",
       "    }\n",
       "</style>\n",
       "<table border=\"1\" class=\"dataframe\">\n",
       "  <thead>\n",
       "    <tr style=\"text-align: right;\">\n",
       "      <th></th>\n",
       "      <th>y</th>\n",
       "      <th>x1</th>\n",
       "      <th>x2</th>\n",
       "      <th>x3</th>\n",
       "    </tr>\n",
       "  </thead>\n",
       "  <tbody>\n",
       "    <tr>\n",
       "      <th>0</th>\n",
       "      <td>33.2</td>\n",
       "      <td>3.5</td>\n",
       "      <td>9.0</td>\n",
       "      <td>6.1</td>\n",
       "    </tr>\n",
       "    <tr>\n",
       "      <th>1</th>\n",
       "      <td>40.3</td>\n",
       "      <td>5.3</td>\n",
       "      <td>20.0</td>\n",
       "      <td>6.4</td>\n",
       "    </tr>\n",
       "    <tr>\n",
       "      <th>2</th>\n",
       "      <td>38.7</td>\n",
       "      <td>5.1</td>\n",
       "      <td>18.0</td>\n",
       "      <td>7.4</td>\n",
       "    </tr>\n",
       "    <tr>\n",
       "      <th>3</th>\n",
       "      <td>46.8</td>\n",
       "      <td>5.8</td>\n",
       "      <td>33.0</td>\n",
       "      <td>6.7</td>\n",
       "    </tr>\n",
       "    <tr>\n",
       "      <th>4</th>\n",
       "      <td>41.4</td>\n",
       "      <td>4.2</td>\n",
       "      <td>31.0</td>\n",
       "      <td>7.5</td>\n",
       "    </tr>\n",
       "  </tbody>\n",
       "</table>\n",
       "</div>"
      ],
      "text/plain": [
       "      y   x1    x2   x3\n",
       "0  33.2  3.5   9.0  6.1\n",
       "1  40.3  5.3  20.0  6.4\n",
       "2  38.7  5.1  18.0  7.4\n",
       "3  46.8  5.8  33.0  6.7\n",
       "4  41.4  4.2  31.0  7.5"
      ]
     },
     "execution_count": 124,
     "metadata": {},
     "output_type": "execute_result"
    }
   ],
   "source": [
    "school = pd.read_table(\"http://www.stat.purdue.edu/~minzhang/512_Spring2014/Datasets_files/CH06PR18.DAT\",\n",
    "                      header=None, names=['y','x1','x2','x3'],delim_whitespace=True)\n",
    "school.head()"
   ]
  },
  {
   "cell_type": "markdown",
   "metadata": {},
   "source": [
    ">3. Run the multiple linear regression with quality, experience, and publications as the explanatory variables and salary as the response variable. Summarize the regression results by giving\n",
    "the fitted regression equation, the value of R2\n",
    ", and the results of the significance test for the\n",
    "null hypothesis that the three regression coefficients for the explanatory variables are all zero\n",
    "(give null and alternative hypotheses, test statistic with degrees of freedom, p-value, and brief\n",
    "conclusion in words).\n",
    "\n",
    "> 4. Give 94% confidence intervals (do not use a Bonferroni correction) for regression coefficients of quality, experience, and publications based on the multiple regression. Describe the results of the hypothesis tests for the individual regression coefficients (give null and alternative hypotheses, test statistic with degrees of freedom, p-value, and a brief conclusion in words). What is the relationship between these results and the confidence intervals?\n",
    "\n",
    "> 5. Plot the residuals versus the predicted salary and each of the explanatory variables (i.e., 4\n",
    "residual plots). Are there any unusual patterns?\n"
   ]
  },
  {
   "cell_type": "code",
   "execution_count": 127,
   "metadata": {},
   "outputs": [
    {
     "name": "stdout",
     "output_type": "stream",
     "text": [
      "                            OLS Regression Results                            \n",
      "==============================================================================\n",
      "Dep. Variable:                      y   R-squared:                       0.911\n",
      "Model:                            OLS   Adj. R-squared:                  0.897\n",
      "Method:                 Least Squares   F-statistic:                     68.12\n",
      "Date:                Mon, 18 Feb 2019   Prob (F-statistic):           1.12e-10\n",
      "Time:                        10:02:00   Log-Likelihood:                -45.335\n",
      "No. Observations:                  24   AIC:                             98.67\n",
      "Df Residuals:                      20   BIC:                             103.4\n",
      "Df Model:                           3                                         \n",
      "Covariance Type:            nonrobust                                         \n",
      "==============================================================================\n",
      "                 coef    std err          t      P>|t|       [0.03       0.97]\n",
      "------------------------------------------------------------------------------\n",
      "Intercept     17.8469      2.002      8.915      0.000      13.856      21.838\n",
      "x1             1.1031      0.330      3.347      0.003       0.446       1.760\n",
      "x2             0.3215      0.037      8.664      0.000       0.248       0.396\n",
      "x3             1.2889      0.298      4.318      0.000       0.694       1.884\n",
      "==============================================================================\n",
      "Omnibus:                        0.311   Durbin-Watson:                   2.335\n",
      "Prob(Omnibus):                  0.856   Jarque-Bera (JB):                0.332\n",
      "Skew:                          -0.231   Prob(JB):                        0.847\n",
      "Kurtosis:                       2.656   Cond. No.                         160.\n",
      "==============================================================================\n",
      "\n",
      "Warnings:\n",
      "[1] Standard Errors assume that the covariance matrix of the errors is correctly specified.\n"
     ]
    },
    {
     "data": {
      "image/png": "[encoded data removed]",
      "text/plain": [
       "<Figure size 432x288 with 1 Axes>"
      ]
     },
     "metadata": {
      "needs_background": "light"
     },
     "output_type": "display_data"
    },
    {
     "data": {
      "image/png": "[encoded data removed]",
      "text/plain": [
       "<Figure size 432x288 with 1 Axes>"
      ]
     },
     "metadata": {
      "needs_background": "light"
     },
     "output_type": "display_data"
    }
   ],
   "source": [
    "school_model = smf.ols(formula='y ~ x1 + x2 + x3', data = school).fit()\n",
    "print(school_model.summary(alpha = 0.06))\n",
    "sns.residplot(x = school_model.fittedvalues, y = school_model.resid);\n",
    "sm.qqplot(school_model.resid, line='r');"
   ]
  },
  {
   "cell_type": "markdown",
   "metadata": {},
   "source": [
    "__Fitted Regression Equations:__ y = 17.85 + 1 x1 + 0.32 x2 + 1.29 x3\n",
    "\n",
    "- __R-squared = 91%__ this mean that 91% of the variance can be descibed by the model using x1, x2 and x3 variables. \n",
    "- __Significance Test__ - with all explainatory variables p-value < 0.001, we can __reject the null hypothesis in favor for the alternative hyptoehsis HA: betas do not equal 0__ with sufficent evidence to conclude that  __at least one of the explanatory variables has a significant linear relationship with salary (y).__   \n",
    "    - H0 : β1 = β2 = β3 = 0 (all regression coefficients are zero) \n",
    "    - HA : at least one regression coefficient is nonzero\n",
    "\n",
    "\n",
    "- __Confidence Interval__ - The 94% confidence intervals are [0.44, 1.76], [0.247, 0.395], and [0.69, 1.884] for the coefficnets on x1, x2, and x3, respectively. For all of the coeffiences, __we reject the null hypothesis__ and conclude the explainatory variables __has a significant linear relationship with salary (y), that each of these null hyptohesises was rejected is ocnsistent with the finding that none of the confidence internvals contain 0.__ \n",
    "\n",
    "\n",
    "- __Residual vs Predicted__ - There do not appear to be any obvious deviations from a random scatter of points. The assumptions of linearity and constant variance do not seem to be violated in any obvious way.\n",
    "\n",
    "\n",
    "- __QQ Plot__ - __The residuals appear to be fairly normal.__ normality assumption met as observations about the linear line, however there is some curvature in the s shape, however, nothing significant. \n",
    "\n",
    "> 7. Predict the salary for a mathematician with quality index equal to 5.6, 12 years of experience,\n",
    "and publication index equal to 6.2 . Provide a 94% prediction interval with your prediction."
   ]
  },
  {
   "cell_type": "code",
   "execution_count": 129,
   "metadata": {},
   "outputs": [
    {
     "data": {
      "text/html": [
       "<div>\n",
       "<style scoped>\n",
       "    .dataframe tbody tr th:only-of-type {\n",
       "        vertical-align: middle;\n",
       "    }\n",
       "\n",
       "    .dataframe tbody tr th {\n",
       "        vertical-align: top;\n",
       "    }\n",
       "\n",
       "    .dataframe thead th {\n",
       "        text-align: right;\n",
       "    }\n",
       "</style>\n",
       "<table border=\"1\" class=\"dataframe\">\n",
       "  <thead>\n",
       "    <tr style=\"text-align: right;\">\n",
       "      <th></th>\n",
       "      <th>mean</th>\n",
       "      <th>mean_se</th>\n",
       "      <th>mean_ci_lower</th>\n",
       "      <th>mean_ci_upper</th>\n",
       "      <th>obs_ci_lower</th>\n",
       "      <th>obs_ci_upper</th>\n",
       "    </tr>\n",
       "  </thead>\n",
       "  <tbody>\n",
       "    <tr>\n",
       "      <th>0</th>\n",
       "      <td>35.874131</td>\n",
       "      <td>0.637902</td>\n",
       "      <td>34.602338</td>\n",
       "      <td>37.145923</td>\n",
       "      <td>32.155406</td>\n",
       "      <td>39.592856</td>\n",
       "    </tr>\n",
       "  </tbody>\n",
       "</table>\n",
       "</div>"
      ],
      "text/plain": [
       "        mean   mean_se  mean_ci_lower  mean_ci_upper  obs_ci_lower  \\\n",
       "0  35.874131  0.637902      34.602338      37.145923     32.155406   \n",
       "\n",
       "   obs_ci_upper  \n",
       "0     39.592856  "
      ]
     },
     "execution_count": 129,
     "metadata": {},
     "output_type": "execute_result"
    }
   ],
   "source": [
    "school_model.get_prediction(pd.DataFrame({'x1':[5.6],\n",
    "                                       'x2':[12],\n",
    "                                       'x3':[6.2]})).summary_frame(alpha=0.06)"
   ]
  },
  {
   "cell_type": "markdown",
   "metadata": {},
   "source": [
    "__The model predicts a salary of 358741__, with a 94% interval of 32.15 and 39.59"
   ]
  },
  {
   "cell_type": "markdown",
   "metadata": {},
   "source": [
    "---\n",
    "## HW 5 - Problem 1 - Extra Sum of Squares\n",
    "\n",
    "> 1. In this exercise you will illustrate some of the ideas described in Chapter 7 of the text related\n",
    "to the extra sums of squares.\n",
    "(c) Compare the test statistic and p-value from the test statement with the individual t-test\n",
    "for the coefficient of the SAT variable in the full model. Explain the relationship.\n"
   ]
  },
  {
   "cell_type": "code",
   "execution_count": 179,
   "metadata": {},
   "outputs": [
    {
     "data": {
      "text/html": [
       "<div>\n",
       "<style scoped>\n",
       "    .dataframe tbody tr th:only-of-type {\n",
       "        vertical-align: middle;\n",
       "    }\n",
       "\n",
       "    .dataframe tbody tr th {\n",
       "        vertical-align: top;\n",
       "    }\n",
       "\n",
       "    .dataframe thead th {\n",
       "        text-align: right;\n",
       "    }\n",
       "</style>\n",
       "<table border=\"1\" class=\"dataframe\">\n",
       "  <thead>\n",
       "    <tr style=\"text-align: right;\">\n",
       "      <th></th>\n",
       "      <th>id</th>\n",
       "      <th>gpa</th>\n",
       "      <th>HSM</th>\n",
       "      <th>HSS</th>\n",
       "      <th>HSE</th>\n",
       "      <th>SATM</th>\n",
       "      <th>SATV</th>\n",
       "      <th>Gender</th>\n",
       "    </tr>\n",
       "  </thead>\n",
       "  <tbody>\n",
       "    <tr>\n",
       "      <th>0</th>\n",
       "      <td>1</td>\n",
       "      <td>3.32</td>\n",
       "      <td>10</td>\n",
       "      <td>10</td>\n",
       "      <td>10</td>\n",
       "      <td>670</td>\n",
       "      <td>600</td>\n",
       "      <td>1</td>\n",
       "    </tr>\n",
       "    <tr>\n",
       "      <th>1</th>\n",
       "      <td>2</td>\n",
       "      <td>2.26</td>\n",
       "      <td>6</td>\n",
       "      <td>8</td>\n",
       "      <td>5</td>\n",
       "      <td>700</td>\n",
       "      <td>640</td>\n",
       "      <td>1</td>\n",
       "    </tr>\n",
       "    <tr>\n",
       "      <th>2</th>\n",
       "      <td>3</td>\n",
       "      <td>2.35</td>\n",
       "      <td>8</td>\n",
       "      <td>6</td>\n",
       "      <td>8</td>\n",
       "      <td>640</td>\n",
       "      <td>530</td>\n",
       "      <td>1</td>\n",
       "    </tr>\n",
       "    <tr>\n",
       "      <th>3</th>\n",
       "      <td>4</td>\n",
       "      <td>2.08</td>\n",
       "      <td>9</td>\n",
       "      <td>10</td>\n",
       "      <td>7</td>\n",
       "      <td>670</td>\n",
       "      <td>600</td>\n",
       "      <td>1</td>\n",
       "    </tr>\n",
       "    <tr>\n",
       "      <th>4</th>\n",
       "      <td>5</td>\n",
       "      <td>3.38</td>\n",
       "      <td>8</td>\n",
       "      <td>9</td>\n",
       "      <td>8</td>\n",
       "      <td>540</td>\n",
       "      <td>580</td>\n",
       "      <td>1</td>\n",
       "    </tr>\n",
       "  </tbody>\n",
       "</table>\n",
       "</div>"
      ],
      "text/plain": [
       "   id   gpa  HSM  HSS  HSE  SATM  SATV  Gender\n",
       "0   1  3.32   10   10   10   670   600       1\n",
       "1   2  2.26    6    8    5   700   640       1\n",
       "2   3  2.35    8    6    8   640   530       1\n",
       "3   4  2.08    9   10    7   670   600       1\n",
       "4   5  3.38    8    9    8   540   580       1"
      ]
     },
     "execution_count": 179,
     "metadata": {},
     "output_type": "execute_result"
    }
   ],
   "source": [
    "school = pd.read_table(\"http://www.stat.purdue.edu/~minzhang/512_Spring2014/Datasets_files/csdata.dat\",\n",
    "                      header=None, names=['id','gpa','HSM','HSS', 'HSE', 'SATM', 'SATV', 'Gender'],\n",
    "                       delim_whitespace=True)\n",
    "school.head()"
   ]
  },
  {
   "cell_type": "markdown",
   "metadata": {},
   "source": [
    ">(a) Create a new variable called SAT which equals SATM + SATV and run the following two\n",
    "regressions:\n",
    "i. predict GPA using HSM, HSS, and HSE;\n",
    "ii. predict GPA using SAT, HSM, HSS, and HSE. Calculate the extra sum of squares for the comparison of these two analyses. Use it to\n",
    "construct the F-statistic – in other words, the general linear test statistic – for testing\n",
    "the null hypothesis that the coefficient of the SAT variable is zero in the model with all\n",
    "four predictors. What are the degrees of freedom for this test statistic?\n"
   ]
  },
  {
   "cell_type": "code",
   "execution_count": 183,
   "metadata": {},
   "outputs": [
    {
     "name": "stdout",
     "output_type": "stream",
     "text": [
      "SSR:  9.237443774851078\n",
      "             df      sum_sq    mean_sq          F        PR(>F)\n",
      "HSM         1.0   25.809894  25.809894  52.697471  6.621186e-12\n",
      "HSS         1.0    1.237079   1.237079   2.525812  1.134332e-01\n",
      "HSE         1.0    0.665359   0.665359   1.358499  2.450599e-01\n",
      "Residual  220.0  107.750458   0.489775        NaN           NaN\n"
     ]
    }
   ],
   "source": [
    "school['SAT'] = school.SATM + school.SATV\n",
    "model1 = smf.ols(formula='gpa~HSM + HSS + HSE', data = school).fit()\n",
    "print(\"SSR: \", model1.mse_model)\n",
    "print(sm.stats.anova_lm(model1))"
   ]
  },
  {
   "cell_type": "code",
   "execution_count": 184,
   "metadata": {},
   "outputs": [
    {
     "name": "stdout",
     "output_type": "stream",
     "text": [
      "SSR:  6.971865745294519\n",
      "             df      sum_sq    mean_sq          F        PR(>F)\n",
      "SAT         1.0    6.041708   6.041708  12.299605  5.495738e-04\n",
      "HSM         1.0   20.039038  20.039038  40.795128  9.995157e-10\n",
      "HSS         1.0    1.142117   1.142117   2.325102  1.287447e-01\n",
      "HSE         1.0    0.664601   0.664601   1.352983  2.460232e-01\n",
      "Residual  219.0  107.575326   0.491212        NaN           NaN\n"
     ]
    }
   ],
   "source": [
    "model2 = smf.ols(formula='gpa~SAT + HSM + HSS + HSE', data = school).fit()\n",
    "print(\"SSR: \", model2.mse_model)\n",
    "print(sm.stats.anova_lm(model2))"
   ]
  },
  {
   "cell_type": "markdown",
   "metadata": {},
   "source": [
    "Calculating __General Linear test statistics__ consturction of f-statistic for ___EXTRA SUM OF SQUARES___\n",
    "\n",
    "SSM(sat|hsm, hss, hse) = SSE(hsm, hss, hse) − SSE(sat, hsm, hss, hse)\n"
   ]
  },
  {
   "cell_type": "code",
   "execution_count": 188,
   "metadata": {},
   "outputs": [
    {
     "name": "stdout",
     "output_type": "stream",
     "text": [
      "SSM(sat|hsm, hss, hse):  0.175\n"
     ]
    }
   ],
   "source": [
    "print(\"SSM(sat|hsm, hss, hse): \", round(model1.ssr - model2.ssr, 3))"
   ]
  },
  {
   "cell_type": "markdown",
   "metadata": {},
   "source": [
    "or\n",
    "\n",
    "SSM(sat|hsm, hss, hse) = SSM(sat, hsm, hss, hse) − SSM(hsm, hss, hse)"
   ]
  },
  {
   "cell_type": "code",
   "execution_count": 191,
   "metadata": {},
   "outputs": [
    {
     "name": "stdout",
     "output_type": "stream",
     "text": [
      "SSM(sat|hsm, hss, hse):  0.175\n"
     ]
    }
   ],
   "source": [
    "print(\"SSM(sat|hsm, hss, hse): \", round(model2.ess - model1.ess, 3))"
   ]
  },
  {
   "cell_type": "markdown",
   "metadata": {},
   "source": [
    "F = SSM(sat|hsm, hss, hse)/1 / MSE(full)"
   ]
  },
  {
   "cell_type": "code",
   "execution_count": 202,
   "metadata": {},
   "outputs": [
    {
     "name": "stdout",
     "output_type": "stream",
     "text": [
      "F Ststistic:  0.357\n"
     ]
    }
   ],
   "source": [
    "print(\"F Ststistic: \",round((((model2.ess - model1.ess)/1)/model2.mse_resid),3))"
   ]
  },
  {
   "cell_type": "markdown",
   "metadata": {},
   "source": [
    "When testing tha the null hyptoshes that SAT is zero, we __FTR the null hypothesis__ with alpha = 0.05, __There is no evidence of a linear relationship with SAT when HSM, HSE, and HSS are in the model.__\n",
    "\n",
    "__The degrees of freedom for the numerator are (220 − 219) = (4 − 3) = 1__\n",
    "\n",
    ">(b) Use the test statement in proc reg to obtain the same test statistic. Give the statistic,\n",
    "degrees of freedom, p-value and conclusion.\n"
   ]
  },
  {
   "cell_type": "markdown",
   "metadata": {},
   "source": [
    "> (c) Compare the test statistic and p-value from the test statement with the individual t-test\n",
    "for the coefficient of the SAT variable in the full model. Explain the relationship.\n"
   ]
  },
  {
   "cell_type": "code",
   "execution_count": 207,
   "metadata": {},
   "outputs": [
    {
     "name": "stdout",
     "output_type": "stream",
     "text": [
      "                            OLS Regression Results                            \n",
      "==============================================================================\n",
      "Dep. Variable:                    gpa   R-squared:                       0.206\n",
      "Model:                            OLS   Adj. R-squared:                  0.191\n",
      "Method:                 Least Squares   F-statistic:                     14.19\n",
      "Date:                Mon, 18 Feb 2019   Prob (F-statistic):           2.57e-10\n",
      "Time:                        11:16:30   Log-Likelihood:                -235.70\n",
      "No. Observations:                 224   AIC:                             481.4\n",
      "Df Residuals:                     219   BIC:                             498.4\n",
      "Df Model:                           4                                         \n",
      "Covariance Type:            nonrobust                                         \n",
      "==============================================================================\n",
      "                 coef    std err          t      P>|t|      [0.025      0.975]\n",
      "------------------------------------------------------------------------------\n",
      "Intercept      0.4368      0.391      1.119      0.265      -0.333       1.207\n",
      "SAT            0.0002      0.000      0.597      0.551      -0.000       0.001\n",
      "HSM            0.1624      0.037      4.390      0.000       0.090       0.235\n",
      "HSS            0.0325      0.038      0.860      0.391      -0.042       0.107\n",
      "HSE            0.0451      0.039      1.163      0.246      -0.031       0.121\n",
      "==============================================================================\n",
      "Omnibus:                       15.392   Durbin-Watson:                   1.777\n",
      "Prob(Omnibus):                  0.000   Jarque-Bera (JB):               16.554\n",
      "Skew:                          -0.615   Prob(JB):                     0.000254\n",
      "Kurtosis:                       3.508   Cond. No.                     9.27e+03\n",
      "==============================================================================\n",
      "\n",
      "Warnings:\n",
      "[1] Standard Errors assume that the covariance matrix of the errors is correctly specified.\n",
      "[2] The condition number is large, 9.27e+03. This might indicate that there are\n",
      "strong multicollinearity or other numerical problems.\n"
     ]
    }
   ],
   "source": [
    "print(model2.summary())"
   ]
  },
  {
   "cell_type": "markdown",
   "metadata": {},
   "source": [
    "- t-statistic = 0.60 (consistent with the other test where F = t^2 = 0.36\n",
    "- p-values for the two test are the same p_value = 0.551\\\n",
    "- __both are testing thes same null hypothesis: namely, that the coefficient of SAT is equal to zero when the three high school scoers are incldued in the model__"
   ]
  },
  {
   "cell_type": "markdown",
   "metadata": {},
   "source": [
    "__>2. Run the regression to predict GPA using SATM, SATV, HSM, HSE, and HSS. Put the variables in\n",
    "the order given above in the model statement. Use the SS1 and SS2 options in the model\n",
    "statement. (a) Add the Type I sums of squares for the five predictor variables. Do the same for the\n",
    "Type II sums of squares. Do either of these sum to the model sum of squares? Are there\n",
    "any predictors for which the two sums of squares (Type I and Type II) are the same?\n",
    "Explain why__"
   ]
  },
  {
   "cell_type": "code",
   "execution_count": 147,
   "metadata": {},
   "outputs": [
    {
     "name": "stdout",
     "output_type": "stream",
     "text": [
      "             df      sum_sq    mean_sq          F        PR(>F)\n",
      "SATM        1.0    8.582934   8.582934  17.516331  4.131886e-05\n",
      "SATV        1.0    0.000905   0.000905   0.001848  9.657505e-01\n",
      "HSM         1.0   17.726470  17.726470  36.176759  7.522086e-09\n",
      "HSE         1.0    1.891193   1.891193   3.859608  5.073235e-02\n",
      "HSS         1.0    0.442143   0.442143   0.902341  3.432068e-01\n",
      "Residual  218.0  106.819144   0.489996        NaN           NaN\n",
      "\n",
      " ANOVA Type II\n",
      "              sum_sq     df          F    PR(>F)\n",
      "SATM        0.927999    1.0   1.893890  0.170176\n",
      "SATV        0.232652    1.0   0.474804  0.491518\n",
      "HSM         6.772431    1.0  13.821399  0.000256\n",
      "HSE         0.956804    1.0   1.952677  0.163719\n",
      "HSS         0.442143    1.0   0.902341  0.343207\n",
      "Residual  106.819144  218.0        NaN       NaN\n",
      "\n",
      " ANOVA Type III\n",
      "               sum_sq     df          F    PR(>F)\n",
      "Intercept    0.326910    1.0   0.667169  0.414932\n",
      "SATM         0.927999    1.0   1.893890  0.170176\n",
      "SATV         0.232652    1.0   0.474804  0.491518\n",
      "HSM          6.772431    1.0  13.821399  0.000256\n",
      "HSE          0.956804    1.0   1.952677  0.163719\n",
      "HSS          0.442143    1.0   0.902341  0.343207\n",
      "Residual   106.819144  218.0        NaN       NaN\n"
     ]
    }
   ],
   "source": [
    "model = smf.ols(formula='gpa~SATM +  SATV + HSM + HSE + HSS', data = school).fit()\n",
    "print(sm.stats.anova_lm(model, typ=1))\n",
    "print(\"\\n ANOVA Type II\")\n",
    "print(sm.stats.anova_lm(model, typ=2))\n",
    "print(\"\\n ANOVA Type III\")\n",
    "print(sm.stats.anova_lm(model, typ=3))"
   ]
  },
  {
   "cell_type": "markdown",
   "metadata": {},
   "source": [
    "- __Type I SS = 28.64__\n",
    "- __Type II SS = 9.33__\n",
    "- __The TypeI and II SS are the same for `HSS` since it is last in the list__, so they both represent SSM(hss|satm, satv, hsm, hse).\n",
    "\n",
    ">3. Create an additional variable called HS that is the sum of the three high school scores (HSE +HSS + HSM). Run the regression to predict GPA using a variety of variables, including HS and\n",
    "SAT, as described below. Summarize the results by making a table giving the percentage of\n",
    "variation explained (R2 ) by each of the following models:\n"
   ]
  },
  {
   "cell_type": "code",
   "execution_count": 162,
   "metadata": {},
   "outputs": [],
   "source": [
    "school['HS'] = school.HSE + school.HSS + school.HSM\n",
    "r_table = []"
   ]
  },
  {
   "cell_type": "code",
   "execution_count": 173,
   "metadata": {},
   "outputs": [],
   "source": [
    "model = smf.ols(formula='gpa~SAT + HS', data = school).fit()\n",
    "r_table.append(model.rsquared)"
   ]
  },
  {
   "cell_type": "code",
   "execution_count": 176,
   "metadata": {},
   "outputs": [
    {
     "data": {
      "text/plain": [
       "[0.06336008343426902,\n",
       " 0.013108064824862264,\n",
       " 0.19053124440456515,\n",
       " 0.10852105117420752,\n",
       " 0.08352172315462303,\n",
       " 0.06336676788393558,\n",
       " 0.04460049625315998,\n",
       " 0.20457523104320108,\n",
       " 0.1803411417648374,\n",
       " 0.21145028193144433,\n",
       " 0.1842274660342561]"
      ]
     },
     "execution_count": 176,
     "metadata": {},
     "output_type": "execute_result"
    }
   ],
   "source": [
    "r_table"
   ]
  },
  {
   "cell_type": "markdown",
   "metadata": {},
   "source": [
    "it appears that `(j) SATM, SATV, HSM, HSS, and HSE as the explanatory variables` had the highest R2 value. "
   ]
  },
  {
   "cell_type": "markdown",
   "metadata": {},
   "source": [
    "---\n",
    "## HW 6 \n",
    "\n",
    "> 1. In a data step, create a new variable GENDERW that has values 1 for women and 0 for men\n",
    "(use arithmetic on the original variable GENDER). Run a regression to predict GPA using the\n",
    "explanatory variables HSM, HSS, HSE, SATM, SATV, and GENDERW. (Do not include any interaction\n",
    "terms.)\n",
    "    - (a) Give the equation of the fitted regression line using all six explanatory variables.\n",
    "    - (b) Give the fitted regression line for women (use part a).\n",
    "    - (c) Give the fitted regression line for men (use part a)."
   ]
  },
  {
   "cell_type": "code",
   "execution_count": 213,
   "metadata": {},
   "outputs": [
    {
     "data": {
      "text/html": [
       "<div>\n",
       "<style scoped>\n",
       "    .dataframe tbody tr th:only-of-type {\n",
       "        vertical-align: middle;\n",
       "    }\n",
       "\n",
       "    .dataframe tbody tr th {\n",
       "        vertical-align: top;\n",
       "    }\n",
       "\n",
       "    .dataframe thead th {\n",
       "        text-align: right;\n",
       "    }\n",
       "</style>\n",
       "<table border=\"1\" class=\"dataframe\">\n",
       "  <thead>\n",
       "    <tr style=\"text-align: right;\">\n",
       "      <th></th>\n",
       "      <th>id</th>\n",
       "      <th>gpa</th>\n",
       "      <th>HSM</th>\n",
       "      <th>HSS</th>\n",
       "      <th>HSE</th>\n",
       "      <th>SATM</th>\n",
       "      <th>SATV</th>\n",
       "      <th>Gender</th>\n",
       "      <th>gender_w</th>\n",
       "    </tr>\n",
       "  </thead>\n",
       "  <tbody>\n",
       "    <tr>\n",
       "      <th>0</th>\n",
       "      <td>1</td>\n",
       "      <td>3.32</td>\n",
       "      <td>10</td>\n",
       "      <td>10</td>\n",
       "      <td>10</td>\n",
       "      <td>670</td>\n",
       "      <td>600</td>\n",
       "      <td>1</td>\n",
       "      <td>0.0</td>\n",
       "    </tr>\n",
       "    <tr>\n",
       "      <th>1</th>\n",
       "      <td>2</td>\n",
       "      <td>2.26</td>\n",
       "      <td>6</td>\n",
       "      <td>8</td>\n",
       "      <td>5</td>\n",
       "      <td>700</td>\n",
       "      <td>640</td>\n",
       "      <td>1</td>\n",
       "      <td>0.0</td>\n",
       "    </tr>\n",
       "    <tr>\n",
       "      <th>2</th>\n",
       "      <td>3</td>\n",
       "      <td>2.35</td>\n",
       "      <td>8</td>\n",
       "      <td>6</td>\n",
       "      <td>8</td>\n",
       "      <td>640</td>\n",
       "      <td>530</td>\n",
       "      <td>1</td>\n",
       "      <td>0.0</td>\n",
       "    </tr>\n",
       "    <tr>\n",
       "      <th>3</th>\n",
       "      <td>4</td>\n",
       "      <td>2.08</td>\n",
       "      <td>9</td>\n",
       "      <td>10</td>\n",
       "      <td>7</td>\n",
       "      <td>670</td>\n",
       "      <td>600</td>\n",
       "      <td>1</td>\n",
       "      <td>0.0</td>\n",
       "    </tr>\n",
       "    <tr>\n",
       "      <th>4</th>\n",
       "      <td>5</td>\n",
       "      <td>3.38</td>\n",
       "      <td>8</td>\n",
       "      <td>9</td>\n",
       "      <td>8</td>\n",
       "      <td>540</td>\n",
       "      <td>580</td>\n",
       "      <td>1</td>\n",
       "      <td>0.0</td>\n",
       "    </tr>\n",
       "  </tbody>\n",
       "</table>\n",
       "</div>"
      ],
      "text/plain": [
       "   id   gpa  HSM  HSS  HSE  SATM  SATV  Gender  gender_w\n",
       "0   1  3.32   10   10   10   670   600       1       0.0\n",
       "1   2  2.26    6    8    5   700   640       1       0.0\n",
       "2   3  2.35    8    6    8   640   530       1       0.0\n",
       "3   4  2.08    9   10    7   670   600       1       0.0\n",
       "4   5  3.38    8    9    8   540   580       1       0.0"
      ]
     },
     "execution_count": 213,
     "metadata": {},
     "output_type": "execute_result"
    }
   ],
   "source": [
    "school = pd.read_table(\"http://www.stat.purdue.edu/~minzhang/512_Spring2014/Datasets_files/csdata.dat\",\n",
    "                      header=None, names=['id','gpa','HSM','HSS', 'HSE', 'SATM', 'SATV', 'Gender'],\n",
    "                       delim_whitespace=True)\n",
    "school.loc[school.Gender == 2, 'gender_w'] = 1\n",
    "school.loc[school.Gender == 1, 'gender_w'] = 0\n",
    "school.head()"
   ]
  },
  {
   "cell_type": "code",
   "execution_count": 215,
   "metadata": {},
   "outputs": [
    {
     "name": "stdout",
     "output_type": "stream",
     "text": [
      "                            OLS Regression Results                            \n",
      "==============================================================================\n",
      "Dep. Variable:                    gpa   R-squared:                       0.212\n",
      "Model:                            OLS   Adj. R-squared:                  0.190\n",
      "Method:                 Least Squares   F-statistic:                     9.716\n",
      "Date:                Mon, 18 Feb 2019   Prob (F-statistic):           1.78e-09\n",
      "Time:                        12:41:03   Log-Likelihood:                -234.86\n",
      "No. Observations:                 224   AIC:                             483.7\n",
      "Df Residuals:                     217   BIC:                             507.6\n",
      "Df Model:                           6                                         \n",
      "Covariance Type:            nonrobust                                         \n",
      "==============================================================================\n",
      "                 coef    std err          t      P>|t|      [0.025      0.975]\n",
      "------------------------------------------------------------------------------\n",
      "Intercept      0.3110      0.404      0.769      0.443      -0.486       1.108\n",
      "HSM            0.1442      0.040      3.624      0.000       0.066       0.223\n",
      "HSS            0.0383      0.039      0.988      0.324      -0.038       0.115\n",
      "HSE            0.0510      0.042      1.207      0.229      -0.032       0.134\n",
      "SATM           0.0010      0.001      1.399      0.163      -0.000       0.002\n",
      "SATV          -0.0004      0.001     -0.693      0.489      -0.002       0.001\n",
      "gender_w       0.0324      0.111      0.290      0.772      -0.187       0.252\n",
      "==============================================================================\n",
      "Omnibus:                       15.331   Durbin-Watson:                   1.766\n",
      "Prob(Omnibus):                  0.000   Jarque-Bera (JB):               16.444\n",
      "Skew:                          -0.620   Prob(JB):                     0.000269\n",
      "Kurtosis:                       3.473   Cond. No.                     6.81e+03\n",
      "==============================================================================\n",
      "\n",
      "Warnings:\n",
      "[1] Standard Errors assume that the covariance matrix of the errors is correctly specified.\n",
      "[2] The condition number is large, 6.81e+03. This might indicate that there are\n",
      "strong multicollinearity or other numerical problems.\n"
     ]
    }
   ],
   "source": [
    "model = smf.ols(formula='gpa~HSM + HSS + HSE+ SATM+ SATV+ gender_w', data = school).fit()\n",
    "print(model.summary())"
   ]
  },
  {
   "cell_type": "markdown",
   "metadata": {},
   "source": [
    "- Regression equation: gpa = 0.311 + .1442 HSM + 0.0383 HSS + 0.051 HSE + 0.001 SATM - 0.0004 SATV + 0.0324 gender_w\n",
    "- To get the regression line for women, set genderw = 1 in the line from the previous problem. same goes from men just set genderw = 0"
   ]
  },
  {
   "cell_type": "markdown",
   "metadata": {},
   "source": [
    "#### Best subset selection\n",
    "To perform best selection, we fit separate models for each possible combination of the n predictors and then select the best subset. That is we fit:\n",
    "\n",
    "- All models that contains exactly one predictor\n",
    "- All models that contain 2 predictors at the second step: $\\binom{n}{2}$\n",
    "- Until reaching the end point where all n predictors are included in the model"
   ]
  },
  {
   "cell_type": "code",
   "execution_count": 216,
   "metadata": {},
   "outputs": [],
   "source": [
    "#https://xavierbourretsicotte.github.io/subset_selection.html\n",
    "def fit_linear_reg(X,Y):\n",
    "    #Fit linear regression model and return RSS and R squared values\n",
    "    model_k = linear_model.LinearRegression(fit_intercept = True)\n",
    "    model_k.fit(X,Y)\n",
    "    RSS = mean_squared_error(Y,model_k.predict(X)) * len(Y)\n",
    "    R_squared = model_k.score(X,Y)\n",
    "    return RSS, R_squared"
   ]
  },
  {
   "cell_type": "markdown",
   "metadata": {},
   "source": [
    "##### Implementing Best subset selection (using itertools.combinations)"
   ]
  },
  {
   "cell_type": "code",
   "execution_count": 221,
   "metadata": {},
   "outputs": [
    {
     "data": {
      "application/vnd.jupyter.widget-view+json": {
       "model_id": "1d515972d27946068af85746ef893ae3",
       "version_major": 2,
       "version_minor": 0
      },
      "text/plain": [
       "HBox(children=(IntProgress(value=0, description='Loop...', max=7), HTML(value='')))"
      ]
     },
     "metadata": {},
     "output_type": "display_data"
    },
    {
     "name": "stdout",
     "output_type": "stream",
     "text": [
      "\n"
     ]
    }
   ],
   "source": [
    "#https://xavierbourretsicotte.github.io/subset_selection.html\n",
    "# Required Imports\n",
    "import itertools\n",
    "from sklearn import linear_model\n",
    "from sklearn.metrics import mean_squared_error\n",
    "\n",
    "#Importing tqdm for the progress bar\n",
    "from tqdm import tnrange, tqdm_notebook\n",
    "\n",
    "#Initialization variables\n",
    "Y = school.gpa\n",
    "X = school.drop(columns = ['gpa','Gender'], axis = 1)\n",
    "k = 7\n",
    "RSS_list, R_squared_list, feature_list = [],[], []\n",
    "numb_features = []\n",
    "\n",
    "#Looping over k = 1 to k = 11 features in X\n",
    "for k in tnrange(1,len(X.columns) + 1, desc = 'Loop...'):\n",
    "\n",
    "    #Looping over all possible combinations: from 11 choose k\n",
    "    for combo in itertools.combinations(X.columns,k):\n",
    "        tmp_result = fit_linear_reg(X[list(combo)],Y)   #Store temp result \n",
    "        RSS_list.append(tmp_result[0])                  #Append lists\n",
    "        R_squared_list.append(tmp_result[1])\n",
    "        feature_list.append(combo)\n",
    "        numb_features.append(len(combo))   \n",
    "\n",
    "#Store in DataFrame\n",
    "df = pd.DataFrame({'numb_features': numb_features,'RSS': RSS_list, 'R_squared':R_squared_list,'features':feature_list})"
   ]
  },
  {
   "cell_type": "markdown",
   "metadata": {},
   "source": [
    "#### Finding the best subsets for each number of features\n",
    "Using the smallest RSS value, or the largest R_squared value"
   ]
  },
  {
   "cell_type": "code",
   "execution_count": 222,
   "metadata": {},
   "outputs": [
    {
     "data": {
      "text/html": [
       "<div>\n",
       "<style scoped>\n",
       "    .dataframe tbody tr th:only-of-type {\n",
       "        vertical-align: middle;\n",
       "    }\n",
       "\n",
       "    .dataframe tbody tr th {\n",
       "        vertical-align: top;\n",
       "    }\n",
       "\n",
       "    .dataframe thead th {\n",
       "        text-align: right;\n",
       "    }\n",
       "</style>\n",
       "<table border=\"1\" class=\"dataframe\">\n",
       "  <thead>\n",
       "    <tr style=\"text-align: right;\">\n",
       "      <th></th>\n",
       "      <th>numb_features</th>\n",
       "      <th>RSS</th>\n",
       "      <th>R_squared</th>\n",
       "      <th>features</th>\n",
       "    </tr>\n",
       "  </thead>\n",
       "  <tbody>\n",
       "    <tr>\n",
       "      <th>1</th>\n",
       "      <td>1</td>\n",
       "      <td>109.652895</td>\n",
       "      <td>0.190531</td>\n",
       "      <td>(HSM,)</td>\n",
       "    </tr>\n",
       "    <tr>\n",
       "      <th>7</th>\n",
       "      <td>2</td>\n",
       "      <td>107.273418</td>\n",
       "      <td>0.208097</td>\n",
       "      <td>(id, HSM)</td>\n",
       "    </tr>\n",
       "    <tr>\n",
       "      <th>32</th>\n",
       "      <td>3</td>\n",
       "      <td>99.978141</td>\n",
       "      <td>0.261951</td>\n",
       "      <td>(id, HSM, gender_w)</td>\n",
       "    </tr>\n",
       "  </tbody>\n",
       "</table>\n",
       "</div>"
      ],
      "text/plain": [
       "    numb_features         RSS  R_squared             features\n",
       "1               1  109.652895   0.190531               (HSM,)\n",
       "7               2  107.273418   0.208097            (id, HSM)\n",
       "32              3   99.978141   0.261951  (id, HSM, gender_w)"
      ]
     },
     "metadata": {},
     "output_type": "display_data"
    },
    {
     "data": {
      "text/html": [
       "<div>\n",
       "<style scoped>\n",
       "    .dataframe tbody tr th:only-of-type {\n",
       "        vertical-align: middle;\n",
       "    }\n",
       "\n",
       "    .dataframe tbody tr th {\n",
       "        vertical-align: top;\n",
       "    }\n",
       "\n",
       "    .dataframe thead th {\n",
       "        text-align: right;\n",
       "    }\n",
       "</style>\n",
       "<table border=\"1\" class=\"dataframe\">\n",
       "  <thead>\n",
       "    <tr style=\"text-align: right;\">\n",
       "      <th></th>\n",
       "      <th>numb_features</th>\n",
       "      <th>RSS</th>\n",
       "      <th>R_squared</th>\n",
       "      <th>features</th>\n",
       "    </tr>\n",
       "  </thead>\n",
       "  <tbody>\n",
       "    <tr>\n",
       "      <th>1</th>\n",
       "      <td>1</td>\n",
       "      <td>109.652895</td>\n",
       "      <td>0.190531</td>\n",
       "      <td>(HSM,)</td>\n",
       "    </tr>\n",
       "    <tr>\n",
       "      <th>7</th>\n",
       "      <td>2</td>\n",
       "      <td>107.273418</td>\n",
       "      <td>0.208097</td>\n",
       "      <td>(id, HSM)</td>\n",
       "    </tr>\n",
       "    <tr>\n",
       "      <th>32</th>\n",
       "      <td>3</td>\n",
       "      <td>99.978141</td>\n",
       "      <td>0.261951</td>\n",
       "      <td>(id, HSM, gender_w)</td>\n",
       "    </tr>\n",
       "  </tbody>\n",
       "</table>\n",
       "</div>"
      ],
      "text/plain": [
       "    numb_features         RSS  R_squared             features\n",
       "1               1  109.652895   0.190531               (HSM,)\n",
       "7               2  107.273418   0.208097            (id, HSM)\n",
       "32              3   99.978141   0.261951  (id, HSM, gender_w)"
      ]
     },
     "metadata": {},
     "output_type": "display_data"
    }
   ],
   "source": [
    "df_min = df[df.groupby('numb_features')['RSS'].transform(min) == df['RSS']]\n",
    "df_max = df[df.groupby('numb_features')['R_squared'].transform(max) == df['R_squared']]\n",
    "display(df_min.head(3))\n",
    "display(df_max.head(3))"
   ]
  },
  {
   "cell_type": "markdown",
   "metadata": {},
   "source": [
    "#### Adding columns to the dataframe with RSS and R squared values of the best subset"
   ]
  },
  {
   "cell_type": "code",
   "execution_count": 223,
   "metadata": {},
   "outputs": [
    {
     "data": {
      "text/html": [
       "<div>\n",
       "<style scoped>\n",
       "    .dataframe tbody tr th:only-of-type {\n",
       "        vertical-align: middle;\n",
       "    }\n",
       "\n",
       "    .dataframe tbody tr th {\n",
       "        vertical-align: top;\n",
       "    }\n",
       "\n",
       "    .dataframe thead th {\n",
       "        text-align: right;\n",
       "    }\n",
       "</style>\n",
       "<table border=\"1\" class=\"dataframe\">\n",
       "  <thead>\n",
       "    <tr style=\"text-align: right;\">\n",
       "      <th></th>\n",
       "      <th>numb_features</th>\n",
       "      <th>RSS</th>\n",
       "      <th>R_squared</th>\n",
       "      <th>features</th>\n",
       "      <th>min_RSS</th>\n",
       "      <th>max_R_squared</th>\n",
       "    </tr>\n",
       "  </thead>\n",
       "  <tbody>\n",
       "    <tr>\n",
       "      <th>0</th>\n",
       "      <td>1</td>\n",
       "      <td>131.986862</td>\n",
       "      <td>0.025660</td>\n",
       "      <td>(id,)</td>\n",
       "      <td>109.652895</td>\n",
       "      <td>0.190531</td>\n",
       "    </tr>\n",
       "    <tr>\n",
       "      <th>1</th>\n",
       "      <td>1</td>\n",
       "      <td>109.652895</td>\n",
       "      <td>0.190531</td>\n",
       "      <td>(HSM,)</td>\n",
       "      <td>109.652895</td>\n",
       "      <td>0.190531</td>\n",
       "    </tr>\n",
       "    <tr>\n",
       "      <th>2</th>\n",
       "      <td>1</td>\n",
       "      <td>120.762225</td>\n",
       "      <td>0.108521</td>\n",
       "      <td>(HSS,)</td>\n",
       "      <td>109.652895</td>\n",
       "      <td>0.190531</td>\n",
       "    </tr>\n",
       "    <tr>\n",
       "      <th>3</th>\n",
       "      <td>1</td>\n",
       "      <td>124.148703</td>\n",
       "      <td>0.083522</td>\n",
       "      <td>(HSE,)</td>\n",
       "      <td>109.652895</td>\n",
       "      <td>0.190531</td>\n",
       "    </tr>\n",
       "    <tr>\n",
       "      <th>4</th>\n",
       "      <td>1</td>\n",
       "      <td>126.879855</td>\n",
       "      <td>0.063360</td>\n",
       "      <td>(SATM,)</td>\n",
       "      <td>109.652895</td>\n",
       "      <td>0.190531</td>\n",
       "    </tr>\n",
       "  </tbody>\n",
       "</table>\n",
       "</div>"
      ],
      "text/plain": [
       "   numb_features         RSS  R_squared features     min_RSS  max_R_squared\n",
       "0              1  131.986862   0.025660    (id,)  109.652895       0.190531\n",
       "1              1  109.652895   0.190531   (HSM,)  109.652895       0.190531\n",
       "2              1  120.762225   0.108521   (HSS,)  109.652895       0.190531\n",
       "3              1  124.148703   0.083522   (HSE,)  109.652895       0.190531\n",
       "4              1  126.879855   0.063360  (SATM,)  109.652895       0.190531"
      ]
     },
     "execution_count": 223,
     "metadata": {},
     "output_type": "execute_result"
    }
   ],
   "source": [
    "df['min_RSS'] = df.groupby('numb_features')['RSS'].transform(min)\n",
    "df['max_R_squared'] = df.groupby('numb_features')['R_squared'].transform(max)\n",
    "df.head()"
   ]
  },
  {
   "cell_type": "markdown",
   "metadata": {},
   "source": [
    "#### Plotting the best subset selection process"
   ]
  },
  {
   "cell_type": "code",
   "execution_count": 224,
   "metadata": {},
   "outputs": [
    {
     "data": {
      "image/png": "[encoded data removed]",
      "text/plain": [
       "<Figure size 1152x432 with 2 Axes>"
      ]
     },
     "metadata": {
      "needs_background": "light"
     },
     "output_type": "display_data"
    }
   ],
   "source": [
    "fig = plt.figure(figsize = (16,6))\n",
    "ax = fig.add_subplot(1, 2, 1)\n",
    "\n",
    "ax.scatter(df.numb_features,df.RSS, alpha = .2, color = 'darkblue' )\n",
    "ax.set_xlabel('# Features')\n",
    "ax.set_ylabel('RSS')\n",
    "ax.set_title('RSS - Best subset selection')\n",
    "ax.plot(df.numb_features,df.min_RSS,color = 'r', label = 'Best subset')\n",
    "ax.legend()\n",
    "\n",
    "ax = fig.add_subplot(1, 2, 2)\n",
    "ax.scatter(df.numb_features,df.R_squared, alpha = .2, color = 'darkblue' )\n",
    "ax.plot(df.numb_features,df.max_R_squared,color = 'r', label = 'Best subset')\n",
    "ax.set_xlabel('# Features')\n",
    "ax.set_ylabel('R squared')\n",
    "ax.set_title('R_squared - Best subset selection')\n",
    "ax.legend()\n",
    "\n",
    "plt.show()"
   ]
  },
  {
   "cell_type": "code",
   "execution_count": 229,
   "metadata": {
    "scrolled": false
   },
   "outputs": [
    {
     "data": {
      "text/html": [
       "<div>\n",
       "<style scoped>\n",
       "    .dataframe tbody tr th:only-of-type {\n",
       "        vertical-align: middle;\n",
       "    }\n",
       "\n",
       "    .dataframe tbody tr th {\n",
       "        vertical-align: top;\n",
       "    }\n",
       "\n",
       "    .dataframe thead th {\n",
       "        text-align: right;\n",
       "    }\n",
       "</style>\n",
       "<table border=\"1\" class=\"dataframe\">\n",
       "  <thead>\n",
       "    <tr style=\"text-align: right;\">\n",
       "      <th></th>\n",
       "      <th>numb_features</th>\n",
       "      <th>RSS</th>\n",
       "      <th>R_squared</th>\n",
       "      <th>features</th>\n",
       "      <th>min_RSS</th>\n",
       "      <th>max_R_squared</th>\n",
       "      <th>C_p</th>\n",
       "      <th>AIC</th>\n",
       "      <th>BIC</th>\n",
       "      <th>R_squared_adj</th>\n",
       "    </tr>\n",
       "  </thead>\n",
       "  <tbody>\n",
       "    <tr>\n",
       "      <th>0</th>\n",
       "      <td>1</td>\n",
       "      <td>131.986862</td>\n",
       "      <td>0.025660</td>\n",
       "      <td>(id,)</td>\n",
       "      <td>109.652895</td>\n",
       "      <td>0.190531</td>\n",
       "      <td>0.593290</td>\n",
       "      <td>1.303743</td>\n",
       "      <td>1.318974</td>\n",
       "      <td>0.021271</td>\n",
       "    </tr>\n",
       "    <tr>\n",
       "      <th>1</th>\n",
       "      <td>1</td>\n",
       "      <td>109.652895</td>\n",
       "      <td>0.190531</td>\n",
       "      <td>(HSM,)</td>\n",
       "      <td>109.652895</td>\n",
       "      <td>0.190531</td>\n",
       "      <td>0.493585</td>\n",
       "      <td>1.084643</td>\n",
       "      <td>1.099873</td>\n",
       "      <td>0.186885</td>\n",
       "    </tr>\n",
       "    <tr>\n",
       "      <th>2</th>\n",
       "      <td>1</td>\n",
       "      <td>120.762225</td>\n",
       "      <td>0.108521</td>\n",
       "      <td>(HSS,)</td>\n",
       "      <td>109.652895</td>\n",
       "      <td>0.190531</td>\n",
       "      <td>0.543180</td>\n",
       "      <td>1.193627</td>\n",
       "      <td>1.208858</td>\n",
       "      <td>0.104505</td>\n",
       "    </tr>\n",
       "    <tr>\n",
       "      <th>3</th>\n",
       "      <td>1</td>\n",
       "      <td>124.148703</td>\n",
       "      <td>0.083522</td>\n",
       "      <td>(HSE,)</td>\n",
       "      <td>109.652895</td>\n",
       "      <td>0.190531</td>\n",
       "      <td>0.558298</td>\n",
       "      <td>1.226849</td>\n",
       "      <td>1.242080</td>\n",
       "      <td>0.079393</td>\n",
       "    </tr>\n",
       "    <tr>\n",
       "      <th>4</th>\n",
       "      <td>1</td>\n",
       "      <td>126.879855</td>\n",
       "      <td>0.063360</td>\n",
       "      <td>(SATM,)</td>\n",
       "      <td>109.652895</td>\n",
       "      <td>0.190531</td>\n",
       "      <td>0.570491</td>\n",
       "      <td>1.253642</td>\n",
       "      <td>1.268873</td>\n",
       "      <td>0.059141</td>\n",
       "    </tr>\n",
       "    <tr>\n",
       "      <th>5</th>\n",
       "      <td>1</td>\n",
       "      <td>133.687134</td>\n",
       "      <td>0.013108</td>\n",
       "      <td>(SATV,)</td>\n",
       "      <td>109.652895</td>\n",
       "      <td>0.190531</td>\n",
       "      <td>0.600881</td>\n",
       "      <td>1.320423</td>\n",
       "      <td>1.335653</td>\n",
       "      <td>0.008663</td>\n",
       "    </tr>\n",
       "    <tr>\n",
       "      <th>6</th>\n",
       "      <td>1</td>\n",
       "      <td>135.151886</td>\n",
       "      <td>0.002295</td>\n",
       "      <td>(gender_w,)</td>\n",
       "      <td>109.652895</td>\n",
       "      <td>0.190531</td>\n",
       "      <td>0.607420</td>\n",
       "      <td>1.334792</td>\n",
       "      <td>1.350023</td>\n",
       "      <td>-0.002199</td>\n",
       "    </tr>\n",
       "    <tr>\n",
       "      <th>7</th>\n",
       "      <td>2</td>\n",
       "      <td>107.273418</td>\n",
       "      <td>0.208097</td>\n",
       "      <td>(id, HSM)</td>\n",
       "      <td>107.273418</td>\n",
       "      <td>0.208097</td>\n",
       "      <td>0.487025</td>\n",
       "      <td>1.070228</td>\n",
       "      <td>1.100689</td>\n",
       "      <td>0.200930</td>\n",
       "    </tr>\n",
       "    <tr>\n",
       "      <th>8</th>\n",
       "      <td>2</td>\n",
       "      <td>118.811356</td>\n",
       "      <td>0.122923</td>\n",
       "      <td>(id, HSS)</td>\n",
       "      <td>107.273418</td>\n",
       "      <td>0.208097</td>\n",
       "      <td>0.538534</td>\n",
       "      <td>1.183417</td>\n",
       "      <td>1.213879</td>\n",
       "      <td>0.114985</td>\n",
       "    </tr>\n",
       "    <tr>\n",
       "      <th>9</th>\n",
       "      <td>2</td>\n",
       "      <td>116.352415</td>\n",
       "      <td>0.141075</td>\n",
       "      <td>(id, HSE)</td>\n",
       "      <td>107.273418</td>\n",
       "      <td>0.208097</td>\n",
       "      <td>0.527557</td>\n",
       "      <td>1.159295</td>\n",
       "      <td>1.189756</td>\n",
       "      <td>0.133302</td>\n",
       "    </tr>\n",
       "  </tbody>\n",
       "</table>\n",
       "</div>"
      ],
      "text/plain": [
       "   numb_features         RSS  R_squared     features     min_RSS  \\\n",
       "0              1  131.986862   0.025660        (id,)  109.652895   \n",
       "1              1  109.652895   0.190531       (HSM,)  109.652895   \n",
       "2              1  120.762225   0.108521       (HSS,)  109.652895   \n",
       "3              1  124.148703   0.083522       (HSE,)  109.652895   \n",
       "4              1  126.879855   0.063360      (SATM,)  109.652895   \n",
       "5              1  133.687134   0.013108      (SATV,)  109.652895   \n",
       "6              1  135.151886   0.002295  (gender_w,)  109.652895   \n",
       "7              2  107.273418   0.208097    (id, HSM)  107.273418   \n",
       "8              2  118.811356   0.122923    (id, HSS)  107.273418   \n",
       "9              2  116.352415   0.141075    (id, HSE)  107.273418   \n",
       "\n",
       "   max_R_squared       C_p       AIC       BIC  R_squared_adj  \n",
       "0       0.190531  0.593290  1.303743  1.318974       0.021271  \n",
       "1       0.190531  0.493585  1.084643  1.099873       0.186885  \n",
       "2       0.190531  0.543180  1.193627  1.208858       0.104505  \n",
       "3       0.190531  0.558298  1.226849  1.242080       0.079393  \n",
       "4       0.190531  0.570491  1.253642  1.268873       0.059141  \n",
       "5       0.190531  0.600881  1.320423  1.335653       0.008663  \n",
       "6       0.190531  0.607420  1.334792  1.350023      -0.002199  \n",
       "7       0.208097  0.487025  1.070228  1.100689       0.200930  \n",
       "8       0.208097  0.538534  1.183417  1.213879       0.114985  \n",
       "9       0.208097  0.527557  1.159295  1.189756       0.133302  "
      ]
     },
     "execution_count": 229,
     "metadata": {},
     "output_type": "execute_result"
    }
   ],
   "source": [
    "#Initializing useful variables\n",
    "m = len(Y)\n",
    "p = 11\n",
    "df1 = df\n",
    "hat_sigma_squared = (1/(m - p -1)) * min(df1['RSS'])\n",
    "\n",
    "#Computing\n",
    "df1['C_p'] = (1/m) * (df1['RSS'] + 2 * df1['numb_features'] * hat_sigma_squared )\n",
    "df1['AIC'] = (1/(m*hat_sigma_squared)) * (df1['RSS'] + 2 * df1['numb_features'] * hat_sigma_squared )\n",
    "df1['BIC'] = (1/(m*hat_sigma_squared)) * (df1['RSS'] +  np.log(m) * df1['numb_features'] * hat_sigma_squared )\n",
    "df1['R_squared_adj'] = 1 - ( (1 - df1['R_squared'])*(m-1)/(m-df1['numb_features'] -1))\n",
    "df1.head(10)"
   ]
  },
  {
   "cell_type": "code",
   "execution_count": 227,
   "metadata": {},
   "outputs": [
    {
     "data": {
      "text/plain": [
       "0.2681138466011379"
      ]
     },
     "execution_count": 227,
     "metadata": {},
     "output_type": "execute_result"
    }
   ],
   "source": [
    "df1['R_squared_adj'].idxmax()\n",
    "df1['R_squared_adj'].max()"
   ]
  },
  {
   "cell_type": "code",
   "execution_count": 242,
   "metadata": {},
   "outputs": [
    {
     "data": {
      "text/html": [
       "<div>\n",
       "<style scoped>\n",
       "    .dataframe tbody tr th:only-of-type {\n",
       "        vertical-align: middle;\n",
       "    }\n",
       "\n",
       "    .dataframe tbody tr th {\n",
       "        vertical-align: top;\n",
       "    }\n",
       "\n",
       "    .dataframe thead th {\n",
       "        text-align: right;\n",
       "    }\n",
       "</style>\n",
       "<table border=\"1\" class=\"dataframe\">\n",
       "  <thead>\n",
       "    <tr style=\"text-align: right;\">\n",
       "      <th></th>\n",
       "      <th>numb_features</th>\n",
       "      <th>RSS</th>\n",
       "      <th>R_squared</th>\n",
       "      <th>features</th>\n",
       "      <th>min_RSS</th>\n",
       "      <th>max_R_squared</th>\n",
       "      <th>C_p</th>\n",
       "      <th>AIC</th>\n",
       "      <th>BIC</th>\n",
       "      <th>R_squared_adj</th>\n",
       "    </tr>\n",
       "  </thead>\n",
       "  <tbody>\n",
       "    <tr>\n",
       "      <th>6</th>\n",
       "      <td>1</td>\n",
       "      <td>135.151886</td>\n",
       "      <td>0.002295</td>\n",
       "      <td>(gender_w,)</td>\n",
       "      <td>109.652895</td>\n",
       "      <td>0.190531</td>\n",
       "      <td>0.607420</td>\n",
       "      <td>1.334792</td>\n",
       "      <td>1.350023</td>\n",
       "      <td>-0.002199</td>\n",
       "    </tr>\n",
       "    <tr>\n",
       "      <th>27</th>\n",
       "      <td>2</td>\n",
       "      <td>133.274045</td>\n",
       "      <td>0.016158</td>\n",
       "      <td>(SATV, gender_w)</td>\n",
       "      <td>107.273418</td>\n",
       "      <td>0.208097</td>\n",
       "      <td>0.603100</td>\n",
       "      <td>1.325299</td>\n",
       "      <td>1.355760</td>\n",
       "      <td>0.007254</td>\n",
       "    </tr>\n",
       "    <tr>\n",
       "      <th>5</th>\n",
       "      <td>1</td>\n",
       "      <td>133.687134</td>\n",
       "      <td>0.013108</td>\n",
       "      <td>(SATV,)</td>\n",
       "      <td>109.652895</td>\n",
       "      <td>0.190531</td>\n",
       "      <td>0.600881</td>\n",
       "      <td>1.320423</td>\n",
       "      <td>1.335653</td>\n",
       "      <td>0.008663</td>\n",
       "    </tr>\n",
       "    <tr>\n",
       "      <th>0</th>\n",
       "      <td>1</td>\n",
       "      <td>131.986862</td>\n",
       "      <td>0.025660</td>\n",
       "      <td>(id,)</td>\n",
       "      <td>109.652895</td>\n",
       "      <td>0.190531</td>\n",
       "      <td>0.593290</td>\n",
       "      <td>1.303743</td>\n",
       "      <td>1.318974</td>\n",
       "      <td>0.021271</td>\n",
       "    </tr>\n",
       "    <tr>\n",
       "      <th>11</th>\n",
       "      <td>2</td>\n",
       "      <td>130.915003</td>\n",
       "      <td>0.033572</td>\n",
       "      <td>(id, SATV)</td>\n",
       "      <td>107.273418</td>\n",
       "      <td>0.208097</td>\n",
       "      <td>0.592568</td>\n",
       "      <td>1.302156</td>\n",
       "      <td>1.332618</td>\n",
       "      <td>0.024826</td>\n",
       "    </tr>\n",
       "  </tbody>\n",
       "</table>\n",
       "</div>"
      ],
      "text/plain": [
       "    numb_features         RSS  R_squared          features     min_RSS  \\\n",
       "6               1  135.151886   0.002295       (gender_w,)  109.652895   \n",
       "27              2  133.274045   0.016158  (SATV, gender_w)  107.273418   \n",
       "5               1  133.687134   0.013108           (SATV,)  109.652895   \n",
       "0               1  131.986862   0.025660             (id,)  109.652895   \n",
       "11              2  130.915003   0.033572        (id, SATV)  107.273418   \n",
       "\n",
       "    max_R_squared       C_p       AIC       BIC  R_squared_adj  \n",
       "6        0.190531  0.607420  1.334792  1.350023      -0.002199  \n",
       "27       0.208097  0.603100  1.325299  1.355760       0.007254  \n",
       "5        0.190531  0.600881  1.320423  1.335653       0.008663  \n",
       "0        0.190531  0.593290  1.303743  1.318974       0.021271  \n",
       "11       0.208097  0.592568  1.302156  1.332618       0.024826  "
      ]
     },
     "execution_count": 242,
     "metadata": {},
     "output_type": "execute_result"
    }
   ],
   "source": [
    "df1.sort_values(\"C_p\", ascending=False).head()"
   ]
  },
  {
   "cell_type": "code",
   "execution_count": null,
   "metadata": {},
   "outputs": [],
   "source": []
  },
  {
   "cell_type": "markdown",
   "metadata": {},
   "source": [
    ">4. Plot the data for the two populations on the same graph, using different symbols (v=) and\n",
    "lines. Does the relationship between valuation and selling price appear to be the same for the\n",
    "two makes of tire?\n"
   ]
  },
  {
   "cell_type": "code",
   "execution_count": 245,
   "metadata": {},
   "outputs": [
    {
     "data": {
      "text/html": [
       "<div>\n",
       "<style scoped>\n",
       "    .dataframe tbody tr th:only-of-type {\n",
       "        vertical-align: middle;\n",
       "    }\n",
       "\n",
       "    .dataframe tbody tr th {\n",
       "        vertical-align: top;\n",
       "    }\n",
       "\n",
       "    .dataframe thead th {\n",
       "        text-align: right;\n",
       "    }\n",
       "</style>\n",
       "<table border=\"1\" class=\"dataframe\">\n",
       "  <thead>\n",
       "    <tr style=\"text-align: right;\">\n",
       "      <th></th>\n",
       "      <th>y</th>\n",
       "      <th>x1</th>\n",
       "      <th>x2</th>\n",
       "    </tr>\n",
       "  </thead>\n",
       "  <tbody>\n",
       "    <tr>\n",
       "      <th>0</th>\n",
       "      <td>78.8</td>\n",
       "      <td>76.4</td>\n",
       "      <td>0</td>\n",
       "    </tr>\n",
       "    <tr>\n",
       "      <th>1</th>\n",
       "      <td>73.8</td>\n",
       "      <td>74.3</td>\n",
       "      <td>0</td>\n",
       "    </tr>\n",
       "    <tr>\n",
       "      <th>2</th>\n",
       "      <td>64.6</td>\n",
       "      <td>69.6</td>\n",
       "      <td>0</td>\n",
       "    </tr>\n",
       "    <tr>\n",
       "      <th>3</th>\n",
       "      <td>76.2</td>\n",
       "      <td>73.6</td>\n",
       "      <td>0</td>\n",
       "    </tr>\n",
       "    <tr>\n",
       "      <th>4</th>\n",
       "      <td>87.2</td>\n",
       "      <td>76.8</td>\n",
       "      <td>0</td>\n",
       "    </tr>\n",
       "  </tbody>\n",
       "</table>\n",
       "</div>"
      ],
      "text/plain": [
       "      y    x1  x2\n",
       "0  78.8  76.4   0\n",
       "1  73.8  74.3   0\n",
       "2  64.6  69.6   0\n",
       "3  76.2  73.6   0\n",
       "4  87.2  76.8   0"
      ]
     },
     "execution_count": 245,
     "metadata": {},
     "output_type": "execute_result"
    }
   ],
   "source": [
    "tax = pd.read_table(\"http://www.stat.purdue.edu/~lingsong/teaching/2018fall/Datasets/CH08PR24.dat\",\n",
    "                    header=None, names=['y','x1', 'x2'],delim_whitespace=True)\n",
    "tax.head()"
   ]
  },
  {
   "cell_type": "code",
   "execution_count": 246,
   "metadata": {},
   "outputs": [
    {
     "data": {
      "text/plain": [
       "<seaborn.axisgrid.FacetGrid at 0x157e1f36ba8>"
      ]
     },
     "execution_count": 246,
     "metadata": {},
     "output_type": "execute_result"
    },
    {
     "data": {
      "image/png": "[encoded data removed]",
      "text/plain": [
       "<Figure size 434.8x360 with 1 Axes>"
      ]
     },
     "metadata": {
      "needs_background": "light"
     },
     "output_type": "display_data"
    }
   ],
   "source": [
    "sns.lmplot(x ='x1', y = 'y', data = tax, hue = 'x2', \n",
    "           ci = None, markers=[\"o\", \"x\"])"
   ]
  },
  {
   "cell_type": "markdown",
   "metadata": {},
   "source": [
    "No the relationship is different between the to x2 categories. __In particular they have different slopes, so that the relationship between x and y is different for the  type categories__\n",
    "\n",
    ">5. Examine the question of whether or not the two lines are the same. Write a model that allows\n",
    "the two lot locations to have different intercepts and slopes. Then, perform the general linear\n",
    "test to determine whether the two lines are equal. State the null and alternative hypothesis,\n",
    "the test statistic with degrees of freedom, the p-value and your conclusion"
   ]
  },
  {
   "cell_type": "code",
   "execution_count": 268,
   "metadata": {
    "scrolled": false
   },
   "outputs": [
    {
     "name": "stdout",
     "output_type": "stream",
     "text": [
      "            df       sum_sq      mean_sq           F        PR(>F)\n",
      "x2         1.0   871.681302   871.681302   57.530098  2.507356e-10\n",
      "x1         1.0  3252.370392  3252.370392  214.653206  1.752422e-21\n",
      "x1:x2      1.0   112.998521   112.998521    7.457790  8.280928e-03\n",
      "Residual  60.0   909.104629    15.151744         NaN           NaN\n",
      "                            OLS Regression Results                            \n",
      "==============================================================================\n",
      "Dep. Variable:                      y   R-squared:                       0.823\n",
      "Model:                            OLS   Adj. R-squared:                  0.815\n",
      "Method:                 Least Squares   F-statistic:                     93.21\n",
      "Date:                Mon, 18 Feb 2019   Prob (F-statistic):           1.48e-22\n",
      "Time:                        13:25:36   Log-Likelihood:                -175.73\n",
      "No. Observations:                  64   AIC:                             359.5\n",
      "Df Residuals:                      60   BIC:                             368.1\n",
      "Df Model:                           3                                         \n",
      "Covariance Type:            nonrobust                                         \n",
      "==============================================================================\n",
      "                 coef    std err          t      P>|t|      [0.025      0.975]\n",
      "------------------------------------------------------------------------------\n",
      "Intercept   -126.9052     14.722     -8.620      0.000    -156.354     -97.456\n",
      "x2            76.0215     30.131      2.523      0.014      15.750     136.293\n",
      "x1             2.7759      0.196     14.142      0.000       2.383       3.169\n",
      "x1:x2         -1.1075      0.406     -2.731      0.008      -1.919      -0.296\n",
      "==============================================================================\n",
      "Omnibus:                        1.918   Durbin-Watson:                   2.067\n",
      "Prob(Omnibus):                  0.383   Jarque-Bera (JB):                1.248\n",
      "Skew:                           0.065   Prob(JB):                        0.536\n",
      "Kurtosis:                       3.672   Cond. No.                     4.96e+03\n",
      "==============================================================================\n",
      "\n",
      "Warnings:\n",
      "[1] Standard Errors assume that the covariance matrix of the errors is correctly specified.\n",
      "[2] The condition number is large, 4.96e+03. This might indicate that there are\n",
      "strong multicollinearity or other numerical problems.\n"
     ]
    },
    {
     "data": {
      "image/png": "[encoded data removed]",
      "text/plain": [
       "<Figure size 432x288 with 1 Axes>"
      ]
     },
     "metadata": {
      "needs_background": "light"
     },
     "output_type": "display_data"
    },
    {
     "data": {
      "image/png": "[encoded data removed]",
      "text/plain": [
       "<Figure size 432x288 with 1 Axes>"
      ]
     },
     "metadata": {
      "needs_background": "light"
     },
     "output_type": "display_data"
    }
   ],
   "source": [
    "model = smf.ols(formula='y~x2 + x1 + x1*x2', data = tax).fit()\n",
    "print(sm.stats.anova_lm(model))\n",
    "print(model.summary())\n",
    "sns.residplot(x = model.fittedvalues, y = model.resid);\n",
    "sm.qqplot(model.resid, line='r');"
   ]
  },
  {
   "cell_type": "markdown",
   "metadata": {},
   "source": [
    "For non-corner lots (lot = 0) the intercept is β0 and and the slope is β2.\n",
    "For corner lots (make = 1) the intercept is β0 + β1 and the slope is β2 + β3.\n",
    "\n",
    "- Ho: β1 = β3 = 0 (The null hypothesis is that the two lines have the same slope and intercept)\n",
    "- Ha: β1 != 0 or β3 != 0 (or both) _ie.g, β1 or β3 are not both 0.\n",
    "\n",
    "- model used: Y = β0 + β1X1 + β2X2 + β3X3 + e\n",
    "\n",
    "- p-value = 0.008\n",
    "- decision = REJECT\n",
    "\n",
    "\n",
    "6. Using the model that fits two different lines, give a 94% confidence interval for the difference in slopes. (Hint: what parameter represents the difference between the slopes?)\n"
   ]
  },
  {
   "cell_type": "code",
   "execution_count": 248,
   "metadata": {},
   "outputs": [
    {
     "name": "stdout",
     "output_type": "stream",
     "text": [
      "                            OLS Regression Results                            \n",
      "==============================================================================\n",
      "Dep. Variable:                      y   R-squared:                       0.823\n",
      "Model:                            OLS   Adj. R-squared:                  0.815\n",
      "Method:                 Least Squares   F-statistic:                     93.21\n",
      "Date:                Mon, 18 Feb 2019   Prob (F-statistic):           1.48e-22\n",
      "Time:                        13:10:56   Log-Likelihood:                -175.73\n",
      "No. Observations:                  64   AIC:                             359.5\n",
      "Df Residuals:                      60   BIC:                             368.1\n",
      "Df Model:                           3                                         \n",
      "Covariance Type:            nonrobust                                         \n",
      "==============================================================================\n",
      "                 coef    std err          t      P>|t|       [0.03       0.97]\n",
      "------------------------------------------------------------------------------\n",
      "Intercept   -126.9052     14.722     -8.620      0.000    -155.129     -98.682\n",
      "x1             2.7759      0.196     14.142      0.000       2.400       3.152\n",
      "x2            76.0215     30.131      2.523      0.014      18.259     133.784\n",
      "x1:x2         -1.1075      0.406     -2.731      0.008      -1.885      -0.330\n",
      "==============================================================================\n",
      "Omnibus:                        1.918   Durbin-Watson:                   2.067\n",
      "Prob(Omnibus):                  0.383   Jarque-Bera (JB):                1.248\n",
      "Skew:                           0.065   Prob(JB):                        0.536\n",
      "Kurtosis:                       3.672   Cond. No.                     4.96e+03\n",
      "==============================================================================\n",
      "\n",
      "Warnings:\n",
      "[1] Standard Errors assume that the covariance matrix of the errors is correctly specified.\n",
      "[2] The condition number is large, 4.96e+03. This might indicate that there are\n",
      "strong multicollinearity or other numerical problems.\n"
     ]
    }
   ],
   "source": [
    "print(model.summary(alpha=0.06))"
   ]
  },
  {
   "cell_type": "markdown",
   "metadata": {},
   "source": [
    "__The differece in slope betweeen the two lines is equal to the parameter β3. The 94% CI for β3 is  beteen -1.885 and -0.330.__"
   ]
  },
  {
   "cell_type": "code",
   "execution_count": null,
   "metadata": {},
   "outputs": [],
   "source": []
  }
 ],
 "metadata": {
  "kernelspec": {
   "display_name": "Python 3",
   "language": "python",
   "name": "python3"
  },
  "language_info": {
   "codemirror_mode": {
    "name": "ipython",
    "version": 3
   },
   "file_extension": ".py",
   "mimetype": "text/x-python",
   "name": "python",
   "nbconvert_exporter": "python",
   "pygments_lexer": "ipython3",
   "version": "3.7.0"
  }
 },
 "nbformat": 4,
 "nbformat_minor": 2
}
