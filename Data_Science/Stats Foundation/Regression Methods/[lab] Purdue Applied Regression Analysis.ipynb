{
 "cells": [
  {
   "cell_type": "markdown",
   "metadata": {},
   "source": [
    "# Lab Work - Purdue 512 - Applied Regression Analysis\n",
    "\n",
    "![](https://engineering.purdue.edu/Wraps/ECO/wrap7/images/logo.png)\n",
    "\n",
    "\n",
    "Here is a set of lab work from minzhang's 2015 [Purdue - 512 Applied Regression](http://www.stat.purdue.edu/~minzhang/512-Spring2015/)\n"
   ]
  },
  {
   "cell_type": "code",
   "execution_count": 7,
   "metadata": {},
   "outputs": [],
   "source": [
    "import pandas as pd\n",
    "import numpy as np\n",
    "\n",
    "# import plotting libraries\n",
    "\n",
    "import matplotlib.pyplot as plt\n",
    "import seaborn as sns\n",
    "\n",
    "%matplotlib inline\n",
    "plt.style.use('seaborn-white')\n",
    "\n",
    "# Statistical Packages\n",
    "import scipy.stats as stats\n",
    "import statsmodels.api as sm\n",
    "import statsmodels.formula.api as smf"
   ]
  },
  {
   "cell_type": "code",
   "execution_count": 77,
   "metadata": {},
   "outputs": [],
   "source": [
    "def ols_plot(x, x_name,y, y_name):\n",
    "    # https://nbviewer.jupyter.org/github/mscaudill/IntroStatLearn/blob/master/notebooks/Ch3_Linear_Regression/Lab_Linear_Regression.ipynb\n",
    "    # create a figure to plot our data and OLS estimate\n",
    "    fig, ax = plt.subplots(figsize=(8,6))\n",
    "\n",
    "    ax.scatter(x.values, y.values, facecolors='none',\n",
    "              edgecolors='b', label='data')\n",
    "    ax.set_xlabel(x_name)\n",
    "    ax.set_ylabel(y_name)\n",
    "\n",
    "    # call scipy linregress returning fit coefficients and simple statistics\n",
    "    beta1, beta0, r_value, p_value, stderr = stats.linregress(x.values, y.values)\n",
    "\n",
    "    # add the estimation to the data plot\n",
    "    ax.plot(x.values, beta0 + beta1 * x.values,\n",
    "           color = 'r', label = 'OLS')\n",
    "    ax.legend(loc='best')\n",
    "\n",
    "    # print the regression estimates and returned from scipy\n",
    "    print('beta = [', round(beta0,3), ',', round(beta1,3),']')\n",
    "    print('R={0:.3f}, \\np_value={1:.3f}, \\nstderr={2:.3f}'.format(r_value, p_value, stderr))\n",
    "\n",
    "def confident_bands_plot(model, x, y, alpha=0.05):\n",
    "    # https://www.learndatasci.com/tutorials/predicting-housing-prices-linear-regression-using-python-pandas-statsmodels/\n",
    "    from statsmodels.sandbox.regression.predstd import wls_prediction_std\n",
    "\n",
    "    # predictor variable (x) and dependent variable (y)\n",
    "\n",
    "    # Retrieve our confidence interval values\n",
    "    # _ is a dummy variable since we don't actually use it for plotting but need it as a placeholder\n",
    "    # since wls_prediction_std(housing_model) returns 3 values\n",
    "    _, confidence_interval_lower, confidence_interval_upper = wls_prediction_std(model, alpha=alpha)\n",
    "\n",
    "    fig, ax = plt.subplots(figsize=(10,7))\n",
    "\n",
    "    # plot the dots\n",
    "    # 'o' specifies the shape (circle), we can also use 'd' (diamonds), 's' (squares)\n",
    "    ax.plot(x, y, 'o', label=\"data\")\n",
    "\n",
    "    # plot the trend line\n",
    "    # g-- and r-- specify the color to use\n",
    "    ax.plot(x, model.fittedvalues, 'g--.', label=\"OLS\")\n",
    "\n",
    "    # plot upper and lower ci values\n",
    "    ax.plot(x, confidence_interval_upper, 'r--')\n",
    "    ax.plot(x, confidence_interval_lower, 'r--')\n",
    "\n",
    "    # plot legend\n",
    "    ax.legend(loc='best');"
   ]
  },
  {
   "cell_type": "markdown",
   "metadata": {},
   "source": [
    "## HW1 Problem 3\n",
    "\n",
    "Grade point average. The director of admissions of a small college selected 120 students at\n",
    "random from the new freshman class in a study to determine whether a student's grade point\n",
    "average (OPA) at the end of the freshman year (Y) can be predicted from the ACT test score (X).\n",
    "The results of the study follow. Assume that first-order regression model (1.1) is appropriate. "
   ]
  },
  {
   "cell_type": "code",
   "execution_count": 11,
   "metadata": {},
   "outputs": [
    {
     "data": {
      "text/html": [
       "<div>\n",
       "<style scoped>\n",
       "    .dataframe tbody tr th:only-of-type {\n",
       "        vertical-align: middle;\n",
       "    }\n",
       "\n",
       "    .dataframe tbody tr th {\n",
       "        vertical-align: top;\n",
       "    }\n",
       "\n",
       "    .dataframe thead th {\n",
       "        text-align: right;\n",
       "    }\n",
       "</style>\n",
       "<table border=\"1\" class=\"dataframe\">\n",
       "  <thead>\n",
       "    <tr style=\"text-align: right;\">\n",
       "      <th></th>\n",
       "      <th>GPA</th>\n",
       "      <th>ACT_test_scores</th>\n",
       "    </tr>\n",
       "  </thead>\n",
       "  <tbody>\n",
       "    <tr>\n",
       "      <th>0</th>\n",
       "      <td>3.897</td>\n",
       "      <td>21</td>\n",
       "    </tr>\n",
       "    <tr>\n",
       "      <th>1</th>\n",
       "      <td>3.885</td>\n",
       "      <td>14</td>\n",
       "    </tr>\n",
       "    <tr>\n",
       "      <th>2</th>\n",
       "      <td>3.778</td>\n",
       "      <td>28</td>\n",
       "    </tr>\n",
       "    <tr>\n",
       "      <th>3</th>\n",
       "      <td>2.540</td>\n",
       "      <td>22</td>\n",
       "    </tr>\n",
       "    <tr>\n",
       "      <th>4</th>\n",
       "      <td>3.028</td>\n",
       "      <td>21</td>\n",
       "    </tr>\n",
       "  </tbody>\n",
       "</table>\n",
       "</div>"
      ],
      "text/plain": [
       "     GPA  ACT_test_scores\n",
       "0  3.897               21\n",
       "1  3.885               14\n",
       "2  3.778               28\n",
       "3  2.540               22\n",
       "4  3.028               21"
      ]
     },
     "execution_count": 11,
     "metadata": {},
     "output_type": "execute_result"
    }
   ],
   "source": [
    "gpa = pd.read_table(\"http://www.stat.purdue.edu/~minzhang/512-Spring2015/Datasets_files/CH01PR19.DAT\",\n",
    "                     header=None, names=['GPA','ACT_test_scores'],delim_whitespace=True)\n",
    "gpa.head()"
   ]
  },
  {
   "cell_type": "code",
   "execution_count": 29,
   "metadata": {},
   "outputs": [
    {
     "name": "stdout",
     "output_type": "stream",
     "text": [
      "beta = [ 2.114 , 0.039 ]\n",
      "R=0.269, \n",
      "p_value=0.003, \n",
      "stderr=0.013\n"
     ]
    },
    {
     "data": {
      "image/png": "[encoded data removed]",
      "text/plain": [
       "<Figure size 576x432 with 1 Axes>"
      ]
     },
     "metadata": {
      "needs_background": "light"
     },
     "output_type": "display_data"
    }
   ],
   "source": [
    "ols_plot(gpa.ACT_test_scores, 'ACT Scores', gpa.GPA, 'GPA')"
   ]
  },
  {
   "cell_type": "code",
   "execution_count": 50,
   "metadata": {},
   "outputs": [
    {
     "data": {
      "text/plain": [
       "<matplotlib.axes._subplots.AxesSubplot at 0x157e06ddd30>"
      ]
     },
     "execution_count": 50,
     "metadata": {},
     "output_type": "execute_result"
    },
    {
     "data": {
      "image/png": "[encoded data removed]",
      "text/plain": [
       "<Figure size 432x288 with 1 Axes>"
      ]
     },
     "metadata": {
      "needs_background": "light"
     },
     "output_type": "display_data"
    }
   ],
   "source": [
    "x =gpa.ACT_test_scores\n",
    "y = gpa.GPA\n",
    "\n",
    "sns.regplot(x, y, lowess=True, line_kws={\"color\":\"magenta\", \"linewidth\":1}, \n",
    "            scatter_kws={'color':'r', 's':9})"
   ]
  },
  {
   "cell_type": "markdown",
   "metadata": {},
   "source": [
    ">Run a linear regression to predict GPA based on the entrance exam. Give the complete\n",
    "ANOVA table for this regression."
   ]
  },
  {
   "cell_type": "code",
   "execution_count": 14,
   "metadata": {},
   "outputs": [
    {
     "name": "stdout",
     "output_type": "stream",
     "text": [
      "estimated slope coefficient:  0.038827126905259586\n",
      "SSR:  3.5878458993130025\n",
      "                    df     sum_sq   mean_sq         F    PR(>F)\n",
      "ACT_test_scores    1.0   3.587846  3.587846  9.240243  0.002917\n",
      "Residual         118.0  45.817608  0.388285       NaN       NaN\n"
     ]
    }
   ],
   "source": [
    "model = smf.ols(formula='GPA~ACT_test_scores', data = gpa).fit()\n",
    "print(\"estimated slope coefficient: \", model.params.ACT_test_scores)\n",
    "print(\"SSR: \", model.mse_model)\n",
    "print(sm.stats.anova_lm(model))"
   ]
  },
  {
   "cell_type": "markdown",
   "metadata": {},
   "source": [
    "> Give a point estimate and a 94% confidence interval for the slope and intercept and\n",
    "interpret each of these in words. (Point estimate is another word for parameter estimate.)"
   ]
  },
  {
   "cell_type": "code",
   "execution_count": 16,
   "metadata": {},
   "outputs": [
    {
     "name": "stdout",
     "output_type": "stream",
     "text": [
      "                            OLS Regression Results                            \n",
      "==============================================================================\n",
      "Dep. Variable:                    GPA   R-squared:                       0.073\n",
      "Model:                            OLS   Adj. R-squared:                  0.065\n",
      "Method:                 Least Squares   F-statistic:                     9.240\n",
      "Date:                Sun, 17 Feb 2019   Prob (F-statistic):            0.00292\n",
      "Time:                        05:27:31   Log-Likelihood:                -112.50\n",
      "No. Observations:                 120   AIC:                             229.0\n",
      "Df Residuals:                     118   BIC:                             234.6\n",
      "Df Model:                           1                                         \n",
      "Covariance Type:            nonrobust                                         \n",
      "===================================================================================\n",
      "                      coef    std err          t      P>|t|       [0.03       0.97]\n",
      "-----------------------------------------------------------------------------------\n",
      "Intercept           2.1140      0.321      6.588      0.000       1.505       2.723\n",
      "ACT_test_scores     0.0388      0.013      3.040      0.003       0.015       0.063\n",
      "==============================================================================\n",
      "Omnibus:                       26.969   Durbin-Watson:                   1.831\n",
      "Prob(Omnibus):                  0.000   Jarque-Bera (JB):               47.360\n",
      "Skew:                          -0.994   Prob(JB):                     5.20e-11\n",
      "Kurtosis:                       5.349   Cond. No.                         142.\n",
      "==============================================================================\n",
      "\n",
      "Warnings:\n",
      "[1] Standard Errors assume that the covariance matrix of the errors is correctly specified.\n"
     ]
    }
   ],
   "source": [
    "print(model.summary(alpha = 0.06))"
   ]
  },
  {
   "cell_type": "markdown",
   "metadata": {},
   "source": [
    "#### Analysis:\n",
    "The regression equation for this problem is:\n",
    "__GPA = 2.11 + 0.039 ACT_test_scores__\n",
    "\n",
    "\n",
    "- __R-squared = 7%__ which indicates only 7% of the __varation in `GPA scores` is reducted by  taking into account ACT scores__\n",
    "- __Slope__  = 0.0388 which means that `GPA` score rate increases 0.0388 units, on average, for each one unit incease in `ACT Test Scores`\n",
    "- __Intercept__ = 2.11 which mean sthat if there were a student had a zero on the ACT test score the GPA would be 2.11. Since there were no students that had 0 on the ACT this intercept of the intercept is not practically meaniningful.\n",
    "\n",
    "__Confidence Interval__ We can be 94% confident that the GPA scores is between 0.015 and 0.063. that is, ew can be 94% confident that for every additional one unit increase in ACT Test score, the mean GPA score rate increase between 0.015 and 0.063."
   ]
  },
  {
   "cell_type": "markdown",
   "metadata": {},
   "source": [
    "## HW1 Problem 4\n",
    ">Plastic hardness. Refer to Problems 1.3 and 1.14. Sixteen batches of the plastic were made,\n",
    "and from each batch one test item was molded. Each test item was randomly assigned to one of\n",
    "the four predetermined time levels, and the hardness was measured after the assigned elapsed\n",
    "time. The results are shown below; X is the elapsed time in hours? and Y is hardness in Brinell\n",
    "units. Assume that first-order regression model (1.1) is appropria'te. "
   ]
  },
  {
   "cell_type": "code",
   "execution_count": 64,
   "metadata": {},
   "outputs": [
    {
     "data": {
      "text/html": [
       "<div>\n",
       "<style scoped>\n",
       "    .dataframe tbody tr th:only-of-type {\n",
       "        vertical-align: middle;\n",
       "    }\n",
       "\n",
       "    .dataframe tbody tr th {\n",
       "        vertical-align: top;\n",
       "    }\n",
       "\n",
       "    .dataframe thead th {\n",
       "        text-align: right;\n",
       "    }\n",
       "</style>\n",
       "<table border=\"1\" class=\"dataframe\">\n",
       "  <thead>\n",
       "    <tr style=\"text-align: right;\">\n",
       "      <th></th>\n",
       "      <th>hardness</th>\n",
       "      <th>hours</th>\n",
       "    </tr>\n",
       "  </thead>\n",
       "  <tbody>\n",
       "    <tr>\n",
       "      <th>0</th>\n",
       "      <td>199.0</td>\n",
       "      <td>16.0</td>\n",
       "    </tr>\n",
       "    <tr>\n",
       "      <th>1</th>\n",
       "      <td>205.0</td>\n",
       "      <td>16.0</td>\n",
       "    </tr>\n",
       "    <tr>\n",
       "      <th>2</th>\n",
       "      <td>196.0</td>\n",
       "      <td>16.0</td>\n",
       "    </tr>\n",
       "    <tr>\n",
       "      <th>3</th>\n",
       "      <td>200.0</td>\n",
       "      <td>16.0</td>\n",
       "    </tr>\n",
       "    <tr>\n",
       "      <th>4</th>\n",
       "      <td>218.0</td>\n",
       "      <td>24.0</td>\n",
       "    </tr>\n",
       "  </tbody>\n",
       "</table>\n",
       "</div>"
      ],
      "text/plain": [
       "   hardness  hours\n",
       "0     199.0   16.0\n",
       "1     205.0   16.0\n",
       "2     196.0   16.0\n",
       "3     200.0   16.0\n",
       "4     218.0   24.0"
      ]
     },
     "execution_count": 64,
     "metadata": {},
     "output_type": "execute_result"
    }
   ],
   "source": [
    "plastic = pd.read_table(\"http://www.stat.purdue.edu/~minzhang/512_Spring2014/Datasets_files/CH01PR22.DAT\",\n",
    "                       header=None, names=['hardness','hours'],delim_whitespace=True)\n",
    "plastic.head()"
   ]
  },
  {
   "cell_type": "code",
   "execution_count": 65,
   "metadata": {},
   "outputs": [
    {
     "name": "stdout",
     "output_type": "stream",
     "text": [
      "beta = [ 168.6 , 2.034 ]\n",
      "R=0.986, \n",
      "p_value=0.000, \n",
      "stderr=0.090\n"
     ]
    },
    {
     "data": {
      "image/png": "[encoded data removed]",
      "text/plain": [
       "<Figure size 576x432 with 1 Axes>"
      ]
     },
     "metadata": {
      "needs_background": "light"
     },
     "output_type": "display_data"
    }
   ],
   "source": [
    "ols_plot(plastic.hours, 'hours', plastic.hardness, 'hardness')"
   ]
  },
  {
   "cell_type": "markdown",
   "metadata": {},
   "source": [
    "This appears to be a (positive) linear relationship as observations are on the linear line. and the pvalue from the t-test for Beta = 0 is <0.001\n",
    "\n",
    "> Run the linear regression to predict hardness from time. Give\n",
    "i. the linear model used in this problem\n",
    "ii. the estimated regression equation."
   ]
  },
  {
   "cell_type": "code",
   "execution_count": 66,
   "metadata": {},
   "outputs": [
    {
     "name": "stdout",
     "output_type": "stream",
     "text": [
      "                            OLS Regression Results                            \n",
      "==============================================================================\n",
      "Dep. Variable:               hardness   R-squared:                       0.973\n",
      "Model:                            OLS   Adj. R-squared:                  0.971\n",
      "Method:                 Least Squares   F-statistic:                     506.5\n",
      "Date:                Sun, 17 Feb 2019   Prob (F-statistic):           2.16e-12\n",
      "Time:                        07:09:18   Log-Likelihood:                -40.414\n",
      "No. Observations:                  16   AIC:                             84.83\n",
      "Df Residuals:                      14   BIC:                             86.37\n",
      "Df Model:                           1                                         \n",
      "Covariance Type:            nonrobust                                         \n",
      "==============================================================================\n",
      "                 coef    std err          t      P>|t|      [0.025      0.975]\n",
      "------------------------------------------------------------------------------\n",
      "Intercept    168.6000      2.657     63.454      0.000     162.901     174.299\n",
      "hours          2.0344      0.090     22.506      0.000       1.840       2.228\n",
      "==============================================================================\n",
      "Omnibus:                        0.955   Durbin-Watson:                   2.466\n",
      "Prob(Omnibus):                  0.620   Jarque-Bera (JB):                0.711\n",
      "Skew:                           0.068   Prob(JB):                        0.701\n",
      "Kurtosis:                       1.976   Cond. No.                         96.7\n",
      "==============================================================================\n",
      "\n",
      "Warnings:\n",
      "[1] Standard Errors assume that the covariance matrix of the errors is correctly specified.\n"
     ]
    },
    {
     "name": "stderr",
     "output_type": "stream",
     "text": [
      "C:\\Program Files (x86)\\Microsoft Visual Studio\\Shared\\Anaconda3_64\\lib\\site-packages\\scipy\\stats\\stats.py:1394: UserWarning: kurtosistest only valid for n>=20 ... continuing anyway, n=16\n",
      "  \"anyway, n=%i\" % int(n))\n"
     ]
    }
   ],
   "source": [
    "model = smf.ols(formula='hardness~hours', data = plastic).fit()\n",
    "print(model.summary())"
   ]
  },
  {
   "cell_type": "markdown",
   "metadata": {},
   "source": [
    "Regression equation: __y-hat(hardness | hours) = 168.6 + 2.0344 hours__\n",
    "\n",
    "_To answer the question Is there a relationship between x and y?_\n",
    "- The null hypothesis is H0 : β1 = 0, and the alternative is HA : β1 6= 0.\n",
    "- The observed test statistics is t = 22.51\n",
    "\n",
    "Since the estimated slope of the line, b1  is 2.0344 and not 0 and there is a p-value <0.001, we can __reject the null hypothesis__ and conlcude there is sufficent evidence there is  __relationship between hours and hardness for plastic__ in the sample of 16 (14 degreees of freedom). We are 95% confident that for ever additional hour increase increment, the mean hardness rate increases between 1.84 and 2.228.\n",
    "\n",
    "We could also say: __We reject H0 and conclude that the slope is non-zero. So there is a significant linear relationship between hardness and time.__\n",
    "\n",
    "__R-squared = 97%__ this mean that 97% of the variation in plastic hardnes is due to or is explained by hours\n",
    "\n",
    "\n"
   ]
  },
  {
   "cell_type": "markdown",
   "metadata": {},
   "source": [
    "### ... Plastic Continuation HW2 Problem 5-10\n",
    ">Plot the data using proc gplot. Include a smoothed function on the plot by using the i =\n",
    "smnn option on the symbol1 statement, where nn is a number between 1 and 99. Please use\n",
    "the number 70. Is the relationship approximately linear?"
   ]
  },
  {
   "cell_type": "code",
   "execution_count": 81,
   "metadata": {},
   "outputs": [
    {
     "name": "stderr",
     "output_type": "stream",
     "text": [
      "C:\\Program Files (x86)\\Microsoft Visual Studio\\Shared\\Anaconda3_64\\lib\\site-packages\\scipy\\stats\\stats.py:1713: FutureWarning: Using a non-tuple sequence for multidimensional indexing is deprecated; use `arr[tuple(seq)]` instead of `arr[seq]`. In the future this will be interpreted as an array index, `arr[np.array(seq)]`, which will result either in an error or a different result.\n",
      "  return np.add.reduce(sorted[indexer] * weights, axis=axis) / sumval\n"
     ]
    },
    {
     "data": {
      "text/plain": [
       "<matplotlib.axes._subplots.AxesSubplot at 0x157e069e358>"
      ]
     },
     "execution_count": 81,
     "metadata": {},
     "output_type": "execute_result"
    },
    {
     "data": {
      "image/png": "[encoded data removed]",
      "text/plain": [
       "<Figure size 432x288 with 1 Axes>"
      ]
     },
     "metadata": {
      "needs_background": "light"
     },
     "output_type": "display_data"
    }
   ],
   "source": [
    "sns.regplot(x = 'hours', y= 'hardness', data = plastic, lowess=False, \n",
    "            line_kws={\"color\":\"magenta\", \"linewidth\":2}, \n",
    "            scatter_kws={'color':'r', 's':9})\n",
    "\n"
   ]
  },
  {
   "cell_type": "markdown",
   "metadata": {},
   "source": [
    "Yes, the relationship is reasonably linear. There is some slight curvature at lower values of time but nothing substantial.\n"
   ]
  },
  {
   "cell_type": "markdown",
   "metadata": {},
   "source": [
    ">6. Plot the 94% bounds (confidence band) for the mean (use i=rlclm on the symbol1 statement)."
   ]
  },
  {
   "cell_type": "code",
   "execution_count": 79,
   "metadata": {
    "scrolled": false
   },
   "outputs": [
    {
     "name": "stderr",
     "output_type": "stream",
     "text": [
      "C:\\Program Files (x86)\\Microsoft Visual Studio\\Shared\\Anaconda3_64\\lib\\site-packages\\scipy\\stats\\stats.py:1713: FutureWarning: Using a non-tuple sequence for multidimensional indexing is deprecated; use `arr[tuple(seq)]` instead of `arr[seq]`. In the future this will be interpreted as an array index, `arr[np.array(seq)]`, which will result either in an error or a different result.\n",
      "  return np.add.reduce(sorted[indexer] * weights, axis=axis) / sumval\n"
     ]
    },
    {
     "data": {
      "text/plain": [
       "<matplotlib.axes._subplots.AxesSubplot at 0x157e01c4390>"
      ]
     },
     "execution_count": 79,
     "metadata": {},
     "output_type": "execute_result"
    },
    {
     "data": {
      "image/png": "[encoded data removed]",
      "text/plain": [
       "<Figure size 432x288 with 1 Axes>"
      ]
     },
     "metadata": {
      "needs_background": "light"
     },
     "output_type": "display_data"
    }
   ],
   "source": [
    "sns.regplot(x=plastic.hours, y=plastic.hardness, ci=94, scatter_kws={'color':'r', 's':9})"
   ]
  },
  {
   "cell_type": "markdown",
   "metadata": {},
   "source": [
    ">7. Plot the 94% bounds for individual observations (using i=rlcli)."
   ]
  },
  {
   "cell_type": "code",
   "execution_count": 78,
   "metadata": {
    "scrolled": false
   },
   "outputs": [
    {
     "data": {
      "image/png": "[encoded data removed]",
      "text/plain": [
       "<Figure size 720x504 with 1 Axes>"
      ]
     },
     "metadata": {
      "needs_background": "light"
     },
     "output_type": "display_data"
    }
   ],
   "source": [
    "confident_bands_plot(model=model, x=plastic.hours, y=plastic.hardness, alpha=0.04)"
   ]
  },
  {
   "cell_type": "markdown",
   "metadata": {},
   "source": [
    ">8. Give an estimate of the mean hardness that you would expect after 36 and 43 hours; and a\n",
    "94% confidence interval for each estimate. Which confidence interval is wider and why is it\n",
    "wider?\n"
   ]
  },
  {
   "cell_type": "code",
   "execution_count": 87,
   "metadata": {},
   "outputs": [
    {
     "data": {
      "text/html": [
       "<div>\n",
       "<style scoped>\n",
       "    .dataframe tbody tr th:only-of-type {\n",
       "        vertical-align: middle;\n",
       "    }\n",
       "\n",
       "    .dataframe tbody tr th {\n",
       "        vertical-align: top;\n",
       "    }\n",
       "\n",
       "    .dataframe thead th {\n",
       "        text-align: right;\n",
       "    }\n",
       "</style>\n",
       "<table border=\"1\" class=\"dataframe\">\n",
       "  <thead>\n",
       "    <tr style=\"text-align: right;\">\n",
       "      <th></th>\n",
       "      <th>mean</th>\n",
       "      <th>mean_se</th>\n",
       "      <th>mean_ci_lower</th>\n",
       "      <th>mean_ci_upper</th>\n",
       "      <th>obs_ci_lower</th>\n",
       "      <th>obs_ci_upper</th>\n",
       "    </tr>\n",
       "  </thead>\n",
       "  <tbody>\n",
       "    <tr>\n",
       "      <th>0</th>\n",
       "      <td>241.837500</td>\n",
       "      <td>1.084726</td>\n",
       "      <td>239.617968</td>\n",
       "      <td>244.057032</td>\n",
       "      <td>234.857826</td>\n",
       "      <td>248.817174</td>\n",
       "    </tr>\n",
       "    <tr>\n",
       "      <th>1</th>\n",
       "      <td>256.078125</td>\n",
       "      <td>1.578660</td>\n",
       "      <td>252.847920</td>\n",
       "      <td>259.308330</td>\n",
       "      <td>248.714447</td>\n",
       "      <td>263.441803</td>\n",
       "    </tr>\n",
       "  </tbody>\n",
       "</table>\n",
       "</div>"
      ],
      "text/plain": [
       "         mean   mean_se  mean_ci_lower  mean_ci_upper  obs_ci_lower  \\\n",
       "0  241.837500  1.084726     239.617968     244.057032    234.857826   \n",
       "1  256.078125  1.578660     252.847920     259.308330    248.714447   \n",
       "\n",
       "   obs_ci_upper  \n",
       "0    248.817174  \n",
       "1    263.441803  "
      ]
     },
     "execution_count": 87,
     "metadata": {},
     "output_type": "execute_result"
    }
   ],
   "source": [
    "#Statsmodel - prediction for new observation\n",
    "\n",
    "model.get_prediction(pd.DataFrame({'hours':[36, 43]})).summary_frame(alpha=0.06)"
   ]
  },
  {
   "cell_type": "markdown",
   "metadata": {},
   "source": [
    "__Based on the output, the predicted value of `hardness` at 36 hours is 241.84 and at 94% confidence interval for the mean hardness is between 239.62 and 244.06.__\n",
    "\n",
    "__The output also give that at 43 hours, the _predicted hardness_ is 256.08 and at 94% ci for the mean hardness is between 252.85 and 259.31.__\n",
    "\n",
    "__The confidence interval for X = 43 is wider because the value 43 is farther away from the sample mean x-bar than 36. As a result the standard error for the prediciton is larger.__\n",
    "\n",
    "\n",
    "> 9. Give a prediction for the hardness that you would expect for an individual piece of plastic\n",
    "after 43 hours; give a 94% prediction interval for this quantity"
   ]
  },
  {
   "cell_type": "code",
   "execution_count": 91,
   "metadata": {},
   "outputs": [
    {
     "data": {
      "text/html": [
       "<div>\n",
       "<style scoped>\n",
       "    .dataframe tbody tr th:only-of-type {\n",
       "        vertical-align: middle;\n",
       "    }\n",
       "\n",
       "    .dataframe tbody tr th {\n",
       "        vertical-align: top;\n",
       "    }\n",
       "\n",
       "    .dataframe thead th {\n",
       "        text-align: right;\n",
       "    }\n",
       "</style>\n",
       "<table border=\"1\" class=\"dataframe\">\n",
       "  <thead>\n",
       "    <tr style=\"text-align: right;\">\n",
       "      <th></th>\n",
       "      <th>mean</th>\n",
       "      <th>mean_se</th>\n",
       "      <th>mean_ci_lower</th>\n",
       "      <th>mean_ci_upper</th>\n",
       "      <th>obs_ci_lower</th>\n",
       "      <th>obs_ci_upper</th>\n",
       "    </tr>\n",
       "  </thead>\n",
       "  <tbody>\n",
       "    <tr>\n",
       "      <th>0</th>\n",
       "      <td>256.078125</td>\n",
       "      <td>1.57866</td>\n",
       "      <td>252.84792</td>\n",
       "      <td>259.30833</td>\n",
       "      <td>248.714447</td>\n",
       "      <td>263.441803</td>\n",
       "    </tr>\n",
       "  </tbody>\n",
       "</table>\n",
       "</div>"
      ],
      "text/plain": [
       "         mean  mean_se  mean_ci_lower  mean_ci_upper  obs_ci_lower  \\\n",
       "0  256.078125  1.57866      252.84792      259.30833    248.714447   \n",
       "\n",
       "   obs_ci_upper  \n",
       "0    263.441803  "
      ]
     },
     "execution_count": 91,
     "metadata": {},
     "output_type": "execute_result"
    }
   ],
   "source": [
    "model.get_prediction(pd.DataFrame({'hours':[43]})).summary_frame(alpha=0.06)"
   ]
  },
  {
   "cell_type": "markdown",
   "metadata": {},
   "source": [
    "__The _predicted hardness_ is 256.08 after 43 hours; we are 94% confident that the hardness value will fall in the interval 248.71 to 263.44__"
   ]
  },
  {
   "cell_type": "code",
   "execution_count": null,
   "metadata": {},
   "outputs": [],
   "source": []
  },
  {
   "cell_type": "code",
   "execution_count": null,
   "metadata": {},
   "outputs": [],
   "source": []
  },
  {
   "cell_type": "code",
   "execution_count": null,
   "metadata": {},
   "outputs": [],
   "source": []
  },
  {
   "cell_type": "code",
   "execution_count": null,
   "metadata": {},
   "outputs": [],
   "source": []
  },
  {
   "cell_type": "code",
   "execution_count": null,
   "metadata": {},
   "outputs": [],
   "source": []
  },
  {
   "cell_type": "code",
   "execution_count": null,
   "metadata": {},
   "outputs": [],
   "source": []
  },
  {
   "cell_type": "code",
   "execution_count": null,
   "metadata": {},
   "outputs": [],
   "source": []
  },
  {
   "cell_type": "code",
   "execution_count": null,
   "metadata": {},
   "outputs": [],
   "source": []
  },
  {
   "cell_type": "code",
   "execution_count": null,
   "metadata": {},
   "outputs": [],
   "source": []
  },
  {
   "cell_type": "code",
   "execution_count": null,
   "metadata": {},
   "outputs": [],
   "source": []
  },
  {
   "cell_type": "code",
   "execution_count": null,
   "metadata": {},
   "outputs": [],
   "source": []
  },
  {
   "cell_type": "code",
   "execution_count": null,
   "metadata": {},
   "outputs": [],
   "source": []
  }
 ],
 "metadata": {
  "kernelspec": {
   "display_name": "Python 3",
   "language": "python",
   "name": "python3"
  },
  "language_info": {
   "codemirror_mode": {
    "name": "ipython",
    "version": 3
   },
   "file_extension": ".py",
   "mimetype": "text/x-python",
   "name": "python",
   "nbconvert_exporter": "python",
   "pygments_lexer": "ipython3",
   "version": "3.7.0"
  }
 },
 "nbformat": 4,
 "nbformat_minor": 2
}
