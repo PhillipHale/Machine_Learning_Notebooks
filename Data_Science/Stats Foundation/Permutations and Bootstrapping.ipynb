{
 "cells": [
  {
   "cell_type": "markdown",
   "metadata": {},
   "source": [
    "# Random Permutation\n",
    "Source: Statistics and Machine Learning in Python\n",
    "\n",
    "A __permutaiton test__ is a type of non-parametric randomization test in which the null distribution of a test statistic is estimated by randomly permuting the observations.\n",
    "\n",
    "Permutation test are highly attrative because they make no assumptions other than that the observations are independent and identically distributed under the null hypothesis\n",
    "\n",
    "1. Compute a observed statistic $t_{obs}$ on the data\n",
    "2. Use randomizaiton to compute the distributino of $t$ under they null hypthesis: \n",
    "    * Perform $N$ random permutations of the data. \n",
    "    * For each sample of the permuted data, $i$ the data compute the statistic $t_i$. This procedure provides the distribution of $t$ under the null hypothesis $H_0: P(t|H_0)$\n",
    "3. Compute the p-value = $P(t > t_{obs} | H_0)|{t_i > t_{obs}}$|, where $t_i$'s include $t_{obs}$"
   ]
  },
  {
   "cell_type": "code",
   "execution_count": 1,
   "metadata": {},
   "outputs": [],
   "source": [
    "import numpy as np\n",
    "import scipy.stats as stats\n",
    "import matplotlib.pyplot as plt\n",
    "import seaborn as sns\n",
    "%matplotlib inline"
   ]
  },
  {
   "cell_type": "code",
   "execution_count": 2,
   "metadata": {},
   "outputs": [],
   "source": [
    "np.random.seed(42)\n",
    "x = np.random.normal(loc = 10, scale = 1, size = 100)\n",
    "y = x + np.random.normal(loc= 3, scale = 3, size = 100) # snr = 1/2"
   ]
  },
  {
   "cell_type": "markdown",
   "metadata": {},
   "source": [
    "### Permutation: similuate the null hypothesis"
   ]
  },
  {
   "cell_type": "code",
   "execution_count": 10,
   "metadata": {},
   "outputs": [],
   "source": [
    "nperm = 10000\n",
    "perms = np.zeros(nperm + 1)\n",
    "\n",
    "perms[0] = np.corrcoef(x, y)[0, 1]\n",
    "\n",
    "for i in range(1, nperm):\n",
    "    perms[i] = np.corrcoef(np.random.permutation(x), y)[0, 1]"
   ]
  },
  {
   "cell_type": "markdown",
   "metadata": {},
   "source": [
    "### Plot"
   ]
  },
  {
   "cell_type": "code",
   "execution_count": 13,
   "metadata": {},
   "outputs": [
    {
     "name": "stdout",
     "output_type": "stream",
     "text": [
      "Permutation two tailed p-value=0.06959. Pearson test p-value=0.07355\n"
     ]
    },
    {
     "data": {
      "image/png": "[encoded data removed]",
      "text/plain": [
       "<matplotlib.figure.Figure at 0x25d40442438>"
      ]
     },
     "metadata": {},
     "output_type": "display_data"
    }
   ],
   "source": [
    "# Re-weight to obtain distribution\n",
    "weights = np.ones(perms.shape[0]) / perms.shape[0]\n",
    "plt.hist([perms[perms >= perms[0]], perms], histtype='stepfilled', \n",
    "        bins= 100, label=[\"t>t obs(p-value)\", \"t<t obs\"],\n",
    "        weights = [weights[perms >= perms[0]], weights])\n",
    "\n",
    "plt.xlabel(\"Statistic ditribution under null hypothesis\")\n",
    "plt.axvline(x = perms[0], color='blue', linewidth=1, label=\"observed statistic\")\n",
    "_ = plt.legend(loc=\"upper left\")\n",
    "\n",
    "# One-tailed emperical p-value\n",
    "pval_perm = np.sum(perms >= perms[0]) / perms.shape[0]\n",
    "\n",
    "# Compare with Pearson's correlation test\n",
    "_, pval_test = stats.pearsonr(x, y)\n",
    "\n",
    "print(\"Permutation two tailed p-value=%.5f. Pearson test p-value=%.5f\" % (2*pval_perm, pval_test))"
   ]
  },
  {
   "cell_type": "markdown",
   "metadata": {},
   "source": [
    "# Bootstrapping\n",
    "\n",
    "Botstraping is a random sampling with replacement strategy which porvides a non-parametric method to assess the variability of performances scores such __standard errors or confidence internvals__.\n"
   ]
  },
  {
   "cell_type": "code",
   "execution_count": 14,
   "metadata": {},
   "outputs": [],
   "source": [
    "import numpy as np\n",
    "from sklearn import datasets\n",
    "import sklearn.linear_model as lm\n",
    "import sklearn.metrics as metrics\n",
    "import pandas as pd\n",
    "# Regression dataset\n",
    "n_features = 5\n",
    "n_features_info = 2\n",
    "n_samples = 100\n",
    "X = np.random.randn(n_samples, n_features)\n",
    "beta = np.zeros(n_features)\n",
    "beta[:n_features_info] = 1\n",
    "Xbeta = np.dot(X, beta)\n",
    "eps = np.random.randn(n_samples)\n",
    "y = Xbeta + eps"
   ]
  },
  {
   "cell_type": "code",
   "execution_count": 15,
   "metadata": {},
   "outputs": [
    {
     "name": "stdout",
     "output_type": "stream",
     "text": [
      "Coefficients on all data:\n",
      "[ 1.01094082  0.92410534 -0.07588245  0.13848944  0.19659906]\n"
     ]
    }
   ],
   "source": [
    "# Fit model on all data (!! risk of overfit)\n",
    "model = lm.RidgeCV()\n",
    "model.fit(X, y)\n",
    "print(\"Coefficients on all data:\")\n",
    "print(model.coef_)"
   ]
  },
  {
   "cell_type": "code",
   "execution_count": 16,
   "metadata": {},
   "outputs": [],
   "source": [
    "# Bootstrap loop\n",
    "nboot = 100 # !! Should be at least 1000\n",
    "scores_names = [\"r2\"]\n",
    "scores_boot = np.zeros((nboot, len(scores_names)))\n",
    "coefs_boot = np.zeros((nboot, X.shape[1]))\n",
    "\n",
    "orig_all = np.arange(X.shape[0])\n",
    "for boot_i in range(nboot):\n",
    "    boot_tr = np.random.choice(orig_all, size=len(orig_all), replace=True)\n",
    "    boot_te = np.setdiff1d(orig_all, boot_tr, assume_unique=False)\n",
    "    Xtr, ytr = X[boot_tr, :], y[boot_tr]\n",
    "    Xte, yte = X[boot_te, :], y[boot_te]\n",
    "    model.fit(Xtr, ytr)\n",
    "    y_pred = model.predict(Xte).ravel()\n",
    "    scores_boot[boot_i, :] = metrics.r2_score(yte, y_pred)\n",
    "    coefs_boot[boot_i, :] = model.coef_\n"
   ]
  },
  {
   "cell_type": "code",
   "execution_count": 18,
   "metadata": {},
   "outputs": [
    {
     "name": "stdout",
     "output_type": "stream",
     "text": [
      "r-squared: Mean=0.59, SE=0.11, CI=(0.39 0.74)\n",
      "Coefficients distribution\n",
      "                0           1           2           3           4\n",
      "count  100.000000  100.000000  100.000000  100.000000  100.000000\n",
      "mean     1.007552    0.927999   -0.072079    0.166443    0.188892\n",
      "std      0.105309    0.118476    0.092189    0.109172    0.089533\n",
      "min      0.710004    0.676758   -0.331354   -0.059170   -0.043120\n",
      "1%       0.787546    0.695238   -0.261349   -0.058613    0.001962\n",
      "5%       0.835648    0.741149   -0.219243    0.009053    0.050575\n",
      "10%      0.878441    0.775851   -0.202235    0.042002    0.079449\n",
      "50%      1.013152    0.921445   -0.083346    0.167349    0.190600\n",
      "95%      1.211640    1.108971    0.052410    0.352416    0.345560\n",
      "99%      1.254097    1.180027    0.150143    0.383904    0.399238\n",
      "max      1.290094    1.264742    0.153999    0.511701    0.401858\n"
     ]
    },
    {
     "name": "stderr",
     "output_type": "stream",
     "text": [
      "C:\\Users\\phhale\\AppData\\Local\\Continuum\\anaconda3\\lib\\site-packages\\ipykernel_launcher.py:5: DeprecationWarning: \n",
      ".ix is deprecated. Please use\n",
      ".loc for label based indexing or\n",
      ".iloc for positional indexing\n",
      "\n",
      "See the documentation here:\n",
      "http://pandas.pydata.org/pandas-docs/stable/indexing.html#ix-indexer-is-deprecated\n",
      "  \"\"\"\n"
     ]
    }
   ],
   "source": [
    "# Compute Mean, SE, CI\n",
    "scores_boot = pd.DataFrame(scores_boot, columns=scores_names)\n",
    "scores_stat = scores_boot.describe(percentiles=[.99, .95, .5, .1, .05, 0.01])\n",
    "\n",
    "print(\"r-squared: Mean=%.2f, SE=%.2f, CI=(%.2f %.2f)\" %\\\n",
    "      tuple(scores_stat.ix[[\"mean\", \"std\", \"5%\", \"95%\"], \"r2\"]))\n",
    "\n",
    "coefs_boot = pd.DataFrame(coefs_boot)\n",
    "coefs_stat = coefs_boot.describe(percentiles=[.99, .95, .5, .1, .05, 0.01])\n",
    "print(\"Coefficients distribution\")\n",
    "print(coefs_stat)\n"
   ]
  }
 ],
 "metadata": {
  "kernelspec": {
   "display_name": "Python 3",
   "language": "python",
   "name": "python3"
  },
  "language_info": {
   "codemirror_mode": {
    "name": "ipython",
    "version": 3
   },
   "file_extension": ".py",
   "mimetype": "text/x-python",
   "name": "python",
   "nbconvert_exporter": "python",
   "pygments_lexer": "ipython3",
   "version": "3.6.4"
  }
 },
 "nbformat": 4,
 "nbformat_minor": 2
}
