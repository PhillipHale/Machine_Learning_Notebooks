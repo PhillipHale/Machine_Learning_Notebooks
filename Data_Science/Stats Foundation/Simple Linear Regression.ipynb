{
 "cells": [
  {
   "cell_type": "markdown",
   "metadata": {},
   "source": [
    "# Local Tourism Authority\n",
    "\n",
    "![](https://png.pngtree.com/element_origin_min_pic/16/09/07/1557cfbd8d4092f.jpg)\n",
    "\n",
    "__Problem:__ The CEO of the local Tourism Authority would like to know whether a family’s annual expenditure on recreation is related to their annual income. This information could be used to tailor marketing campaigns to certain consumer segments.\n",
    "\n",
    "To answer this probelm we will utilize __Linear Regression__ and build a statistical model to quantify the relationship between the two variables. This relationship is of interest as it allows us to gain an understanding of the problem, to make predictions, or assess new data in light of the relationship.\n"
   ]
  },
  {
   "cell_type": "code",
   "execution_count": 1,
   "metadata": {},
   "outputs": [],
   "source": [
    "import pandas as pd\n",
    "import numpy as np\n",
    "\n",
    "# import plotting libraries\n",
    "\n",
    "import matplotlib.pyplot as plt\n",
    "import seaborn as sns\n",
    "\n",
    "%matplotlib inline\n",
    "plt.style.use('seaborn-white')\n",
    "\n",
    "# Statistical Packages\n",
    "import scipy.stats as stats\n",
    "import statsmodels.api as sm\n",
    "import statsmodels.formula.api as smf"
   ]
  },
  {
   "cell_type": "code",
   "execution_count": 2,
   "metadata": {},
   "outputs": [
    {
     "data": {
      "text/html": [
       "<div>\n",
       "<style scoped>\n",
       "    .dataframe tbody tr th:only-of-type {\n",
       "        vertical-align: middle;\n",
       "    }\n",
       "\n",
       "    .dataframe tbody tr th {\n",
       "        vertical-align: top;\n",
       "    }\n",
       "\n",
       "    .dataframe thead th {\n",
       "        text-align: right;\n",
       "    }\n",
       "</style>\n",
       "<table border=\"1\" class=\"dataframe\">\n",
       "  <thead>\n",
       "    <tr style=\"text-align: right;\">\n",
       "      <th></th>\n",
       "      <th>expenditure</th>\n",
       "      <th>income</th>\n",
       "    </tr>\n",
       "  </thead>\n",
       "  <tbody>\n",
       "    <tr>\n",
       "      <th>0</th>\n",
       "      <td>2400</td>\n",
       "      <td>41200</td>\n",
       "    </tr>\n",
       "    <tr>\n",
       "      <th>1</th>\n",
       "      <td>2650</td>\n",
       "      <td>50100</td>\n",
       "    </tr>\n",
       "    <tr>\n",
       "      <th>2</th>\n",
       "      <td>2350</td>\n",
       "      <td>52000</td>\n",
       "    </tr>\n",
       "    <tr>\n",
       "      <th>3</th>\n",
       "      <td>4950</td>\n",
       "      <td>66000</td>\n",
       "    </tr>\n",
       "    <tr>\n",
       "      <th>4</th>\n",
       "      <td>3100</td>\n",
       "      <td>44500</td>\n",
       "    </tr>\n",
       "  </tbody>\n",
       "</table>\n",
       "</div>"
      ],
      "text/plain": [
       "   expenditure  income\n",
       "0         2400   41200\n",
       "1         2650   50100\n",
       "2         2350   52000\n",
       "3         4950   66000\n",
       "4         3100   44500"
      ]
     },
     "execution_count": 2,
     "metadata": {},
     "output_type": "execute_result"
    }
   ],
   "source": [
    "data = pd.read_csv(\"./data/tourist.csv\")\n",
    "data.head()"
   ]
  },
  {
   "cell_type": "markdown",
   "metadata": {},
   "source": [
    "So it appears we have 2 variables: `expenditures` and `income`. Since `expenditures` is likely to depend on a family's annual income, we will define `expenditures` as the __dependent / response variable (Y)__ and `income` as the __independent / explainatory variable (X)__. "
   ]
  },
  {
   "cell_type": "markdown",
   "metadata": {},
   "source": [
    "## Exploratory Data Anlaylsis\n",
    "\n",
    "One of the first steps before getting into statistical modelling is to visualize the data. With 2 quantatiative variables, the best display is to use a __scatter plot__ to identify visual relationships. "
   ]
  },
  {
   "cell_type": "code",
   "execution_count": 3,
   "metadata": {},
   "outputs": [
    {
     "data": {
      "text/plain": [
       "<matplotlib.axes._subplots.AxesSubplot at 0x23f978325f8>"
      ]
     },
     "execution_count": 3,
     "metadata": {},
     "output_type": "execute_result"
    },
    {
     "data": {
      "image/png": "[encoded data removed]",
      "text/plain": [
       "<Figure size 432x288 with 1 Axes>"
      ]
     },
     "metadata": {
      "needs_background": "light"
     },
     "output_type": "display_data"
    }
   ],
   "source": [
    "sns.regplot(data.income, data.expenditure, order = 1,\n",
    "           ci = None, scatter_kws={'color':'r', 's':9})"
   ]
  },
  {
   "cell_type": "markdown",
   "metadata": {},
   "source": [
    "#### Scatter Plot Interpretation \n",
    "It can been seen that the relationship between income and expense has the following characteristics:\n",
    "\n",
    "- __Direction:__ Positive _(i.e., as income increases so does expense)_\n",
    "- __Shape:__ Roughly linear _(i.e., the points appear to fall along a straight line)_\n",
    "- __Strength:__ Reasonably Strong _(i.e., there is considerable sfcatter about the linear line)_\n",
    "\n",
    "We can also see the __linear regression model__ depectied were the linear stright line is the line connecting the average of the `y` values for each of the independent variable, `x`. "
   ]
  },
  {
   "cell_type": "markdown",
   "metadata": {},
   "source": [
    "## Correlation (Pearson's Correlation Coefficient)\n",
    "\n",
    "Now that we have a visual depiction of the linearity of the data, we can quanitfy the strength of this linear relationship numerically using __correlation__, $\\rho$ (\"rho\"). \n",
    "\n",
    "We will the `corr()` function to cacluate the sample correlation. "
   ]
  },
  {
   "cell_type": "code",
   "execution_count": 4,
   "metadata": {},
   "outputs": [
    {
     "data": {
      "text/html": [
       "<div>\n",
       "<style scoped>\n",
       "    .dataframe tbody tr th:only-of-type {\n",
       "        vertical-align: middle;\n",
       "    }\n",
       "\n",
       "    .dataframe tbody tr th {\n",
       "        vertical-align: top;\n",
       "    }\n",
       "\n",
       "    .dataframe thead th {\n",
       "        text-align: right;\n",
       "    }\n",
       "</style>\n",
       "<table border=\"1\" class=\"dataframe\">\n",
       "  <thead>\n",
       "    <tr style=\"text-align: right;\">\n",
       "      <th></th>\n",
       "      <th>expenditure</th>\n",
       "      <th>income</th>\n",
       "    </tr>\n",
       "  </thead>\n",
       "  <tbody>\n",
       "    <tr>\n",
       "      <th>expenditure</th>\n",
       "      <td>1.000000</td>\n",
       "      <td>0.875256</td>\n",
       "    </tr>\n",
       "    <tr>\n",
       "      <th>income</th>\n",
       "      <td>0.875256</td>\n",
       "      <td>1.000000</td>\n",
       "    </tr>\n",
       "  </tbody>\n",
       "</table>\n",
       "</div>"
      ],
      "text/plain": [
       "             expenditure    income\n",
       "expenditure     1.000000  0.875256\n",
       "income          0.875256  1.000000"
      ]
     },
     "execution_count": 4,
     "metadata": {},
     "output_type": "execute_result"
    }
   ],
   "source": [
    "data.corr()"
   ]
  },
  {
   "cell_type": "markdown",
   "metadata": {},
   "source": [
    "#### Interpretation\n",
    "We get a correlation value of 0.875 which on a scale between +1, 0, and -1, this correlation is in fact quite strong. "
   ]
  },
  {
   "cell_type": "markdown",
   "metadata": {},
   "source": [
    "## Simple Linear Regression Model\n",
    "\n",
    "So above when we plotted the scatter plot we added a parameter to also plot the __regression line__. This line is called the __Least Squares Regression (LSR) line__ and is used to determein the ebst line. Basically the best line will result in the smallest Residual Sum of Squares from all possible canidate lines. \n",
    "\n",
    "Now lets run the linear regression model using the `ols` command. "
   ]
  },
  {
   "cell_type": "code",
   "execution_count": 5,
   "metadata": {},
   "outputs": [
    {
     "name": "stdout",
     "output_type": "stream",
     "text": [
      "Intercept   -372.645082\n",
      "income         0.069572\n",
      "dtype: float64 \n",
      "\n",
      "                            OLS Regression Results                            \n",
      "==============================================================================\n",
      "Dep. Variable:            expenditure   R-squared:                       0.766\n",
      "Model:                            OLS   Adj. R-squared:                  0.753\n",
      "Method:                 Least Squares   F-statistic:                     58.95\n",
      "Date:                Tue, 15 Jan 2019   Prob (F-statistic):           4.38e-07\n",
      "Time:                        14:47:17   Log-Likelihood:                -153.05\n",
      "No. Observations:                  20   AIC:                             310.1\n",
      "Df Residuals:                      18   BIC:                             312.1\n",
      "Df Model:                           1                                         \n",
      "Covariance Type:            nonrobust                                         \n",
      "==============================================================================\n",
      "                 coef    std err          t      P>|t|      [0.025      0.975]\n",
      "------------------------------------------------------------------------------\n",
      "Intercept   -372.6451    436.972     -0.853      0.405   -1290.688     545.398\n",
      "income         0.0696      0.009      7.678      0.000       0.051       0.089\n",
      "==============================================================================\n",
      "Omnibus:                        0.983   Durbin-Watson:                   2.063\n",
      "Prob(Omnibus):                  0.612   Jarque-Bera (JB):                0.760\n",
      "Skew:                           0.080   Prob(JB):                        0.684\n",
      "Kurtosis:                       2.059   Cond. No.                     1.75e+05\n",
      "==============================================================================\n",
      "\n",
      "Warnings:\n",
      "[1] Standard Errors assume that the covariance matrix of the errors is correctly specified.\n",
      "[2] The condition number is large, 1.75e+05. This might indicate that there are\n",
      "strong multicollinearity or other numerical problems.\n"
     ]
    }
   ],
   "source": [
    "# Ordinary Least Squares (ols) \n",
    "\n",
    "#create fitted model\n",
    "lm = smf.ols(formula='expenditure ~ income', data = data).fit()\n",
    "\n",
    "print(lm.params,'\\n')\n",
    "\n",
    "# summary of the regression coefficents\n",
    "print(lm.summary())"
   ]
  },
  {
   "cell_type": "markdown",
   "metadata": {},
   "source": [
    "#### ANOVA\n",
    "In addition, we can lso aobstain the __ANOVA__ table by running `stats.anova_lm()` function. "
   ]
  },
  {
   "cell_type": "code",
   "execution_count": 6,
   "metadata": {},
   "outputs": [
    {
     "name": "stdout",
     "output_type": "stream",
     "text": [
      "            df        sum_sq       mean_sq          F        PR(>F)\n",
      "income     1.0  1.701080e+07  1.701080e+07  58.947318  4.379584e-07\n",
      "Residual  18.0  5.194374e+06  2.885763e+05        NaN           NaN\n"
     ]
    }
   ],
   "source": [
    "anova_results = sm.stats.anova_lm(lm)\n",
    "print(anova_results)"
   ]
  },
  {
   "cell_type": "markdown",
   "metadata": {},
   "source": [
    "## Residuals\n",
    "#### Standardized Residuals\n",
    "\n",
    "[Per Statistics How To](https://www.statisticshowto.datasciencecentral.com/what-is-a-standardized-residuals/) Standardized residuals are very similar to the kind of standardization you perform earlier on in statistics with z-scores. Z-scores allow you to standardize normal distributions so that you can compare your values; standardized residuals normalize your data in regression analysis and chi square hypothesis testing. \n",
    "\n",
    "\n",
    "The standardized residuals can be obtained from the fitted bodel using the following function:"
   ]
  },
  {
   "cell_type": "raw",
   "metadata": {},
   "source": [
    "TODO"
   ]
  },
  {
   "cell_type": "markdown",
   "metadata": {},
   "source": [
    "#### studentized residuals"
   ]
  },
  {
   "cell_type": "code",
   "execution_count": 8,
   "metadata": {},
   "outputs": [
    {
     "data": {
      "text/html": [
       "<div>\n",
       "<style scoped>\n",
       "    .dataframe tbody tr th:only-of-type {\n",
       "        vertical-align: middle;\n",
       "    }\n",
       "\n",
       "    .dataframe tbody tr th {\n",
       "        vertical-align: top;\n",
       "    }\n",
       "\n",
       "    .dataframe thead th {\n",
       "        text-align: right;\n",
       "    }\n",
       "</style>\n",
       "<table border=\"1\" class=\"dataframe\">\n",
       "  <thead>\n",
       "    <tr style=\"text-align: right;\">\n",
       "      <th></th>\n",
       "      <th>student_resid</th>\n",
       "      <th>unadj_p</th>\n",
       "      <th>bonf(p)</th>\n",
       "    </tr>\n",
       "  </thead>\n",
       "  <tbody>\n",
       "    <tr>\n",
       "      <th>0</th>\n",
       "      <td>-0.174792</td>\n",
       "      <td>0.863308</td>\n",
       "      <td>1.0</td>\n",
       "    </tr>\n",
       "    <tr>\n",
       "      <th>1</th>\n",
       "      <td>-0.880388</td>\n",
       "      <td>0.390925</td>\n",
       "      <td>1.0</td>\n",
       "    </tr>\n",
       "    <tr>\n",
       "      <th>2</th>\n",
       "      <td>-1.825625</td>\n",
       "      <td>0.085526</td>\n",
       "      <td>1.0</td>\n",
       "    </tr>\n",
       "    <tr>\n",
       "      <th>3</th>\n",
       "      <td>1.539761</td>\n",
       "      <td>0.142025</td>\n",
       "      <td>1.0</td>\n",
       "    </tr>\n",
       "    <tr>\n",
       "      <th>4</th>\n",
       "      <td>0.709843</td>\n",
       "      <td>0.487425</td>\n",
       "      <td>1.0</td>\n",
       "    </tr>\n",
       "    <tr>\n",
       "      <th>5</th>\n",
       "      <td>0.471994</td>\n",
       "      <td>0.642933</td>\n",
       "      <td>1.0</td>\n",
       "    </tr>\n",
       "    <tr>\n",
       "      <th>6</th>\n",
       "      <td>0.781255</td>\n",
       "      <td>0.445397</td>\n",
       "      <td>1.0</td>\n",
       "    </tr>\n",
       "    <tr>\n",
       "      <th>7</th>\n",
       "      <td>1.764647</td>\n",
       "      <td>0.095581</td>\n",
       "      <td>1.0</td>\n",
       "    </tr>\n",
       "    <tr>\n",
       "      <th>8</th>\n",
       "      <td>-1.332427</td>\n",
       "      <td>0.200306</td>\n",
       "      <td>1.0</td>\n",
       "    </tr>\n",
       "    <tr>\n",
       "      <th>9</th>\n",
       "      <td>-0.677950</td>\n",
       "      <td>0.506927</td>\n",
       "      <td>1.0</td>\n",
       "    </tr>\n",
       "    <tr>\n",
       "      <th>10</th>\n",
       "      <td>-1.581880</td>\n",
       "      <td>0.132102</td>\n",
       "      <td>1.0</td>\n",
       "    </tr>\n",
       "    <tr>\n",
       "      <th>11</th>\n",
       "      <td>-0.329467</td>\n",
       "      <td>0.745827</td>\n",
       "      <td>1.0</td>\n",
       "    </tr>\n",
       "    <tr>\n",
       "      <th>12</th>\n",
       "      <td>1.522907</td>\n",
       "      <td>0.146167</td>\n",
       "      <td>1.0</td>\n",
       "    </tr>\n",
       "    <tr>\n",
       "      <th>13</th>\n",
       "      <td>-0.664170</td>\n",
       "      <td>0.515490</td>\n",
       "      <td>1.0</td>\n",
       "    </tr>\n",
       "    <tr>\n",
       "      <th>14</th>\n",
       "      <td>1.417896</td>\n",
       "      <td>0.174291</td>\n",
       "      <td>1.0</td>\n",
       "    </tr>\n",
       "    <tr>\n",
       "      <th>15</th>\n",
       "      <td>-0.355390</td>\n",
       "      <td>0.726669</td>\n",
       "      <td>1.0</td>\n",
       "    </tr>\n",
       "    <tr>\n",
       "      <th>16</th>\n",
       "      <td>0.076743</td>\n",
       "      <td>0.939724</td>\n",
       "      <td>1.0</td>\n",
       "    </tr>\n",
       "    <tr>\n",
       "      <th>17</th>\n",
       "      <td>0.158477</td>\n",
       "      <td>0.875948</td>\n",
       "      <td>1.0</td>\n",
       "    </tr>\n",
       "    <tr>\n",
       "      <th>18</th>\n",
       "      <td>-0.579567</td>\n",
       "      <td>0.569808</td>\n",
       "      <td>1.0</td>\n",
       "    </tr>\n",
       "    <tr>\n",
       "      <th>19</th>\n",
       "      <td>0.185710</td>\n",
       "      <td>0.854870</td>\n",
       "      <td>1.0</td>\n",
       "    </tr>\n",
       "  </tbody>\n",
       "</table>\n",
       "</div>"
      ],
      "text/plain": [
       "    student_resid   unadj_p  bonf(p)\n",
       "0       -0.174792  0.863308      1.0\n",
       "1       -0.880388  0.390925      1.0\n",
       "2       -1.825625  0.085526      1.0\n",
       "3        1.539761  0.142025      1.0\n",
       "4        0.709843  0.487425      1.0\n",
       "5        0.471994  0.642933      1.0\n",
       "6        0.781255  0.445397      1.0\n",
       "7        1.764647  0.095581      1.0\n",
       "8       -1.332427  0.200306      1.0\n",
       "9       -0.677950  0.506927      1.0\n",
       "10      -1.581880  0.132102      1.0\n",
       "11      -0.329467  0.745827      1.0\n",
       "12       1.522907  0.146167      1.0\n",
       "13      -0.664170  0.515490      1.0\n",
       "14       1.417896  0.174291      1.0\n",
       "15      -0.355390  0.726669      1.0\n",
       "16       0.076743  0.939724      1.0\n",
       "17       0.158477  0.875948      1.0\n",
       "18      -0.579567  0.569808      1.0\n",
       "19       0.185710  0.854870      1.0"
      ]
     },
     "execution_count": 8,
     "metadata": {},
     "output_type": "execute_result"
    }
   ],
   "source": [
    "#Creating a dataframe that includes the studentized residuals\n",
    "sm.regression.linear_model.OLSResults.outlier_test(lm)"
   ]
  },
  {
   "cell_type": "code",
   "execution_count": 9,
   "metadata": {},
   "outputs": [
    {
     "data": {
      "image/png": "[encoded data removed]",
      "text/plain": [
       "<Figure size 432x288 with 1 Axes>"
      ]
     },
     "metadata": {
      "needs_background": "light"
     },
     "output_type": "display_data"
    }
   ],
   "source": [
    "sm.graphics.influence_plot(lm, alpha  = 0.05, criterion=\"cooks\");"
   ]
  },
  {
   "cell_type": "markdown",
   "metadata": {},
   "source": [
    "graph is the Leverage v.s. Studentized residuals plot. y axis(verticle axis) is the studentized residuals indicating if there is any outliers based on the alpha value(significace level)."
   ]
  },
  {
   "cell_type": "code",
   "execution_count": null,
   "metadata": {},
   "outputs": [],
   "source": []
  },
  {
   "cell_type": "markdown",
   "metadata": {},
   "source": [
    "## Model Diagnostics (Checking Assumptions)\n",
    "\n",
    "Before we continue with Simple Linear Regression model building, there are several assumptions that need to be met for the linear regression model to be appropriate. \n",
    "\n",
    "1. Errors are statistically independent from each other\n",
    "\n",
    "2. Errors have constant variance\n",
    "\n",
    "3. Errors are normally distributed with mean 0\n",
    "\n",
    "4. Straight line is appropriate\n",
    "\n",
    "\n",
    "### Independence of Errors\n",
    "\n",
    "This assumption can only be assessed by knowing how the data were collected. In essence, this assumption tries to ensure that each data point is unique in its own right and that no two data points convey the same information."
   ]
  },
  {
   "cell_type": "markdown",
   "metadata": {},
   "source": [
    "### Constant Variance of Errors\n",
    "The assumption of constant variance of the errors states that the variability of the errors remains the same, irrespective of the value of the independent variable x.\n",
    "\n",
    "Therefore, if we plotted the __residuals vs the observations $x$__ we should have a plot with __roughly equal scatter of residuals for all values of $x$__. In other words, ___a band of points with about constant width should be visible.__\n",
    "\n",
    "We will use the `studentized residual plot` instead of the ordinary residual results our our linear model."
   ]
  },
  {
   "cell_type": "code",
   "execution_count": 10,
   "metadata": {},
   "outputs": [
    {
     "data": {
      "text/plain": [
       "<matplotlib.axes._subplots.AxesSubplot at 0x23f982cf908>"
      ]
     },
     "execution_count": 10,
     "metadata": {},
     "output_type": "execute_result"
    },
    {
     "data": {
      "image/png": "[encoded data removed]",
      "text/plain": [
       "<Figure size 432x288 with 1 Axes>"
      ]
     },
     "metadata": {
      "needs_background": "light"
     },
     "output_type": "display_data"
    }
   ],
   "source": [
    "student_residuals = sm.regression.linear_model.OLSResults.outlier_test(lm)['student_resid']\n",
    "sns.regplot(data.income, student_residuals, order = 1,\n",
    "           ci = None, scatter_kws={'color':'r', 's':9})"
   ]
  },
  {
   "cell_type": "markdown",
   "metadata": {},
   "source": [
    "#### Interpretation of the Studentized Residual Plot\n",
    "\n",
    "From the Studentized Residual Plot it can be concluded that the assumption of __constant variablity is appropriate__ since the residuals fall within a horizontal band which does not appear to change in width. "
   ]
  },
  {
   "cell_type": "markdown",
   "metadata": {},
   "source": [
    "### Normality of Errors\n",
    "\n",
    "Normality is important as it enables us to make inferences about the parameter (e.g., regression coefficients). To test this assumption we will plot the data on a _Normal Probability Plot_, with the assumption that the __data are random sample from a Normal distribution_.\n",
    "\n",
    "We will plot the Normal Probability Plot of the residuals from the linear regression fitted model using `statsmodels` `qqplot()` function."
   ]
  },
  {
   "cell_type": "code",
   "execution_count": 11,
   "metadata": {},
   "outputs": [
    {
     "data": {
      "text/plain": [
       "Text(0.5,1,'QQ Plot')"
      ]
     },
     "execution_count": 11,
     "metadata": {},
     "output_type": "execute_result"
    },
    {
     "data": {
      "image/png": "[encoded data removed]",
      "text/plain": [
       "<Figure size 432x288 with 1 Axes>"
      ]
     },
     "metadata": {
      "needs_background": "light"
     },
     "output_type": "display_data"
    }
   ],
   "source": [
    "# statsmodels Q-Q plot on model residuals\n",
    "qq = sm.ProbPlot(lm.resid)\n",
    "fig = qq.qqplot(alpha=0.5, markersize=5, line='s')\n",
    "plt.title(\"QQ Plot\")"
   ]
  },
  {
   "cell_type": "markdown",
   "metadata": {},
   "source": [
    "##### Interpretation\n",
    "We can see that residuals fall generally fairly close to a stright line and thus it can be concluded that the __assumption of normality is met__. \n",
    "\n",
    "However, perhaps we were skeptical about the this observational fit on the linear line, suppose we ask _\"How close must the residuals be to the straight line in order for the normality assumption to be acceptable?\"_\n",
    "\n",
    "###### Shapiro-Wilk Test\n",
    "To suppliment the analysis of normality, we can use the __Shapiro Test__ for normality to assess whether the residuals are significantly different from a Normal distribution; as such:"
   ]
  },
  {
   "cell_type": "code",
   "execution_count": 12,
   "metadata": {},
   "outputs": [
    {
     "name": "stdout",
     "output_type": "stream",
     "text": [
      "Statistics=0.9642, p=0.6303\n"
     ]
    }
   ],
   "source": [
    "# normality test using the Shapiro Test\n",
    "stat, p = stats.shapiro(lm.resid)\n",
    "print('Statistics=%.4f, p=%.4f' % (stat, p))"
   ]
  },
  {
   "cell_type": "markdown",
   "metadata": {},
   "source": [
    "The results show the residuals can be considered to come from a normal distribution (due to the large p-value)"
   ]
  },
  {
   "cell_type": "markdown",
   "metadata": {},
   "source": [
    "### Straight Line is Appropriate\n",
    "\n",
    "The __studentized residual plot__ is also used to assess the assumption that a straight line is appropriate. Howerever the way we look at this plot is with the interest of __any patterns which suggest that a straight line is not appropriate__ such as evidence of curvature in the residual plot."
   ]
  },
  {
   "cell_type": "code",
   "execution_count": 13,
   "metadata": {},
   "outputs": [
    {
     "data": {
      "text/plain": [
       "<matplotlib.axes._subplots.AxesSubplot at 0x23f97b24208>"
      ]
     },
     "execution_count": 13,
     "metadata": {},
     "output_type": "execute_result"
    },
    {
     "data": {
      "image/png": "[encoded data removed]",
      "text/plain": [
       "<Figure size 432x288 with 1 Axes>"
      ]
     },
     "metadata": {
      "needs_background": "light"
     },
     "output_type": "display_data"
    }
   ],
   "source": [
    "student_residuals = sm.regression.linear_model.OLSResults.outlier_test(lm)['student_resid']\n",
    "sns.regplot(data.income, student_residuals, order = 1,\n",
    "           ci = None, scatter_kws={'color':'r', 's':9})"
   ]
  },
  {
   "cell_type": "markdown",
   "metadata": {},
   "source": [
    "#### Interpretation\n",
    "\n",
    "Similar to _constant variance assumption_, the data shows __no pattern is apparent__ from the studentized residual plot. Therefore, we can conclude that this __assumption is met__."
   ]
  },
  {
   "cell_type": "code",
   "execution_count": 14,
   "metadata": {},
   "outputs": [
    {
     "data": {
      "image/png": "[encoded data removed]",
      "text/plain": [
       "<Figure size 432x288 with 1 Axes>"
      ]
     },
     "metadata": {
      "needs_background": "light"
     },
     "output_type": "display_data"
    }
   ],
   "source": [
    "sm.graphics.plot_leverage_resid2(lm);"
   ]
  },
  {
   "cell_type": "code",
   "execution_count": 15,
   "metadata": {},
   "outputs": [
    {
     "data": {
      "image/png": "[encoded data removed]",
      "text/plain": [
       "<Figure size 432x288 with 1 Axes>"
      ]
     },
     "metadata": {
      "needs_background": "light"
     },
     "output_type": "display_data"
    }
   ],
   "source": [
    "sm.graphics.influence_plot(lm, alpha  = 0.05, criterion=\"cooks\");"
   ]
  },
  {
   "cell_type": "code",
   "execution_count": null,
   "metadata": {},
   "outputs": [],
   "source": []
  },
  {
   "cell_type": "code",
   "execution_count": 17,
   "metadata": {},
   "outputs": [
    {
     "data": {
      "text/plain": [
       "<matplotlib.legend.Legend at 0x23f9833dcc0>"
      ]
     },
     "execution_count": 17,
     "metadata": {},
     "output_type": "execute_result"
    },
    {
     "data": {
      "image/png": "[encoded data removed]",
      "text/plain": [
       "<Figure size 432x288 with 1 Axes>"
      ]
     },
     "metadata": {
      "needs_background": "light"
     },
     "output_type": "display_data"
    }
   ],
   "source": [
    "plt.scatter(data.income, data.expenditure)\n",
    "plt.scatter(np.mean(data.income), np.mean(data.expenditure), color = \"green\")\n",
    "plt.plot(np.sort(data.income), data.expenditure[np.argsort(data.income)], label = \"actual\")\n",
    "plt.plot(np.sort(data.income), lm.predict()[np.argsort(data.income)], label = \"regression\")\n",
    "plt.title(\"Linear Regression plots with the regression line\")\n",
    "plt.legend()"
   ]
  },
  {
   "cell_type": "markdown",
   "metadata": {},
   "source": [
    "use the `ols model` to get an instance of Influence with influence and outlier measures."
   ]
  },
  {
   "cell_type": "code",
   "execution_count": 18,
   "metadata": {},
   "outputs": [
    {
     "data": {
      "text/html": [
       "<div>\n",
       "<style scoped>\n",
       "    .dataframe tbody tr th:only-of-type {\n",
       "        vertical-align: middle;\n",
       "    }\n",
       "\n",
       "    .dataframe tbody tr th {\n",
       "        vertical-align: top;\n",
       "    }\n",
       "\n",
       "    .dataframe thead th {\n",
       "        text-align: right;\n",
       "    }\n",
       "</style>\n",
       "<table border=\"1\" class=\"dataframe\">\n",
       "  <thead>\n",
       "    <tr style=\"text-align: right;\">\n",
       "      <th></th>\n",
       "      <th>dfb_Intercept</th>\n",
       "      <th>dfb_income</th>\n",
       "      <th>cooks_d</th>\n",
       "      <th>standard_resid</th>\n",
       "      <th>hat_diag</th>\n",
       "      <th>dffits_internal</th>\n",
       "      <th>student_resid</th>\n",
       "      <th>dffits</th>\n",
       "    </tr>\n",
       "  </thead>\n",
       "  <tbody>\n",
       "    <tr>\n",
       "      <th>0</th>\n",
       "      <td>-0.026150</td>\n",
       "      <td>0.015687</td>\n",
       "      <td>0.000987</td>\n",
       "      <td>-0.179698</td>\n",
       "      <td>0.057591</td>\n",
       "      <td>-0.044422</td>\n",
       "      <td>-0.174792</td>\n",
       "      <td>-0.043209</td>\n",
       "    </tr>\n",
       "    <tr>\n",
       "      <th>1</th>\n",
       "      <td>-0.000807</td>\n",
       "      <td>-0.057027</td>\n",
       "      <td>0.022388</td>\n",
       "      <td>-0.885941</td>\n",
       "      <td>0.053969</td>\n",
       "      <td>-0.211605</td>\n",
       "      <td>-0.880388</td>\n",
       "      <td>-0.210279</td>\n",
       "    </tr>\n",
       "    <tr>\n",
       "      <th>2</th>\n",
       "      <td>0.056316</td>\n",
       "      <td>-0.178891</td>\n",
       "      <td>0.092556</td>\n",
       "      <td>-1.717703</td>\n",
       "      <td>0.059035</td>\n",
       "      <td>-0.430245</td>\n",
       "      <td>-1.825625</td>\n",
       "      <td>-0.457277</td>\n",
       "    </tr>\n",
       "    <tr>\n",
       "      <th>3</th>\n",
       "      <td>-0.431655</td>\n",
       "      <td>0.556336</td>\n",
       "      <td>0.209348</td>\n",
       "      <td>1.484278</td>\n",
       "      <td>0.159699</td>\n",
       "      <td>0.647067</td>\n",
       "      <td>1.539761</td>\n",
       "      <td>0.671255</td>\n",
       "    </tr>\n",
       "    <tr>\n",
       "      <th>4</th>\n",
       "      <td>0.066829</td>\n",
       "      <td>-0.022923</td>\n",
       "      <td>0.013920</td>\n",
       "      <td>0.719832</td>\n",
       "      <td>0.050990</td>\n",
       "      <td>0.166854</td>\n",
       "      <td>0.709843</td>\n",
       "      <td>0.164539</td>\n",
       "    </tr>\n",
       "    <tr>\n",
       "      <th>5</th>\n",
       "      <td>0.098939</td>\n",
       "      <td>-0.071590</td>\n",
       "      <td>0.008946</td>\n",
       "      <td>0.482526</td>\n",
       "      <td>0.071364</td>\n",
       "      <td>0.133763</td>\n",
       "      <td>0.471994</td>\n",
       "      <td>0.130844</td>\n",
       "    </tr>\n",
       "    <tr>\n",
       "      <th>6</th>\n",
       "      <td>-0.343744</td>\n",
       "      <td>0.415560</td>\n",
       "      <td>0.109318</td>\n",
       "      <td>0.789851</td>\n",
       "      <td>0.259508</td>\n",
       "      <td>0.467585</td>\n",
       "      <td>0.781255</td>\n",
       "      <td>0.462496</td>\n",
       "    </tr>\n",
       "    <tr>\n",
       "      <th>7</th>\n",
       "      <td>0.376044</td>\n",
       "      <td>-0.273979</td>\n",
       "      <td>0.108690</td>\n",
       "      <td>1.669341</td>\n",
       "      <td>0.072361</td>\n",
       "      <td>0.466240</td>\n",
       "      <td>1.764647</td>\n",
       "      <td>0.492858</td>\n",
       "    </tr>\n",
       "    <tr>\n",
       "      <th>8</th>\n",
       "      <td>0.147489</td>\n",
       "      <td>-0.242227</td>\n",
       "      <td>0.074396</td>\n",
       "      <td>-1.304625</td>\n",
       "      <td>0.080392</td>\n",
       "      <td>-0.385737</td>\n",
       "      <td>-1.332427</td>\n",
       "      <td>-0.393957</td>\n",
       "    </tr>\n",
       "    <tr>\n",
       "      <th>9</th>\n",
       "      <td>-0.167120</td>\n",
       "      <td>0.128556</td>\n",
       "      <td>0.021437</td>\n",
       "      <td>-0.688362</td>\n",
       "      <td>0.082974</td>\n",
       "      <td>-0.207060</td>\n",
       "      <td>-0.677950</td>\n",
       "      <td>-0.203928</td>\n",
       "    </tr>\n",
       "    <tr>\n",
       "      <th>10</th>\n",
       "      <td>-0.337097</td>\n",
       "      <td>0.245603</td>\n",
       "      <td>0.090081</td>\n",
       "      <td>-1.519730</td>\n",
       "      <td>0.072361</td>\n",
       "      <td>-0.424454</td>\n",
       "      <td>-1.581880</td>\n",
       "      <td>-0.441812</td>\n",
       "    </tr>\n",
       "    <tr>\n",
       "      <th>11</th>\n",
       "      <td>-0.073662</td>\n",
       "      <td>0.054708</td>\n",
       "      <td>0.004663</td>\n",
       "      <td>-0.337942</td>\n",
       "      <td>0.075491</td>\n",
       "      <td>-0.096568</td>\n",
       "      <td>-0.329467</td>\n",
       "      <td>-0.094146</td>\n",
       "    </tr>\n",
       "    <tr>\n",
       "      <th>12</th>\n",
       "      <td>0.049566</td>\n",
       "      <td>0.048388</td>\n",
       "      <td>0.058013</td>\n",
       "      <td>1.469991</td>\n",
       "      <td>0.050958</td>\n",
       "      <td>0.340627</td>\n",
       "      <td>1.522907</td>\n",
       "      <td>0.352888</td>\n",
       "    </tr>\n",
       "    <tr>\n",
       "      <th>13</th>\n",
       "      <td>-0.177976</td>\n",
       "      <td>0.140578</td>\n",
       "      <td>0.022715</td>\n",
       "      <td>-0.674727</td>\n",
       "      <td>0.090735</td>\n",
       "      <td>-0.213142</td>\n",
       "      <td>-0.664170</td>\n",
       "      <td>-0.209807</td>\n",
       "    </tr>\n",
       "    <tr>\n",
       "      <th>14</th>\n",
       "      <td>0.498554</td>\n",
       "      <td>-0.421506</td>\n",
       "      <td>0.138633</td>\n",
       "      <td>1.379700</td>\n",
       "      <td>0.127137</td>\n",
       "      <td>0.526560</td>\n",
       "      <td>1.417896</td>\n",
       "      <td>0.541138</td>\n",
       "    </tr>\n",
       "    <tr>\n",
       "      <th>15</th>\n",
       "      <td>-0.031975</td>\n",
       "      <td>0.009937</td>\n",
       "      <td>0.003548</td>\n",
       "      <td>-0.364342</td>\n",
       "      <td>0.050742</td>\n",
       "      <td>-0.084237</td>\n",
       "      <td>-0.355390</td>\n",
       "      <td>-0.082167</td>\n",
       "    </tr>\n",
       "    <tr>\n",
       "      <th>16</th>\n",
       "      <td>-0.013693</td>\n",
       "      <td>0.019434</td>\n",
       "      <td>0.000374</td>\n",
       "      <td>0.078954</td>\n",
       "      <td>0.107253</td>\n",
       "      <td>0.027366</td>\n",
       "      <td>0.076743</td>\n",
       "      <td>0.026600</td>\n",
       "    </tr>\n",
       "    <tr>\n",
       "      <th>17</th>\n",
       "      <td>-0.004889</td>\n",
       "      <td>0.015529</td>\n",
       "      <td>0.000833</td>\n",
       "      <td>0.162951</td>\n",
       "      <td>0.059035</td>\n",
       "      <td>0.040816</td>\n",
       "      <td>0.158477</td>\n",
       "      <td>0.039695</td>\n",
       "    </tr>\n",
       "    <tr>\n",
       "      <th>18</th>\n",
       "      <td>0.182067</td>\n",
       "      <td>-0.230267</td>\n",
       "      <td>0.038154</td>\n",
       "      <td>-0.590564</td>\n",
       "      <td>0.179517</td>\n",
       "      <td>-0.276239</td>\n",
       "      <td>-0.579567</td>\n",
       "      <td>-0.271095</td>\n",
       "    </tr>\n",
       "    <tr>\n",
       "      <th>19</th>\n",
       "      <td>0.102035</td>\n",
       "      <td>-0.092515</td>\n",
       "      <td>0.005719</td>\n",
       "      <td>0.190900</td>\n",
       "      <td>0.238887</td>\n",
       "      <td>0.106949</td>\n",
       "      <td>0.185710</td>\n",
       "      <td>0.104041</td>\n",
       "    </tr>\n",
       "  </tbody>\n",
       "</table>\n",
       "</div>"
      ],
      "text/plain": [
       "    dfb_Intercept  dfb_income   cooks_d  standard_resid  hat_diag  \\\n",
       "0       -0.026150    0.015687  0.000987       -0.179698  0.057591   \n",
       "1       -0.000807   -0.057027  0.022388       -0.885941  0.053969   \n",
       "2        0.056316   -0.178891  0.092556       -1.717703  0.059035   \n",
       "3       -0.431655    0.556336  0.209348        1.484278  0.159699   \n",
       "4        0.066829   -0.022923  0.013920        0.719832  0.050990   \n",
       "5        0.098939   -0.071590  0.008946        0.482526  0.071364   \n",
       "6       -0.343744    0.415560  0.109318        0.789851  0.259508   \n",
       "7        0.376044   -0.273979  0.108690        1.669341  0.072361   \n",
       "8        0.147489   -0.242227  0.074396       -1.304625  0.080392   \n",
       "9       -0.167120    0.128556  0.021437       -0.688362  0.082974   \n",
       "10      -0.337097    0.245603  0.090081       -1.519730  0.072361   \n",
       "11      -0.073662    0.054708  0.004663       -0.337942  0.075491   \n",
       "12       0.049566    0.048388  0.058013        1.469991  0.050958   \n",
       "13      -0.177976    0.140578  0.022715       -0.674727  0.090735   \n",
       "14       0.498554   -0.421506  0.138633        1.379700  0.127137   \n",
       "15      -0.031975    0.009937  0.003548       -0.364342  0.050742   \n",
       "16      -0.013693    0.019434  0.000374        0.078954  0.107253   \n",
       "17      -0.004889    0.015529  0.000833        0.162951  0.059035   \n",
       "18       0.182067   -0.230267  0.038154       -0.590564  0.179517   \n",
       "19       0.102035   -0.092515  0.005719        0.190900  0.238887   \n",
       "\n",
       "    dffits_internal  student_resid    dffits  \n",
       "0         -0.044422      -0.174792 -0.043209  \n",
       "1         -0.211605      -0.880388 -0.210279  \n",
       "2         -0.430245      -1.825625 -0.457277  \n",
       "3          0.647067       1.539761  0.671255  \n",
       "4          0.166854       0.709843  0.164539  \n",
       "5          0.133763       0.471994  0.130844  \n",
       "6          0.467585       0.781255  0.462496  \n",
       "7          0.466240       1.764647  0.492858  \n",
       "8         -0.385737      -1.332427 -0.393957  \n",
       "9         -0.207060      -0.677950 -0.203928  \n",
       "10        -0.424454      -1.581880 -0.441812  \n",
       "11        -0.096568      -0.329467 -0.094146  \n",
       "12         0.340627       1.522907  0.352888  \n",
       "13        -0.213142      -0.664170 -0.209807  \n",
       "14         0.526560       1.417896  0.541138  \n",
       "15        -0.084237      -0.355390 -0.082167  \n",
       "16         0.027366       0.076743  0.026600  \n",
       "17         0.040816       0.158477  0.039695  \n",
       "18        -0.276239      -0.579567 -0.271095  \n",
       "19         0.106949       0.185710  0.104041  "
      ]
     },
     "execution_count": 18,
     "metadata": {},
     "output_type": "execute_result"
    }
   ],
   "source": [
    "infl = lm.get_influence().summary_frame()\n",
    "infl"
   ]
  },
  {
   "cell_type": "markdown",
   "metadata": {},
   "source": [
    "Now we can get the `hat values` obtained in the column"
   ]
  },
  {
   "cell_type": "code",
   "execution_count": 19,
   "metadata": {},
   "outputs": [
    {
     "data": {
      "text/plain": [
       "<matplotlib.axes._subplots.AxesSubplot at 0x23f9829e6a0>"
      ]
     },
     "execution_count": 19,
     "metadata": {},
     "output_type": "execute_result"
    },
    {
     "data": {
      "image/png": "[encoded data removed]",
      "text/plain": [
       "<Figure size 432x288 with 1 Axes>"
      ]
     },
     "metadata": {
      "needs_background": "light"
     },
     "output_type": "display_data"
    }
   ],
   "source": [
    "sns.regplot(infl.hat_diag, data.expenditure, order = 1,\n",
    "           ci = None, scatter_kws={'color':'r', 's':9})"
   ]
  },
  {
   "cell_type": "markdown",
   "metadata": {},
   "source": [
    "http://www.statsmodels.org/devel/examples/notebooks/generated/robust_models_1.html"
   ]
  },
  {
   "cell_type": "code",
   "execution_count": null,
   "metadata": {},
   "outputs": [],
   "source": []
  },
  {
   "cell_type": "code",
   "execution_count": null,
   "metadata": {},
   "outputs": [],
   "source": []
  },
  {
   "cell_type": "markdown",
   "metadata": {},
   "source": [
    "## The Model Outputs\n",
    "\n",
    "We will evalueate 2 key outputs when examining the __fitting of least squares regression model__ which are:\n",
    "1. anova\n",
    "2. least squares model summary\n",
    "\n",
    "### ANOVA Model Output\n",
    "for the least squares reggression model there are 2 core parts an _explained component_ and _unexplained componenet_. We are interested in the variability of this _unexplained component_, in other words not all _y_ values are the same, therefore variability between observations exisit.\n",
    "\n",
    "_Some of this variability can be explained through the straight line, e.g. people with more income spend more on recreation. However, not all the variability in the dependent variable can be explained — two families with similar incomes may spend diﬀerent amounts on recreation — which makes up the unexplained component._\n",
    "\n",
    "The ANOVA table shows the splot of the total variability in the dependent variable into __explained and unexplained components.__"
   ]
  },
  {
   "cell_type": "code",
   "execution_count": 20,
   "metadata": {},
   "outputs": [
    {
     "name": "stdout",
     "output_type": "stream",
     "text": [
      "            df        sum_sq       mean_sq          F        PR(>F)\n",
      "income     1.0  1.701080e+07  1.701080e+07  58.947318  4.379584e-07\n",
      "Residual  18.0  5.194374e+06  2.885763e+05        NaN           NaN\n"
     ]
    }
   ],
   "source": [
    "anova_results = sm.stats.anova_lm(lm)\n",
    "print(anova_results)"
   ]
  },
  {
   "cell_type": "markdown",
   "metadata": {},
   "source": [
    "#### ANOVA Model Output Details\n",
    "\n",
    "Above is the ANOVA model output in which we can see several columns:\n",
    "\n",
    "* `income` line gives us all the information about the explained component of variability _(e.g., the variability in the __expense__ explained by the linear regression on __income__)_\n",
    "\n",
    "\n",
    "* `df` denotes degrees of freedom for the explined component. In __simple linear regression__ the df are always 1 since there are 2 parameters estimated: `intercept` and `slope`. \n",
    "\n",
    "\n",
    "* `Sum_sq` is the amount of variability in `exponse` unexplained by the linear regression, known as `Residual Sum of Squares`\n",
    "\n",
    "\n",
    "* `Mean sq` is the __residual mean squared error__ equals the residual sum of suqared divided by the residual degrees of freedom. This is often used as an __estimate of the error variability__\n",
    "\n",
    "\n",
    "#### ANOVA - Conclusion\n",
    "Given that the p-value in the ANOVA table is very small and since the diagnostics show no problems with the model assumptions, it can be concluded that __the linear regression on annual income explains a significant amount of variability in annual expenditure.__\n"
   ]
  },
  {
   "cell_type": "markdown",
   "metadata": {},
   "source": [
    "### Model Summary\n",
    "\n",
    "Looking at the model summary is only appropriate when:\n",
    "1. the model assumptions have been met, \n",
    "2. the least squares regression line explains a significant amount of the variability in the dependent variable. \n",
    "\n",
    "to view the model summary we will use the `summary()` function that provides us four pieces of information, namely:\n",
    "1. OLS Regression REsult\n",
    "2. Coefficents\n",
    "3. Descriptive Statistical Information"
   ]
  },
  {
   "cell_type": "code",
   "execution_count": 23,
   "metadata": {},
   "outputs": [
    {
     "name": "stdout",
     "output_type": "stream",
     "text": [
      "                            OLS Regression Results                            \n",
      "==============================================================================\n",
      "Dep. Variable:            expenditure   R-squared:                       0.766\n",
      "Model:                            OLS   Adj. R-squared:                  0.753\n",
      "Method:                 Least Squares   F-statistic:                     58.95\n",
      "Date:                Tue, 15 Jan 2019   Prob (F-statistic):           4.38e-07\n",
      "Time:                        15:07:39   Log-Likelihood:                -153.05\n",
      "No. Observations:                  20   AIC:                             310.1\n",
      "Df Residuals:                      18   BIC:                             312.1\n",
      "Df Model:                           1                                         \n",
      "Covariance Type:            nonrobust                                         \n",
      "==============================================================================\n",
      "                 coef    std err          t      P>|t|      [0.025      0.975]\n",
      "------------------------------------------------------------------------------\n",
      "Intercept   -372.6451    436.972     -0.853      0.405   -1290.688     545.398\n",
      "income         0.0696      0.009      7.678      0.000       0.051       0.089\n",
      "==============================================================================\n",
      "Omnibus:                        0.983   Durbin-Watson:                   2.063\n",
      "Prob(Omnibus):                  0.612   Jarque-Bera (JB):                0.760\n",
      "Skew:                           0.080   Prob(JB):                        0.684\n",
      "Kurtosis:                       2.059   Cond. No.                     1.75e+05\n",
      "==============================================================================\n",
      "\n",
      "Warnings:\n",
      "[1] Standard Errors assume that the covariance matrix of the errors is correctly specified.\n",
      "[2] The condition number is large, 1.75e+05. This might indicate that there are\n",
      "strong multicollinearity or other numerical problems.\n"
     ]
    }
   ],
   "source": [
    "print(lm.summary())"
   ]
  },
  {
   "cell_type": "markdown",
   "metadata": {},
   "source": [
    "#### OLS REgression Model Output Details\n",
    "* __Coefficients output__ provides a summary table for the coefficients $\\beta_{0}$ and $\\beta_{1}$. \n",
    "    * __incercept__ - Information about the __intercept__ $\\beta_{0}$\n",
    "    * __income__ - Incormation abotu the __slope__ $\\beta_{1}$ \n",
    "    \n",
    "    \n",
    "#### OLS REgression - Interpretation\n",
    "In the above OLS Regression table output we can see the __coefficient of determination__ denoted as `r-squared` is equal to 0.766 and indicates that 76.6% of the variability in annual recration expense can be explained by the linear regression on annual income. \n",
    "\n",
    "\n",
    "\n"
   ]
  },
  {
   "cell_type": "code",
   "execution_count": null,
   "metadata": {},
   "outputs": [],
   "source": []
  },
  {
   "cell_type": "code",
   "execution_count": null,
   "metadata": {},
   "outputs": [],
   "source": []
  },
  {
   "cell_type": "code",
   "execution_count": null,
   "metadata": {},
   "outputs": [],
   "source": []
  },
  {
   "cell_type": "code",
   "execution_count": null,
   "metadata": {},
   "outputs": [],
   "source": []
  },
  {
   "cell_type": "code",
   "execution_count": null,
   "metadata": {},
   "outputs": [],
   "source": []
  },
  {
   "cell_type": "code",
   "execution_count": null,
   "metadata": {},
   "outputs": [],
   "source": []
  },
  {
   "cell_type": "code",
   "execution_count": null,
   "metadata": {},
   "outputs": [],
   "source": []
  }
 ],
 "metadata": {
  "kernelspec": {
   "display_name": "Python 3",
   "language": "python",
   "name": "python3"
  },
  "language_info": {
   "codemirror_mode": {
    "name": "ipython",
    "version": 3
   },
   "file_extension": ".py",
   "mimetype": "text/x-python",
   "name": "python",
   "nbconvert_exporter": "python",
   "pygments_lexer": "ipython3",
   "version": "3.7.0"
  }
 },
 "nbformat": 4,
 "nbformat_minor": 2
}
