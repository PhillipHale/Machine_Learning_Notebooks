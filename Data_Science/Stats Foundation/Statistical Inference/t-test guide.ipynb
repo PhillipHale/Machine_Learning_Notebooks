{
 "cells": [
  {
   "cell_type": "markdown",
   "metadata": {},
   "source": [
    "# T-Test Guide\n",
    "\n",
    "![](https://i.ytimg.com/vi/yoVnu7ZCXcI/maxresdefault.jpg)\n",
    "\n",
    "__t-test__ are used during a hypothesis test to evaluate one or two sample means. We typically use t-test to compare:\n",
    "* a sample mean to a hypothezied value\n",
    "* the means of two independent samples, or\n",
    "* the difference between paired samples \n",
    "\n",
    "\n",
    "There are three main t-tools:\n",
    "1. one-sample t-test\n",
    "2. two-sample t-test\n",
    "3. paired t-test"
   ]
  },
  {
   "cell_type": "markdown",
   "metadata": {},
   "source": [
    "## One Sample t-test (example 2)\n",
    "\n",
    "We use a one sample T-test to determine whether our sample mean (observed average) is statistically significantly different to the population mean (expected average).\n",
    "\n",
    "this is cacluated as: \n",
    "$$t = \\dfrac{\\bar{x} – \\mu}{SE}$$\n",
    "\n",
    "Where $\\bar{x}$ is the `sample mean` and $\\mu$ is the `population mean` and the `standard error` is:\n",
    "$$SE = \\dfrac{s}{\\sqrt{n}}$$\n",
    "\n",
    "\n",
    "\n",
    "Let’s say we want to calculate the resting systolic blood pressure of 20 first-year resident female doctors and compare it to the general public population mean of 120 mmHg.\n",
    "\n",
    "The null hypothesis is that there is no significant difference between the blood pressure of the resident female doctors and the general population.\n",
    "\n",
    "* H0: mu = 120\n",
    "* Ha: mu != 120\n",
    "\n",
    "Source: [Comparative Statistics in python using scipy](http://benalexkeen.com/comparative-statistics-in-python-using-scipy/)"
   ]
  },
  {
   "cell_type": "code",
   "execution_count": 1,
   "metadata": {},
   "outputs": [
    {
     "data": {
      "text/plain": [
       "Ttest_1sampResult(statistic=4.512403659336718, pvalue=0.00023838063630967753)"
      ]
     },
     "execution_count": 1,
     "metadata": {},
     "output_type": "execute_result"
    }
   ],
   "source": [
    "from scipy import stats\n",
    "\n",
    "female_doctor_bps = [128, 127, 118, 115, 144, 142, 133, 140, 132, 131, \n",
    "                     111, 132, 149, 122, 139, 119, 136, 129, 126, 128]\n",
    "\n",
    "stats.ttest_1samp(female_doctor_bps, 120)"
   ]
  },
  {
   "cell_type": "markdown",
   "metadata": {},
   "source": [
    "Using the following properties we can calucate the `p-value`:\n",
    "* t-statistics value is 4.512\n",
    "* degrees of freedom (n-1) is 19\n",
    "\n",
    "The `p-value` is 0.0002 which is far less than the standard threshild of 0.05 or 0.01, therefoere we `reject the null hypotehsis` and we can say there is statistically significant difference between the resting systolic blood preasure of the resident female doctors and the general population"
   ]
  },
  {
   "cell_type": "markdown",
   "metadata": {},
   "source": [
    "## Two Sample t-test: Compare two means\n",
    "\n",
    "\n",
    "A two sample T-test is used to compare the means of two separate samples.\n",
    "\n",
    "It is calculated as follows (assuming equal variances):\n",
    "\n",
    "$$t = \\dfrac{(\\bar{x}_1 + \\bar{x}_2)}{\\sqrt{s_p^2(\\dfrac{1}{n_1} + \\dfrac{1}{n_2})}}$$\n",
    "\n",
    "Where $s_p^2$ is the pooled variance, calculated as follows:\n",
    "\n",
    "$$s_p^2 = \\dfrac{(n_1 – 1)s_1^2 + (n_2 – 2)s_2^2}{n_1 + n_2 – 2}$$\n",
    "\n",
    "Our degrees of freedom in this case is  $n_1 + n_2 – 2$\n",
    "\n",
    "Continuing from out resting systolic bloodpresure example, lets compare the blood preasure of male consultant doctors with the jounior resident female doctors we explored above. \n",
    "\n",
    "Our null hypothesis in this case is that there is no statistically significant difference in the mean of the male consulting doctors and jonior resident femail doors. "
   ]
  },
  {
   "cell_type": "code",
   "execution_count": 2,
   "metadata": {},
   "outputs": [
    {
     "data": {
      "text/plain": [
       "Ttest_indResult(statistic=3.5143256412718564, pvalue=0.0011571376404026158)"
      ]
     },
     "execution_count": 2,
     "metadata": {},
     "output_type": "execute_result"
    }
   ],
   "source": [
    "female_doctor_bps = [128, 127, 118, 115, 144, 142, 133, 140, 132, 131, \n",
    "                     111, 132, 149, 122, 139, 119, 136, 129, 126, 128]\n",
    "\n",
    "male_consultant_bps = [118, 115, 112, 120, 124, 130, 123, 110, 120, 121,\n",
    "                      123, 125, 129, 130, 112, 117, 119, 120, 123, 128]\n",
    "\n",
    "stats.ttest_ind(female_doctor_bps, male_consultant_bps)"
   ]
  },
  {
   "cell_type": "markdown",
   "metadata": {},
   "source": [
    "So the interpretation of these results is as follows:\n",
    "* `t-statistic` value is 3.514 along our degrees of freedom 38 which can be used to calculate a p-value.\n",
    "* `p-value` is 0.0012, which again is below the standard threshold of 0.05 and 0.01, so we `reject the null hypothesis` and we can say there is a statistically significant difference between the resting systolic blood preasure and the resistent female doctors and the male consultant"
   ]
  },
  {
   "cell_type": "markdown",
   "metadata": {},
   "source": [
    "## Paired T-Test\n",
    "\n",
    "The prior examples, the samples have been independent of one another. Perhaps we want ot compare two related samples, such as _before and after test_, then we would use a __paired T-Test__. \n",
    "\n",
    "Calculation:\n",
    "\n",
    "$$t = \\dfrac{\\bar{d}}{s / \\sqrt{n}}$$\n",
    "\n",
    "Where $\\bar{d}$ is the average difference between the paired samples. The degrees of freedom is $n-1$ \n",
    "\n",
    "\n",
    "#### Example\n",
    "In this example we will measure the amount of sleep got by patients before and after taking soporific drugs to help them sleep. \n",
    "\n",
    "The null hypothesis is that the soporific drug has no effect on the sleep duration of the patients. "
   ]
  },
  {
   "cell_type": "code",
   "execution_count": 3,
   "metadata": {},
   "outputs": [
    {
     "data": {
      "text/plain": [
       "Ttest_relResult(statistic=-3.6244859951782136, pvalue=0.0055329408161001415)"
      ]
     },
     "execution_count": 3,
     "metadata": {},
     "output_type": "execute_result"
    }
   ],
   "source": [
    "control = [8.0, 7.1, 6.5, 6.7, 7.2, 5.4, 4.7, 8.1, 6.3, 4.8]\n",
    "treatment = [9.9, 7.9, 7.6, 6.8, 7.1, 9.9, 10.5, 9.7, 10.9, 8.2]\n",
    "\n",
    "stats.ttest_rel(control, treatment)"
   ]
  },
  {
   "cell_type": "markdown",
   "metadata": {},
   "source": [
    "The t-statistic value is -3.62 along the degrees of freedom 9, which can be used to calculate the p-value.\n",
    "\n",
    "The `p-value` is 0.005, which again is below the standard thresholds of 0.05 or 0.01 so we `reject the null hypothesis` and we can say there is a statistically significant difference in sleep duration caused by the soporific drug. "
   ]
  }
 ],
 "metadata": {
  "kernelspec": {
   "display_name": "Python 3",
   "language": "python",
   "name": "python3"
  },
  "language_info": {
   "codemirror_mode": {
    "name": "ipython",
    "version": 3
   },
   "file_extension": ".py",
   "mimetype": "text/x-python",
   "name": "python",
   "nbconvert_exporter": "python",
   "pygments_lexer": "ipython3",
   "version": "3.6.4"
  }
 },
 "nbformat": 4,
 "nbformat_minor": 2
}
