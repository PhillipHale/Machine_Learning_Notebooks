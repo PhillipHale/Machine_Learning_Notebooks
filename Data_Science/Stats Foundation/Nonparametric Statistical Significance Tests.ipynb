{
 "cells": [
  {
   "cell_type": "markdown",
   "metadata": {},
   "source": [
    "# Nonparametric Statistical Significance Tests\n",
    "\n",
    "This a notebook used to follow along with [Jason Browniee Statistical Methods Article](https://machinelearningmastery.com/nonparametric-statistical-significance-tests-in-python/) posted on machinelearningmastvery.com. Thanks Guys!\n",
    "\n",
    "We will be using a handful of statistical significance test to dextreme the likhood that samples came from the same distributions, when such distributions are non-normal, thefore the test used here will be nonparametric. \n",
    "\n",
    "Topics Covered:\n",
    "* __Mann-Whitney U test__ for comparing independent data samples _(nonparametric version of the student t-test)_\n",
    "* __Wilcoxon signed-ranked test__ for comparing paired data samples _(nonparametric version of the paired Student t-test)_\n",
    "* __Kruskal-Wallis H and Friedmen test__ for comparing more than two data samples _(nonparametric version of the ANOVA and repeated measures ANOVA tests)_"
   ]
  },
  {
   "cell_type": "markdown",
   "metadata": {},
   "source": [
    "### Data Set\n",
    "\n",
    "Generate a sample of 100 Gaussian random numbers in a sample with a mean of 0 and standard deviation of 1. "
   ]
  },
  {
   "cell_type": "code",
   "execution_count": 32,
   "metadata": {},
   "outputs": [
    {
     "name": "stdout",
     "output_type": "stream",
     "text": [
      "data1: mean=50.303 stdv=4.426\n",
      "data2: mean=51.764 stdv=4.660\n"
     ]
    }
   ],
   "source": [
    "# generate gaussian data samples\n",
    "from numpy.random import seed\n",
    "from numpy.random import randn\n",
    "from numpy import mean\n",
    "from numpy import std\n",
    "\n",
    "# seed the random number generator\n",
    "seed(1)\n",
    "\n",
    "# generate two sets of univariate observations\n",
    "data1 = 5 * randn(100) + 50  # mean of 50 and SD of 5\n",
    "data2 = 5 * randn(100) + 51  # mean of 51 and SD of 5\n",
    "\n",
    "# summarize\n",
    "print('data1: mean=%.3f stdv=%.3f' % (mean(data1), std(data1)))\n",
    "print('data2: mean=%.3f stdv=%.3f' % (mean(data2), std(data2)))"
   ]
  },
  {
   "cell_type": "markdown",
   "metadata": {},
   "source": [
    "We would expect the following statistical test to discover that the samples data1 and data2 were drawn from differing distributions "
   ]
  },
  {
   "cell_type": "markdown",
   "metadata": {},
   "source": [
    "## Mann-Whitney U Test\n",
    "\n",
    "__Mann-Whitney U test__ is a nonparametric statistical significnace test for determining whether two inddependent samples were drawn from a population with the same distribution. \n",
    "\n",
    "* H0: data1 - data2 = 0\n",
    "* Ha: data1 - data2 != 0\n",
    "\n",
    "Rejection of this hypothesis suggests that ther is likely some difference between the smaples. Specifically, the test determine whether it is equally likely that any randomly selected observation from one sample will be greater or less than a sample in the other distribution. If violaed, it suggest differing distributions. \n",
    "\n",
    "* __Fail to Reject H0:__ Sample ddistributions are equal\n",
    "* __Reject H0:__ Sample distributions are not equal\n",
    "\n",
    "For the test to be effective, it requires at least 20 observations in each sample. \n",
    "\n",
    "The `mannwhitneyu()` is a _SciPy Function_ which takes as arguments the two data samples and returns the test statistic and the p-value. "
   ]
  },
  {
   "cell_type": "code",
   "execution_count": 33,
   "metadata": {},
   "outputs": [
    {
     "name": "stdout",
     "output_type": "stream",
     "text": [
      "Statistics=4025.000, p=0.009\n"
     ]
    }
   ],
   "source": [
    "# Mann-Whitney U Test\n",
    "from scipy.stats import mannwhitneyu\n",
    "\n",
    "# two independent samples generated above: data1; data2\n",
    "\n",
    "# compare samples\n",
    "stat, p = mannwhitneyu(data1, data2)\n",
    "print('Statistics=%.3f, p=%.3f' % (stat, p))"
   ]
  },
  {
   "cell_type": "code",
   "execution_count": 34,
   "metadata": {},
   "outputs": [],
   "source": [
    "def interpret(p_value, alpha_level=0.05):\n",
    "    if p_value > alpha_level:\n",
    "        print('Same distribution (fail to reject H0)')\n",
    "    else:\n",
    "        print('Different distribution (reject H0)')"
   ]
  },
  {
   "cell_type": "code",
   "execution_count": 35,
   "metadata": {},
   "outputs": [
    {
     "name": "stdout",
     "output_type": "stream",
     "text": [
      "Different distribution (reject H0)\n"
     ]
    }
   ],
   "source": [
    "interpret(p)"
   ]
  },
  {
   "cell_type": "markdown",
   "metadata": {},
   "source": [
    "## Wilcoxon Signed-Rank Test\n",
    "\n",
    "....data samples may be __paired__\n",
    "\n",
    "In somes cases data is _matched in some way_ or represent two measurements of the same technuque. More speficicall, each sample is independent but comes from the same population. \n",
    "\n",
    "* __Fail to Reject H0:__ Sample ddistributions are equal\n",
    "* __Reject H0:__ Sample distributions are not equal\n",
    "\n",
    "__Assumptions__\n",
    "* Each data sample must be independent\n",
    "* have 5 or more observations\n",
    "* the data samples can differ in size\n",
    "\n",
    "We can update the test provblem to have 3 data samples, two of which have the same sample mean. \n",
    "\n",
    "Given that one sample differs, we would expect the test to discover the difference and __reject the H0__.\n",
    "\n",
    "* __Fail to Reject H0:__ Sample ddistributions are equal\n",
    "* __Reject H0:__ Sample distributions are not equal\n",
    "\n",
    "\n",
    "For the test to be effective, it requires at least 20 observations in each sample."
   ]
  },
  {
   "cell_type": "code",
   "execution_count": 36,
   "metadata": {},
   "outputs": [
    {
     "name": "stdout",
     "output_type": "stream",
     "text": [
      "Statistics=1886.000, p=0.028\n",
      "Different distribution (reject H0)\n"
     ]
    }
   ],
   "source": [
    "# Wilcoxon Signed-rank test\n",
    "from scipy.stats import wilcoxon\n",
    "\n",
    "# compare samples\n",
    "stat, p = wilcoxon(data1, data2)\n",
    "print('Statistics=%.3f, p=%.3f' % (stat, p))\n",
    "\n",
    "interpret(p)"
   ]
  },
  {
   "cell_type": "markdown",
   "metadata": {},
   "source": [
    "## Krusjal-Wallis H Test\n",
    "\n",
    "__Kruskal-Wallis test__ is a nonparametric version of ANOVA that can be used to determine whether more than two independent samples have a different distribution. It can be thought of as th generalization of the Mann-Whitney U test. Used if you are interested in whether __two or more samples have different distributions__\n",
    "\n",
    "* __Fail to Reject H0:__ Sample ddistributions are equal\n",
    "* __Reject H0:__ Sample distributions are not equal\n",
    "\n",
    "__Assumptions__\n",
    "* Each data sample must be independent\n",
    "* have 5 or more observations\n",
    "* the data samples can differ in size\n",
    "\n",
    "We can update the test provblem to have 3 data samples, two of which have the same sample mean. \n",
    "\n",
    "Given that one sample differs, we would expect the test to discover the difference and __reject the H0__."
   ]
  },
  {
   "cell_type": "code",
   "execution_count": 37,
   "metadata": {
    "scrolled": true
   },
   "outputs": [
    {
     "name": "stdout",
     "output_type": "stream",
     "text": [
      "Statistics=13.857, p=0.001\n",
      "Different distribution (reject H0)\n"
     ]
    }
   ],
   "source": [
    "# Krushal-Wallis H-test\n",
    "from scipy.stats import kruskal\n",
    "\n",
    "# generate three independent samples\n",
    "data1 = 5 * randn(100) + 50\n",
    "data2 = 5 * randn(100) + 50\n",
    "data3 = 5 * randn(100) + 52\n",
    "\n",
    "# compare samples\n",
    "stat, p = kruskal(data1, data2, data3)\n",
    "print('Statistics=%.3f, p=%.3f' % (stat, p))\n",
    "interpret(p)"
   ]
  },
  {
   "cell_type": "markdown",
   "metadata": {},
   "source": [
    "## Friedman Test\n",
    "\n",
    "__Friedman test__ is a nonparametric version of the repeated measures ANOVA. The test can be thought of as a genrealization of the Kruskal-Wallis H Test to more than 2 samples. \n",
    "\n",
    "* __Fail to Reject H0:__ Sample ddistributions are equal\n",
    "* __Reject H0:__ Sample distributions are not equal"
   ]
  },
  {
   "cell_type": "code",
   "execution_count": 40,
   "metadata": {},
   "outputs": [
    {
     "name": "stdout",
     "output_type": "stream",
     "text": [
      "Statistics=11.840, p=0.003\n",
      "Different distribution (reject H0)\n"
     ]
    }
   ],
   "source": [
    "# Friedman Test\n",
    "from scipy.stats import friedmanchisquare\n",
    "\n",
    "# compare samples\n",
    "stat, p = friedmanchisquare(data1, data2, data3)\n",
    "print('Statistics=%.3f, p=%.3f' % (stat, p))\n",
    "interpret(p)"
   ]
  }
 ],
 "metadata": {
  "kernelspec": {
   "display_name": "Python 3",
   "language": "python",
   "name": "python3"
  },
  "language_info": {
   "codemirror_mode": {
    "name": "ipython",
    "version": 3
   },
   "file_extension": ".py",
   "mimetype": "text/x-python",
   "name": "python",
   "nbconvert_exporter": "python",
   "pygments_lexer": "ipython3",
   "version": "3.6.4"
  }
 },
 "nbformat": 4,
 "nbformat_minor": 2
}
