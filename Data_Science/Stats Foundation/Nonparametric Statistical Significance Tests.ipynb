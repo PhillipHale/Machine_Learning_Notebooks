{
 "cells": [
  {
   "cell_type": "markdown",
   "metadata": {},
   "source": [
    "# Nonparametric Statistical Significance Tests\n",
    "\n",
    "This a notebook used to follow along with [Jason Browniee Statistical Methods Article](https://machinelearningmastery.com/nonparametric-statistical-significance-tests-in-python/) posted on machinelearningmastvery.com. Thanks Guys!\n",
    "\n",
    "We will be using a handful of statistical significance test to dextreme the likhood that samples came from the same distributions, when such distributions are non-normal, thefore the test used here will be nonparametric. \n",
    "\n",
    "Topics Covered:\n",
    "* __Mann-Whitney U test__ for comparing independent data samples _(nonparametric version of the student t-test)_\n",
    "* __Wilcoxon signed-ranked test__ for comparing paired data samples _(nonparametric version of the paired Student t-test)_\n",
    "* __Kruskal-Wallis H and Friedmen test__ for comparing more than two data samples _(nonparametric version of the ANOVA and repeated measures ANOVA tests)_"
   ]
  },
  {
   "cell_type": "markdown",
   "metadata": {},
   "source": [
    "### Data Set\n",
    "\n",
    "Generate a sample of 100 Gaussian random numbers in a sample with a mean of 0 and standard deviation of 1. "
   ]
  },
  {
   "cell_type": "code",
   "execution_count": 7,
   "metadata": {},
   "outputs": [
    {
     "name": "stdout",
     "output_type": "stream",
     "text": [
      "data1: mean=50.303 stdv=4.426\n",
      "data2: mean=51.764 stdv=4.660\n"
     ]
    }
   ],
   "source": [
    "# generate gaussian data samples\n",
    "from numpy.random import seed\n",
    "from numpy.random import randn\n",
    "from numpy import mean\n",
    "from numpy import std\n",
    "\n",
    "# seed the random number generator\n",
    "seed(1)\n",
    "\n",
    "# generate two sets of univariate observations\n",
    "data1 = 5 * randn(100) + 50\n",
    "data2 = 5 * randn(100) + 51\n",
    "\n",
    "# summarize\n",
    "print('data1: mean=%.3f stdv=%.3f' % (mean(data1), std(data1)))\n",
    "print('data2: mean=%.3f stdv=%.3f' % (mean(data2), std(data2)))"
   ]
  },
  {
   "cell_type": "markdown",
   "metadata": {},
   "source": [
    "### Mann-Whitney U Test"
   ]
  }
 ],
 "metadata": {
  "kernelspec": {
   "display_name": "Python 3",
   "language": "python",
   "name": "python3"
  },
  "language_info": {
   "codemirror_mode": {
    "name": "ipython",
    "version": 3
   },
   "file_extension": ".py",
   "mimetype": "text/x-python",
   "name": "python",
   "nbconvert_exporter": "python",
   "pygments_lexer": "ipython3",
   "version": "3.6.4"
  }
 },
 "nbformat": 4,
 "nbformat_minor": 2
}
