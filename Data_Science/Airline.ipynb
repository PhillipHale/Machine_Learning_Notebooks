{
 "cells": [
  {
   "cell_type": "markdown",
   "metadata": {},
   "source": [
    "# Airport Data Analysis \n",
    "\n",
    "![](https://i2.wp.com/tmrresearchblog.com/wp-content/uploads/2018/08/Airport-Information-Systems-Market.jpg?fit=1920%2C1080&ssl=1)\n",
    "\n",
    "\n",
    "This is based off the [Purdue Airport Lab](http://www.stat.purdue.edu/~lfindsen/stat350/Lab1.pdf)"
   ]
  },
  {
   "cell_type": "markdown",
   "metadata": {},
   "source": [
    "## Import and Data Cleaning"
   ]
  },
  {
   "cell_type": "code",
   "execution_count": 45,
   "metadata": {},
   "outputs": [],
   "source": [
    "import pandas as pd\n",
    "\n",
    "# Display up to 120 columns of a dataframe\n",
    "pd.set_option('display.max_columns', 50)\n",
    "\n",
    "# Data Visualization\n",
    "import seaborn as sns\n",
    "sns.set(style=\"darkgrid\")\n",
    "import matplotlib.pyplot as plt \n",
    "%matplotlib inline\n",
    "from matplotlib import style"
   ]
  },
  {
   "cell_type": "code",
   "execution_count": 34,
   "metadata": {},
   "outputs": [
    {
     "data": {
      "text/html": [
       "<div>\n",
       "<style scoped>\n",
       "    .dataframe tbody tr th:only-of-type {\n",
       "        vertical-align: middle;\n",
       "    }\n",
       "\n",
       "    .dataframe tbody tr th {\n",
       "        vertical-align: top;\n",
       "    }\n",
       "\n",
       "    .dataframe thead th {\n",
       "        text-align: right;\n",
       "    }\n",
       "</style>\n",
       "<table border=\"1\" class=\"dataframe\">\n",
       "  <thead>\n",
       "    <tr style=\"text-align: right;\">\n",
       "      <th></th>\n",
       "      <th>Year</th>\n",
       "      <th>Month</th>\n",
       "      <th>DayofMonth</th>\n",
       "      <th>DayOfWeek</th>\n",
       "      <th>DepTime</th>\n",
       "      <th>CRSDepTime</th>\n",
       "      <th>ArrTime</th>\n",
       "      <th>CRSArrTime</th>\n",
       "      <th>UniqueCarrier</th>\n",
       "      <th>FlightNum</th>\n",
       "      <th>TailNum</th>\n",
       "      <th>ActualElapsedTime</th>\n",
       "      <th>CRSElapsedTime</th>\n",
       "      <th>AirTime</th>\n",
       "      <th>ArrDelay</th>\n",
       "      <th>DepDelay</th>\n",
       "      <th>Origin</th>\n",
       "      <th>Dest</th>\n",
       "      <th>Distance</th>\n",
       "      <th>TaxiIn</th>\n",
       "      <th>TaxiOut</th>\n",
       "      <th>CarrierDelay</th>\n",
       "      <th>WeatherDelay</th>\n",
       "      <th>NASDelay</th>\n",
       "      <th>SecurityDelay</th>\n",
       "      <th>LateAircraftDelay</th>\n",
       "    </tr>\n",
       "  </thead>\n",
       "  <tbody>\n",
       "    <tr>\n",
       "      <th>0</th>\n",
       "      <td>2008</td>\n",
       "      <td>11</td>\n",
       "      <td>1</td>\n",
       "      <td>6</td>\n",
       "      <td>1001</td>\n",
       "      <td>913</td>\n",
       "      <td>1153</td>\n",
       "      <td>1125</td>\n",
       "      <td>9E</td>\n",
       "      <td>3747</td>\n",
       "      <td>86319E</td>\n",
       "      <td>112</td>\n",
       "      <td>132</td>\n",
       "      <td>99</td>\n",
       "      <td>28</td>\n",
       "      <td>48</td>\n",
       "      <td>DTW</td>\n",
       "      <td>SAV</td>\n",
       "      <td>706</td>\n",
       "      <td>4</td>\n",
       "      <td>9</td>\n",
       "      <td>28.0</td>\n",
       "      <td>0.0</td>\n",
       "      <td>0.0</td>\n",
       "      <td>0.0</td>\n",
       "      <td>0.0</td>\n",
       "    </tr>\n",
       "    <tr>\n",
       "      <th>1</th>\n",
       "      <td>2008</td>\n",
       "      <td>11</td>\n",
       "      <td>1</td>\n",
       "      <td>6</td>\n",
       "      <td>2116</td>\n",
       "      <td>2120</td>\n",
       "      <td>2345</td>\n",
       "      <td>2259</td>\n",
       "      <td>9E</td>\n",
       "      <td>2824</td>\n",
       "      <td>85339E</td>\n",
       "      <td>209</td>\n",
       "      <td>159</td>\n",
       "      <td>130</td>\n",
       "      <td>46</td>\n",
       "      <td>-4</td>\n",
       "      <td>MSP</td>\n",
       "      <td>IDA</td>\n",
       "      <td>939</td>\n",
       "      <td>5</td>\n",
       "      <td>74</td>\n",
       "      <td>0.0</td>\n",
       "      <td>0.0</td>\n",
       "      <td>46.0</td>\n",
       "      <td>0.0</td>\n",
       "      <td>0.0</td>\n",
       "    </tr>\n",
       "    <tr>\n",
       "      <th>2</th>\n",
       "      <td>2008</td>\n",
       "      <td>11</td>\n",
       "      <td>1</td>\n",
       "      <td>6</td>\n",
       "      <td>1330</td>\n",
       "      <td>1235</td>\n",
       "      <td>1456</td>\n",
       "      <td>1413</td>\n",
       "      <td>9E</td>\n",
       "      <td>2070</td>\n",
       "      <td>91709E</td>\n",
       "      <td>86</td>\n",
       "      <td>98</td>\n",
       "      <td>70</td>\n",
       "      <td>43</td>\n",
       "      <td>55</td>\n",
       "      <td>CVG</td>\n",
       "      <td>PHL</td>\n",
       "      <td>507</td>\n",
       "      <td>4</td>\n",
       "      <td>12</td>\n",
       "      <td>0.0</td>\n",
       "      <td>0.0</td>\n",
       "      <td>0.0</td>\n",
       "      <td>0.0</td>\n",
       "      <td>43.0</td>\n",
       "    </tr>\n",
       "    <tr>\n",
       "      <th>3</th>\n",
       "      <td>2008</td>\n",
       "      <td>11</td>\n",
       "      <td>1</td>\n",
       "      <td>6</td>\n",
       "      <td>1435</td>\n",
       "      <td>1400</td>\n",
       "      <td>1539</td>\n",
       "      <td>1518</td>\n",
       "      <td>9E</td>\n",
       "      <td>2024</td>\n",
       "      <td>91629E</td>\n",
       "      <td>64</td>\n",
       "      <td>78</td>\n",
       "      <td>42</td>\n",
       "      <td>21</td>\n",
       "      <td>35</td>\n",
       "      <td>CHS</td>\n",
       "      <td>ATL</td>\n",
       "      <td>259</td>\n",
       "      <td>13</td>\n",
       "      <td>9</td>\n",
       "      <td>0.0</td>\n",
       "      <td>0.0</td>\n",
       "      <td>0.0</td>\n",
       "      <td>0.0</td>\n",
       "      <td>21.0</td>\n",
       "    </tr>\n",
       "    <tr>\n",
       "      <th>4</th>\n",
       "      <td>2008</td>\n",
       "      <td>11</td>\n",
       "      <td>1</td>\n",
       "      <td>6</td>\n",
       "      <td>1225</td>\n",
       "      <td>1211</td>\n",
       "      <td>1400</td>\n",
       "      <td>1320</td>\n",
       "      <td>9E</td>\n",
       "      <td>2024</td>\n",
       "      <td>91629E</td>\n",
       "      <td>95</td>\n",
       "      <td>69</td>\n",
       "      <td>47</td>\n",
       "      <td>40</td>\n",
       "      <td>14</td>\n",
       "      <td>ATL</td>\n",
       "      <td>CHS</td>\n",
       "      <td>259</td>\n",
       "      <td>20</td>\n",
       "      <td>28</td>\n",
       "      <td>14.0</td>\n",
       "      <td>0.0</td>\n",
       "      <td>26.0</td>\n",
       "      <td>0.0</td>\n",
       "      <td>0.0</td>\n",
       "    </tr>\n",
       "  </tbody>\n",
       "</table>\n",
       "</div>"
      ],
      "text/plain": [
       "   Year  Month  DayofMonth  DayOfWeek  DepTime  CRSDepTime  ArrTime  \\\n",
       "0  2008     11           1          6     1001         913     1153   \n",
       "1  2008     11           1          6     2116        2120     2345   \n",
       "2  2008     11           1          6     1330        1235     1456   \n",
       "3  2008     11           1          6     1435        1400     1539   \n",
       "4  2008     11           1          6     1225        1211     1400   \n",
       "\n",
       "   CRSArrTime UniqueCarrier  FlightNum TailNum  ActualElapsedTime  \\\n",
       "0        1125            9E       3747  86319E                112   \n",
       "1        2259            9E       2824  85339E                209   \n",
       "2        1413            9E       2070  91709E                 86   \n",
       "3        1518            9E       2024  91629E                 64   \n",
       "4        1320            9E       2024  91629E                 95   \n",
       "\n",
       "   CRSElapsedTime  AirTime  ArrDelay  DepDelay Origin Dest  Distance  TaxiIn  \\\n",
       "0             132       99        28        48    DTW  SAV       706       4   \n",
       "1             159      130        46        -4    MSP  IDA       939       5   \n",
       "2              98       70        43        55    CVG  PHL       507       4   \n",
       "3              78       42        21        35    CHS  ATL       259      13   \n",
       "4              69       47        40        14    ATL  CHS       259      20   \n",
       "\n",
       "   TaxiOut  CarrierDelay  WeatherDelay  NASDelay  SecurityDelay  \\\n",
       "0        9          28.0           0.0       0.0            0.0   \n",
       "1       74           0.0           0.0      46.0            0.0   \n",
       "2       12           0.0           0.0       0.0            0.0   \n",
       "3        9           0.0           0.0       0.0            0.0   \n",
       "4       28          14.0           0.0      26.0            0.0   \n",
       "\n",
       "   LateAircraftDelay  \n",
       "0                0.0  \n",
       "1                0.0  \n",
       "2               43.0  \n",
       "3               21.0  \n",
       "4                0.0  "
      ]
     },
     "execution_count": 34,
     "metadata": {},
     "output_type": "execute_result"
    }
   ],
   "source": [
    "airline = pd.read_table(\"./data/airline.txt\")\n",
    "airline.head()"
   ]
  },
  {
   "cell_type": "code",
   "execution_count": 35,
   "metadata": {},
   "outputs": [
    {
     "data": {
      "text/html": [
       "<div>\n",
       "<style scoped>\n",
       "    .dataframe tbody tr th:only-of-type {\n",
       "        vertical-align: middle;\n",
       "    }\n",
       "\n",
       "    .dataframe tbody tr th {\n",
       "        vertical-align: top;\n",
       "    }\n",
       "\n",
       "    .dataframe thead th {\n",
       "        text-align: right;\n",
       "    }\n",
       "</style>\n",
       "<table border=\"1\" class=\"dataframe\">\n",
       "  <thead>\n",
       "    <tr style=\"text-align: right;\">\n",
       "      <th></th>\n",
       "      <th>Year</th>\n",
       "      <th>Month</th>\n",
       "      <th>DayofMonth</th>\n",
       "      <th>DayOfWeek</th>\n",
       "      <th>DepTime</th>\n",
       "      <th>CRSDepTime</th>\n",
       "      <th>ArrTime</th>\n",
       "      <th>CRSArrTime</th>\n",
       "      <th>FlightNum</th>\n",
       "      <th>ActualElapsedTime</th>\n",
       "      <th>CRSElapsedTime</th>\n",
       "      <th>AirTime</th>\n",
       "      <th>ArrDelay</th>\n",
       "      <th>DepDelay</th>\n",
       "      <th>Distance</th>\n",
       "      <th>TaxiIn</th>\n",
       "      <th>TaxiOut</th>\n",
       "      <th>CarrierDelay</th>\n",
       "      <th>WeatherDelay</th>\n",
       "      <th>NASDelay</th>\n",
       "      <th>SecurityDelay</th>\n",
       "      <th>LateAircraftDelay</th>\n",
       "    </tr>\n",
       "  </thead>\n",
       "  <tbody>\n",
       "    <tr>\n",
       "      <th>count</th>\n",
       "      <td>10011.0</td>\n",
       "      <td>10011.0</td>\n",
       "      <td>10011.000000</td>\n",
       "      <td>10011.000000</td>\n",
       "      <td>10011.000000</td>\n",
       "      <td>10011.000000</td>\n",
       "      <td>10011.000000</td>\n",
       "      <td>10011.000000</td>\n",
       "      <td>10011.000000</td>\n",
       "      <td>10011.000000</td>\n",
       "      <td>10011.000000</td>\n",
       "      <td>10011.000000</td>\n",
       "      <td>10011.000000</td>\n",
       "      <td>10011.000000</td>\n",
       "      <td>10011.000000</td>\n",
       "      <td>10011.000000</td>\n",
       "      <td>10011.000000</td>\n",
       "      <td>9997.000000</td>\n",
       "      <td>9997.000000</td>\n",
       "      <td>9997.000000</td>\n",
       "      <td>9997.000000</td>\n",
       "      <td>9997.000000</td>\n",
       "    </tr>\n",
       "    <tr>\n",
       "      <th>mean</th>\n",
       "      <td>2008.0</td>\n",
       "      <td>11.0</td>\n",
       "      <td>16.384377</td>\n",
       "      <td>4.494456</td>\n",
       "      <td>1482.934472</td>\n",
       "      <td>1426.216362</td>\n",
       "      <td>1598.885726</td>\n",
       "      <td>1608.629907</td>\n",
       "      <td>2312.868844</td>\n",
       "      <td>141.419239</td>\n",
       "      <td>132.919988</td>\n",
       "      <td>110.244531</td>\n",
       "      <td>52.655179</td>\n",
       "      <td>44.155928</td>\n",
       "      <td>746.302467</td>\n",
       "      <td>7.834682</td>\n",
       "      <td>23.340026</td>\n",
       "      <td>13.855257</td>\n",
       "      <td>1.508953</td>\n",
       "      <td>18.543363</td>\n",
       "      <td>0.037011</td>\n",
       "      <td>18.789937</td>\n",
       "    </tr>\n",
       "    <tr>\n",
       "      <th>std</th>\n",
       "      <td>0.0</td>\n",
       "      <td>0.0</td>\n",
       "      <td>8.905032</td>\n",
       "      <td>2.018210</td>\n",
       "      <td>460.834385</td>\n",
       "      <td>430.150666</td>\n",
       "      <td>544.619410</td>\n",
       "      <td>457.892033</td>\n",
       "      <td>2050.525331</td>\n",
       "      <td>72.538741</td>\n",
       "      <td>69.650336</td>\n",
       "      <td>69.413127</td>\n",
       "      <td>50.912616</td>\n",
       "      <td>54.223170</td>\n",
       "      <td>569.000208</td>\n",
       "      <td>6.316822</td>\n",
       "      <td>17.298492</td>\n",
       "      <td>37.894477</td>\n",
       "      <td>12.220310</td>\n",
       "      <td>30.123742</td>\n",
       "      <td>1.011256</td>\n",
       "      <td>34.802203</td>\n",
       "    </tr>\n",
       "    <tr>\n",
       "      <th>min</th>\n",
       "      <td>2008.0</td>\n",
       "      <td>11.0</td>\n",
       "      <td>1.000000</td>\n",
       "      <td>1.000000</td>\n",
       "      <td>1.000000</td>\n",
       "      <td>50.000000</td>\n",
       "      <td>1.000000</td>\n",
       "      <td>1.000000</td>\n",
       "      <td>1.000000</td>\n",
       "      <td>22.000000</td>\n",
       "      <td>27.000000</td>\n",
       "      <td>12.000000</td>\n",
       "      <td>-25.000000</td>\n",
       "      <td>-25.000000</td>\n",
       "      <td>31.000000</td>\n",
       "      <td>1.000000</td>\n",
       "      <td>3.000000</td>\n",
       "      <td>0.000000</td>\n",
       "      <td>0.000000</td>\n",
       "      <td>0.000000</td>\n",
       "      <td>0.000000</td>\n",
       "      <td>0.000000</td>\n",
       "    </tr>\n",
       "    <tr>\n",
       "      <th>25%</th>\n",
       "      <td>2008.0</td>\n",
       "      <td>11.0</td>\n",
       "      <td>9.000000</td>\n",
       "      <td>3.000000</td>\n",
       "      <td>1130.000000</td>\n",
       "      <td>1101.000000</td>\n",
       "      <td>1256.000000</td>\n",
       "      <td>1255.000000</td>\n",
       "      <td>677.500000</td>\n",
       "      <td>89.000000</td>\n",
       "      <td>82.000000</td>\n",
       "      <td>60.000000</td>\n",
       "      <td>22.000000</td>\n",
       "      <td>8.000000</td>\n",
       "      <td>336.000000</td>\n",
       "      <td>4.000000</td>\n",
       "      <td>12.000000</td>\n",
       "      <td>0.000000</td>\n",
       "      <td>0.000000</td>\n",
       "      <td>0.000000</td>\n",
       "      <td>0.000000</td>\n",
       "      <td>0.000000</td>\n",
       "    </tr>\n",
       "    <tr>\n",
       "      <th>50%</th>\n",
       "      <td>2008.0</td>\n",
       "      <td>11.0</td>\n",
       "      <td>15.000000</td>\n",
       "      <td>5.000000</td>\n",
       "      <td>1523.000000</td>\n",
       "      <td>1445.000000</td>\n",
       "      <td>1709.000000</td>\n",
       "      <td>1650.000000</td>\n",
       "      <td>1590.000000</td>\n",
       "      <td>125.000000</td>\n",
       "      <td>115.000000</td>\n",
       "      <td>92.000000</td>\n",
       "      <td>34.000000</td>\n",
       "      <td>30.000000</td>\n",
       "      <td>594.000000</td>\n",
       "      <td>6.000000</td>\n",
       "      <td>18.000000</td>\n",
       "      <td>0.000000</td>\n",
       "      <td>0.000000</td>\n",
       "      <td>9.000000</td>\n",
       "      <td>0.000000</td>\n",
       "      <td>0.000000</td>\n",
       "    </tr>\n",
       "    <tr>\n",
       "      <th>75%</th>\n",
       "      <td>2008.0</td>\n",
       "      <td>11.0</td>\n",
       "      <td>24.000000</td>\n",
       "      <td>6.000000</td>\n",
       "      <td>1845.000000</td>\n",
       "      <td>1757.000000</td>\n",
       "      <td>2028.500000</td>\n",
       "      <td>2000.000000</td>\n",
       "      <td>3481.500000</td>\n",
       "      <td>174.000000</td>\n",
       "      <td>164.000000</td>\n",
       "      <td>139.000000</td>\n",
       "      <td>65.000000</td>\n",
       "      <td>61.000000</td>\n",
       "      <td>976.000000</td>\n",
       "      <td>9.000000</td>\n",
       "      <td>29.000000</td>\n",
       "      <td>14.000000</td>\n",
       "      <td>0.000000</td>\n",
       "      <td>23.000000</td>\n",
       "      <td>0.000000</td>\n",
       "      <td>24.000000</td>\n",
       "    </tr>\n",
       "    <tr>\n",
       "      <th>max</th>\n",
       "      <td>2008.0</td>\n",
       "      <td>11.0</td>\n",
       "      <td>30.000000</td>\n",
       "      <td>7.000000</td>\n",
       "      <td>2400.000000</td>\n",
       "      <td>2356.000000</td>\n",
       "      <td>2400.000000</td>\n",
       "      <td>2359.000000</td>\n",
       "      <td>7813.000000</td>\n",
       "      <td>645.000000</td>\n",
       "      <td>660.000000</td>\n",
       "      <td>609.000000</td>\n",
       "      <td>1308.000000</td>\n",
       "      <td>1286.000000</td>\n",
       "      <td>4962.000000</td>\n",
       "      <td>105.000000</td>\n",
       "      <td>201.000000</td>\n",
       "      <td>1194.000000</td>\n",
       "      <td>368.000000</td>\n",
       "      <td>401.000000</td>\n",
       "      <td>54.000000</td>\n",
       "      <td>347.000000</td>\n",
       "    </tr>\n",
       "  </tbody>\n",
       "</table>\n",
       "</div>"
      ],
      "text/plain": [
       "          Year    Month    DayofMonth     DayOfWeek       DepTime  \\\n",
       "count  10011.0  10011.0  10011.000000  10011.000000  10011.000000   \n",
       "mean    2008.0     11.0     16.384377      4.494456   1482.934472   \n",
       "std        0.0      0.0      8.905032      2.018210    460.834385   \n",
       "min     2008.0     11.0      1.000000      1.000000      1.000000   \n",
       "25%     2008.0     11.0      9.000000      3.000000   1130.000000   \n",
       "50%     2008.0     11.0     15.000000      5.000000   1523.000000   \n",
       "75%     2008.0     11.0     24.000000      6.000000   1845.000000   \n",
       "max     2008.0     11.0     30.000000      7.000000   2400.000000   \n",
       "\n",
       "         CRSDepTime       ArrTime    CRSArrTime     FlightNum  \\\n",
       "count  10011.000000  10011.000000  10011.000000  10011.000000   \n",
       "mean    1426.216362   1598.885726   1608.629907   2312.868844   \n",
       "std      430.150666    544.619410    457.892033   2050.525331   \n",
       "min       50.000000      1.000000      1.000000      1.000000   \n",
       "25%     1101.000000   1256.000000   1255.000000    677.500000   \n",
       "50%     1445.000000   1709.000000   1650.000000   1590.000000   \n",
       "75%     1757.000000   2028.500000   2000.000000   3481.500000   \n",
       "max     2356.000000   2400.000000   2359.000000   7813.000000   \n",
       "\n",
       "       ActualElapsedTime  CRSElapsedTime       AirTime      ArrDelay  \\\n",
       "count       10011.000000    10011.000000  10011.000000  10011.000000   \n",
       "mean          141.419239      132.919988    110.244531     52.655179   \n",
       "std            72.538741       69.650336     69.413127     50.912616   \n",
       "min            22.000000       27.000000     12.000000    -25.000000   \n",
       "25%            89.000000       82.000000     60.000000     22.000000   \n",
       "50%           125.000000      115.000000     92.000000     34.000000   \n",
       "75%           174.000000      164.000000    139.000000     65.000000   \n",
       "max           645.000000      660.000000    609.000000   1308.000000   \n",
       "\n",
       "           DepDelay      Distance        TaxiIn       TaxiOut  CarrierDelay  \\\n",
       "count  10011.000000  10011.000000  10011.000000  10011.000000   9997.000000   \n",
       "mean      44.155928    746.302467      7.834682     23.340026     13.855257   \n",
       "std       54.223170    569.000208      6.316822     17.298492     37.894477   \n",
       "min      -25.000000     31.000000      1.000000      3.000000      0.000000   \n",
       "25%        8.000000    336.000000      4.000000     12.000000      0.000000   \n",
       "50%       30.000000    594.000000      6.000000     18.000000      0.000000   \n",
       "75%       61.000000    976.000000      9.000000     29.000000     14.000000   \n",
       "max     1286.000000   4962.000000    105.000000    201.000000   1194.000000   \n",
       "\n",
       "       WeatherDelay     NASDelay  SecurityDelay  LateAircraftDelay  \n",
       "count   9997.000000  9997.000000    9997.000000        9997.000000  \n",
       "mean       1.508953    18.543363       0.037011          18.789937  \n",
       "std       12.220310    30.123742       1.011256          34.802203  \n",
       "min        0.000000     0.000000       0.000000           0.000000  \n",
       "25%        0.000000     0.000000       0.000000           0.000000  \n",
       "50%        0.000000     9.000000       0.000000           0.000000  \n",
       "75%        0.000000    23.000000       0.000000          24.000000  \n",
       "max      368.000000   401.000000      54.000000         347.000000  "
      ]
     },
     "execution_count": 35,
     "metadata": {},
     "output_type": "execute_result"
    }
   ],
   "source": [
    "airline.describe()"
   ]
  },
  {
   "cell_type": "markdown",
   "metadata": {},
   "source": [
    "This data set has the following variables:\n",
    "* 22 quantiatve columns\n",
    "* 4 qualitative columns\n",
    "* 26 columns in total"
   ]
  },
  {
   "cell_type": "code",
   "execution_count": 36,
   "metadata": {},
   "outputs": [
    {
     "name": "stdout",
     "output_type": "stream",
     "text": [
      "# off observations:  10011\n"
     ]
    }
   ],
   "source": [
    "print(\"# off observations: \",len(airline))"
   ]
  },
  {
   "cell_type": "markdown",
   "metadata": {},
   "source": [
    "Below are the number of null values in every column."
   ]
  },
  {
   "cell_type": "code",
   "execution_count": 37,
   "metadata": {},
   "outputs": [
    {
     "data": {
      "text/plain": [
       "Year                  0\n",
       "Month                 0\n",
       "DayofMonth            0\n",
       "DayOfWeek             0\n",
       "DepTime               0\n",
       "CRSDepTime            0\n",
       "ArrTime               0\n",
       "CRSArrTime            0\n",
       "UniqueCarrier         0\n",
       "FlightNum             0\n",
       "TailNum               0\n",
       "ActualElapsedTime     0\n",
       "CRSElapsedTime        0\n",
       "AirTime               0\n",
       "ArrDelay              0\n",
       "DepDelay              0\n",
       "Origin                0\n",
       "Dest                  0\n",
       "Distance              0\n",
       "TaxiIn                0\n",
       "TaxiOut               0\n",
       "CarrierDelay         14\n",
       "WeatherDelay         14\n",
       "NASDelay             14\n",
       "SecurityDelay        14\n",
       "LateAircraftDelay    14\n",
       "dtype: int64"
      ]
     },
     "execution_count": 37,
     "metadata": {},
     "output_type": "execute_result"
    }
   ],
   "source": [
    "airline.isnull().sum(axis = 0)  # NA by column\n",
    "#airline.isna().sum()           # also NA by column\n",
    "#airline.isnull().sum(axis = 1) # NA by row"
   ]
  },
  {
   "cell_type": "code",
   "execution_count": 38,
   "metadata": {},
   "outputs": [],
   "source": [
    "airline = airline.dropna()"
   ]
  },
  {
   "cell_type": "markdown",
   "metadata": {},
   "source": [
    "Change airport codes to full name:\n",
    "- ATL → Atlanta (Hartsfield Jackson Atlanta International Airport),\n",
    "- CHS →CharlestonAFB (Charleston Air Force Base International Airport),\n",
    "- DFW → DallasFtWorth (Dallas Fort Worth International Airport),\n",
    "- MSP → MinneapolisStPaul (Minneapolis-St Paul International/Wold-Chamberlain Airport)"
   ]
  },
  {
   "cell_type": "code",
   "execution_count": 39,
   "metadata": {},
   "outputs": [],
   "source": [
    "airline.loc[airline.Origin == \"ATL\", \"Origin\"] = \"Atlanta\"\n",
    "airline.loc[airline.Dest == \"ATL\", \"Dest\"] = \"Atlanta\"\n",
    "\n",
    "airline.loc[airline.Origin == \"CHS\", \"Origin\"] = \"CharlestonAFB\"\n",
    "airline.loc[airline.Dest == \"CHS\", \"Dest\"] = \"CharlestonAFB\"\n",
    "\n",
    "airline.loc[airline.Origin == \"DFW\", \"Origin\"] = \"DallasFtWorth\"\n",
    "airline.loc[airline.Dest == \"DFW\", \"Dest\"] = \"DallasFtWorth\"\n",
    "\n",
    "airline.loc[airline.Origin == \"MSP\", \"Origin\"] = \"MinneapolisStPaul\"\n",
    "airline.loc[airline.Dest == \"MSP\", \"Dest\"] = \"MinneapolisStPaul\"\n"
   ]
  },
  {
   "cell_type": "code",
   "execution_count": 40,
   "metadata": {},
   "outputs": [
    {
     "data": {
      "text/html": [
       "<div>\n",
       "<style scoped>\n",
       "    .dataframe tbody tr th:only-of-type {\n",
       "        vertical-align: middle;\n",
       "    }\n",
       "\n",
       "    .dataframe tbody tr th {\n",
       "        vertical-align: top;\n",
       "    }\n",
       "\n",
       "    .dataframe thead th {\n",
       "        text-align: right;\n",
       "    }\n",
       "</style>\n",
       "<table border=\"1\" class=\"dataframe\">\n",
       "  <thead>\n",
       "    <tr style=\"text-align: right;\">\n",
       "      <th></th>\n",
       "      <th>Year</th>\n",
       "      <th>Month</th>\n",
       "      <th>DayofMonth</th>\n",
       "      <th>DayOfWeek</th>\n",
       "      <th>DepTime</th>\n",
       "      <th>CRSDepTime</th>\n",
       "      <th>ArrTime</th>\n",
       "      <th>CRSArrTime</th>\n",
       "      <th>UniqueCarrier</th>\n",
       "      <th>FlightNum</th>\n",
       "      <th>TailNum</th>\n",
       "      <th>ActualElapsedTime</th>\n",
       "      <th>CRSElapsedTime</th>\n",
       "      <th>AirTime</th>\n",
       "      <th>ArrDelay</th>\n",
       "      <th>DepDelay</th>\n",
       "      <th>Origin</th>\n",
       "      <th>Dest</th>\n",
       "      <th>Distance</th>\n",
       "      <th>TaxiIn</th>\n",
       "      <th>TaxiOut</th>\n",
       "      <th>CarrierDelay</th>\n",
       "      <th>WeatherDelay</th>\n",
       "      <th>NASDelay</th>\n",
       "      <th>SecurityDelay</th>\n",
       "      <th>LateAircraftDelay</th>\n",
       "    </tr>\n",
       "  </thead>\n",
       "  <tbody>\n",
       "    <tr>\n",
       "      <th>0</th>\n",
       "      <td>2008</td>\n",
       "      <td>11</td>\n",
       "      <td>1</td>\n",
       "      <td>6</td>\n",
       "      <td>1001</td>\n",
       "      <td>913</td>\n",
       "      <td>1153</td>\n",
       "      <td>1125</td>\n",
       "      <td>9E</td>\n",
       "      <td>3747</td>\n",
       "      <td>86319E</td>\n",
       "      <td>112</td>\n",
       "      <td>132</td>\n",
       "      <td>99</td>\n",
       "      <td>28</td>\n",
       "      <td>48</td>\n",
       "      <td>DTW</td>\n",
       "      <td>SAV</td>\n",
       "      <td>706</td>\n",
       "      <td>4</td>\n",
       "      <td>9</td>\n",
       "      <td>28.0</td>\n",
       "      <td>0.0</td>\n",
       "      <td>0.0</td>\n",
       "      <td>0.0</td>\n",
       "      <td>0.0</td>\n",
       "    </tr>\n",
       "    <tr>\n",
       "      <th>1</th>\n",
       "      <td>2008</td>\n",
       "      <td>11</td>\n",
       "      <td>1</td>\n",
       "      <td>6</td>\n",
       "      <td>2116</td>\n",
       "      <td>2120</td>\n",
       "      <td>2345</td>\n",
       "      <td>2259</td>\n",
       "      <td>9E</td>\n",
       "      <td>2824</td>\n",
       "      <td>85339E</td>\n",
       "      <td>209</td>\n",
       "      <td>159</td>\n",
       "      <td>130</td>\n",
       "      <td>46</td>\n",
       "      <td>-4</td>\n",
       "      <td>MinneapolisStPaul</td>\n",
       "      <td>IDA</td>\n",
       "      <td>939</td>\n",
       "      <td>5</td>\n",
       "      <td>74</td>\n",
       "      <td>0.0</td>\n",
       "      <td>0.0</td>\n",
       "      <td>46.0</td>\n",
       "      <td>0.0</td>\n",
       "      <td>0.0</td>\n",
       "    </tr>\n",
       "    <tr>\n",
       "      <th>2</th>\n",
       "      <td>2008</td>\n",
       "      <td>11</td>\n",
       "      <td>1</td>\n",
       "      <td>6</td>\n",
       "      <td>1330</td>\n",
       "      <td>1235</td>\n",
       "      <td>1456</td>\n",
       "      <td>1413</td>\n",
       "      <td>9E</td>\n",
       "      <td>2070</td>\n",
       "      <td>91709E</td>\n",
       "      <td>86</td>\n",
       "      <td>98</td>\n",
       "      <td>70</td>\n",
       "      <td>43</td>\n",
       "      <td>55</td>\n",
       "      <td>CVG</td>\n",
       "      <td>PHL</td>\n",
       "      <td>507</td>\n",
       "      <td>4</td>\n",
       "      <td>12</td>\n",
       "      <td>0.0</td>\n",
       "      <td>0.0</td>\n",
       "      <td>0.0</td>\n",
       "      <td>0.0</td>\n",
       "      <td>43.0</td>\n",
       "    </tr>\n",
       "    <tr>\n",
       "      <th>3</th>\n",
       "      <td>2008</td>\n",
       "      <td>11</td>\n",
       "      <td>1</td>\n",
       "      <td>6</td>\n",
       "      <td>1435</td>\n",
       "      <td>1400</td>\n",
       "      <td>1539</td>\n",
       "      <td>1518</td>\n",
       "      <td>9E</td>\n",
       "      <td>2024</td>\n",
       "      <td>91629E</td>\n",
       "      <td>64</td>\n",
       "      <td>78</td>\n",
       "      <td>42</td>\n",
       "      <td>21</td>\n",
       "      <td>35</td>\n",
       "      <td>CharlestonAFB</td>\n",
       "      <td>Atlanta</td>\n",
       "      <td>259</td>\n",
       "      <td>13</td>\n",
       "      <td>9</td>\n",
       "      <td>0.0</td>\n",
       "      <td>0.0</td>\n",
       "      <td>0.0</td>\n",
       "      <td>0.0</td>\n",
       "      <td>21.0</td>\n",
       "    </tr>\n",
       "    <tr>\n",
       "      <th>4</th>\n",
       "      <td>2008</td>\n",
       "      <td>11</td>\n",
       "      <td>1</td>\n",
       "      <td>6</td>\n",
       "      <td>1225</td>\n",
       "      <td>1211</td>\n",
       "      <td>1400</td>\n",
       "      <td>1320</td>\n",
       "      <td>9E</td>\n",
       "      <td>2024</td>\n",
       "      <td>91629E</td>\n",
       "      <td>95</td>\n",
       "      <td>69</td>\n",
       "      <td>47</td>\n",
       "      <td>40</td>\n",
       "      <td>14</td>\n",
       "      <td>Atlanta</td>\n",
       "      <td>CharlestonAFB</td>\n",
       "      <td>259</td>\n",
       "      <td>20</td>\n",
       "      <td>28</td>\n",
       "      <td>14.0</td>\n",
       "      <td>0.0</td>\n",
       "      <td>26.0</td>\n",
       "      <td>0.0</td>\n",
       "      <td>0.0</td>\n",
       "    </tr>\n",
       "  </tbody>\n",
       "</table>\n",
       "</div>"
      ],
      "text/plain": [
       "   Year  Month  DayofMonth  DayOfWeek  DepTime  CRSDepTime  ArrTime  \\\n",
       "0  2008     11           1          6     1001         913     1153   \n",
       "1  2008     11           1          6     2116        2120     2345   \n",
       "2  2008     11           1          6     1330        1235     1456   \n",
       "3  2008     11           1          6     1435        1400     1539   \n",
       "4  2008     11           1          6     1225        1211     1400   \n",
       "\n",
       "   CRSArrTime UniqueCarrier  FlightNum TailNum  ActualElapsedTime  \\\n",
       "0        1125            9E       3747  86319E                112   \n",
       "1        2259            9E       2824  85339E                209   \n",
       "2        1413            9E       2070  91709E                 86   \n",
       "3        1518            9E       2024  91629E                 64   \n",
       "4        1320            9E       2024  91629E                 95   \n",
       "\n",
       "   CRSElapsedTime  AirTime  ArrDelay  DepDelay             Origin  \\\n",
       "0             132       99        28        48                DTW   \n",
       "1             159      130        46        -4  MinneapolisStPaul   \n",
       "2              98       70        43        55                CVG   \n",
       "3              78       42        21        35      CharlestonAFB   \n",
       "4              69       47        40        14            Atlanta   \n",
       "\n",
       "            Dest  Distance  TaxiIn  TaxiOut  CarrierDelay  WeatherDelay  \\\n",
       "0            SAV       706       4        9          28.0           0.0   \n",
       "1            IDA       939       5       74           0.0           0.0   \n",
       "2            PHL       507       4       12           0.0           0.0   \n",
       "3        Atlanta       259      13        9           0.0           0.0   \n",
       "4  CharlestonAFB       259      20       28          14.0           0.0   \n",
       "\n",
       "   NASDelay  SecurityDelay  LateAircraftDelay  \n",
       "0       0.0            0.0                0.0  \n",
       "1      46.0            0.0                0.0  \n",
       "2       0.0            0.0               43.0  \n",
       "3       0.0            0.0               21.0  \n",
       "4      26.0            0.0                0.0  "
      ]
     },
     "execution_count": 40,
     "metadata": {},
     "output_type": "execute_result"
    }
   ],
   "source": [
    "airline.head()"
   ]
  },
  {
   "cell_type": "markdown",
   "metadata": {},
   "source": [
    "recalculation the `ActualElapsedTime` using the values in the dataset"
   ]
  },
  {
   "cell_type": "code",
   "execution_count": 41,
   "metadata": {},
   "outputs": [],
   "source": [
    "airline[\"ActualElapsedTime_\"] = airline.AirTime + airline.TaxiIn + airline.TaxiOut"
   ]
  },
  {
   "cell_type": "markdown",
   "metadata": {},
   "source": [
    "## 02 Descriptive Statistics\n",
    "\n",
    "[Purdue Lab 2](https://i2.wp.com/tmrresearchblog.com/wp-content/uploads/2018/08/Airport-Information-Systems-Market.jpg?fit=1920%2C1080&ssl=1)\n",
    "\n",
    "Part A: create numerical summaries, histograms and boxplots describing the `actual elapsed time` in the airlines dataset"
   ]
  },
  {
   "cell_type": "code",
   "execution_count": 42,
   "metadata": {},
   "outputs": [
    {
     "data": {
      "text/plain": [
       "count    9997.000000\n",
       "mean      141.416925\n",
       "std        72.557178\n",
       "min        22.000000\n",
       "25%        89.000000\n",
       "50%       125.000000\n",
       "75%       174.000000\n",
       "max       645.000000\n",
       "Name: ActualElapsedTime, dtype: float64"
      ]
     },
     "execution_count": 42,
     "metadata": {},
     "output_type": "execute_result"
    }
   ],
   "source": [
    "# numerical summaries ( five-number summary)\n",
    "airline.ActualElapsedTime.describe()"
   ]
  },
  {
   "cell_type": "code",
   "execution_count": 44,
   "metadata": {},
   "outputs": [
    {
     "data": {
      "text/plain": [
       "<matplotlib.axes._subplots.AxesSubplot at 0x14f7046c358>"
      ]
     },
     "execution_count": 44,
     "metadata": {},
     "output_type": "execute_result"
    },
    {
     "data": {
      "image/png": "[encoded data removed]",
      "text/plain": [
       "<Figure size 432x288 with 1 Axes>"
      ]
     },
     "metadata": {
      "needs_background": "light"
     },
     "output_type": "display_data"
    }
   ],
   "source": [
    "# histogram \n",
    "airline.ActualElapsedTime.hist()"
   ]
  },
  {
   "cell_type": "code",
   "execution_count": 57,
   "metadata": {},
   "outputs": [
    {
     "name": "stderr",
     "output_type": "stream",
     "text": [
      "C:\\Program Files (x86)\\Microsoft Visual Studio\\Shared\\Anaconda3_64\\lib\\site-packages\\scipy\\stats\\stats.py:1713: FutureWarning: Using a non-tuple sequence for multidimensional indexing is deprecated; use `arr[tuple(seq)]` instead of `arr[seq]`. In the future this will be interpreted as an array index, `arr[np.array(seq)]`, which will result either in an error or a different result.\n",
      "  return np.add.reduce(sorted[indexer] * weights, axis=axis) / sumval\n"
     ]
    },
    {
     "data": {
      "image/png": "[encoded data removed]",
      "text/plain": [
       "<Figure size 1080x576 with 1 Axes>"
      ]
     },
     "metadata": {
      "needs_background": "light"
     },
     "output_type": "display_data"
    }
   ],
   "source": [
    "# a better histogram with a density function\n",
    "fig = plt.figure(figsize=(15,8))\n",
    "ax = sns.distplot(airline.ActualElapsedTime, kde=True, rug=True)\n",
    "plt.title(\"Histogram of Airline Acutal Elapsed Time\")\n",
    "plt.show()"
   ]
  },
  {
   "cell_type": "markdown",
   "metadata": {},
   "source": [
    "The above histogram appears to be skewed right with a couple of outliers existing past 450 mins of `Actual Elasped time`"
   ]
  },
  {
   "cell_type": "code",
   "execution_count": 58,
   "metadata": {},
   "outputs": [
    {
     "data": {
      "text/plain": [
       "<matplotlib.axes._subplots.AxesSubplot at 0x14f762e6cc0>"
      ]
     },
     "execution_count": 58,
     "metadata": {},
     "output_type": "execute_result"
    },
    {
     "data": {
      "image/png": "[encoded data removed]",
      "text/plain": [
       "<Figure size 432x288 with 1 Axes>"
      ]
     },
     "metadata": {
      "needs_background": "light"
     },
     "output_type": "display_data"
    }
   ],
   "source": [
    "# boxplot\n",
    "sns.boxplot(x = airline.ActualElapsedTime)"
   ]
  },
  {
   "cell_type": "markdown",
   "metadata": {},
   "source": [
    "The above boxplot provides insights into whether the data is symmetric or not and shows the outliers. We can see the 25th, 50th and 75th percentiles are somewhat equally spaced out, however, the boxplot appears to be positively skweed (right) with outliers indicated greater then 300."
   ]
  },
  {
   "cell_type": "markdown",
   "metadata": {},
   "source": [
    "find $\\bar{x}$ and $s$ and explain the median"
   ]
  },
  {
   "cell_type": "code",
   "execution_count": 64,
   "metadata": {},
   "outputs": [
    {
     "name": "stdout",
     "output_type": "stream",
     "text": [
      " x-bar :  141.41692507752325\n",
      " standard deviation :  72.55717775137741\n",
      " median :  125.0\n"
     ]
    }
   ],
   "source": [
    "print(\" x-bar : \", airline.ActualElapsedTime.mean())\n",
    "print(\" standard deviation : \", airline.ActualElapsedTime.std())\n",
    "print(\" median : \", airline.ActualElapsedTime.median())"
   ]
  },
  {
   "cell_type": "markdown",
   "metadata": {},
   "source": [
    "As we can see from the above summary statistics since the mean is greater than the median, this indicated that the data is being pulled positively (viz. right skew). Additionally, we can see that "
   ]
  },
  {
   "cell_type": "markdown",
   "metadata": {},
   "source": [
    "_If you had only one number to estimate the actual elapsed time of airline\n",
    "flights in November based on this dataset, what would it be?_\n",
    "\n",
    "Due to the amount of outliers, the median would be the best statistical esitmate for the actual elapsed of time, as the median is resitant to outliers. "
   ]
  },
  {
   "cell_type": "markdown",
   "metadata": {},
   "source": [
    "#### Part B. \n",
    "\n",
    "graphical and numeric summaries of the time (minutes) that it takes for\n",
    "the flights to arrive at the gate after they land (TaxiIn)"
   ]
  },
  {
   "cell_type": "code",
   "execution_count": 85,
   "metadata": {},
   "outputs": [
    {
     "data": {
      "text/html": [
       "<div>\n",
       "<style scoped>\n",
       "    .dataframe tbody tr th:only-of-type {\n",
       "        vertical-align: middle;\n",
       "    }\n",
       "\n",
       "    .dataframe tbody tr th {\n",
       "        vertical-align: top;\n",
       "    }\n",
       "\n",
       "    .dataframe thead th {\n",
       "        text-align: right;\n",
       "    }\n",
       "</style>\n",
       "<table border=\"1\" class=\"dataframe\">\n",
       "  <thead>\n",
       "    <tr style=\"text-align: right;\">\n",
       "      <th></th>\n",
       "      <th>count</th>\n",
       "      <th>mean</th>\n",
       "      <th>std</th>\n",
       "      <th>min</th>\n",
       "      <th>25%</th>\n",
       "      <th>50%</th>\n",
       "      <th>75%</th>\n",
       "      <th>max</th>\n",
       "    </tr>\n",
       "  </thead>\n",
       "  <tbody>\n",
       "    <tr>\n",
       "      <th>TaxiIn</th>\n",
       "      <td>9997.0</td>\n",
       "      <td>7.837851</td>\n",
       "      <td>6.320316</td>\n",
       "      <td>1.0</td>\n",
       "      <td>4.0</td>\n",
       "      <td>6.0</td>\n",
       "      <td>9.0</td>\n",
       "      <td>105.0</td>\n",
       "    </tr>\n",
       "  </tbody>\n",
       "</table>\n",
       "</div>"
      ],
      "text/plain": [
       "         count      mean       std  min  25%  50%  75%    max\n",
       "TaxiIn  9997.0  7.837851  6.320316  1.0  4.0  6.0  9.0  105.0"
      ]
     },
     "execution_count": 85,
     "metadata": {},
     "output_type": "execute_result"
    }
   ],
   "source": [
    "# numerical summaries\n",
    "taxiin_iqr = pd.DataFrame(airline.TaxiIn.describe()).T\n",
    "taxiin_iqr"
   ]
  },
  {
   "cell_type": "code",
   "execution_count": 114,
   "metadata": {},
   "outputs": [
    {
     "name": "stdout",
     "output_type": "stream",
     "text": [
      "outliers interval: -3.5 - 16.5\n",
      "# of outliers:  655\n"
     ]
    }
   ],
   "source": [
    "# calcluate outliers\n",
    "iqr = (taxiin_iqr['75%'] - taxiin_iqr['25%']) * 1.5\n",
    "qt1_iqr = (taxiin_iqr['25%'][0] - iqr[0])\n",
    "qt3_iqr = (taxiin_iqr['75%'][0] + iqr[0])\n",
    "\n",
    "print(\"outliers interval: {} - {}\".format(qt1_iqr, qt3_iqr))\n",
    "print(\"# of outliers: \", len(airline[airline.TaxiIn > qt3_iqr]))"
   ]
  },
  {
   "cell_type": "code",
   "execution_count": 66,
   "metadata": {
    "scrolled": true
   },
   "outputs": [
    {
     "data": {
      "text/plain": [
       "<matplotlib.axes._subplots.AxesSubplot at 0x14f76ac8a20>"
      ]
     },
     "execution_count": 66,
     "metadata": {},
     "output_type": "execute_result"
    },
    {
     "data": {
      "image/png": "[encoded data removed]",
      "text/plain": [
       "<Figure size 432x288 with 1 Axes>"
      ]
     },
     "metadata": {
      "needs_background": "light"
     },
     "output_type": "display_data"
    }
   ],
   "source": [
    "# boxplot\n",
    "sns.boxplot(x = airline.TaxiIn)"
   ]
  },
  {
   "cell_type": "markdown",
   "metadata": {},
   "source": [
    "The boxplot above for `TaxiIn` is positively skewed right with a large amount of outliers. "
   ]
  },
  {
   "cell_type": "code",
   "execution_count": 115,
   "metadata": {},
   "outputs": [
    {
     "name": "stderr",
     "output_type": "stream",
     "text": [
      "C:\\Program Files (x86)\\Microsoft Visual Studio\\Shared\\Anaconda3_64\\lib\\site-packages\\scipy\\stats\\stats.py:1713: FutureWarning: Using a non-tuple sequence for multidimensional indexing is deprecated; use `arr[tuple(seq)]` instead of `arr[seq]`. In the future this will be interpreted as an array index, `arr[np.array(seq)]`, which will result either in an error or a different result.\n",
      "  return np.add.reduce(sorted[indexer] * weights, axis=axis) / sumval\n"
     ]
    },
    {
     "data": {
      "image/png": "[encoded data removed]",
      "text/plain": [
       "<Figure size 1080x576 with 1 Axes>"
      ]
     },
     "metadata": {
      "needs_background": "light"
     },
     "output_type": "display_data"
    }
   ],
   "source": [
    "# histogram with a density function\n",
    "fig = plt.figure(figsize=(15,8))\n",
    "ax = sns.distplot(airline.TaxiIn, kde=True, rug=True)\n",
    "plt.title(\"flights to arrive at the gate after they land (TaxiIn)\")\n",
    "plt.show()"
   ]
  },
  {
   "cell_type": "code",
   "execution_count": null,
   "metadata": {},
   "outputs": [],
   "source": []
  },
  {
   "cell_type": "code",
   "execution_count": null,
   "metadata": {},
   "outputs": [],
   "source": []
  },
  {
   "cell_type": "code",
   "execution_count": null,
   "metadata": {},
   "outputs": [],
   "source": []
  },
  {
   "cell_type": "code",
   "execution_count": null,
   "metadata": {},
   "outputs": [],
   "source": []
  },
  {
   "cell_type": "code",
   "execution_count": null,
   "metadata": {},
   "outputs": [],
   "source": []
  },
  {
   "cell_type": "code",
   "execution_count": null,
   "metadata": {},
   "outputs": [],
   "source": []
  }
 ],
 "metadata": {
  "kernelspec": {
   "display_name": "Python 3",
   "language": "python",
   "name": "python3"
  },
  "language_info": {
   "codemirror_mode": {
    "name": "ipython",
    "version": 3
   },
   "file_extension": ".py",
   "mimetype": "text/x-python",
   "name": "python",
   "nbconvert_exporter": "python",
   "pygments_lexer": "ipython3",
   "version": "3.7.0"
  }
 },
 "nbformat": 4,
 "nbformat_minor": 2
}
