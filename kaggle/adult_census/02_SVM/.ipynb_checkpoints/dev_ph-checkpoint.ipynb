{
 "cells": [
  {
   "cell_type": "markdown",
   "metadata": {},
   "source": [
    "# Support Vector Machines\n",
    "\n",
    "![](./media/intro-to-machine-learning-by-microsoft-ventures-27-638.jpg)\n",
    "\n",
    "_[Source](https://www.slideshare.net/microsoftventures/microsoft-ventures-workshop)_"
   ]
  },
  {
   "cell_type": "markdown",
   "metadata": {},
   "source": [
    "## Load Data and Create Dummy Variables\n",
    "\n",
    "Label encoding using [get_dummies](http://pandas.pydata.org/pandas-docs/stable/generated/pandas.get_dummies.html) function to reach dummy variables 0 and 1 for the different categories. Then remove the previously used original categorical columns, and going forward we use the created dummy columns. "
   ]
  },
  {
   "cell_type": "code",
   "execution_count": 89,
   "metadata": {},
   "outputs": [
    {
     "data": {
      "text/html": [
       "<div>\n",
       "<style scoped>\n",
       "    .dataframe tbody tr th:only-of-type {\n",
       "        vertical-align: middle;\n",
       "    }\n",
       "\n",
       "    .dataframe tbody tr th {\n",
       "        vertical-align: top;\n",
       "    }\n",
       "\n",
       "    .dataframe thead th {\n",
       "        text-align: right;\n",
       "    }\n",
       "</style>\n",
       "<table border=\"1\" class=\"dataframe\">\n",
       "  <thead>\n",
       "    <tr style=\"text-align: right;\">\n",
       "      <th></th>\n",
       "      <th>age</th>\n",
       "      <th>fnlwgt</th>\n",
       "      <th>educationNum</th>\n",
       "      <th>hoursPerWeek</th>\n",
       "      <th>income</th>\n",
       "      <th>netCapital</th>\n",
       "      <th>isWhite</th>\n",
       "      <th>isMarried</th>\n",
       "      <th>isHusband</th>\n",
       "      <th>USA</th>\n",
       "      <th>sex_Male</th>\n",
       "      <th>jobtype_government</th>\n",
       "      <th>jobtype_other</th>\n",
       "      <th>jobtype_private</th>\n",
       "    </tr>\n",
       "  </thead>\n",
       "  <tbody>\n",
       "    <tr>\n",
       "      <th>0</th>\n",
       "      <td>90</td>\n",
       "      <td>77053</td>\n",
       "      <td>9</td>\n",
       "      <td>40</td>\n",
       "      <td>0</td>\n",
       "      <td>-4356</td>\n",
       "      <td>1.0</td>\n",
       "      <td>0.0</td>\n",
       "      <td>0.0</td>\n",
       "      <td>1.0</td>\n",
       "      <td>0</td>\n",
       "      <td>0</td>\n",
       "      <td>1</td>\n",
       "      <td>0</td>\n",
       "    </tr>\n",
       "    <tr>\n",
       "      <th>1</th>\n",
       "      <td>82</td>\n",
       "      <td>132870</td>\n",
       "      <td>9</td>\n",
       "      <td>18</td>\n",
       "      <td>0</td>\n",
       "      <td>-4356</td>\n",
       "      <td>1.0</td>\n",
       "      <td>0.0</td>\n",
       "      <td>0.0</td>\n",
       "      <td>1.0</td>\n",
       "      <td>0</td>\n",
       "      <td>0</td>\n",
       "      <td>0</td>\n",
       "      <td>1</td>\n",
       "    </tr>\n",
       "    <tr>\n",
       "      <th>2</th>\n",
       "      <td>66</td>\n",
       "      <td>186061</td>\n",
       "      <td>10</td>\n",
       "      <td>40</td>\n",
       "      <td>0</td>\n",
       "      <td>-4356</td>\n",
       "      <td>0.0</td>\n",
       "      <td>0.0</td>\n",
       "      <td>0.0</td>\n",
       "      <td>1.0</td>\n",
       "      <td>0</td>\n",
       "      <td>0</td>\n",
       "      <td>1</td>\n",
       "      <td>0</td>\n",
       "    </tr>\n",
       "    <tr>\n",
       "      <th>3</th>\n",
       "      <td>54</td>\n",
       "      <td>140359</td>\n",
       "      <td>4</td>\n",
       "      <td>40</td>\n",
       "      <td>0</td>\n",
       "      <td>-3900</td>\n",
       "      <td>1.0</td>\n",
       "      <td>0.0</td>\n",
       "      <td>0.0</td>\n",
       "      <td>1.0</td>\n",
       "      <td>0</td>\n",
       "      <td>0</td>\n",
       "      <td>0</td>\n",
       "      <td>1</td>\n",
       "    </tr>\n",
       "    <tr>\n",
       "      <th>4</th>\n",
       "      <td>41</td>\n",
       "      <td>264663</td>\n",
       "      <td>10</td>\n",
       "      <td>40</td>\n",
       "      <td>0</td>\n",
       "      <td>-3900</td>\n",
       "      <td>1.0</td>\n",
       "      <td>0.0</td>\n",
       "      <td>0.0</td>\n",
       "      <td>1.0</td>\n",
       "      <td>0</td>\n",
       "      <td>0</td>\n",
       "      <td>0</td>\n",
       "      <td>1</td>\n",
       "    </tr>\n",
       "  </tbody>\n",
       "</table>\n",
       "</div>"
      ],
      "text/plain": [
       "   age  fnlwgt  educationNum  hoursPerWeek  income  netCapital  isWhite  \\\n",
       "0   90   77053             9            40       0       -4356      1.0   \n",
       "1   82  132870             9            18       0       -4356      1.0   \n",
       "2   66  186061            10            40       0       -4356      0.0   \n",
       "3   54  140359             4            40       0       -3900      1.0   \n",
       "4   41  264663            10            40       0       -3900      1.0   \n",
       "\n",
       "   isMarried  isHusband  USA  sex_Male  jobtype_government  jobtype_other  \\\n",
       "0        0.0        0.0  1.0         0                   0              1   \n",
       "1        0.0        0.0  1.0         0                   0              0   \n",
       "2        0.0        0.0  1.0         0                   0              1   \n",
       "3        0.0        0.0  1.0         0                   0              0   \n",
       "4        0.0        0.0  1.0         0                   0              0   \n",
       "\n",
       "   jobtype_private  \n",
       "0                0  \n",
       "1                1  \n",
       "2                0  \n",
       "3                1  \n",
       "4                1  "
      ]
     },
     "execution_count": 89,
     "metadata": {},
     "output_type": "execute_result"
    }
   ],
   "source": [
    "# Data Processing\n",
    "import pandas as pd\n",
    "from sklearn.linear_model import LogisticRegression\n",
    "from sklearn.svm import SVC\n",
    "\n",
    "# Data Visualization\n",
    "import seaborn as sns\n",
    "sns.set(style=\"darkgrid\")\n",
    "import matplotlib.pyplot as plt\n",
    "\n",
    "# Code comparison\n",
    "import time\n",
    "\n",
    "# import dataset\n",
    "df = pd.read_csv(\"../cleanedAdultCensus.csv\")\n",
    "\n",
    "#  consolidate capital gain/loss into a single net metric.\n",
    "df['netCapital'] = df['capitalGain']  - df['capitalLoss']\n",
    "\n",
    "# create new variable categorizes worked hours per week\n",
    "df.loc[df.hoursPerWeek > 40, \"workhrs_\"] = \"overtime\"\n",
    "df.loc[(df.hoursPerWeek <= 40) & (df.hoursPerWeek >= 30), \"workhrs_\"] = \"fulltime\"\n",
    "df.loc[(df.hoursPerWeek < 30 ) & (df.hoursPerWeek >= 20), \"workhrs_\"] = \"partime\"\n",
    "df.loc[df.hoursPerWeek < 20, \"workhrs_\"] = \"limited\"\n",
    "\n",
    "#maritalStatus_old = {'Widowed': 'separate', 'Divorced': 'separate', 'Separated': 'separate', 'Never-married': 'single', 'Married-civ-spouse': 'married', 'Married-spouse-absent': 'a_other', 'Married-AF-spouse': 'a_other'}\n",
    "#maritalStatus_ = {'Widowed': 'single', 'Divorced': 'single', 'Separated': 'single', 'Never-married': 'single', 'Married-civ-spouse': 'married', 'Married-spouse-absent': 'a_other', 'Married-AF-spouse': 'a_other'}\n",
    "#df['maritalStatus_'] = df.maritalStatus.map(lambda x: maritalStatus_[x])\n",
    "\n",
    "# compute the nearest 10 for person's decade birth\n",
    "#df['age_decade'] = (df.age // 10) * 10\n",
    "\n",
    "# one-hot encode `income` and race and maritalStatus, relationship, nativeCountry\n",
    "df.loc[df.income == \"<=50K\", 'income'] = 0 \n",
    "df.loc[df.income == \">50K\", 'income'] = 1\n",
    "\n",
    "df.loc[df.race == \"White\", 'isWhite'] = 1\n",
    "df.loc[df.race != \"White\", 'isWhite'] = 0\n",
    "\n",
    "df.loc[df.maritalStatus == 'Married-AF-spouse', 'isMarried'] = 1\n",
    "df.loc[df.maritalStatus != 'Married-AF-spouse', 'isMarried'] = 0\n",
    "\n",
    "df.loc[df.relationship == 'Husband', 'isHusband'] = 1\n",
    "df.loc[df.relationship != 'Husband', 'isHusband'] = 0\n",
    "\n",
    "df.loc[df.nativeCountry == 'United-States', 'USA'] = 1\n",
    "df.loc[df.nativeCountry != 'United-States', 'USA'] = 0\n",
    "\n",
    "\n",
    "# drop unneeded columns\n",
    "#'educationNum','hoursPerWeek',\n",
    "unneeded_columns = ['workclass', 'education', 'maritalStatus','race',\n",
    "                    'occupation', 'capitalGain', 'capitalLoss', 'nativeCountry', 'relationship',\n",
    "                   'education_','workhrs_']\n",
    "df.drop(unneeded_columns, axis=1, inplace=True)\n",
    "\n",
    "\n",
    "\n",
    "categorical_variables =  ['sex', 'jobtype' ]\n",
    "for var in categorical_variables:\n",
    "    category_list = 'var'+'_'+var\n",
    "    category_list = pd.get_dummies(df[var], prefix=var, drop_first=True)\n",
    "    _temp = df.join(category_list)\n",
    "    df = _temp\n",
    "    \n",
    "    \n",
    "df.drop(categorical_variables, axis=1, inplace=True)\n",
    "df.head()"
   ]
  },
  {
   "cell_type": "markdown",
   "metadata": {},
   "source": [
    "### Feature Selection"
   ]
  },
  {
   "cell_type": "markdown",
   "metadata": {},
   "source": [
    "#### Pearson Correlation\n",
    "Utilize Perason correlation coefficient to gain a better understanding of the predictor varaibales and their strength in relationship to whether income is greater or less than 50K.\n"
   ]
  },
  {
   "cell_type": "code",
   "execution_count": 90,
   "metadata": {},
   "outputs": [
    {
     "data": {
      "text/plain": [
       "age                   0.234037\n",
       "educationNum          0.335154\n",
       "hoursPerWeek          0.229689\n",
       "income                1.000000\n",
       "netCapital            0.214428\n",
       "isWhite               0.085224\n",
       "isHusband             0.401035\n",
       "sex_Male              0.215980\n",
       "jobtype_government    0.061903\n",
       "jobtype_other         0.079348\n",
       "jobtype_private       0.078528\n",
       "Name: income, dtype: float64"
      ]
     },
     "execution_count": 90,
     "metadata": {},
     "output_type": "execute_result"
    }
   ],
   "source": [
    "df_corr = df.corr()\n",
    "#df_corr['income'].sort_values(ascending=False)\n",
    "correlation_target = abs(df_corr.income)\n",
    "corr_matrix = correlation_target[correlation_target>0.05]\n",
    "corr_matrix"
   ]
  },
  {
   "cell_type": "code",
   "execution_count": 91,
   "metadata": {},
   "outputs": [
    {
     "name": "stdout",
     "output_type": "stream",
     "text": [
      "Variance Inflation Factor for Heatmap Predictors\n"
     ]
    },
    {
     "data": {
      "text/html": [
       "<div>\n",
       "<style scoped>\n",
       "    .dataframe tbody tr th:only-of-type {\n",
       "        vertical-align: middle;\n",
       "    }\n",
       "\n",
       "    .dataframe tbody tr th {\n",
       "        vertical-align: top;\n",
       "    }\n",
       "\n",
       "    .dataframe thead th {\n",
       "        text-align: right;\n",
       "    }\n",
       "</style>\n",
       "<table border=\"1\" class=\"dataframe\">\n",
       "  <thead>\n",
       "    <tr style=\"text-align: right;\">\n",
       "      <th></th>\n",
       "      <th>VIF Factor</th>\n",
       "      <th>features</th>\n",
       "    </tr>\n",
       "  </thead>\n",
       "  <tbody>\n",
       "    <tr>\n",
       "      <th>0</th>\n",
       "      <td>8.6</td>\n",
       "      <td>age</td>\n",
       "    </tr>\n",
       "    <tr>\n",
       "      <th>1</th>\n",
       "      <td>4.0</td>\n",
       "      <td>fnlwgt</td>\n",
       "    </tr>\n",
       "    <tr>\n",
       "      <th>2</th>\n",
       "      <td>15.1</td>\n",
       "      <td>educationNum</td>\n",
       "    </tr>\n",
       "    <tr>\n",
       "      <th>3</th>\n",
       "      <td>11.4</td>\n",
       "      <td>hoursPerWeek</td>\n",
       "    </tr>\n",
       "    <tr>\n",
       "      <th>4</th>\n",
       "      <td>1.8</td>\n",
       "      <td>income</td>\n",
       "    </tr>\n",
       "    <tr>\n",
       "      <th>5</th>\n",
       "      <td>1.1</td>\n",
       "      <td>netCapital</td>\n",
       "    </tr>\n",
       "    <tr>\n",
       "      <th>6</th>\n",
       "      <td>7.0</td>\n",
       "      <td>isWhite</td>\n",
       "    </tr>\n",
       "    <tr>\n",
       "      <th>7</th>\n",
       "      <td>1.0</td>\n",
       "      <td>isMarried</td>\n",
       "    </tr>\n",
       "    <tr>\n",
       "      <th>8</th>\n",
       "      <td>3.1</td>\n",
       "      <td>isHusband</td>\n",
       "    </tr>\n",
       "    <tr>\n",
       "      <th>9</th>\n",
       "      <td>9.4</td>\n",
       "      <td>USA</td>\n",
       "    </tr>\n",
       "    <tr>\n",
       "      <th>10</th>\n",
       "      <td>4.6</td>\n",
       "      <td>sex_Male</td>\n",
       "    </tr>\n",
       "    <tr>\n",
       "      <th>11</th>\n",
       "      <td>2.1</td>\n",
       "      <td>jobtype_government</td>\n",
       "    </tr>\n",
       "    <tr>\n",
       "      <th>12</th>\n",
       "      <td>1.4</td>\n",
       "      <td>jobtype_other</td>\n",
       "    </tr>\n",
       "    <tr>\n",
       "      <th>13</th>\n",
       "      <td>5.9</td>\n",
       "      <td>jobtype_private</td>\n",
       "    </tr>\n",
       "  </tbody>\n",
       "</table>\n",
       "</div>"
      ],
      "text/plain": [
       "    VIF Factor            features\n",
       "0          8.6                 age\n",
       "1          4.0              fnlwgt\n",
       "2         15.1        educationNum\n",
       "3         11.4        hoursPerWeek\n",
       "4          1.8              income\n",
       "5          1.1          netCapital\n",
       "6          7.0             isWhite\n",
       "7          1.0           isMarried\n",
       "8          3.1           isHusband\n",
       "9          9.4                 USA\n",
       "10         4.6            sex_Male\n",
       "11         2.1  jobtype_government\n",
       "12         1.4       jobtype_other\n",
       "13         5.9     jobtype_private"
      ]
     },
     "execution_count": 91,
     "metadata": {},
     "output_type": "execute_result"
    }
   ],
   "source": [
    "#https://etav.github.io/python/vif_factor_python.html\n",
    "from statsmodels.stats.outliers_influence import variance_inflation_factor\n",
    "# For each X, calculate VIF and save in dataframe\n",
    "vif = pd.DataFrame()\n",
    "vif[\"VIF Factor\"] = [variance_inflation_factor(df.values, i) for i in range(df.shape[1])]\n",
    "vif[\"features\"] = df.columns\n",
    "print(\"Variance Inflation Factor for Heatmap Predictors\")\n",
    "vif.round(1)"
   ]
  },
  {
   "cell_type": "code",
   "execution_count": 92,
   "metadata": {},
   "outputs": [
    {
     "data": {
      "text/html": [
       "<div>\n",
       "<style scoped>\n",
       "    .dataframe tbody tr th:only-of-type {\n",
       "        vertical-align: middle;\n",
       "    }\n",
       "\n",
       "    .dataframe tbody tr th {\n",
       "        vertical-align: top;\n",
       "    }\n",
       "\n",
       "    .dataframe thead th {\n",
       "        text-align: right;\n",
       "    }\n",
       "</style>\n",
       "<table border=\"1\" class=\"dataframe\">\n",
       "  <thead>\n",
       "    <tr style=\"text-align: right;\">\n",
       "      <th></th>\n",
       "      <th>VIF Factor</th>\n",
       "      <th>features</th>\n",
       "    </tr>\n",
       "  </thead>\n",
       "  <tbody>\n",
       "    <tr>\n",
       "      <th>0</th>\n",
       "      <td>8.585185</td>\n",
       "      <td>age</td>\n",
       "    </tr>\n",
       "    <tr>\n",
       "      <th>1</th>\n",
       "      <td>3.968185</td>\n",
       "      <td>fnlwgt</td>\n",
       "    </tr>\n",
       "    <tr>\n",
       "      <th>2</th>\n",
       "      <td>15.102226</td>\n",
       "      <td>educationNum</td>\n",
       "    </tr>\n",
       "    <tr>\n",
       "      <th>3</th>\n",
       "      <td>11.430298</td>\n",
       "      <td>hoursPerWeek</td>\n",
       "    </tr>\n",
       "    <tr>\n",
       "      <th>4</th>\n",
       "      <td>1.784836</td>\n",
       "      <td>income</td>\n",
       "    </tr>\n",
       "    <tr>\n",
       "      <th>5</th>\n",
       "      <td>1.075494</td>\n",
       "      <td>netCapital</td>\n",
       "    </tr>\n",
       "    <tr>\n",
       "      <th>6</th>\n",
       "      <td>6.951529</td>\n",
       "      <td>isWhite</td>\n",
       "    </tr>\n",
       "    <tr>\n",
       "      <th>7</th>\n",
       "      <td>1.001627</td>\n",
       "      <td>isMarried</td>\n",
       "    </tr>\n",
       "    <tr>\n",
       "      <th>8</th>\n",
       "      <td>3.118372</td>\n",
       "      <td>isHusband</td>\n",
       "    </tr>\n",
       "    <tr>\n",
       "      <th>9</th>\n",
       "      <td>9.361052</td>\n",
       "      <td>USA</td>\n",
       "    </tr>\n",
       "    <tr>\n",
       "      <th>10</th>\n",
       "      <td>4.600417</td>\n",
       "      <td>sex_Male</td>\n",
       "    </tr>\n",
       "    <tr>\n",
       "      <th>11</th>\n",
       "      <td>2.060186</td>\n",
       "      <td>jobtype_government</td>\n",
       "    </tr>\n",
       "    <tr>\n",
       "      <th>12</th>\n",
       "      <td>1.418556</td>\n",
       "      <td>jobtype_other</td>\n",
       "    </tr>\n",
       "    <tr>\n",
       "      <th>13</th>\n",
       "      <td>5.912702</td>\n",
       "      <td>jobtype_private</td>\n",
       "    </tr>\n",
       "  </tbody>\n",
       "</table>\n",
       "</div>"
      ],
      "text/plain": [
       "    VIF Factor            features\n",
       "0     8.585185                 age\n",
       "1     3.968185              fnlwgt\n",
       "2    15.102226        educationNum\n",
       "3    11.430298        hoursPerWeek\n",
       "4     1.784836              income\n",
       "5     1.075494          netCapital\n",
       "6     6.951529             isWhite\n",
       "7     1.001627           isMarried\n",
       "8     3.118372           isHusband\n",
       "9     9.361052                 USA\n",
       "10    4.600417            sex_Male\n",
       "11    2.060186  jobtype_government\n",
       "12    1.418556       jobtype_other\n",
       "13    5.912702     jobtype_private"
      ]
     },
     "execution_count": 92,
     "metadata": {},
     "output_type": "execute_result"
    }
   ],
   "source": [
    "vif"
   ]
  },
  {
   "cell_type": "markdown",
   "metadata": {},
   "source": [
    "__Analysis__ after several iterations of performing the Variance Inflation Factor calcuation and review the results, above is the final output. The core variables removed all together or re-categoriezed were `race, maritalStatus, relationship, nativeCountry` as many of the variables had high variance inflation values. Therefore, some of these variables had to be removed or re-categoried in to new features as the variables would pose high risk of multicolinarity in explaining the features in the dataset in solving this classificaiton problem. "
   ]
  },
  {
   "cell_type": "markdown",
   "metadata": {},
   "source": [
    "__Create explanaotry and response variables for classification training__"
   ]
  },
  {
   "cell_type": "code",
   "execution_count": 93,
   "metadata": {},
   "outputs": [
    {
     "name": "stdout",
     "output_type": "stream",
     "text": [
      "List of all posible variables\n",
      "['age', 'fnlwgt', 'educationNum', 'hoursPerWeek', 'netCapital', 'isWhite', 'isMarried', 'isHusband', 'USA', 'sex_Male', 'jobtype_government', 'jobtype_other', 'jobtype_private']\n",
      "\n",
      "Summary Statistics for the Response Variable: `INCOME`\n",
      "Average Income (Mean):  0.241\n",
      "Standard Deviation Income:  0.428\n",
      "Mim Income:  0.000\n",
      "Max Income:  1.000\n"
     ]
    }
   ],
   "source": [
    "# list of all possible variables\n",
    "variables_ = df.columns.values.tolist()\n",
    "#variables_ = corr_matrix.index.tolist()\n",
    "variables_.remove(\"income\")\n",
    "print(\"List of all posible variables\")\n",
    "print(variables_)\n",
    "\n",
    "# define variables for classificaiton training\n",
    "y=df['income']\n",
    "X=df[variables_]\n",
    "\n",
    "print(\"\")\n",
    "print(\"Summary Statistics for the Response Variable: `INCOME`\")\n",
    "print(\"Average Income (Mean):  {:.3f}\".format(y.mean()))\n",
    "print(\"Standard Deviation Income:  {:.3f}\".format(y.std()))\n",
    "print(\"Mim Income:  {:.3f}\".format(y.min()))\n",
    "print(\"Max Income:  {:.3f}\".format(y.max()))"
   ]
  },
  {
   "cell_type": "code",
   "execution_count": 128,
   "metadata": {},
   "outputs": [
    {
     "data": {
      "text/plain": [
       "0    24720\n",
       "1     7841\n",
       "Name: income, dtype: int64"
      ]
     },
     "execution_count": 128,
     "metadata": {},
     "output_type": "execute_result"
    }
   ],
   "source": [
    "y.value_counts()"
   ]
  },
  {
   "cell_type": "markdown",
   "metadata": {},
   "source": [
    "Data is imbalanced, use `roc_auc` metric to accout for this."
   ]
  },
  {
   "cell_type": "code",
   "execution_count": 94,
   "metadata": {},
   "outputs": [],
   "source": [
    "import time\n",
    "from sklearn.model_selection import train_test_split\n",
    "from sklearn import metrics\n",
    "from sklearn.metrics import accuracy_score\n",
    "\n",
    "X_train, X_test, y_train, y_test = train_test_split(X, y, test_size=0.2, random_state=0)"
   ]
  },
  {
   "cell_type": "markdown",
   "metadata": {},
   "source": [
    "## Logistic Regression\n",
    "\n"
   ]
  },
  {
   "cell_type": "code",
   "execution_count": 11,
   "metadata": {},
   "outputs": [
    {
     "name": "stderr",
     "output_type": "stream",
     "text": [
      "C:\\Users\\phhale\\AppData\\Local\\Continuum\\anaconda3\\envs\\bril\\lib\\site-packages\\sklearn\\linear_model\\logistic.py:433: FutureWarning: Default solver will be changed to 'lbfgs' in 0.22. Specify a solver to silence this warning.\n",
      "  FutureWarning)\n"
     ]
    },
    {
     "name": "stdout",
     "output_type": "stream",
     "text": [
      "Logit Traning accuracy: 0.837\n",
      "Logit test accuracy: 0.836\n",
      "Model Training Time=0.4510025978088379s\n"
     ]
    }
   ],
   "source": [
    "from sklearn.linear_model import LogisticRegression\n",
    "logreg = LogisticRegression()\n",
    "start = time.time()\n",
    "logreg.fit(X_train, y_train)\n",
    "\n",
    "print('Logit Traning accuracy: {:.3f}'.format(accuracy_score(y_train, logreg.predict(X_train))))\n",
    "print('Logit test accuracy: {:.3f}'.format(accuracy_score(y_test, logreg.predict(X_test))))\n",
    "end = time.time()\n",
    "print(\"Model Training Time=\"+str(end-start)+\"s\")"
   ]
  },
  {
   "cell_type": "markdown",
   "metadata": {},
   "source": [
    "---\n",
    "## Support Vector Machine\n",
    "\n",
    "Next we seek to train a model using the __Support Vector Machine (SVM)__ to compare ho well these supervised learning methods can best solve this classificaiton problem. We will be utilzing various SVM kernel functions such as `SVC` and `LinearSVC` kernerls to assist in the model training computation in finding the appropriate hyperplane for the classification to make a decision as to whether a given individual's income is greater or less than 50K. \n",
    "\n",
    "Use cost of error imporved with the parameter `class_weight` to adjust the weights more heavier on those that do not earn income >50K which is automatically adjusted. \n",
    "\n",
    "__General References__\n",
    "* http://scikit-learn.org/stable/modules/generated/sklearn.svm.SVC.html\n",
    "* http://cs229.stanford.edu/notes/cs229-notes3.pdf\n",
    "\n",
    "\n",
    "First we train SVM using the __Support Vector Classifier (SVC)__ kernel with classification valuation `C` = 1 which is the default parameter. "
   ]
  },
  {
   "cell_type": "code",
   "execution_count": 86,
   "metadata": {},
   "outputs": [
    {
     "name": "stderr",
     "output_type": "stream",
     "text": [
      "C:\\Users\\phhale\\AppData\\Local\\Continuum\\anaconda3\\envs\\bril\\lib\\site-packages\\sklearn\\svm\\base.py:196: FutureWarning: The default value of gamma will change from 'auto' to 'scale' in version 0.22 to account better for unscaled features. Set gamma explicitly to 'auto' or 'scale' to avoid this warning.\n",
      "  \"avoid this warning.\", FutureWarning)\n"
     ]
    },
    {
     "name": "stdout",
     "output_type": "stream",
     "text": [
      "Model Training Time=106.80650854110718s\n",
      "SVM Traning accuracy: 0.841\n",
      "SVM test accuracy: 0.809\n"
     ]
    }
   ],
   "source": [
    "from sklearn.svm import SVC\n",
    "start = time.time()\n",
    "svc = SVC(class_weight='balanced')\n",
    "svc.fit(X_train, y_train)\n",
    "end = time.time()\n",
    "print(\"Model Training Time=\"+str(end-start)+\"s\")\n",
    "\n",
    "print('SVM Traning accuracy: {:.3f}'.format(accuracy_score(y_train, svc.predict(X_train))))\n",
    "print('SVM test accuracy: {:.3f}'.format(accuracy_score(y_test, svc.predict(X_test))))\n"
   ]
  },
  {
   "cell_type": "markdown",
   "metadata": {},
   "source": [
    "Here the results are show where the Training dataset accuracy is 84.1% and the test dataset accuracy is 80.9%. We can see that the default SVC kernel aided in not overfitting this dataset. "
   ]
  },
  {
   "cell_type": "code",
   "execution_count": null,
   "metadata": {},
   "outputs": [],
   "source": []
  },
  {
   "cell_type": "code",
   "execution_count": null,
   "metadata": {},
   "outputs": [],
   "source": []
  },
  {
   "cell_type": "code",
   "execution_count": 95,
   "metadata": {
    "scrolled": true
   },
   "outputs": [
    {
     "name": "stderr",
     "output_type": "stream",
     "text": [
      "C:\\Users\\phhale\\AppData\\Local\\Continuum\\anaconda3\\envs\\bril\\lib\\site-packages\\sklearn\\preprocessing\\data.py:334: DataConversionWarning: Data with input dtype uint8, int64, float64 were all converted to float64 by MinMaxScaler.\n",
      "  return self.partial_fit(X, y)\n",
      "C:\\Users\\phhale\\AppData\\Local\\Continuum\\anaconda3\\envs\\bril\\lib\\site-packages\\sklearn\\preprocessing\\data.py:334: DataConversionWarning: Data with input dtype uint8, int64, float64 were all converted to float64 by MinMaxScaler.\n",
      "  return self.partial_fit(X, y)\n",
      "C:\\Users\\phhale\\AppData\\Local\\Continuum\\anaconda3\\envs\\bril\\lib\\site-packages\\sklearn\\svm\\base.py:196: FutureWarning: The default value of gamma will change from 'auto' to 'scale' in version 0.22 to account better for unscaled features. Set gamma explicitly to 'auto' or 'scale' to avoid this warning.\n",
      "  \"avoid this warning.\", FutureWarning)\n"
     ]
    },
    {
     "name": "stdout",
     "output_type": "stream",
     "text": [
      "Model Training Time=18.129910707473755s\n",
      "SVM - Scaler Training accuracy:  0.827\n",
      "SVM - Scaler Testing accuracy:  0.824\n"
     ]
    }
   ],
   "source": [
    "from sklearn.preprocessing import MinMaxScaler\n",
    "start = time.time()\n",
    "scaler = MinMaxScaler()\n",
    "X_train_scaled = scaler.fit_transform(X_train)\n",
    "X_test_scaled = scaler.fit_transform(X_test)\n",
    "\n",
    "svc = SVC()\n",
    "svc.fit(X_train_scaled, y_train)\n",
    "end = time.time()\n",
    "print(\"Model Training Time=\"+str(end-start)+\"s\")\n",
    "\n",
    "print(\"SVM - Scaler Training accuracy:  {:.3f}\".format(svc.score(X_train_scaled, y_train)))\n",
    "print(\"SVM - Scaler Testing accuracy:  {:.3f}\".format(svc.score(X_test_scaled, y_test)))"
   ]
  },
  {
   "cell_type": "code",
   "execution_count": null,
   "metadata": {},
   "outputs": [],
   "source": [
    "SVM - Scaler Training accuracy:  0.808\n",
    "SVM - Scaler Testing accuracy:  0.806"
   ]
  },
  {
   "cell_type": "markdown",
   "metadata": {},
   "source": [
    "## GridSearch \n",
    "\n",
    "We are looking to test \n",
    "\n",
    "That means we have created 80 different models. \n",
    "With a 5 fold Cross Validation "
   ]
  },
  {
   "cell_type": "code",
   "execution_count": 50,
   "metadata": {},
   "outputs": [
    {
     "data": {
      "text/plain": [
       "80"
      ]
     },
     "execution_count": 50,
     "metadata": {},
     "output_type": "execute_result"
    }
   ],
   "source": [
    "4*4*5"
   ]
  },
  {
   "cell_type": "code",
   "execution_count": 88,
   "metadata": {},
   "outputs": [
    {
     "name": "stdout",
     "output_type": "stream",
     "text": [
      "Time required =1673.6280579566956s\n"
     ]
    }
   ],
   "source": [
    "from sklearn.model_selection import GridSearchCV\n",
    "\n",
    "start = time.time()\n",
    "clf = SVC()\n",
    "param_grid = [{'kernel':['rbf'],'gamma':[50,5,10,0.5],\n",
    "             'C':[10,0.1,0.001] }]\n",
    "gsv = GridSearchCV(clf,param_grid,cv=5,n_jobs=-1)\n",
    "gsv.fit(X_train_scaled, y_train)\n",
    "end = time.time()\n",
    "print(\"Time required =\"+str(end-start)+\"s\")"
   ]
  },
  {
   "cell_type": "code",
   "execution_count": 89,
   "metadata": {},
   "outputs": [
    {
     "name": "stdout",
     "output_type": "stream",
     "text": [
      "Best HyperParameter:  {'C': 10, 'gamma': 0.5, 'kernel': 'rbf'}\n",
      "Best Accuracy: 83.85%\n"
     ]
    }
   ],
   "source": [
    "print(\"Best HyperParameter: \",gsv.best_params_)\n",
    "print(\"Best Accuracy: %.2f%%\"%(gsv.best_score_*100))"
   ]
  },
  {
   "cell_type": "markdown",
   "metadata": {},
   "source": [
    "Above is the best parameters "
   ]
  },
  {
   "cell_type": "code",
   "execution_count": null,
   "metadata": {},
   "outputs": [],
   "source": [
    "\n",
    "Best HyperParameter:  {'C': 10, 'gamma': 0.5, 'kernel': 'rbf'}\n",
    "Best Accuracy: 82.56%"
   ]
  },
  {
   "cell_type": "code",
   "execution_count": 97,
   "metadata": {},
   "outputs": [
    {
     "name": "stdout",
     "output_type": "stream",
     "text": [
      "Test Accuracy:  0.836\n",
      "Model Training Time=18.30422019958496s\n"
     ]
    }
   ],
   "source": [
    "# Testing Accuracy for best GriSearchCV SVM + Hyperparameters\n",
    "start = time.time()\n",
    "gsv_classifier = SVC(C = 10,kernel='rbf', gamma=0.5)\n",
    "gsv_classifier = gsv_classifier.fit(X_train_scaled, y_train)\n",
    "gsv_classifier_test_accuracy = gsv_classifier.score(X_test_scaled, y_test)\n",
    "end = time.time()\n",
    "\n",
    "print(\"Test Accuracy:  {:.3f}\".format(gsv_classifier_test_accuracy))\n",
    "print(\"Model Training Time=\"+str(end-start)+\"s\")"
   ]
  },
  {
   "cell_type": "code",
   "execution_count": 101,
   "metadata": {},
   "outputs": [
    {
     "name": "stdout",
     "output_type": "stream",
     "text": [
      "Test Accuracy:  0.832\n",
      "Model Training Time=12.51808762550354s\n"
     ]
    }
   ],
   "source": [
    "# Testing Accuracy for best GriSearchCV SVM + Hyperparameters\n",
    "start = time.time()\n",
    "gsv_classifier = SVC(C = 10,kernel='linear')\n",
    "gsv_classifier = gsv_classifier.fit(X_train_scaled, y_train)\n",
    "gsv_classifier_test_accuracy = gsv_classifier.score(X_test_scaled, y_test)\n",
    "end = time.time()\n",
    "\n",
    "print(\"Test Accuracy:  {:.3f}\".format(gsv_classifier_test_accuracy))\n",
    "print(\"Model Training Time=\"+str(end-start)+\"s\")"
   ]
  },
  {
   "cell_type": "code",
   "execution_count": 108,
   "metadata": {},
   "outputs": [],
   "source": [
    "import numpy as np\n",
    "from sklearn.model_selection import GridSearchCV"
   ]
  },
  {
   "cell_type": "code",
   "execution_count": null,
   "metadata": {},
   "outputs": [],
   "source": []
  },
  {
   "cell_type": "markdown",
   "metadata": {},
   "source": [
    "### SVM with Linear Kernel\n",
    "\n",
    "_https://github.com/benhhu/HDSMeetup/blob/6dec21eb2a2fdc9a85e0c856618f280f83c147aa/11072016SVM_classification.ipynb_"
   ]
  },
  {
   "cell_type": "code",
   "execution_count": 109,
   "metadata": {},
   "outputs": [
    {
     "data": {
      "text/plain": [
       "GridSearchCV(cv=4, error_score='raise-deprecating',\n",
       "       estimator=SVC(C=1.0, cache_size=200, class_weight=None, coef0=0.0,\n",
       "  decision_function_shape='ovr', degree=3, gamma='auto_deprecated',\n",
       "  kernel='linear', max_iter=-1, probability=True, random_state=0,\n",
       "  shrinking=True, tol=0.001, verbose=False),\n",
       "       fit_params=None, iid='warn', n_jobs=-1,\n",
       "       param_grid={'C': array([   1,   10,  100, 1000], dtype=int32)},\n",
       "       pre_dispatch='2*n_jobs', refit=True, return_train_score='warn',\n",
       "       scoring='roc_auc', verbose=0)"
      ]
     },
     "execution_count": 109,
     "metadata": {},
     "output_type": "execute_result"
    }
   ],
   "source": [
    "C = 10**np.arange(0,4)\n",
    "param_grid = dict(C=C)\n",
    "model = SVC(random_state=0, probability=True, kernel=\"linear\")\n",
    "scoring = 'roc_auc' \n",
    "num_folds = 4\n",
    "grid = GridSearchCV(cv=num_folds, estimator=model, param_grid=param_grid,scoring=scoring,n_jobs=-1)\n",
    "grid.fit(X_train_scaled, y_train)"
   ]
  },
  {
   "cell_type": "code",
   "execution_count": 110,
   "metadata": {},
   "outputs": [
    {
     "name": "stdout",
     "output_type": "stream",
     "text": [
      "0.8656017405279218\n",
      "1\n"
     ]
    }
   ],
   "source": [
    "\n",
    "print(grid.best_score_)\n",
    "print(grid.best_estimator_.C)\n",
    "svmlTunedC = grid.best_estimator_.C"
   ]
  },
  {
   "cell_type": "code",
   "execution_count": 135,
   "metadata": {},
   "outputs": [
    {
     "data": {
      "text/plain": [
       "SVC(C=1, cache_size=200, class_weight=None, coef0=0.0,\n",
       "  decision_function_shape='ovr', degree=3, gamma='auto_deprecated',\n",
       "  kernel='linear', max_iter=-1, probability=True, random_state=0,\n",
       "  shrinking=True, tol=0.001, verbose=False)"
      ]
     },
     "execution_count": 135,
     "metadata": {},
     "output_type": "execute_result"
    }
   ],
   "source": [
    "\n",
    "grid.best_estimator_"
   ]
  },
  {
   "cell_type": "code",
   "execution_count": 154,
   "metadata": {},
   "outputs": [
    {
     "data": {
      "text/plain": [
       "SVC(C=1, cache_size=200, class_weight=None, coef0=0.0,\n",
       "  decision_function_shape='ovr', degree=3, gamma='auto_deprecated',\n",
       "  kernel='linear', max_iter=-1, probability=True, random_state=0,\n",
       "  shrinking=True, tol=0.001, verbose=False)"
      ]
     },
     "execution_count": 154,
     "metadata": {},
     "output_type": "execute_result"
    }
   ],
   "source": [
    "grid.best_estimator_"
   ]
  },
  {
   "cell_type": "code",
   "execution_count": 156,
   "metadata": {},
   "outputs": [],
   "source": [
    "import pickle\n",
    "with open(\"./models/linear_gsv_grid_020920.pkl\" , 'wb') as file: pickle.dump(grid.best_estimator_, file)\n"
   ]
  },
  {
   "cell_type": "code",
   "execution_count": 134,
   "metadata": {},
   "outputs": [
    {
     "data": {
      "text/plain": [
       "0.8647667096827268"
      ]
     },
     "execution_count": 134,
     "metadata": {},
     "output_type": "execute_result"
    }
   ],
   "source": [
    "from sklearn.metrics import roc_auc_score\n",
    "roc_auc_score(y_test, grid.predict_proba(X_test_scaled)[:,1])"
   ]
  },
  {
   "cell_type": "code",
   "execution_count": 153,
   "metadata": {},
   "outputs": [
    {
     "data": {
      "text/plain": [
       "0.8647667096827268"
      ]
     },
     "execution_count": 153,
     "metadata": {},
     "output_type": "execute_result"
    }
   ],
   "source": [
    "roc_auc_score(y_test, grid.predict_proba(X_test_scaled)[:,1])"
   ]
  },
  {
   "cell_type": "code",
   "execution_count": null,
   "metadata": {},
   "outputs": [],
   "source": []
  },
  {
   "cell_type": "code",
   "execution_count": 137,
   "metadata": {},
   "outputs": [
    {
     "name": "stdout",
     "output_type": "stream",
     "text": [
      "              precision    recall  f1-score   support\n",
      "\n",
      "           0       0.85      0.95      0.90      4966\n",
      "           1       0.73      0.47      0.57      1547\n",
      "\n",
      "   micro avg       0.83      0.83      0.83      6513\n",
      "   macro avg       0.79      0.71      0.74      6513\n",
      "weighted avg       0.82      0.83      0.82      6513\n",
      "\n"
     ]
    }
   ],
   "source": [
    "# Form a prediction set\n",
    "predictions = grid.predict(X_test_scaled)\n",
    "print(classification_report(y_test,predictions))"
   ]
  },
  {
   "cell_type": "code",
   "execution_count": null,
   "metadata": {},
   "outputs": [],
   "source": []
  },
  {
   "cell_type": "code",
   "execution_count": 116,
   "metadata": {},
   "outputs": [
    {
     "name": "stdout",
     "output_type": "stream",
     "text": [
      "Test Accuracy:  0.833\n",
      "Model Training Time=65.35101842880249s\n"
     ]
    }
   ],
   "source": [
    "# Testing Accuracy for best GriSearchCV SVM + Hyperparameters\n",
    "start = time.time()\n",
    "gsv_classifier = SVC(C = 1,kernel='linear', random_state=0, probability=True)\n",
    "gsv_classifier = gsv_classifier.fit(X_train_scaled, y_train)\n",
    "gsv_classifier_test_accuracy = gsv_classifier.score(X_test_scaled, y_test)\n",
    "end = time.time()\n",
    "\n",
    "print(\"Test Accuracy:  {:.3f}\".format(gsv_classifier_test_accuracy))\n",
    "print(\"Model Training Time=\"+str(end-start)+\"s\")\n"
   ]
  },
  {
   "cell_type": "code",
   "execution_count": 130,
   "metadata": {},
   "outputs": [
    {
     "data": {
      "text/plain": [
       "SVC(C=1, cache_size=200, class_weight=None, coef0=0.0,\n",
       "  decision_function_shape='ovr', degree=3, gamma='auto_deprecated',\n",
       "  kernel='linear', max_iter=-1, probability=True, random_state=0,\n",
       "  shrinking=True, tol=0.001, verbose=False)"
      ]
     },
     "execution_count": 130,
     "metadata": {},
     "output_type": "execute_result"
    }
   ],
   "source": [
    "gsv_classifier"
   ]
  },
  {
   "cell_type": "code",
   "execution_count": 138,
   "metadata": {},
   "outputs": [
    {
     "name": "stdout",
     "output_type": "stream",
     "text": [
      "              precision    recall  f1-score   support\n",
      "\n",
      "           0       0.85      0.95      0.90      4966\n",
      "           1       0.73      0.47      0.57      1547\n",
      "\n",
      "   micro avg       0.83      0.83      0.83      6513\n",
      "   macro avg       0.79      0.71      0.74      6513\n",
      "weighted avg       0.82      0.83      0.82      6513\n",
      "\n"
     ]
    }
   ],
   "source": [
    "# Form a prediction set\n",
    "predictions = gsv_classifier.predict(X_test_scaled)\n",
    "print(classification_report(y_test,predictions))"
   ]
  },
  {
   "cell_type": "code",
   "execution_count": 152,
   "metadata": {},
   "outputs": [
    {
     "data": {
      "text/plain": [
       "array([ 1.31770005,  0.6374068 ,  4.34213976,  1.892803  , 14.72982607,\n",
       "        0.08047854,  1.        ,  1.18896121,  0.15840081, -0.05367301,\n",
       "        0.07818298, -0.34946836,  0.12386427])"
      ]
     },
     "execution_count": 152,
     "metadata": {},
     "output_type": "execute_result"
    }
   ],
   "source": [
    "gsv_classifier.coef_[0]"
   ]
  },
  {
   "cell_type": "code",
   "execution_count": null,
   "metadata": {},
   "outputs": [],
   "source": []
  },
  {
   "cell_type": "code",
   "execution_count": 144,
   "metadata": {},
   "outputs": [
    {
     "data": {
      "text/plain": [
       "['age',\n",
       " 'fnlwgt',\n",
       " 'educationNum',\n",
       " 'hoursPerWeek',\n",
       " 'netCapital',\n",
       " 'isWhite',\n",
       " 'isMarried',\n",
       " 'isHusband',\n",
       " 'USA',\n",
       " 'sex_Male',\n",
       " 'jobtype_government',\n",
       " 'jobtype_other',\n",
       " 'jobtype_private']"
      ]
     },
     "execution_count": 144,
     "metadata": {},
     "output_type": "execute_result"
    }
   ],
   "source": [
    "X_train.columns.to_list()"
   ]
  },
  {
   "cell_type": "code",
   "execution_count": null,
   "metadata": {},
   "outputs": [],
   "source": []
  },
  {
   "cell_type": "code",
   "execution_count": 149,
   "metadata": {},
   "outputs": [],
   "source": [
    "from matplotlib import pyplot as plt\n",
    "\n",
    "def feature_importances(coef, names):\n",
    "    #https://stackoverflow.com/a/41601281\n",
    "    imp = coef\n",
    "    imp,names = zip(*sorted(zip(imp,names)))\n",
    "    plt.barh(range(len(names)), imp, align='center')\n",
    "    plt.yticks(range(len(names)), names)\n",
    "    plt.show()"
   ]
  },
  {
   "cell_type": "code",
   "execution_count": 150,
   "metadata": {},
   "outputs": [
    {
     "data": {
      "image/png": "[encoded data removed]",
      "text/plain": [
       "<Figure size 432x288 with 1 Axes>"
      ]
     },
     "metadata": {},
     "output_type": "display_data"
    }
   ],
   "source": [
    "features_names = X_train.columns.to_list()\n",
    "feature_importances(abs(gsv_classifier.coef_[0]), features_names)"
   ]
  },
  {
   "cell_type": "code",
   "execution_count": null,
   "metadata": {},
   "outputs": [],
   "source": []
  },
  {
   "cell_type": "code",
   "execution_count": 117,
   "metadata": {},
   "outputs": [
    {
     "name": "stdout",
     "output_type": "stream",
     "text": [
      "Accuracy of svm with the best parameters and CV:  83.30388063838005\n"
     ]
    }
   ],
   "source": [
    "# https://github.com/mehrdaddarraji/us-hr-bill-classifier/blob/4bf9044988c385f02c4cf8ebe390fdc31c671782/train_predict.ipynb\n",
    "from sklearn.model_selection import cross_val_score\n",
    "\n",
    "pred_svm = cross_val_score(gsv_classifier, X_train_scaled, y_train, cv=5)\n",
    "# prints the accuracy of your neural net\n",
    "print(\"Accuracy of svm with the best parameters and CV: \", pred_svm.mean()*100)"
   ]
  },
  {
   "cell_type": "code",
   "execution_count": 125,
   "metadata": {},
   "outputs": [
    {
     "name": "stdout",
     "output_type": "stream",
     "text": [
      "Confusion matrix: \n",
      " [[18703  1051]\n",
      " [ 3294  3000]]\n"
     ]
    }
   ],
   "source": [
    "from sklearn.metrics import confusion_matrix\n",
    "from sklearn.model_selection import cross_val_predict\n",
    " # CONFUSION MATRIX EVALUATION\n",
    "# running a cross_val_predict with a 10-fold CV for the outer loop.\n",
    "pred_svm = cross_val_predict(gsv_classifier, X_train_scaled, y_train, cv=10)\n",
    "\n",
    "conf_mat = confusion_matrix(y_train, pred_svm)\n",
    "print(\"Confusion matrix: \\n\", conf_mat)\n"
   ]
  },
  {
   "cell_type": "code",
   "execution_count": 127,
   "metadata": {},
   "outputs": [
    {
     "data": {
      "text/plain": [
       "array([[18703,  1051],\n",
       "       [ 3294,  3000]], dtype=int64)"
      ]
     },
     "execution_count": 127,
     "metadata": {},
     "output_type": "execute_result"
    }
   ],
   "source": [
    "conf_mat"
   ]
  },
  {
   "cell_type": "code",
   "execution_count": 139,
   "metadata": {},
   "outputs": [
    {
     "name": "stdout",
     "output_type": "stream",
     "text": [
      "              precision    recall  f1-score   support\n",
      "\n",
      "           0       0.85      0.95      0.90     19754\n",
      "           1       0.74      0.48      0.58      6294\n",
      "\n",
      "   micro avg       0.83      0.83      0.83     26048\n",
      "   macro avg       0.80      0.71      0.74     26048\n",
      "weighted avg       0.82      0.83      0.82     26048\n",
      "\n"
     ]
    }
   ],
   "source": [
    "# Form a prediction set\n",
    "predictions = gsv_classifier.predict(X_train_scaled)\n",
    "print(classification_report(y_train,predictions))"
   ]
  },
  {
   "cell_type": "code",
   "execution_count": 151,
   "metadata": {},
   "outputs": [
    {
     "data": {
      "text/plain": [
       "SVC(C=1, cache_size=200, class_weight=None, coef0=0.0,\n",
       "  decision_function_shape='ovr', degree=3, gamma='auto_deprecated',\n",
       "  kernel='linear', max_iter=-1, probability=True, random_state=0,\n",
       "  shrinking=True, tol=0.001, verbose=False)"
      ]
     },
     "execution_count": 151,
     "metadata": {},
     "output_type": "execute_result"
    }
   ],
   "source": [
    "gsv_classifier"
   ]
  },
  {
   "cell_type": "code",
   "execution_count": null,
   "metadata": {},
   "outputs": [],
   "source": [
    "# CONFUSION MATRIX EVALUATION\n",
    "# running a cross_val_predict with a 10-fold CV for the outer loop.\n",
    "pred_svm = cross_val_predict(grid_svm, features, labels, cv=10)\n",
    "\n",
    "conf_mat = sklearn.metrics.confusion_matrix(labels, pred_svm)\n",
    "print(\"Confusion matrix: \\n\", conf_mat)"
   ]
  },
  {
   "cell_type": "code",
   "execution_count": null,
   "metadata": {},
   "outputs": [],
   "source": [
    "print(\"Accuracy of svm with the best parameters and CV: \", pred_svm.mean()*100)"
   ]
  },
  {
   "cell_type": "code",
   "execution_count": 111,
   "metadata": {},
   "outputs": [],
   "source": [
    "from sklearn.metrics import classification_report"
   ]
  },
  {
   "cell_type": "code",
   "execution_count": null,
   "metadata": {},
   "outputs": [],
   "source": []
  },
  {
   "cell_type": "code",
   "execution_count": null,
   "metadata": {},
   "outputs": [],
   "source": []
  },
  {
   "cell_type": "code",
   "execution_count": null,
   "metadata": {},
   "outputs": [],
   "source": []
  },
  {
   "cell_type": "markdown",
   "metadata": {},
   "source": [
    "### Linear SVM\n",
    "\n",
    "We are choosing to use the _Ridge regression_ with the __L1 Normalization__ to set the weights in the LinearSVM kernel. "
   ]
  },
  {
   "cell_type": "code",
   "execution_count": null,
   "metadata": {},
   "outputs": [],
   "source": [
    "LinearSVC(loss='l2', penalty='l1', dual=False)\n"
   ]
  },
  {
   "cell_type": "code",
   "execution_count": null,
   "metadata": {},
   "outputs": [],
   "source": [
    "from sklearn.svm import LinearSVC"
   ]
  },
  {
   "cell_type": "code",
   "execution_count": null,
   "metadata": {},
   "outputs": [],
   "source": []
  },
  {
   "cell_type": "code",
   "execution_count": 44,
   "metadata": {
    "scrolled": true
   },
   "outputs": [
    {
     "name": "stderr",
     "output_type": "stream",
     "text": [
      "C:\\Users\\phhale\\AppData\\Local\\Continuum\\anaconda3\\envs\\bril\\lib\\site-packages\\sklearn\\preprocessing\\data.py:645: DataConversionWarning: Data with input dtype uint8, int64 were all converted to float64 by StandardScaler.\n",
      "  return self.partial_fit(X, y)\n",
      "C:\\Users\\phhale\\AppData\\Local\\Continuum\\anaconda3\\envs\\bril\\lib\\site-packages\\sklearn\\base.py:467: DataConversionWarning: Data with input dtype uint8, int64 were all converted to float64 by StandardScaler.\n",
      "  return self.fit(X, y, **fit_params).transform(X)\n",
      "C:\\Users\\phhale\\AppData\\Local\\Continuum\\anaconda3\\envs\\bril\\lib\\site-packages\\sklearn\\pipeline.py:511: DataConversionWarning: Data with input dtype uint8, int64 were all converted to float64 by StandardScaler.\n",
      "  Xt = transform.transform(Xt)\n",
      "C:\\Users\\phhale\\AppData\\Local\\Continuum\\anaconda3\\envs\\bril\\lib\\site-packages\\sklearn\\preprocessing\\data.py:645: DataConversionWarning: Data with input dtype uint8, int64 were all converted to float64 by StandardScaler.\n",
      "  return self.partial_fit(X, y)\n",
      "C:\\Users\\phhale\\AppData\\Local\\Continuum\\anaconda3\\envs\\bril\\lib\\site-packages\\sklearn\\base.py:467: DataConversionWarning: Data with input dtype uint8, int64 were all converted to float64 by StandardScaler.\n",
      "  return self.fit(X, y, **fit_params).transform(X)\n",
      "C:\\Users\\phhale\\AppData\\Local\\Continuum\\anaconda3\\envs\\bril\\lib\\site-packages\\sklearn\\pipeline.py:511: DataConversionWarning: Data with input dtype uint8, int64 were all converted to float64 by StandardScaler.\n",
      "  Xt = transform.transform(Xt)\n",
      "C:\\Users\\phhale\\AppData\\Local\\Continuum\\anaconda3\\envs\\bril\\lib\\site-packages\\sklearn\\preprocessing\\data.py:645: DataConversionWarning: Data with input dtype uint8, int64 were all converted to float64 by StandardScaler.\n",
      "  return self.partial_fit(X, y)\n",
      "C:\\Users\\phhale\\AppData\\Local\\Continuum\\anaconda3\\envs\\bril\\lib\\site-packages\\sklearn\\base.py:467: DataConversionWarning: Data with input dtype uint8, int64 were all converted to float64 by StandardScaler.\n",
      "  return self.fit(X, y, **fit_params).transform(X)\n",
      "C:\\Users\\phhale\\AppData\\Local\\Continuum\\anaconda3\\envs\\bril\\lib\\site-packages\\sklearn\\pipeline.py:511: DataConversionWarning: Data with input dtype uint8, int64 were all converted to float64 by StandardScaler.\n",
      "  Xt = transform.transform(Xt)\n",
      "C:\\Users\\phhale\\AppData\\Local\\Continuum\\anaconda3\\envs\\bril\\lib\\site-packages\\sklearn\\preprocessing\\data.py:645: DataConversionWarning: Data with input dtype uint8, int64 were all converted to float64 by StandardScaler.\n",
      "  return self.partial_fit(X, y)\n",
      "C:\\Users\\phhale\\AppData\\Local\\Continuum\\anaconda3\\envs\\bril\\lib\\site-packages\\sklearn\\base.py:467: DataConversionWarning: Data with input dtype uint8, int64 were all converted to float64 by StandardScaler.\n",
      "  return self.fit(X, y, **fit_params).transform(X)\n",
      "C:\\Users\\phhale\\AppData\\Local\\Continuum\\anaconda3\\envs\\bril\\lib\\site-packages\\sklearn\\pipeline.py:511: DataConversionWarning: Data with input dtype uint8, int64 were all converted to float64 by StandardScaler.\n",
      "  Xt = transform.transform(Xt)\n",
      "C:\\Users\\phhale\\AppData\\Local\\Continuum\\anaconda3\\envs\\bril\\lib\\site-packages\\sklearn\\preprocessing\\data.py:645: DataConversionWarning: Data with input dtype uint8, int64 were all converted to float64 by StandardScaler.\n",
      "  return self.partial_fit(X, y)\n",
      "C:\\Users\\phhale\\AppData\\Local\\Continuum\\anaconda3\\envs\\bril\\lib\\site-packages\\sklearn\\base.py:467: DataConversionWarning: Data with input dtype uint8, int64 were all converted to float64 by StandardScaler.\n",
      "  return self.fit(X, y, **fit_params).transform(X)\n",
      "C:\\Users\\phhale\\AppData\\Local\\Continuum\\anaconda3\\envs\\bril\\lib\\site-packages\\sklearn\\pipeline.py:511: DataConversionWarning: Data with input dtype uint8, int64 were all converted to float64 by StandardScaler.\n",
      "  Xt = transform.transform(Xt)\n",
      "C:\\Users\\phhale\\AppData\\Local\\Continuum\\anaconda3\\envs\\bril\\lib\\site-packages\\sklearn\\preprocessing\\data.py:645: DataConversionWarning: Data with input dtype uint8, int64 were all converted to float64 by StandardScaler.\n",
      "  return self.partial_fit(X, y)\n",
      "C:\\Users\\phhale\\AppData\\Local\\Continuum\\anaconda3\\envs\\bril\\lib\\site-packages\\sklearn\\base.py:467: DataConversionWarning: Data with input dtype uint8, int64 were all converted to float64 by StandardScaler.\n",
      "  return self.fit(X, y, **fit_params).transform(X)\n",
      "C:\\Users\\phhale\\AppData\\Local\\Continuum\\anaconda3\\envs\\bril\\lib\\site-packages\\sklearn\\pipeline.py:511: DataConversionWarning: Data with input dtype uint8, int64 were all converted to float64 by StandardScaler.\n",
      "  Xt = transform.transform(Xt)\n",
      "C:\\Users\\phhale\\AppData\\Local\\Continuum\\anaconda3\\envs\\bril\\lib\\site-packages\\sklearn\\preprocessing\\data.py:645: DataConversionWarning: Data with input dtype uint8, int64 were all converted to float64 by StandardScaler.\n",
      "  return self.partial_fit(X, y)\n",
      "C:\\Users\\phhale\\AppData\\Local\\Continuum\\anaconda3\\envs\\bril\\lib\\site-packages\\sklearn\\base.py:467: DataConversionWarning: Data with input dtype uint8, int64 were all converted to float64 by StandardScaler.\n",
      "  return self.fit(X, y, **fit_params).transform(X)\n",
      "C:\\Users\\phhale\\AppData\\Local\\Continuum\\anaconda3\\envs\\bril\\lib\\site-packages\\sklearn\\pipeline.py:511: DataConversionWarning: Data with input dtype uint8, int64 were all converted to float64 by StandardScaler.\n",
      "  Xt = transform.transform(Xt)\n",
      "C:\\Users\\phhale\\AppData\\Local\\Continuum\\anaconda3\\envs\\bril\\lib\\site-packages\\sklearn\\preprocessing\\data.py:645: DataConversionWarning: Data with input dtype uint8, int64 were all converted to float64 by StandardScaler.\n",
      "  return self.partial_fit(X, y)\n",
      "C:\\Users\\phhale\\AppData\\Local\\Continuum\\anaconda3\\envs\\bril\\lib\\site-packages\\sklearn\\base.py:467: DataConversionWarning: Data with input dtype uint8, int64 were all converted to float64 by StandardScaler.\n",
      "  return self.fit(X, y, **fit_params).transform(X)\n",
      "C:\\Users\\phhale\\AppData\\Local\\Continuum\\anaconda3\\envs\\bril\\lib\\site-packages\\sklearn\\pipeline.py:511: DataConversionWarning: Data with input dtype uint8, int64 were all converted to float64 by StandardScaler.\n",
      "  Xt = transform.transform(Xt)\n",
      "C:\\Users\\phhale\\AppData\\Local\\Continuum\\anaconda3\\envs\\bril\\lib\\site-packages\\sklearn\\preprocessing\\data.py:645: DataConversionWarning: Data with input dtype uint8, int64 were all converted to float64 by StandardScaler.\n",
      "  return self.partial_fit(X, y)\n",
      "C:\\Users\\phhale\\AppData\\Local\\Continuum\\anaconda3\\envs\\bril\\lib\\site-packages\\sklearn\\base.py:467: DataConversionWarning: Data with input dtype uint8, int64 were all converted to float64 by StandardScaler.\n",
      "  return self.fit(X, y, **fit_params).transform(X)\n",
      "C:\\Users\\phhale\\AppData\\Local\\Continuum\\anaconda3\\envs\\bril\\lib\\site-packages\\sklearn\\pipeline.py:511: DataConversionWarning: Data with input dtype uint8, int64 were all converted to float64 by StandardScaler.\n",
      "  Xt = transform.transform(Xt)\n",
      "C:\\Users\\phhale\\AppData\\Local\\Continuum\\anaconda3\\envs\\bril\\lib\\site-packages\\sklearn\\preprocessing\\data.py:645: DataConversionWarning: Data with input dtype uint8, int64 were all converted to float64 by StandardScaler.\n",
      "  return self.partial_fit(X, y)\n",
      "C:\\Users\\phhale\\AppData\\Local\\Continuum\\anaconda3\\envs\\bril\\lib\\site-packages\\sklearn\\base.py:467: DataConversionWarning: Data with input dtype uint8, int64 were all converted to float64 by StandardScaler.\n",
      "  return self.fit(X, y, **fit_params).transform(X)\n",
      "C:\\Users\\phhale\\AppData\\Local\\Continuum\\anaconda3\\envs\\bril\\lib\\site-packages\\sklearn\\pipeline.py:511: DataConversionWarning: Data with input dtype uint8, int64 were all converted to float64 by StandardScaler.\n",
      "  Xt = transform.transform(Xt)\n"
     ]
    },
    {
     "data": {
      "text/plain": [
       "0.8267248994605458"
      ]
     },
     "execution_count": 44,
     "metadata": {},
     "output_type": "execute_result"
    }
   ],
   "source": [
    "import numpy as np\n",
    "from sklearn.model_selection import cross_val_score\n",
    "from sklearn import preprocessing\n",
    "from sklearn.preprocessing import StandardScaler\n",
    "from sklearn.pipeline import make_pipeline\n",
    "\n",
    "\n",
    "clf = make_pipeline(preprocessing.StandardScaler(), SVC(decision_function_shape='ovo'))\n",
    "np.mean(cross_val_score(clf, X, y, cv=10))"
   ]
  },
  {
   "cell_type": "code",
   "execution_count": null,
   "metadata": {},
   "outputs": [],
   "source": []
  },
  {
   "cell_type": "code",
   "execution_count": null,
   "metadata": {},
   "outputs": [],
   "source": []
  },
  {
   "cell_type": "code",
   "execution_count": 22,
   "metadata": {},
   "outputs": [],
   "source": [
    "import numpy as np"
   ]
  },
  {
   "cell_type": "code",
   "execution_count": 16,
   "metadata": {},
   "outputs": [],
   "source": [
    "#Divide data into test and training splits\n",
    "from sklearn.model_selection import ShuffleSplit\n",
    "cv = ShuffleSplit(n_splits=10, test_size=0.10, random_state=0)"
   ]
  },
  {
   "cell_type": "code",
   "execution_count": 17,
   "metadata": {},
   "outputs": [],
   "source": [
    "# source: https://nbviewer.jupyter.org/github/jakemdrew/EducationDataNC/blob/master/2018/Models/.ipynb_checkpoints/2018AvgACTScores-checkpoint.ipynb\n",
    "#Use mean absolute error (MAE) to score the regression models created \n",
    "#(the scale of MAE is identical to the response variable)\n",
    "from sklearn.metrics import mean_absolute_error, make_scorer, mean_squared_error\n",
    "\n",
    "#Function for Root mean squared error\n",
    "#https://stackoverflow.com/questions/17197492/root-mean-square-error-in-python\n",
    "def rmse(y_actual, y_predicted):\n",
    "    return np.sqrt(mean_squared_error(y_actual, y_predicted))\n",
    "\n",
    "#Function for Mean Absolute Percentage Error (MAPE) - Untested\n",
    "#Adapted from - https://stackoverflow.com/questions/42250958/how-to-optimize-mape-code-in-python\n",
    "def mape(y_actual, y_predicted): \n",
    "    mask = y_actual != 0\n",
    "    return (np.fabs(y_actual - y_predicted)/y_actual)[mask].mean() * 100\n",
    "\n",
    "#Create scorers for rmse and mape functions\n",
    "mae_scorer = make_scorer(score_func=mean_absolute_error, greater_is_better=False)\n",
    "rmse_scorer = make_scorer(score_func=rmse, greater_is_better=False)\n",
    "mape_scorer = make_scorer(score_func=mape, greater_is_better=False)\n",
    "\n",
    "#Make scorer array to pass into cross_validate() function for producing mutiple scores for each cv fold.\n",
    "errorScoring = {'MAE':  mae_scorer, \n",
    "                'RMSE': rmse_scorer,\n",
    "                'MAPE': mape_scorer\n",
    "               } "
   ]
  },
  {
   "cell_type": "markdown",
   "metadata": {},
   "source": [
    "### Regression Model Evaluation"
   ]
  },
  {
   "cell_type": "code",
   "execution_count": 18,
   "metadata": {},
   "outputs": [],
   "source": [
    "# source https://nbviewer.jupyter.org/github/jakemdrew/EducationDataNC/blob/master/2018/Models/.ipynb_checkpoints/2018AvgACTScores-checkpoint.ipynb\n",
    "from sklearn.model_selection import cross_validate\n",
    "\n",
    "def EvaluateRegressionEstimator(regEstimator, X, y, cv):\n",
    "    \n",
    "    scores = cross_validate(regEstimator, X, y, scoring=errorScoring, cv=cv, return_train_score=True)\n",
    "\n",
    "    #cross val score sign-flips the outputs of MAE\n",
    "    # https://github.com/scikit-learn/scikit-learn/issues/2439\n",
    "    scores['test_MAE'] = scores['test_MAE'] * -1\n",
    "    scores['test_MAPE'] = scores['test_MAPE'] * -1\n",
    "    scores['test_RMSE'] = scores['test_RMSE'] * -1\n",
    "\n",
    "    #print mean MAE for all folds \n",
    "    maeAvg = scores['test_MAE'].mean()\n",
    "    print_str = \"The average MAE for all cv folds is: \\t\\t\\t {maeAvg:.5}\"\n",
    "    print(print_str.format(maeAvg=maeAvg))\n",
    "\n",
    "    #print mean test_MAPE for all folds\n",
    "    scores['test_MAPE'] = scores['test_MAPE']\n",
    "    mape_avg = scores['test_MAPE'].mean()\n",
    "    print_str = \"The average MAE percentage (MAPE) for all cv folds is: \\t {mape_avg:.5}\"\n",
    "    print(print_str.format(mape_avg=mape_avg))\n",
    "\n",
    "    #print mean MAE for all folds \n",
    "    RMSEavg = scores['test_RMSE'].mean()\n",
    "    print_str = \"The average RMSE for all cv folds is: \\t\\t\\t {RMSEavg:.5}\"\n",
    "    print(print_str.format(RMSEavg=RMSEavg))\n",
    "    print('*********************************************************')\n",
    "\n",
    "    print('Cross Validation Fold Mean Error Scores')\n",
    "    scoresResults = pd.DataFrame()\n",
    "    scoresResults['MAE'] = scores['test_MAE']\n",
    "    scoresResults['MAPE'] = scores['test_MAPE']\n",
    "    scoresResults['RMSE'] = scores['test_RMSE']\n",
    "    return scoresResults"
   ]
  },
  {
   "cell_type": "code",
   "execution_count": 19,
   "metadata": {},
   "outputs": [],
   "source": [
    "#Make new estimator compatible for use with GridSearchCV() and cross_validate()\n",
    "# -  Cap predict function for LinearRegression between 0 and 100\n",
    "# -  See: Roll your own estimator links above for details. \n",
    "from sklearn.base import BaseEstimator, RegressorMixin\n",
    "from sklearn.linear_model import LinearRegression\n",
    "\n",
    "class CappedLinearRegression(LinearRegression):\n",
    "\n",
    "    def predict(self, X):\n",
    "        return np.clip(super(CappedLinearRegression, self).predict(X), 0, 100) "
   ]
  },
  {
   "cell_type": "code",
   "execution_count": 23,
   "metadata": {},
   "outputs": [
    {
     "name": "stdout",
     "output_type": "stream",
     "text": [
      "Fitting 10 folds for each of 4 candidates, totalling 40 fits\n"
     ]
    },
    {
     "name": "stderr",
     "output_type": "stream",
     "text": [
      "[Parallel(n_jobs=1)]: Using backend SequentialBackend with 1 concurrent workers.\n",
      "[Parallel(n_jobs=1)]: Done  40 out of  40 | elapsed:    2.8s finished\n"
     ]
    },
    {
     "data": {
      "text/plain": [
       "GridSearchCV(cv=ShuffleSplit(n_splits=10, random_state=0, test_size=0.1, train_size=None),\n",
       "       error_score='raise-deprecating',\n",
       "       estimator=CappedLinearRegression(copy_X=True, fit_intercept=True, n_jobs=None,\n",
       "            normalize=False),\n",
       "       fit_params=None, iid='warn', n_jobs=None,\n",
       "       param_grid={'normalize': (True, False), 'fit_intercept': (True, False)},\n",
       "       pre_dispatch='2*n_jobs', refit=True, return_train_score='warn',\n",
       "       scoring=make_scorer(mean_absolute_error, greater_is_better=False),\n",
       "       verbose=1)"
      ]
     },
     "execution_count": 23,
     "metadata": {},
     "output_type": "execute_result"
    }
   ],
   "source": [
    "#Create a Linear Regression object and perform a grid search to find the best parameters\n",
    "linreg = CappedLinearRegression()\n",
    "parameters = {'normalize':(True,False), 'fit_intercept':(True,False)}\n",
    "\n",
    "#Create a grid search object using the  \n",
    "from sklearn.model_selection import GridSearchCV\n",
    "regGridSearch = GridSearchCV(estimator=linreg\n",
    "                   , verbose=1 # low verbosity\n",
    "                   , param_grid=parameters\n",
    "                   , cv=cv # KFolds = 10\n",
    "                   , scoring=mae_scorer)\n",
    "\n",
    "#Perform hyperparameter search to find the best combination of parameters for our data\n",
    "regGridSearch.fit(X, y)"
   ]
  },
  {
   "cell_type": "code",
   "execution_count": 24,
   "metadata": {},
   "outputs": [
    {
     "data": {
      "text/plain": [
       "CappedLinearRegression(copy_X=True, fit_intercept=True, n_jobs=None,\n",
       "            normalize=False)"
      ]
     },
     "execution_count": 24,
     "metadata": {},
     "output_type": "execute_result"
    }
   ],
   "source": [
    "#Print the parameterization of the best estimator\n",
    "regGridSearch.best_estimator_"
   ]
  },
  {
   "cell_type": "code",
   "execution_count": 25,
   "metadata": {},
   "outputs": [
    {
     "name": "stdout",
     "output_type": "stream",
     "text": [
      "The average MAE for all cv folds is: \t\t\t 0.25698\n",
      "The average MAE percentage (MAPE) for all cv folds is: \t 51.439\n",
      "The average RMSE for all cv folds is: \t\t\t 0.34501\n",
      "*********************************************************\n",
      "Cross Validation Fold Mean Error Scores\n"
     ]
    },
    {
     "data": {
      "text/html": [
       "<div>\n",
       "<style scoped>\n",
       "    .dataframe tbody tr th:only-of-type {\n",
       "        vertical-align: middle;\n",
       "    }\n",
       "\n",
       "    .dataframe tbody tr th {\n",
       "        vertical-align: top;\n",
       "    }\n",
       "\n",
       "    .dataframe thead th {\n",
       "        text-align: right;\n",
       "    }\n",
       "</style>\n",
       "<table border=\"1\" class=\"dataframe\">\n",
       "  <thead>\n",
       "    <tr style=\"text-align: right;\">\n",
       "      <th></th>\n",
       "      <th>MAE</th>\n",
       "      <th>MAPE</th>\n",
       "      <th>RMSE</th>\n",
       "    </tr>\n",
       "  </thead>\n",
       "  <tbody>\n",
       "    <tr>\n",
       "      <th>0</th>\n",
       "      <td>0.256406</td>\n",
       "      <td>51.782408</td>\n",
       "      <td>0.346596</td>\n",
       "    </tr>\n",
       "    <tr>\n",
       "      <th>1</th>\n",
       "      <td>0.265504</td>\n",
       "      <td>51.921621</td>\n",
       "      <td>0.353688</td>\n",
       "    </tr>\n",
       "    <tr>\n",
       "      <th>2</th>\n",
       "      <td>0.250419</td>\n",
       "      <td>50.820762</td>\n",
       "      <td>0.337775</td>\n",
       "    </tr>\n",
       "    <tr>\n",
       "      <th>3</th>\n",
       "      <td>0.257178</td>\n",
       "      <td>52.221215</td>\n",
       "      <td>0.344309</td>\n",
       "    </tr>\n",
       "    <tr>\n",
       "      <th>4</th>\n",
       "      <td>0.261450</td>\n",
       "      <td>51.158665</td>\n",
       "      <td>0.348505</td>\n",
       "    </tr>\n",
       "    <tr>\n",
       "      <th>5</th>\n",
       "      <td>0.248673</td>\n",
       "      <td>50.899687</td>\n",
       "      <td>0.337664</td>\n",
       "    </tr>\n",
       "    <tr>\n",
       "      <th>6</th>\n",
       "      <td>0.253525</td>\n",
       "      <td>51.324425</td>\n",
       "      <td>0.341316</td>\n",
       "    </tr>\n",
       "    <tr>\n",
       "      <th>7</th>\n",
       "      <td>0.265075</td>\n",
       "      <td>51.429387</td>\n",
       "      <td>0.352592</td>\n",
       "    </tr>\n",
       "    <tr>\n",
       "      <th>8</th>\n",
       "      <td>0.253363</td>\n",
       "      <td>51.585682</td>\n",
       "      <td>0.341340</td>\n",
       "    </tr>\n",
       "    <tr>\n",
       "      <th>9</th>\n",
       "      <td>0.258184</td>\n",
       "      <td>51.243562</td>\n",
       "      <td>0.346344</td>\n",
       "    </tr>\n",
       "  </tbody>\n",
       "</table>\n",
       "</div>"
      ],
      "text/plain": [
       "        MAE       MAPE      RMSE\n",
       "0  0.256406  51.782408  0.346596\n",
       "1  0.265504  51.921621  0.353688\n",
       "2  0.250419  50.820762  0.337775\n",
       "3  0.257178  52.221215  0.344309\n",
       "4  0.261450  51.158665  0.348505\n",
       "5  0.248673  50.899687  0.337664\n",
       "6  0.253525  51.324425  0.341316\n",
       "7  0.265075  51.429387  0.352592\n",
       "8  0.253363  51.585682  0.341340\n",
       "9  0.258184  51.243562  0.346344"
      ]
     },
     "execution_count": 25,
     "metadata": {},
     "output_type": "execute_result"
    }
   ],
   "source": [
    "#Create CappedLinearRegression predictions between 0 and 100% using the best parameters for our Linear Regression object\n",
    "regEstimator = regGridSearch.best_estimator_\n",
    "\n",
    "#Evaluate the regression estimator above using our pre-defined cross validation and scoring metrics. \n",
    "EvaluateRegressionEstimator(regEstimator, X, y, cv)"
   ]
  },
  {
   "cell_type": "code",
   "execution_count": null,
   "metadata": {},
   "outputs": [],
   "source": []
  },
  {
   "cell_type": "code",
   "execution_count": 26,
   "metadata": {},
   "outputs": [
    {
     "name": "stdout",
     "output_type": "stream",
     "text": [
      "The average MAE for all cv folds is: \t\t\t 0.29103\n",
      "The average MAE percentage (MAPE) for all cv folds is: \t 89.096\n",
      "The average RMSE for all cv folds is: \t\t\t 0.44569\n",
      "*********************************************************\n",
      "Cross Validation Fold Mean Error Scores\n"
     ]
    },
    {
     "data": {
      "text/html": [
       "<div>\n",
       "<style scoped>\n",
       "    .dataframe tbody tr th:only-of-type {\n",
       "        vertical-align: middle;\n",
       "    }\n",
       "\n",
       "    .dataframe tbody tr th {\n",
       "        vertical-align: top;\n",
       "    }\n",
       "\n",
       "    .dataframe thead th {\n",
       "        text-align: right;\n",
       "    }\n",
       "</style>\n",
       "<table border=\"1\" class=\"dataframe\">\n",
       "  <thead>\n",
       "    <tr style=\"text-align: right;\">\n",
       "      <th></th>\n",
       "      <th>MAE</th>\n",
       "      <th>MAPE</th>\n",
       "      <th>RMSE</th>\n",
       "    </tr>\n",
       "  </thead>\n",
       "  <tbody>\n",
       "    <tr>\n",
       "      <th>0</th>\n",
       "      <td>0.290245</td>\n",
       "      <td>89.092745</td>\n",
       "      <td>0.444867</td>\n",
       "    </tr>\n",
       "    <tr>\n",
       "      <th>1</th>\n",
       "      <td>0.308941</td>\n",
       "      <td>89.141177</td>\n",
       "      <td>0.465440</td>\n",
       "    </tr>\n",
       "    <tr>\n",
       "      <th>2</th>\n",
       "      <td>0.284809</td>\n",
       "      <td>89.033530</td>\n",
       "      <td>0.438616</td>\n",
       "    </tr>\n",
       "    <tr>\n",
       "      <th>3</th>\n",
       "      <td>0.288992</td>\n",
       "      <td>89.131751</td>\n",
       "      <td>0.443664</td>\n",
       "    </tr>\n",
       "    <tr>\n",
       "      <th>4</th>\n",
       "      <td>0.303069</td>\n",
       "      <td>89.094155</td>\n",
       "      <td>0.458973</td>\n",
       "    </tr>\n",
       "    <tr>\n",
       "      <th>5</th>\n",
       "      <td>0.284907</td>\n",
       "      <td>89.060114</td>\n",
       "      <td>0.438952</td>\n",
       "    </tr>\n",
       "    <tr>\n",
       "      <th>6</th>\n",
       "      <td>0.284831</td>\n",
       "      <td>89.071211</td>\n",
       "      <td>0.438769</td>\n",
       "    </tr>\n",
       "    <tr>\n",
       "      <th>7</th>\n",
       "      <td>0.292157</td>\n",
       "      <td>89.092968</td>\n",
       "      <td>0.447021</td>\n",
       "    </tr>\n",
       "    <tr>\n",
       "      <th>8</th>\n",
       "      <td>0.279830</td>\n",
       "      <td>89.084591</td>\n",
       "      <td>0.433056</td>\n",
       "    </tr>\n",
       "    <tr>\n",
       "      <th>9</th>\n",
       "      <td>0.292492</td>\n",
       "      <td>89.158394</td>\n",
       "      <td>0.447587</td>\n",
       "    </tr>\n",
       "  </tbody>\n",
       "</table>\n",
       "</div>"
      ],
      "text/plain": [
       "        MAE       MAPE      RMSE\n",
       "0  0.290245  89.092745  0.444867\n",
       "1  0.308941  89.141177  0.465440\n",
       "2  0.284809  89.033530  0.438616\n",
       "3  0.288992  89.131751  0.443664\n",
       "4  0.303069  89.094155  0.458973\n",
       "5  0.284907  89.060114  0.438952\n",
       "6  0.284831  89.071211  0.438769\n",
       "7  0.292157  89.092968  0.447021\n",
       "8  0.279830  89.084591  0.433056\n",
       "9  0.292492  89.158394  0.447587"
      ]
     },
     "execution_count": 26,
     "metadata": {},
     "output_type": "execute_result"
    }
   ],
   "source": [
    "from sklearn.svm import SVR\n",
    "\n",
    "#Create a regression estimator with best parameters for cross validation\n",
    "regEstimator = SVR(C=0.001, cache_size=1999, coef0=0.0, degree=3, epsilon=0.1,gamma='auto',\n",
    "                   kernel='rbf', max_iter=-1, shrinking=True, tol=0.001, verbose=False)\n",
    "\n",
    "#Evaluate the regression estimator above using our pre-defined cross validation and scoring metrics.\n",
    "EvaluateRegressionEstimator(regEstimator, X, y, cv)"
   ]
  },
  {
   "cell_type": "code",
   "execution_count": null,
   "metadata": {},
   "outputs": [],
   "source": []
  },
  {
   "cell_type": "code",
   "execution_count": null,
   "metadata": {},
   "outputs": [],
   "source": []
  }
 ],
 "metadata": {
  "kernelspec": {
   "display_name": "bril",
   "language": "python",
   "name": "bril"
  },
  "language_info": {
   "codemirror_mode": {
    "name": "ipython",
    "version": 3
   },
   "file_extension": ".py",
   "mimetype": "text/x-python",
   "name": "python",
   "nbconvert_exporter": "python",
   "pygments_lexer": "ipython3",
   "version": "3.7.3"
  }
 },
 "nbformat": 4,
 "nbformat_minor": 4
}
