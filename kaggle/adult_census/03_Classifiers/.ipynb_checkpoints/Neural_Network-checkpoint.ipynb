{
 "cells": [
  {
   "cell_type": "markdown",
   "metadata": {},
   "source": [
    "# Neural Network\n",
    "\n",
    "### MLPClassifier\n",
    "A multilayer perceptron (MLP) is a feedforward artificial neural network model that maps sets of input data onto a set of appropriate outputs.\n",
    "\n",
    "> class sklearn.neural_network.MLPClassifier(hidden_layer_sizes=(100, ), activation='relu', solver='adam', alpha=0.0001, batch_size='auto', learning_rate='constant', learning_rate_init=0.001, power_t=0.5, max_iter=200, shuffle=True, random_state=None, tol=0.0001, verbose=False, warm_start=False, momentum=0.9, nesterovs_momentum=True, early_stopping=False, validation_fraction=0.1, beta_1=0.9, beta_2=0.999, epsilon=1e-08, n_iter_no_change=10, max_fun=15000)\n",
    "\n",
    "\n",
    "Activation Functions\n",
    "* BinaryStep\n",
    "* Gaussian\n",
    "* HyperbolicTangent\n",
    "* Parametric Rectified Linear Unit\n",
    "* Sigmoid (default)\n",
    "* Thresholded Rectified Linear Unit\n",
    "\n",
    "\n",
    "_Resources_\n",
    "* https://scikit-learn.org/stable/modules/generated/sklearn.neural_network.MLPClassifier.html\n",
    "* https://php-ml.readthedocs.io/en/latest/machine-learning/neural-network/multilayer-perceptron-classifier/"
   ]
  },
  {
   "cell_type": "code",
   "execution_count": 6,
   "metadata": {},
   "outputs": [],
   "source": [
    "# Data Processing\n",
    "import pandas as pd\n",
    "import time\n",
    "import numpy as np\n",
    "import matplotlib.pyplot as plt\n",
    "%matplotlib inline\n",
    "\n",
    "\n",
    "# Ignore the warnings if any\n",
    "import warnings  \n",
    "warnings.filterwarnings('ignore')\n",
    "\n",
    "from sklearn.model_selection import train_test_split\n",
    "from sklearn import metrics\n",
    "from sklearn.metrics import classification_report, accuracy_score\n",
    "from sklearn.preprocessing import StandardScaler\n",
    "from sklearn.model_selection import cross_val_score\n",
    "\n",
    "# Load the dataset\n",
    "df = pd.read_csv(\"../data/lab2_df.csv\")\n",
    "\n",
    "# define variables for classificaiton training\n",
    "variables_ = ['age', 'fnlwgt', 'educationNum', 'hoursPerWeek', 'netCapital', 'isWhite', 'isMarried', 'isHusband', 'USA', 'sex_Male', 'jobtype_government', 'jobtype_other', 'jobtype_private']\n",
    "y=df['income']\n",
    "X=df[variables_]\n",
    "\n",
    "# test train scaler\n",
    "scaler = StandardScaler()\n",
    "X = scaler.fit_transform(X)\n",
    "\n",
    "# test train split\n",
    "X_train, X_test, y_train, y_test = train_test_split(X, y, test_size=0.2, random_state=0)\n",
    "\n",
    "# prepare cross validation\n",
    "from sklearn.model_selection import StratifiedKFold\n",
    "kfold = StratifiedKFold(n_splits=10, shuffle=True, random_state=7)"
   ]
  },
  {
   "cell_type": "code",
   "execution_count": 7,
   "metadata": {},
   "outputs": [
    {
     "name": "stdout",
     "output_type": "stream",
     "text": [
      "\n",
      "---- Accuracy Results for alpha=1 ----\n",
      "net alpha=1 Train accuracy: 0.880\n",
      "net alpha=1 Test accuracy: 0.876\n",
      "\n",
      "---- Accuracy Results for alpha=0.1 ----\n",
      "net alpha=0.1 Train accuracy: 0.891\n",
      "net alpha=0.1 Test accuracy: 0.877\n",
      "\n",
      "---- Accuracy Results for alpha=0.001 ----\n",
      "net alpha=0.001 Train accuracy: 0.888\n",
      "net alpha=0.001 Test accuracy: 0.869\n",
      "\n",
      "---- Accuracy Results for alpha=3 ----\n",
      "net alpha=3 Train accuracy: 0.870\n",
      "net alpha=3 Test accuracy: 0.868\n"
     ]
    }
   ],
   "source": [
    "from sklearn.neural_network import MLPClassifier\n",
    "\n",
    "parms = [1, 0.1, 0.001, 3 ]\n",
    "for param in parms:\n",
    "    net = MLPClassifier(random_state=0, max_iter=1000, alpha=param)\n",
    "    net.fit(X_train, y_train)\n",
    "    print(\"\")\n",
    "    print(\"---- Accuracy Results for alpha={} ----\".format(param))\n",
    "    print(\"net alpha={} Train accuracy: {:.3f}\".format(param,cross_val_score(net, X_train, y_train,scoring='roc_auc',cv=kfold).mean()))\n",
    "    print(\"net alpha={} Test accuracy: {:.3f}\".format(param,cross_val_score(net,  X_test, y_test,scoring='roc_auc',cv=kfold).mean()))\n",
    "    "
   ]
  },
  {
   "cell_type": "code",
   "execution_count": 11,
   "metadata": {},
   "outputs": [
    {
     "data": {
      "text/plain": [
       "<matplotlib.colorbar.Colorbar at 0x7fc89ff1f1d0>"
      ]
     },
     "execution_count": 11,
     "metadata": {},
     "output_type": "execute_result"
    },
    {
     "data": {
      "image/png": "[encoded data removed]",
      "text/plain": [
       "<Figure size 1440x360 with 2 Axes>"
      ]
     },
     "metadata": {
      "needs_background": "light"
     },
     "output_type": "display_data"
    }
   ],
   "source": [
    "plt.figure(figsize=(20, 5))\n",
    "plt.imshow(net.coefs_[0], interpolation='none', cmap='viridis')\n",
    "plt.yticks(range(len(variables_)), variables_)\n",
    "plt.xlabel(\"Columns in weight matrix\")\n",
    "plt.ylabel(\"Input feature\")\n",
    "plt.colorbar()"
   ]
  },
  {
   "cell_type": "code",
   "execution_count": null,
   "metadata": {},
   "outputs": [],
   "source": []
  },
  {
   "cell_type": "code",
   "execution_count": 4,
   "metadata": {},
   "outputs": [],
   "source": [
    "from sklearn.model_selection import GridSearchCV\n",
    "from sklearn.neural_network import MLPClassifier\n"
   ]
  },
  {
   "cell_type": "code",
   "execution_count": 5,
   "metadata": {},
   "outputs": [],
   "source": [
    "from sklearn.metrics import accuracy_score,roc_curve,auc,precision_score,recall_score,f1_score,roc_auc_score\n",
    "\n",
    "def evaluate(pre,pre_pro,y):\n",
    "    acc=accuracy_score(y,pre)\n",
    "    model_auc=roc_auc_score(y,pre)\n",
    "    model_pre=precision_score(y,pre)\n",
    "    model_recall=recall_score(y,pre)\n",
    "    model_f1=f1_score(y,pre)\n",
    "    fpr, tpr, thresholds =roc_curve(y,pre_pro[:,1])\n",
    "    return acc,model_auc,model_pre,model_recall,model_f1,fpr,tpr\n",
    "\n",
    "\n",
    "def model_eval(models):\n",
    "    for name,model in models:\n",
    "        print(name,'Start training...')\n",
    "        model.fit(X_train,y_train)\n",
    "\n",
    "        print(\"----{} Classifier Hyperparameter tuning Results ----\".format(name))\n",
    "        print(\"Best {} Score: {} \".format(name, model.best_score_))\n",
    "        print(\"Best {} Parameters: {} \".format(name,model.best_params_))\n",
    "\n",
    "        preds=model.predict(X_test)\n",
    "        pro=model.predict_proba(X_test)\n",
    "        acc,model_auc,model_pre,model_recall,model_f1,fpr,tpr=evaluate(preds,pro,y_test)\n",
    "\n",
    "        start = time.time()\n",
    "        model_results = cross_val_score(model, X_test, y_test,scoring='roc_auc',cv=kfold)\n",
    "        end = time.time() - start\n",
    "        print(\"\")\n",
    "        print(\"\")\n",
    "        print(\"Elapsed Time: %f\" % (end))\n",
    "        print(\"---- model selection ----\")\n",
    "        print(\"\")\n",
    "        print(\"{} Classifier test CV results: {}\".format(name,model_results ))\n",
    "        print(\"{} Classifier test MEAN CV results: {}\".format(name,model_results.mean()))\n",
    "\n",
    "        model_prediction = model.predict(X_test)\n",
    "        print(\"\")\n",
    "        print(\"\")\n",
    "        print(\"---- Classification Report ----\")\n",
    "        print(classification_report(y_test, model_prediction))\n",
    "\n",
    "        model_plot(fpr,tpr,name)"
   ]
  },
  {
   "cell_type": "code",
   "execution_count": 6,
   "metadata": {},
   "outputs": [
    {
     "name": "stdout",
     "output_type": "stream",
     "text": [
      "NeuralNet Start training...\n",
      "----NeuralNet Classifier Hyperparameter tuning Results ----\n",
      "Best NeuralNet Score: 0.8897890549610346 \n",
      "Best NeuralNet Parameters: {'alpha': 0.001, 'early_stopping': True, 'hidden_layer_sizes': 128} \n",
      "\n",
      "\n",
      "Elapsed Time: 566.286960\n",
      "---- model selection ----\n",
      "\n",
      "NeuralNet Classifier test CV results: [0.87400532 0.8947751  0.84112416 0.88148371 0.86538713 0.89483655\n",
      " 0.85417534 0.87412851 0.86295525 0.87670395]\n",
      "NeuralNet Classifier test MEAN CV results: 0.8719575035316701\n",
      "\n",
      "\n",
      "---- Classification Report ----\n",
      "              precision    recall  f1-score   support\n",
      "\n",
      "           0       0.85      0.94      0.90      4966\n",
      "           1       0.73      0.48      0.58      1547\n",
      "\n",
      "    accuracy                           0.83      6513\n",
      "   macro avg       0.79      0.71      0.74      6513\n",
      "weighted avg       0.82      0.83      0.82      6513\n",
      "\n"
     ]
    },
    {
     "ename": "NameError",
     "evalue": "name 'model_plot' is not defined",
     "output_type": "error",
     "traceback": [
      "\u001b[0;31m---------------------------------------------------------------------------\u001b[0m",
      "\u001b[0;31mNameError\u001b[0m                                 Traceback (most recent call last)",
      "\u001b[0;32m<ipython-input-6-19e6f4191d10>\u001b[0m in \u001b[0;36m<module>\u001b[0;34m\u001b[0m\n\u001b[1;32m      5\u001b[0m \u001b[0mnet\u001b[0m \u001b[0;34m=\u001b[0m \u001b[0mGridSearchCV\u001b[0m\u001b[0;34m(\u001b[0m\u001b[0mMLPClassifier\u001b[0m\u001b[0;34m(\u001b[0m\u001b[0;34m)\u001b[0m\u001b[0;34m,\u001b[0m \u001b[0mparam_grid\u001b[0m\u001b[0;34m,\u001b[0m \u001b[0mcv\u001b[0m\u001b[0;34m=\u001b[0m\u001b[0mkfold\u001b[0m\u001b[0;34m,\u001b[0m \u001b[0mscoring\u001b[0m\u001b[0;34m=\u001b[0m\u001b[0;34m'roc_auc'\u001b[0m\u001b[0;34m,\u001b[0m\u001b[0mn_jobs\u001b[0m\u001b[0;34m=\u001b[0m\u001b[0;34m-\u001b[0m\u001b[0;36m1\u001b[0m\u001b[0;34m)\u001b[0m\u001b[0;34m\u001b[0m\u001b[0;34m\u001b[0m\u001b[0m\n\u001b[1;32m      6\u001b[0m \u001b[0;34m\u001b[0m\u001b[0m\n\u001b[0;32m----> 7\u001b[0;31m \u001b[0mmodel_eval\u001b[0m\u001b[0;34m(\u001b[0m\u001b[0;34m[\u001b[0m\u001b[0;34m(\u001b[0m\u001b[0;34m\"NeuralNet\"\u001b[0m\u001b[0;34m,\u001b[0m \u001b[0mnet\u001b[0m\u001b[0;34m)\u001b[0m\u001b[0;34m]\u001b[0m\u001b[0;34m)\u001b[0m\u001b[0;34m\u001b[0m\u001b[0;34m\u001b[0m\u001b[0m\n\u001b[0m",
      "\u001b[0;32m<ipython-input-5-24a1832ae220>\u001b[0m in \u001b[0;36mmodel_eval\u001b[0;34m(models)\u001b[0m\n\u001b[1;32m     41\u001b[0m         \u001b[0mprint\u001b[0m\u001b[0;34m(\u001b[0m\u001b[0mclassification_report\u001b[0m\u001b[0;34m(\u001b[0m\u001b[0my_test\u001b[0m\u001b[0;34m,\u001b[0m \u001b[0mmodel_prediction\u001b[0m\u001b[0;34m)\u001b[0m\u001b[0;34m)\u001b[0m\u001b[0;34m\u001b[0m\u001b[0;34m\u001b[0m\u001b[0m\n\u001b[1;32m     42\u001b[0m \u001b[0;34m\u001b[0m\u001b[0m\n\u001b[0;32m---> 43\u001b[0;31m         \u001b[0mmodel_plot\u001b[0m\u001b[0;34m(\u001b[0m\u001b[0mfpr\u001b[0m\u001b[0;34m,\u001b[0m\u001b[0mtpr\u001b[0m\u001b[0;34m,\u001b[0m\u001b[0mname\u001b[0m\u001b[0;34m)\u001b[0m\u001b[0;34m\u001b[0m\u001b[0;34m\u001b[0m\u001b[0m\n\u001b[0m",
      "\u001b[0;31mNameError\u001b[0m: name 'model_plot' is not defined"
     ]
    }
   ],
   "source": [
    "param_grid = [{'early_stopping': [True],\n",
    "               'alpha': [0.0001, 0.001, 0.01],\n",
    "               'hidden_layer_sizes': [32, 64, (64, 64), 128, 256]\n",
    "              }]\n",
    "net = GridSearchCV(MLPClassifier(), param_grid, cv=kfold, scoring='roc_auc',n_jobs=-1)\n",
    "\n",
    "model_eval([(\"NeuralNet\", net)])"
   ]
  },
  {
   "cell_type": "code",
   "execution_count": null,
   "metadata": {},
   "outputs": [],
   "source": []
  },
  {
   "cell_type": "code",
   "execution_count": null,
   "metadata": {},
   "outputs": [],
   "source": []
  },
  {
   "cell_type": "code",
   "execution_count": null,
   "metadata": {},
   "outputs": [],
   "source": []
  },
  {
   "cell_type": "code",
   "execution_count": null,
   "metadata": {},
   "outputs": [],
   "source": []
  },
  {
   "cell_type": "code",
   "execution_count": null,
   "metadata": {},
   "outputs": [],
   "source": []
  },
  {
   "cell_type": "code",
   "execution_count": null,
   "metadata": {},
   "outputs": [],
   "source": []
  },
  {
   "cell_type": "code",
   "execution_count": null,
   "metadata": {},
   "outputs": [],
   "source": []
  },
  {
   "cell_type": "code",
   "execution_count": null,
   "metadata": {},
   "outputs": [],
   "source": []
  },
  {
   "cell_type": "code",
   "execution_count": null,
   "metadata": {},
   "outputs": [],
   "source": []
  },
  {
   "cell_type": "code",
   "execution_count": null,
   "metadata": {},
   "outputs": [],
   "source": []
  },
  {
   "cell_type": "code",
   "execution_count": null,
   "metadata": {},
   "outputs": [],
   "source": []
  },
  {
   "cell_type": "code",
   "execution_count": null,
   "metadata": {},
   "outputs": [],
   "source": []
  },
  {
   "cell_type": "code",
   "execution_count": null,
   "metadata": {},
   "outputs": [],
   "source": []
  },
  {
   "cell_type": "code",
   "execution_count": null,
   "metadata": {},
   "outputs": [],
   "source": []
  },
  {
   "cell_type": "code",
   "execution_count": null,
   "metadata": {},
   "outputs": [],
   "source": []
  },
  {
   "cell_type": "code",
   "execution_count": null,
   "metadata": {},
   "outputs": [],
   "source": []
  },
  {
   "cell_type": "code",
   "execution_count": null,
   "metadata": {},
   "outputs": [],
   "source": []
  },
  {
   "cell_type": "code",
   "execution_count": null,
   "metadata": {},
   "outputs": [],
   "source": []
  },
  {
   "cell_type": "code",
   "execution_count": null,
   "metadata": {},
   "outputs": [],
   "source": []
  },
  {
   "cell_type": "code",
   "execution_count": null,
   "metadata": {},
   "outputs": [],
   "source": []
  },
  {
   "cell_type": "code",
   "execution_count": null,
   "metadata": {},
   "outputs": [],
   "source": []
  },
  {
   "cell_type": "code",
   "execution_count": null,
   "metadata": {},
   "outputs": [],
   "source": []
  },
  {
   "cell_type": "code",
   "execution_count": null,
   "metadata": {},
   "outputs": [],
   "source": []
  },
  {
   "cell_type": "code",
   "execution_count": null,
   "metadata": {},
   "outputs": [],
   "source": []
  },
  {
   "cell_type": "code",
   "execution_count": null,
   "metadata": {},
   "outputs": [],
   "source": []
  },
  {
   "cell_type": "code",
   "execution_count": null,
   "metadata": {},
   "outputs": [],
   "source": []
  },
  {
   "cell_type": "code",
   "execution_count": null,
   "metadata": {},
   "outputs": [],
   "source": []
  },
  {
   "cell_type": "code",
   "execution_count": null,
   "metadata": {},
   "outputs": [],
   "source": []
  }
 ],
 "metadata": {
  "kernelspec": {
   "display_name": "bril",
   "language": "python",
   "name": "bril"
  },
  "language_info": {
   "codemirror_mode": {
    "name": "ipython",
    "version": 3
   },
   "file_extension": ".py",
   "mimetype": "text/x-python",
   "name": "python",
   "nbconvert_exporter": "python",
   "pygments_lexer": "ipython3",
   "version": "3.7.3"
  }
 },
 "nbformat": 4,
 "nbformat_minor": 4
}
